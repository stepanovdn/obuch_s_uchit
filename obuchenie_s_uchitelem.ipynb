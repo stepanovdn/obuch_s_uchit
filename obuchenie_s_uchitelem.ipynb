{
 "cells": [
  {
   "cell_type": "markdown",
   "metadata": {},
   "source": [
    "Ссылка на github: https://github.com/stepanovdn/obuch_s_uchit"
   ]
  },
  {
   "cell_type": "markdown",
   "metadata": {
    "toc": true
   },
   "source": [
    "<h1>Содержание<span class=\"tocSkip\"></span></h1>\n",
    "<div class=\"toc\"><ul class=\"toc-item\"><li><span><a href=\"#Подготовка-данных\" data-toc-modified-id=\"Подготовка-данных-1\"><span class=\"toc-item-num\">1&nbsp;&nbsp;</span>Подготовка данных</a></span></li><li><span><a href=\"#Исследование-задачи\" data-toc-modified-id=\"Исследование-задачи-2\"><span class=\"toc-item-num\">2&nbsp;&nbsp;</span>Исследование задачи</a></span><ul class=\"toc-item\"><li><span><a href=\"#Баланс-классов\" data-toc-modified-id=\"Баланс-классов-2.1\"><span class=\"toc-item-num\">2.1&nbsp;&nbsp;</span>Баланс классов</a></span></li><li><span><a href=\"#Исследование-моделей-без-учёта-дисбаланса\" data-toc-modified-id=\"Исследование-моделей-без-учёта-дисбаланса-2.2\"><span class=\"toc-item-num\">2.2&nbsp;&nbsp;</span>Исследование моделей без учёта дисбаланса</a></span><ul class=\"toc-item\"><li><span><a href=\"#Логистическая-регрессия\" data-toc-modified-id=\"Логистическая-регрессия-2.2.1\"><span class=\"toc-item-num\">2.2.1&nbsp;&nbsp;</span>Логистическая регрессия</a></span></li><li><span><a href=\"#Решающее-дерево\" data-toc-modified-id=\"Решающее-дерево-2.2.2\"><span class=\"toc-item-num\">2.2.2&nbsp;&nbsp;</span>Решающее дерево</a></span></li><li><span><a href=\"#Случайный-лес\" data-toc-modified-id=\"Случайный-лес-2.2.3\"><span class=\"toc-item-num\">2.2.3&nbsp;&nbsp;</span>Случайный лес</a></span></li><li><span><a href=\"#Выводы\" data-toc-modified-id=\"Выводы-2.2.4\"><span class=\"toc-item-num\">2.2.4&nbsp;&nbsp;</span>Выводы</a></span></li></ul></li></ul></li><li><span><a href=\"#Борьба-с-дисбалансом\" data-toc-modified-id=\"Борьба-с-дисбалансом-3\"><span class=\"toc-item-num\">3&nbsp;&nbsp;</span>Борьба с дисбалансом</a></span><ul class=\"toc-item\"><li><span><a href=\"#Взвешивание-классов\" data-toc-modified-id=\"Взвешивание-классов-3.1\"><span class=\"toc-item-num\">3.1&nbsp;&nbsp;</span>Взвешивание классов</a></span></li><li><span><a href=\"#Увеличение-выборки\" data-toc-modified-id=\"Увеличение-выборки-3.2\"><span class=\"toc-item-num\">3.2&nbsp;&nbsp;</span>Увеличение выборки</a></span></li><li><span><a href=\"#Уменьшение-выборки\" data-toc-modified-id=\"Уменьшение-выборки-3.3\"><span class=\"toc-item-num\">3.3&nbsp;&nbsp;</span>Уменьшение выборки</a></span></li><li><span><a href=\"#Выводы\" data-toc-modified-id=\"Выводы-3.4\"><span class=\"toc-item-num\">3.4&nbsp;&nbsp;</span>Выводы</a></span></li></ul></li><li><span><a href=\"#Тестирование-модели\" data-toc-modified-id=\"Тестирование-модели-4\"><span class=\"toc-item-num\">4&nbsp;&nbsp;</span>Тестирование модели</a></span></li><li><span><a href=\"#Чек-лист-готовности-проекта\" data-toc-modified-id=\"Чек-лист-готовности-проекта-5\"><span class=\"toc-item-num\">5&nbsp;&nbsp;</span>Чек-лист готовности проекта</a></span></li></ul></div>"
   ]
  },
  {
   "cell_type": "markdown",
   "metadata": {},
   "source": [
    "# Отток клиентов"
   ]
  },
  {
   "cell_type": "markdown",
   "metadata": {},
   "source": [
    "Из «Бета-Банка» стали уходить клиенты. Каждый месяц. Немного, но заметно. Банковские маркетологи посчитали: сохранять текущих клиентов дешевле, чем привлекать новых.\n",
    "\n",
    "Нужно спрогнозировать, уйдёт клиент из банка в ближайшее время или нет. Вам предоставлены исторические данные о поведении клиентов и расторжении договоров с банком. \n",
    "\n",
    "Постройте модель с предельно большим значением *F1*-меры. Чтобы сдать проект успешно, нужно довести метрику до 0.59. Проверьте *F1*-меру на тестовой выборке самостоятельно.\n",
    "\n",
    "Дополнительно измеряйте *AUC-ROC*, сравнивайте её значение с *F1*-мерой.\n",
    "\n",
    "Источник данных: [https://www.kaggle.com/barelydedicated/bank-customer-churn-modeling](https://www.kaggle.com/barelydedicated/bank-customer-churn-modeling)"
   ]
  },
  {
   "cell_type": "markdown",
   "metadata": {},
   "source": [
    "## Подготовка данных"
   ]
  },
  {
   "cell_type": "code",
   "execution_count": 425,
   "metadata": {},
   "outputs": [],
   "source": [
    "import pandas as pd\n",
    "from sklearn.model_selection import train_test_split\n",
    "from sklearn.ensemble import RandomForestClassifier\n",
    "from sklearn.metrics import accuracy_score \n",
    "from sklearn.linear_model import LogisticRegression \n",
    "import matplotlib.pyplot as plt\n",
    "%matplotlib inline\n",
    "from sklearn import tree\n",
    "from sklearn.utils import shuffle\n",
    "from tqdm import tqdm\n",
    "import math\n",
    "from sklearn.preprocessing import StandardScaler \n",
    "from sklearn.preprocessing import OrdinalEncoder \n",
    "from sklearn.metrics import f1_score\n",
    "from sklearn.metrics import roc_curve \n",
    "from sklearn.metrics import roc_auc_score \n",
    "from sklearn.metrics import accuracy_score\n",
    "from sklearn.metrics import precision_recall_curve\n",
    "from sklearn.tree import DecisionTreeClassifier\n",
    "from sklearn.metrics import plot_confusion_matrix\n",
    "import random\n",
    "import numpy as np\n",
    "from catboost import CatBoostClassifier\n",
    "import os\n",
    "import numpy as np\n",
    "np.set_printoptions(precision=4)\n",
    "import catboost\n",
    "from catboost import * \n",
    "from catboost import datasets\n",
    "from catboost.utils import create_cd\n",
    "#from sklearn.model_selection import RandomizedSearchCV\n",
    "from scipy.stats import randint\n",
    "from sklearn.metrics import make_scorer\n",
    "from sklearn.model_selection import GridSearchCV"
   ]
  },
  {
   "cell_type": "code",
   "execution_count": 426,
   "metadata": {},
   "outputs": [
    {
     "data": {
      "text/html": [
       "<div>\n",
       "<style scoped>\n",
       "    .dataframe tbody tr th:only-of-type {\n",
       "        vertical-align: middle;\n",
       "    }\n",
       "\n",
       "    .dataframe tbody tr th {\n",
       "        vertical-align: top;\n",
       "    }\n",
       "\n",
       "    .dataframe thead th {\n",
       "        text-align: right;\n",
       "    }\n",
       "</style>\n",
       "<table border=\"1\" class=\"dataframe\">\n",
       "  <thead>\n",
       "    <tr style=\"text-align: right;\">\n",
       "      <th></th>\n",
       "      <th>CustomerId</th>\n",
       "      <th>Surname</th>\n",
       "      <th>CreditScore</th>\n",
       "      <th>Geography</th>\n",
       "      <th>Gender</th>\n",
       "      <th>Age</th>\n",
       "      <th>Tenure</th>\n",
       "      <th>Balance</th>\n",
       "      <th>NumOfProducts</th>\n",
       "      <th>HasCrCard</th>\n",
       "      <th>IsActiveMember</th>\n",
       "      <th>EstimatedSalary</th>\n",
       "      <th>Exited</th>\n",
       "    </tr>\n",
       "    <tr>\n",
       "      <th>RowNumber</th>\n",
       "      <th></th>\n",
       "      <th></th>\n",
       "      <th></th>\n",
       "      <th></th>\n",
       "      <th></th>\n",
       "      <th></th>\n",
       "      <th></th>\n",
       "      <th></th>\n",
       "      <th></th>\n",
       "      <th></th>\n",
       "      <th></th>\n",
       "      <th></th>\n",
       "      <th></th>\n",
       "    </tr>\n",
       "  </thead>\n",
       "  <tbody>\n",
       "    <tr>\n",
       "      <th>1</th>\n",
       "      <td>15634602</td>\n",
       "      <td>Hargrave</td>\n",
       "      <td>619</td>\n",
       "      <td>France</td>\n",
       "      <td>Female</td>\n",
       "      <td>42</td>\n",
       "      <td>2.0</td>\n",
       "      <td>0.00</td>\n",
       "      <td>1</td>\n",
       "      <td>1</td>\n",
       "      <td>1</td>\n",
       "      <td>101348.88</td>\n",
       "      <td>1</td>\n",
       "    </tr>\n",
       "    <tr>\n",
       "      <th>2</th>\n",
       "      <td>15647311</td>\n",
       "      <td>Hill</td>\n",
       "      <td>608</td>\n",
       "      <td>Spain</td>\n",
       "      <td>Female</td>\n",
       "      <td>41</td>\n",
       "      <td>1.0</td>\n",
       "      <td>83807.86</td>\n",
       "      <td>1</td>\n",
       "      <td>0</td>\n",
       "      <td>1</td>\n",
       "      <td>112542.58</td>\n",
       "      <td>0</td>\n",
       "    </tr>\n",
       "    <tr>\n",
       "      <th>3</th>\n",
       "      <td>15619304</td>\n",
       "      <td>Onio</td>\n",
       "      <td>502</td>\n",
       "      <td>France</td>\n",
       "      <td>Female</td>\n",
       "      <td>42</td>\n",
       "      <td>8.0</td>\n",
       "      <td>159660.80</td>\n",
       "      <td>3</td>\n",
       "      <td>1</td>\n",
       "      <td>0</td>\n",
       "      <td>113931.57</td>\n",
       "      <td>1</td>\n",
       "    </tr>\n",
       "    <tr>\n",
       "      <th>4</th>\n",
       "      <td>15701354</td>\n",
       "      <td>Boni</td>\n",
       "      <td>699</td>\n",
       "      <td>France</td>\n",
       "      <td>Female</td>\n",
       "      <td>39</td>\n",
       "      <td>1.0</td>\n",
       "      <td>0.00</td>\n",
       "      <td>2</td>\n",
       "      <td>0</td>\n",
       "      <td>0</td>\n",
       "      <td>93826.63</td>\n",
       "      <td>0</td>\n",
       "    </tr>\n",
       "    <tr>\n",
       "      <th>5</th>\n",
       "      <td>15737888</td>\n",
       "      <td>Mitchell</td>\n",
       "      <td>850</td>\n",
       "      <td>Spain</td>\n",
       "      <td>Female</td>\n",
       "      <td>43</td>\n",
       "      <td>2.0</td>\n",
       "      <td>125510.82</td>\n",
       "      <td>1</td>\n",
       "      <td>1</td>\n",
       "      <td>1</td>\n",
       "      <td>79084.10</td>\n",
       "      <td>0</td>\n",
       "    </tr>\n",
       "  </tbody>\n",
       "</table>\n",
       "</div>"
      ],
      "text/plain": [
       "           CustomerId   Surname  CreditScore Geography  Gender  Age  Tenure  \\\n",
       "RowNumber                                                                     \n",
       "1            15634602  Hargrave          619    France  Female   42     2.0   \n",
       "2            15647311      Hill          608     Spain  Female   41     1.0   \n",
       "3            15619304      Onio          502    France  Female   42     8.0   \n",
       "4            15701354      Boni          699    France  Female   39     1.0   \n",
       "5            15737888  Mitchell          850     Spain  Female   43     2.0   \n",
       "\n",
       "             Balance  NumOfProducts  HasCrCard  IsActiveMember  \\\n",
       "RowNumber                                                        \n",
       "1               0.00              1          1               1   \n",
       "2           83807.86              1          0               1   \n",
       "3          159660.80              3          1               0   \n",
       "4               0.00              2          0               0   \n",
       "5          125510.82              1          1               1   \n",
       "\n",
       "           EstimatedSalary  Exited  \n",
       "RowNumber                           \n",
       "1                101348.88       1  \n",
       "2                112542.58       0  \n",
       "3                113931.57       1  \n",
       "4                 93826.63       0  \n",
       "5                 79084.10       0  "
      ]
     },
     "execution_count": 426,
     "metadata": {},
     "output_type": "execute_result"
    }
   ],
   "source": [
    "df = pd.read_csv('./datasets/Churn.csv', index_col='RowNumber')\n",
    "df.head()"
   ]
  },
  {
   "cell_type": "code",
   "execution_count": 427,
   "metadata": {},
   "outputs": [
    {
     "name": "stdout",
     "output_type": "stream",
     "text": [
      "<class 'pandas.core.frame.DataFrame'>\n",
      "Int64Index: 10000 entries, 1 to 10000\n",
      "Data columns (total 13 columns):\n",
      " #   Column           Non-Null Count  Dtype  \n",
      "---  ------           --------------  -----  \n",
      " 0   CustomerId       10000 non-null  int64  \n",
      " 1   Surname          10000 non-null  object \n",
      " 2   CreditScore      10000 non-null  int64  \n",
      " 3   Geography        10000 non-null  object \n",
      " 4   Gender           10000 non-null  object \n",
      " 5   Age              10000 non-null  int64  \n",
      " 6   Tenure           9091 non-null   float64\n",
      " 7   Balance          10000 non-null  float64\n",
      " 8   NumOfProducts    10000 non-null  int64  \n",
      " 9   HasCrCard        10000 non-null  int64  \n",
      " 10  IsActiveMember   10000 non-null  int64  \n",
      " 11  EstimatedSalary  10000 non-null  float64\n",
      " 12  Exited           10000 non-null  int64  \n",
      "dtypes: float64(3), int64(7), object(3)\n",
      "memory usage: 1.1+ MB\n"
     ]
    }
   ],
   "source": [
    "df.info()"
   ]
  },
  {
   "cell_type": "code",
   "execution_count": 428,
   "metadata": {},
   "outputs": [
    {
     "data": {
      "text/html": [
       "<div>\n",
       "<style scoped>\n",
       "    .dataframe tbody tr th:only-of-type {\n",
       "        vertical-align: middle;\n",
       "    }\n",
       "\n",
       "    .dataframe tbody tr th {\n",
       "        vertical-align: top;\n",
       "    }\n",
       "\n",
       "    .dataframe thead th {\n",
       "        text-align: right;\n",
       "    }\n",
       "</style>\n",
       "<table border=\"1\" class=\"dataframe\">\n",
       "  <thead>\n",
       "    <tr style=\"text-align: right;\">\n",
       "      <th></th>\n",
       "      <th>CustomerId</th>\n",
       "      <th>CreditScore</th>\n",
       "      <th>Age</th>\n",
       "      <th>Tenure</th>\n",
       "      <th>Balance</th>\n",
       "      <th>NumOfProducts</th>\n",
       "      <th>HasCrCard</th>\n",
       "      <th>IsActiveMember</th>\n",
       "      <th>EstimatedSalary</th>\n",
       "      <th>Exited</th>\n",
       "    </tr>\n",
       "  </thead>\n",
       "  <tbody>\n",
       "    <tr>\n",
       "      <th>count</th>\n",
       "      <td>1.000000e+04</td>\n",
       "      <td>10000.000000</td>\n",
       "      <td>10000.000000</td>\n",
       "      <td>9091.000000</td>\n",
       "      <td>10000.000000</td>\n",
       "      <td>10000.000000</td>\n",
       "      <td>10000.00000</td>\n",
       "      <td>10000.000000</td>\n",
       "      <td>10000.000000</td>\n",
       "      <td>10000.000000</td>\n",
       "    </tr>\n",
       "    <tr>\n",
       "      <th>mean</th>\n",
       "      <td>1.569094e+07</td>\n",
       "      <td>650.528800</td>\n",
       "      <td>38.921800</td>\n",
       "      <td>4.997690</td>\n",
       "      <td>76485.889288</td>\n",
       "      <td>1.530200</td>\n",
       "      <td>0.70550</td>\n",
       "      <td>0.515100</td>\n",
       "      <td>100090.239881</td>\n",
       "      <td>0.203700</td>\n",
       "    </tr>\n",
       "    <tr>\n",
       "      <th>std</th>\n",
       "      <td>7.193619e+04</td>\n",
       "      <td>96.653299</td>\n",
       "      <td>10.487806</td>\n",
       "      <td>2.894723</td>\n",
       "      <td>62397.405202</td>\n",
       "      <td>0.581654</td>\n",
       "      <td>0.45584</td>\n",
       "      <td>0.499797</td>\n",
       "      <td>57510.492818</td>\n",
       "      <td>0.402769</td>\n",
       "    </tr>\n",
       "    <tr>\n",
       "      <th>min</th>\n",
       "      <td>1.556570e+07</td>\n",
       "      <td>350.000000</td>\n",
       "      <td>18.000000</td>\n",
       "      <td>0.000000</td>\n",
       "      <td>0.000000</td>\n",
       "      <td>1.000000</td>\n",
       "      <td>0.00000</td>\n",
       "      <td>0.000000</td>\n",
       "      <td>11.580000</td>\n",
       "      <td>0.000000</td>\n",
       "    </tr>\n",
       "    <tr>\n",
       "      <th>25%</th>\n",
       "      <td>1.562853e+07</td>\n",
       "      <td>584.000000</td>\n",
       "      <td>32.000000</td>\n",
       "      <td>2.000000</td>\n",
       "      <td>0.000000</td>\n",
       "      <td>1.000000</td>\n",
       "      <td>0.00000</td>\n",
       "      <td>0.000000</td>\n",
       "      <td>51002.110000</td>\n",
       "      <td>0.000000</td>\n",
       "    </tr>\n",
       "    <tr>\n",
       "      <th>50%</th>\n",
       "      <td>1.569074e+07</td>\n",
       "      <td>652.000000</td>\n",
       "      <td>37.000000</td>\n",
       "      <td>5.000000</td>\n",
       "      <td>97198.540000</td>\n",
       "      <td>1.000000</td>\n",
       "      <td>1.00000</td>\n",
       "      <td>1.000000</td>\n",
       "      <td>100193.915000</td>\n",
       "      <td>0.000000</td>\n",
       "    </tr>\n",
       "    <tr>\n",
       "      <th>75%</th>\n",
       "      <td>1.575323e+07</td>\n",
       "      <td>718.000000</td>\n",
       "      <td>44.000000</td>\n",
       "      <td>7.000000</td>\n",
       "      <td>127644.240000</td>\n",
       "      <td>2.000000</td>\n",
       "      <td>1.00000</td>\n",
       "      <td>1.000000</td>\n",
       "      <td>149388.247500</td>\n",
       "      <td>0.000000</td>\n",
       "    </tr>\n",
       "    <tr>\n",
       "      <th>max</th>\n",
       "      <td>1.581569e+07</td>\n",
       "      <td>850.000000</td>\n",
       "      <td>92.000000</td>\n",
       "      <td>10.000000</td>\n",
       "      <td>250898.090000</td>\n",
       "      <td>4.000000</td>\n",
       "      <td>1.00000</td>\n",
       "      <td>1.000000</td>\n",
       "      <td>199992.480000</td>\n",
       "      <td>1.000000</td>\n",
       "    </tr>\n",
       "  </tbody>\n",
       "</table>\n",
       "</div>"
      ],
      "text/plain": [
       "         CustomerId   CreditScore           Age       Tenure        Balance  \\\n",
       "count  1.000000e+04  10000.000000  10000.000000  9091.000000   10000.000000   \n",
       "mean   1.569094e+07    650.528800     38.921800     4.997690   76485.889288   \n",
       "std    7.193619e+04     96.653299     10.487806     2.894723   62397.405202   \n",
       "min    1.556570e+07    350.000000     18.000000     0.000000       0.000000   \n",
       "25%    1.562853e+07    584.000000     32.000000     2.000000       0.000000   \n",
       "50%    1.569074e+07    652.000000     37.000000     5.000000   97198.540000   \n",
       "75%    1.575323e+07    718.000000     44.000000     7.000000  127644.240000   \n",
       "max    1.581569e+07    850.000000     92.000000    10.000000  250898.090000   \n",
       "\n",
       "       NumOfProducts    HasCrCard  IsActiveMember  EstimatedSalary  \\\n",
       "count   10000.000000  10000.00000    10000.000000     10000.000000   \n",
       "mean        1.530200      0.70550        0.515100    100090.239881   \n",
       "std         0.581654      0.45584        0.499797     57510.492818   \n",
       "min         1.000000      0.00000        0.000000        11.580000   \n",
       "25%         1.000000      0.00000        0.000000     51002.110000   \n",
       "50%         1.000000      1.00000        1.000000    100193.915000   \n",
       "75%         2.000000      1.00000        1.000000    149388.247500   \n",
       "max         4.000000      1.00000        1.000000    199992.480000   \n",
       "\n",
       "             Exited  \n",
       "count  10000.000000  \n",
       "mean       0.203700  \n",
       "std        0.402769  \n",
       "min        0.000000  \n",
       "25%        0.000000  \n",
       "50%        0.000000  \n",
       "75%        0.000000  \n",
       "max        1.000000  "
      ]
     },
     "execution_count": 428,
     "metadata": {},
     "output_type": "execute_result"
    }
   ],
   "source": [
    "df.describe()"
   ]
  },
  {
   "cell_type": "code",
   "execution_count": 429,
   "metadata": {},
   "outputs": [
    {
     "data": {
      "text/plain": [
       "Male      5457\n",
       "Female    4543\n",
       "Name: Gender, dtype: int64"
      ]
     },
     "execution_count": 429,
     "metadata": {},
     "output_type": "execute_result"
    }
   ],
   "source": [
    "df['Gender'].value_counts()"
   ]
  },
  {
   "cell_type": "markdown",
   "metadata": {},
   "source": [
    "Пропусков в столбце пола нет."
   ]
  },
  {
   "cell_type": "code",
   "execution_count": 430,
   "metadata": {},
   "outputs": [
    {
     "data": {
      "text/plain": [
       "Smith        32\n",
       "Scott        29\n",
       "Martin       29\n",
       "Walker       28\n",
       "Brown        26\n",
       "             ..\n",
       "Remington     1\n",
       "Bromby        1\n",
       "Hearn         1\n",
       "Allnutt       1\n",
       "Colon         1\n",
       "Name: Surname, Length: 2932, dtype: int64"
      ]
     },
     "execution_count": 430,
     "metadata": {},
     "output_type": "execute_result"
    }
   ],
   "source": [
    "df['Surname'].value_counts()"
   ]
  },
  {
   "cell_type": "code",
   "execution_count": 431,
   "metadata": {},
   "outputs": [
    {
     "data": {
      "text/plain": [
       "France     5014\n",
       "Germany    2509\n",
       "Spain      2477\n",
       "Name: Geography, dtype: int64"
      ]
     },
     "execution_count": 431,
     "metadata": {},
     "output_type": "execute_result"
    }
   ],
   "source": [
    "df['Geography'].value_counts()"
   ]
  },
  {
   "cell_type": "code",
   "execution_count": 432,
   "metadata": {
    "scrolled": true
   },
   "outputs": [
    {
     "data": {
      "text/plain": [
       "<AxesSubplot:>"
      ]
     },
     "execution_count": 432,
     "metadata": {},
     "output_type": "execute_result"
    },
    {
     "data": {
      "image/png": "[encoded data removed]",
      "text/plain": [
       "<Figure size 432x288 with 1 Axes>"
      ]
     },
     "metadata": {
      "needs_background": "light"
     },
     "output_type": "display_data"
    }
   ],
   "source": [
    "df['CreditScore'].hist(bins=50)"
   ]
  },
  {
   "cell_type": "markdown",
   "metadata": {},
   "source": [
    "Из описания данных видно, что кредитный рейтинг считается в диапазоне от 350 до 850. Судя по графику есть чуть меньше 300 пользователей с максимальным кредитным рейтингом."
   ]
  },
  {
   "cell_type": "code",
   "execution_count": 433,
   "metadata": {},
   "outputs": [
    {
     "data": {
      "text/plain": [
       "<AxesSubplot:>"
      ]
     },
     "execution_count": 433,
     "metadata": {},
     "output_type": "execute_result"
    },
    {
     "data": {
      "image/png": "[encoded data removed]",
      "text/plain": [
       "<Figure size 432x288 with 1 Axes>"
      ]
     },
     "metadata": {
      "needs_background": "light"
     },
     "output_type": "display_data"
    }
   ],
   "source": [
    "df['Age'].hist(bins=50)"
   ]
  },
  {
   "cell_type": "markdown",
   "metadata": {},
   "source": [
    "Из описания данных возраст в диапазоне от 18 до 92."
   ]
  },
  {
   "cell_type": "code",
   "execution_count": 434,
   "metadata": {},
   "outputs": [
    {
     "data": {
      "text/plain": [
       "1    5084\n",
       "2    4590\n",
       "3     266\n",
       "4      60\n",
       "Name: NumOfProducts, dtype: int64"
      ]
     },
     "execution_count": 434,
     "metadata": {},
     "output_type": "execute_result"
    }
   ],
   "source": [
    "df['NumOfProducts'].value_counts()"
   ]
  },
  {
   "cell_type": "markdown",
   "metadata": {},
   "source": [
    "В основном 1 или 2 продукта, 3 или 4 существенно реже."
   ]
  },
  {
   "cell_type": "code",
   "execution_count": 435,
   "metadata": {},
   "outputs": [
    {
     "data": {
      "text/plain": [
       "1    5151\n",
       "0    4849\n",
       "Name: IsActiveMember, dtype: int64"
      ]
     },
     "execution_count": 435,
     "metadata": {},
     "output_type": "execute_result"
    }
   ],
   "source": [
    "df['IsActiveMember'].value_counts()"
   ]
  },
  {
   "cell_type": "code",
   "execution_count": 436,
   "metadata": {},
   "outputs": [
    {
     "data": {
      "text/plain": [
       "CustomerId           0\n",
       "Surname              0\n",
       "CreditScore          0\n",
       "Geography            0\n",
       "Gender               0\n",
       "Age                  0\n",
       "Tenure             909\n",
       "Balance              0\n",
       "NumOfProducts        0\n",
       "HasCrCard            0\n",
       "IsActiveMember       0\n",
       "EstimatedSalary      0\n",
       "Exited               0\n",
       "dtype: int64"
      ]
     },
     "execution_count": 436,
     "metadata": {},
     "output_type": "execute_result"
    }
   ],
   "source": [
    "df.isna().sum()"
   ]
  },
  {
   "cell_type": "markdown",
   "metadata": {},
   "source": [
    "Нехочется из-за нехватки данных в одном столце 'Tenure' исключать другие данные об 909 клиентах. Возможно на то уйдёт ли клиент признак того сколько лет человек является клиентом банка влияет не самым значительным образом."
   ]
  },
  {
   "cell_type": "code",
   "execution_count": 437,
   "metadata": {},
   "outputs": [
    {
     "data": {
      "text/plain": [
       "<AxesSubplot:>"
      ]
     },
     "execution_count": 437,
     "metadata": {},
     "output_type": "execute_result"
    },
    {
     "data": {
      "image/png": "[encoded data removed]",
      "text/plain": [
       "<Figure size 432x288 with 1 Axes>"
      ]
     },
     "metadata": {
      "needs_background": "light"
     },
     "output_type": "display_data"
    }
   ],
   "source": [
    "df['Tenure'].hist(bins=10)"
   ]
  },
  {
   "cell_type": "code",
   "execution_count": 438,
   "metadata": {},
   "outputs": [
    {
     "data": {
      "text/plain": [
       "array([ 2.,  1.,  8.,  7.,  4.,  6.,  3., 10.,  5.,  9.,  0., nan])"
      ]
     },
     "execution_count": 438,
     "metadata": {},
     "output_type": "execute_result"
    }
   ],
   "source": [
    "df['Tenure'].unique()"
   ]
  },
  {
   "cell_type": "code",
   "execution_count": 439,
   "metadata": {},
   "outputs": [],
   "source": [
    "df['Tenure'] = df['Tenure'].apply(lambda x: None if pd.isnull(x) else '{0:.0f}'.format(pd.to_numeric(x)))"
   ]
  },
  {
   "cell_type": "code",
   "execution_count": 440,
   "metadata": {},
   "outputs": [
    {
     "data": {
      "text/plain": [
       "array(['2', '1', '8', '7', '4', '6', '3', '10', '5', '9', '0', None],\n",
       "      dtype=object)"
      ]
     },
     "execution_count": 440,
     "metadata": {},
     "output_type": "execute_result"
    }
   ],
   "source": [
    "df['Tenure'].unique()"
   ]
  },
  {
   "cell_type": "code",
   "execution_count": 441,
   "metadata": {},
   "outputs": [],
   "source": [
    "df['Tenure'] = df['Tenure'].fillna(-1)\n",
    "df['Tenure'] = df['Tenure'].astype(int)\n",
    "df['Tenure'] = df['Tenure'].replace(-1, np.nan)"
   ]
  },
  {
   "cell_type": "code",
   "execution_count": 442,
   "metadata": {},
   "outputs": [
    {
     "data": {
      "text/plain": [
       "array([ 2.,  1.,  8.,  7.,  4.,  6.,  3., 10.,  5.,  9.,  0., nan])"
      ]
     },
     "execution_count": 442,
     "metadata": {},
     "output_type": "execute_result"
    }
   ],
   "source": [
    "df['Tenure'].unique()"
   ]
  },
  {
   "cell_type": "code",
   "execution_count": 443,
   "metadata": {},
   "outputs": [],
   "source": [
    "# Без этого результаты метрик различаются от запуска к запуску.\n",
    "random.seed(42)"
   ]
  },
  {
   "cell_type": "code",
   "execution_count": 444,
   "metadata": {},
   "outputs": [],
   "source": [
    "df['Tenure'] = df.Tenure.apply(lambda x: random.choice(range(0,11)) if np.isnan(x) else x)"
   ]
  },
  {
   "cell_type": "code",
   "execution_count": 445,
   "metadata": {},
   "outputs": [
    {
     "data": {
      "text/plain": [
       "array([ 2.,  1.,  8.,  7.,  4.,  6.,  3., 10.,  5.,  9.,  0.])"
      ]
     },
     "execution_count": 445,
     "metadata": {},
     "output_type": "execute_result"
    }
   ],
   "source": [
    "df['Tenure'].unique()"
   ]
  },
  {
   "cell_type": "code",
   "execution_count": 446,
   "metadata": {},
   "outputs": [
    {
     "data": {
      "text/plain": [
       "<AxesSubplot:>"
      ]
     },
     "execution_count": 446,
     "metadata": {},
     "output_type": "execute_result"
    },
    {
     "data": {
      "image/png": "[encoded data removed]",
      "text/plain": [
       "<Figure size 432x288 with 1 Axes>"
      ]
     },
     "metadata": {
      "needs_background": "light"
     },
     "output_type": "display_data"
    }
   ],
   "source": [
    "df['Tenure'].hist(bins=10)"
   ]
  },
  {
   "cell_type": "code",
   "execution_count": 447,
   "metadata": {
    "scrolled": true
   },
   "outputs": [
    {
     "data": {
      "text/plain": [
       "CustomerId         0\n",
       "Surname            0\n",
       "CreditScore        0\n",
       "Geography          0\n",
       "Gender             0\n",
       "Age                0\n",
       "Tenure             0\n",
       "Balance            0\n",
       "NumOfProducts      0\n",
       "HasCrCard          0\n",
       "IsActiveMember     0\n",
       "EstimatedSalary    0\n",
       "Exited             0\n",
       "dtype: int64"
      ]
     },
     "execution_count": 447,
     "metadata": {},
     "output_type": "execute_result"
    }
   ],
   "source": [
    "df.isna().sum()"
   ]
  },
  {
   "cell_type": "markdown",
   "metadata": {},
   "source": [
    "## Исследование задачи"
   ]
  },
  {
   "cell_type": "markdown",
   "metadata": {},
   "source": [
    "### Баланс классов"
   ]
  },
  {
   "cell_type": "code",
   "execution_count": 448,
   "metadata": {},
   "outputs": [
    {
     "data": {
      "text/plain": [
       "0    7963\n",
       "1    2037\n",
       "Name: Exited, dtype: int64"
      ]
     },
     "execution_count": 448,
     "metadata": {},
     "output_type": "execute_result"
    }
   ],
   "source": [
    "df['Exited'].value_counts()"
   ]
  },
  {
   "cell_type": "markdown",
   "metadata": {},
   "source": [
    "Видим, что есть дисбаланс классов. Тех кто ушёл в 4 раза меньше чем тех, кто остался клиентом банка."
   ]
  },
  {
   "cell_type": "markdown",
   "metadata": {},
   "source": [
    "### Исследование моделей без учёта дисбаланса"
   ]
  },
  {
   "cell_type": "markdown",
   "metadata": {},
   "source": [
    "Сомнительно, что фамилии и дентификаторы клиентов могут как-то влиять на отток, поэтому удалим столбец с фамилиями и идентификаторами."
   ]
  },
  {
   "cell_type": "code",
   "execution_count": 449,
   "metadata": {},
   "outputs": [
    {
     "data": {
      "text/html": [
       "<div>\n",
       "<style scoped>\n",
       "    .dataframe tbody tr th:only-of-type {\n",
       "        vertical-align: middle;\n",
       "    }\n",
       "\n",
       "    .dataframe tbody tr th {\n",
       "        vertical-align: top;\n",
       "    }\n",
       "\n",
       "    .dataframe thead th {\n",
       "        text-align: right;\n",
       "    }\n",
       "</style>\n",
       "<table border=\"1\" class=\"dataframe\">\n",
       "  <thead>\n",
       "    <tr style=\"text-align: right;\">\n",
       "      <th></th>\n",
       "      <th>CreditScore</th>\n",
       "      <th>Geography</th>\n",
       "      <th>Gender</th>\n",
       "      <th>Age</th>\n",
       "      <th>Tenure</th>\n",
       "      <th>Balance</th>\n",
       "      <th>NumOfProducts</th>\n",
       "      <th>HasCrCard</th>\n",
       "      <th>IsActiveMember</th>\n",
       "      <th>EstimatedSalary</th>\n",
       "    </tr>\n",
       "    <tr>\n",
       "      <th>RowNumber</th>\n",
       "      <th></th>\n",
       "      <th></th>\n",
       "      <th></th>\n",
       "      <th></th>\n",
       "      <th></th>\n",
       "      <th></th>\n",
       "      <th></th>\n",
       "      <th></th>\n",
       "      <th></th>\n",
       "      <th></th>\n",
       "    </tr>\n",
       "  </thead>\n",
       "  <tbody>\n",
       "    <tr>\n",
       "      <th>1</th>\n",
       "      <td>619</td>\n",
       "      <td>France</td>\n",
       "      <td>Female</td>\n",
       "      <td>42</td>\n",
       "      <td>2.0</td>\n",
       "      <td>0.00</td>\n",
       "      <td>1</td>\n",
       "      <td>1</td>\n",
       "      <td>1</td>\n",
       "      <td>101348.88</td>\n",
       "    </tr>\n",
       "    <tr>\n",
       "      <th>2</th>\n",
       "      <td>608</td>\n",
       "      <td>Spain</td>\n",
       "      <td>Female</td>\n",
       "      <td>41</td>\n",
       "      <td>1.0</td>\n",
       "      <td>83807.86</td>\n",
       "      <td>1</td>\n",
       "      <td>0</td>\n",
       "      <td>1</td>\n",
       "      <td>112542.58</td>\n",
       "    </tr>\n",
       "    <tr>\n",
       "      <th>3</th>\n",
       "      <td>502</td>\n",
       "      <td>France</td>\n",
       "      <td>Female</td>\n",
       "      <td>42</td>\n",
       "      <td>8.0</td>\n",
       "      <td>159660.80</td>\n",
       "      <td>3</td>\n",
       "      <td>1</td>\n",
       "      <td>0</td>\n",
       "      <td>113931.57</td>\n",
       "    </tr>\n",
       "    <tr>\n",
       "      <th>4</th>\n",
       "      <td>699</td>\n",
       "      <td>France</td>\n",
       "      <td>Female</td>\n",
       "      <td>39</td>\n",
       "      <td>1.0</td>\n",
       "      <td>0.00</td>\n",
       "      <td>2</td>\n",
       "      <td>0</td>\n",
       "      <td>0</td>\n",
       "      <td>93826.63</td>\n",
       "    </tr>\n",
       "    <tr>\n",
       "      <th>5</th>\n",
       "      <td>850</td>\n",
       "      <td>Spain</td>\n",
       "      <td>Female</td>\n",
       "      <td>43</td>\n",
       "      <td>2.0</td>\n",
       "      <td>125510.82</td>\n",
       "      <td>1</td>\n",
       "      <td>1</td>\n",
       "      <td>1</td>\n",
       "      <td>79084.10</td>\n",
       "    </tr>\n",
       "  </tbody>\n",
       "</table>\n",
       "</div>"
      ],
      "text/plain": [
       "           CreditScore Geography  Gender  Age  Tenure    Balance  \\\n",
       "RowNumber                                                          \n",
       "1                  619    France  Female   42     2.0       0.00   \n",
       "2                  608     Spain  Female   41     1.0   83807.86   \n",
       "3                  502    France  Female   42     8.0  159660.80   \n",
       "4                  699    France  Female   39     1.0       0.00   \n",
       "5                  850     Spain  Female   43     2.0  125510.82   \n",
       "\n",
       "           NumOfProducts  HasCrCard  IsActiveMember  EstimatedSalary  \n",
       "RowNumber                                                             \n",
       "1                      1          1               1        101348.88  \n",
       "2                      1          0               1        112542.58  \n",
       "3                      3          1               0        113931.57  \n",
       "4                      2          0               0         93826.63  \n",
       "5                      1          1               1         79084.10  "
      ]
     },
     "execution_count": 449,
     "metadata": {},
     "output_type": "execute_result"
    }
   ],
   "source": [
    "features = df.drop(['CustomerId', 'Surname', 'Exited'], axis=1)\n",
    "features.head()"
   ]
  },
  {
   "cell_type": "code",
   "execution_count": 450,
   "metadata": {},
   "outputs": [
    {
     "data": {
      "text/plain": [
       "RowNumber\n",
       "1    1\n",
       "2    0\n",
       "3    1\n",
       "4    0\n",
       "5    0\n",
       "Name: Exited, dtype: int64"
      ]
     },
     "execution_count": 450,
     "metadata": {},
     "output_type": "execute_result"
    }
   ],
   "source": [
    "target = df['Exited']\n",
    "target.head()"
   ]
  },
  {
   "cell_type": "code",
   "execution_count": 451,
   "metadata": {},
   "outputs": [],
   "source": [
    "features_ohe = pd.get_dummies(features, columns=['Geography','Gender'], drop_first=True)"
   ]
  },
  {
   "cell_type": "code",
   "execution_count": 452,
   "metadata": {
    "scrolled": true
   },
   "outputs": [
    {
     "data": {
      "text/html": [
       "<div>\n",
       "<style scoped>\n",
       "    .dataframe tbody tr th:only-of-type {\n",
       "        vertical-align: middle;\n",
       "    }\n",
       "\n",
       "    .dataframe tbody tr th {\n",
       "        vertical-align: top;\n",
       "    }\n",
       "\n",
       "    .dataframe thead th {\n",
       "        text-align: right;\n",
       "    }\n",
       "</style>\n",
       "<table border=\"1\" class=\"dataframe\">\n",
       "  <thead>\n",
       "    <tr style=\"text-align: right;\">\n",
       "      <th></th>\n",
       "      <th>CreditScore</th>\n",
       "      <th>Age</th>\n",
       "      <th>Tenure</th>\n",
       "      <th>Balance</th>\n",
       "      <th>NumOfProducts</th>\n",
       "      <th>HasCrCard</th>\n",
       "      <th>IsActiveMember</th>\n",
       "      <th>EstimatedSalary</th>\n",
       "      <th>Geography_Germany</th>\n",
       "      <th>Geography_Spain</th>\n",
       "      <th>Gender_Male</th>\n",
       "    </tr>\n",
       "    <tr>\n",
       "      <th>RowNumber</th>\n",
       "      <th></th>\n",
       "      <th></th>\n",
       "      <th></th>\n",
       "      <th></th>\n",
       "      <th></th>\n",
       "      <th></th>\n",
       "      <th></th>\n",
       "      <th></th>\n",
       "      <th></th>\n",
       "      <th></th>\n",
       "      <th></th>\n",
       "    </tr>\n",
       "  </thead>\n",
       "  <tbody>\n",
       "    <tr>\n",
       "      <th>1</th>\n",
       "      <td>619</td>\n",
       "      <td>42</td>\n",
       "      <td>2.0</td>\n",
       "      <td>0.00</td>\n",
       "      <td>1</td>\n",
       "      <td>1</td>\n",
       "      <td>1</td>\n",
       "      <td>101348.88</td>\n",
       "      <td>0</td>\n",
       "      <td>0</td>\n",
       "      <td>0</td>\n",
       "    </tr>\n",
       "    <tr>\n",
       "      <th>2</th>\n",
       "      <td>608</td>\n",
       "      <td>41</td>\n",
       "      <td>1.0</td>\n",
       "      <td>83807.86</td>\n",
       "      <td>1</td>\n",
       "      <td>0</td>\n",
       "      <td>1</td>\n",
       "      <td>112542.58</td>\n",
       "      <td>0</td>\n",
       "      <td>1</td>\n",
       "      <td>0</td>\n",
       "    </tr>\n",
       "    <tr>\n",
       "      <th>3</th>\n",
       "      <td>502</td>\n",
       "      <td>42</td>\n",
       "      <td>8.0</td>\n",
       "      <td>159660.80</td>\n",
       "      <td>3</td>\n",
       "      <td>1</td>\n",
       "      <td>0</td>\n",
       "      <td>113931.57</td>\n",
       "      <td>0</td>\n",
       "      <td>0</td>\n",
       "      <td>0</td>\n",
       "    </tr>\n",
       "    <tr>\n",
       "      <th>4</th>\n",
       "      <td>699</td>\n",
       "      <td>39</td>\n",
       "      <td>1.0</td>\n",
       "      <td>0.00</td>\n",
       "      <td>2</td>\n",
       "      <td>0</td>\n",
       "      <td>0</td>\n",
       "      <td>93826.63</td>\n",
       "      <td>0</td>\n",
       "      <td>0</td>\n",
       "      <td>0</td>\n",
       "    </tr>\n",
       "    <tr>\n",
       "      <th>5</th>\n",
       "      <td>850</td>\n",
       "      <td>43</td>\n",
       "      <td>2.0</td>\n",
       "      <td>125510.82</td>\n",
       "      <td>1</td>\n",
       "      <td>1</td>\n",
       "      <td>1</td>\n",
       "      <td>79084.10</td>\n",
       "      <td>0</td>\n",
       "      <td>1</td>\n",
       "      <td>0</td>\n",
       "    </tr>\n",
       "  </tbody>\n",
       "</table>\n",
       "</div>"
      ],
      "text/plain": [
       "           CreditScore  Age  Tenure    Balance  NumOfProducts  HasCrCard  \\\n",
       "RowNumber                                                                  \n",
       "1                  619   42     2.0       0.00              1          1   \n",
       "2                  608   41     1.0   83807.86              1          0   \n",
       "3                  502   42     8.0  159660.80              3          1   \n",
       "4                  699   39     1.0       0.00              2          0   \n",
       "5                  850   43     2.0  125510.82              1          1   \n",
       "\n",
       "           IsActiveMember  EstimatedSalary  Geography_Germany  \\\n",
       "RowNumber                                                       \n",
       "1                       1        101348.88                  0   \n",
       "2                       1        112542.58                  0   \n",
       "3                       0        113931.57                  0   \n",
       "4                       0         93826.63                  0   \n",
       "5                       1         79084.10                  0   \n",
       "\n",
       "           Geography_Spain  Gender_Male  \n",
       "RowNumber                                \n",
       "1                        0            0  \n",
       "2                        1            0  \n",
       "3                        0            0  \n",
       "4                        0            0  \n",
       "5                        1            0  "
      ]
     },
     "execution_count": 452,
     "metadata": {},
     "output_type": "execute_result"
    }
   ],
   "source": [
    "features_ohe.head()"
   ]
  },
  {
   "cell_type": "markdown",
   "metadata": {},
   "source": [
    "Порядковым кодированием преобразовали значения признаков страны проживания и пола к числовым значениям."
   ]
  },
  {
   "cell_type": "markdown",
   "metadata": {},
   "source": [
    "Разобъем данные на три части в пропорции 60%(тренировочная) / 20%(валидационная) / 20%(тестовая):"
   ]
  },
  {
   "cell_type": "code",
   "execution_count": 453,
   "metadata": {},
   "outputs": [],
   "source": [
    "features_train_temp, features_test, target_train_temp, target_test = train_test_split(\n",
    "    features_ohe, target, test_size=0.2, random_state=12345, stratify=target)\n",
    "features_train, features_val, target_train, target_val = train_test_split(\n",
    "    features_train_temp, target_train_temp, test_size=0.25, random_state=12345, stratify=target_train_temp)"
   ]
  },
  {
   "cell_type": "code",
   "execution_count": 454,
   "metadata": {},
   "outputs": [],
   "source": [
    "scaler = StandardScaler()\n",
    "scaler.fit(features_train)\n",
    "features_train_scaled = scaler.transform(features_train)\n",
    "features_valid_scaled = scaler.transform(features_val) "
   ]
  },
  {
   "cell_type": "markdown",
   "metadata": {},
   "source": [
    "#### Логистическая регрессия"
   ]
  },
  {
   "cell_type": "code",
   "execution_count": 455,
   "metadata": {},
   "outputs": [
    {
     "name": "stdout",
     "output_type": "stream",
     "text": [
      "Точность модели на валидационной выборке: 0.817\n"
     ]
    }
   ],
   "source": [
    "model_lr = LogisticRegression(random_state=12345, solver='liblinear', max_iter=1000)\n",
    "model_lr.fit(features_train_scaled, target_train)\n",
    "\n",
    "model_lr.predict(features_val)\n",
    "\n",
    "result = model_lr.score(features_valid_scaled, target_val)\n",
    "print(\"Точность модели на валидационной выборке:\", result)"
   ]
  },
  {
   "cell_type": "code",
   "execution_count": 456,
   "metadata": {},
   "outputs": [
    {
     "data": {
      "text/plain": [
       "0.31970260223048325"
      ]
     },
     "execution_count": 456,
     "metadata": {},
     "output_type": "execute_result"
    }
   ],
   "source": [
    "predicted_valid_lr = model_lr.predict(features_valid_scaled)\n",
    "f1_lr = f1_score(target_val, predicted_valid_lr)\n",
    "f1_lr"
   ]
  },
  {
   "cell_type": "markdown",
   "metadata": {},
   "source": [
    "Метрика 0.3197 существенно ниже минимального целевого значения 0.59."
   ]
  },
  {
   "cell_type": "markdown",
   "metadata": {},
   "source": [
    "#### Решающее дерево"
   ]
  },
  {
   "cell_type": "code",
   "execution_count": 457,
   "metadata": {},
   "outputs": [
    {
     "name": "stderr",
     "output_type": "stream",
     "text": [
      "100%|██████████| 3/3 [00:00<00:00,  5.38it/s]"
     ]
    },
    {
     "name": "stdout",
     "output_type": "stream",
     "text": [
      "Точность лучшей модели на валидационной выборке: 0.854\n",
      "Глубина лучшей модели на валидационной выборке: 5\n",
      "Лучшее максимальное количество признаков на валидационной выборке: 5\n",
      "Лучшее минимальное число объектов в листе на валидационной выборке: 20\n",
      "Wall time: 559 ms\n"
     ]
    },
    {
     "name": "stderr",
     "output_type": "stream",
     "text": [
      "\n"
     ]
    }
   ],
   "source": [
    "%%time\n",
    "\n",
    "best_model_dt_val_0 = None\n",
    "best_result_dt_val_0 = 0\n",
    "best_max_features_dt_val_0 = 0\n",
    "best_min_samples_leaf_dt_val_0 = 0\n",
    "for depth_0 in tqdm(range(3, 6)):\n",
    "    for max_features_0 in range(3, 10):\n",
    "        for min_samples_leaf_0 in range(5, 30, 5):\n",
    "            model_0 = DecisionTreeClassifier(max_depth=depth_0, random_state=12345,\n",
    "                                          max_features = max_features_0, min_samples_leaf = min_samples_leaf_0)\n",
    "            model_0.fit(features_train_scaled, target_train)\n",
    "            result_0 = model_0.score(features_valid_scaled, target_val)\n",
    "            if result_0 > best_result_dt_val_0:\n",
    "                best_model_dt_val_0 = model_0\n",
    "                best_result_dt_val_0 = result_0 \n",
    "                best_max_features_dt_val_0 = max_features_0\n",
    "                best_min_samples_leaf_dt_val_0 = min_samples_leaf_0\n",
    "print(\"Точность лучшей модели на валидационной выборке:\", best_result_dt_val_0)\n",
    "print(\"Глубина лучшей модели на валидационной выборке:\", best_model_dt_val_0.tree_.max_depth)  \n",
    "print(\"Лучшее максимальное количество признаков на валидационной выборке:\", best_max_features_dt_val_0)\n",
    "print(\"Лучшее минимальное число объектов в листе на валидационной выборке:\", best_min_samples_leaf_dt_val_0)"
   ]
  },
  {
   "cell_type": "code",
   "execution_count": 458,
   "metadata": {},
   "outputs": [
    {
     "data": {
      "text/plain": [
       "0.5365079365079366"
      ]
     },
     "execution_count": 458,
     "metadata": {},
     "output_type": "execute_result"
    }
   ],
   "source": [
    "predicted_valid_0 = best_model_dt_val_0.predict(features_valid_scaled)\n",
    "f1_0 = f1_score(target_val, predicted_valid_0)\n",
    "f1_0"
   ]
  },
  {
   "cell_type": "code",
   "execution_count": 459,
   "metadata": {},
   "outputs": [],
   "source": [
    "probabilities_valid_0 = best_model_dt_val_0.predict_proba(features_valid_scaled)\n",
    "probabilities_one_valid_0 = probabilities_valid_0[:, 1]"
   ]
  },
  {
   "cell_type": "code",
   "execution_count": 460,
   "metadata": {},
   "outputs": [
    {
     "data": {
      "image/png": "[encoded data removed]",
      "text/plain": [
       "<Figure size 432x432 with 1 Axes>"
      ]
     },
     "metadata": {
      "needs_background": "light"
     },
     "output_type": "display_data"
    }
   ],
   "source": [
    "precision_0, recall_0, thresholds_0 = precision_recall_curve(target_val, probabilities_valid_0[:, 1])\n",
    "\n",
    "plt.figure(figsize=(6, 6))\n",
    "plt.step(recall_0, precision_0, where='post')\n",
    "plt.xlabel('Полнота (Recall)')\n",
    "plt.ylabel('Точность (Precision)')\n",
    "plt.ylim([0.0, 1.05])\n",
    "plt.xlim([0.0, 1.0])\n",
    "plt.title('Кривая Precision-Recall')\n",
    "plt.show() "
   ]
  },
  {
   "cell_type": "code",
   "execution_count": 461,
   "metadata": {},
   "outputs": [
    {
     "data": {
      "image/png": "[encoded data removed]",
      "text/plain": [
       "<Figure size 432x288 with 1 Axes>"
      ]
     },
     "metadata": {
      "needs_background": "light"
     },
     "output_type": "display_data"
    }
   ],
   "source": [
    "fpr_0, tpr_0, thresholds_0 = roc_curve(target_val, probabilities_one_valid_0)\n",
    "\n",
    "plt.figure()\n",
    "\n",
    "plt.plot([0, 1], [0, 1], linestyle='--')\n",
    "\n",
    "plt.plot(fpr_0, tpr_0)\n",
    "plt.xlim([0.0, 1.0])\n",
    "plt.ylim([0.0, 1.0])\n",
    "plt.xlabel('False Positive Rate')\n",
    "plt.ylabel('True Positive Rate')\n",
    "plt.title('ROC-кривая')\n",
    "plt.show()"
   ]
  },
  {
   "cell_type": "code",
   "execution_count": 462,
   "metadata": {},
   "outputs": [
    {
     "data": {
      "text/plain": [
       "0.8123007445041345"
      ]
     },
     "execution_count": 462,
     "metadata": {},
     "output_type": "execute_result"
    }
   ],
   "source": [
    "auc_roc = roc_auc_score(target_val, probabilities_one_valid_0)\n",
    "auc_roc"
   ]
  },
  {
   "cell_type": "markdown",
   "metadata": {},
   "source": [
    "Значение метрики f1_score 0.5412 < 0.59 недостаточное, попробуем случайный лес."
   ]
  },
  {
   "cell_type": "markdown",
   "metadata": {},
   "source": [
    "#### Случайный лес"
   ]
  },
  {
   "cell_type": "code",
   "execution_count": 463,
   "metadata": {
    "scrolled": true
   },
   "outputs": [
    {
     "name": "stderr",
     "output_type": "stream",
     "text": [
      "100%|██████████| 4/4 [01:09<00:00, 17.43s/it]"
     ]
    },
    {
     "name": "stdout",
     "output_type": "stream",
     "text": [
      "Точность наилучшей модели на валидационной выборке: 0.86\n",
      "Количество деревьев в модели на валидационной выборке: 25\n",
      "Глубина лучшей модели на валидационной выборке: 5\n",
      "Лучшее максимальное количество признаков на валидационной выборке: 5\n",
      "Лучшее минимальное число объектов в листе на валидационной выборке: 20\n",
      "The minimum number of samples required to split an internal node: 5\n",
      "Wall time: 1min 9s\n"
     ]
    },
    {
     "name": "stderr",
     "output_type": "stream",
     "text": [
      "\n"
     ]
    }
   ],
   "source": [
    "%%time\n",
    "\n",
    "best_model_rf_val = None\n",
    "best_result_rf_val = 0\n",
    "best_est_rf_val = 0\n",
    "best_max_depth_val = 0\n",
    "best_max_features_rf_val = 0\n",
    "best_min_samples_leaf_rf_val = 0\n",
    "best_min_samples_split_rf_val = 0\n",
    "for est in tqdm(range(20, 40, 5)):\n",
    "    for depth in range(3, 6):\n",
    "        for max_features in range(3, 7):\n",
    "            for min_samples_leaf in range(5, 25, 5):\n",
    "                for min_samples_split in range(5, 25, 5):\n",
    "                    model = RandomForestClassifier(random_state=12345, n_estimators=est, max_depth = depth,\n",
    "                                                  max_features = max_features, min_samples_leaf = min_samples_leaf,\n",
    "                                                  min_samples_split = min_samples_split) \n",
    "                    model.fit(features_train_scaled, target_train) \n",
    "                    result = model.score(features_valid_scaled, target_val) \n",
    "                    if result > best_result_rf_val:\n",
    "                        best_model_rf_val = model\n",
    "                        best_result_rf_val = result\n",
    "                        best_est_rf_val = est\n",
    "                        best_max_depth_val = depth\n",
    "                        best_max_features_rf_val = max_features\n",
    "                        best_min_samples_leaf_rf_val = min_samples_leaf\n",
    "                        best_min_samples_split_rf_val = min_samples_split\n",
    "\n",
    "print(\"Точность наилучшей модели на валидационной выборке:\", best_result_rf_val)\n",
    "print(\"Количество деревьев в модели на валидационной выборке:\", best_est_rf_val)\n",
    "print(\"Глубина лучшей модели на валидационной выборке:\", best_max_depth_val) \n",
    "print(\"Лучшее максимальное количество признаков на валидационной выборке:\", best_max_features_rf_val)\n",
    "print(\"Лучшее минимальное число объектов в листе на валидационной выборке:\", best_min_samples_leaf_rf_val)\n",
    "print(\"The minimum number of samples required to split an internal node:\", best_min_samples_split_rf_val)"
   ]
  },
  {
   "cell_type": "code",
   "execution_count": 464,
   "metadata": {},
   "outputs": [
    {
     "data": {
      "text/plain": [
       "0.5379537953795379"
      ]
     },
     "execution_count": 464,
     "metadata": {},
     "output_type": "execute_result"
    }
   ],
   "source": [
    "predicted_valid = best_model_rf_val.predict(features_valid_scaled)\n",
    "f1 = f1_score(target_val, predicted_valid)\n",
    "f1"
   ]
  },
  {
   "cell_type": "code",
   "execution_count": 465,
   "metadata": {},
   "outputs": [],
   "source": [
    "probabilities_valid = best_model_rf_val.predict_proba(features_valid_scaled)\n",
    "probabilities_one_valid = probabilities_valid[:, 1]"
   ]
  },
  {
   "cell_type": "code",
   "execution_count": 466,
   "metadata": {},
   "outputs": [
    {
     "data": {
      "image/png": "[encoded data removed]",
      "text/plain": [
       "<Figure size 432x432 with 1 Axes>"
      ]
     },
     "metadata": {
      "needs_background": "light"
     },
     "output_type": "display_data"
    }
   ],
   "source": [
    "precision, recall, thresholds = precision_recall_curve(target_val, probabilities_valid[:, 1])\n",
    "\n",
    "plt.figure(figsize=(6, 6))\n",
    "plt.step(recall, precision, where='post')\n",
    "plt.xlabel('Полнота (Recall)')\n",
    "plt.ylabel('Точность (Precision)')\n",
    "plt.ylim([0.0, 1.05])\n",
    "plt.xlim([0.0, 1.0])\n",
    "plt.title('Кривая Precision-Recall')\n",
    "plt.show() "
   ]
  },
  {
   "cell_type": "markdown",
   "metadata": {},
   "source": [
    "Видим, что при большей точности, уменьшается полнота и наоборот при большей полноте уменьшается точность.  \n",
    "График Precision-Recall более плавный чем у одного дерева решений."
   ]
  },
  {
   "cell_type": "code",
   "execution_count": 467,
   "metadata": {},
   "outputs": [
    {
     "data": {
      "image/png": "[encoded data removed]",
      "text/plain": [
       "<Figure size 432x288 with 1 Axes>"
      ]
     },
     "metadata": {
      "needs_background": "light"
     },
     "output_type": "display_data"
    }
   ],
   "source": [
    "fpr, tpr, thresholds = roc_curve(target_val, probabilities_one_valid)\n",
    "\n",
    "plt.figure()\n",
    "\n",
    "plt.plot([0, 1], [0, 1], linestyle='--')\n",
    "\n",
    "plt.plot(fpr, tpr)\n",
    "plt.xlim([0.0, 1.0])\n",
    "plt.ylim([0.0, 1.0])\n",
    "plt.xlabel('False Positive Rate')\n",
    "plt.ylabel('True Positive Rate')\n",
    "plt.title('ROC-кривая')\n",
    "plt.show()"
   ]
  },
  {
   "cell_type": "code",
   "execution_count": 468,
   "metadata": {},
   "outputs": [
    {
     "data": {
      "text/plain": [
       "0.8661504339470442"
      ]
     },
     "execution_count": 468,
     "metadata": {},
     "output_type": "execute_result"
    }
   ],
   "source": [
    "auc_roc = roc_auc_score(target_val, probabilities_one_valid)\n",
    "auc_roc"
   ]
  },
  {
   "cell_type": "markdown",
   "metadata": {},
   "source": [
    "#### Градиентный бустинг"
   ]
  },
  {
   "cell_type": "code",
   "execution_count": 469,
   "metadata": {},
   "outputs": [],
   "source": [
    "cat_features = ['Geography', 'Gender']"
   ]
  },
  {
   "cell_type": "code",
   "execution_count": 470,
   "metadata": {},
   "outputs": [
    {
     "name": "stderr",
     "output_type": "stream",
     "text": [
      "C:\\Users\\Stepa\\Anaconda3\\lib\\site-packages\\sklearn\\model_selection\\_validation.py:610: FitFailedWarning: Estimator fit failed. The score on this train-test partition for these parameters will be set to nan. Details: \n",
      "Traceback (most recent call last):\n",
      "  File \"C:\\Users\\Stepa\\Anaconda3\\lib\\site-packages\\sklearn\\model_selection\\_validation.py\", line 593, in _fit_and_score\n",
      "    estimator.fit(X_train, y_train, **fit_params)\n",
      "  File \"C:\\Users\\Stepa\\Anaconda3\\lib\\site-packages\\catboost\\core.py\", line 5128, in fit\n",
      "    self._fit(X, y, cat_features, text_features, embedding_features, None, sample_weight, None, None, None, None, baseline, use_best_model,\n",
      "  File \"C:\\Users\\Stepa\\Anaconda3\\lib\\site-packages\\catboost\\core.py\", line 2339, in _fit\n",
      "    train_params = self._prepare_train_params(\n",
      "  File \"C:\\Users\\Stepa\\Anaconda3\\lib\\site-packages\\catboost\\core.py\", line 2266, in _prepare_train_params\n",
      "    _check_train_params(params)\n",
      "  File \"_catboost.pyx\", line 6080, in _catboost._check_train_params\n",
      "  File \"_catboost.pyx\", line 6099, in _catboost._check_train_params\n",
      "_catboost.CatBoostError: C:/Program Files (x86)/Go Agent/pipelines/BuildMaster/catboost.git/catboost/private/libs/options/boosting_options.cpp:79: Learning rate should be non-zero\n",
      "\n",
      "  warnings.warn(\"Estimator fit failed. The score on this train-test\"\n",
      "C:\\Users\\Stepa\\Anaconda3\\lib\\site-packages\\sklearn\\model_selection\\_validation.py:610: FitFailedWarning: Estimator fit failed. The score on this train-test partition for these parameters will be set to nan. Details: \n",
      "Traceback (most recent call last):\n",
      "  File \"C:\\Users\\Stepa\\Anaconda3\\lib\\site-packages\\sklearn\\model_selection\\_validation.py\", line 593, in _fit_and_score\n",
      "    estimator.fit(X_train, y_train, **fit_params)\n",
      "  File \"C:\\Users\\Stepa\\Anaconda3\\lib\\site-packages\\catboost\\core.py\", line 5128, in fit\n",
      "    self._fit(X, y, cat_features, text_features, embedding_features, None, sample_weight, None, None, None, None, baseline, use_best_model,\n",
      "  File \"C:\\Users\\Stepa\\Anaconda3\\lib\\site-packages\\catboost\\core.py\", line 2339, in _fit\n",
      "    train_params = self._prepare_train_params(\n",
      "  File \"C:\\Users\\Stepa\\Anaconda3\\lib\\site-packages\\catboost\\core.py\", line 2266, in _prepare_train_params\n",
      "    _check_train_params(params)\n",
      "  File \"_catboost.pyx\", line 6080, in _catboost._check_train_params\n",
      "  File \"_catboost.pyx\", line 6099, in _catboost._check_train_params\n",
      "_catboost.CatBoostError: C:/Program Files (x86)/Go Agent/pipelines/BuildMaster/catboost.git/catboost/private/libs/options/boosting_options.cpp:79: Learning rate should be non-zero\n",
      "\n",
      "  warnings.warn(\"Estimator fit failed. The score on this train-test\"\n",
      "C:\\Users\\Stepa\\Anaconda3\\lib\\site-packages\\sklearn\\model_selection\\_validation.py:610: FitFailedWarning: Estimator fit failed. The score on this train-test partition for these parameters will be set to nan. Details: \n",
      "Traceback (most recent call last):\n",
      "  File \"C:\\Users\\Stepa\\Anaconda3\\lib\\site-packages\\sklearn\\model_selection\\_validation.py\", line 593, in _fit_and_score\n",
      "    estimator.fit(X_train, y_train, **fit_params)\n",
      "  File \"C:\\Users\\Stepa\\Anaconda3\\lib\\site-packages\\catboost\\core.py\", line 5128, in fit\n",
      "    self._fit(X, y, cat_features, text_features, embedding_features, None, sample_weight, None, None, None, None, baseline, use_best_model,\n",
      "  File \"C:\\Users\\Stepa\\Anaconda3\\lib\\site-packages\\catboost\\core.py\", line 2339, in _fit\n",
      "    train_params = self._prepare_train_params(\n",
      "  File \"C:\\Users\\Stepa\\Anaconda3\\lib\\site-packages\\catboost\\core.py\", line 2266, in _prepare_train_params\n",
      "    _check_train_params(params)\n",
      "  File \"_catboost.pyx\", line 6080, in _catboost._check_train_params\n",
      "  File \"_catboost.pyx\", line 6099, in _catboost._check_train_params\n",
      "_catboost.CatBoostError: C:/Program Files (x86)/Go Agent/pipelines/BuildMaster/catboost.git/catboost/private/libs/options/boosting_options.cpp:79: Learning rate should be non-zero\n",
      "\n",
      "  warnings.warn(\"Estimator fit failed. The score on this train-test\"\n",
      "C:\\Users\\Stepa\\Anaconda3\\lib\\site-packages\\sklearn\\model_selection\\_validation.py:610: FitFailedWarning: Estimator fit failed. The score on this train-test partition for these parameters will be set to nan. Details: \n",
      "Traceback (most recent call last):\n",
      "  File \"C:\\Users\\Stepa\\Anaconda3\\lib\\site-packages\\sklearn\\model_selection\\_validation.py\", line 593, in _fit_and_score\n",
      "    estimator.fit(X_train, y_train, **fit_params)\n",
      "  File \"C:\\Users\\Stepa\\Anaconda3\\lib\\site-packages\\catboost\\core.py\", line 5128, in fit\n",
      "    self._fit(X, y, cat_features, text_features, embedding_features, None, sample_weight, None, None, None, None, baseline, use_best_model,\n",
      "  File \"C:\\Users\\Stepa\\Anaconda3\\lib\\site-packages\\catboost\\core.py\", line 2339, in _fit\n",
      "    train_params = self._prepare_train_params(\n",
      "  File \"C:\\Users\\Stepa\\Anaconda3\\lib\\site-packages\\catboost\\core.py\", line 2266, in _prepare_train_params\n",
      "    _check_train_params(params)\n",
      "  File \"_catboost.pyx\", line 6080, in _catboost._check_train_params\n",
      "  File \"_catboost.pyx\", line 6099, in _catboost._check_train_params\n",
      "_catboost.CatBoostError: C:/Program Files (x86)/Go Agent/pipelines/BuildMaster/catboost.git/catboost/private/libs/options/boosting_options.cpp:79: Learning rate should be non-zero\n",
      "\n",
      "  warnings.warn(\"Estimator fit failed. The score on this train-test\"\n",
      "C:\\Users\\Stepa\\Anaconda3\\lib\\site-packages\\sklearn\\model_selection\\_validation.py:610: FitFailedWarning: Estimator fit failed. The score on this train-test partition for these parameters will be set to nan. Details: \n",
      "Traceback (most recent call last):\n",
      "  File \"C:\\Users\\Stepa\\Anaconda3\\lib\\site-packages\\sklearn\\model_selection\\_validation.py\", line 593, in _fit_and_score\n",
      "    estimator.fit(X_train, y_train, **fit_params)\n",
      "  File \"C:\\Users\\Stepa\\Anaconda3\\lib\\site-packages\\catboost\\core.py\", line 5128, in fit\n",
      "    self._fit(X, y, cat_features, text_features, embedding_features, None, sample_weight, None, None, None, None, baseline, use_best_model,\n",
      "  File \"C:\\Users\\Stepa\\Anaconda3\\lib\\site-packages\\catboost\\core.py\", line 2339, in _fit\n",
      "    train_params = self._prepare_train_params(\n",
      "  File \"C:\\Users\\Stepa\\Anaconda3\\lib\\site-packages\\catboost\\core.py\", line 2266, in _prepare_train_params\n",
      "    _check_train_params(params)\n",
      "  File \"_catboost.pyx\", line 6080, in _catboost._check_train_params\n",
      "  File \"_catboost.pyx\", line 6099, in _catboost._check_train_params\n",
      "_catboost.CatBoostError: C:/Program Files (x86)/Go Agent/pipelines/BuildMaster/catboost.git/catboost/private/libs/options/boosting_options.cpp:79: Learning rate should be non-zero\n",
      "\n",
      "  warnings.warn(\"Estimator fit failed. The score on this train-test\"\n",
      "C:\\Users\\Stepa\\Anaconda3\\lib\\site-packages\\sklearn\\model_selection\\_search.py:918: UserWarning: One or more of the test scores are non-finite: [0.5732 0.5752 0.5716 0.5648    nan 0.579  0.5699 0.5585 0.562  0.5642]\n",
      "  warnings.warn(\n"
     ]
    },
    {
     "data": {
      "text/plain": [
       "RandomizedSearchCV(cv=5,\n",
       "                   estimator=<catboost.core.CatBoostClassifier object at 0x00000248549BCD60>,\n",
       "                   param_distributions={'l2_leaf_reg': <scipy.stats._distn_infrastructure.rv_frozen object at 0x0000024854901CA0>,\n",
       "                                        'learning_rate': array([0.  , 0.05, 0.1 , 0.15, 0.2 ]),\n",
       "                                        'max_depth': <scipy.stats._distn_infrastructure.rv_frozen object at 0x00000248549BCCD0>,\n",
       "                                        'random_strength': <scipy.stats._distn_infrastructure.rv_frozen object at 0x00000248548F1970>},\n",
       "                   scoring='f1')"
      ]
     },
     "execution_count": 470,
     "metadata": {},
     "output_type": "execute_result"
    }
   ],
   "source": [
    "cb_model = CatBoostClassifier(\n",
    "    eval_metric='TotalF1',\n",
    "    random_seed=63,\n",
    "    iterations=300,   \n",
    "    bagging_temperature=1,\n",
    "    random_strength=1,\n",
    "    one_hot_max_size=10,\n",
    "    leaf_estimation_method='Newton',\n",
    "    early_stopping_rounds=20\n",
    ")\n",
    "\n",
    "param_dist = { \"learning_rate\": np.linspace(0,0.2,5),\n",
    "               \"max_depth\": randint(3, 10),\n",
    "               \"l2_leaf_reg\": randint(2, 10),\n",
    "               \"random_strength\": randint(1, 10)               \n",
    "             }\n",
    "\n",
    "rscv = RandomizedSearchCV(cb_model, param_dist, scoring='f1', cv = 5)\n",
    "\n",
    "rscv.fit(\n",
    "    features_train_scaled, target_train,    \n",
    "    eval_set=(features_valid_scaled, target_val),\n",
    "    plot=False,\n",
    "    logging_level='Silent'\n",
    ")"
   ]
  },
  {
   "cell_type": "code",
   "execution_count": 471,
   "metadata": {},
   "outputs": [
    {
     "name": "stdout",
     "output_type": "stream",
     "text": [
      "{'l2_leaf_reg': 2, 'learning_rate': 0.2, 'max_depth': 4, 'random_strength': 2}\n",
      "0.578959185205158\n"
     ]
    }
   ],
   "source": [
    "print(rscv.best_params_)\n",
    "print(rscv.best_score_)"
   ]
  },
  {
   "cell_type": "code",
   "execution_count": 472,
   "metadata": {},
   "outputs": [],
   "source": [
    "predicted_valid = rscv.predict(features_valid_scaled)"
   ]
  },
  {
   "cell_type": "code",
   "execution_count": 473,
   "metadata": {},
   "outputs": [],
   "source": [
    "probabilities_valid = rscv.predict_proba(features_valid_scaled)\n",
    "probabilities_one_valid = probabilities_valid[:, 1]"
   ]
  },
  {
   "cell_type": "code",
   "execution_count": 474,
   "metadata": {},
   "outputs": [
    {
     "data": {
      "text/plain": [
       "0.8847645796798339"
      ]
     },
     "execution_count": 474,
     "metadata": {},
     "output_type": "execute_result"
    }
   ],
   "source": [
    "auc_roc = roc_auc_score(target_val, probabilities_one_valid)\n",
    "auc_roc"
   ]
  },
  {
   "cell_type": "markdown",
   "metadata": {},
   "source": [
    "#### Выводы"
   ]
  },
  {
   "cell_type": "markdown",
   "metadata": {},
   "source": [
    "* Линейная регрессия даёт недостаточные результаты:\n",
    " * accuracy = 0.817, f1 = 0.3197\n",
    "* Просто решающее дерево с перебором гиперпараметров даёт метрики: \n",
    " * accuracy = 0.8525, f1 = 0.5412, auc_roc = 0.8399\n",
    "* Для случайного леса с перебором гиперпараметров получили результаты лучше, но всё ещё ниже минимального целевого показателя в 0.59: \n",
    " * accuracy = 0.8595, f1 = 0.5339, auc_roc = 0.868\n",
    "* Для градиентного бустинга:\n",
    " * f1 = 0.5753, auc_roc = 0.8758\n",
    "\n",
    "\n",
    "Поработаем с дисбалансом классов, чтобы улучшить качество модели. Значения всех метрик лучше у градиентного бустинга, поэтому его и используем для при дальнейшем улучшении модели."
   ]
  },
  {
   "cell_type": "markdown",
   "metadata": {},
   "source": [
    "## Борьба с дисбалансом"
   ]
  },
  {
   "cell_type": "markdown",
   "metadata": {},
   "source": [
    "### Взвешивание классов"
   ]
  },
  {
   "cell_type": "markdown",
   "metadata": {},
   "source": [
    "Используем сбалансированную стратегию для работы с весами классов - зададим в классификаторе class_weight ='balanced'. "
   ]
  },
  {
   "cell_type": "code",
   "execution_count": 475,
   "metadata": {},
   "outputs": [
    {
     "name": "stderr",
     "output_type": "stream",
     "text": [
      "C:\\Users\\Stepa\\Anaconda3\\lib\\site-packages\\sklearn\\model_selection\\_validation.py:610: FitFailedWarning: Estimator fit failed. The score on this train-test partition for these parameters will be set to nan. Details: \n",
      "Traceback (most recent call last):\n",
      "  File \"C:\\Users\\Stepa\\Anaconda3\\lib\\site-packages\\sklearn\\model_selection\\_validation.py\", line 593, in _fit_and_score\n",
      "    estimator.fit(X_train, y_train, **fit_params)\n",
      "  File \"C:\\Users\\Stepa\\Anaconda3\\lib\\site-packages\\catboost\\core.py\", line 5128, in fit\n",
      "    self._fit(X, y, cat_features, text_features, embedding_features, None, sample_weight, None, None, None, None, baseline, use_best_model,\n",
      "  File \"C:\\Users\\Stepa\\Anaconda3\\lib\\site-packages\\catboost\\core.py\", line 2339, in _fit\n",
      "    train_params = self._prepare_train_params(\n",
      "  File \"C:\\Users\\Stepa\\Anaconda3\\lib\\site-packages\\catboost\\core.py\", line 2266, in _prepare_train_params\n",
      "    _check_train_params(params)\n",
      "  File \"_catboost.pyx\", line 6080, in _catboost._check_train_params\n",
      "  File \"_catboost.pyx\", line 6099, in _catboost._check_train_params\n",
      "_catboost.CatBoostError: C:/Program Files (x86)/Go Agent/pipelines/BuildMaster/catboost.git/catboost/private/libs/options/boosting_options.cpp:79: Learning rate should be non-zero\n",
      "\n",
      "  warnings.warn(\"Estimator fit failed. The score on this train-test\"\n",
      "C:\\Users\\Stepa\\Anaconda3\\lib\\site-packages\\sklearn\\model_selection\\_validation.py:610: FitFailedWarning: Estimator fit failed. The score on this train-test partition for these parameters will be set to nan. Details: \n",
      "Traceback (most recent call last):\n",
      "  File \"C:\\Users\\Stepa\\Anaconda3\\lib\\site-packages\\sklearn\\model_selection\\_validation.py\", line 593, in _fit_and_score\n",
      "    estimator.fit(X_train, y_train, **fit_params)\n",
      "  File \"C:\\Users\\Stepa\\Anaconda3\\lib\\site-packages\\catboost\\core.py\", line 5128, in fit\n",
      "    self._fit(X, y, cat_features, text_features, embedding_features, None, sample_weight, None, None, None, None, baseline, use_best_model,\n",
      "  File \"C:\\Users\\Stepa\\Anaconda3\\lib\\site-packages\\catboost\\core.py\", line 2339, in _fit\n",
      "    train_params = self._prepare_train_params(\n",
      "  File \"C:\\Users\\Stepa\\Anaconda3\\lib\\site-packages\\catboost\\core.py\", line 2266, in _prepare_train_params\n",
      "    _check_train_params(params)\n",
      "  File \"_catboost.pyx\", line 6080, in _catboost._check_train_params\n",
      "  File \"_catboost.pyx\", line 6099, in _catboost._check_train_params\n",
      "_catboost.CatBoostError: C:/Program Files (x86)/Go Agent/pipelines/BuildMaster/catboost.git/catboost/private/libs/options/boosting_options.cpp:79: Learning rate should be non-zero\n",
      "\n",
      "  warnings.warn(\"Estimator fit failed. The score on this train-test\"\n",
      "C:\\Users\\Stepa\\Anaconda3\\lib\\site-packages\\sklearn\\model_selection\\_validation.py:610: FitFailedWarning: Estimator fit failed. The score on this train-test partition for these parameters will be set to nan. Details: \n",
      "Traceback (most recent call last):\n",
      "  File \"C:\\Users\\Stepa\\Anaconda3\\lib\\site-packages\\sklearn\\model_selection\\_validation.py\", line 593, in _fit_and_score\n",
      "    estimator.fit(X_train, y_train, **fit_params)\n",
      "  File \"C:\\Users\\Stepa\\Anaconda3\\lib\\site-packages\\catboost\\core.py\", line 5128, in fit\n",
      "    self._fit(X, y, cat_features, text_features, embedding_features, None, sample_weight, None, None, None, None, baseline, use_best_model,\n",
      "  File \"C:\\Users\\Stepa\\Anaconda3\\lib\\site-packages\\catboost\\core.py\", line 2339, in _fit\n",
      "    train_params = self._prepare_train_params(\n",
      "  File \"C:\\Users\\Stepa\\Anaconda3\\lib\\site-packages\\catboost\\core.py\", line 2266, in _prepare_train_params\n",
      "    _check_train_params(params)\n",
      "  File \"_catboost.pyx\", line 6080, in _catboost._check_train_params\n",
      "  File \"_catboost.pyx\", line 6099, in _catboost._check_train_params\n",
      "_catboost.CatBoostError: C:/Program Files (x86)/Go Agent/pipelines/BuildMaster/catboost.git/catboost/private/libs/options/boosting_options.cpp:79: Learning rate should be non-zero\n",
      "\n",
      "  warnings.warn(\"Estimator fit failed. The score on this train-test\"\n",
      "C:\\Users\\Stepa\\Anaconda3\\lib\\site-packages\\sklearn\\model_selection\\_validation.py:610: FitFailedWarning: Estimator fit failed. The score on this train-test partition for these parameters will be set to nan. Details: \n",
      "Traceback (most recent call last):\n",
      "  File \"C:\\Users\\Stepa\\Anaconda3\\lib\\site-packages\\sklearn\\model_selection\\_validation.py\", line 593, in _fit_and_score\n",
      "    estimator.fit(X_train, y_train, **fit_params)\n",
      "  File \"C:\\Users\\Stepa\\Anaconda3\\lib\\site-packages\\catboost\\core.py\", line 5128, in fit\n",
      "    self._fit(X, y, cat_features, text_features, embedding_features, None, sample_weight, None, None, None, None, baseline, use_best_model,\n",
      "  File \"C:\\Users\\Stepa\\Anaconda3\\lib\\site-packages\\catboost\\core.py\", line 2339, in _fit\n",
      "    train_params = self._prepare_train_params(\n",
      "  File \"C:\\Users\\Stepa\\Anaconda3\\lib\\site-packages\\catboost\\core.py\", line 2266, in _prepare_train_params\n",
      "    _check_train_params(params)\n",
      "  File \"_catboost.pyx\", line 6080, in _catboost._check_train_params\n",
      "  File \"_catboost.pyx\", line 6099, in _catboost._check_train_params\n",
      "_catboost.CatBoostError: C:/Program Files (x86)/Go Agent/pipelines/BuildMaster/catboost.git/catboost/private/libs/options/boosting_options.cpp:79: Learning rate should be non-zero\n",
      "\n",
      "  warnings.warn(\"Estimator fit failed. The score on this train-test\"\n",
      "C:\\Users\\Stepa\\Anaconda3\\lib\\site-packages\\sklearn\\model_selection\\_validation.py:610: FitFailedWarning: Estimator fit failed. The score on this train-test partition for these parameters will be set to nan. Details: \n",
      "Traceback (most recent call last):\n",
      "  File \"C:\\Users\\Stepa\\Anaconda3\\lib\\site-packages\\sklearn\\model_selection\\_validation.py\", line 593, in _fit_and_score\n",
      "    estimator.fit(X_train, y_train, **fit_params)\n",
      "  File \"C:\\Users\\Stepa\\Anaconda3\\lib\\site-packages\\catboost\\core.py\", line 5128, in fit\n",
      "    self._fit(X, y, cat_features, text_features, embedding_features, None, sample_weight, None, None, None, None, baseline, use_best_model,\n",
      "  File \"C:\\Users\\Stepa\\Anaconda3\\lib\\site-packages\\catboost\\core.py\", line 2339, in _fit\n",
      "    train_params = self._prepare_train_params(\n",
      "  File \"C:\\Users\\Stepa\\Anaconda3\\lib\\site-packages\\catboost\\core.py\", line 2266, in _prepare_train_params\n",
      "    _check_train_params(params)\n",
      "  File \"_catboost.pyx\", line 6080, in _catboost._check_train_params\n",
      "  File \"_catboost.pyx\", line 6099, in _catboost._check_train_params\n",
      "_catboost.CatBoostError: C:/Program Files (x86)/Go Agent/pipelines/BuildMaster/catboost.git/catboost/private/libs/options/boosting_options.cpp:79: Learning rate should be non-zero\n",
      "\n",
      "  warnings.warn(\"Estimator fit failed. The score on this train-test\"\n",
      "C:\\Users\\Stepa\\Anaconda3\\lib\\site-packages\\sklearn\\model_selection\\_validation.py:610: FitFailedWarning: Estimator fit failed. The score on this train-test partition for these parameters will be set to nan. Details: \n",
      "Traceback (most recent call last):\n",
      "  File \"C:\\Users\\Stepa\\Anaconda3\\lib\\site-packages\\sklearn\\model_selection\\_validation.py\", line 593, in _fit_and_score\n",
      "    estimator.fit(X_train, y_train, **fit_params)\n",
      "  File \"C:\\Users\\Stepa\\Anaconda3\\lib\\site-packages\\catboost\\core.py\", line 5128, in fit\n",
      "    self._fit(X, y, cat_features, text_features, embedding_features, None, sample_weight, None, None, None, None, baseline, use_best_model,\n",
      "  File \"C:\\Users\\Stepa\\Anaconda3\\lib\\site-packages\\catboost\\core.py\", line 2339, in _fit\n",
      "    train_params = self._prepare_train_params(\n",
      "  File \"C:\\Users\\Stepa\\Anaconda3\\lib\\site-packages\\catboost\\core.py\", line 2266, in _prepare_train_params\n",
      "    _check_train_params(params)\n",
      "  File \"_catboost.pyx\", line 6080, in _catboost._check_train_params\n",
      "  File \"_catboost.pyx\", line 6099, in _catboost._check_train_params\n",
      "_catboost.CatBoostError: C:/Program Files (x86)/Go Agent/pipelines/BuildMaster/catboost.git/catboost/private/libs/options/boosting_options.cpp:79: Learning rate should be non-zero\n",
      "\n",
      "  warnings.warn(\"Estimator fit failed. The score on this train-test\"\n",
      "C:\\Users\\Stepa\\Anaconda3\\lib\\site-packages\\sklearn\\model_selection\\_validation.py:610: FitFailedWarning: Estimator fit failed. The score on this train-test partition for these parameters will be set to nan. Details: \n",
      "Traceback (most recent call last):\n",
      "  File \"C:\\Users\\Stepa\\Anaconda3\\lib\\site-packages\\sklearn\\model_selection\\_validation.py\", line 593, in _fit_and_score\n",
      "    estimator.fit(X_train, y_train, **fit_params)\n",
      "  File \"C:\\Users\\Stepa\\Anaconda3\\lib\\site-packages\\catboost\\core.py\", line 5128, in fit\n",
      "    self._fit(X, y, cat_features, text_features, embedding_features, None, sample_weight, None, None, None, None, baseline, use_best_model,\n",
      "  File \"C:\\Users\\Stepa\\Anaconda3\\lib\\site-packages\\catboost\\core.py\", line 2339, in _fit\n",
      "    train_params = self._prepare_train_params(\n",
      "  File \"C:\\Users\\Stepa\\Anaconda3\\lib\\site-packages\\catboost\\core.py\", line 2266, in _prepare_train_params\n",
      "    _check_train_params(params)\n",
      "  File \"_catboost.pyx\", line 6080, in _catboost._check_train_params\n",
      "  File \"_catboost.pyx\", line 6099, in _catboost._check_train_params\n",
      "_catboost.CatBoostError: C:/Program Files (x86)/Go Agent/pipelines/BuildMaster/catboost.git/catboost/private/libs/options/boosting_options.cpp:79: Learning rate should be non-zero\n",
      "\n",
      "  warnings.warn(\"Estimator fit failed. The score on this train-test\"\n",
      "C:\\Users\\Stepa\\Anaconda3\\lib\\site-packages\\sklearn\\model_selection\\_validation.py:610: FitFailedWarning: Estimator fit failed. The score on this train-test partition for these parameters will be set to nan. Details: \n",
      "Traceback (most recent call last):\n",
      "  File \"C:\\Users\\Stepa\\Anaconda3\\lib\\site-packages\\sklearn\\model_selection\\_validation.py\", line 593, in _fit_and_score\n",
      "    estimator.fit(X_train, y_train, **fit_params)\n",
      "  File \"C:\\Users\\Stepa\\Anaconda3\\lib\\site-packages\\catboost\\core.py\", line 5128, in fit\n",
      "    self._fit(X, y, cat_features, text_features, embedding_features, None, sample_weight, None, None, None, None, baseline, use_best_model,\n",
      "  File \"C:\\Users\\Stepa\\Anaconda3\\lib\\site-packages\\catboost\\core.py\", line 2339, in _fit\n",
      "    train_params = self._prepare_train_params(\n",
      "  File \"C:\\Users\\Stepa\\Anaconda3\\lib\\site-packages\\catboost\\core.py\", line 2266, in _prepare_train_params\n",
      "    _check_train_params(params)\n",
      "  File \"_catboost.pyx\", line 6080, in _catboost._check_train_params\n",
      "  File \"_catboost.pyx\", line 6099, in _catboost._check_train_params\n",
      "_catboost.CatBoostError: C:/Program Files (x86)/Go Agent/pipelines/BuildMaster/catboost.git/catboost/private/libs/options/boosting_options.cpp:79: Learning rate should be non-zero\n",
      "\n",
      "  warnings.warn(\"Estimator fit failed. The score on this train-test\"\n",
      "C:\\Users\\Stepa\\Anaconda3\\lib\\site-packages\\sklearn\\model_selection\\_validation.py:610: FitFailedWarning: Estimator fit failed. The score on this train-test partition for these parameters will be set to nan. Details: \n",
      "Traceback (most recent call last):\n",
      "  File \"C:\\Users\\Stepa\\Anaconda3\\lib\\site-packages\\sklearn\\model_selection\\_validation.py\", line 593, in _fit_and_score\n",
      "    estimator.fit(X_train, y_train, **fit_params)\n",
      "  File \"C:\\Users\\Stepa\\Anaconda3\\lib\\site-packages\\catboost\\core.py\", line 5128, in fit\n",
      "    self._fit(X, y, cat_features, text_features, embedding_features, None, sample_weight, None, None, None, None, baseline, use_best_model,\n",
      "  File \"C:\\Users\\Stepa\\Anaconda3\\lib\\site-packages\\catboost\\core.py\", line 2339, in _fit\n",
      "    train_params = self._prepare_train_params(\n",
      "  File \"C:\\Users\\Stepa\\Anaconda3\\lib\\site-packages\\catboost\\core.py\", line 2266, in _prepare_train_params\n",
      "    _check_train_params(params)\n",
      "  File \"_catboost.pyx\", line 6080, in _catboost._check_train_params\n",
      "  File \"_catboost.pyx\", line 6099, in _catboost._check_train_params\n",
      "_catboost.CatBoostError: C:/Program Files (x86)/Go Agent/pipelines/BuildMaster/catboost.git/catboost/private/libs/options/boosting_options.cpp:79: Learning rate should be non-zero\n",
      "\n",
      "  warnings.warn(\"Estimator fit failed. The score on this train-test\"\n",
      "C:\\Users\\Stepa\\Anaconda3\\lib\\site-packages\\sklearn\\model_selection\\_validation.py:610: FitFailedWarning: Estimator fit failed. The score on this train-test partition for these parameters will be set to nan. Details: \n",
      "Traceback (most recent call last):\n",
      "  File \"C:\\Users\\Stepa\\Anaconda3\\lib\\site-packages\\sklearn\\model_selection\\_validation.py\", line 593, in _fit_and_score\n",
      "    estimator.fit(X_train, y_train, **fit_params)\n",
      "  File \"C:\\Users\\Stepa\\Anaconda3\\lib\\site-packages\\catboost\\core.py\", line 5128, in fit\n",
      "    self._fit(X, y, cat_features, text_features, embedding_features, None, sample_weight, None, None, None, None, baseline, use_best_model,\n",
      "  File \"C:\\Users\\Stepa\\Anaconda3\\lib\\site-packages\\catboost\\core.py\", line 2339, in _fit\n",
      "    train_params = self._prepare_train_params(\n",
      "  File \"C:\\Users\\Stepa\\Anaconda3\\lib\\site-packages\\catboost\\core.py\", line 2266, in _prepare_train_params\n",
      "    _check_train_params(params)\n",
      "  File \"_catboost.pyx\", line 6080, in _catboost._check_train_params\n",
      "  File \"_catboost.pyx\", line 6099, in _catboost._check_train_params\n",
      "_catboost.CatBoostError: C:/Program Files (x86)/Go Agent/pipelines/BuildMaster/catboost.git/catboost/private/libs/options/boosting_options.cpp:79: Learning rate should be non-zero\n",
      "\n",
      "  warnings.warn(\"Estimator fit failed. The score on this train-test\"\n"
     ]
    },
    {
     "name": "stderr",
     "output_type": "stream",
     "text": [
      "C:\\Users\\Stepa\\Anaconda3\\lib\\site-packages\\sklearn\\model_selection\\_search.py:918: UserWarning: One or more of the test scores are non-finite: [0.5841 0.5877 0.5839    nan 0.5975 0.5747    nan 0.5891 0.5933 0.5915]\n",
      "  warnings.warn(\n"
     ]
    },
    {
     "data": {
      "text/plain": [
       "RandomizedSearchCV(cv=5,\n",
       "                   estimator=<catboost.core.CatBoostClassifier object at 0x00000248549DA490>,\n",
       "                   param_distributions={'l2_leaf_reg': <scipy.stats._distn_infrastructure.rv_frozen object at 0x00000248549DA670>,\n",
       "                                        'learning_rate': array([0.  , 0.05, 0.1 , 0.15, 0.2 ]),\n",
       "                                        'max_depth': <scipy.stats._distn_infrastructure.rv_frozen object at 0x00000248549DA430>,\n",
       "                                        'random_strength': <scipy.stats._distn_infrastructure.rv_frozen object at 0x00000248549DA850>},\n",
       "                   random_state=12345, scoring='f1')"
      ]
     },
     "execution_count": 475,
     "metadata": {},
     "output_type": "execute_result"
    }
   ],
   "source": [
    "cb_model_1 = CatBoostClassifier(\n",
    "    eval_metric='TotalF1',\n",
    "    random_seed=63,\n",
    "    iterations=300,   \n",
    "    bagging_temperature=1,\n",
    "    random_strength=1,\n",
    "    one_hot_max_size=10,\n",
    "    leaf_estimation_method='Newton',\n",
    "    auto_class_weights='Balanced',\n",
    "    early_stopping_rounds=20\n",
    ")\n",
    "\n",
    "param_dist_1 = { \"learning_rate\": np.linspace(0,0.2,5),\n",
    "               \"max_depth\": randint(3, 10),\n",
    "               \"l2_leaf_reg\": randint(2, 10),\n",
    "               \"random_strength\": randint(1, 10)\n",
    "             }\n",
    "\n",
    "rscv_1 = RandomizedSearchCV(cb_model_1, param_dist_1, scoring='f1', cv = 5, random_state=12345)\n",
    "\n",
    "rscv_1.fit(\n",
    "    features_train_scaled, target_train,    \n",
    "    eval_set=(features_valid_scaled, target_val),\n",
    "    plot=False,\n",
    "    logging_level='Silent'\n",
    ")"
   ]
  },
  {
   "cell_type": "code",
   "execution_count": 476,
   "metadata": {
    "scrolled": true
   },
   "outputs": [
    {
     "data": {
      "text/plain": [
       "0.6292134831460674"
      ]
     },
     "execution_count": 476,
     "metadata": {},
     "output_type": "execute_result"
    }
   ],
   "source": [
    "predicted_valid_1 = rscv_1.predict(features_valid_scaled)\n",
    "f1_1 = f1_score(target_val, predicted_valid_1)\n",
    "f1_1"
   ]
  },
  {
   "cell_type": "code",
   "execution_count": 477,
   "metadata": {},
   "outputs": [],
   "source": [
    "probabilities_valid_1 = rscv_1.predict_proba(features_valid_scaled)\n",
    "probabilities_one_valid_1 = probabilities_valid_1[:, 1]"
   ]
  },
  {
   "cell_type": "code",
   "execution_count": 478,
   "metadata": {},
   "outputs": [
    {
     "data": {
      "image/png": "[encoded data removed]",
      "text/plain": [
       "<Figure size 432x432 with 1 Axes>"
      ]
     },
     "metadata": {
      "needs_background": "light"
     },
     "output_type": "display_data"
    }
   ],
   "source": [
    "precision_1, recall_1, thresholds_1 = precision_recall_curve(target_val, probabilities_valid_1[:, 1])\n",
    "\n",
    "plt.figure(figsize=(6, 6))\n",
    "plt.step(recall_1, precision_1, where='post')\n",
    "plt.xlabel('Полнота (Recall)')\n",
    "plt.ylabel('Точность (Precision)')\n",
    "plt.ylim([0.0, 1.05])\n",
    "plt.xlim([0.0, 1.0])\n",
    "plt.title('Кривая Precision-Recall')\n",
    "plt.show() "
   ]
  },
  {
   "cell_type": "code",
   "execution_count": 479,
   "metadata": {
    "scrolled": true
   },
   "outputs": [
    {
     "data": {
      "image/png": "[encoded data removed]",
      "text/plain": [
       "<Figure size 432x288 with 1 Axes>"
      ]
     },
     "metadata": {
      "needs_background": "light"
     },
     "output_type": "display_data"
    }
   ],
   "source": [
    "fpr1, tpr1, thresholds1 = roc_curve(target_val, probabilities_one_valid_1)\n",
    "\n",
    "plt.figure()\n",
    "\n",
    "plt.plot([0, 1], [0, 1], linestyle='--')\n",
    "\n",
    "plt.plot(fpr1, tpr1)\n",
    "plt.xlim([0.0, 1.0])\n",
    "plt.ylim([0.0, 1.0])\n",
    "plt.xlabel('False Positive Rate')\n",
    "plt.ylabel('True Positive Rate')\n",
    "plt.title('ROC-кривая')\n",
    "plt.show()"
   ]
  },
  {
   "cell_type": "code",
   "execution_count": 480,
   "metadata": {},
   "outputs": [
    {
     "data": {
      "text/plain": [
       "0.8763925713078256"
      ]
     },
     "execution_count": 480,
     "metadata": {},
     "output_type": "execute_result"
    }
   ],
   "source": [
    "auc_roc = roc_auc_score(target_val, probabilities_one_valid_1)\n",
    "auc_roc"
   ]
  },
  {
   "cell_type": "markdown",
   "metadata": {},
   "source": [
    "Чем оранжевый график выше, тем больше значение TPR и лучше качество модели."
   ]
  },
  {
   "cell_type": "markdown",
   "metadata": {},
   "source": [
    "При взвешивании классов для случайного леса получили:\n",
    "* f1_score = 0.6292\n",
    "* auc_roc = 0.8763 \n",
    "\n",
    "Целевой показатель f1_score в 0.6292 > 0.59 на валидационной выборке достигнут."
   ]
  },
  {
   "cell_type": "markdown",
   "metadata": {},
   "source": [
    "### Увеличение выборки"
   ]
  },
  {
   "cell_type": "code",
   "execution_count": 481,
   "metadata": {},
   "outputs": [],
   "source": [
    "def upsample(features, target, repeat):\n",
    "    features_zeros = features[target == 0]\n",
    "    features_ones = features[target == 1]\n",
    "    target_zeros = target[target == 0]\n",
    "    target_ones = target[target == 1]\n",
    "\n",
    "    features_upsampled = pd.concat([features_zeros] + [features_ones] * repeat)\n",
    "    target_upsampled = pd.concat([target_zeros] + [target_ones] * repeat)\n",
    "\n",
    "    features_upsampled, target_upsampled = shuffle(features_upsampled, target_upsampled, random_state = 12345)\n",
    "\n",
    "    return features_upsampled, target_upsampled"
   ]
  },
  {
   "cell_type": "code",
   "execution_count": 482,
   "metadata": {},
   "outputs": [
    {
     "data": {
      "text/plain": [
       "0    4777\n",
       "1    1223\n",
       "Name: Exited, dtype: int64"
      ]
     },
     "execution_count": 482,
     "metadata": {},
     "output_type": "execute_result"
    }
   ],
   "source": [
    "target_train.value_counts()"
   ]
  },
  {
   "cell_type": "code",
   "execution_count": 483,
   "metadata": {},
   "outputs": [
    {
     "data": {
      "text/html": [
       "<div>\n",
       "<style scoped>\n",
       "    .dataframe tbody tr th:only-of-type {\n",
       "        vertical-align: middle;\n",
       "    }\n",
       "\n",
       "    .dataframe tbody tr th {\n",
       "        vertical-align: top;\n",
       "    }\n",
       "\n",
       "    .dataframe thead th {\n",
       "        text-align: right;\n",
       "    }\n",
       "</style>\n",
       "<table border=\"1\" class=\"dataframe\">\n",
       "  <thead>\n",
       "    <tr style=\"text-align: right;\">\n",
       "      <th></th>\n",
       "      <th>CreditScore</th>\n",
       "      <th>Age</th>\n",
       "      <th>Tenure</th>\n",
       "      <th>Balance</th>\n",
       "      <th>NumOfProducts</th>\n",
       "      <th>HasCrCard</th>\n",
       "      <th>IsActiveMember</th>\n",
       "      <th>EstimatedSalary</th>\n",
       "      <th>Geography_Germany</th>\n",
       "      <th>Geography_Spain</th>\n",
       "      <th>Gender_Male</th>\n",
       "    </tr>\n",
       "    <tr>\n",
       "      <th>RowNumber</th>\n",
       "      <th></th>\n",
       "      <th></th>\n",
       "      <th></th>\n",
       "      <th></th>\n",
       "      <th></th>\n",
       "      <th></th>\n",
       "      <th></th>\n",
       "      <th></th>\n",
       "      <th></th>\n",
       "      <th></th>\n",
       "      <th></th>\n",
       "    </tr>\n",
       "  </thead>\n",
       "  <tbody>\n",
       "    <tr>\n",
       "      <th>5537</th>\n",
       "      <td>636</td>\n",
       "      <td>45</td>\n",
       "      <td>10.0</td>\n",
       "      <td>0.00</td>\n",
       "      <td>2</td>\n",
       "      <td>1</td>\n",
       "      <td>1</td>\n",
       "      <td>159463.80</td>\n",
       "      <td>0</td>\n",
       "      <td>1</td>\n",
       "      <td>1</td>\n",
       "    </tr>\n",
       "    <tr>\n",
       "      <th>8531</th>\n",
       "      <td>808</td>\n",
       "      <td>33</td>\n",
       "      <td>2.0</td>\n",
       "      <td>103516.87</td>\n",
       "      <td>1</td>\n",
       "      <td>1</td>\n",
       "      <td>0</td>\n",
       "      <td>113907.80</td>\n",
       "      <td>0</td>\n",
       "      <td>0</td>\n",
       "      <td>0</td>\n",
       "    </tr>\n",
       "    <tr>\n",
       "      <th>1763</th>\n",
       "      <td>758</td>\n",
       "      <td>34</td>\n",
       "      <td>1.0</td>\n",
       "      <td>154139.45</td>\n",
       "      <td>1</td>\n",
       "      <td>1</td>\n",
       "      <td>1</td>\n",
       "      <td>60728.89</td>\n",
       "      <td>0</td>\n",
       "      <td>0</td>\n",
       "      <td>0</td>\n",
       "    </tr>\n",
       "    <tr>\n",
       "      <th>9091</th>\n",
       "      <td>809</td>\n",
       "      <td>39</td>\n",
       "      <td>5.0</td>\n",
       "      <td>0.00</td>\n",
       "      <td>1</td>\n",
       "      <td>1</td>\n",
       "      <td>0</td>\n",
       "      <td>77705.75</td>\n",
       "      <td>0</td>\n",
       "      <td>0</td>\n",
       "      <td>0</td>\n",
       "    </tr>\n",
       "    <tr>\n",
       "      <th>8778</th>\n",
       "      <td>603</td>\n",
       "      <td>24</td>\n",
       "      <td>1.0</td>\n",
       "      <td>165149.13</td>\n",
       "      <td>2</td>\n",
       "      <td>1</td>\n",
       "      <td>0</td>\n",
       "      <td>21858.28</td>\n",
       "      <td>0</td>\n",
       "      <td>1</td>\n",
       "      <td>1</td>\n",
       "    </tr>\n",
       "  </tbody>\n",
       "</table>\n",
       "</div>"
      ],
      "text/plain": [
       "           CreditScore  Age  Tenure    Balance  NumOfProducts  HasCrCard  \\\n",
       "RowNumber                                                                  \n",
       "5537               636   45    10.0       0.00              2          1   \n",
       "8531               808   33     2.0  103516.87              1          1   \n",
       "1763               758   34     1.0  154139.45              1          1   \n",
       "9091               809   39     5.0       0.00              1          1   \n",
       "8778               603   24     1.0  165149.13              2          1   \n",
       "\n",
       "           IsActiveMember  EstimatedSalary  Geography_Germany  \\\n",
       "RowNumber                                                       \n",
       "5537                    1        159463.80                  0   \n",
       "8531                    0        113907.80                  0   \n",
       "1763                    1         60728.89                  0   \n",
       "9091                    0         77705.75                  0   \n",
       "8778                    0         21858.28                  0   \n",
       "\n",
       "           Geography_Spain  Gender_Male  \n",
       "RowNumber                                \n",
       "5537                     1            1  \n",
       "8531                     0            0  \n",
       "1763                     0            0  \n",
       "9091                     0            0  \n",
       "8778                     1            1  "
      ]
     },
     "execution_count": 483,
     "metadata": {},
     "output_type": "execute_result"
    }
   ],
   "source": [
    "features_train.head()"
   ]
  },
  {
   "cell_type": "code",
   "execution_count": 484,
   "metadata": {},
   "outputs": [
    {
     "data": {
      "text/plain": [
       "RowNumber\n",
       "5537    0\n",
       "8531    0\n",
       "1763    0\n",
       "9091    0\n",
       "8778    0\n",
       "Name: Exited, dtype: int64"
      ]
     },
     "execution_count": 484,
     "metadata": {},
     "output_type": "execute_result"
    }
   ],
   "source": [
    "target_train.head()"
   ]
  },
  {
   "cell_type": "code",
   "execution_count": 485,
   "metadata": {},
   "outputs": [],
   "source": [
    "features_train_upsampled, target_train_upsampled = upsample(features_train, target_train, 4) "
   ]
  },
  {
   "cell_type": "code",
   "execution_count": 486,
   "metadata": {},
   "outputs": [
    {
     "data": {
      "text/plain": [
       "1    4892\n",
       "0    4777\n",
       "Name: Exited, dtype: int64"
      ]
     },
     "execution_count": 486,
     "metadata": {},
     "output_type": "execute_result"
    }
   ],
   "source": [
    "target_train_upsampled.value_counts()"
   ]
  },
  {
   "cell_type": "code",
   "execution_count": 487,
   "metadata": {},
   "outputs": [],
   "source": [
    "features_train_upsampled_scaled = scaler.transform(features_train_upsampled)\n",
    "features_valid_scaled = scaler.transform(features_val) "
   ]
  },
  {
   "cell_type": "code",
   "execution_count": 488,
   "metadata": {
    "scrolled": true
   },
   "outputs": [
    {
     "name": "stderr",
     "output_type": "stream",
     "text": [
      "C:\\Users\\Stepa\\Anaconda3\\lib\\site-packages\\sklearn\\model_selection\\_validation.py:610: FitFailedWarning: Estimator fit failed. The score on this train-test partition for these parameters will be set to nan. Details: \n",
      "Traceback (most recent call last):\n",
      "  File \"C:\\Users\\Stepa\\Anaconda3\\lib\\site-packages\\sklearn\\model_selection\\_validation.py\", line 593, in _fit_and_score\n",
      "    estimator.fit(X_train, y_train, **fit_params)\n",
      "  File \"C:\\Users\\Stepa\\Anaconda3\\lib\\site-packages\\catboost\\core.py\", line 5128, in fit\n",
      "    self._fit(X, y, cat_features, text_features, embedding_features, None, sample_weight, None, None, None, None, baseline, use_best_model,\n",
      "  File \"C:\\Users\\Stepa\\Anaconda3\\lib\\site-packages\\catboost\\core.py\", line 2339, in _fit\n",
      "    train_params = self._prepare_train_params(\n",
      "  File \"C:\\Users\\Stepa\\Anaconda3\\lib\\site-packages\\catboost\\core.py\", line 2266, in _prepare_train_params\n",
      "    _check_train_params(params)\n",
      "  File \"_catboost.pyx\", line 6080, in _catboost._check_train_params\n",
      "  File \"_catboost.pyx\", line 6099, in _catboost._check_train_params\n",
      "_catboost.CatBoostError: C:/Program Files (x86)/Go Agent/pipelines/BuildMaster/catboost.git/catboost/private/libs/options/boosting_options.cpp:79: Learning rate should be non-zero\n",
      "\n",
      "  warnings.warn(\"Estimator fit failed. The score on this train-test\"\n",
      "C:\\Users\\Stepa\\Anaconda3\\lib\\site-packages\\sklearn\\model_selection\\_validation.py:610: FitFailedWarning: Estimator fit failed. The score on this train-test partition for these parameters will be set to nan. Details: \n",
      "Traceback (most recent call last):\n",
      "  File \"C:\\Users\\Stepa\\Anaconda3\\lib\\site-packages\\sklearn\\model_selection\\_validation.py\", line 593, in _fit_and_score\n",
      "    estimator.fit(X_train, y_train, **fit_params)\n",
      "  File \"C:\\Users\\Stepa\\Anaconda3\\lib\\site-packages\\catboost\\core.py\", line 5128, in fit\n",
      "    self._fit(X, y, cat_features, text_features, embedding_features, None, sample_weight, None, None, None, None, baseline, use_best_model,\n",
      "  File \"C:\\Users\\Stepa\\Anaconda3\\lib\\site-packages\\catboost\\core.py\", line 2339, in _fit\n",
      "    train_params = self._prepare_train_params(\n",
      "  File \"C:\\Users\\Stepa\\Anaconda3\\lib\\site-packages\\catboost\\core.py\", line 2266, in _prepare_train_params\n",
      "    _check_train_params(params)\n",
      "  File \"_catboost.pyx\", line 6080, in _catboost._check_train_params\n",
      "  File \"_catboost.pyx\", line 6099, in _catboost._check_train_params\n",
      "_catboost.CatBoostError: C:/Program Files (x86)/Go Agent/pipelines/BuildMaster/catboost.git/catboost/private/libs/options/boosting_options.cpp:79: Learning rate should be non-zero\n",
      "\n",
      "  warnings.warn(\"Estimator fit failed. The score on this train-test\"\n",
      "C:\\Users\\Stepa\\Anaconda3\\lib\\site-packages\\sklearn\\model_selection\\_validation.py:610: FitFailedWarning: Estimator fit failed. The score on this train-test partition for these parameters will be set to nan. Details: \n",
      "Traceback (most recent call last):\n",
      "  File \"C:\\Users\\Stepa\\Anaconda3\\lib\\site-packages\\sklearn\\model_selection\\_validation.py\", line 593, in _fit_and_score\n",
      "    estimator.fit(X_train, y_train, **fit_params)\n",
      "  File \"C:\\Users\\Stepa\\Anaconda3\\lib\\site-packages\\catboost\\core.py\", line 5128, in fit\n",
      "    self._fit(X, y, cat_features, text_features, embedding_features, None, sample_weight, None, None, None, None, baseline, use_best_model,\n",
      "  File \"C:\\Users\\Stepa\\Anaconda3\\lib\\site-packages\\catboost\\core.py\", line 2339, in _fit\n",
      "    train_params = self._prepare_train_params(\n",
      "  File \"C:\\Users\\Stepa\\Anaconda3\\lib\\site-packages\\catboost\\core.py\", line 2266, in _prepare_train_params\n",
      "    _check_train_params(params)\n",
      "  File \"_catboost.pyx\", line 6080, in _catboost._check_train_params\n",
      "  File \"_catboost.pyx\", line 6099, in _catboost._check_train_params\n",
      "_catboost.CatBoostError: C:/Program Files (x86)/Go Agent/pipelines/BuildMaster/catboost.git/catboost/private/libs/options/boosting_options.cpp:79: Learning rate should be non-zero\n",
      "\n",
      "  warnings.warn(\"Estimator fit failed. The score on this train-test\"\n",
      "C:\\Users\\Stepa\\Anaconda3\\lib\\site-packages\\sklearn\\model_selection\\_validation.py:610: FitFailedWarning: Estimator fit failed. The score on this train-test partition for these parameters will be set to nan. Details: \n",
      "Traceback (most recent call last):\n",
      "  File \"C:\\Users\\Stepa\\Anaconda3\\lib\\site-packages\\sklearn\\model_selection\\_validation.py\", line 593, in _fit_and_score\n",
      "    estimator.fit(X_train, y_train, **fit_params)\n",
      "  File \"C:\\Users\\Stepa\\Anaconda3\\lib\\site-packages\\catboost\\core.py\", line 5128, in fit\n",
      "    self._fit(X, y, cat_features, text_features, embedding_features, None, sample_weight, None, None, None, None, baseline, use_best_model,\n",
      "  File \"C:\\Users\\Stepa\\Anaconda3\\lib\\site-packages\\catboost\\core.py\", line 2339, in _fit\n",
      "    train_params = self._prepare_train_params(\n",
      "  File \"C:\\Users\\Stepa\\Anaconda3\\lib\\site-packages\\catboost\\core.py\", line 2266, in _prepare_train_params\n",
      "    _check_train_params(params)\n",
      "  File \"_catboost.pyx\", line 6080, in _catboost._check_train_params\n",
      "  File \"_catboost.pyx\", line 6099, in _catboost._check_train_params\n",
      "_catboost.CatBoostError: C:/Program Files (x86)/Go Agent/pipelines/BuildMaster/catboost.git/catboost/private/libs/options/boosting_options.cpp:79: Learning rate should be non-zero\n",
      "\n",
      "  warnings.warn(\"Estimator fit failed. The score on this train-test\"\n",
      "C:\\Users\\Stepa\\Anaconda3\\lib\\site-packages\\sklearn\\model_selection\\_validation.py:610: FitFailedWarning: Estimator fit failed. The score on this train-test partition for these parameters will be set to nan. Details: \n",
      "Traceback (most recent call last):\n",
      "  File \"C:\\Users\\Stepa\\Anaconda3\\lib\\site-packages\\sklearn\\model_selection\\_validation.py\", line 593, in _fit_and_score\n",
      "    estimator.fit(X_train, y_train, **fit_params)\n",
      "  File \"C:\\Users\\Stepa\\Anaconda3\\lib\\site-packages\\catboost\\core.py\", line 5128, in fit\n",
      "    self._fit(X, y, cat_features, text_features, embedding_features, None, sample_weight, None, None, None, None, baseline, use_best_model,\n",
      "  File \"C:\\Users\\Stepa\\Anaconda3\\lib\\site-packages\\catboost\\core.py\", line 2339, in _fit\n",
      "    train_params = self._prepare_train_params(\n",
      "  File \"C:\\Users\\Stepa\\Anaconda3\\lib\\site-packages\\catboost\\core.py\", line 2266, in _prepare_train_params\n",
      "    _check_train_params(params)\n",
      "  File \"_catboost.pyx\", line 6080, in _catboost._check_train_params\n",
      "  File \"_catboost.pyx\", line 6099, in _catboost._check_train_params\n",
      "_catboost.CatBoostError: C:/Program Files (x86)/Go Agent/pipelines/BuildMaster/catboost.git/catboost/private/libs/options/boosting_options.cpp:79: Learning rate should be non-zero\n",
      "\n",
      "  warnings.warn(\"Estimator fit failed. The score on this train-test\"\n",
      "C:\\Users\\Stepa\\Anaconda3\\lib\\site-packages\\sklearn\\model_selection\\_validation.py:610: FitFailedWarning: Estimator fit failed. The score on this train-test partition for these parameters will be set to nan. Details: \n",
      "Traceback (most recent call last):\n",
      "  File \"C:\\Users\\Stepa\\Anaconda3\\lib\\site-packages\\sklearn\\model_selection\\_validation.py\", line 593, in _fit_and_score\n",
      "    estimator.fit(X_train, y_train, **fit_params)\n",
      "  File \"C:\\Users\\Stepa\\Anaconda3\\lib\\site-packages\\catboost\\core.py\", line 5128, in fit\n",
      "    self._fit(X, y, cat_features, text_features, embedding_features, None, sample_weight, None, None, None, None, baseline, use_best_model,\n",
      "  File \"C:\\Users\\Stepa\\Anaconda3\\lib\\site-packages\\catboost\\core.py\", line 2339, in _fit\n",
      "    train_params = self._prepare_train_params(\n",
      "  File \"C:\\Users\\Stepa\\Anaconda3\\lib\\site-packages\\catboost\\core.py\", line 2266, in _prepare_train_params\n",
      "    _check_train_params(params)\n",
      "  File \"_catboost.pyx\", line 6080, in _catboost._check_train_params\n",
      "  File \"_catboost.pyx\", line 6099, in _catboost._check_train_params\n",
      "_catboost.CatBoostError: C:/Program Files (x86)/Go Agent/pipelines/BuildMaster/catboost.git/catboost/private/libs/options/boosting_options.cpp:79: Learning rate should be non-zero\n",
      "\n",
      "  warnings.warn(\"Estimator fit failed. The score on this train-test\"\n",
      "C:\\Users\\Stepa\\Anaconda3\\lib\\site-packages\\sklearn\\model_selection\\_validation.py:610: FitFailedWarning: Estimator fit failed. The score on this train-test partition for these parameters will be set to nan. Details: \n",
      "Traceback (most recent call last):\n",
      "  File \"C:\\Users\\Stepa\\Anaconda3\\lib\\site-packages\\sklearn\\model_selection\\_validation.py\", line 593, in _fit_and_score\n",
      "    estimator.fit(X_train, y_train, **fit_params)\n",
      "  File \"C:\\Users\\Stepa\\Anaconda3\\lib\\site-packages\\catboost\\core.py\", line 5128, in fit\n",
      "    self._fit(X, y, cat_features, text_features, embedding_features, None, sample_weight, None, None, None, None, baseline, use_best_model,\n",
      "  File \"C:\\Users\\Stepa\\Anaconda3\\lib\\site-packages\\catboost\\core.py\", line 2339, in _fit\n",
      "    train_params = self._prepare_train_params(\n",
      "  File \"C:\\Users\\Stepa\\Anaconda3\\lib\\site-packages\\catboost\\core.py\", line 2266, in _prepare_train_params\n",
      "    _check_train_params(params)\n",
      "  File \"_catboost.pyx\", line 6080, in _catboost._check_train_params\n",
      "  File \"_catboost.pyx\", line 6099, in _catboost._check_train_params\n",
      "_catboost.CatBoostError: C:/Program Files (x86)/Go Agent/pipelines/BuildMaster/catboost.git/catboost/private/libs/options/boosting_options.cpp:79: Learning rate should be non-zero\n",
      "\n",
      "  warnings.warn(\"Estimator fit failed. The score on this train-test\"\n",
      "C:\\Users\\Stepa\\Anaconda3\\lib\\site-packages\\sklearn\\model_selection\\_validation.py:610: FitFailedWarning: Estimator fit failed. The score on this train-test partition for these parameters will be set to nan. Details: \n",
      "Traceback (most recent call last):\n",
      "  File \"C:\\Users\\Stepa\\Anaconda3\\lib\\site-packages\\sklearn\\model_selection\\_validation.py\", line 593, in _fit_and_score\n",
      "    estimator.fit(X_train, y_train, **fit_params)\n",
      "  File \"C:\\Users\\Stepa\\Anaconda3\\lib\\site-packages\\catboost\\core.py\", line 5128, in fit\n",
      "    self._fit(X, y, cat_features, text_features, embedding_features, None, sample_weight, None, None, None, None, baseline, use_best_model,\n",
      "  File \"C:\\Users\\Stepa\\Anaconda3\\lib\\site-packages\\catboost\\core.py\", line 2339, in _fit\n",
      "    train_params = self._prepare_train_params(\n",
      "  File \"C:\\Users\\Stepa\\Anaconda3\\lib\\site-packages\\catboost\\core.py\", line 2266, in _prepare_train_params\n",
      "    _check_train_params(params)\n",
      "  File \"_catboost.pyx\", line 6080, in _catboost._check_train_params\n",
      "  File \"_catboost.pyx\", line 6099, in _catboost._check_train_params\n",
      "_catboost.CatBoostError: C:/Program Files (x86)/Go Agent/pipelines/BuildMaster/catboost.git/catboost/private/libs/options/boosting_options.cpp:79: Learning rate should be non-zero\n",
      "\n",
      "  warnings.warn(\"Estimator fit failed. The score on this train-test\"\n",
      "C:\\Users\\Stepa\\Anaconda3\\lib\\site-packages\\sklearn\\model_selection\\_validation.py:610: FitFailedWarning: Estimator fit failed. The score on this train-test partition for these parameters will be set to nan. Details: \n",
      "Traceback (most recent call last):\n",
      "  File \"C:\\Users\\Stepa\\Anaconda3\\lib\\site-packages\\sklearn\\model_selection\\_validation.py\", line 593, in _fit_and_score\n",
      "    estimator.fit(X_train, y_train, **fit_params)\n",
      "  File \"C:\\Users\\Stepa\\Anaconda3\\lib\\site-packages\\catboost\\core.py\", line 5128, in fit\n",
      "    self._fit(X, y, cat_features, text_features, embedding_features, None, sample_weight, None, None, None, None, baseline, use_best_model,\n",
      "  File \"C:\\Users\\Stepa\\Anaconda3\\lib\\site-packages\\catboost\\core.py\", line 2339, in _fit\n",
      "    train_params = self._prepare_train_params(\n",
      "  File \"C:\\Users\\Stepa\\Anaconda3\\lib\\site-packages\\catboost\\core.py\", line 2266, in _prepare_train_params\n",
      "    _check_train_params(params)\n",
      "  File \"_catboost.pyx\", line 6080, in _catboost._check_train_params\n",
      "  File \"_catboost.pyx\", line 6099, in _catboost._check_train_params\n",
      "_catboost.CatBoostError: C:/Program Files (x86)/Go Agent/pipelines/BuildMaster/catboost.git/catboost/private/libs/options/boosting_options.cpp:79: Learning rate should be non-zero\n",
      "\n",
      "  warnings.warn(\"Estimator fit failed. The score on this train-test\"\n",
      "C:\\Users\\Stepa\\Anaconda3\\lib\\site-packages\\sklearn\\model_selection\\_validation.py:610: FitFailedWarning: Estimator fit failed. The score on this train-test partition for these parameters will be set to nan. Details: \n",
      "Traceback (most recent call last):\n",
      "  File \"C:\\Users\\Stepa\\Anaconda3\\lib\\site-packages\\sklearn\\model_selection\\_validation.py\", line 593, in _fit_and_score\n",
      "    estimator.fit(X_train, y_train, **fit_params)\n",
      "  File \"C:\\Users\\Stepa\\Anaconda3\\lib\\site-packages\\catboost\\core.py\", line 5128, in fit\n",
      "    self._fit(X, y, cat_features, text_features, embedding_features, None, sample_weight, None, None, None, None, baseline, use_best_model,\n",
      "  File \"C:\\Users\\Stepa\\Anaconda3\\lib\\site-packages\\catboost\\core.py\", line 2339, in _fit\n",
      "    train_params = self._prepare_train_params(\n",
      "  File \"C:\\Users\\Stepa\\Anaconda3\\lib\\site-packages\\catboost\\core.py\", line 2266, in _prepare_train_params\n",
      "    _check_train_params(params)\n",
      "  File \"_catboost.pyx\", line 6080, in _catboost._check_train_params\n",
      "  File \"_catboost.pyx\", line 6099, in _catboost._check_train_params\n",
      "_catboost.CatBoostError: C:/Program Files (x86)/Go Agent/pipelines/BuildMaster/catboost.git/catboost/private/libs/options/boosting_options.cpp:79: Learning rate should be non-zero\n",
      "\n",
      "  warnings.warn(\"Estimator fit failed. The score on this train-test\"\n"
     ]
    },
    {
     "name": "stderr",
     "output_type": "stream",
     "text": [
      "C:\\Users\\Stepa\\Anaconda3\\lib\\site-packages\\sklearn\\model_selection\\_search.py:918: UserWarning: One or more of the test scores are non-finite: [0.7273 0.8261 0.7507    nan 0.8538 0.7466    nan 0.8523 0.8513 0.759 ]\n",
      "  warnings.warn(\n"
     ]
    },
    {
     "name": "stdout",
     "output_type": "stream",
     "text": [
      "Wall time: 20.6 s\n"
     ]
    },
    {
     "data": {
      "text/plain": [
       "RandomizedSearchCV(cv=5,\n",
       "                   estimator=<catboost.core.CatBoostClassifier object at 0x0000024854A7BEE0>,\n",
       "                   param_distributions={'l2_leaf_reg': <scipy.stats._distn_infrastructure.rv_frozen object at 0x0000024854A8E280>,\n",
       "                                        'learning_rate': array([0.  , 0.05, 0.1 , 0.15, 0.2 ]),\n",
       "                                        'max_depth': <scipy.stats._distn_infrastructure.rv_frozen object at 0x0000024854A8E070>,\n",
       "                                        'random_strength': <scipy.stats._distn_infrastructure.rv_frozen object at 0x0000024854A8E4C0>},\n",
       "                   random_state=12345, scoring='f1')"
      ]
     },
     "execution_count": 488,
     "metadata": {},
     "output_type": "execute_result"
    }
   ],
   "source": [
    "%%time\n",
    "\n",
    "cb_model_2 = CatBoostClassifier(\n",
    "    eval_metric='TotalF1',\n",
    "    random_seed=63,\n",
    "    iterations=300,   \n",
    "    bagging_temperature=1,\n",
    "    random_strength=1,\n",
    "    one_hot_max_size=10,\n",
    "    leaf_estimation_method='Newton',\n",
    "    early_stopping_rounds=20\n",
    ")\n",
    "\n",
    "param_dist_2 = { \"learning_rate\": np.linspace(0,0.2,5),\n",
    "               \"max_depth\": randint(3, 10),\n",
    "               \"l2_leaf_reg\": randint(2, 10),\n",
    "               \"random_strength\": randint(1, 10)\n",
    "             }\n",
    "\n",
    "rscv_2 = RandomizedSearchCV(cb_model_2, param_dist_2, scoring='f1', cv = 5, random_state=12345)\n",
    "\n",
    "rscv_2.fit(\n",
    "    features_train_upsampled_scaled, target_train_upsampled,    \n",
    "    eval_set=(features_valid_scaled, target_val),\n",
    "    plot=False,\n",
    "    logging_level='Silent'\n",
    ")"
   ]
  },
  {
   "cell_type": "code",
   "execution_count": 489,
   "metadata": {},
   "outputs": [
    {
     "data": {
      "text/plain": [
       "0.6181455633100699"
      ]
     },
     "execution_count": 489,
     "metadata": {},
     "output_type": "execute_result"
    }
   ],
   "source": [
    "predicted_valid_2 = rscv_2.predict(features_valid_scaled)\n",
    "f1_2 = f1_score(target_val, predicted_valid_2)\n",
    "f1_2"
   ]
  },
  {
   "cell_type": "code",
   "execution_count": 490,
   "metadata": {},
   "outputs": [],
   "source": [
    "probabilities_valid_2 = rscv_2.predict_proba(features_valid_scaled)\n",
    "probabilities_one_valid_2 = probabilities_valid_2[:, 1]"
   ]
  },
  {
   "cell_type": "code",
   "execution_count": 491,
   "metadata": {},
   "outputs": [
    {
     "data": {
      "image/png": "[encoded data removed]",
      "text/plain": [
       "<Figure size 432x432 with 1 Axes>"
      ]
     },
     "metadata": {
      "needs_background": "light"
     },
     "output_type": "display_data"
    }
   ],
   "source": [
    "precision_2, recall_2, thresholds_2 = precision_recall_curve(target_val, probabilities_valid_2[:, 1])\n",
    "\n",
    "plt.figure(figsize=(6, 6))\n",
    "plt.step(recall_2, precision_2, where='post')\n",
    "plt.xlabel('Полнота (Recall)')\n",
    "plt.ylabel('Точность (Precision)')\n",
    "plt.ylim([0.0, 1.05])\n",
    "plt.xlim([0.0, 1.0])\n",
    "plt.title('Кривая Precision-Recall')\n",
    "plt.show() "
   ]
  },
  {
   "cell_type": "code",
   "execution_count": 492,
   "metadata": {},
   "outputs": [
    {
     "data": {
      "image/png": "[encoded data removed]",
      "text/plain": [
       "<Figure size 432x288 with 1 Axes>"
      ]
     },
     "metadata": {
      "needs_background": "light"
     },
     "output_type": "display_data"
    }
   ],
   "source": [
    "fpr2, tpr2, thresholds2 = roc_curve(target_val, probabilities_one_valid_2)\n",
    "\n",
    "plt.figure()\n",
    "\n",
    "plt.plot([0, 1], [0, 1], linestyle='--')\n",
    "\n",
    "plt.plot(fpr2, tpr2)\n",
    "plt.xlim([0.0, 1.0])\n",
    "plt.ylim([0.0, 1.0])\n",
    "plt.xlabel('False Positive Rate')\n",
    "plt.ylabel('True Positive Rate')\n",
    "plt.title('ROC-кривая')\n",
    "plt.show()"
   ]
  },
  {
   "cell_type": "code",
   "execution_count": 493,
   "metadata": {
    "scrolled": true
   },
   "outputs": [
    {
     "data": {
      "text/plain": [
       "0.8775508945000471"
      ]
     },
     "execution_count": 493,
     "metadata": {},
     "output_type": "execute_result"
    }
   ],
   "source": [
    "auc_roc = roc_auc_score(target_val, probabilities_one_valid_2)\n",
    "auc_roc"
   ]
  },
  {
   "cell_type": "markdown",
   "metadata": {},
   "source": [
    "При взвешивании классов получили:\n",
    "* f1_score = 0.6181\n",
    "* auc_roc = 0.8775\n",
    "\n",
    "Целевой показатель f1_score в 0.6181 > 0.59 на валидационной выборке достигнут."
   ]
  },
  {
   "cell_type": "markdown",
   "metadata": {},
   "source": [
    "### Уменьшение выборки"
   ]
  },
  {
   "cell_type": "code",
   "execution_count": 494,
   "metadata": {},
   "outputs": [],
   "source": [
    "def downsample(features, target, fraction):\n",
    "    features_zeros = features[target == 0]\n",
    "    features_ones = features[target == 1]\n",
    "    target_zeros = target[target == 0]\n",
    "    target_ones = target[target == 1]\n",
    "\n",
    "    features_downsampled = pd.concat(\n",
    "        [features_zeros.sample(frac=fraction, random_state=12345)] + [features_ones])\n",
    "    target_downsampled = pd.concat(\n",
    "        [target_zeros.sample(frac=fraction, random_state=12345)] + [target_ones])\n",
    "    \n",
    "    features_downsampled, target_downsampled = shuffle(\n",
    "        features_downsampled, target_downsampled, random_state=12345)\n",
    "    \n",
    "    return features_downsampled, target_downsampled"
   ]
  },
  {
   "cell_type": "code",
   "execution_count": 495,
   "metadata": {},
   "outputs": [],
   "source": [
    "features_train_downsampled, target_train_downsampled = downsample(features_train, target_train, 0.255)"
   ]
  },
  {
   "cell_type": "code",
   "execution_count": 496,
   "metadata": {},
   "outputs": [
    {
     "data": {
      "text/plain": [
       "1    1223\n",
       "0    1218\n",
       "Name: Exited, dtype: int64"
      ]
     },
     "execution_count": 496,
     "metadata": {},
     "output_type": "execute_result"
    }
   ],
   "source": [
    "target_train_downsampled.value_counts()"
   ]
  },
  {
   "cell_type": "code",
   "execution_count": 497,
   "metadata": {},
   "outputs": [],
   "source": [
    "features_train_downsampled_scaled = scaler.transform(features_train_downsampled) "
   ]
  },
  {
   "cell_type": "code",
   "execution_count": 498,
   "metadata": {},
   "outputs": [
    {
     "name": "stderr",
     "output_type": "stream",
     "text": [
      "C:\\Users\\Stepa\\Anaconda3\\lib\\site-packages\\sklearn\\model_selection\\_validation.py:610: FitFailedWarning: Estimator fit failed. The score on this train-test partition for these parameters will be set to nan. Details: \n",
      "Traceback (most recent call last):\n",
      "  File \"C:\\Users\\Stepa\\Anaconda3\\lib\\site-packages\\sklearn\\model_selection\\_validation.py\", line 593, in _fit_and_score\n",
      "    estimator.fit(X_train, y_train, **fit_params)\n",
      "  File \"C:\\Users\\Stepa\\Anaconda3\\lib\\site-packages\\catboost\\core.py\", line 5128, in fit\n",
      "    self._fit(X, y, cat_features, text_features, embedding_features, None, sample_weight, None, None, None, None, baseline, use_best_model,\n",
      "  File \"C:\\Users\\Stepa\\Anaconda3\\lib\\site-packages\\catboost\\core.py\", line 2339, in _fit\n",
      "    train_params = self._prepare_train_params(\n",
      "  File \"C:\\Users\\Stepa\\Anaconda3\\lib\\site-packages\\catboost\\core.py\", line 2266, in _prepare_train_params\n",
      "    _check_train_params(params)\n",
      "  File \"_catboost.pyx\", line 6080, in _catboost._check_train_params\n",
      "  File \"_catboost.pyx\", line 6099, in _catboost._check_train_params\n",
      "_catboost.CatBoostError: C:/Program Files (x86)/Go Agent/pipelines/BuildMaster/catboost.git/catboost/private/libs/options/boosting_options.cpp:79: Learning rate should be non-zero\n",
      "\n",
      "  warnings.warn(\"Estimator fit failed. The score on this train-test\"\n",
      "C:\\Users\\Stepa\\Anaconda3\\lib\\site-packages\\sklearn\\model_selection\\_validation.py:610: FitFailedWarning: Estimator fit failed. The score on this train-test partition for these parameters will be set to nan. Details: \n",
      "Traceback (most recent call last):\n",
      "  File \"C:\\Users\\Stepa\\Anaconda3\\lib\\site-packages\\sklearn\\model_selection\\_validation.py\", line 593, in _fit_and_score\n",
      "    estimator.fit(X_train, y_train, **fit_params)\n",
      "  File \"C:\\Users\\Stepa\\Anaconda3\\lib\\site-packages\\catboost\\core.py\", line 5128, in fit\n",
      "    self._fit(X, y, cat_features, text_features, embedding_features, None, sample_weight, None, None, None, None, baseline, use_best_model,\n",
      "  File \"C:\\Users\\Stepa\\Anaconda3\\lib\\site-packages\\catboost\\core.py\", line 2339, in _fit\n",
      "    train_params = self._prepare_train_params(\n",
      "  File \"C:\\Users\\Stepa\\Anaconda3\\lib\\site-packages\\catboost\\core.py\", line 2266, in _prepare_train_params\n",
      "    _check_train_params(params)\n",
      "  File \"_catboost.pyx\", line 6080, in _catboost._check_train_params\n",
      "  File \"_catboost.pyx\", line 6099, in _catboost._check_train_params\n",
      "_catboost.CatBoostError: C:/Program Files (x86)/Go Agent/pipelines/BuildMaster/catboost.git/catboost/private/libs/options/boosting_options.cpp:79: Learning rate should be non-zero\n",
      "\n",
      "  warnings.warn(\"Estimator fit failed. The score on this train-test\"\n",
      "C:\\Users\\Stepa\\Anaconda3\\lib\\site-packages\\sklearn\\model_selection\\_validation.py:610: FitFailedWarning: Estimator fit failed. The score on this train-test partition for these parameters will be set to nan. Details: \n",
      "Traceback (most recent call last):\n",
      "  File \"C:\\Users\\Stepa\\Anaconda3\\lib\\site-packages\\sklearn\\model_selection\\_validation.py\", line 593, in _fit_and_score\n",
      "    estimator.fit(X_train, y_train, **fit_params)\n",
      "  File \"C:\\Users\\Stepa\\Anaconda3\\lib\\site-packages\\catboost\\core.py\", line 5128, in fit\n",
      "    self._fit(X, y, cat_features, text_features, embedding_features, None, sample_weight, None, None, None, None, baseline, use_best_model,\n",
      "  File \"C:\\Users\\Stepa\\Anaconda3\\lib\\site-packages\\catboost\\core.py\", line 2339, in _fit\n",
      "    train_params = self._prepare_train_params(\n",
      "  File \"C:\\Users\\Stepa\\Anaconda3\\lib\\site-packages\\catboost\\core.py\", line 2266, in _prepare_train_params\n",
      "    _check_train_params(params)\n",
      "  File \"_catboost.pyx\", line 6080, in _catboost._check_train_params\n",
      "  File \"_catboost.pyx\", line 6099, in _catboost._check_train_params\n",
      "_catboost.CatBoostError: C:/Program Files (x86)/Go Agent/pipelines/BuildMaster/catboost.git/catboost/private/libs/options/boosting_options.cpp:79: Learning rate should be non-zero\n",
      "\n",
      "  warnings.warn(\"Estimator fit failed. The score on this train-test\"\n",
      "C:\\Users\\Stepa\\Anaconda3\\lib\\site-packages\\sklearn\\model_selection\\_validation.py:610: FitFailedWarning: Estimator fit failed. The score on this train-test partition for these parameters will be set to nan. Details: \n",
      "Traceback (most recent call last):\n",
      "  File \"C:\\Users\\Stepa\\Anaconda3\\lib\\site-packages\\sklearn\\model_selection\\_validation.py\", line 593, in _fit_and_score\n",
      "    estimator.fit(X_train, y_train, **fit_params)\n",
      "  File \"C:\\Users\\Stepa\\Anaconda3\\lib\\site-packages\\catboost\\core.py\", line 5128, in fit\n",
      "    self._fit(X, y, cat_features, text_features, embedding_features, None, sample_weight, None, None, None, None, baseline, use_best_model,\n",
      "  File \"C:\\Users\\Stepa\\Anaconda3\\lib\\site-packages\\catboost\\core.py\", line 2339, in _fit\n",
      "    train_params = self._prepare_train_params(\n",
      "  File \"C:\\Users\\Stepa\\Anaconda3\\lib\\site-packages\\catboost\\core.py\", line 2266, in _prepare_train_params\n",
      "    _check_train_params(params)\n",
      "  File \"_catboost.pyx\", line 6080, in _catboost._check_train_params\n",
      "  File \"_catboost.pyx\", line 6099, in _catboost._check_train_params\n",
      "_catboost.CatBoostError: C:/Program Files (x86)/Go Agent/pipelines/BuildMaster/catboost.git/catboost/private/libs/options/boosting_options.cpp:79: Learning rate should be non-zero\n",
      "\n",
      "  warnings.warn(\"Estimator fit failed. The score on this train-test\"\n",
      "C:\\Users\\Stepa\\Anaconda3\\lib\\site-packages\\sklearn\\model_selection\\_validation.py:610: FitFailedWarning: Estimator fit failed. The score on this train-test partition for these parameters will be set to nan. Details: \n",
      "Traceback (most recent call last):\n",
      "  File \"C:\\Users\\Stepa\\Anaconda3\\lib\\site-packages\\sklearn\\model_selection\\_validation.py\", line 593, in _fit_and_score\n",
      "    estimator.fit(X_train, y_train, **fit_params)\n",
      "  File \"C:\\Users\\Stepa\\Anaconda3\\lib\\site-packages\\catboost\\core.py\", line 5128, in fit\n",
      "    self._fit(X, y, cat_features, text_features, embedding_features, None, sample_weight, None, None, None, None, baseline, use_best_model,\n",
      "  File \"C:\\Users\\Stepa\\Anaconda3\\lib\\site-packages\\catboost\\core.py\", line 2339, in _fit\n",
      "    train_params = self._prepare_train_params(\n",
      "  File \"C:\\Users\\Stepa\\Anaconda3\\lib\\site-packages\\catboost\\core.py\", line 2266, in _prepare_train_params\n",
      "    _check_train_params(params)\n",
      "  File \"_catboost.pyx\", line 6080, in _catboost._check_train_params\n",
      "  File \"_catboost.pyx\", line 6099, in _catboost._check_train_params\n",
      "_catboost.CatBoostError: C:/Program Files (x86)/Go Agent/pipelines/BuildMaster/catboost.git/catboost/private/libs/options/boosting_options.cpp:79: Learning rate should be non-zero\n",
      "\n",
      "  warnings.warn(\"Estimator fit failed. The score on this train-test\"\n",
      "C:\\Users\\Stepa\\Anaconda3\\lib\\site-packages\\sklearn\\model_selection\\_validation.py:610: FitFailedWarning: Estimator fit failed. The score on this train-test partition for these parameters will be set to nan. Details: \n",
      "Traceback (most recent call last):\n",
      "  File \"C:\\Users\\Stepa\\Anaconda3\\lib\\site-packages\\sklearn\\model_selection\\_validation.py\", line 593, in _fit_and_score\n",
      "    estimator.fit(X_train, y_train, **fit_params)\n",
      "  File \"C:\\Users\\Stepa\\Anaconda3\\lib\\site-packages\\catboost\\core.py\", line 5128, in fit\n",
      "    self._fit(X, y, cat_features, text_features, embedding_features, None, sample_weight, None, None, None, None, baseline, use_best_model,\n",
      "  File \"C:\\Users\\Stepa\\Anaconda3\\lib\\site-packages\\catboost\\core.py\", line 2339, in _fit\n",
      "    train_params = self._prepare_train_params(\n",
      "  File \"C:\\Users\\Stepa\\Anaconda3\\lib\\site-packages\\catboost\\core.py\", line 2266, in _prepare_train_params\n",
      "    _check_train_params(params)\n",
      "  File \"_catboost.pyx\", line 6080, in _catboost._check_train_params\n",
      "  File \"_catboost.pyx\", line 6099, in _catboost._check_train_params\n",
      "_catboost.CatBoostError: C:/Program Files (x86)/Go Agent/pipelines/BuildMaster/catboost.git/catboost/private/libs/options/boosting_options.cpp:79: Learning rate should be non-zero\n",
      "\n",
      "  warnings.warn(\"Estimator fit failed. The score on this train-test\"\n",
      "C:\\Users\\Stepa\\Anaconda3\\lib\\site-packages\\sklearn\\model_selection\\_validation.py:610: FitFailedWarning: Estimator fit failed. The score on this train-test partition for these parameters will be set to nan. Details: \n",
      "Traceback (most recent call last):\n",
      "  File \"C:\\Users\\Stepa\\Anaconda3\\lib\\site-packages\\sklearn\\model_selection\\_validation.py\", line 593, in _fit_and_score\n",
      "    estimator.fit(X_train, y_train, **fit_params)\n",
      "  File \"C:\\Users\\Stepa\\Anaconda3\\lib\\site-packages\\catboost\\core.py\", line 5128, in fit\n",
      "    self._fit(X, y, cat_features, text_features, embedding_features, None, sample_weight, None, None, None, None, baseline, use_best_model,\n",
      "  File \"C:\\Users\\Stepa\\Anaconda3\\lib\\site-packages\\catboost\\core.py\", line 2339, in _fit\n",
      "    train_params = self._prepare_train_params(\n",
      "  File \"C:\\Users\\Stepa\\Anaconda3\\lib\\site-packages\\catboost\\core.py\", line 2266, in _prepare_train_params\n",
      "    _check_train_params(params)\n",
      "  File \"_catboost.pyx\", line 6080, in _catboost._check_train_params\n",
      "  File \"_catboost.pyx\", line 6099, in _catboost._check_train_params\n",
      "_catboost.CatBoostError: C:/Program Files (x86)/Go Agent/pipelines/BuildMaster/catboost.git/catboost/private/libs/options/boosting_options.cpp:79: Learning rate should be non-zero\n",
      "\n",
      "  warnings.warn(\"Estimator fit failed. The score on this train-test\"\n",
      "C:\\Users\\Stepa\\Anaconda3\\lib\\site-packages\\sklearn\\model_selection\\_validation.py:610: FitFailedWarning: Estimator fit failed. The score on this train-test partition for these parameters will be set to nan. Details: \n",
      "Traceback (most recent call last):\n",
      "  File \"C:\\Users\\Stepa\\Anaconda3\\lib\\site-packages\\sklearn\\model_selection\\_validation.py\", line 593, in _fit_and_score\n",
      "    estimator.fit(X_train, y_train, **fit_params)\n",
      "  File \"C:\\Users\\Stepa\\Anaconda3\\lib\\site-packages\\catboost\\core.py\", line 5128, in fit\n",
      "    self._fit(X, y, cat_features, text_features, embedding_features, None, sample_weight, None, None, None, None, baseline, use_best_model,\n",
      "  File \"C:\\Users\\Stepa\\Anaconda3\\lib\\site-packages\\catboost\\core.py\", line 2339, in _fit\n",
      "    train_params = self._prepare_train_params(\n",
      "  File \"C:\\Users\\Stepa\\Anaconda3\\lib\\site-packages\\catboost\\core.py\", line 2266, in _prepare_train_params\n",
      "    _check_train_params(params)\n",
      "  File \"_catboost.pyx\", line 6080, in _catboost._check_train_params\n",
      "  File \"_catboost.pyx\", line 6099, in _catboost._check_train_params\n",
      "_catboost.CatBoostError: C:/Program Files (x86)/Go Agent/pipelines/BuildMaster/catboost.git/catboost/private/libs/options/boosting_options.cpp:79: Learning rate should be non-zero\n",
      "\n",
      "  warnings.warn(\"Estimator fit failed. The score on this train-test\"\n",
      "C:\\Users\\Stepa\\Anaconda3\\lib\\site-packages\\sklearn\\model_selection\\_validation.py:610: FitFailedWarning: Estimator fit failed. The score on this train-test partition for these parameters will be set to nan. Details: \n",
      "Traceback (most recent call last):\n",
      "  File \"C:\\Users\\Stepa\\Anaconda3\\lib\\site-packages\\sklearn\\model_selection\\_validation.py\", line 593, in _fit_and_score\n",
      "    estimator.fit(X_train, y_train, **fit_params)\n",
      "  File \"C:\\Users\\Stepa\\Anaconda3\\lib\\site-packages\\catboost\\core.py\", line 5128, in fit\n",
      "    self._fit(X, y, cat_features, text_features, embedding_features, None, sample_weight, None, None, None, None, baseline, use_best_model,\n",
      "  File \"C:\\Users\\Stepa\\Anaconda3\\lib\\site-packages\\catboost\\core.py\", line 2339, in _fit\n",
      "    train_params = self._prepare_train_params(\n",
      "  File \"C:\\Users\\Stepa\\Anaconda3\\lib\\site-packages\\catboost\\core.py\", line 2266, in _prepare_train_params\n",
      "    _check_train_params(params)\n",
      "  File \"_catboost.pyx\", line 6080, in _catboost._check_train_params\n",
      "  File \"_catboost.pyx\", line 6099, in _catboost._check_train_params\n",
      "_catboost.CatBoostError: C:/Program Files (x86)/Go Agent/pipelines/BuildMaster/catboost.git/catboost/private/libs/options/boosting_options.cpp:79: Learning rate should be non-zero\n",
      "\n",
      "  warnings.warn(\"Estimator fit failed. The score on this train-test\"\n",
      "C:\\Users\\Stepa\\Anaconda3\\lib\\site-packages\\sklearn\\model_selection\\_validation.py:610: FitFailedWarning: Estimator fit failed. The score on this train-test partition for these parameters will be set to nan. Details: \n",
      "Traceback (most recent call last):\n",
      "  File \"C:\\Users\\Stepa\\Anaconda3\\lib\\site-packages\\sklearn\\model_selection\\_validation.py\", line 593, in _fit_and_score\n",
      "    estimator.fit(X_train, y_train, **fit_params)\n",
      "  File \"C:\\Users\\Stepa\\Anaconda3\\lib\\site-packages\\catboost\\core.py\", line 5128, in fit\n",
      "    self._fit(X, y, cat_features, text_features, embedding_features, None, sample_weight, None, None, None, None, baseline, use_best_model,\n",
      "  File \"C:\\Users\\Stepa\\Anaconda3\\lib\\site-packages\\catboost\\core.py\", line 2339, in _fit\n",
      "    train_params = self._prepare_train_params(\n",
      "  File \"C:\\Users\\Stepa\\Anaconda3\\lib\\site-packages\\catboost\\core.py\", line 2266, in _prepare_train_params\n",
      "    _check_train_params(params)\n",
      "  File \"_catboost.pyx\", line 6080, in _catboost._check_train_params\n",
      "  File \"_catboost.pyx\", line 6099, in _catboost._check_train_params\n",
      "_catboost.CatBoostError: C:/Program Files (x86)/Go Agent/pipelines/BuildMaster/catboost.git/catboost/private/libs/options/boosting_options.cpp:79: Learning rate should be non-zero\n",
      "\n",
      "  warnings.warn(\"Estimator fit failed. The score on this train-test\"\n"
     ]
    },
    {
     "name": "stderr",
     "output_type": "stream",
     "text": [
      "C:\\Users\\Stepa\\Anaconda3\\lib\\site-packages\\sklearn\\model_selection\\_search.py:918: UserWarning: One or more of the test scores are non-finite: [0.7329 0.7408 0.713     nan 0.7368 0.7189    nan 0.7445 0.6987 0.7418]\n",
      "  warnings.warn(\n"
     ]
    },
    {
     "name": "stdout",
     "output_type": "stream",
     "text": [
      "Wall time: 9.52 s\n"
     ]
    },
    {
     "data": {
      "text/plain": [
       "RandomizedSearchCV(cv=5,\n",
       "                   estimator=<catboost.core.CatBoostClassifier object at 0x00000248547C0B20>,\n",
       "                   param_distributions={'l2_leaf_reg': <scipy.stats._distn_infrastructure.rv_frozen object at 0x000002485159A8B0>,\n",
       "                                        'learning_rate': array([0.  , 0.05, 0.1 , 0.15, 0.2 ]),\n",
       "                                        'max_depth': <scipy.stats._distn_infrastructure.rv_frozen object at 0x00000248549EF1F0>,\n",
       "                                        'random_strength': <scipy.stats._distn_infrastructure.rv_frozen object at 0x00000248549BC220>},\n",
       "                   random_state=12345, scoring='f1')"
      ]
     },
     "execution_count": 498,
     "metadata": {},
     "output_type": "execute_result"
    }
   ],
   "source": [
    "%%time\n",
    "\n",
    "cb_model_3 = CatBoostClassifier(\n",
    "    eval_metric='TotalF1',\n",
    "    random_seed=63,\n",
    "    iterations=300,   \n",
    "    bagging_temperature=1,\n",
    "    random_strength=1,\n",
    "    one_hot_max_size=10,\n",
    "    leaf_estimation_method='Newton',\n",
    "    early_stopping_rounds=20\n",
    ")\n",
    "\n",
    "param_dist_3 = { \"learning_rate\": np.linspace(0,0.2,5),\n",
    "               \"max_depth\": randint(3, 10),\n",
    "               \"l2_leaf_reg\": randint(2, 10),\n",
    "               \"random_strength\": randint(1, 10)\n",
    "             }\n",
    "\n",
    "rscv_3 = RandomizedSearchCV(cb_model_3, param_dist_3, scoring='f1', cv = 5, random_state=12345)\n",
    "\n",
    "rscv_3.fit(\n",
    "    features_train_downsampled_scaled, target_train_downsampled,\n",
    "    eval_set=(features_valid_scaled, target_val),\n",
    "    plot=False,\n",
    "    logging_level='Silent'\n",
    ")"
   ]
  },
  {
   "cell_type": "code",
   "execution_count": 499,
   "metadata": {},
   "outputs": [
    {
     "data": {
      "text/plain": [
       "0.6080178173719377"
      ]
     },
     "execution_count": 499,
     "metadata": {},
     "output_type": "execute_result"
    }
   ],
   "source": [
    "predicted_valid_3 = rscv_3.predict(features_valid_scaled)\n",
    "f1 = f1_score(target_val, predicted_valid_3)\n",
    "f1"
   ]
  },
  {
   "cell_type": "code",
   "execution_count": 500,
   "metadata": {},
   "outputs": [],
   "source": [
    "probabilities_valid_3 = rscv_3.predict_proba(features_valid_scaled)\n",
    "probabilities_one_valid_3 = probabilities_valid_3[:, 1]"
   ]
  },
  {
   "cell_type": "code",
   "execution_count": 501,
   "metadata": {},
   "outputs": [
    {
     "data": {
      "image/png": "[encoded data removed]",
      "text/plain": [
       "<Figure size 432x432 with 1 Axes>"
      ]
     },
     "metadata": {
      "needs_background": "light"
     },
     "output_type": "display_data"
    }
   ],
   "source": [
    "precision_3, recall_3, thresholds_3 = precision_recall_curve(target_val, probabilities_valid_3[:, 1])\n",
    "\n",
    "plt.figure(figsize=(6, 6))\n",
    "plt.step(recall_3, precision_3, where='post')\n",
    "plt.xlabel('Полнота (Recall)')\n",
    "plt.ylabel('Точность (Precision)')\n",
    "plt.ylim([0.0, 1.05])\n",
    "plt.xlim([0.0, 1.0])\n",
    "plt.title('Кривая Precision-Recall')\n",
    "plt.show() "
   ]
  },
  {
   "cell_type": "code",
   "execution_count": 502,
   "metadata": {
    "scrolled": true
   },
   "outputs": [
    {
     "data": {
      "image/png": "[encoded data removed]",
      "text/plain": [
       "<Figure size 432x288 with 1 Axes>"
      ]
     },
     "metadata": {
      "needs_background": "light"
     },
     "output_type": "display_data"
    }
   ],
   "source": [
    "fpr3, tpr3, thresholds3 = roc_curve(target_val, probabilities_one_valid_3)\n",
    "\n",
    "plt.figure()\n",
    "\n",
    "plt.plot([0, 1], [0, 1], linestyle='--')\n",
    "\n",
    "plt.plot(fpr3, tpr3)\n",
    "plt.xlim([0.0, 1.0])\n",
    "plt.ylim([0.0, 1.0])\n",
    "plt.xlabel('False Positive Rate')\n",
    "plt.ylabel('True Positive Rate')\n",
    "plt.title('ROC-кривая')\n",
    "plt.show()"
   ]
  },
  {
   "cell_type": "code",
   "execution_count": 503,
   "metadata": {},
   "outputs": [
    {
     "data": {
      "text/plain": [
       "0.8483460347867128"
      ]
     },
     "execution_count": 503,
     "metadata": {},
     "output_type": "execute_result"
    }
   ],
   "source": [
    "auc_roc = roc_auc_score(target_val, probabilities_one_valid_3)\n",
    "auc_roc"
   ]
  },
  {
   "cell_type": "markdown",
   "metadata": {},
   "source": [
    "При уменьшении выборки:\n",
    "* f1_score = 0.6080\n",
    "* auc_roc = 0.8483 \n",
    "\n",
    "Целевой показатель f1_score в 0.6080 > 0.59 на валидационной выборке достигнут."
   ]
  },
  {
   "cell_type": "markdown",
   "metadata": {},
   "source": [
    "### Выводы"
   ]
  },
  {
   "cell_type": "markdown",
   "metadata": {},
   "source": [
    "Итого для модели со случайным лесом:\n",
    "* наилучшие метрики удалось получить при использовании взвешивания классов: \n",
    " * f1_score = 0.6292, auc_roc = 0.8763\n",
    "* увеличение выборки дубликатами показало результаты: \n",
    " * f1_score = 0.6181, auc_roc = 0.8775\n",
    "* уменьшение выборки дало результаты: \n",
    " * f1_score = 0.6080, auc_roc = 0.8483\n",
    "\n",
    "Для тестирования выберем модель со взвешиванием классов с auto_class_weights='Balanced'."
   ]
  },
  {
   "cell_type": "markdown",
   "metadata": {},
   "source": [
    "## Тестирование модели"
   ]
  },
  {
   "cell_type": "markdown",
   "metadata": {},
   "source": [
    "В feature_train_temp, target_train_temp были данные, которые делились на тренировочную и валидационную выборки. Обучим лучшую модель на совокупности тренировочных и валидационных данных."
   ]
  },
  {
   "cell_type": "code",
   "execution_count": 504,
   "metadata": {},
   "outputs": [
    {
     "data": {
      "text/plain": [
       "0    6370\n",
       "1    1630\n",
       "Name: Exited, dtype: int64"
      ]
     },
     "execution_count": 504,
     "metadata": {},
     "output_type": "execute_result"
    }
   ],
   "source": [
    "target_train_temp.value_counts()"
   ]
  },
  {
   "cell_type": "code",
   "execution_count": 505,
   "metadata": {},
   "outputs": [],
   "source": [
    "features_train_temp_scaled = scaler.transform(features_train_temp)"
   ]
  },
  {
   "cell_type": "code",
   "execution_count": 506,
   "metadata": {},
   "outputs": [
    {
     "name": "stderr",
     "output_type": "stream",
     "text": [
      "C:\\Users\\Stepa\\Anaconda3\\lib\\site-packages\\sklearn\\model_selection\\_validation.py:610: FitFailedWarning: Estimator fit failed. The score on this train-test partition for these parameters will be set to nan. Details: \n",
      "Traceback (most recent call last):\n",
      "  File \"C:\\Users\\Stepa\\Anaconda3\\lib\\site-packages\\sklearn\\model_selection\\_validation.py\", line 593, in _fit_and_score\n",
      "    estimator.fit(X_train, y_train, **fit_params)\n",
      "  File \"C:\\Users\\Stepa\\Anaconda3\\lib\\site-packages\\catboost\\core.py\", line 5128, in fit\n",
      "    self._fit(X, y, cat_features, text_features, embedding_features, None, sample_weight, None, None, None, None, baseline, use_best_model,\n",
      "  File \"C:\\Users\\Stepa\\Anaconda3\\lib\\site-packages\\catboost\\core.py\", line 2339, in _fit\n",
      "    train_params = self._prepare_train_params(\n",
      "  File \"C:\\Users\\Stepa\\Anaconda3\\lib\\site-packages\\catboost\\core.py\", line 2266, in _prepare_train_params\n",
      "    _check_train_params(params)\n",
      "  File \"_catboost.pyx\", line 6080, in _catboost._check_train_params\n",
      "  File \"_catboost.pyx\", line 6099, in _catboost._check_train_params\n",
      "_catboost.CatBoostError: C:/Program Files (x86)/Go Agent/pipelines/BuildMaster/catboost.git/catboost/private/libs/options/boosting_options.cpp:79: Learning rate should be non-zero\n",
      "\n",
      "  warnings.warn(\"Estimator fit failed. The score on this train-test\"\n",
      "C:\\Users\\Stepa\\Anaconda3\\lib\\site-packages\\sklearn\\model_selection\\_validation.py:610: FitFailedWarning: Estimator fit failed. The score on this train-test partition for these parameters will be set to nan. Details: \n",
      "Traceback (most recent call last):\n",
      "  File \"C:\\Users\\Stepa\\Anaconda3\\lib\\site-packages\\sklearn\\model_selection\\_validation.py\", line 593, in _fit_and_score\n",
      "    estimator.fit(X_train, y_train, **fit_params)\n",
      "  File \"C:\\Users\\Stepa\\Anaconda3\\lib\\site-packages\\catboost\\core.py\", line 5128, in fit\n",
      "    self._fit(X, y, cat_features, text_features, embedding_features, None, sample_weight, None, None, None, None, baseline, use_best_model,\n",
      "  File \"C:\\Users\\Stepa\\Anaconda3\\lib\\site-packages\\catboost\\core.py\", line 2339, in _fit\n",
      "    train_params = self._prepare_train_params(\n",
      "  File \"C:\\Users\\Stepa\\Anaconda3\\lib\\site-packages\\catboost\\core.py\", line 2266, in _prepare_train_params\n",
      "    _check_train_params(params)\n",
      "  File \"_catboost.pyx\", line 6080, in _catboost._check_train_params\n",
      "  File \"_catboost.pyx\", line 6099, in _catboost._check_train_params\n",
      "_catboost.CatBoostError: C:/Program Files (x86)/Go Agent/pipelines/BuildMaster/catboost.git/catboost/private/libs/options/boosting_options.cpp:79: Learning rate should be non-zero\n",
      "\n",
      "  warnings.warn(\"Estimator fit failed. The score on this train-test\"\n",
      "C:\\Users\\Stepa\\Anaconda3\\lib\\site-packages\\sklearn\\model_selection\\_validation.py:610: FitFailedWarning: Estimator fit failed. The score on this train-test partition for these parameters will be set to nan. Details: \n",
      "Traceback (most recent call last):\n",
      "  File \"C:\\Users\\Stepa\\Anaconda3\\lib\\site-packages\\sklearn\\model_selection\\_validation.py\", line 593, in _fit_and_score\n",
      "    estimator.fit(X_train, y_train, **fit_params)\n",
      "  File \"C:\\Users\\Stepa\\Anaconda3\\lib\\site-packages\\catboost\\core.py\", line 5128, in fit\n",
      "    self._fit(X, y, cat_features, text_features, embedding_features, None, sample_weight, None, None, None, None, baseline, use_best_model,\n",
      "  File \"C:\\Users\\Stepa\\Anaconda3\\lib\\site-packages\\catboost\\core.py\", line 2339, in _fit\n",
      "    train_params = self._prepare_train_params(\n",
      "  File \"C:\\Users\\Stepa\\Anaconda3\\lib\\site-packages\\catboost\\core.py\", line 2266, in _prepare_train_params\n",
      "    _check_train_params(params)\n",
      "  File \"_catboost.pyx\", line 6080, in _catboost._check_train_params\n",
      "  File \"_catboost.pyx\", line 6099, in _catboost._check_train_params\n",
      "_catboost.CatBoostError: C:/Program Files (x86)/Go Agent/pipelines/BuildMaster/catboost.git/catboost/private/libs/options/boosting_options.cpp:79: Learning rate should be non-zero\n",
      "\n",
      "  warnings.warn(\"Estimator fit failed. The score on this train-test\"\n",
      "C:\\Users\\Stepa\\Anaconda3\\lib\\site-packages\\sklearn\\model_selection\\_validation.py:610: FitFailedWarning: Estimator fit failed. The score on this train-test partition for these parameters will be set to nan. Details: \n",
      "Traceback (most recent call last):\n",
      "  File \"C:\\Users\\Stepa\\Anaconda3\\lib\\site-packages\\sklearn\\model_selection\\_validation.py\", line 593, in _fit_and_score\n",
      "    estimator.fit(X_train, y_train, **fit_params)\n",
      "  File \"C:\\Users\\Stepa\\Anaconda3\\lib\\site-packages\\catboost\\core.py\", line 5128, in fit\n",
      "    self._fit(X, y, cat_features, text_features, embedding_features, None, sample_weight, None, None, None, None, baseline, use_best_model,\n",
      "  File \"C:\\Users\\Stepa\\Anaconda3\\lib\\site-packages\\catboost\\core.py\", line 2339, in _fit\n",
      "    train_params = self._prepare_train_params(\n",
      "  File \"C:\\Users\\Stepa\\Anaconda3\\lib\\site-packages\\catboost\\core.py\", line 2266, in _prepare_train_params\n",
      "    _check_train_params(params)\n",
      "  File \"_catboost.pyx\", line 6080, in _catboost._check_train_params\n",
      "  File \"_catboost.pyx\", line 6099, in _catboost._check_train_params\n",
      "_catboost.CatBoostError: C:/Program Files (x86)/Go Agent/pipelines/BuildMaster/catboost.git/catboost/private/libs/options/boosting_options.cpp:79: Learning rate should be non-zero\n",
      "\n",
      "  warnings.warn(\"Estimator fit failed. The score on this train-test\"\n",
      "C:\\Users\\Stepa\\Anaconda3\\lib\\site-packages\\sklearn\\model_selection\\_validation.py:610: FitFailedWarning: Estimator fit failed. The score on this train-test partition for these parameters will be set to nan. Details: \n",
      "Traceback (most recent call last):\n",
      "  File \"C:\\Users\\Stepa\\Anaconda3\\lib\\site-packages\\sklearn\\model_selection\\_validation.py\", line 593, in _fit_and_score\n",
      "    estimator.fit(X_train, y_train, **fit_params)\n",
      "  File \"C:\\Users\\Stepa\\Anaconda3\\lib\\site-packages\\catboost\\core.py\", line 5128, in fit\n",
      "    self._fit(X, y, cat_features, text_features, embedding_features, None, sample_weight, None, None, None, None, baseline, use_best_model,\n",
      "  File \"C:\\Users\\Stepa\\Anaconda3\\lib\\site-packages\\catboost\\core.py\", line 2339, in _fit\n",
      "    train_params = self._prepare_train_params(\n",
      "  File \"C:\\Users\\Stepa\\Anaconda3\\lib\\site-packages\\catboost\\core.py\", line 2266, in _prepare_train_params\n",
      "    _check_train_params(params)\n",
      "  File \"_catboost.pyx\", line 6080, in _catboost._check_train_params\n",
      "  File \"_catboost.pyx\", line 6099, in _catboost._check_train_params\n",
      "_catboost.CatBoostError: C:/Program Files (x86)/Go Agent/pipelines/BuildMaster/catboost.git/catboost/private/libs/options/boosting_options.cpp:79: Learning rate should be non-zero\n",
      "\n",
      "  warnings.warn(\"Estimator fit failed. The score on this train-test\"\n",
      "C:\\Users\\Stepa\\Anaconda3\\lib\\site-packages\\sklearn\\model_selection\\_validation.py:610: FitFailedWarning: Estimator fit failed. The score on this train-test partition for these parameters will be set to nan. Details: \n",
      "Traceback (most recent call last):\n",
      "  File \"C:\\Users\\Stepa\\Anaconda3\\lib\\site-packages\\sklearn\\model_selection\\_validation.py\", line 593, in _fit_and_score\n",
      "    estimator.fit(X_train, y_train, **fit_params)\n",
      "  File \"C:\\Users\\Stepa\\Anaconda3\\lib\\site-packages\\catboost\\core.py\", line 5128, in fit\n",
      "    self._fit(X, y, cat_features, text_features, embedding_features, None, sample_weight, None, None, None, None, baseline, use_best_model,\n",
      "  File \"C:\\Users\\Stepa\\Anaconda3\\lib\\site-packages\\catboost\\core.py\", line 2339, in _fit\n",
      "    train_params = self._prepare_train_params(\n",
      "  File \"C:\\Users\\Stepa\\Anaconda3\\lib\\site-packages\\catboost\\core.py\", line 2266, in _prepare_train_params\n",
      "    _check_train_params(params)\n",
      "  File \"_catboost.pyx\", line 6080, in _catboost._check_train_params\n",
      "  File \"_catboost.pyx\", line 6099, in _catboost._check_train_params\n",
      "_catboost.CatBoostError: C:/Program Files (x86)/Go Agent/pipelines/BuildMaster/catboost.git/catboost/private/libs/options/boosting_options.cpp:79: Learning rate should be non-zero\n",
      "\n",
      "  warnings.warn(\"Estimator fit failed. The score on this train-test\"\n",
      "C:\\Users\\Stepa\\Anaconda3\\lib\\site-packages\\sklearn\\model_selection\\_validation.py:610: FitFailedWarning: Estimator fit failed. The score on this train-test partition for these parameters will be set to nan. Details: \n",
      "Traceback (most recent call last):\n",
      "  File \"C:\\Users\\Stepa\\Anaconda3\\lib\\site-packages\\sklearn\\model_selection\\_validation.py\", line 593, in _fit_and_score\n",
      "    estimator.fit(X_train, y_train, **fit_params)\n",
      "  File \"C:\\Users\\Stepa\\Anaconda3\\lib\\site-packages\\catboost\\core.py\", line 5128, in fit\n",
      "    self._fit(X, y, cat_features, text_features, embedding_features, None, sample_weight, None, None, None, None, baseline, use_best_model,\n",
      "  File \"C:\\Users\\Stepa\\Anaconda3\\lib\\site-packages\\catboost\\core.py\", line 2339, in _fit\n",
      "    train_params = self._prepare_train_params(\n",
      "  File \"C:\\Users\\Stepa\\Anaconda3\\lib\\site-packages\\catboost\\core.py\", line 2266, in _prepare_train_params\n",
      "    _check_train_params(params)\n",
      "  File \"_catboost.pyx\", line 6080, in _catboost._check_train_params\n",
      "  File \"_catboost.pyx\", line 6099, in _catboost._check_train_params\n",
      "_catboost.CatBoostError: C:/Program Files (x86)/Go Agent/pipelines/BuildMaster/catboost.git/catboost/private/libs/options/boosting_options.cpp:79: Learning rate should be non-zero\n",
      "\n",
      "  warnings.warn(\"Estimator fit failed. The score on this train-test\"\n",
      "C:\\Users\\Stepa\\Anaconda3\\lib\\site-packages\\sklearn\\model_selection\\_validation.py:610: FitFailedWarning: Estimator fit failed. The score on this train-test partition for these parameters will be set to nan. Details: \n",
      "Traceback (most recent call last):\n",
      "  File \"C:\\Users\\Stepa\\Anaconda3\\lib\\site-packages\\sklearn\\model_selection\\_validation.py\", line 593, in _fit_and_score\n",
      "    estimator.fit(X_train, y_train, **fit_params)\n",
      "  File \"C:\\Users\\Stepa\\Anaconda3\\lib\\site-packages\\catboost\\core.py\", line 5128, in fit\n",
      "    self._fit(X, y, cat_features, text_features, embedding_features, None, sample_weight, None, None, None, None, baseline, use_best_model,\n",
      "  File \"C:\\Users\\Stepa\\Anaconda3\\lib\\site-packages\\catboost\\core.py\", line 2339, in _fit\n",
      "    train_params = self._prepare_train_params(\n",
      "  File \"C:\\Users\\Stepa\\Anaconda3\\lib\\site-packages\\catboost\\core.py\", line 2266, in _prepare_train_params\n",
      "    _check_train_params(params)\n",
      "  File \"_catboost.pyx\", line 6080, in _catboost._check_train_params\n",
      "  File \"_catboost.pyx\", line 6099, in _catboost._check_train_params\n",
      "_catboost.CatBoostError: C:/Program Files (x86)/Go Agent/pipelines/BuildMaster/catboost.git/catboost/private/libs/options/boosting_options.cpp:79: Learning rate should be non-zero\n",
      "\n",
      "  warnings.warn(\"Estimator fit failed. The score on this train-test\"\n",
      "C:\\Users\\Stepa\\Anaconda3\\lib\\site-packages\\sklearn\\model_selection\\_validation.py:610: FitFailedWarning: Estimator fit failed. The score on this train-test partition for these parameters will be set to nan. Details: \n",
      "Traceback (most recent call last):\n",
      "  File \"C:\\Users\\Stepa\\Anaconda3\\lib\\site-packages\\sklearn\\model_selection\\_validation.py\", line 593, in _fit_and_score\n",
      "    estimator.fit(X_train, y_train, **fit_params)\n",
      "  File \"C:\\Users\\Stepa\\Anaconda3\\lib\\site-packages\\catboost\\core.py\", line 5128, in fit\n",
      "    self._fit(X, y, cat_features, text_features, embedding_features, None, sample_weight, None, None, None, None, baseline, use_best_model,\n",
      "  File \"C:\\Users\\Stepa\\Anaconda3\\lib\\site-packages\\catboost\\core.py\", line 2339, in _fit\n",
      "    train_params = self._prepare_train_params(\n",
      "  File \"C:\\Users\\Stepa\\Anaconda3\\lib\\site-packages\\catboost\\core.py\", line 2266, in _prepare_train_params\n",
      "    _check_train_params(params)\n",
      "  File \"_catboost.pyx\", line 6080, in _catboost._check_train_params\n",
      "  File \"_catboost.pyx\", line 6099, in _catboost._check_train_params\n",
      "_catboost.CatBoostError: C:/Program Files (x86)/Go Agent/pipelines/BuildMaster/catboost.git/catboost/private/libs/options/boosting_options.cpp:79: Learning rate should be non-zero\n",
      "\n",
      "  warnings.warn(\"Estimator fit failed. The score on this train-test\"\n",
      "C:\\Users\\Stepa\\Anaconda3\\lib\\site-packages\\sklearn\\model_selection\\_validation.py:610: FitFailedWarning: Estimator fit failed. The score on this train-test partition for these parameters will be set to nan. Details: \n",
      "Traceback (most recent call last):\n",
      "  File \"C:\\Users\\Stepa\\Anaconda3\\lib\\site-packages\\sklearn\\model_selection\\_validation.py\", line 593, in _fit_and_score\n",
      "    estimator.fit(X_train, y_train, **fit_params)\n",
      "  File \"C:\\Users\\Stepa\\Anaconda3\\lib\\site-packages\\catboost\\core.py\", line 5128, in fit\n",
      "    self._fit(X, y, cat_features, text_features, embedding_features, None, sample_weight, None, None, None, None, baseline, use_best_model,\n",
      "  File \"C:\\Users\\Stepa\\Anaconda3\\lib\\site-packages\\catboost\\core.py\", line 2339, in _fit\n",
      "    train_params = self._prepare_train_params(\n",
      "  File \"C:\\Users\\Stepa\\Anaconda3\\lib\\site-packages\\catboost\\core.py\", line 2266, in _prepare_train_params\n",
      "    _check_train_params(params)\n",
      "  File \"_catboost.pyx\", line 6080, in _catboost._check_train_params\n",
      "  File \"_catboost.pyx\", line 6099, in _catboost._check_train_params\n",
      "_catboost.CatBoostError: C:/Program Files (x86)/Go Agent/pipelines/BuildMaster/catboost.git/catboost/private/libs/options/boosting_options.cpp:79: Learning rate should be non-zero\n",
      "\n",
      "  warnings.warn(\"Estimator fit failed. The score on this train-test\"\n"
     ]
    },
    {
     "name": "stderr",
     "output_type": "stream",
     "text": [
      "C:\\Users\\Stepa\\Anaconda3\\lib\\site-packages\\sklearn\\model_selection\\_search.py:918: UserWarning: One or more of the test scores are non-finite: [0.6152 0.6123 0.6129    nan 0.599  0.6182    nan 0.5954 0.5874 0.6038]\n",
      "  warnings.warn(\n"
     ]
    },
    {
     "data": {
      "text/plain": [
       "RandomizedSearchCV(cv=5,\n",
       "                   estimator=<catboost.core.CatBoostClassifier object at 0x00000248549DA490>,\n",
       "                   param_distributions={'l2_leaf_reg': <scipy.stats._distn_infrastructure.rv_frozen object at 0x00000248549DA670>,\n",
       "                                        'learning_rate': array([0.  , 0.05, 0.1 , 0.15, 0.2 ]),\n",
       "                                        'max_depth': <scipy.stats._distn_infrastructure.rv_frozen object at 0x00000248549DA430>,\n",
       "                                        'random_strength': <scipy.stats._distn_infrastructure.rv_frozen object at 0x00000248549DA850>},\n",
       "                   random_state=12345, scoring='f1')"
      ]
     },
     "execution_count": 506,
     "metadata": {},
     "output_type": "execute_result"
    }
   ],
   "source": [
    "rscv_1.fit(features_train_temp_scaled, target_train_temp, verbose=False)"
   ]
  },
  {
   "cell_type": "code",
   "execution_count": 507,
   "metadata": {},
   "outputs": [],
   "source": [
    "features_test_scaled = scaler.transform(features_test) "
   ]
  },
  {
   "cell_type": "code",
   "execution_count": 508,
   "metadata": {},
   "outputs": [],
   "source": [
    "predicted_test = rscv_1.predict(features_test_scaled)"
   ]
  },
  {
   "cell_type": "code",
   "execution_count": 509,
   "metadata": {
    "scrolled": true
   },
   "outputs": [
    {
     "data": {
      "text/plain": [
       "0.6263846928499497"
      ]
     },
     "execution_count": 509,
     "metadata": {},
     "output_type": "execute_result"
    }
   ],
   "source": [
    "f1_4 = f1_score(target_test, predicted_test)\n",
    "f1_4"
   ]
  },
  {
   "cell_type": "markdown",
   "metadata": {},
   "source": [
    "На тестовой выборке получили значение метрики f1_score 0.6263 больше минимального целевого показателя 0.59."
   ]
  },
  {
   "cell_type": "code",
   "execution_count": 510,
   "metadata": {},
   "outputs": [],
   "source": [
    "probabilities_test_4 = rscv_1.predict_proba(features_test_scaled)\n",
    "probabilities_one_test_4 = probabilities_test_4[:, 1]"
   ]
  },
  {
   "cell_type": "code",
   "execution_count": 511,
   "metadata": {},
   "outputs": [
    {
     "data": {
      "image/png": "[encoded data removed]",
      "text/plain": [
       "<Figure size 432x432 with 1 Axes>"
      ]
     },
     "metadata": {
      "needs_background": "light"
     },
     "output_type": "display_data"
    }
   ],
   "source": [
    "precision_4, recall_4, thresholds_4 = precision_recall_curve(target_test, probabilities_test_4[:, 1])\n",
    "\n",
    "plt.figure(figsize=(6, 6))\n",
    "plt.step(recall_4, precision_4, where='post')\n",
    "plt.xlabel('Полнота (Recall)')\n",
    "plt.ylabel('Точность (Precision)')\n",
    "plt.ylim([0.0, 1.05])\n",
    "plt.xlim([0.0, 1.0])\n",
    "plt.title('Кривая Precision-Recall')\n",
    "plt.show() "
   ]
  },
  {
   "cell_type": "code",
   "execution_count": 512,
   "metadata": {},
   "outputs": [
    {
     "data": {
      "image/png": "[encoded data removed]",
      "text/plain": [
       "<Figure size 432x288 with 1 Axes>"
      ]
     },
     "metadata": {
      "needs_background": "light"
     },
     "output_type": "display_data"
    }
   ],
   "source": [
    "fpr4, tpr4, thresholds4 = roc_curve(target_test, probabilities_one_test_4)\n",
    "\n",
    "plt.figure()\n",
    "\n",
    "plt.plot([0, 1], [0, 1], linestyle='--')\n",
    "\n",
    "plt.plot(fpr4, tpr4)\n",
    "plt.xlim([0.0, 1.0])\n",
    "plt.ylim([0.0, 1.0])\n",
    "plt.xlabel('False Positive Rate')\n",
    "plt.ylabel('True Positive Rate')\n",
    "plt.title('ROC-кривая')\n",
    "plt.show()"
   ]
  },
  {
   "cell_type": "markdown",
   "metadata": {},
   "source": [
    "Чем график выше, тем больше значение TPR и лучше качество модели."
   ]
  },
  {
   "cell_type": "code",
   "execution_count": 513,
   "metadata": {},
   "outputs": [
    {
     "data": {
      "text/plain": [
       "0.8733386699488395"
      ]
     },
     "execution_count": 513,
     "metadata": {},
     "output_type": "execute_result"
    }
   ],
   "source": [
    "auc_roc = roc_auc_score(target_test, probabilities_one_test_4)\n",
    "auc_roc"
   ]
  },
  {
   "cell_type": "code",
   "execution_count": 514,
   "metadata": {
    "scrolled": true
   },
   "outputs": [
    {
     "data": {
      "text/plain": [
       "<sklearn.metrics._plot.confusion_matrix.ConfusionMatrixDisplay at 0x24850fadbe0>"
      ]
     },
     "execution_count": 514,
     "metadata": {},
     "output_type": "execute_result"
    },
    {
     "data": {
      "image/png": "[encoded data removed]",
      "text/plain": [
       "<Figure size 432x288 with 2 Axes>"
      ]
     },
     "metadata": {
      "needs_background": "light"
     },
     "output_type": "display_data"
    }
   ],
   "source": [
    "plot_confusion_matrix(estimator=rscv_1, X=features_test_scaled, y_true=target_test,\n",
    "                      normalize='true', cmap='Blues')"
   ]
  },
  {
   "cell_type": "markdown",
   "metadata": {},
   "source": [
    "Модель со взвешиванием классов должна предсказывать:\n",
    "* в 83% случаев, что клиент может перестать быть клиентом банка\n",
    "* в 76% случаев, что клиент останется клиентом банка\n",
    "* в 24% случаев с ошибкой, что клиент останется клиентом банка, в то время как на самом деле клиент может перестать быть клиентом банка\n",
    "* в 17% случаев с ошибкой, что клиент перестанет быть клиентом банка, в то время как на самом деле клиент останется клиентом банка   "
   ]
  },
  {
   "cell_type": "markdown",
   "metadata": {},
   "source": [
    "Клиентам, для которых модель предсказала, что они могут перестать быть клиентам банка можно сделать какие-нибудь выгодные предложения, чтобы попытаться удержать этих клиентов."
   ]
  },
  {
   "cell_type": "markdown",
   "metadata": {},
   "source": [
    "На тех 17% клиентов, для которых модель ошибочно прогнозирует уход из банка, банк на предложениях выгодных условий будет терять деньги, поэтому имеет смысл искать способы уменьшить эту ошибку."
   ]
  },
  {
   "cell_type": "markdown",
   "metadata": {},
   "source": [
    "Те 24% клиентов, для которых модель ошибочно спрогнозирует, что они останутся клиентами банка - этим клиентам не будет своевременного сделаны выгодные предложения и банк может этих клиентов потерять. Эту ошибку тоже имеет смысл уменьшать, чтобы уменьшить количество потерянных клиентов. "
   ]
  },
  {
   "cell_type": "markdown",
   "metadata": {},
   "source": [
    "На тестовой выборке получены значения метрик f1 = 0.6263 и auc_roc = 0.8733."
   ]
  },
  {
   "cell_type": "markdown",
   "metadata": {},
   "source": [
    "## Чек-лист готовности проекта"
   ]
  },
  {
   "cell_type": "markdown",
   "metadata": {},
   "source": [
    "Поставьте 'x' в выполненных пунктах. Далее нажмите Shift+Enter."
   ]
  },
  {
   "cell_type": "markdown",
   "metadata": {},
   "source": [
    "- [x]  Jupyter Notebook открыт\n",
    "- [x]  Весь код выполняется без ошибок\n",
    "- [x]  Ячейки с кодом расположены в порядке исполнения\n",
    "- [x]  Выполнен шаг 1: данные подготовлены\n",
    "- [x]  Выполнен шаг 2: задача исследована\n",
    "    - [x]  Исследован баланс классов\n",
    "    - [x]  Изучены модели без учёта дисбаланса\n",
    "    - [x]  Написаны выводы по результатам исследования\n",
    "- [ ]  Выполнен шаг 3: учтён дисбаланс\n",
    "    - [x]  Применено несколько способов борьбы с дисбалансом\n",
    "    - [x]  Написаны выводы по результатам исследования\n",
    "- [x]  Выполнен шаг 4: проведено тестирование\n",
    "- [x]  Удалось достичь *F1*-меры не менее 0.59\n",
    "- [x]  Исследована метрика *AUC-ROC*"
   ]
  },
  {
   "cell_type": "code",
   "execution_count": null,
   "metadata": {},
   "outputs": [],
   "source": []
  }
 ],
 "metadata": {
  "ExecuteTimeLog": [
   {
    "duration": 43,
    "start_time": "2022-08-08T09:16:26.950Z"
   },
   {
    "duration": 1346,
    "start_time": "2022-08-08T09:16:29.540Z"
   },
   {
    "duration": 50,
    "start_time": "2022-08-08T09:16:32.456Z"
   },
   {
    "duration": 11,
    "start_time": "2022-08-08T09:16:49.292Z"
   },
   {
    "duration": 44,
    "start_time": "2022-08-08T15:53:47.165Z"
   },
   {
    "duration": 1478,
    "start_time": "2022-08-08T15:53:51.053Z"
   },
   {
    "duration": 93,
    "start_time": "2022-08-08T15:53:52.533Z"
   },
   {
    "duration": 13,
    "start_time": "2022-08-08T15:53:52.628Z"
   },
   {
    "duration": 13,
    "start_time": "2022-08-08T15:53:52.642Z"
   },
   {
    "duration": 7,
    "start_time": "2022-08-08T15:53:52.657Z"
   },
   {
    "duration": 14,
    "start_time": "2022-08-08T15:58:19.165Z"
   },
   {
    "duration": 4,
    "start_time": "2022-08-08T15:58:24.373Z"
   },
   {
    "duration": 21,
    "start_time": "2022-08-08T15:59:50.349Z"
   },
   {
    "duration": 134,
    "start_time": "2022-08-08T16:05:42.780Z"
   },
   {
    "duration": 53,
    "start_time": "2022-08-10T14:52:37.199Z"
   },
   {
    "duration": 1578,
    "start_time": "2022-08-10T14:52:39.940Z"
   },
   {
    "duration": 101,
    "start_time": "2022-08-10T14:52:42.132Z"
   },
   {
    "duration": 8,
    "start_time": "2022-08-10T14:53:27.876Z"
   },
   {
    "duration": 62,
    "start_time": "2022-08-10T14:53:27.887Z"
   },
   {
    "duration": 15,
    "start_time": "2022-08-10T14:53:27.951Z"
   },
   {
    "duration": 15,
    "start_time": "2022-08-10T14:53:27.968Z"
   },
   {
    "duration": 13,
    "start_time": "2022-08-10T14:53:27.985Z"
   },
   {
    "duration": 15,
    "start_time": "2022-08-10T14:53:28.000Z"
   },
   {
    "duration": 164,
    "start_time": "2022-08-10T14:53:28.017Z"
   },
   {
    "duration": 9,
    "start_time": "2022-08-10T14:55:53.648Z"
   },
   {
    "duration": 9,
    "start_time": "2022-08-10T14:55:58.266Z"
   },
   {
    "duration": 11,
    "start_time": "2022-08-10T14:56:50.124Z"
   },
   {
    "duration": 17,
    "start_time": "2022-08-10T14:56:53.388Z"
   },
   {
    "duration": 7,
    "start_time": "2022-08-10T14:57:00.967Z"
   },
   {
    "duration": 7,
    "start_time": "2022-08-10T15:01:09.196Z"
   },
   {
    "duration": 180,
    "start_time": "2022-08-10T15:03:22.897Z"
   },
   {
    "duration": 163,
    "start_time": "2022-08-10T15:09:07.044Z"
   },
   {
    "duration": 157,
    "start_time": "2022-08-10T15:09:23.168Z"
   },
   {
    "duration": 161,
    "start_time": "2022-08-10T15:09:30.744Z"
   },
   {
    "duration": 43,
    "start_time": "2022-08-10T15:09:48.062Z"
   },
   {
    "duration": 133,
    "start_time": "2022-08-10T15:27:57.263Z"
   },
   {
    "duration": 5,
    "start_time": "2022-08-10T15:28:18.919Z"
   },
   {
    "duration": 7,
    "start_time": "2022-08-10T15:29:48.863Z"
   },
   {
    "duration": 1378,
    "start_time": "2022-08-12T14:16:27.633Z"
   },
   {
    "duration": 187,
    "start_time": "2022-08-12T14:16:29.013Z"
   },
   {
    "duration": 12,
    "start_time": "2022-08-12T14:16:29.201Z"
   },
   {
    "duration": 32,
    "start_time": "2022-08-12T14:16:29.215Z"
   },
   {
    "duration": 5,
    "start_time": "2022-08-12T14:16:29.248Z"
   },
   {
    "duration": 9,
    "start_time": "2022-08-12T14:16:29.255Z"
   },
   {
    "duration": 176,
    "start_time": "2022-08-12T14:16:29.265Z"
   },
   {
    "duration": 152,
    "start_time": "2022-08-12T14:16:29.443Z"
   },
   {
    "duration": 4,
    "start_time": "2022-08-12T14:16:29.597Z"
   },
   {
    "duration": 10,
    "start_time": "2022-08-12T14:16:29.603Z"
   },
   {
    "duration": 8,
    "start_time": "2022-08-12T14:16:29.615Z"
   },
   {
    "duration": 11,
    "start_time": "2022-08-12T14:16:29.624Z"
   },
   {
    "duration": 21,
    "start_time": "2022-08-12T14:16:29.637Z"
   },
   {
    "duration": 18,
    "start_time": "2022-08-12T14:16:29.659Z"
   },
   {
    "duration": 234,
    "start_time": "2022-08-12T14:16:29.679Z"
   },
   {
    "duration": 3,
    "start_time": "2022-08-12T14:24:56.583Z"
   },
   {
    "duration": 122,
    "start_time": "2022-08-12T14:26:40.359Z"
   },
   {
    "duration": 6,
    "start_time": "2022-08-12T14:27:06.505Z"
   },
   {
    "duration": 55,
    "start_time": "2022-08-12T14:27:06.512Z"
   },
   {
    "duration": 10,
    "start_time": "2022-08-12T14:27:06.568Z"
   },
   {
    "duration": 110,
    "start_time": "2022-08-12T14:27:06.580Z"
   },
   {
    "duration": 6,
    "start_time": "2022-08-12T14:27:06.692Z"
   },
   {
    "duration": 13,
    "start_time": "2022-08-12T14:27:06.699Z"
   },
   {
    "duration": 182,
    "start_time": "2022-08-12T14:27:06.713Z"
   },
   {
    "duration": 174,
    "start_time": "2022-08-12T14:27:06.896Z"
   },
   {
    "duration": 5,
    "start_time": "2022-08-12T14:27:07.071Z"
   },
   {
    "duration": 8,
    "start_time": "2022-08-12T14:27:07.078Z"
   },
   {
    "duration": 8,
    "start_time": "2022-08-12T14:27:07.087Z"
   },
   {
    "duration": 124,
    "start_time": "2022-08-12T14:27:07.096Z"
   },
   {
    "duration": 6,
    "start_time": "2022-08-12T14:27:07.221Z"
   },
   {
    "duration": 27,
    "start_time": "2022-08-12T14:27:07.228Z"
   },
   {
    "duration": 4,
    "start_time": "2022-08-12T14:27:07.256Z"
   },
   {
    "duration": 15,
    "start_time": "2022-08-12T14:27:07.261Z"
   },
   {
    "duration": 139,
    "start_time": "2022-08-12T14:27:07.278Z"
   },
   {
    "duration": 4,
    "start_time": "2022-08-12T14:33:24.875Z"
   },
   {
    "duration": 9,
    "start_time": "2022-08-12T14:34:54.759Z"
   },
   {
    "duration": 9,
    "start_time": "2022-08-12T14:35:01.166Z"
   },
   {
    "duration": 9,
    "start_time": "2022-08-12T14:35:12.302Z"
   },
   {
    "duration": 9,
    "start_time": "2022-08-12T14:36:28.954Z"
   },
   {
    "duration": 5,
    "start_time": "2022-08-12T14:36:40.747Z"
   },
   {
    "duration": 5,
    "start_time": "2022-08-12T14:36:43.370Z"
   },
   {
    "duration": 48,
    "start_time": "2022-08-12T14:36:43.378Z"
   },
   {
    "duration": 12,
    "start_time": "2022-08-12T14:36:43.428Z"
   },
   {
    "duration": 33,
    "start_time": "2022-08-12T14:36:43.442Z"
   },
   {
    "duration": 6,
    "start_time": "2022-08-12T14:36:43.477Z"
   },
   {
    "duration": 9,
    "start_time": "2022-08-12T14:36:43.484Z"
   },
   {
    "duration": 173,
    "start_time": "2022-08-12T14:36:43.495Z"
   },
   {
    "duration": 175,
    "start_time": "2022-08-12T14:36:43.670Z"
   },
   {
    "duration": 8,
    "start_time": "2022-08-12T14:36:43.847Z"
   },
   {
    "duration": 9,
    "start_time": "2022-08-12T14:36:43.857Z"
   },
   {
    "duration": 27,
    "start_time": "2022-08-12T14:36:43.867Z"
   },
   {
    "duration": 109,
    "start_time": "2022-08-12T14:36:43.896Z"
   },
   {
    "duration": 4,
    "start_time": "2022-08-12T14:36:44.006Z"
   },
   {
    "duration": 8,
    "start_time": "2022-08-12T14:36:44.011Z"
   },
   {
    "duration": 6,
    "start_time": "2022-08-12T14:36:44.020Z"
   },
   {
    "duration": 13,
    "start_time": "2022-08-12T14:36:44.027Z"
   },
   {
    "duration": 4,
    "start_time": "2022-08-12T14:36:44.055Z"
   },
   {
    "duration": 13,
    "start_time": "2022-08-12T14:36:44.060Z"
   },
   {
    "duration": 132,
    "start_time": "2022-08-12T14:36:44.074Z"
   },
   {
    "duration": 3,
    "start_time": "2022-08-12T14:42:49.158Z"
   },
   {
    "duration": 7,
    "start_time": "2022-08-12T14:43:02.286Z"
   },
   {
    "duration": 6,
    "start_time": "2022-08-12T14:43:55.482Z"
   },
   {
    "duration": 54,
    "start_time": "2022-08-12T14:43:55.490Z"
   },
   {
    "duration": 12,
    "start_time": "2022-08-12T14:43:55.545Z"
   },
   {
    "duration": 34,
    "start_time": "2022-08-12T14:43:55.559Z"
   },
   {
    "duration": 7,
    "start_time": "2022-08-12T14:43:55.595Z"
   },
   {
    "duration": 12,
    "start_time": "2022-08-12T14:43:55.603Z"
   },
   {
    "duration": 175,
    "start_time": "2022-08-12T14:43:55.617Z"
   },
   {
    "duration": 241,
    "start_time": "2022-08-12T14:43:55.794Z"
   },
   {
    "duration": 5,
    "start_time": "2022-08-12T14:43:56.037Z"
   },
   {
    "duration": 15,
    "start_time": "2022-08-12T14:43:56.044Z"
   },
   {
    "duration": 7,
    "start_time": "2022-08-12T14:43:56.061Z"
   },
   {
    "duration": 125,
    "start_time": "2022-08-12T14:43:56.069Z"
   },
   {
    "duration": 5,
    "start_time": "2022-08-12T14:43:56.195Z"
   },
   {
    "duration": 5,
    "start_time": "2022-08-12T14:43:56.201Z"
   },
   {
    "duration": 5,
    "start_time": "2022-08-12T14:43:56.207Z"
   },
   {
    "duration": 7,
    "start_time": "2022-08-12T14:43:56.214Z"
   },
   {
    "duration": 32,
    "start_time": "2022-08-12T14:43:56.223Z"
   },
   {
    "duration": 5,
    "start_time": "2022-08-12T14:43:56.256Z"
   },
   {
    "duration": 14,
    "start_time": "2022-08-12T14:43:56.262Z"
   },
   {
    "duration": 111,
    "start_time": "2022-08-12T14:43:56.277Z"
   },
   {
    "duration": 9,
    "start_time": "2022-08-12T14:46:17.950Z"
   },
   {
    "duration": 5,
    "start_time": "2022-08-12T14:46:23.130Z"
   },
   {
    "duration": 5,
    "start_time": "2022-08-12T15:49:24.269Z"
   },
   {
    "duration": 51,
    "start_time": "2022-08-12T15:49:24.276Z"
   },
   {
    "duration": 11,
    "start_time": "2022-08-12T15:49:24.329Z"
   },
   {
    "duration": 38,
    "start_time": "2022-08-12T15:49:24.341Z"
   },
   {
    "duration": 5,
    "start_time": "2022-08-12T15:49:24.382Z"
   },
   {
    "duration": 10,
    "start_time": "2022-08-12T15:49:24.388Z"
   },
   {
    "duration": 181,
    "start_time": "2022-08-12T15:49:24.400Z"
   },
   {
    "duration": 156,
    "start_time": "2022-08-12T15:49:24.582Z"
   },
   {
    "duration": 16,
    "start_time": "2022-08-12T15:49:24.739Z"
   },
   {
    "duration": 5,
    "start_time": "2022-08-12T15:49:24.756Z"
   },
   {
    "duration": 8,
    "start_time": "2022-08-12T15:49:24.763Z"
   },
   {
    "duration": 122,
    "start_time": "2022-08-12T15:49:24.772Z"
   },
   {
    "duration": 4,
    "start_time": "2022-08-12T15:49:24.896Z"
   },
   {
    "duration": 5,
    "start_time": "2022-08-12T15:49:24.901Z"
   },
   {
    "duration": 5,
    "start_time": "2022-08-12T15:49:24.908Z"
   },
   {
    "duration": 8,
    "start_time": "2022-08-12T15:49:24.915Z"
   },
   {
    "duration": 6,
    "start_time": "2022-08-12T15:49:24.925Z"
   },
   {
    "duration": 29,
    "start_time": "2022-08-12T15:49:24.933Z"
   },
   {
    "duration": 8,
    "start_time": "2022-08-12T15:49:24.963Z"
   },
   {
    "duration": 16,
    "start_time": "2022-08-12T15:49:24.972Z"
   },
   {
    "duration": 8,
    "start_time": "2022-08-12T15:49:24.989Z"
   },
   {
    "duration": 0,
    "start_time": "2022-08-12T15:49:24.999Z"
   },
   {
    "duration": 21,
    "start_time": "2022-08-12T15:56:29.150Z"
   },
   {
    "duration": 8,
    "start_time": "2022-08-12T15:56:36.725Z"
   },
   {
    "duration": 105,
    "start_time": "2022-08-12T15:56:36.735Z"
   },
   {
    "duration": 16,
    "start_time": "2022-08-12T15:56:36.843Z"
   },
   {
    "duration": 33,
    "start_time": "2022-08-12T15:56:36.860Z"
   },
   {
    "duration": 6,
    "start_time": "2022-08-12T15:56:36.895Z"
   },
   {
    "duration": 9,
    "start_time": "2022-08-12T15:56:36.902Z"
   },
   {
    "duration": 195,
    "start_time": "2022-08-12T15:56:36.912Z"
   },
   {
    "duration": 212,
    "start_time": "2022-08-12T15:56:37.108Z"
   },
   {
    "duration": 7,
    "start_time": "2022-08-12T15:56:37.322Z"
   },
   {
    "duration": 21,
    "start_time": "2022-08-12T15:56:37.331Z"
   },
   {
    "duration": 12,
    "start_time": "2022-08-12T15:56:37.355Z"
   },
   {
    "duration": 168,
    "start_time": "2022-08-12T15:56:37.369Z"
   },
   {
    "duration": 5,
    "start_time": "2022-08-12T15:56:37.539Z"
   },
   {
    "duration": 13,
    "start_time": "2022-08-12T15:56:37.545Z"
   },
   {
    "duration": 15,
    "start_time": "2022-08-12T15:56:37.560Z"
   },
   {
    "duration": 8,
    "start_time": "2022-08-12T15:56:37.577Z"
   },
   {
    "duration": 5,
    "start_time": "2022-08-12T15:56:37.587Z"
   },
   {
    "duration": 14,
    "start_time": "2022-08-12T15:56:37.594Z"
   },
   {
    "duration": 6,
    "start_time": "2022-08-12T15:56:37.609Z"
   },
   {
    "duration": 14,
    "start_time": "2022-08-12T15:56:37.616Z"
   },
   {
    "duration": 36,
    "start_time": "2022-08-12T15:56:37.632Z"
   },
   {
    "duration": 0,
    "start_time": "2022-08-12T15:56:37.670Z"
   },
   {
    "duration": 5,
    "start_time": "2022-08-12T16:08:58.719Z"
   },
   {
    "duration": 12,
    "start_time": "2022-08-12T16:09:56.559Z"
   },
   {
    "duration": 6,
    "start_time": "2022-08-12T16:10:02.358Z"
   },
   {
    "duration": 107,
    "start_time": "2022-08-12T16:10:02.365Z"
   },
   {
    "duration": 11,
    "start_time": "2022-08-12T16:10:02.473Z"
   },
   {
    "duration": 49,
    "start_time": "2022-08-12T16:10:02.485Z"
   },
   {
    "duration": 5,
    "start_time": "2022-08-12T16:10:02.536Z"
   },
   {
    "duration": 43,
    "start_time": "2022-08-12T16:10:02.542Z"
   },
   {
    "duration": 28,
    "start_time": "2022-08-12T16:10:02.586Z"
   },
   {
    "duration": 191,
    "start_time": "2022-08-12T16:10:02.615Z"
   },
   {
    "duration": 259,
    "start_time": "2022-08-12T16:10:02.807Z"
   },
   {
    "duration": 5,
    "start_time": "2022-08-12T16:10:03.067Z"
   },
   {
    "duration": 31,
    "start_time": "2022-08-12T16:10:03.074Z"
   },
   {
    "duration": 42,
    "start_time": "2022-08-12T16:10:03.106Z"
   },
   {
    "duration": 145,
    "start_time": "2022-08-12T16:10:03.149Z"
   },
   {
    "duration": 5,
    "start_time": "2022-08-12T16:10:03.295Z"
   },
   {
    "duration": 10,
    "start_time": "2022-08-12T16:10:03.301Z"
   },
   {
    "duration": 23,
    "start_time": "2022-08-12T16:10:03.312Z"
   },
   {
    "duration": 17,
    "start_time": "2022-08-12T16:10:03.336Z"
   },
   {
    "duration": 14,
    "start_time": "2022-08-12T16:10:03.355Z"
   },
   {
    "duration": 25,
    "start_time": "2022-08-12T16:10:03.371Z"
   },
   {
    "duration": 17,
    "start_time": "2022-08-12T16:10:03.398Z"
   },
   {
    "duration": 30,
    "start_time": "2022-08-12T16:10:03.417Z"
   },
   {
    "duration": 24,
    "start_time": "2022-08-12T16:10:03.448Z"
   },
   {
    "duration": 0,
    "start_time": "2022-08-12T16:10:03.474Z"
   },
   {
    "duration": 8,
    "start_time": "2022-08-12T16:18:03.895Z"
   },
   {
    "duration": 5,
    "start_time": "2022-08-12T16:47:19.455Z"
   },
   {
    "duration": 53,
    "start_time": "2022-08-12T16:47:19.462Z"
   },
   {
    "duration": 9,
    "start_time": "2022-08-12T16:47:19.517Z"
   },
   {
    "duration": 33,
    "start_time": "2022-08-12T16:47:19.528Z"
   },
   {
    "duration": 5,
    "start_time": "2022-08-12T16:47:19.563Z"
   },
   {
    "duration": 11,
    "start_time": "2022-08-12T16:47:19.569Z"
   },
   {
    "duration": 6,
    "start_time": "2022-08-12T16:47:19.582Z"
   },
   {
    "duration": 172,
    "start_time": "2022-08-12T16:47:19.589Z"
   },
   {
    "duration": 166,
    "start_time": "2022-08-12T16:47:19.763Z"
   },
   {
    "duration": 4,
    "start_time": "2022-08-12T16:47:19.931Z"
   },
   {
    "duration": 5,
    "start_time": "2022-08-12T16:47:19.937Z"
   },
   {
    "duration": 14,
    "start_time": "2022-08-12T16:47:19.944Z"
   },
   {
    "duration": 121,
    "start_time": "2022-08-12T16:47:19.959Z"
   },
   {
    "duration": 4,
    "start_time": "2022-08-12T16:47:20.081Z"
   },
   {
    "duration": 7,
    "start_time": "2022-08-12T16:47:20.087Z"
   },
   {
    "duration": 19,
    "start_time": "2022-08-12T16:47:20.095Z"
   },
   {
    "duration": 11,
    "start_time": "2022-08-12T16:47:20.116Z"
   },
   {
    "duration": 6,
    "start_time": "2022-08-12T16:47:20.128Z"
   },
   {
    "duration": 13,
    "start_time": "2022-08-12T16:47:20.136Z"
   },
   {
    "duration": 6,
    "start_time": "2022-08-12T16:47:20.150Z"
   },
   {
    "duration": 13,
    "start_time": "2022-08-12T16:47:20.157Z"
   },
   {
    "duration": 8,
    "start_time": "2022-08-12T16:47:20.171Z"
   },
   {
    "duration": 0,
    "start_time": "2022-08-12T16:47:20.180Z"
   },
   {
    "duration": 0,
    "start_time": "2022-08-12T16:47:20.181Z"
   },
   {
    "duration": 7,
    "start_time": "2022-08-12T16:47:37.174Z"
   },
   {
    "duration": 63,
    "start_time": "2022-08-12T16:47:37.183Z"
   },
   {
    "duration": 11,
    "start_time": "2022-08-12T16:47:37.248Z"
   },
   {
    "duration": 34,
    "start_time": "2022-08-12T16:47:37.261Z"
   },
   {
    "duration": 6,
    "start_time": "2022-08-12T16:47:37.297Z"
   },
   {
    "duration": 56,
    "start_time": "2022-08-12T16:47:37.305Z"
   },
   {
    "duration": 20,
    "start_time": "2022-08-12T16:47:37.364Z"
   },
   {
    "duration": 244,
    "start_time": "2022-08-12T16:47:37.386Z"
   },
   {
    "duration": 170,
    "start_time": "2022-08-12T16:47:37.632Z"
   },
   {
    "duration": 5,
    "start_time": "2022-08-12T16:47:37.805Z"
   },
   {
    "duration": 16,
    "start_time": "2022-08-12T16:47:37.811Z"
   },
   {
    "duration": 10,
    "start_time": "2022-08-12T16:47:37.829Z"
   },
   {
    "duration": 119,
    "start_time": "2022-08-12T16:47:37.840Z"
   },
   {
    "duration": 5,
    "start_time": "2022-08-12T16:47:37.960Z"
   },
   {
    "duration": 17,
    "start_time": "2022-08-12T16:47:37.967Z"
   },
   {
    "duration": 13,
    "start_time": "2022-08-12T16:47:37.986Z"
   },
   {
    "duration": 19,
    "start_time": "2022-08-12T16:47:38.001Z"
   },
   {
    "duration": 10,
    "start_time": "2022-08-12T16:47:38.022Z"
   },
   {
    "duration": 25,
    "start_time": "2022-08-12T16:47:38.034Z"
   },
   {
    "duration": 14,
    "start_time": "2022-08-12T16:47:38.061Z"
   },
   {
    "duration": 21,
    "start_time": "2022-08-12T16:47:38.077Z"
   },
   {
    "duration": 24,
    "start_time": "2022-08-12T16:47:38.100Z"
   },
   {
    "duration": 0,
    "start_time": "2022-08-12T16:47:38.126Z"
   },
   {
    "duration": 0,
    "start_time": "2022-08-12T16:47:38.127Z"
   },
   {
    "duration": 6,
    "start_time": "2022-08-12T16:47:55.210Z"
   },
   {
    "duration": 56,
    "start_time": "2022-08-12T16:47:55.218Z"
   },
   {
    "duration": 11,
    "start_time": "2022-08-12T16:47:55.275Z"
   },
   {
    "duration": 41,
    "start_time": "2022-08-12T16:47:55.287Z"
   },
   {
    "duration": 5,
    "start_time": "2022-08-12T16:47:55.330Z"
   },
   {
    "duration": 21,
    "start_time": "2022-08-12T16:47:55.337Z"
   },
   {
    "duration": 4,
    "start_time": "2022-08-12T16:47:55.359Z"
   },
   {
    "duration": 165,
    "start_time": "2022-08-12T16:47:55.364Z"
   },
   {
    "duration": 171,
    "start_time": "2022-08-12T16:47:55.531Z"
   },
   {
    "duration": 5,
    "start_time": "2022-08-12T16:47:55.703Z"
   },
   {
    "duration": 5,
    "start_time": "2022-08-12T16:47:55.711Z"
   },
   {
    "duration": 7,
    "start_time": "2022-08-12T16:47:55.718Z"
   },
   {
    "duration": 256,
    "start_time": "2022-08-12T16:47:55.726Z"
   },
   {
    "duration": 4,
    "start_time": "2022-08-12T16:47:55.984Z"
   },
   {
    "duration": 5,
    "start_time": "2022-08-12T16:47:55.989Z"
   },
   {
    "duration": 5,
    "start_time": "2022-08-12T16:47:55.995Z"
   },
   {
    "duration": 8,
    "start_time": "2022-08-12T16:47:56.001Z"
   },
   {
    "duration": 5,
    "start_time": "2022-08-12T16:47:56.011Z"
   },
   {
    "duration": 12,
    "start_time": "2022-08-12T16:47:56.017Z"
   },
   {
    "duration": 26,
    "start_time": "2022-08-12T16:47:56.030Z"
   },
   {
    "duration": 14,
    "start_time": "2022-08-12T16:47:56.057Z"
   },
   {
    "duration": 29,
    "start_time": "2022-08-12T16:47:56.072Z"
   },
   {
    "duration": 14,
    "start_time": "2022-08-12T16:47:56.103Z"
   },
   {
    "duration": 0,
    "start_time": "2022-08-12T16:47:56.119Z"
   },
   {
    "duration": 37,
    "start_time": "2022-08-12T16:49:33.823Z"
   },
   {
    "duration": 53,
    "start_time": "2022-08-12T16:49:39.579Z"
   },
   {
    "duration": 58,
    "start_time": "2022-08-12T16:49:49.411Z"
   },
   {
    "duration": 15,
    "start_time": "2022-08-12T16:49:57.383Z"
   },
   {
    "duration": 20,
    "start_time": "2022-08-12T16:50:12.391Z"
   },
   {
    "duration": 8,
    "start_time": "2022-08-12T16:50:15.034Z"
   },
   {
    "duration": 80,
    "start_time": "2022-08-12T16:50:15.045Z"
   },
   {
    "duration": 11,
    "start_time": "2022-08-12T16:50:15.127Z"
   },
   {
    "duration": 41,
    "start_time": "2022-08-12T16:50:15.140Z"
   },
   {
    "duration": 5,
    "start_time": "2022-08-12T16:50:15.183Z"
   },
   {
    "duration": 9,
    "start_time": "2022-08-12T16:50:15.189Z"
   },
   {
    "duration": 8,
    "start_time": "2022-08-12T16:50:15.200Z"
   },
   {
    "duration": 177,
    "start_time": "2022-08-12T16:50:15.209Z"
   },
   {
    "duration": 155,
    "start_time": "2022-08-12T16:50:15.387Z"
   },
   {
    "duration": 13,
    "start_time": "2022-08-12T16:50:15.545Z"
   },
   {
    "duration": 7,
    "start_time": "2022-08-12T16:50:15.559Z"
   },
   {
    "duration": 8,
    "start_time": "2022-08-12T16:50:15.567Z"
   },
   {
    "duration": 124,
    "start_time": "2022-08-12T16:50:15.576Z"
   },
   {
    "duration": 4,
    "start_time": "2022-08-12T16:50:15.702Z"
   },
   {
    "duration": 4,
    "start_time": "2022-08-12T16:50:15.708Z"
   },
   {
    "duration": 5,
    "start_time": "2022-08-12T16:50:15.713Z"
   },
   {
    "duration": 8,
    "start_time": "2022-08-12T16:50:15.719Z"
   },
   {
    "duration": 27,
    "start_time": "2022-08-12T16:50:15.729Z"
   },
   {
    "duration": 12,
    "start_time": "2022-08-12T16:50:15.757Z"
   },
   {
    "duration": 8,
    "start_time": "2022-08-12T16:50:15.770Z"
   },
   {
    "duration": 13,
    "start_time": "2022-08-12T16:50:15.780Z"
   },
   {
    "duration": 62,
    "start_time": "2022-08-12T16:50:15.795Z"
   },
   {
    "duration": 15,
    "start_time": "2022-08-12T16:50:15.859Z"
   },
   {
    "duration": 25,
    "start_time": "2022-08-12T16:50:15.876Z"
   },
   {
    "duration": 0,
    "start_time": "2022-08-12T16:50:15.902Z"
   },
   {
    "duration": 6,
    "start_time": "2022-08-12T16:50:28.531Z"
   },
   {
    "duration": 57,
    "start_time": "2022-08-12T16:50:28.538Z"
   },
   {
    "duration": 10,
    "start_time": "2022-08-12T16:50:28.596Z"
   },
   {
    "duration": 31,
    "start_time": "2022-08-12T16:50:28.608Z"
   },
   {
    "duration": 5,
    "start_time": "2022-08-12T16:50:28.640Z"
   },
   {
    "duration": 12,
    "start_time": "2022-08-12T16:50:28.646Z"
   },
   {
    "duration": 7,
    "start_time": "2022-08-12T16:50:28.659Z"
   },
   {
    "duration": 165,
    "start_time": "2022-08-12T16:50:28.667Z"
   },
   {
    "duration": 156,
    "start_time": "2022-08-12T16:50:28.834Z"
   },
   {
    "duration": 6,
    "start_time": "2022-08-12T16:50:28.991Z"
   },
   {
    "duration": 8,
    "start_time": "2022-08-12T16:50:28.999Z"
   },
   {
    "duration": 8,
    "start_time": "2022-08-12T16:50:29.009Z"
   },
   {
    "duration": 124,
    "start_time": "2022-08-12T16:50:29.018Z"
   },
   {
    "duration": 14,
    "start_time": "2022-08-12T16:50:29.143Z"
   },
   {
    "duration": 2,
    "start_time": "2022-08-12T16:50:29.158Z"
   },
   {
    "duration": 7,
    "start_time": "2022-08-12T16:50:29.161Z"
   },
   {
    "duration": 8,
    "start_time": "2022-08-12T16:50:29.169Z"
   },
   {
    "duration": 4,
    "start_time": "2022-08-12T16:50:29.179Z"
   },
   {
    "duration": 14,
    "start_time": "2022-08-12T16:50:29.185Z"
   },
   {
    "duration": 10,
    "start_time": "2022-08-12T16:50:29.200Z"
   },
   {
    "duration": 14,
    "start_time": "2022-08-12T16:50:29.212Z"
   },
   {
    "duration": 67,
    "start_time": "2022-08-12T16:50:29.227Z"
   },
   {
    "duration": 15,
    "start_time": "2022-08-12T16:50:29.296Z"
   },
   {
    "duration": 16,
    "start_time": "2022-08-12T16:50:29.312Z"
   },
   {
    "duration": 0,
    "start_time": "2022-08-12T16:50:29.330Z"
   },
   {
    "duration": 6,
    "start_time": "2022-08-12T16:52:59.311Z"
   },
   {
    "duration": 56,
    "start_time": "2022-08-12T16:52:59.319Z"
   },
   {
    "duration": 11,
    "start_time": "2022-08-12T16:52:59.377Z"
   },
   {
    "duration": 31,
    "start_time": "2022-08-12T16:52:59.389Z"
   },
   {
    "duration": 5,
    "start_time": "2022-08-12T16:52:59.422Z"
   },
   {
    "duration": 8,
    "start_time": "2022-08-12T16:52:59.428Z"
   },
   {
    "duration": 13,
    "start_time": "2022-08-12T16:52:59.455Z"
   },
   {
    "duration": 161,
    "start_time": "2022-08-12T16:52:59.469Z"
   },
   {
    "duration": 172,
    "start_time": "2022-08-12T16:52:59.632Z"
   },
   {
    "duration": 5,
    "start_time": "2022-08-12T16:52:59.806Z"
   },
   {
    "duration": 5,
    "start_time": "2022-08-12T16:52:59.814Z"
   },
   {
    "duration": 7,
    "start_time": "2022-08-12T16:52:59.821Z"
   },
   {
    "duration": 146,
    "start_time": "2022-08-12T16:52:59.829Z"
   },
   {
    "duration": 4,
    "start_time": "2022-08-12T16:52:59.976Z"
   },
   {
    "duration": 5,
    "start_time": "2022-08-12T16:52:59.981Z"
   },
   {
    "duration": 12,
    "start_time": "2022-08-12T16:52:59.987Z"
   },
   {
    "duration": 7,
    "start_time": "2022-08-12T16:53:00.000Z"
   },
   {
    "duration": 4,
    "start_time": "2022-08-12T16:53:00.008Z"
   },
   {
    "duration": 11,
    "start_time": "2022-08-12T16:53:00.014Z"
   },
   {
    "duration": 7,
    "start_time": "2022-08-12T16:53:00.026Z"
   },
   {
    "duration": 56,
    "start_time": "2022-08-12T16:53:00.034Z"
   },
   {
    "duration": 15,
    "start_time": "2022-08-12T16:53:00.091Z"
   },
   {
    "duration": 0,
    "start_time": "2022-08-12T16:53:00.107Z"
   },
   {
    "duration": 0,
    "start_time": "2022-08-12T16:53:00.108Z"
   },
   {
    "duration": 9,
    "start_time": "2022-08-12T16:57:21.744Z"
   },
   {
    "duration": 5,
    "start_time": "2022-08-12T16:59:52.324Z"
   },
   {
    "duration": 57,
    "start_time": "2022-08-12T16:59:52.331Z"
   },
   {
    "duration": 11,
    "start_time": "2022-08-12T16:59:52.391Z"
   },
   {
    "duration": 32,
    "start_time": "2022-08-12T16:59:52.403Z"
   },
   {
    "duration": 5,
    "start_time": "2022-08-12T16:59:52.437Z"
   },
   {
    "duration": 17,
    "start_time": "2022-08-12T16:59:52.443Z"
   },
   {
    "duration": 20,
    "start_time": "2022-08-12T16:59:52.462Z"
   },
   {
    "duration": 160,
    "start_time": "2022-08-12T16:59:52.483Z"
   },
   {
    "duration": 168,
    "start_time": "2022-08-12T16:59:52.644Z"
   },
   {
    "duration": 5,
    "start_time": "2022-08-12T16:59:52.814Z"
   },
   {
    "duration": 7,
    "start_time": "2022-08-12T16:59:52.821Z"
   },
   {
    "duration": 11,
    "start_time": "2022-08-12T16:59:52.829Z"
   },
   {
    "duration": 282,
    "start_time": "2022-08-12T16:59:52.841Z"
   },
   {
    "duration": 4,
    "start_time": "2022-08-12T16:59:53.124Z"
   },
   {
    "duration": 10,
    "start_time": "2022-08-12T16:59:53.129Z"
   },
   {
    "duration": 6,
    "start_time": "2022-08-12T16:59:53.140Z"
   },
   {
    "duration": 23,
    "start_time": "2022-08-12T16:59:53.155Z"
   },
   {
    "duration": 4,
    "start_time": "2022-08-12T16:59:53.180Z"
   },
   {
    "duration": 17,
    "start_time": "2022-08-12T16:59:53.186Z"
   },
   {
    "duration": 14,
    "start_time": "2022-08-12T16:59:53.205Z"
   },
   {
    "duration": 46,
    "start_time": "2022-08-12T16:59:53.220Z"
   },
   {
    "duration": 8,
    "start_time": "2022-08-12T16:59:53.267Z"
   },
   {
    "duration": 16,
    "start_time": "2022-08-12T16:59:53.276Z"
   },
   {
    "duration": 11,
    "start_time": "2022-08-12T16:59:53.293Z"
   },
   {
    "duration": 0,
    "start_time": "2022-08-12T16:59:53.305Z"
   },
   {
    "duration": 6,
    "start_time": "2022-08-12T17:00:14.116Z"
   },
   {
    "duration": 55,
    "start_time": "2022-08-12T17:00:14.124Z"
   },
   {
    "duration": 10,
    "start_time": "2022-08-12T17:00:14.181Z"
   },
   {
    "duration": 32,
    "start_time": "2022-08-12T17:00:14.193Z"
   },
   {
    "duration": 5,
    "start_time": "2022-08-12T17:00:14.226Z"
   },
   {
    "duration": 29,
    "start_time": "2022-08-12T17:00:14.232Z"
   },
   {
    "duration": 9,
    "start_time": "2022-08-12T17:00:14.263Z"
   },
   {
    "duration": 171,
    "start_time": "2022-08-12T17:00:14.273Z"
   },
   {
    "duration": 165,
    "start_time": "2022-08-12T17:00:14.446Z"
   },
   {
    "duration": 5,
    "start_time": "2022-08-12T17:00:14.612Z"
   },
   {
    "duration": 8,
    "start_time": "2022-08-12T17:00:14.619Z"
   },
   {
    "duration": 13,
    "start_time": "2022-08-12T17:00:14.628Z"
   },
   {
    "duration": 115,
    "start_time": "2022-08-12T17:00:14.643Z"
   },
   {
    "duration": 4,
    "start_time": "2022-08-12T17:00:14.760Z"
   },
   {
    "duration": 9,
    "start_time": "2022-08-12T17:00:14.766Z"
   },
   {
    "duration": 6,
    "start_time": "2022-08-12T17:00:14.777Z"
   },
   {
    "duration": 7,
    "start_time": "2022-08-12T17:00:14.785Z"
   },
   {
    "duration": 4,
    "start_time": "2022-08-12T17:00:14.794Z"
   },
   {
    "duration": 15,
    "start_time": "2022-08-12T17:00:14.799Z"
   },
   {
    "duration": 5,
    "start_time": "2022-08-12T17:00:14.815Z"
   },
   {
    "duration": 59,
    "start_time": "2022-08-12T17:00:14.821Z"
   },
   {
    "duration": 7,
    "start_time": "2022-08-12T17:00:14.881Z"
   },
   {
    "duration": 10,
    "start_time": "2022-08-12T17:00:14.889Z"
   },
   {
    "duration": 9,
    "start_time": "2022-08-12T17:00:14.902Z"
   },
   {
    "duration": 0,
    "start_time": "2022-08-12T17:00:14.913Z"
   },
   {
    "duration": 5,
    "start_time": "2022-08-12T17:10:41.797Z"
   },
   {
    "duration": 50,
    "start_time": "2022-08-12T17:10:41.804Z"
   },
   {
    "duration": 10,
    "start_time": "2022-08-12T17:10:41.856Z"
   },
   {
    "duration": 33,
    "start_time": "2022-08-12T17:10:41.867Z"
   },
   {
    "duration": 5,
    "start_time": "2022-08-12T17:10:41.902Z"
   },
   {
    "duration": 8,
    "start_time": "2022-08-12T17:10:41.908Z"
   },
   {
    "duration": 5,
    "start_time": "2022-08-12T17:10:41.917Z"
   },
   {
    "duration": 190,
    "start_time": "2022-08-12T17:10:41.924Z"
   },
   {
    "duration": 167,
    "start_time": "2022-08-12T17:10:42.115Z"
   },
   {
    "duration": 7,
    "start_time": "2022-08-12T17:10:42.284Z"
   },
   {
    "duration": 6,
    "start_time": "2022-08-12T17:10:42.294Z"
   },
   {
    "duration": 8,
    "start_time": "2022-08-12T17:10:42.302Z"
   },
   {
    "duration": 127,
    "start_time": "2022-08-12T17:10:42.311Z"
   },
   {
    "duration": 4,
    "start_time": "2022-08-12T17:10:42.439Z"
   },
   {
    "duration": 3,
    "start_time": "2022-08-12T17:10:42.454Z"
   },
   {
    "duration": 5,
    "start_time": "2022-08-12T17:10:42.458Z"
   },
   {
    "duration": 7,
    "start_time": "2022-08-12T17:10:42.465Z"
   },
   {
    "duration": 5,
    "start_time": "2022-08-12T17:10:42.473Z"
   },
   {
    "duration": 11,
    "start_time": "2022-08-12T17:10:42.479Z"
   },
   {
    "duration": 6,
    "start_time": "2022-08-12T17:10:42.492Z"
   },
   {
    "duration": 55,
    "start_time": "2022-08-12T17:10:42.500Z"
   },
   {
    "duration": 8,
    "start_time": "2022-08-12T17:10:42.556Z"
   },
   {
    "duration": 10,
    "start_time": "2022-08-12T17:10:42.565Z"
   },
   {
    "duration": 5,
    "start_time": "2022-08-12T17:10:42.577Z"
   },
   {
    "duration": 35416,
    "start_time": "2022-08-12T17:10:42.583Z"
   },
   {
    "duration": 6,
    "start_time": "2022-08-12T17:31:54.285Z"
   },
   {
    "duration": 55,
    "start_time": "2022-08-12T17:31:54.292Z"
   },
   {
    "duration": 17,
    "start_time": "2022-08-12T17:31:54.349Z"
   },
   {
    "duration": 34,
    "start_time": "2022-08-12T17:31:54.369Z"
   },
   {
    "duration": 5,
    "start_time": "2022-08-12T17:31:54.405Z"
   },
   {
    "duration": 8,
    "start_time": "2022-08-12T17:31:54.411Z"
   },
   {
    "duration": 5,
    "start_time": "2022-08-12T17:31:54.420Z"
   },
   {
    "duration": 185,
    "start_time": "2022-08-12T17:31:54.426Z"
   },
   {
    "duration": 171,
    "start_time": "2022-08-12T17:31:54.612Z"
   },
   {
    "duration": 6,
    "start_time": "2022-08-12T17:31:54.786Z"
   },
   {
    "duration": 11,
    "start_time": "2022-08-12T17:31:54.793Z"
   },
   {
    "duration": 15,
    "start_time": "2022-08-12T17:31:54.806Z"
   },
   {
    "duration": 122,
    "start_time": "2022-08-12T17:31:54.823Z"
   },
   {
    "duration": 13,
    "start_time": "2022-08-12T17:31:54.947Z"
   },
   {
    "duration": 9,
    "start_time": "2022-08-12T17:31:54.965Z"
   },
   {
    "duration": 9,
    "start_time": "2022-08-12T17:31:54.975Z"
   },
   {
    "duration": 9,
    "start_time": "2022-08-12T17:31:54.985Z"
   },
   {
    "duration": 5,
    "start_time": "2022-08-12T17:31:54.996Z"
   },
   {
    "duration": 15,
    "start_time": "2022-08-12T17:31:55.003Z"
   },
   {
    "duration": 9,
    "start_time": "2022-08-12T17:31:55.020Z"
   },
   {
    "duration": 52,
    "start_time": "2022-08-12T17:31:55.030Z"
   },
   {
    "duration": 8,
    "start_time": "2022-08-12T17:31:55.084Z"
   },
   {
    "duration": 10,
    "start_time": "2022-08-12T17:31:55.093Z"
   },
   {
    "duration": 5,
    "start_time": "2022-08-12T17:31:55.105Z"
   },
   {
    "duration": 38447,
    "start_time": "2022-08-12T17:31:55.111Z"
   },
   {
    "duration": 1479,
    "start_time": "2022-08-14T16:28:51.868Z"
   },
   {
    "duration": 138,
    "start_time": "2022-08-14T16:28:53.349Z"
   },
   {
    "duration": 12,
    "start_time": "2022-08-14T16:28:53.489Z"
   },
   {
    "duration": 41,
    "start_time": "2022-08-14T16:28:53.503Z"
   },
   {
    "duration": 15,
    "start_time": "2022-08-14T16:28:53.546Z"
   },
   {
    "duration": 18,
    "start_time": "2022-08-14T16:28:53.564Z"
   },
   {
    "duration": 7,
    "start_time": "2022-08-14T16:28:53.583Z"
   },
   {
    "duration": 212,
    "start_time": "2022-08-14T16:28:53.591Z"
   },
   {
    "duration": 180,
    "start_time": "2022-08-14T16:28:53.804Z"
   },
   {
    "duration": 5,
    "start_time": "2022-08-14T16:28:53.986Z"
   },
   {
    "duration": 7,
    "start_time": "2022-08-14T16:28:53.993Z"
   },
   {
    "duration": 13,
    "start_time": "2022-08-14T16:28:54.001Z"
   },
   {
    "duration": 142,
    "start_time": "2022-08-14T16:28:54.016Z"
   },
   {
    "duration": 5,
    "start_time": "2022-08-14T16:28:54.160Z"
   },
   {
    "duration": 10,
    "start_time": "2022-08-14T16:28:54.166Z"
   },
   {
    "duration": 8,
    "start_time": "2022-08-14T16:28:54.177Z"
   },
   {
    "duration": 11,
    "start_time": "2022-08-14T16:28:54.186Z"
   },
   {
    "duration": 7,
    "start_time": "2022-08-14T16:28:54.198Z"
   },
   {
    "duration": 12,
    "start_time": "2022-08-14T16:28:54.207Z"
   },
   {
    "duration": 5,
    "start_time": "2022-08-14T16:28:54.221Z"
   },
   {
    "duration": 84,
    "start_time": "2022-08-14T16:28:54.227Z"
   },
   {
    "duration": 9,
    "start_time": "2022-08-14T16:28:54.313Z"
   },
   {
    "duration": 97,
    "start_time": "2022-08-14T16:28:54.324Z"
   },
   {
    "duration": 6,
    "start_time": "2022-08-14T16:28:54.423Z"
   },
   {
    "duration": 41750,
    "start_time": "2022-08-14T16:28:54.430Z"
   },
   {
    "duration": 105,
    "start_time": "2022-08-14T16:38:53.766Z"
   },
   {
    "duration": 19,
    "start_time": "2022-08-14T16:39:01.634Z"
   },
   {
    "duration": 18,
    "start_time": "2022-08-14T16:39:08.866Z"
   },
   {
    "duration": 9,
    "start_time": "2022-08-14T16:39:17.262Z"
   },
   {
    "duration": 12,
    "start_time": "2022-08-14T16:39:26.657Z"
   },
   {
    "duration": 14,
    "start_time": "2022-08-14T16:45:23.174Z"
   },
   {
    "duration": 6,
    "start_time": "2022-08-14T16:45:29.677Z"
   },
   {
    "duration": 115,
    "start_time": "2022-08-14T16:45:37.002Z"
   },
   {
    "duration": 8,
    "start_time": "2022-08-14T16:46:54.693Z"
   },
   {
    "duration": 6,
    "start_time": "2022-08-14T16:46:59.981Z"
   },
   {
    "duration": 7,
    "start_time": "2022-08-14T16:47:13.494Z"
   },
   {
    "duration": 4,
    "start_time": "2022-08-14T16:47:17.234Z"
   },
   {
    "duration": 5,
    "start_time": "2022-08-14T16:47:24.114Z"
   },
   {
    "duration": 6,
    "start_time": "2022-08-14T16:48:21.710Z"
   },
   {
    "duration": 52,
    "start_time": "2022-08-14T16:48:21.718Z"
   },
   {
    "duration": 10,
    "start_time": "2022-08-14T16:48:21.771Z"
   },
   {
    "duration": 31,
    "start_time": "2022-08-14T16:48:21.783Z"
   },
   {
    "duration": 5,
    "start_time": "2022-08-14T16:48:21.816Z"
   },
   {
    "duration": 24,
    "start_time": "2022-08-14T16:48:21.823Z"
   },
   {
    "duration": 5,
    "start_time": "2022-08-14T16:48:21.848Z"
   },
   {
    "duration": 160,
    "start_time": "2022-08-14T16:48:21.854Z"
   },
   {
    "duration": 154,
    "start_time": "2022-08-14T16:48:22.015Z"
   },
   {
    "duration": 5,
    "start_time": "2022-08-14T16:48:22.170Z"
   },
   {
    "duration": 5,
    "start_time": "2022-08-14T16:48:22.178Z"
   },
   {
    "duration": 7,
    "start_time": "2022-08-14T16:48:22.185Z"
   },
   {
    "duration": 130,
    "start_time": "2022-08-14T16:48:22.194Z"
   },
   {
    "duration": 13,
    "start_time": "2022-08-14T16:48:22.326Z"
   },
   {
    "duration": 10,
    "start_time": "2022-08-14T16:48:22.341Z"
   },
   {
    "duration": 7,
    "start_time": "2022-08-14T16:48:22.353Z"
   },
   {
    "duration": 15,
    "start_time": "2022-08-14T16:48:22.361Z"
   },
   {
    "duration": 8,
    "start_time": "2022-08-14T16:48:22.377Z"
   },
   {
    "duration": 12,
    "start_time": "2022-08-14T16:48:22.386Z"
   },
   {
    "duration": 6,
    "start_time": "2022-08-14T16:48:22.400Z"
   },
   {
    "duration": 40,
    "start_time": "2022-08-14T16:48:22.407Z"
   },
   {
    "duration": 7,
    "start_time": "2022-08-14T16:48:22.448Z"
   },
   {
    "duration": 10,
    "start_time": "2022-08-14T16:48:22.456Z"
   },
   {
    "duration": 5,
    "start_time": "2022-08-14T16:48:22.467Z"
   },
   {
    "duration": 35856,
    "start_time": "2022-08-14T16:48:22.473Z"
   },
   {
    "duration": 13,
    "start_time": "2022-08-14T16:48:58.331Z"
   },
   {
    "duration": 116,
    "start_time": "2022-08-14T16:48:58.346Z"
   },
   {
    "duration": 5,
    "start_time": "2022-08-14T16:48:58.464Z"
   },
   {
    "duration": 3,
    "start_time": "2022-08-14T16:56:43.874Z"
   },
   {
    "duration": 5,
    "start_time": "2022-08-14T16:57:35.381Z"
   },
   {
    "duration": 19,
    "start_time": "2022-08-14T16:57:51.909Z"
   },
   {
    "duration": 4,
    "start_time": "2022-08-14T16:57:57.461Z"
   },
   {
    "duration": 16,
    "start_time": "2022-08-14T16:58:00.117Z"
   },
   {
    "duration": 14,
    "start_time": "2022-08-14T17:18:57.497Z"
   },
   {
    "duration": 5,
    "start_time": "2022-08-14T17:21:28.430Z"
   },
   {
    "duration": 16,
    "start_time": "2022-08-14T17:22:10.333Z"
   },
   {
    "duration": 40,
    "start_time": "2022-08-14T17:26:07.033Z"
   },
   {
    "duration": 7,
    "start_time": "2022-08-14T17:26:11.049Z"
   },
   {
    "duration": 52,
    "start_time": "2022-08-14T17:26:11.058Z"
   },
   {
    "duration": 11,
    "start_time": "2022-08-14T17:26:11.111Z"
   },
   {
    "duration": 35,
    "start_time": "2022-08-14T17:26:11.124Z"
   },
   {
    "duration": 5,
    "start_time": "2022-08-14T17:26:11.161Z"
   },
   {
    "duration": 9,
    "start_time": "2022-08-14T17:26:11.167Z"
   },
   {
    "duration": 5,
    "start_time": "2022-08-14T17:26:11.177Z"
   },
   {
    "duration": 191,
    "start_time": "2022-08-14T17:26:11.184Z"
   },
   {
    "duration": 157,
    "start_time": "2022-08-14T17:26:11.377Z"
   },
   {
    "duration": 7,
    "start_time": "2022-08-14T17:26:11.538Z"
   },
   {
    "duration": 20,
    "start_time": "2022-08-14T17:26:11.547Z"
   },
   {
    "duration": 10,
    "start_time": "2022-08-14T17:26:11.568Z"
   },
   {
    "duration": 199,
    "start_time": "2022-08-14T17:26:11.579Z"
   },
   {
    "duration": 4,
    "start_time": "2022-08-14T17:26:11.779Z"
   },
   {
    "duration": 5,
    "start_time": "2022-08-14T17:26:11.784Z"
   },
   {
    "duration": 7,
    "start_time": "2022-08-14T17:26:11.790Z"
   },
   {
    "duration": 7,
    "start_time": "2022-08-14T17:26:11.799Z"
   },
   {
    "duration": 5,
    "start_time": "2022-08-14T17:26:11.808Z"
   },
   {
    "duration": 31,
    "start_time": "2022-08-14T17:26:11.814Z"
   },
   {
    "duration": 15,
    "start_time": "2022-08-14T17:26:11.846Z"
   },
   {
    "duration": 35,
    "start_time": "2022-08-14T17:26:11.863Z"
   },
   {
    "duration": 13,
    "start_time": "2022-08-14T17:26:11.900Z"
   },
   {
    "duration": 14,
    "start_time": "2022-08-14T17:26:11.914Z"
   },
   {
    "duration": 24,
    "start_time": "2022-08-14T17:26:11.929Z"
   },
   {
    "duration": 5,
    "start_time": "2022-08-14T17:26:11.956Z"
   },
   {
    "duration": 38438,
    "start_time": "2022-08-14T17:26:11.963Z"
   },
   {
    "duration": 8,
    "start_time": "2022-08-14T17:26:50.402Z"
   },
   {
    "duration": 125,
    "start_time": "2022-08-14T17:26:50.413Z"
   },
   {
    "duration": 8,
    "start_time": "2022-08-14T17:26:50.544Z"
   },
   {
    "duration": 5,
    "start_time": "2022-08-14T17:26:50.554Z"
   },
   {
    "duration": 11,
    "start_time": "2022-08-14T17:26:50.560Z"
   },
   {
    "duration": 19,
    "start_time": "2022-08-14T17:26:50.573Z"
   },
   {
    "duration": 10,
    "start_time": "2022-08-14T17:26:50.594Z"
   },
   {
    "duration": 9,
    "start_time": "2022-08-14T17:26:50.606Z"
   },
   {
    "duration": 5,
    "start_time": "2022-08-14T17:27:44.081Z"
   },
   {
    "duration": 12,
    "start_time": "2022-08-14T17:27:57.552Z"
   },
   {
    "duration": 4,
    "start_time": "2022-08-14T17:27:59.929Z"
   },
   {
    "duration": 1681,
    "start_time": "2022-08-15T15:00:19.891Z"
   },
   {
    "duration": 214,
    "start_time": "2022-08-15T15:00:21.574Z"
   },
   {
    "duration": 28,
    "start_time": "2022-08-15T15:00:21.790Z"
   },
   {
    "duration": 75,
    "start_time": "2022-08-15T15:00:21.829Z"
   },
   {
    "duration": 23,
    "start_time": "2022-08-15T15:00:21.907Z"
   },
   {
    "duration": 23,
    "start_time": "2022-08-15T15:00:21.932Z"
   },
   {
    "duration": 22,
    "start_time": "2022-08-15T15:00:21.957Z"
   },
   {
    "duration": 264,
    "start_time": "2022-08-15T15:00:21.981Z"
   },
   {
    "duration": 226,
    "start_time": "2022-08-15T15:00:22.246Z"
   },
   {
    "duration": 6,
    "start_time": "2022-08-15T15:00:22.474Z"
   },
   {
    "duration": 25,
    "start_time": "2022-08-15T15:00:22.481Z"
   },
   {
    "duration": 33,
    "start_time": "2022-08-15T15:00:22.511Z"
   },
   {
    "duration": 148,
    "start_time": "2022-08-15T15:00:22.546Z"
   },
   {
    "duration": 11,
    "start_time": "2022-08-15T15:00:22.695Z"
   },
   {
    "duration": 31,
    "start_time": "2022-08-15T15:00:22.708Z"
   },
   {
    "duration": 9,
    "start_time": "2022-08-15T15:00:22.741Z"
   },
   {
    "duration": 10,
    "start_time": "2022-08-15T15:00:22.751Z"
   },
   {
    "duration": 5,
    "start_time": "2022-08-15T15:00:22.763Z"
   },
   {
    "duration": 15,
    "start_time": "2022-08-15T15:00:22.770Z"
   },
   {
    "duration": 14,
    "start_time": "2022-08-15T15:00:22.786Z"
   },
   {
    "duration": 71,
    "start_time": "2022-08-15T15:00:22.802Z"
   },
   {
    "duration": 21,
    "start_time": "2022-08-15T15:00:22.875Z"
   },
   {
    "duration": 120,
    "start_time": "2022-08-15T15:00:22.905Z"
   },
   {
    "duration": 20,
    "start_time": "2022-08-15T15:00:23.029Z"
   },
   {
    "duration": 7,
    "start_time": "2022-08-15T15:00:23.050Z"
   },
   {
    "duration": 46490,
    "start_time": "2022-08-15T15:00:23.059Z"
   },
   {
    "duration": 10,
    "start_time": "2022-08-15T15:01:09.551Z"
   },
   {
    "duration": 170,
    "start_time": "2022-08-15T15:01:09.565Z"
   },
   {
    "duration": 7,
    "start_time": "2022-08-15T15:01:09.736Z"
   },
   {
    "duration": 7,
    "start_time": "2022-08-15T15:01:09.744Z"
   },
   {
    "duration": 8,
    "start_time": "2022-08-15T15:01:09.753Z"
   },
   {
    "duration": 37,
    "start_time": "2022-08-15T15:01:09.763Z"
   },
   {
    "duration": 37,
    "start_time": "2022-08-15T15:01:09.802Z"
   },
   {
    "duration": 11,
    "start_time": "2022-08-15T15:01:09.841Z"
   },
   {
    "duration": 5,
    "start_time": "2022-08-15T15:01:09.854Z"
   },
   {
    "duration": 46255,
    "start_time": "2022-08-15T15:01:09.860Z"
   },
   {
    "duration": 60118,
    "start_time": "2022-08-15T15:03:12.771Z"
   },
   {
    "duration": 8,
    "start_time": "2022-08-15T15:06:02.733Z"
   },
   {
    "duration": 95,
    "start_time": "2022-08-15T15:06:02.744Z"
   },
   {
    "duration": 19,
    "start_time": "2022-08-15T15:06:02.842Z"
   },
   {
    "duration": 61,
    "start_time": "2022-08-15T15:06:02.864Z"
   },
   {
    "duration": 10,
    "start_time": "2022-08-15T15:06:02.930Z"
   },
   {
    "duration": 12,
    "start_time": "2022-08-15T15:06:02.942Z"
   },
   {
    "duration": 20,
    "start_time": "2022-08-15T15:06:02.956Z"
   },
   {
    "duration": 243,
    "start_time": "2022-08-15T15:06:02.978Z"
   },
   {
    "duration": 242,
    "start_time": "2022-08-15T15:06:03.222Z"
   },
   {
    "duration": 6,
    "start_time": "2022-08-15T15:06:03.466Z"
   },
   {
    "duration": 67,
    "start_time": "2022-08-15T15:06:03.474Z"
   },
   {
    "duration": 13,
    "start_time": "2022-08-15T15:06:03.543Z"
   },
   {
    "duration": 165,
    "start_time": "2022-08-15T15:06:03.558Z"
   },
   {
    "duration": 5,
    "start_time": "2022-08-15T15:06:03.726Z"
   },
   {
    "duration": 23,
    "start_time": "2022-08-15T15:06:03.733Z"
   },
   {
    "duration": 14,
    "start_time": "2022-08-15T15:06:03.758Z"
   },
   {
    "duration": 15,
    "start_time": "2022-08-15T15:06:03.773Z"
   },
   {
    "duration": 40,
    "start_time": "2022-08-15T15:06:03.789Z"
   },
   {
    "duration": 20,
    "start_time": "2022-08-15T15:06:03.838Z"
   },
   {
    "duration": 12,
    "start_time": "2022-08-15T15:06:03.861Z"
   },
   {
    "duration": 70,
    "start_time": "2022-08-15T15:06:03.876Z"
   },
   {
    "duration": 31,
    "start_time": "2022-08-15T15:06:03.949Z"
   },
   {
    "duration": 23,
    "start_time": "2022-08-15T15:06:03.981Z"
   },
   {
    "duration": 55,
    "start_time": "2022-08-15T15:06:04.006Z"
   },
   {
    "duration": 7,
    "start_time": "2022-08-15T15:06:04.063Z"
   },
   {
    "duration": 53922,
    "start_time": "2022-08-15T15:06:04.072Z"
   },
   {
    "duration": 29,
    "start_time": "2022-08-15T15:06:57.997Z"
   },
   {
    "duration": 181,
    "start_time": "2022-08-15T15:06:58.029Z"
   },
   {
    "duration": 10,
    "start_time": "2022-08-15T15:06:58.212Z"
   },
   {
    "duration": 31,
    "start_time": "2022-08-15T15:06:58.223Z"
   },
   {
    "duration": 12,
    "start_time": "2022-08-15T15:06:58.255Z"
   },
   {
    "duration": 20,
    "start_time": "2022-08-15T15:06:58.269Z"
   },
   {
    "duration": 46,
    "start_time": "2022-08-15T15:06:58.294Z"
   },
   {
    "duration": 35,
    "start_time": "2022-08-15T15:06:58.343Z"
   },
   {
    "duration": 6,
    "start_time": "2022-08-15T15:06:58.380Z"
   },
   {
    "duration": 69852,
    "start_time": "2022-08-15T15:06:58.388Z"
   },
   {
    "duration": 229,
    "start_time": "2022-08-15T15:12:04.621Z"
   },
   {
    "duration": 7,
    "start_time": "2022-08-15T15:12:14.465Z"
   },
   {
    "duration": 106,
    "start_time": "2022-08-15T15:12:14.474Z"
   },
   {
    "duration": 29,
    "start_time": "2022-08-15T15:12:14.582Z"
   },
   {
    "duration": 68,
    "start_time": "2022-08-15T15:12:14.615Z"
   },
   {
    "duration": 7,
    "start_time": "2022-08-15T15:12:14.686Z"
   },
   {
    "duration": 53,
    "start_time": "2022-08-15T15:12:14.695Z"
   },
   {
    "duration": 21,
    "start_time": "2022-08-15T15:12:14.750Z"
   },
   {
    "duration": 248,
    "start_time": "2022-08-15T15:12:14.773Z"
   },
   {
    "duration": 299,
    "start_time": "2022-08-15T15:12:15.025Z"
   },
   {
    "duration": 6,
    "start_time": "2022-08-15T15:12:15.327Z"
   },
   {
    "duration": 18,
    "start_time": "2022-08-15T15:12:15.335Z"
   },
   {
    "duration": 17,
    "start_time": "2022-08-15T15:12:15.354Z"
   },
   {
    "duration": 162,
    "start_time": "2022-08-15T15:12:15.374Z"
   },
   {
    "duration": 5,
    "start_time": "2022-08-15T15:12:15.540Z"
   },
   {
    "duration": 23,
    "start_time": "2022-08-15T15:12:15.547Z"
   },
   {
    "duration": 12,
    "start_time": "2022-08-15T15:12:15.573Z"
   },
   {
    "duration": 41,
    "start_time": "2022-08-15T15:12:15.587Z"
   },
   {
    "duration": 10,
    "start_time": "2022-08-15T15:12:15.630Z"
   },
   {
    "duration": 33,
    "start_time": "2022-08-15T15:12:15.642Z"
   },
   {
    "duration": 34,
    "start_time": "2022-08-15T15:12:15.677Z"
   },
   {
    "duration": 52,
    "start_time": "2022-08-15T15:12:15.715Z"
   },
   {
    "duration": 16,
    "start_time": "2022-08-15T15:12:15.770Z"
   },
   {
    "duration": 39,
    "start_time": "2022-08-15T15:12:15.788Z"
   },
   {
    "duration": 15,
    "start_time": "2022-08-15T15:12:15.829Z"
   },
   {
    "duration": 12,
    "start_time": "2022-08-15T15:12:15.846Z"
   },
   {
    "duration": 43884,
    "start_time": "2022-08-15T15:12:15.860Z"
   },
   {
    "duration": 11,
    "start_time": "2022-08-15T15:12:59.746Z"
   },
   {
    "duration": 170,
    "start_time": "2022-08-15T15:12:59.759Z"
   },
   {
    "duration": 7,
    "start_time": "2022-08-15T15:12:59.931Z"
   },
   {
    "duration": 20,
    "start_time": "2022-08-15T15:12:59.939Z"
   },
   {
    "duration": 9,
    "start_time": "2022-08-15T15:12:59.961Z"
   },
   {
    "duration": 33,
    "start_time": "2022-08-15T15:12:59.972Z"
   },
   {
    "duration": 27,
    "start_time": "2022-08-15T15:13:00.008Z"
   },
   {
    "duration": 19,
    "start_time": "2022-08-15T15:13:00.037Z"
   },
   {
    "duration": 15,
    "start_time": "2022-08-15T15:13:00.058Z"
   },
   {
    "duration": 21,
    "start_time": "2022-08-15T15:13:00.075Z"
   },
   {
    "duration": 62649,
    "start_time": "2022-08-15T15:13:00.107Z"
   },
   {
    "duration": 13,
    "start_time": "2022-08-15T15:19:08.206Z"
   },
   {
    "duration": 174,
    "start_time": "2022-08-15T15:19:11.900Z"
   },
   {
    "duration": 143,
    "start_time": "2022-08-15T15:19:22.877Z"
   },
   {
    "duration": 7,
    "start_time": "2022-08-15T15:19:29.848Z"
   },
   {
    "duration": 88,
    "start_time": "2022-08-15T15:19:29.856Z"
   },
   {
    "duration": 16,
    "start_time": "2022-08-15T15:19:29.945Z"
   },
   {
    "duration": 57,
    "start_time": "2022-08-15T15:19:29.963Z"
   },
   {
    "duration": 10,
    "start_time": "2022-08-15T15:19:30.022Z"
   },
   {
    "duration": 17,
    "start_time": "2022-08-15T15:19:30.034Z"
   },
   {
    "duration": 21,
    "start_time": "2022-08-15T15:19:30.052Z"
   },
   {
    "duration": 212,
    "start_time": "2022-08-15T15:19:30.075Z"
   },
   {
    "duration": 191,
    "start_time": "2022-08-15T15:19:30.292Z"
   },
   {
    "duration": 17,
    "start_time": "2022-08-15T15:19:30.493Z"
   },
   {
    "duration": 27,
    "start_time": "2022-08-15T15:19:30.512Z"
   },
   {
    "duration": 16,
    "start_time": "2022-08-15T15:19:30.541Z"
   },
   {
    "duration": 165,
    "start_time": "2022-08-15T15:19:30.559Z"
   },
   {
    "duration": 4,
    "start_time": "2022-08-15T15:19:30.726Z"
   },
   {
    "duration": 22,
    "start_time": "2022-08-15T15:19:30.732Z"
   },
   {
    "duration": 64,
    "start_time": "2022-08-15T15:19:30.756Z"
   },
   {
    "duration": 40,
    "start_time": "2022-08-15T15:19:30.822Z"
   },
   {
    "duration": 26,
    "start_time": "2022-08-15T15:19:30.864Z"
   },
   {
    "duration": 51,
    "start_time": "2022-08-15T15:19:30.898Z"
   },
   {
    "duration": 36,
    "start_time": "2022-08-15T15:19:30.951Z"
   },
   {
    "duration": 110,
    "start_time": "2022-08-15T15:19:30.989Z"
   },
   {
    "duration": 26,
    "start_time": "2022-08-15T15:19:31.101Z"
   },
   {
    "duration": 40,
    "start_time": "2022-08-15T15:19:31.128Z"
   },
   {
    "duration": 137,
    "start_time": "2022-08-15T15:19:31.171Z"
   },
   {
    "duration": 56,
    "start_time": "2022-08-15T15:19:31.310Z"
   },
   {
    "duration": 44578,
    "start_time": "2022-08-15T15:19:31.368Z"
   },
   {
    "duration": 10,
    "start_time": "2022-08-15T15:20:15.948Z"
   },
   {
    "duration": 176,
    "start_time": "2022-08-15T15:20:15.960Z"
   },
   {
    "duration": 7,
    "start_time": "2022-08-15T15:20:16.138Z"
   },
   {
    "duration": 10,
    "start_time": "2022-08-15T15:20:16.147Z"
   },
   {
    "duration": 15,
    "start_time": "2022-08-15T15:20:16.159Z"
   },
   {
    "duration": 35,
    "start_time": "2022-08-15T15:20:16.175Z"
   },
   {
    "duration": 19,
    "start_time": "2022-08-15T15:20:16.216Z"
   },
   {
    "duration": 32,
    "start_time": "2022-08-15T15:20:16.237Z"
   },
   {
    "duration": 13,
    "start_time": "2022-08-15T15:20:16.271Z"
   },
   {
    "duration": 48,
    "start_time": "2022-08-15T15:20:16.285Z"
   },
   {
    "duration": 61527,
    "start_time": "2022-08-15T15:20:16.335Z"
   },
   {
    "duration": 7,
    "start_time": "2022-08-15T15:28:06.920Z"
   },
   {
    "duration": 8,
    "start_time": "2022-08-15T15:28:45.284Z"
   },
   {
    "duration": 93,
    "start_time": "2022-08-15T15:28:45.295Z"
   },
   {
    "duration": 23,
    "start_time": "2022-08-15T15:28:45.389Z"
   },
   {
    "duration": 63,
    "start_time": "2022-08-15T15:28:45.415Z"
   },
   {
    "duration": 7,
    "start_time": "2022-08-15T15:28:45.480Z"
   },
   {
    "duration": 35,
    "start_time": "2022-08-15T15:28:45.489Z"
   },
   {
    "duration": 21,
    "start_time": "2022-08-15T15:28:45.526Z"
   },
   {
    "duration": 223,
    "start_time": "2022-08-15T15:28:45.548Z"
   },
   {
    "duration": 235,
    "start_time": "2022-08-15T15:28:45.772Z"
   },
   {
    "duration": 6,
    "start_time": "2022-08-15T15:28:46.010Z"
   },
   {
    "duration": 13,
    "start_time": "2022-08-15T15:28:46.018Z"
   },
   {
    "duration": 13,
    "start_time": "2022-08-15T15:28:46.034Z"
   },
   {
    "duration": 163,
    "start_time": "2022-08-15T15:28:46.049Z"
   },
   {
    "duration": 5,
    "start_time": "2022-08-15T15:28:46.214Z"
   },
   {
    "duration": 9,
    "start_time": "2022-08-15T15:28:46.221Z"
   },
   {
    "duration": 11,
    "start_time": "2022-08-15T15:28:46.231Z"
   },
   {
    "duration": 26,
    "start_time": "2022-08-15T15:28:46.243Z"
   },
   {
    "duration": 8,
    "start_time": "2022-08-15T15:28:46.271Z"
   },
   {
    "duration": 31,
    "start_time": "2022-08-15T15:28:46.281Z"
   },
   {
    "duration": 16,
    "start_time": "2022-08-15T15:28:46.314Z"
   },
   {
    "duration": 54,
    "start_time": "2022-08-15T15:28:46.332Z"
   },
   {
    "duration": 22,
    "start_time": "2022-08-15T15:28:46.388Z"
   },
   {
    "duration": 23,
    "start_time": "2022-08-15T15:28:46.412Z"
   },
   {
    "duration": 34,
    "start_time": "2022-08-15T15:28:46.437Z"
   },
   {
    "duration": 39,
    "start_time": "2022-08-15T15:28:46.473Z"
   },
   {
    "duration": 41992,
    "start_time": "2022-08-15T15:28:46.514Z"
   },
   {
    "duration": 9,
    "start_time": "2022-08-15T15:29:28.508Z"
   },
   {
    "duration": 159,
    "start_time": "2022-08-15T15:29:28.521Z"
   },
   {
    "duration": 16,
    "start_time": "2022-08-15T15:29:28.682Z"
   },
   {
    "duration": 17,
    "start_time": "2022-08-15T15:29:28.700Z"
   },
   {
    "duration": 16,
    "start_time": "2022-08-15T15:29:28.719Z"
   },
   {
    "duration": 26,
    "start_time": "2022-08-15T15:29:28.737Z"
   },
   {
    "duration": 15,
    "start_time": "2022-08-15T15:29:28.765Z"
   },
   {
    "duration": 24,
    "start_time": "2022-08-15T15:29:28.782Z"
   },
   {
    "duration": 9,
    "start_time": "2022-08-15T15:29:28.809Z"
   },
   {
    "duration": 12,
    "start_time": "2022-08-15T15:29:28.820Z"
   },
   {
    "duration": 55952,
    "start_time": "2022-08-15T15:29:28.834Z"
   },
   {
    "duration": 15,
    "start_time": "2022-08-15T15:30:24.793Z"
   },
   {
    "duration": 144608,
    "start_time": "2022-08-15T16:42:33.968Z"
   },
   {
    "duration": 50275,
    "start_time": "2022-08-15T16:45:49.536Z"
   },
   {
    "duration": 8,
    "start_time": "2022-08-15T16:46:47.828Z"
   },
   {
    "duration": 8,
    "start_time": "2022-08-15T16:46:57.756Z"
   },
   {
    "duration": 6,
    "start_time": "2022-08-15T16:47:12.180Z"
   },
   {
    "duration": 55,
    "start_time": "2022-08-15T16:47:12.188Z"
   },
   {
    "duration": 12,
    "start_time": "2022-08-15T16:47:12.244Z"
   },
   {
    "duration": 39,
    "start_time": "2022-08-15T16:47:12.258Z"
   },
   {
    "duration": 5,
    "start_time": "2022-08-15T16:47:12.299Z"
   },
   {
    "duration": 13,
    "start_time": "2022-08-15T16:47:12.305Z"
   },
   {
    "duration": 7,
    "start_time": "2022-08-15T16:47:12.319Z"
   },
   {
    "duration": 177,
    "start_time": "2022-08-15T16:47:12.328Z"
   },
   {
    "duration": 175,
    "start_time": "2022-08-15T16:47:12.506Z"
   },
   {
    "duration": 10,
    "start_time": "2022-08-15T16:47:12.682Z"
   },
   {
    "duration": 4,
    "start_time": "2022-08-15T16:47:12.694Z"
   },
   {
    "duration": 9,
    "start_time": "2022-08-15T16:47:12.700Z"
   },
   {
    "duration": 131,
    "start_time": "2022-08-15T16:47:12.710Z"
   },
   {
    "duration": 4,
    "start_time": "2022-08-15T16:47:12.842Z"
   },
   {
    "duration": 5,
    "start_time": "2022-08-15T16:47:12.847Z"
   },
   {
    "duration": 6,
    "start_time": "2022-08-15T16:47:12.853Z"
   },
   {
    "duration": 31,
    "start_time": "2022-08-15T16:47:12.861Z"
   },
   {
    "duration": 5,
    "start_time": "2022-08-15T16:47:12.894Z"
   },
   {
    "duration": 18,
    "start_time": "2022-08-15T16:47:12.901Z"
   },
   {
    "duration": 7,
    "start_time": "2022-08-15T16:47:12.920Z"
   },
   {
    "duration": 43,
    "start_time": "2022-08-15T16:47:12.928Z"
   },
   {
    "duration": 33,
    "start_time": "2022-08-15T16:47:12.972Z"
   },
   {
    "duration": 9,
    "start_time": "2022-08-15T16:47:13.007Z"
   },
   {
    "duration": 11,
    "start_time": "2022-08-15T16:47:13.017Z"
   },
   {
    "duration": 6,
    "start_time": "2022-08-15T16:47:13.029Z"
   },
   {
    "duration": 35864,
    "start_time": "2022-08-15T16:47:13.036Z"
   },
   {
    "duration": 8,
    "start_time": "2022-08-15T16:47:48.902Z"
   },
   {
    "duration": 125,
    "start_time": "2022-08-15T16:47:48.912Z"
   },
   {
    "duration": 6,
    "start_time": "2022-08-15T16:47:49.040Z"
   },
   {
    "duration": 4,
    "start_time": "2022-08-15T16:47:49.048Z"
   },
   {
    "duration": 8,
    "start_time": "2022-08-15T16:47:49.053Z"
   },
   {
    "duration": 36,
    "start_time": "2022-08-15T16:47:49.063Z"
   },
   {
    "duration": 9,
    "start_time": "2022-08-15T16:47:49.100Z"
   },
   {
    "duration": 12,
    "start_time": "2022-08-15T16:47:49.111Z"
   },
   {
    "duration": 5,
    "start_time": "2022-08-15T16:47:49.125Z"
   },
   {
    "duration": 8,
    "start_time": "2022-08-15T16:47:49.131Z"
   },
   {
    "duration": 51497,
    "start_time": "2022-08-15T16:47:49.141Z"
   },
   {
    "duration": 7,
    "start_time": "2022-08-15T16:48:40.639Z"
   },
   {
    "duration": 7,
    "start_time": "2022-08-15T16:52:30.652Z"
   },
   {
    "duration": 63,
    "start_time": "2022-08-15T16:52:30.661Z"
   },
   {
    "duration": 13,
    "start_time": "2022-08-15T16:52:30.726Z"
   },
   {
    "duration": 37,
    "start_time": "2022-08-15T16:52:30.741Z"
   },
   {
    "duration": 6,
    "start_time": "2022-08-15T16:52:30.791Z"
   },
   {
    "duration": 29,
    "start_time": "2022-08-15T16:52:30.798Z"
   },
   {
    "duration": 43,
    "start_time": "2022-08-15T16:52:30.829Z"
   },
   {
    "duration": 205,
    "start_time": "2022-08-15T16:52:30.873Z"
   },
   {
    "duration": 170,
    "start_time": "2022-08-15T16:52:31.079Z"
   },
   {
    "duration": 5,
    "start_time": "2022-08-15T16:52:31.251Z"
   },
   {
    "duration": 12,
    "start_time": "2022-08-15T16:52:31.257Z"
   },
   {
    "duration": 22,
    "start_time": "2022-08-15T16:52:31.270Z"
   },
   {
    "duration": 128,
    "start_time": "2022-08-15T16:52:31.294Z"
   },
   {
    "duration": 4,
    "start_time": "2022-08-15T16:52:31.425Z"
   },
   {
    "duration": 6,
    "start_time": "2022-08-15T16:52:31.430Z"
   },
   {
    "duration": 7,
    "start_time": "2022-08-15T16:52:31.437Z"
   },
   {
    "duration": 10,
    "start_time": "2022-08-15T16:52:31.445Z"
   },
   {
    "duration": 5,
    "start_time": "2022-08-15T16:52:31.456Z"
   },
   {
    "duration": 36,
    "start_time": "2022-08-15T16:52:31.463Z"
   },
   {
    "duration": 11,
    "start_time": "2022-08-15T16:52:31.500Z"
   },
   {
    "duration": 44,
    "start_time": "2022-08-15T16:52:31.512Z"
   },
   {
    "duration": 14,
    "start_time": "2022-08-15T16:52:31.558Z"
   },
   {
    "duration": 18,
    "start_time": "2022-08-15T16:52:31.574Z"
   },
   {
    "duration": 12,
    "start_time": "2022-08-15T16:52:31.594Z"
   },
   {
    "duration": 6,
    "start_time": "2022-08-15T16:52:31.607Z"
   },
   {
    "duration": 36319,
    "start_time": "2022-08-15T16:52:31.614Z"
   },
   {
    "duration": 9,
    "start_time": "2022-08-15T16:53:07.935Z"
   },
   {
    "duration": 137,
    "start_time": "2022-08-15T16:53:07.946Z"
   },
   {
    "duration": 6,
    "start_time": "2022-08-15T16:53:08.091Z"
   },
   {
    "duration": 4,
    "start_time": "2022-08-15T16:53:08.098Z"
   },
   {
    "duration": 8,
    "start_time": "2022-08-15T16:53:08.104Z"
   },
   {
    "duration": 19,
    "start_time": "2022-08-15T16:53:08.113Z"
   },
   {
    "duration": 9,
    "start_time": "2022-08-15T16:53:08.133Z"
   },
   {
    "duration": 11,
    "start_time": "2022-08-15T16:53:08.143Z"
   },
   {
    "duration": 5,
    "start_time": "2022-08-15T16:53:08.155Z"
   },
   {
    "duration": 33,
    "start_time": "2022-08-15T16:53:08.161Z"
   },
   {
    "duration": 46870,
    "start_time": "2022-08-15T16:53:08.195Z"
   },
   {
    "duration": 9,
    "start_time": "2022-08-15T16:53:55.066Z"
   },
   {
    "duration": 9,
    "start_time": "2022-08-15T16:55:51.792Z"
   },
   {
    "duration": 63,
    "start_time": "2022-08-15T16:55:51.803Z"
   },
   {
    "duration": 14,
    "start_time": "2022-08-15T16:55:51.868Z"
   },
   {
    "duration": 46,
    "start_time": "2022-08-15T16:55:51.891Z"
   },
   {
    "duration": 9,
    "start_time": "2022-08-15T16:55:51.939Z"
   },
   {
    "duration": 12,
    "start_time": "2022-08-15T16:55:51.950Z"
   },
   {
    "duration": 31,
    "start_time": "2022-08-15T16:55:51.964Z"
   },
   {
    "duration": 201,
    "start_time": "2022-08-15T16:55:51.997Z"
   },
   {
    "duration": 184,
    "start_time": "2022-08-15T16:55:52.200Z"
   },
   {
    "duration": 9,
    "start_time": "2022-08-15T16:55:52.386Z"
   },
   {
    "duration": 6,
    "start_time": "2022-08-15T16:55:52.397Z"
   },
   {
    "duration": 8,
    "start_time": "2022-08-15T16:55:52.404Z"
   },
   {
    "duration": 145,
    "start_time": "2022-08-15T16:55:52.414Z"
   },
   {
    "duration": 5,
    "start_time": "2022-08-15T16:55:52.561Z"
   },
   {
    "duration": 4,
    "start_time": "2022-08-15T16:55:52.567Z"
   },
   {
    "duration": 20,
    "start_time": "2022-08-15T16:55:52.572Z"
   },
   {
    "duration": 10,
    "start_time": "2022-08-15T16:55:52.593Z"
   },
   {
    "duration": 5,
    "start_time": "2022-08-15T16:55:52.604Z"
   },
   {
    "duration": 15,
    "start_time": "2022-08-15T16:55:52.610Z"
   },
   {
    "duration": 7,
    "start_time": "2022-08-15T16:55:52.627Z"
   },
   {
    "duration": 42,
    "start_time": "2022-08-15T16:55:52.635Z"
   },
   {
    "duration": 15,
    "start_time": "2022-08-15T16:55:52.691Z"
   },
   {
    "duration": 11,
    "start_time": "2022-08-15T16:55:52.708Z"
   },
   {
    "duration": 13,
    "start_time": "2022-08-15T16:55:52.720Z"
   },
   {
    "duration": 7,
    "start_time": "2022-08-15T16:55:52.735Z"
   },
   {
    "duration": 131495,
    "start_time": "2022-08-15T16:55:52.743Z"
   },
   {
    "duration": 8,
    "start_time": "2022-08-15T16:58:04.240Z"
   },
   {
    "duration": 135,
    "start_time": "2022-08-15T16:58:04.251Z"
   },
   {
    "duration": 9,
    "start_time": "2022-08-15T16:58:04.387Z"
   },
   {
    "duration": 3,
    "start_time": "2022-08-15T16:58:04.398Z"
   },
   {
    "duration": 9,
    "start_time": "2022-08-15T16:58:04.402Z"
   },
   {
    "duration": 15,
    "start_time": "2022-08-15T16:58:04.413Z"
   },
   {
    "duration": 8,
    "start_time": "2022-08-15T16:58:04.430Z"
   },
   {
    "duration": 14,
    "start_time": "2022-08-15T16:58:04.439Z"
   },
   {
    "duration": 5,
    "start_time": "2022-08-15T16:58:04.454Z"
   },
   {
    "duration": 34,
    "start_time": "2022-08-15T16:58:04.460Z"
   },
   {
    "duration": 173298,
    "start_time": "2022-08-15T16:58:04.495Z"
   },
   {
    "duration": 11,
    "start_time": "2022-08-15T17:00:57.795Z"
   },
   {
    "duration": 115,
    "start_time": "2022-08-15T17:11:15.200Z"
   },
   {
    "duration": 7,
    "start_time": "2022-08-15T17:12:57.971Z"
   },
   {
    "duration": 56,
    "start_time": "2022-08-15T17:12:57.980Z"
   },
   {
    "duration": 13,
    "start_time": "2022-08-15T17:12:58.038Z"
   },
   {
    "duration": 49,
    "start_time": "2022-08-15T17:12:58.052Z"
   },
   {
    "duration": 7,
    "start_time": "2022-08-15T17:12:58.103Z"
   },
   {
    "duration": 8,
    "start_time": "2022-08-15T17:12:58.112Z"
   },
   {
    "duration": 8,
    "start_time": "2022-08-15T17:12:58.121Z"
   },
   {
    "duration": 215,
    "start_time": "2022-08-15T17:12:58.130Z"
   },
   {
    "duration": 314,
    "start_time": "2022-08-15T17:12:58.347Z"
   },
   {
    "duration": 5,
    "start_time": "2022-08-15T17:12:58.663Z"
   },
   {
    "duration": 21,
    "start_time": "2022-08-15T17:12:58.671Z"
   },
   {
    "duration": 13,
    "start_time": "2022-08-15T17:12:58.694Z"
   },
   {
    "duration": 141,
    "start_time": "2022-08-15T17:12:58.708Z"
   },
   {
    "duration": 4,
    "start_time": "2022-08-15T17:12:58.851Z"
   },
   {
    "duration": 10,
    "start_time": "2022-08-15T17:12:58.857Z"
   },
   {
    "duration": 6,
    "start_time": "2022-08-15T17:12:58.869Z"
   },
   {
    "duration": 24,
    "start_time": "2022-08-15T17:12:58.877Z"
   },
   {
    "duration": 7,
    "start_time": "2022-08-15T17:12:58.903Z"
   },
   {
    "duration": 14,
    "start_time": "2022-08-15T17:12:58.912Z"
   },
   {
    "duration": 8,
    "start_time": "2022-08-15T17:12:58.928Z"
   },
   {
    "duration": 81,
    "start_time": "2022-08-15T17:12:58.938Z"
   },
   {
    "duration": 17,
    "start_time": "2022-08-15T17:12:59.021Z"
   },
   {
    "duration": 10,
    "start_time": "2022-08-15T17:12:59.040Z"
   },
   {
    "duration": 12,
    "start_time": "2022-08-15T17:12:59.052Z"
   },
   {
    "duration": 27,
    "start_time": "2022-08-15T17:12:59.066Z"
   },
   {
    "duration": 130866,
    "start_time": "2022-08-15T17:12:59.095Z"
   },
   {
    "duration": 14,
    "start_time": "2022-08-15T17:15:09.963Z"
   },
   {
    "duration": 20,
    "start_time": "2022-08-15T17:15:09.979Z"
   },
   {
    "duration": 0,
    "start_time": "2022-08-15T17:15:10.003Z"
   },
   {
    "duration": 0,
    "start_time": "2022-08-15T17:15:10.004Z"
   },
   {
    "duration": 0,
    "start_time": "2022-08-15T17:15:10.006Z"
   },
   {
    "duration": 0,
    "start_time": "2022-08-15T17:15:10.008Z"
   },
   {
    "duration": 0,
    "start_time": "2022-08-15T17:15:10.010Z"
   },
   {
    "duration": 0,
    "start_time": "2022-08-15T17:15:10.011Z"
   },
   {
    "duration": 0,
    "start_time": "2022-08-15T17:15:10.013Z"
   },
   {
    "duration": 0,
    "start_time": "2022-08-15T17:15:10.014Z"
   },
   {
    "duration": 0,
    "start_time": "2022-08-15T17:15:10.015Z"
   },
   {
    "duration": 0,
    "start_time": "2022-08-15T17:15:10.016Z"
   },
   {
    "duration": 0,
    "start_time": "2022-08-15T17:15:10.018Z"
   },
   {
    "duration": 7,
    "start_time": "2022-08-15T17:17:23.253Z"
   },
   {
    "duration": 58,
    "start_time": "2022-08-15T17:17:23.262Z"
   },
   {
    "duration": 12,
    "start_time": "2022-08-15T17:17:23.321Z"
   },
   {
    "duration": 34,
    "start_time": "2022-08-15T17:17:23.335Z"
   },
   {
    "duration": 6,
    "start_time": "2022-08-15T17:17:23.404Z"
   },
   {
    "duration": 10,
    "start_time": "2022-08-15T17:17:23.411Z"
   },
   {
    "duration": 9,
    "start_time": "2022-08-15T17:17:23.422Z"
   },
   {
    "duration": 181,
    "start_time": "2022-08-15T17:17:23.432Z"
   },
   {
    "duration": 189,
    "start_time": "2022-08-15T17:17:23.615Z"
   },
   {
    "duration": 6,
    "start_time": "2022-08-15T17:17:23.806Z"
   },
   {
    "duration": 9,
    "start_time": "2022-08-15T17:17:23.813Z"
   },
   {
    "duration": 8,
    "start_time": "2022-08-15T17:17:23.824Z"
   },
   {
    "duration": 134,
    "start_time": "2022-08-15T17:17:23.833Z"
   },
   {
    "duration": 4,
    "start_time": "2022-08-15T17:17:23.969Z"
   },
   {
    "duration": 19,
    "start_time": "2022-08-15T17:17:23.975Z"
   },
   {
    "duration": 20,
    "start_time": "2022-08-15T17:17:24.000Z"
   },
   {
    "duration": 26,
    "start_time": "2022-08-15T17:17:24.022Z"
   },
   {
    "duration": 8,
    "start_time": "2022-08-15T17:17:24.050Z"
   },
   {
    "duration": 17,
    "start_time": "2022-08-15T17:17:24.060Z"
   },
   {
    "duration": 11,
    "start_time": "2022-08-15T17:17:24.078Z"
   },
   {
    "duration": 56,
    "start_time": "2022-08-15T17:17:24.091Z"
   },
   {
    "duration": 16,
    "start_time": "2022-08-15T17:17:24.149Z"
   },
   {
    "duration": 11,
    "start_time": "2022-08-15T17:17:24.167Z"
   },
   {
    "duration": 22,
    "start_time": "2022-08-15T17:17:24.180Z"
   },
   {
    "duration": 6,
    "start_time": "2022-08-15T17:17:24.204Z"
   },
   {
    "duration": 1533827,
    "start_time": "2022-08-15T17:17:24.211Z"
   },
   {
    "duration": 11,
    "start_time": "2022-08-15T17:42:58.040Z"
   },
   {
    "duration": 160,
    "start_time": "2022-08-15T17:42:58.055Z"
   },
   {
    "duration": 6,
    "start_time": "2022-08-15T17:42:58.217Z"
   },
   {
    "duration": 6,
    "start_time": "2022-08-15T17:42:58.225Z"
   },
   {
    "duration": 12,
    "start_time": "2022-08-15T17:42:58.233Z"
   },
   {
    "duration": 22,
    "start_time": "2022-08-15T17:42:58.247Z"
   },
   {
    "duration": 23,
    "start_time": "2022-08-15T17:42:58.270Z"
   },
   {
    "duration": 21,
    "start_time": "2022-08-15T17:42:58.294Z"
   },
   {
    "duration": 9,
    "start_time": "2022-08-15T17:42:58.316Z"
   },
   {
    "duration": 9,
    "start_time": "2022-08-15T17:42:58.326Z"
   },
   {
    "duration": 1521,
    "start_time": "2022-08-16T01:40:02.424Z"
   },
   {
    "duration": 100,
    "start_time": "2022-08-16T01:40:03.947Z"
   },
   {
    "duration": 12,
    "start_time": "2022-08-16T01:40:04.048Z"
   },
   {
    "duration": 37,
    "start_time": "2022-08-16T01:40:04.061Z"
   },
   {
    "duration": 5,
    "start_time": "2022-08-16T01:40:04.100Z"
   },
   {
    "duration": 9,
    "start_time": "2022-08-16T01:40:04.106Z"
   },
   {
    "duration": 26,
    "start_time": "2022-08-16T01:40:04.116Z"
   },
   {
    "duration": 204,
    "start_time": "2022-08-16T01:40:04.143Z"
   },
   {
    "duration": 164,
    "start_time": "2022-08-16T01:40:04.349Z"
   },
   {
    "duration": 5,
    "start_time": "2022-08-16T01:40:04.514Z"
   },
   {
    "duration": 8,
    "start_time": "2022-08-16T01:40:04.520Z"
   },
   {
    "duration": 7,
    "start_time": "2022-08-16T01:40:04.538Z"
   },
   {
    "duration": 122,
    "start_time": "2022-08-16T01:40:04.546Z"
   },
   {
    "duration": 4,
    "start_time": "2022-08-16T01:40:04.671Z"
   },
   {
    "duration": 9,
    "start_time": "2022-08-16T01:40:04.676Z"
   },
   {
    "duration": 6,
    "start_time": "2022-08-16T01:40:04.686Z"
   },
   {
    "duration": 8,
    "start_time": "2022-08-16T01:40:04.693Z"
   },
   {
    "duration": 4,
    "start_time": "2022-08-16T01:40:04.703Z"
   },
   {
    "duration": 12,
    "start_time": "2022-08-16T01:40:04.708Z"
   },
   {
    "duration": 4,
    "start_time": "2022-08-16T01:40:04.738Z"
   },
   {
    "duration": 112,
    "start_time": "2022-08-16T01:40:04.743Z"
   },
   {
    "duration": 14,
    "start_time": "2022-08-16T01:40:04.856Z"
   },
   {
    "duration": 9,
    "start_time": "2022-08-16T01:40:04.872Z"
   },
   {
    "duration": 10,
    "start_time": "2022-08-16T01:40:04.882Z"
   },
   {
    "duration": 6,
    "start_time": "2022-08-16T01:40:04.893Z"
   },
   {
    "duration": 747997,
    "start_time": "2022-08-16T01:40:04.900Z"
   },
   {
    "duration": 14,
    "start_time": "2022-08-16T01:52:32.899Z"
   },
   {
    "duration": 133,
    "start_time": "2022-08-16T01:52:32.914Z"
   },
   {
    "duration": 6,
    "start_time": "2022-08-16T01:52:33.049Z"
   },
   {
    "duration": 4,
    "start_time": "2022-08-16T01:52:33.056Z"
   },
   {
    "duration": 7,
    "start_time": "2022-08-16T01:52:33.062Z"
   },
   {
    "duration": 16,
    "start_time": "2022-08-16T01:52:33.070Z"
   },
   {
    "duration": 5,
    "start_time": "2022-08-16T01:52:33.087Z"
   },
   {
    "duration": 9,
    "start_time": "2022-08-16T01:52:33.094Z"
   },
   {
    "duration": 4,
    "start_time": "2022-08-16T01:52:33.105Z"
   },
   {
    "duration": 6,
    "start_time": "2022-08-16T01:52:33.138Z"
   },
   {
    "duration": 1300981,
    "start_time": "2022-08-16T01:52:33.145Z"
   },
   {
    "duration": 27,
    "start_time": "2022-08-16T02:14:14.128Z"
   },
   {
    "duration": 118,
    "start_time": "2022-08-16T02:14:14.157Z"
   },
   {
    "duration": 121,
    "start_time": "2022-08-16T02:47:56.844Z"
   },
   {
    "duration": 56,
    "start_time": "2022-08-16T15:49:06.014Z"
   },
   {
    "duration": 1440,
    "start_time": "2022-08-16T15:51:26.420Z"
   },
   {
    "duration": 93,
    "start_time": "2022-08-16T15:51:27.862Z"
   },
   {
    "duration": 13,
    "start_time": "2022-08-16T15:51:27.957Z"
   },
   {
    "duration": 38,
    "start_time": "2022-08-16T15:51:27.972Z"
   },
   {
    "duration": 5,
    "start_time": "2022-08-16T15:51:28.012Z"
   },
   {
    "duration": 10,
    "start_time": "2022-08-16T15:51:28.018Z"
   },
   {
    "duration": 29,
    "start_time": "2022-08-16T15:51:28.030Z"
   },
   {
    "duration": 198,
    "start_time": "2022-08-16T15:51:28.061Z"
   },
   {
    "duration": 179,
    "start_time": "2022-08-16T15:51:28.261Z"
   },
   {
    "duration": 14,
    "start_time": "2022-08-16T15:51:28.443Z"
   },
   {
    "duration": 5,
    "start_time": "2022-08-16T15:51:28.459Z"
   },
   {
    "duration": 11,
    "start_time": "2022-08-16T15:51:28.466Z"
   },
   {
    "duration": 153,
    "start_time": "2022-08-16T15:51:28.478Z"
   },
   {
    "duration": 5,
    "start_time": "2022-08-16T15:51:28.632Z"
   },
   {
    "duration": 4,
    "start_time": "2022-08-16T15:51:28.638Z"
   },
   {
    "duration": 14,
    "start_time": "2022-08-16T15:51:28.643Z"
   },
   {
    "duration": 7,
    "start_time": "2022-08-16T15:51:28.659Z"
   },
   {
    "duration": 8,
    "start_time": "2022-08-16T15:51:28.667Z"
   },
   {
    "duration": 13,
    "start_time": "2022-08-16T15:51:28.676Z"
   },
   {
    "duration": 6,
    "start_time": "2022-08-16T15:51:28.690Z"
   },
   {
    "duration": 60,
    "start_time": "2022-08-16T15:51:28.697Z"
   },
   {
    "duration": 16,
    "start_time": "2022-08-16T15:51:28.759Z"
   },
   {
    "duration": 89,
    "start_time": "2022-08-16T15:51:28.776Z"
   },
   {
    "duration": 11,
    "start_time": "2022-08-16T15:51:28.866Z"
   },
   {
    "duration": 12,
    "start_time": "2022-08-16T15:51:28.878Z"
   },
   {
    "duration": 19286,
    "start_time": "2022-08-16T15:51:28.892Z"
   },
   {
    "duration": 13,
    "start_time": "2022-08-16T15:51:48.180Z"
   },
   {
    "duration": 146,
    "start_time": "2022-08-16T15:51:48.196Z"
   },
   {
    "duration": 6,
    "start_time": "2022-08-16T15:51:48.343Z"
   },
   {
    "duration": 19,
    "start_time": "2022-08-16T15:51:48.359Z"
   },
   {
    "duration": 10,
    "start_time": "2022-08-16T15:51:48.380Z"
   },
   {
    "duration": 19,
    "start_time": "2022-08-16T15:51:48.391Z"
   },
   {
    "duration": 7,
    "start_time": "2022-08-16T15:51:48.411Z"
   },
   {
    "duration": 12,
    "start_time": "2022-08-16T15:51:48.419Z"
   },
   {
    "duration": 4,
    "start_time": "2022-08-16T15:51:48.433Z"
   },
   {
    "duration": 31,
    "start_time": "2022-08-16T15:51:48.438Z"
   },
   {
    "duration": 28568,
    "start_time": "2022-08-16T15:51:48.471Z"
   },
   {
    "duration": 31,
    "start_time": "2022-08-16T15:52:17.041Z"
   },
   {
    "duration": 123,
    "start_time": "2022-08-16T15:52:17.073Z"
   },
   {
    "duration": 4,
    "start_time": "2022-08-16T15:52:17.198Z"
   },
   {
    "duration": 12,
    "start_time": "2022-08-16T15:53:15.272Z"
   },
   {
    "duration": 5,
    "start_time": "2022-08-16T15:53:17.714Z"
   },
   {
    "duration": 10,
    "start_time": "2022-08-16T15:53:21.924Z"
   },
   {
    "duration": 5,
    "start_time": "2022-08-16T15:53:24.144Z"
   },
   {
    "duration": 9,
    "start_time": "2022-08-16T15:53:33.316Z"
   },
   {
    "duration": 6,
    "start_time": "2022-08-16T15:53:35.432Z"
   },
   {
    "duration": 316,
    "start_time": "2022-08-16T15:53:50.221Z"
   },
   {
    "duration": 14,
    "start_time": "2022-08-16T15:54:20.411Z"
   },
   {
    "duration": 14,
    "start_time": "2022-08-16T15:56:44.874Z"
   },
   {
    "duration": 5,
    "start_time": "2022-08-16T16:00:52.850Z"
   },
   {
    "duration": 94,
    "start_time": "2022-08-16T16:00:55.221Z"
   },
   {
    "duration": 5,
    "start_time": "2022-08-16T16:01:04.022Z"
   },
   {
    "duration": 13,
    "start_time": "2022-08-16T16:01:05.137Z"
   },
   {
    "duration": 13,
    "start_time": "2022-08-16T16:01:30.235Z"
   },
   {
    "duration": 8,
    "start_time": "2022-08-16T16:01:37.220Z"
   },
   {
    "duration": 79,
    "start_time": "2022-08-16T16:01:37.231Z"
   },
   {
    "duration": 12,
    "start_time": "2022-08-16T16:01:37.311Z"
   },
   {
    "duration": 53,
    "start_time": "2022-08-16T16:01:37.324Z"
   },
   {
    "duration": 6,
    "start_time": "2022-08-16T16:01:37.384Z"
   },
   {
    "duration": 11,
    "start_time": "2022-08-16T16:01:37.391Z"
   },
   {
    "duration": 8,
    "start_time": "2022-08-16T16:01:37.403Z"
   },
   {
    "duration": 211,
    "start_time": "2022-08-16T16:01:37.412Z"
   },
   {
    "duration": 211,
    "start_time": "2022-08-16T16:01:37.625Z"
   },
   {
    "duration": 6,
    "start_time": "2022-08-16T16:01:37.838Z"
   },
   {
    "duration": 21,
    "start_time": "2022-08-16T16:01:37.846Z"
   },
   {
    "duration": 27,
    "start_time": "2022-08-16T16:01:37.869Z"
   },
   {
    "duration": 135,
    "start_time": "2022-08-16T16:01:37.898Z"
   },
   {
    "duration": 4,
    "start_time": "2022-08-16T16:01:38.036Z"
   },
   {
    "duration": 10,
    "start_time": "2022-08-16T16:01:38.042Z"
   },
   {
    "duration": 28,
    "start_time": "2022-08-16T16:01:38.057Z"
   },
   {
    "duration": 11,
    "start_time": "2022-08-16T16:01:38.086Z"
   },
   {
    "duration": 5,
    "start_time": "2022-08-16T16:01:38.099Z"
   },
   {
    "duration": 19,
    "start_time": "2022-08-16T16:01:38.105Z"
   },
   {
    "duration": 9,
    "start_time": "2022-08-16T16:01:38.126Z"
   },
   {
    "duration": 54,
    "start_time": "2022-08-16T16:01:38.137Z"
   },
   {
    "duration": 17,
    "start_time": "2022-08-16T16:01:38.193Z"
   },
   {
    "duration": 12,
    "start_time": "2022-08-16T16:01:38.212Z"
   },
   {
    "duration": 14,
    "start_time": "2022-08-16T16:01:38.226Z"
   },
   {
    "duration": 24,
    "start_time": "2022-08-16T16:01:38.242Z"
   },
   {
    "duration": 20388,
    "start_time": "2022-08-16T16:01:38.268Z"
   },
   {
    "duration": 22,
    "start_time": "2022-08-16T16:01:58.662Z"
   },
   {
    "duration": 147,
    "start_time": "2022-08-16T16:01:58.686Z"
   },
   {
    "duration": 6,
    "start_time": "2022-08-16T16:01:58.836Z"
   },
   {
    "duration": 39,
    "start_time": "2022-08-16T16:01:58.844Z"
   },
   {
    "duration": 9,
    "start_time": "2022-08-16T16:01:58.885Z"
   },
   {
    "duration": 20,
    "start_time": "2022-08-16T16:01:58.895Z"
   },
   {
    "duration": 7,
    "start_time": "2022-08-16T16:01:58.917Z"
   },
   {
    "duration": 11,
    "start_time": "2022-08-16T16:01:58.926Z"
   },
   {
    "duration": 7,
    "start_time": "2022-08-16T16:01:58.939Z"
   },
   {
    "duration": 8,
    "start_time": "2022-08-16T16:01:58.948Z"
   },
   {
    "duration": 28925,
    "start_time": "2022-08-16T16:01:58.965Z"
   },
   {
    "duration": 17,
    "start_time": "2022-08-16T16:02:27.892Z"
   },
   {
    "duration": 171,
    "start_time": "2022-08-16T16:02:27.911Z"
   },
   {
    "duration": 8,
    "start_time": "2022-08-16T16:02:28.085Z"
   },
   {
    "duration": 10,
    "start_time": "2022-08-16T16:02:28.096Z"
   },
   {
    "duration": 5,
    "start_time": "2022-08-16T16:02:28.107Z"
   },
   {
    "duration": 367,
    "start_time": "2022-08-16T16:02:28.113Z"
   },
   {
    "duration": 15,
    "start_time": "2022-08-16T16:02:28.482Z"
   },
   {
    "duration": 4,
    "start_time": "2022-08-16T16:02:28.499Z"
   },
   {
    "duration": 19,
    "start_time": "2022-08-16T16:02:28.504Z"
   },
   {
    "duration": 6,
    "start_time": "2022-08-16T16:06:42.345Z"
   },
   {
    "duration": 95,
    "start_time": "2022-08-16T16:06:42.353Z"
   },
   {
    "duration": 15,
    "start_time": "2022-08-16T16:06:42.450Z"
   },
   {
    "duration": 61,
    "start_time": "2022-08-16T16:06:42.467Z"
   },
   {
    "duration": 5,
    "start_time": "2022-08-16T16:06:42.531Z"
   },
   {
    "duration": 9,
    "start_time": "2022-08-16T16:06:42.538Z"
   },
   {
    "duration": 14,
    "start_time": "2022-08-16T16:06:42.549Z"
   },
   {
    "duration": 239,
    "start_time": "2022-08-16T16:06:42.565Z"
   },
   {
    "duration": 287,
    "start_time": "2022-08-16T16:06:42.806Z"
   },
   {
    "duration": 5,
    "start_time": "2022-08-16T16:06:43.094Z"
   },
   {
    "duration": 8,
    "start_time": "2022-08-16T16:06:43.101Z"
   },
   {
    "duration": 9,
    "start_time": "2022-08-16T16:06:43.111Z"
   },
   {
    "duration": 157,
    "start_time": "2022-08-16T16:06:43.121Z"
   },
   {
    "duration": 13,
    "start_time": "2022-08-16T16:06:43.283Z"
   },
   {
    "duration": 13,
    "start_time": "2022-08-16T16:06:43.298Z"
   },
   {
    "duration": 6,
    "start_time": "2022-08-16T16:06:43.313Z"
   },
   {
    "duration": 15,
    "start_time": "2022-08-16T16:06:43.321Z"
   },
   {
    "duration": 10,
    "start_time": "2022-08-16T16:06:43.338Z"
   },
   {
    "duration": 19,
    "start_time": "2022-08-16T16:06:43.350Z"
   },
   {
    "duration": 12,
    "start_time": "2022-08-16T16:06:43.371Z"
   },
   {
    "duration": 48,
    "start_time": "2022-08-16T16:06:43.384Z"
   },
   {
    "duration": 16,
    "start_time": "2022-08-16T16:06:43.434Z"
   },
   {
    "duration": 22,
    "start_time": "2022-08-16T16:06:43.451Z"
   },
   {
    "duration": 25,
    "start_time": "2022-08-16T16:06:43.474Z"
   },
   {
    "duration": 11,
    "start_time": "2022-08-16T16:06:43.501Z"
   },
   {
    "duration": 20125,
    "start_time": "2022-08-16T16:06:43.514Z"
   },
   {
    "duration": 25,
    "start_time": "2022-08-16T16:07:03.641Z"
   },
   {
    "duration": 151,
    "start_time": "2022-08-16T16:07:03.668Z"
   },
   {
    "duration": 7,
    "start_time": "2022-08-16T16:07:03.820Z"
   },
   {
    "duration": 6,
    "start_time": "2022-08-16T16:07:03.828Z"
   },
   {
    "duration": 27,
    "start_time": "2022-08-16T16:07:03.835Z"
   },
   {
    "duration": 25,
    "start_time": "2022-08-16T16:07:03.866Z"
   },
   {
    "duration": 5,
    "start_time": "2022-08-16T16:07:03.893Z"
   },
   {
    "duration": 11,
    "start_time": "2022-08-16T16:07:03.900Z"
   },
   {
    "duration": 16,
    "start_time": "2022-08-16T16:07:03.913Z"
   },
   {
    "duration": 9,
    "start_time": "2022-08-16T16:07:03.930Z"
   },
   {
    "duration": 28791,
    "start_time": "2022-08-16T16:07:03.940Z"
   },
   {
    "duration": 27,
    "start_time": "2022-08-16T16:07:32.732Z"
   },
   {
    "duration": 139,
    "start_time": "2022-08-16T16:07:32.769Z"
   },
   {
    "duration": 5,
    "start_time": "2022-08-16T16:07:32.910Z"
   },
   {
    "duration": 28,
    "start_time": "2022-08-16T16:07:32.919Z"
   },
   {
    "duration": 36,
    "start_time": "2022-08-16T16:07:32.949Z"
   },
   {
    "duration": 0,
    "start_time": "2022-08-16T16:07:32.987Z"
   },
   {
    "duration": 0,
    "start_time": "2022-08-16T16:07:32.988Z"
   },
   {
    "duration": 0,
    "start_time": "2022-08-16T16:07:32.989Z"
   },
   {
    "duration": 0,
    "start_time": "2022-08-16T16:07:32.991Z"
   },
   {
    "duration": 0,
    "start_time": "2022-08-16T16:07:32.992Z"
   },
   {
    "duration": 7,
    "start_time": "2022-08-16T16:19:14.025Z"
   },
   {
    "duration": 58,
    "start_time": "2022-08-16T16:19:14.035Z"
   },
   {
    "duration": 11,
    "start_time": "2022-08-16T16:19:14.095Z"
   },
   {
    "duration": 53,
    "start_time": "2022-08-16T16:19:14.108Z"
   },
   {
    "duration": 5,
    "start_time": "2022-08-16T16:19:14.163Z"
   },
   {
    "duration": 10,
    "start_time": "2022-08-16T16:19:14.169Z"
   },
   {
    "duration": 12,
    "start_time": "2022-08-16T16:19:14.180Z"
   },
   {
    "duration": 190,
    "start_time": "2022-08-16T16:19:14.194Z"
   },
   {
    "duration": 177,
    "start_time": "2022-08-16T16:19:14.385Z"
   },
   {
    "duration": 4,
    "start_time": "2022-08-16T16:19:14.564Z"
   },
   {
    "duration": 7,
    "start_time": "2022-08-16T16:19:14.571Z"
   },
   {
    "duration": 9,
    "start_time": "2022-08-16T16:19:14.579Z"
   },
   {
    "duration": 138,
    "start_time": "2022-08-16T16:19:14.589Z"
   },
   {
    "duration": 4,
    "start_time": "2022-08-16T16:19:14.729Z"
   },
   {
    "duration": 5,
    "start_time": "2022-08-16T16:19:14.735Z"
   },
   {
    "duration": 16,
    "start_time": "2022-08-16T16:19:14.741Z"
   },
   {
    "duration": 11,
    "start_time": "2022-08-16T16:19:14.758Z"
   },
   {
    "duration": 6,
    "start_time": "2022-08-16T16:19:14.770Z"
   },
   {
    "duration": 14,
    "start_time": "2022-08-16T16:19:14.778Z"
   },
   {
    "duration": 6,
    "start_time": "2022-08-16T16:19:14.793Z"
   },
   {
    "duration": 59,
    "start_time": "2022-08-16T16:19:14.800Z"
   },
   {
    "duration": 16,
    "start_time": "2022-08-16T16:19:14.861Z"
   },
   {
    "duration": 14,
    "start_time": "2022-08-16T16:19:14.878Z"
   },
   {
    "duration": 12,
    "start_time": "2022-08-16T16:19:14.893Z"
   },
   {
    "duration": 7,
    "start_time": "2022-08-16T16:19:14.906Z"
   },
   {
    "duration": 18584,
    "start_time": "2022-08-16T16:19:14.915Z"
   },
   {
    "duration": 14,
    "start_time": "2022-08-16T16:19:33.501Z"
   },
   {
    "duration": 139,
    "start_time": "2022-08-16T16:19:33.516Z"
   },
   {
    "duration": 6,
    "start_time": "2022-08-16T16:19:33.659Z"
   },
   {
    "duration": 6,
    "start_time": "2022-08-16T16:19:33.666Z"
   },
   {
    "duration": 15,
    "start_time": "2022-08-16T16:19:33.673Z"
   },
   {
    "duration": 22,
    "start_time": "2022-08-16T16:19:33.690Z"
   },
   {
    "duration": 6,
    "start_time": "2022-08-16T16:19:33.714Z"
   },
   {
    "duration": 20,
    "start_time": "2022-08-16T16:19:33.722Z"
   },
   {
    "duration": 9,
    "start_time": "2022-08-16T16:19:33.743Z"
   },
   {
    "duration": 9,
    "start_time": "2022-08-16T16:19:33.754Z"
   },
   {
    "duration": 27385,
    "start_time": "2022-08-16T16:19:33.765Z"
   },
   {
    "duration": 18,
    "start_time": "2022-08-16T16:20:01.151Z"
   },
   {
    "duration": 168,
    "start_time": "2022-08-16T16:20:01.171Z"
   },
   {
    "duration": 6,
    "start_time": "2022-08-16T16:20:01.340Z"
   },
   {
    "duration": 17,
    "start_time": "2022-08-16T16:20:01.347Z"
   },
   {
    "duration": 22,
    "start_time": "2022-08-16T16:20:01.366Z"
   },
   {
    "duration": 0,
    "start_time": "2022-08-16T16:20:01.391Z"
   },
   {
    "duration": 0,
    "start_time": "2022-08-16T16:20:01.392Z"
   },
   {
    "duration": 0,
    "start_time": "2022-08-16T16:20:01.394Z"
   },
   {
    "duration": 0,
    "start_time": "2022-08-16T16:20:01.396Z"
   },
   {
    "duration": 0,
    "start_time": "2022-08-16T16:20:01.396Z"
   },
   {
    "duration": 7,
    "start_time": "2022-08-16T16:24:06.926Z"
   },
   {
    "duration": 71,
    "start_time": "2022-08-16T16:24:06.935Z"
   },
   {
    "duration": 12,
    "start_time": "2022-08-16T16:24:07.008Z"
   },
   {
    "duration": 52,
    "start_time": "2022-08-16T16:24:07.021Z"
   },
   {
    "duration": 5,
    "start_time": "2022-08-16T16:24:07.075Z"
   },
   {
    "duration": 37,
    "start_time": "2022-08-16T16:24:07.082Z"
   },
   {
    "duration": 26,
    "start_time": "2022-08-16T16:24:07.120Z"
   },
   {
    "duration": 204,
    "start_time": "2022-08-16T16:24:07.147Z"
   },
   {
    "duration": 278,
    "start_time": "2022-08-16T16:24:07.353Z"
   },
   {
    "duration": 7,
    "start_time": "2022-08-16T16:24:07.632Z"
   },
   {
    "duration": 27,
    "start_time": "2022-08-16T16:24:07.642Z"
   },
   {
    "duration": 12,
    "start_time": "2022-08-16T16:24:07.671Z"
   },
   {
    "duration": 149,
    "start_time": "2022-08-16T16:24:07.685Z"
   },
   {
    "duration": 6,
    "start_time": "2022-08-16T16:24:07.836Z"
   },
   {
    "duration": 44,
    "start_time": "2022-08-16T16:24:07.843Z"
   },
   {
    "duration": 25,
    "start_time": "2022-08-16T16:24:07.888Z"
   },
   {
    "duration": 26,
    "start_time": "2022-08-16T16:24:07.915Z"
   },
   {
    "duration": 9,
    "start_time": "2022-08-16T16:24:07.943Z"
   },
   {
    "duration": 56,
    "start_time": "2022-08-16T16:24:07.954Z"
   },
   {
    "duration": 28,
    "start_time": "2022-08-16T16:24:08.012Z"
   },
   {
    "duration": 54,
    "start_time": "2022-08-16T16:24:08.041Z"
   },
   {
    "duration": 20,
    "start_time": "2022-08-16T16:24:08.097Z"
   },
   {
    "duration": 16,
    "start_time": "2022-08-16T16:24:08.119Z"
   },
   {
    "duration": 28,
    "start_time": "2022-08-16T16:24:08.137Z"
   },
   {
    "duration": 17,
    "start_time": "2022-08-16T16:24:08.167Z"
   },
   {
    "duration": 18810,
    "start_time": "2022-08-16T16:24:08.187Z"
   },
   {
    "duration": 13,
    "start_time": "2022-08-16T16:24:26.999Z"
   },
   {
    "duration": 166,
    "start_time": "2022-08-16T16:24:27.014Z"
   },
   {
    "duration": 6,
    "start_time": "2022-08-16T16:24:27.184Z"
   },
   {
    "duration": 4,
    "start_time": "2022-08-16T16:24:27.192Z"
   },
   {
    "duration": 61,
    "start_time": "2022-08-16T16:24:27.198Z"
   },
   {
    "duration": 27,
    "start_time": "2022-08-16T16:24:27.262Z"
   },
   {
    "duration": 5,
    "start_time": "2022-08-16T16:24:27.292Z"
   },
   {
    "duration": 65,
    "start_time": "2022-08-16T16:24:27.299Z"
   },
   {
    "duration": 6,
    "start_time": "2022-08-16T16:24:27.366Z"
   },
   {
    "duration": 12,
    "start_time": "2022-08-16T16:24:27.374Z"
   },
   {
    "duration": 28473,
    "start_time": "2022-08-16T16:24:27.388Z"
   },
   {
    "duration": 16,
    "start_time": "2022-08-16T16:24:55.864Z"
   },
   {
    "duration": 160,
    "start_time": "2022-08-16T16:24:55.882Z"
   },
   {
    "duration": 6,
    "start_time": "2022-08-16T16:24:56.044Z"
   },
   {
    "duration": 15,
    "start_time": "2022-08-16T16:24:56.057Z"
   },
   {
    "duration": 0,
    "start_time": "2022-08-16T16:24:56.074Z"
   },
   {
    "duration": 0,
    "start_time": "2022-08-16T16:24:56.074Z"
   },
   {
    "duration": 0,
    "start_time": "2022-08-16T16:24:56.076Z"
   },
   {
    "duration": 0,
    "start_time": "2022-08-16T16:24:56.077Z"
   },
   {
    "duration": 0,
    "start_time": "2022-08-16T16:24:56.078Z"
   },
   {
    "duration": 0,
    "start_time": "2022-08-16T16:24:56.079Z"
   },
   {
    "duration": 6,
    "start_time": "2022-08-16T16:25:44.475Z"
   },
   {
    "duration": 83,
    "start_time": "2022-08-16T16:25:44.484Z"
   },
   {
    "duration": 18,
    "start_time": "2022-08-16T16:25:44.569Z"
   },
   {
    "duration": 69,
    "start_time": "2022-08-16T16:25:44.589Z"
   },
   {
    "duration": 8,
    "start_time": "2022-08-16T16:25:44.662Z"
   },
   {
    "duration": 24,
    "start_time": "2022-08-16T16:25:44.672Z"
   },
   {
    "duration": 11,
    "start_time": "2022-08-16T16:25:44.698Z"
   },
   {
    "duration": 194,
    "start_time": "2022-08-16T16:25:44.711Z"
   },
   {
    "duration": 191,
    "start_time": "2022-08-16T16:25:44.907Z"
   },
   {
    "duration": 5,
    "start_time": "2022-08-16T16:25:45.099Z"
   },
   {
    "duration": 12,
    "start_time": "2022-08-16T16:25:45.105Z"
   },
   {
    "duration": 12,
    "start_time": "2022-08-16T16:25:45.118Z"
   },
   {
    "duration": 178,
    "start_time": "2022-08-16T16:25:45.131Z"
   },
   {
    "duration": 5,
    "start_time": "2022-08-16T16:25:45.313Z"
   },
   {
    "duration": 9,
    "start_time": "2022-08-16T16:25:45.321Z"
   },
   {
    "duration": 30,
    "start_time": "2022-08-16T16:25:45.332Z"
   },
   {
    "duration": 18,
    "start_time": "2022-08-16T16:25:45.364Z"
   },
   {
    "duration": 13,
    "start_time": "2022-08-16T16:25:45.385Z"
   },
   {
    "duration": 21,
    "start_time": "2022-08-16T16:25:45.400Z"
   },
   {
    "duration": 12,
    "start_time": "2022-08-16T16:25:45.423Z"
   },
   {
    "duration": 70,
    "start_time": "2022-08-16T16:25:45.437Z"
   },
   {
    "duration": 16,
    "start_time": "2022-08-16T16:25:45.509Z"
   },
   {
    "duration": 12,
    "start_time": "2022-08-16T16:25:45.527Z"
   },
   {
    "duration": 27,
    "start_time": "2022-08-16T16:25:45.541Z"
   },
   {
    "duration": 8,
    "start_time": "2022-08-16T16:25:45.570Z"
   },
   {
    "duration": 19230,
    "start_time": "2022-08-16T16:25:45.580Z"
   },
   {
    "duration": 15,
    "start_time": "2022-08-16T16:26:04.812Z"
   },
   {
    "duration": 157,
    "start_time": "2022-08-16T16:26:04.828Z"
   },
   {
    "duration": 8,
    "start_time": "2022-08-16T16:26:04.987Z"
   },
   {
    "duration": 5,
    "start_time": "2022-08-16T16:26:04.997Z"
   },
   {
    "duration": 11,
    "start_time": "2022-08-16T16:26:05.004Z"
   },
   {
    "duration": 42,
    "start_time": "2022-08-16T16:26:05.017Z"
   },
   {
    "duration": 17,
    "start_time": "2022-08-16T16:26:05.061Z"
   },
   {
    "duration": 43,
    "start_time": "2022-08-16T16:26:05.080Z"
   },
   {
    "duration": 8,
    "start_time": "2022-08-16T16:26:05.125Z"
   },
   {
    "duration": 19,
    "start_time": "2022-08-16T16:26:05.134Z"
   },
   {
    "duration": 27274,
    "start_time": "2022-08-16T16:26:05.154Z"
   },
   {
    "duration": 28,
    "start_time": "2022-08-16T16:26:32.429Z"
   },
   {
    "duration": 132,
    "start_time": "2022-08-16T16:26:32.459Z"
   },
   {
    "duration": 5,
    "start_time": "2022-08-16T16:26:32.592Z"
   },
   {
    "duration": 12,
    "start_time": "2022-08-16T16:26:32.601Z"
   },
   {
    "duration": 0,
    "start_time": "2022-08-16T16:26:32.614Z"
   },
   {
    "duration": 0,
    "start_time": "2022-08-16T16:26:32.616Z"
   },
   {
    "duration": 0,
    "start_time": "2022-08-16T16:26:32.617Z"
   },
   {
    "duration": 0,
    "start_time": "2022-08-16T16:26:32.618Z"
   },
   {
    "duration": 0,
    "start_time": "2022-08-16T16:26:32.619Z"
   },
   {
    "duration": 0,
    "start_time": "2022-08-16T16:26:32.620Z"
   },
   {
    "duration": 7,
    "start_time": "2022-08-16T16:27:19.770Z"
   },
   {
    "duration": 55,
    "start_time": "2022-08-16T16:27:19.780Z"
   },
   {
    "duration": 11,
    "start_time": "2022-08-16T16:27:19.837Z"
   },
   {
    "duration": 37,
    "start_time": "2022-08-16T16:27:19.851Z"
   },
   {
    "duration": 5,
    "start_time": "2022-08-16T16:27:19.890Z"
   },
   {
    "duration": 10,
    "start_time": "2022-08-16T16:27:19.897Z"
   },
   {
    "duration": 6,
    "start_time": "2022-08-16T16:27:19.908Z"
   },
   {
    "duration": 192,
    "start_time": "2022-08-16T16:27:19.916Z"
   },
   {
    "duration": 188,
    "start_time": "2022-08-16T16:27:20.109Z"
   },
   {
    "duration": 6,
    "start_time": "2022-08-16T16:27:20.298Z"
   },
   {
    "duration": 5,
    "start_time": "2022-08-16T16:27:20.308Z"
   },
   {
    "duration": 9,
    "start_time": "2022-08-16T16:27:20.315Z"
   },
   {
    "duration": 261,
    "start_time": "2022-08-16T16:27:20.326Z"
   },
   {
    "duration": 4,
    "start_time": "2022-08-16T16:27:20.590Z"
   },
   {
    "duration": 14,
    "start_time": "2022-08-16T16:27:20.596Z"
   },
   {
    "duration": 10,
    "start_time": "2022-08-16T16:27:20.611Z"
   },
   {
    "duration": 19,
    "start_time": "2022-08-16T16:27:20.623Z"
   },
   {
    "duration": 6,
    "start_time": "2022-08-16T16:27:20.644Z"
   },
   {
    "duration": 23,
    "start_time": "2022-08-16T16:27:20.652Z"
   },
   {
    "duration": 9,
    "start_time": "2022-08-16T16:27:20.677Z"
   },
   {
    "duration": 42,
    "start_time": "2022-08-16T16:27:20.688Z"
   },
   {
    "duration": 16,
    "start_time": "2022-08-16T16:27:20.732Z"
   },
   {
    "duration": 8,
    "start_time": "2022-08-16T16:27:20.758Z"
   },
   {
    "duration": 34,
    "start_time": "2022-08-16T16:27:20.768Z"
   },
   {
    "duration": 6,
    "start_time": "2022-08-16T16:27:20.804Z"
   },
   {
    "duration": 19159,
    "start_time": "2022-08-16T16:27:20.812Z"
   },
   {
    "duration": 13,
    "start_time": "2022-08-16T16:27:39.973Z"
   },
   {
    "duration": 146,
    "start_time": "2022-08-16T16:27:39.988Z"
   },
   {
    "duration": 7,
    "start_time": "2022-08-16T16:27:40.137Z"
   },
   {
    "duration": 14,
    "start_time": "2022-08-16T16:27:40.145Z"
   },
   {
    "duration": 9,
    "start_time": "2022-08-16T16:27:40.160Z"
   },
   {
    "duration": 22,
    "start_time": "2022-08-16T16:27:40.171Z"
   },
   {
    "duration": 10,
    "start_time": "2022-08-16T16:27:40.194Z"
   },
   {
    "duration": 12,
    "start_time": "2022-08-16T16:27:40.205Z"
   },
   {
    "duration": 5,
    "start_time": "2022-08-16T16:27:40.219Z"
   },
   {
    "duration": 10,
    "start_time": "2022-08-16T16:27:40.225Z"
   },
   {
    "duration": 27464,
    "start_time": "2022-08-16T16:27:40.237Z"
   },
   {
    "duration": 16,
    "start_time": "2022-08-16T16:28:07.702Z"
   },
   {
    "duration": 143,
    "start_time": "2022-08-16T16:28:07.719Z"
   },
   {
    "duration": 6,
    "start_time": "2022-08-16T16:28:07.864Z"
   },
   {
    "duration": 10,
    "start_time": "2022-08-16T16:28:07.872Z"
   },
   {
    "duration": 6,
    "start_time": "2022-08-16T16:28:07.884Z"
   },
   {
    "duration": 11,
    "start_time": "2022-08-16T16:28:07.891Z"
   },
   {
    "duration": 0,
    "start_time": "2022-08-16T16:28:07.904Z"
   },
   {
    "duration": 0,
    "start_time": "2022-08-16T16:28:07.905Z"
   },
   {
    "duration": 0,
    "start_time": "2022-08-16T16:28:07.906Z"
   },
   {
    "duration": 0,
    "start_time": "2022-08-16T16:28:07.908Z"
   },
   {
    "duration": 5,
    "start_time": "2022-08-16T16:29:38.283Z"
   },
   {
    "duration": 7,
    "start_time": "2022-08-16T16:29:46.127Z"
   },
   {
    "duration": 58,
    "start_time": "2022-08-16T16:29:46.136Z"
   },
   {
    "duration": 12,
    "start_time": "2022-08-16T16:29:46.196Z"
   },
   {
    "duration": 50,
    "start_time": "2022-08-16T16:29:46.210Z"
   },
   {
    "duration": 6,
    "start_time": "2022-08-16T16:29:46.261Z"
   },
   {
    "duration": 13,
    "start_time": "2022-08-16T16:29:46.269Z"
   },
   {
    "duration": 8,
    "start_time": "2022-08-16T16:29:46.284Z"
   },
   {
    "duration": 211,
    "start_time": "2022-08-16T16:29:46.294Z"
   },
   {
    "duration": 182,
    "start_time": "2022-08-16T16:29:46.506Z"
   },
   {
    "duration": 5,
    "start_time": "2022-08-16T16:29:46.691Z"
   },
   {
    "duration": 13,
    "start_time": "2022-08-16T16:29:46.698Z"
   },
   {
    "duration": 29,
    "start_time": "2022-08-16T16:29:46.713Z"
   },
   {
    "duration": 126,
    "start_time": "2022-08-16T16:29:46.744Z"
   },
   {
    "duration": 4,
    "start_time": "2022-08-16T16:29:46.872Z"
   },
   {
    "duration": 7,
    "start_time": "2022-08-16T16:29:46.878Z"
   },
   {
    "duration": 5,
    "start_time": "2022-08-16T16:29:46.887Z"
   },
   {
    "duration": 10,
    "start_time": "2022-08-16T16:29:46.893Z"
   },
   {
    "duration": 10,
    "start_time": "2022-08-16T16:29:46.904Z"
   },
   {
    "duration": 14,
    "start_time": "2022-08-16T16:29:46.916Z"
   },
   {
    "duration": 25,
    "start_time": "2022-08-16T16:29:46.932Z"
   },
   {
    "duration": 37,
    "start_time": "2022-08-16T16:29:46.959Z"
   },
   {
    "duration": 21,
    "start_time": "2022-08-16T16:29:46.998Z"
   },
   {
    "duration": 19,
    "start_time": "2022-08-16T16:29:47.021Z"
   },
   {
    "duration": 24,
    "start_time": "2022-08-16T16:29:47.042Z"
   },
   {
    "duration": 8,
    "start_time": "2022-08-16T16:29:47.068Z"
   },
   {
    "duration": 19001,
    "start_time": "2022-08-16T16:29:47.077Z"
   },
   {
    "duration": 15,
    "start_time": "2022-08-16T16:30:06.079Z"
   },
   {
    "duration": 145,
    "start_time": "2022-08-16T16:30:06.097Z"
   },
   {
    "duration": 8,
    "start_time": "2022-08-16T16:30:06.244Z"
   },
   {
    "duration": 7,
    "start_time": "2022-08-16T16:30:06.258Z"
   },
   {
    "duration": 11,
    "start_time": "2022-08-16T16:30:06.266Z"
   },
   {
    "duration": 19,
    "start_time": "2022-08-16T16:30:06.279Z"
   },
   {
    "duration": 9,
    "start_time": "2022-08-16T16:30:06.300Z"
   },
   {
    "duration": 14,
    "start_time": "2022-08-16T16:30:06.310Z"
   },
   {
    "duration": 5,
    "start_time": "2022-08-16T16:30:06.326Z"
   },
   {
    "duration": 24,
    "start_time": "2022-08-16T16:30:06.333Z"
   },
   {
    "duration": 27031,
    "start_time": "2022-08-16T16:30:06.359Z"
   },
   {
    "duration": 16,
    "start_time": "2022-08-16T16:30:33.392Z"
   },
   {
    "duration": 142,
    "start_time": "2022-08-16T16:30:33.409Z"
   },
   {
    "duration": 6,
    "start_time": "2022-08-16T16:30:33.557Z"
   },
   {
    "duration": 14,
    "start_time": "2022-08-16T16:30:33.564Z"
   },
   {
    "duration": 6,
    "start_time": "2022-08-16T16:30:33.579Z"
   },
   {
    "duration": 8,
    "start_time": "2022-08-16T16:30:33.586Z"
   },
   {
    "duration": 332,
    "start_time": "2022-08-16T16:30:33.595Z"
   },
   {
    "duration": 16,
    "start_time": "2022-08-16T16:30:33.929Z"
   },
   {
    "duration": 14,
    "start_time": "2022-08-16T16:30:33.947Z"
   },
   {
    "duration": 17,
    "start_time": "2022-08-16T16:30:33.962Z"
   },
   {
    "duration": 8,
    "start_time": "2022-08-16T16:38:43.661Z"
   },
   {
    "duration": 7,
    "start_time": "2022-08-16T16:40:28.357Z"
   },
   {
    "duration": 53,
    "start_time": "2022-08-16T16:40:28.366Z"
   },
   {
    "duration": 11,
    "start_time": "2022-08-16T16:40:28.421Z"
   },
   {
    "duration": 43,
    "start_time": "2022-08-16T16:40:28.434Z"
   },
   {
    "duration": 5,
    "start_time": "2022-08-16T16:40:28.479Z"
   },
   {
    "duration": 9,
    "start_time": "2022-08-16T16:40:28.486Z"
   },
   {
    "duration": 7,
    "start_time": "2022-08-16T16:40:28.496Z"
   },
   {
    "duration": 187,
    "start_time": "2022-08-16T16:40:28.505Z"
   },
   {
    "duration": 184,
    "start_time": "2022-08-16T16:40:28.694Z"
   },
   {
    "duration": 6,
    "start_time": "2022-08-16T16:40:28.881Z"
   },
   {
    "duration": 7,
    "start_time": "2022-08-16T16:40:28.888Z"
   },
   {
    "duration": 8,
    "start_time": "2022-08-16T16:40:28.896Z"
   },
   {
    "duration": 135,
    "start_time": "2022-08-16T16:40:28.906Z"
   },
   {
    "duration": 14,
    "start_time": "2022-08-16T16:40:29.043Z"
   },
   {
    "duration": 3,
    "start_time": "2022-08-16T16:40:29.059Z"
   },
   {
    "duration": 8,
    "start_time": "2022-08-16T16:40:29.063Z"
   },
   {
    "duration": 11,
    "start_time": "2022-08-16T16:40:29.073Z"
   },
   {
    "duration": 7,
    "start_time": "2022-08-16T16:40:29.085Z"
   },
   {
    "duration": 13,
    "start_time": "2022-08-16T16:40:29.094Z"
   },
   {
    "duration": 8,
    "start_time": "2022-08-16T16:40:29.109Z"
   },
   {
    "duration": 54,
    "start_time": "2022-08-16T16:40:29.118Z"
   },
   {
    "duration": 15,
    "start_time": "2022-08-16T16:40:29.173Z"
   },
   {
    "duration": 11,
    "start_time": "2022-08-16T16:40:29.190Z"
   },
   {
    "duration": 10,
    "start_time": "2022-08-16T16:40:29.202Z"
   },
   {
    "duration": 6,
    "start_time": "2022-08-16T16:40:29.213Z"
   },
   {
    "duration": 18607,
    "start_time": "2022-08-16T16:40:29.220Z"
   },
   {
    "duration": 15,
    "start_time": "2022-08-16T16:40:47.829Z"
   },
   {
    "duration": 130,
    "start_time": "2022-08-16T16:40:47.860Z"
   },
   {
    "duration": 7,
    "start_time": "2022-08-16T16:40:47.992Z"
   },
   {
    "duration": 5,
    "start_time": "2022-08-16T16:40:48.001Z"
   },
   {
    "duration": 7,
    "start_time": "2022-08-16T16:40:48.008Z"
   },
   {
    "duration": 22,
    "start_time": "2022-08-16T16:40:48.017Z"
   },
   {
    "duration": 4,
    "start_time": "2022-08-16T16:40:48.058Z"
   },
   {
    "duration": 8,
    "start_time": "2022-08-16T16:40:48.064Z"
   },
   {
    "duration": 4,
    "start_time": "2022-08-16T16:40:48.074Z"
   },
   {
    "duration": 6,
    "start_time": "2022-08-16T16:40:48.080Z"
   },
   {
    "duration": 26597,
    "start_time": "2022-08-16T16:40:48.088Z"
   },
   {
    "duration": 15,
    "start_time": "2022-08-16T16:41:14.687Z"
   },
   {
    "duration": 248,
    "start_time": "2022-08-16T16:41:14.703Z"
   },
   {
    "duration": 4,
    "start_time": "2022-08-16T16:41:14.957Z"
   },
   {
    "duration": 13,
    "start_time": "2022-08-16T16:41:14.963Z"
   },
   {
    "duration": 5,
    "start_time": "2022-08-16T16:41:14.978Z"
   },
   {
    "duration": 6,
    "start_time": "2022-08-16T16:41:14.984Z"
   },
   {
    "duration": 385,
    "start_time": "2022-08-16T16:41:14.992Z"
   },
   {
    "duration": 18,
    "start_time": "2022-08-16T16:41:15.379Z"
   },
   {
    "duration": 5,
    "start_time": "2022-08-16T16:41:15.399Z"
   },
   {
    "duration": 30,
    "start_time": "2022-08-16T16:41:15.406Z"
   },
   {
    "duration": 5,
    "start_time": "2022-08-16T16:43:50.178Z"
   },
   {
    "duration": 6,
    "start_time": "2022-08-16T16:44:28.718Z"
   },
   {
    "duration": 6,
    "start_time": "2022-08-16T16:50:28.955Z"
   },
   {
    "duration": 54,
    "start_time": "2022-08-16T16:50:28.963Z"
   },
   {
    "duration": 12,
    "start_time": "2022-08-16T16:50:29.018Z"
   },
   {
    "duration": 54,
    "start_time": "2022-08-16T16:50:29.031Z"
   },
   {
    "duration": 5,
    "start_time": "2022-08-16T16:50:29.088Z"
   },
   {
    "duration": 9,
    "start_time": "2022-08-16T16:50:29.095Z"
   },
   {
    "duration": 7,
    "start_time": "2022-08-16T16:50:29.105Z"
   },
   {
    "duration": 207,
    "start_time": "2022-08-16T16:50:29.114Z"
   },
   {
    "duration": 181,
    "start_time": "2022-08-16T16:50:29.323Z"
   },
   {
    "duration": 5,
    "start_time": "2022-08-16T16:50:29.506Z"
   },
   {
    "duration": 5,
    "start_time": "2022-08-16T16:50:29.515Z"
   },
   {
    "duration": 7,
    "start_time": "2022-08-16T16:50:29.522Z"
   },
   {
    "duration": 151,
    "start_time": "2022-08-16T16:50:29.531Z"
   },
   {
    "duration": 4,
    "start_time": "2022-08-16T16:50:29.684Z"
   },
   {
    "duration": 6,
    "start_time": "2022-08-16T16:50:29.689Z"
   },
   {
    "duration": 8,
    "start_time": "2022-08-16T16:50:29.697Z"
   },
   {
    "duration": 10,
    "start_time": "2022-08-16T16:50:29.706Z"
   },
   {
    "duration": 7,
    "start_time": "2022-08-16T16:50:29.717Z"
   },
   {
    "duration": 14,
    "start_time": "2022-08-16T16:50:29.725Z"
   },
   {
    "duration": 4,
    "start_time": "2022-08-16T16:50:29.756Z"
   },
   {
    "duration": 37,
    "start_time": "2022-08-16T16:50:29.762Z"
   },
   {
    "duration": 15,
    "start_time": "2022-08-16T16:50:29.800Z"
   },
   {
    "duration": 9,
    "start_time": "2022-08-16T16:50:29.817Z"
   },
   {
    "duration": 32,
    "start_time": "2022-08-16T16:50:29.827Z"
   },
   {
    "duration": 6,
    "start_time": "2022-08-16T16:50:29.861Z"
   },
   {
    "duration": 18504,
    "start_time": "2022-08-16T16:50:29.869Z"
   },
   {
    "duration": 13,
    "start_time": "2022-08-16T16:50:48.375Z"
   },
   {
    "duration": 132,
    "start_time": "2022-08-16T16:50:48.390Z"
   },
   {
    "duration": 6,
    "start_time": "2022-08-16T16:50:48.525Z"
   },
   {
    "duration": 4,
    "start_time": "2022-08-16T16:50:48.532Z"
   },
   {
    "duration": 24,
    "start_time": "2022-08-16T16:50:48.538Z"
   },
   {
    "duration": 17,
    "start_time": "2022-08-16T16:50:48.563Z"
   },
   {
    "duration": 7,
    "start_time": "2022-08-16T16:50:48.581Z"
   },
   {
    "duration": 10,
    "start_time": "2022-08-16T16:50:48.589Z"
   },
   {
    "duration": 6,
    "start_time": "2022-08-16T16:50:48.600Z"
   },
   {
    "duration": 8,
    "start_time": "2022-08-16T16:50:48.607Z"
   },
   {
    "duration": 26694,
    "start_time": "2022-08-16T16:50:48.616Z"
   },
   {
    "duration": 19,
    "start_time": "2022-08-16T16:51:15.313Z"
   },
   {
    "duration": 172,
    "start_time": "2022-08-16T16:51:15.334Z"
   },
   {
    "duration": 10,
    "start_time": "2022-08-16T16:51:15.508Z"
   },
   {
    "duration": 17,
    "start_time": "2022-08-16T16:51:15.521Z"
   },
   {
    "duration": 17,
    "start_time": "2022-08-16T16:51:15.540Z"
   },
   {
    "duration": 5,
    "start_time": "2022-08-16T16:51:15.559Z"
   },
   {
    "duration": 7,
    "start_time": "2022-08-16T16:51:15.565Z"
   },
   {
    "duration": 339,
    "start_time": "2022-08-16T16:51:15.574Z"
   },
   {
    "duration": 14,
    "start_time": "2022-08-16T16:51:15.915Z"
   },
   {
    "duration": 4,
    "start_time": "2022-08-16T16:51:15.931Z"
   },
   {
    "duration": 30,
    "start_time": "2022-08-16T16:51:15.937Z"
   },
   {
    "duration": 18,
    "start_time": "2022-08-16T16:51:15.969Z"
   },
   {
    "duration": 0,
    "start_time": "2022-08-16T16:51:15.988Z"
   },
   {
    "duration": 133,
    "start_time": "2022-08-16T16:53:37.507Z"
   },
   {
    "duration": 7,
    "start_time": "2022-08-16T16:53:39.616Z"
   },
   {
    "duration": 6,
    "start_time": "2022-08-16T16:55:17.948Z"
   },
   {
    "duration": 69,
    "start_time": "2022-08-16T16:55:17.956Z"
   },
   {
    "duration": 11,
    "start_time": "2022-08-16T16:55:18.027Z"
   },
   {
    "duration": 40,
    "start_time": "2022-08-16T16:55:18.040Z"
   },
   {
    "duration": 5,
    "start_time": "2022-08-16T16:55:18.082Z"
   },
   {
    "duration": 26,
    "start_time": "2022-08-16T16:55:18.088Z"
   },
   {
    "duration": 26,
    "start_time": "2022-08-16T16:55:18.115Z"
   },
   {
    "duration": 185,
    "start_time": "2022-08-16T16:55:18.143Z"
   },
   {
    "duration": 175,
    "start_time": "2022-08-16T16:55:18.329Z"
   },
   {
    "duration": 5,
    "start_time": "2022-08-16T16:55:18.507Z"
   },
   {
    "duration": 12,
    "start_time": "2022-08-16T16:55:18.513Z"
   },
   {
    "duration": 14,
    "start_time": "2022-08-16T16:55:18.526Z"
   },
   {
    "duration": 141,
    "start_time": "2022-08-16T16:55:18.542Z"
   },
   {
    "duration": 4,
    "start_time": "2022-08-16T16:55:18.685Z"
   },
   {
    "duration": 22,
    "start_time": "2022-08-16T16:55:18.690Z"
   },
   {
    "duration": 13,
    "start_time": "2022-08-16T16:55:18.714Z"
   },
   {
    "duration": 25,
    "start_time": "2022-08-16T16:55:18.729Z"
   },
   {
    "duration": 16,
    "start_time": "2022-08-16T16:55:18.756Z"
   },
   {
    "duration": 17,
    "start_time": "2022-08-16T16:55:18.774Z"
   },
   {
    "duration": 19,
    "start_time": "2022-08-16T16:55:18.792Z"
   },
   {
    "duration": 42,
    "start_time": "2022-08-16T16:55:18.812Z"
   },
   {
    "duration": 16,
    "start_time": "2022-08-16T16:55:18.855Z"
   },
   {
    "duration": 10,
    "start_time": "2022-08-16T16:55:18.873Z"
   },
   {
    "duration": 10,
    "start_time": "2022-08-16T16:55:18.885Z"
   },
   {
    "duration": 6,
    "start_time": "2022-08-16T16:55:18.897Z"
   },
   {
    "duration": 22479,
    "start_time": "2022-08-16T16:55:18.905Z"
   },
   {
    "duration": 13,
    "start_time": "2022-08-16T16:55:41.386Z"
   },
   {
    "duration": 156,
    "start_time": "2022-08-16T16:55:41.402Z"
   },
   {
    "duration": 6,
    "start_time": "2022-08-16T16:55:41.560Z"
   },
   {
    "duration": 4,
    "start_time": "2022-08-16T16:55:41.568Z"
   },
   {
    "duration": 7,
    "start_time": "2022-08-16T16:55:41.574Z"
   },
   {
    "duration": 20,
    "start_time": "2022-08-16T16:55:41.583Z"
   },
   {
    "duration": 8,
    "start_time": "2022-08-16T16:55:41.605Z"
   },
   {
    "duration": 12,
    "start_time": "2022-08-16T16:55:41.614Z"
   },
   {
    "duration": 30,
    "start_time": "2022-08-16T16:55:41.628Z"
   },
   {
    "duration": 6,
    "start_time": "2022-08-16T16:55:41.660Z"
   },
   {
    "duration": 32138,
    "start_time": "2022-08-16T16:55:41.668Z"
   },
   {
    "duration": 15,
    "start_time": "2022-08-16T16:56:13.807Z"
   },
   {
    "duration": 135,
    "start_time": "2022-08-16T16:56:13.824Z"
   },
   {
    "duration": 5,
    "start_time": "2022-08-16T16:56:13.961Z"
   },
   {
    "duration": 7,
    "start_time": "2022-08-16T16:56:13.968Z"
   },
   {
    "duration": 9,
    "start_time": "2022-08-16T16:56:13.977Z"
   },
   {
    "duration": 5,
    "start_time": "2022-08-16T16:56:13.988Z"
   },
   {
    "duration": 6,
    "start_time": "2022-08-16T16:56:13.994Z"
   },
   {
    "duration": 207,
    "start_time": "2022-08-16T16:56:14.002Z"
   },
   {
    "duration": 13,
    "start_time": "2022-08-16T16:56:14.211Z"
   },
   {
    "duration": 4,
    "start_time": "2022-08-16T16:56:14.225Z"
   },
   {
    "duration": 31,
    "start_time": "2022-08-16T16:56:14.231Z"
   },
   {
    "duration": 128,
    "start_time": "2022-08-16T16:56:14.264Z"
   },
   {
    "duration": 7,
    "start_time": "2022-08-16T16:56:14.394Z"
   },
   {
    "duration": 6,
    "start_time": "2022-08-16T16:57:11.618Z"
   },
   {
    "duration": 63,
    "start_time": "2022-08-16T16:57:11.627Z"
   },
   {
    "duration": 14,
    "start_time": "2022-08-16T16:57:11.692Z"
   },
   {
    "duration": 61,
    "start_time": "2022-08-16T16:57:11.708Z"
   },
   {
    "duration": 6,
    "start_time": "2022-08-16T16:57:11.770Z"
   },
   {
    "duration": 9,
    "start_time": "2022-08-16T16:57:11.777Z"
   },
   {
    "duration": 5,
    "start_time": "2022-08-16T16:57:11.788Z"
   },
   {
    "duration": 197,
    "start_time": "2022-08-16T16:57:11.795Z"
   },
   {
    "duration": 173,
    "start_time": "2022-08-16T16:57:11.994Z"
   },
   {
    "duration": 5,
    "start_time": "2022-08-16T16:57:12.170Z"
   },
   {
    "duration": 9,
    "start_time": "2022-08-16T16:57:12.176Z"
   },
   {
    "duration": 11,
    "start_time": "2022-08-16T16:57:12.186Z"
   },
   {
    "duration": 297,
    "start_time": "2022-08-16T16:57:12.199Z"
   },
   {
    "duration": 4,
    "start_time": "2022-08-16T16:57:12.499Z"
   },
   {
    "duration": 6,
    "start_time": "2022-08-16T16:57:12.505Z"
   },
   {
    "duration": 6,
    "start_time": "2022-08-16T16:57:12.512Z"
   },
   {
    "duration": 12,
    "start_time": "2022-08-16T16:57:12.519Z"
   },
   {
    "duration": 5,
    "start_time": "2022-08-16T16:57:12.533Z"
   },
   {
    "duration": 14,
    "start_time": "2022-08-16T16:57:12.556Z"
   },
   {
    "duration": 11,
    "start_time": "2022-08-16T16:57:12.572Z"
   },
   {
    "duration": 41,
    "start_time": "2022-08-16T16:57:12.584Z"
   },
   {
    "duration": 16,
    "start_time": "2022-08-16T16:57:12.626Z"
   },
   {
    "duration": 9,
    "start_time": "2022-08-16T16:57:12.657Z"
   },
   {
    "duration": 12,
    "start_time": "2022-08-16T16:57:12.667Z"
   },
   {
    "duration": 6,
    "start_time": "2022-08-16T16:57:12.680Z"
   },
   {
    "duration": 35087,
    "start_time": "2022-08-16T16:57:12.687Z"
   },
   {
    "duration": 11,
    "start_time": "2022-08-16T16:57:47.776Z"
   },
   {
    "duration": 133,
    "start_time": "2022-08-16T16:57:47.790Z"
   },
   {
    "duration": 6,
    "start_time": "2022-08-16T16:57:47.924Z"
   },
   {
    "duration": 3,
    "start_time": "2022-08-16T16:57:47.932Z"
   },
   {
    "duration": 24,
    "start_time": "2022-08-16T16:57:47.937Z"
   },
   {
    "duration": 20,
    "start_time": "2022-08-16T16:57:47.962Z"
   },
   {
    "duration": 6,
    "start_time": "2022-08-16T16:57:47.984Z"
   },
   {
    "duration": 8,
    "start_time": "2022-08-16T16:57:47.991Z"
   },
   {
    "duration": 5,
    "start_time": "2022-08-16T16:57:48.001Z"
   },
   {
    "duration": 11,
    "start_time": "2022-08-16T16:57:48.007Z"
   },
   {
    "duration": 49704,
    "start_time": "2022-08-16T16:57:48.020Z"
   },
   {
    "duration": 15,
    "start_time": "2022-08-16T16:58:37.726Z"
   },
   {
    "duration": 144,
    "start_time": "2022-08-16T16:58:37.743Z"
   },
   {
    "duration": 6,
    "start_time": "2022-08-16T16:58:37.889Z"
   },
   {
    "duration": 6,
    "start_time": "2022-08-16T16:58:37.897Z"
   },
   {
    "duration": 11,
    "start_time": "2022-08-16T16:58:37.905Z"
   },
   {
    "duration": 5,
    "start_time": "2022-08-16T16:58:37.917Z"
   },
   {
    "duration": 33,
    "start_time": "2022-08-16T16:58:37.924Z"
   },
   {
    "duration": 204,
    "start_time": "2022-08-16T16:58:37.960Z"
   },
   {
    "duration": 14,
    "start_time": "2022-08-16T16:58:38.165Z"
   },
   {
    "duration": 5,
    "start_time": "2022-08-16T16:58:38.181Z"
   },
   {
    "duration": 17,
    "start_time": "2022-08-16T16:58:38.188Z"
   },
   {
    "duration": 166,
    "start_time": "2022-08-16T16:58:38.207Z"
   },
   {
    "duration": 7,
    "start_time": "2022-08-16T16:58:38.374Z"
   },
   {
    "duration": 7,
    "start_time": "2022-08-16T16:59:48.606Z"
   },
   {
    "duration": 72,
    "start_time": "2022-08-16T16:59:48.614Z"
   },
   {
    "duration": 11,
    "start_time": "2022-08-16T16:59:48.687Z"
   },
   {
    "duration": 36,
    "start_time": "2022-08-16T16:59:48.700Z"
   },
   {
    "duration": 22,
    "start_time": "2022-08-16T16:59:48.737Z"
   },
   {
    "duration": 17,
    "start_time": "2022-08-16T16:59:48.760Z"
   },
   {
    "duration": 8,
    "start_time": "2022-08-16T16:59:48.779Z"
   },
   {
    "duration": 186,
    "start_time": "2022-08-16T16:59:48.789Z"
   },
   {
    "duration": 181,
    "start_time": "2022-08-16T16:59:48.977Z"
   },
   {
    "duration": 5,
    "start_time": "2022-08-16T16:59:49.161Z"
   },
   {
    "duration": 25,
    "start_time": "2022-08-16T16:59:49.167Z"
   },
   {
    "duration": 13,
    "start_time": "2022-08-16T16:59:49.194Z"
   },
   {
    "duration": 160,
    "start_time": "2022-08-16T16:59:49.208Z"
   },
   {
    "duration": 4,
    "start_time": "2022-08-16T16:59:49.369Z"
   },
   {
    "duration": 22,
    "start_time": "2022-08-16T16:59:49.375Z"
   },
   {
    "duration": 26,
    "start_time": "2022-08-16T16:59:49.399Z"
   },
   {
    "duration": 22,
    "start_time": "2022-08-16T16:59:49.426Z"
   },
   {
    "duration": 12,
    "start_time": "2022-08-16T16:59:49.449Z"
   },
   {
    "duration": 31,
    "start_time": "2022-08-16T16:59:49.462Z"
   },
   {
    "duration": 16,
    "start_time": "2022-08-16T16:59:49.494Z"
   },
   {
    "duration": 60,
    "start_time": "2022-08-16T16:59:49.512Z"
   },
   {
    "duration": 15,
    "start_time": "2022-08-16T16:59:49.574Z"
   },
   {
    "duration": 20,
    "start_time": "2022-08-16T16:59:49.591Z"
   },
   {
    "duration": 27,
    "start_time": "2022-08-16T16:59:49.612Z"
   },
   {
    "duration": 5,
    "start_time": "2022-08-16T16:59:49.641Z"
   },
   {
    "duration": 34508,
    "start_time": "2022-08-16T16:59:49.648Z"
   },
   {
    "duration": 11,
    "start_time": "2022-08-16T17:00:24.158Z"
   },
   {
    "duration": 137,
    "start_time": "2022-08-16T17:00:24.173Z"
   },
   {
    "duration": 6,
    "start_time": "2022-08-16T17:00:24.311Z"
   },
   {
    "duration": 19,
    "start_time": "2022-08-16T17:00:24.318Z"
   },
   {
    "duration": 24,
    "start_time": "2022-08-16T17:00:24.338Z"
   },
   {
    "duration": 26,
    "start_time": "2022-08-16T17:00:24.363Z"
   },
   {
    "duration": 20,
    "start_time": "2022-08-16T17:00:24.391Z"
   },
   {
    "duration": 32,
    "start_time": "2022-08-16T17:00:24.413Z"
   },
   {
    "duration": 12,
    "start_time": "2022-08-16T17:00:24.447Z"
   },
   {
    "duration": 13,
    "start_time": "2022-08-16T17:00:24.460Z"
   },
   {
    "duration": 49490,
    "start_time": "2022-08-16T17:00:24.475Z"
   },
   {
    "duration": 15,
    "start_time": "2022-08-16T17:01:13.966Z"
   },
   {
    "duration": 148,
    "start_time": "2022-08-16T17:01:13.982Z"
   },
   {
    "duration": 6,
    "start_time": "2022-08-16T17:01:14.132Z"
   },
   {
    "duration": 20,
    "start_time": "2022-08-16T17:01:14.140Z"
   },
   {
    "duration": 11,
    "start_time": "2022-08-16T17:01:14.162Z"
   },
   {
    "duration": 4,
    "start_time": "2022-08-16T17:01:14.175Z"
   },
   {
    "duration": 8,
    "start_time": "2022-08-16T17:01:14.181Z"
   },
   {
    "duration": 619,
    "start_time": "2022-08-16T17:01:14.190Z"
   },
   {
    "duration": 10,
    "start_time": "2022-08-16T17:01:14.812Z"
   },
   {
    "duration": 4,
    "start_time": "2022-08-16T17:01:14.824Z"
   },
   {
    "duration": 29,
    "start_time": "2022-08-16T17:01:14.829Z"
   },
   {
    "duration": 136,
    "start_time": "2022-08-16T17:01:14.860Z"
   },
   {
    "duration": 7,
    "start_time": "2022-08-16T17:01:14.998Z"
   },
   {
    "duration": 15,
    "start_time": "2022-08-16T17:01:44.982Z"
   },
   {
    "duration": 4,
    "start_time": "2022-08-16T17:01:47.806Z"
   },
   {
    "duration": 13,
    "start_time": "2022-08-16T17:01:50.010Z"
   },
   {
    "duration": 9,
    "start_time": "2022-08-16T17:03:53.350Z"
   },
   {
    "duration": 53,
    "start_time": "2022-08-16T17:03:53.362Z"
   },
   {
    "duration": 13,
    "start_time": "2022-08-16T17:03:53.417Z"
   },
   {
    "duration": 54,
    "start_time": "2022-08-16T17:03:53.432Z"
   },
   {
    "duration": 6,
    "start_time": "2022-08-16T17:03:53.488Z"
   },
   {
    "duration": 10,
    "start_time": "2022-08-16T17:03:53.497Z"
   },
   {
    "duration": 23,
    "start_time": "2022-08-16T17:03:53.509Z"
   },
   {
    "duration": 178,
    "start_time": "2022-08-16T17:03:53.534Z"
   },
   {
    "duration": 191,
    "start_time": "2022-08-16T17:03:53.714Z"
   },
   {
    "duration": 8,
    "start_time": "2022-08-16T17:03:53.908Z"
   },
   {
    "duration": 12,
    "start_time": "2022-08-16T17:03:53.917Z"
   },
   {
    "duration": 9,
    "start_time": "2022-08-16T17:03:53.931Z"
   },
   {
    "duration": 151,
    "start_time": "2022-08-16T17:03:53.941Z"
   },
   {
    "duration": 4,
    "start_time": "2022-08-16T17:03:54.093Z"
   },
   {
    "duration": 4,
    "start_time": "2022-08-16T17:03:54.099Z"
   },
   {
    "duration": 9,
    "start_time": "2022-08-16T17:03:54.105Z"
   },
   {
    "duration": 10,
    "start_time": "2022-08-16T17:03:54.116Z"
   },
   {
    "duration": 6,
    "start_time": "2022-08-16T17:03:54.127Z"
   },
   {
    "duration": 30,
    "start_time": "2022-08-16T17:03:54.134Z"
   },
   {
    "duration": 17,
    "start_time": "2022-08-16T17:03:54.166Z"
   },
   {
    "duration": 44,
    "start_time": "2022-08-16T17:03:54.185Z"
   },
   {
    "duration": 17,
    "start_time": "2022-08-16T17:03:54.231Z"
   },
   {
    "duration": 16,
    "start_time": "2022-08-16T17:03:54.249Z"
   },
   {
    "duration": 11,
    "start_time": "2022-08-16T17:03:54.267Z"
   },
   {
    "duration": 8,
    "start_time": "2022-08-16T17:03:54.279Z"
   },
   {
    "duration": 34695,
    "start_time": "2022-08-16T17:03:54.288Z"
   },
   {
    "duration": 12,
    "start_time": "2022-08-16T17:04:28.984Z"
   },
   {
    "duration": 158,
    "start_time": "2022-08-16T17:04:29.001Z"
   },
   {
    "duration": 6,
    "start_time": "2022-08-16T17:04:29.161Z"
   },
   {
    "duration": 21,
    "start_time": "2022-08-16T17:04:29.168Z"
   },
   {
    "duration": 17,
    "start_time": "2022-08-16T17:04:29.191Z"
   },
   {
    "duration": 31,
    "start_time": "2022-08-16T17:04:29.210Z"
   },
   {
    "duration": 33,
    "start_time": "2022-08-16T17:04:29.242Z"
   },
   {
    "duration": 30,
    "start_time": "2022-08-16T17:04:29.277Z"
   },
   {
    "duration": 18,
    "start_time": "2022-08-16T17:04:29.308Z"
   },
   {
    "duration": 26,
    "start_time": "2022-08-16T17:04:29.327Z"
   },
   {
    "duration": 49844,
    "start_time": "2022-08-16T17:04:29.355Z"
   },
   {
    "duration": 14,
    "start_time": "2022-08-16T17:05:19.201Z"
   },
   {
    "duration": 141,
    "start_time": "2022-08-16T17:05:19.216Z"
   },
   {
    "duration": 5,
    "start_time": "2022-08-16T17:05:19.359Z"
   },
   {
    "duration": 7,
    "start_time": "2022-08-16T17:05:19.366Z"
   },
   {
    "duration": 12,
    "start_time": "2022-08-16T17:05:19.374Z"
   },
   {
    "duration": 4,
    "start_time": "2022-08-16T17:05:19.388Z"
   },
   {
    "duration": 6,
    "start_time": "2022-08-16T17:05:19.393Z"
   },
   {
    "duration": 574,
    "start_time": "2022-08-16T17:05:19.401Z"
   },
   {
    "duration": 4,
    "start_time": "2022-08-16T17:05:19.977Z"
   },
   {
    "duration": 18,
    "start_time": "2022-08-16T17:05:19.982Z"
   },
   {
    "duration": 13,
    "start_time": "2022-08-16T17:05:20.001Z"
   },
   {
    "duration": 115,
    "start_time": "2022-08-16T17:05:20.015Z"
   },
   {
    "duration": 7,
    "start_time": "2022-08-16T17:05:20.131Z"
   },
   {
    "duration": 560,
    "start_time": "2022-08-16T17:13:47.633Z"
   },
   {
    "duration": 4,
    "start_time": "2022-08-16T17:13:50.150Z"
   },
   {
    "duration": 14,
    "start_time": "2022-08-16T17:13:52.265Z"
   },
   {
    "duration": 6,
    "start_time": "2022-08-16T17:13:54.041Z"
   },
   {
    "duration": 128,
    "start_time": "2022-08-16T17:14:00.501Z"
   },
   {
    "duration": 7,
    "start_time": "2022-08-16T17:14:03.097Z"
   },
   {
    "duration": 6,
    "start_time": "2022-08-16T17:14:11.598Z"
   },
   {
    "duration": 63,
    "start_time": "2022-08-16T17:14:11.606Z"
   },
   {
    "duration": 11,
    "start_time": "2022-08-16T17:14:11.671Z"
   },
   {
    "duration": 37,
    "start_time": "2022-08-16T17:14:11.684Z"
   },
   {
    "duration": 6,
    "start_time": "2022-08-16T17:14:11.723Z"
   },
   {
    "duration": 31,
    "start_time": "2022-08-16T17:14:11.730Z"
   },
   {
    "duration": 6,
    "start_time": "2022-08-16T17:14:11.762Z"
   },
   {
    "duration": 194,
    "start_time": "2022-08-16T17:14:11.769Z"
   },
   {
    "duration": 346,
    "start_time": "2022-08-16T17:14:11.965Z"
   },
   {
    "duration": 5,
    "start_time": "2022-08-16T17:14:12.313Z"
   },
   {
    "duration": 9,
    "start_time": "2022-08-16T17:14:12.320Z"
   },
   {
    "duration": 9,
    "start_time": "2022-08-16T17:14:12.331Z"
   },
   {
    "duration": 148,
    "start_time": "2022-08-16T17:14:12.342Z"
   },
   {
    "duration": 5,
    "start_time": "2022-08-16T17:14:12.491Z"
   },
   {
    "duration": 6,
    "start_time": "2022-08-16T17:14:12.498Z"
   },
   {
    "duration": 8,
    "start_time": "2022-08-16T17:14:12.505Z"
   },
   {
    "duration": 9,
    "start_time": "2022-08-16T17:14:12.514Z"
   },
   {
    "duration": 6,
    "start_time": "2022-08-16T17:14:12.525Z"
   },
   {
    "duration": 34,
    "start_time": "2022-08-16T17:14:12.532Z"
   },
   {
    "duration": 4,
    "start_time": "2022-08-16T17:14:12.568Z"
   },
   {
    "duration": 42,
    "start_time": "2022-08-16T17:14:12.573Z"
   },
   {
    "duration": 15,
    "start_time": "2022-08-16T17:14:12.617Z"
   },
   {
    "duration": 28,
    "start_time": "2022-08-16T17:14:12.633Z"
   },
   {
    "duration": 11,
    "start_time": "2022-08-16T17:14:12.664Z"
   },
   {
    "duration": 6,
    "start_time": "2022-08-16T17:14:12.676Z"
   },
   {
    "duration": 34895,
    "start_time": "2022-08-16T17:14:12.684Z"
   },
   {
    "duration": 11,
    "start_time": "2022-08-16T17:14:47.581Z"
   },
   {
    "duration": 132,
    "start_time": "2022-08-16T17:14:47.594Z"
   },
   {
    "duration": 6,
    "start_time": "2022-08-16T17:14:47.728Z"
   },
   {
    "duration": 5,
    "start_time": "2022-08-16T17:14:47.735Z"
   },
   {
    "duration": 17,
    "start_time": "2022-08-16T17:14:47.742Z"
   },
   {
    "duration": 18,
    "start_time": "2022-08-16T17:14:47.761Z"
   },
   {
    "duration": 7,
    "start_time": "2022-08-16T17:14:47.780Z"
   },
   {
    "duration": 8,
    "start_time": "2022-08-16T17:14:47.788Z"
   },
   {
    "duration": 6,
    "start_time": "2022-08-16T17:14:47.798Z"
   },
   {
    "duration": 7,
    "start_time": "2022-08-16T17:14:47.805Z"
   },
   {
    "duration": 49849,
    "start_time": "2022-08-16T17:14:47.813Z"
   },
   {
    "duration": 16,
    "start_time": "2022-08-16T17:15:37.663Z"
   },
   {
    "duration": 148,
    "start_time": "2022-08-16T17:15:37.680Z"
   },
   {
    "duration": 7,
    "start_time": "2022-08-16T17:15:37.830Z"
   },
   {
    "duration": 20,
    "start_time": "2022-08-16T17:15:37.838Z"
   },
   {
    "duration": 11,
    "start_time": "2022-08-16T17:15:37.859Z"
   },
   {
    "duration": 5,
    "start_time": "2022-08-16T17:15:37.872Z"
   },
   {
    "duration": 14,
    "start_time": "2022-08-16T17:15:37.878Z"
   },
   {
    "duration": 613,
    "start_time": "2022-08-16T17:15:37.894Z"
   },
   {
    "duration": 4,
    "start_time": "2022-08-16T17:15:38.509Z"
   },
   {
    "duration": 18,
    "start_time": "2022-08-16T17:15:38.515Z"
   },
   {
    "duration": 24,
    "start_time": "2022-08-16T17:15:38.534Z"
   },
   {
    "duration": 131,
    "start_time": "2022-08-16T17:15:38.560Z"
   },
   {
    "duration": 6,
    "start_time": "2022-08-16T17:15:38.693Z"
   },
   {
    "duration": 51,
    "start_time": "2022-08-18T10:15:49.112Z"
   },
   {
    "duration": 1615,
    "start_time": "2022-08-18T10:15:53.416Z"
   },
   {
    "duration": 186,
    "start_time": "2022-08-18T10:15:55.034Z"
   },
   {
    "duration": 15,
    "start_time": "2022-08-18T10:15:55.221Z"
   },
   {
    "duration": 41,
    "start_time": "2022-08-18T10:15:55.238Z"
   },
   {
    "duration": 12,
    "start_time": "2022-08-18T10:15:55.281Z"
   },
   {
    "duration": 34,
    "start_time": "2022-08-18T10:15:55.295Z"
   },
   {
    "duration": 15,
    "start_time": "2022-08-18T10:15:55.331Z"
   },
   {
    "duration": 206,
    "start_time": "2022-08-18T10:15:55.349Z"
   },
   {
    "duration": 201,
    "start_time": "2022-08-18T10:15:55.557Z"
   },
   {
    "duration": 5,
    "start_time": "2022-08-18T10:15:55.760Z"
   },
   {
    "duration": 8,
    "start_time": "2022-08-18T10:15:55.767Z"
   },
   {
    "duration": 21,
    "start_time": "2022-08-18T10:15:55.777Z"
   },
   {
    "duration": 156,
    "start_time": "2022-08-18T10:15:55.800Z"
   },
   {
    "duration": 5,
    "start_time": "2022-08-18T10:15:55.958Z"
   },
   {
    "duration": 10,
    "start_time": "2022-08-18T10:15:55.965Z"
   },
   {
    "duration": 15,
    "start_time": "2022-08-18T10:15:55.977Z"
   },
   {
    "duration": 15,
    "start_time": "2022-08-18T10:15:55.994Z"
   },
   {
    "duration": 14,
    "start_time": "2022-08-18T10:15:56.011Z"
   },
   {
    "duration": 91,
    "start_time": "2022-08-18T10:15:56.026Z"
   },
   {
    "duration": 0,
    "start_time": "2022-08-18T10:15:56.119Z"
   },
   {
    "duration": 1,
    "start_time": "2022-08-18T10:15:56.120Z"
   },
   {
    "duration": 0,
    "start_time": "2022-08-18T10:15:56.121Z"
   },
   {
    "duration": 0,
    "start_time": "2022-08-18T10:15:56.123Z"
   },
   {
    "duration": 0,
    "start_time": "2022-08-18T10:15:56.124Z"
   },
   {
    "duration": 0,
    "start_time": "2022-08-18T10:15:56.125Z"
   },
   {
    "duration": 0,
    "start_time": "2022-08-18T10:15:56.222Z"
   },
   {
    "duration": 0,
    "start_time": "2022-08-18T10:15:56.223Z"
   },
   {
    "duration": 0,
    "start_time": "2022-08-18T10:15:56.225Z"
   },
   {
    "duration": 0,
    "start_time": "2022-08-18T10:15:56.226Z"
   },
   {
    "duration": 0,
    "start_time": "2022-08-18T10:15:56.227Z"
   },
   {
    "duration": 0,
    "start_time": "2022-08-18T10:15:56.228Z"
   },
   {
    "duration": 0,
    "start_time": "2022-08-18T10:15:56.229Z"
   },
   {
    "duration": 0,
    "start_time": "2022-08-18T10:15:56.230Z"
   },
   {
    "duration": 0,
    "start_time": "2022-08-18T10:15:56.231Z"
   },
   {
    "duration": 0,
    "start_time": "2022-08-18T10:15:56.232Z"
   },
   {
    "duration": 0,
    "start_time": "2022-08-18T10:15:56.233Z"
   },
   {
    "duration": 0,
    "start_time": "2022-08-18T10:15:56.233Z"
   },
   {
    "duration": 0,
    "start_time": "2022-08-18T10:15:56.235Z"
   },
   {
    "duration": 0,
    "start_time": "2022-08-18T10:15:56.236Z"
   },
   {
    "duration": 0,
    "start_time": "2022-08-18T10:15:56.236Z"
   },
   {
    "duration": 0,
    "start_time": "2022-08-18T10:15:56.237Z"
   },
   {
    "duration": 0,
    "start_time": "2022-08-18T10:15:56.238Z"
   },
   {
    "duration": 0,
    "start_time": "2022-08-18T10:15:56.239Z"
   },
   {
    "duration": 0,
    "start_time": "2022-08-18T10:15:56.240Z"
   },
   {
    "duration": 0,
    "start_time": "2022-08-18T10:15:56.241Z"
   },
   {
    "duration": 0,
    "start_time": "2022-08-18T10:15:56.242Z"
   },
   {
    "duration": 0,
    "start_time": "2022-08-18T10:15:56.243Z"
   },
   {
    "duration": 0,
    "start_time": "2022-08-18T10:15:56.244Z"
   },
   {
    "duration": 0,
    "start_time": "2022-08-18T10:15:56.246Z"
   },
   {
    "duration": 0,
    "start_time": "2022-08-18T10:15:56.247Z"
   },
   {
    "duration": 7,
    "start_time": "2022-08-18T10:16:41.872Z"
   },
   {
    "duration": 71,
    "start_time": "2022-08-18T10:16:41.882Z"
   },
   {
    "duration": 14,
    "start_time": "2022-08-18T10:16:41.956Z"
   },
   {
    "duration": 46,
    "start_time": "2022-08-18T10:16:41.972Z"
   },
   {
    "duration": 7,
    "start_time": "2022-08-18T10:16:42.020Z"
   },
   {
    "duration": 13,
    "start_time": "2022-08-18T10:16:42.028Z"
   },
   {
    "duration": 8,
    "start_time": "2022-08-18T10:16:42.043Z"
   },
   {
    "duration": 219,
    "start_time": "2022-08-18T10:16:42.053Z"
   },
   {
    "duration": 196,
    "start_time": "2022-08-18T10:16:42.273Z"
   },
   {
    "duration": 5,
    "start_time": "2022-08-18T10:16:42.471Z"
   },
   {
    "duration": 9,
    "start_time": "2022-08-18T10:16:42.491Z"
   },
   {
    "duration": 15,
    "start_time": "2022-08-18T10:16:42.502Z"
   },
   {
    "duration": 142,
    "start_time": "2022-08-18T10:16:42.519Z"
   },
   {
    "duration": 4,
    "start_time": "2022-08-18T10:16:42.663Z"
   },
   {
    "duration": 15,
    "start_time": "2022-08-18T10:16:42.669Z"
   },
   {
    "duration": 15,
    "start_time": "2022-08-18T10:16:42.686Z"
   },
   {
    "duration": 12,
    "start_time": "2022-08-18T10:16:42.702Z"
   },
   {
    "duration": 21,
    "start_time": "2022-08-18T10:16:42.716Z"
   },
   {
    "duration": 20,
    "start_time": "2022-08-18T10:16:42.739Z"
   },
   {
    "duration": 9,
    "start_time": "2022-08-18T10:16:42.760Z"
   },
   {
    "duration": 40,
    "start_time": "2022-08-18T10:16:42.771Z"
   },
   {
    "duration": 16,
    "start_time": "2022-08-18T10:16:42.813Z"
   },
   {
    "duration": 17,
    "start_time": "2022-08-18T10:16:42.831Z"
   },
   {
    "duration": 12,
    "start_time": "2022-08-18T10:16:42.850Z"
   },
   {
    "duration": 7,
    "start_time": "2022-08-18T10:16:42.864Z"
   },
   {
    "duration": 29651,
    "start_time": "2022-08-18T10:16:42.873Z"
   },
   {
    "duration": 15,
    "start_time": "2022-08-18T10:17:12.527Z"
   },
   {
    "duration": 161,
    "start_time": "2022-08-18T10:17:12.544Z"
   },
   {
    "duration": 7,
    "start_time": "2022-08-18T10:17:12.709Z"
   },
   {
    "duration": 27,
    "start_time": "2022-08-18T10:17:12.717Z"
   },
   {
    "duration": 28,
    "start_time": "2022-08-18T10:17:12.746Z"
   },
   {
    "duration": 34,
    "start_time": "2022-08-18T10:17:12.775Z"
   },
   {
    "duration": 10,
    "start_time": "2022-08-18T10:17:12.811Z"
   },
   {
    "duration": 25,
    "start_time": "2022-08-18T10:17:12.823Z"
   },
   {
    "duration": 6,
    "start_time": "2022-08-18T10:17:12.850Z"
   },
   {
    "duration": 11,
    "start_time": "2022-08-18T10:17:12.858Z"
   },
   {
    "duration": 41282,
    "start_time": "2022-08-18T10:17:12.871Z"
   },
   {
    "duration": 18,
    "start_time": "2022-08-18T10:17:54.155Z"
   },
   {
    "duration": 167,
    "start_time": "2022-08-18T10:17:54.174Z"
   },
   {
    "duration": 7,
    "start_time": "2022-08-18T10:17:54.343Z"
   },
   {
    "duration": 19,
    "start_time": "2022-08-18T10:17:54.351Z"
   },
   {
    "duration": 21,
    "start_time": "2022-08-18T10:17:54.371Z"
   },
   {
    "duration": 7,
    "start_time": "2022-08-18T10:17:54.394Z"
   },
   {
    "duration": 23,
    "start_time": "2022-08-18T10:17:54.403Z"
   },
   {
    "duration": 537,
    "start_time": "2022-08-18T10:17:54.428Z"
   },
   {
    "duration": 5,
    "start_time": "2022-08-18T10:17:54.967Z"
   },
   {
    "duration": 23,
    "start_time": "2022-08-18T10:17:54.973Z"
   },
   {
    "duration": 7,
    "start_time": "2022-08-18T10:17:54.997Z"
   },
   {
    "duration": 148,
    "start_time": "2022-08-18T10:17:55.006Z"
   },
   {
    "duration": 8,
    "start_time": "2022-08-18T10:17:55.157Z"
   },
   {
    "duration": 1737,
    "start_time": "2022-08-18T14:41:55.414Z"
   },
   {
    "duration": 154,
    "start_time": "2022-08-18T14:41:57.153Z"
   },
   {
    "duration": 15,
    "start_time": "2022-08-18T14:41:57.309Z"
   },
   {
    "duration": 43,
    "start_time": "2022-08-18T14:41:57.327Z"
   },
   {
    "duration": 7,
    "start_time": "2022-08-18T14:41:57.372Z"
   },
   {
    "duration": 19,
    "start_time": "2022-08-18T14:41:57.400Z"
   },
   {
    "duration": 8,
    "start_time": "2022-08-18T14:41:57.421Z"
   },
   {
    "duration": 243,
    "start_time": "2022-08-18T14:41:57.431Z"
   },
   {
    "duration": 196,
    "start_time": "2022-08-18T14:41:57.680Z"
   },
   {
    "duration": 8,
    "start_time": "2022-08-18T14:41:57.880Z"
   },
   {
    "duration": 19,
    "start_time": "2022-08-18T14:41:57.890Z"
   },
   {
    "duration": 11,
    "start_time": "2022-08-18T14:41:57.912Z"
   },
   {
    "duration": 173,
    "start_time": "2022-08-18T14:41:57.925Z"
   },
   {
    "duration": 5,
    "start_time": "2022-08-18T14:41:58.100Z"
   },
   {
    "duration": 6,
    "start_time": "2022-08-18T14:41:58.107Z"
   },
   {
    "duration": 8,
    "start_time": "2022-08-18T14:41:58.115Z"
   },
   {
    "duration": 15,
    "start_time": "2022-08-18T14:41:58.125Z"
   },
   {
    "duration": 34,
    "start_time": "2022-08-18T14:41:58.142Z"
   },
   {
    "duration": 45,
    "start_time": "2022-08-18T14:41:58.177Z"
   },
   {
    "duration": 24,
    "start_time": "2022-08-18T14:41:58.224Z"
   },
   {
    "duration": 52,
    "start_time": "2022-08-18T14:41:58.250Z"
   },
   {
    "duration": 15,
    "start_time": "2022-08-18T14:41:58.304Z"
   },
   {
    "duration": 112,
    "start_time": "2022-08-18T14:41:58.321Z"
   },
   {
    "duration": 26,
    "start_time": "2022-08-18T14:41:58.435Z"
   },
   {
    "duration": 8,
    "start_time": "2022-08-18T14:41:58.462Z"
   },
   {
    "duration": 29339,
    "start_time": "2022-08-18T14:41:58.472Z"
   },
   {
    "duration": 15,
    "start_time": "2022-08-18T14:42:27.813Z"
   },
   {
    "duration": 186,
    "start_time": "2022-08-18T14:42:27.834Z"
   },
   {
    "duration": 9,
    "start_time": "2022-08-18T14:42:28.022Z"
   },
   {
    "duration": 30,
    "start_time": "2022-08-18T14:42:28.033Z"
   },
   {
    "duration": 9,
    "start_time": "2022-08-18T14:42:28.065Z"
   },
   {
    "duration": 35,
    "start_time": "2022-08-18T14:42:28.076Z"
   },
   {
    "duration": 9,
    "start_time": "2022-08-18T14:42:28.114Z"
   },
   {
    "duration": 16,
    "start_time": "2022-08-18T14:42:28.124Z"
   },
   {
    "duration": 6,
    "start_time": "2022-08-18T14:42:28.142Z"
   },
   {
    "duration": 33,
    "start_time": "2022-08-18T14:42:28.158Z"
   },
   {
    "duration": 45626,
    "start_time": "2022-08-18T14:42:28.193Z"
   },
   {
    "duration": 16,
    "start_time": "2022-08-18T14:43:13.821Z"
   },
   {
    "duration": 216,
    "start_time": "2022-08-18T14:43:13.840Z"
   },
   {
    "duration": 20,
    "start_time": "2022-08-18T14:43:14.061Z"
   },
   {
    "duration": 32,
    "start_time": "2022-08-18T14:43:14.083Z"
   },
   {
    "duration": 37,
    "start_time": "2022-08-18T14:43:14.117Z"
   },
   {
    "duration": 48,
    "start_time": "2022-08-18T14:43:14.156Z"
   },
   {
    "duration": 26,
    "start_time": "2022-08-18T14:43:14.207Z"
   },
   {
    "duration": 563,
    "start_time": "2022-08-18T14:43:14.235Z"
   },
   {
    "duration": 8,
    "start_time": "2022-08-18T14:43:14.800Z"
   },
   {
    "duration": 19,
    "start_time": "2022-08-18T14:43:14.810Z"
   },
   {
    "duration": 14,
    "start_time": "2022-08-18T14:43:14.831Z"
   },
   {
    "duration": 200,
    "start_time": "2022-08-18T14:43:14.847Z"
   },
   {
    "duration": 19,
    "start_time": "2022-08-18T14:43:15.049Z"
   },
   {
    "duration": 9,
    "start_time": "2022-08-23T05:52:14.253Z"
   },
   {
    "duration": 42,
    "start_time": "2022-08-23T05:52:27.793Z"
   },
   {
    "duration": 1316,
    "start_time": "2022-08-23T05:56:06.349Z"
   },
   {
    "duration": 99,
    "start_time": "2022-08-23T05:56:07.667Z"
   },
   {
    "duration": 11,
    "start_time": "2022-08-23T05:56:07.768Z"
   },
   {
    "duration": 30,
    "start_time": "2022-08-23T05:56:07.782Z"
   },
   {
    "duration": 5,
    "start_time": "2022-08-23T05:56:07.813Z"
   },
   {
    "duration": 8,
    "start_time": "2022-08-23T05:56:07.819Z"
   },
   {
    "duration": 6,
    "start_time": "2022-08-23T05:56:07.828Z"
   },
   {
    "duration": 190,
    "start_time": "2022-08-23T05:56:07.836Z"
   },
   {
    "duration": 153,
    "start_time": "2022-08-23T05:56:08.028Z"
   },
   {
    "duration": 15,
    "start_time": "2022-08-23T05:56:08.183Z"
   },
   {
    "duration": 6,
    "start_time": "2022-08-23T05:56:08.200Z"
   },
   {
    "duration": 9,
    "start_time": "2022-08-23T05:56:08.207Z"
   },
   {
    "duration": 138,
    "start_time": "2022-08-23T05:56:08.218Z"
   },
   {
    "duration": 4,
    "start_time": "2022-08-23T05:56:08.357Z"
   },
   {
    "duration": 4,
    "start_time": "2022-08-23T05:56:08.363Z"
   },
   {
    "duration": 20,
    "start_time": "2022-08-23T05:56:08.369Z"
   },
   {
    "duration": 18,
    "start_time": "2022-08-23T05:56:08.391Z"
   },
   {
    "duration": 8,
    "start_time": "2022-08-23T05:56:08.411Z"
   },
   {
    "duration": 23,
    "start_time": "2022-08-23T05:56:08.420Z"
   },
   {
    "duration": 12,
    "start_time": "2022-08-23T05:56:08.444Z"
   },
   {
    "duration": 47,
    "start_time": "2022-08-23T05:56:08.457Z"
   },
   {
    "duration": 77,
    "start_time": "2022-08-23T05:56:08.505Z"
   },
   {
    "duration": 0,
    "start_time": "2022-08-23T05:56:08.641Z"
   },
   {
    "duration": 0,
    "start_time": "2022-08-23T05:56:08.643Z"
   },
   {
    "duration": 0,
    "start_time": "2022-08-23T05:56:08.644Z"
   },
   {
    "duration": 0,
    "start_time": "2022-08-23T05:56:08.645Z"
   },
   {
    "duration": 0,
    "start_time": "2022-08-23T05:56:08.646Z"
   },
   {
    "duration": 0,
    "start_time": "2022-08-23T05:56:08.646Z"
   },
   {
    "duration": 0,
    "start_time": "2022-08-23T05:56:08.648Z"
   },
   {
    "duration": 0,
    "start_time": "2022-08-23T05:56:08.648Z"
   },
   {
    "duration": 0,
    "start_time": "2022-08-23T05:56:08.649Z"
   },
   {
    "duration": 0,
    "start_time": "2022-08-23T05:56:08.650Z"
   },
   {
    "duration": 0,
    "start_time": "2022-08-23T05:56:08.651Z"
   },
   {
    "duration": 0,
    "start_time": "2022-08-23T05:56:08.652Z"
   },
   {
    "duration": 0,
    "start_time": "2022-08-23T05:56:08.653Z"
   },
   {
    "duration": 0,
    "start_time": "2022-08-23T05:56:08.654Z"
   },
   {
    "duration": 0,
    "start_time": "2022-08-23T05:56:08.655Z"
   },
   {
    "duration": 0,
    "start_time": "2022-08-23T05:56:08.656Z"
   },
   {
    "duration": 0,
    "start_time": "2022-08-23T05:56:08.657Z"
   },
   {
    "duration": 0,
    "start_time": "2022-08-23T05:56:08.659Z"
   },
   {
    "duration": 0,
    "start_time": "2022-08-23T05:56:08.660Z"
   },
   {
    "duration": 0,
    "start_time": "2022-08-23T05:56:08.661Z"
   },
   {
    "duration": 0,
    "start_time": "2022-08-23T05:56:08.663Z"
   },
   {
    "duration": 0,
    "start_time": "2022-08-23T05:56:08.698Z"
   },
   {
    "duration": 0,
    "start_time": "2022-08-23T05:56:08.700Z"
   },
   {
    "duration": 0,
    "start_time": "2022-08-23T05:56:08.701Z"
   },
   {
    "duration": 0,
    "start_time": "2022-08-23T05:56:08.703Z"
   },
   {
    "duration": 0,
    "start_time": "2022-08-23T05:56:08.704Z"
   },
   {
    "duration": 0,
    "start_time": "2022-08-23T05:56:08.705Z"
   },
   {
    "duration": 0,
    "start_time": "2022-08-23T05:56:08.706Z"
   },
   {
    "duration": 0,
    "start_time": "2022-08-23T05:56:08.708Z"
   },
   {
    "duration": 0,
    "start_time": "2022-08-23T05:56:08.709Z"
   },
   {
    "duration": 6,
    "start_time": "2022-08-23T06:21:13.298Z"
   },
   {
    "duration": 51,
    "start_time": "2022-08-23T06:21:13.306Z"
   },
   {
    "duration": 10,
    "start_time": "2022-08-23T06:21:13.359Z"
   },
   {
    "duration": 39,
    "start_time": "2022-08-23T06:21:13.370Z"
   },
   {
    "duration": 6,
    "start_time": "2022-08-23T06:21:13.410Z"
   },
   {
    "duration": 14,
    "start_time": "2022-08-23T06:21:13.417Z"
   },
   {
    "duration": 22,
    "start_time": "2022-08-23T06:21:13.432Z"
   },
   {
    "duration": 152,
    "start_time": "2022-08-23T06:21:13.455Z"
   },
   {
    "duration": 159,
    "start_time": "2022-08-23T06:21:13.608Z"
   },
   {
    "duration": 6,
    "start_time": "2022-08-23T06:21:13.769Z"
   },
   {
    "duration": 9,
    "start_time": "2022-08-23T06:21:13.777Z"
   },
   {
    "duration": 18,
    "start_time": "2022-08-23T06:21:13.788Z"
   },
   {
    "duration": 113,
    "start_time": "2022-08-23T06:21:13.807Z"
   },
   {
    "duration": 4,
    "start_time": "2022-08-23T06:21:13.922Z"
   },
   {
    "duration": 6,
    "start_time": "2022-08-23T06:21:13.927Z"
   },
   {
    "duration": 9,
    "start_time": "2022-08-23T06:21:13.934Z"
   },
   {
    "duration": 9,
    "start_time": "2022-08-23T06:21:13.944Z"
   },
   {
    "duration": 5,
    "start_time": "2022-08-23T06:21:13.954Z"
   },
   {
    "duration": 38,
    "start_time": "2022-08-23T06:21:13.961Z"
   },
   {
    "duration": 7,
    "start_time": "2022-08-23T06:21:14.001Z"
   },
   {
    "duration": 35,
    "start_time": "2022-08-23T06:21:14.009Z"
   },
   {
    "duration": 13,
    "start_time": "2022-08-23T06:21:14.046Z"
   },
   {
    "duration": 10,
    "start_time": "2022-08-23T06:21:14.060Z"
   },
   {
    "duration": 32,
    "start_time": "2022-08-23T06:21:14.071Z"
   },
   {
    "duration": 7,
    "start_time": "2022-08-23T06:21:14.105Z"
   },
   {
    "duration": 27578,
    "start_time": "2022-08-23T06:21:14.113Z"
   },
   {
    "duration": 15,
    "start_time": "2022-08-23T06:21:41.692Z"
   },
   {
    "duration": 117,
    "start_time": "2022-08-23T06:21:41.708Z"
   },
   {
    "duration": 5,
    "start_time": "2022-08-23T06:21:41.829Z"
   },
   {
    "duration": 5,
    "start_time": "2022-08-23T06:21:41.835Z"
   },
   {
    "duration": 6,
    "start_time": "2022-08-23T06:21:41.841Z"
   },
   {
    "duration": 9,
    "start_time": "2022-08-23T06:21:41.848Z"
   },
   {
    "duration": 0,
    "start_time": "2022-08-23T06:21:41.858Z"
   },
   {
    "duration": 0,
    "start_time": "2022-08-23T06:21:41.859Z"
   },
   {
    "duration": 0,
    "start_time": "2022-08-23T06:21:41.860Z"
   },
   {
    "duration": 0,
    "start_time": "2022-08-23T06:21:41.861Z"
   },
   {
    "duration": 0,
    "start_time": "2022-08-23T06:21:41.862Z"
   },
   {
    "duration": 0,
    "start_time": "2022-08-23T06:21:41.862Z"
   },
   {
    "duration": 0,
    "start_time": "2022-08-23T06:21:41.863Z"
   },
   {
    "duration": 0,
    "start_time": "2022-08-23T06:21:41.863Z"
   },
   {
    "duration": 0,
    "start_time": "2022-08-23T06:21:41.898Z"
   },
   {
    "duration": 0,
    "start_time": "2022-08-23T06:21:41.899Z"
   },
   {
    "duration": 0,
    "start_time": "2022-08-23T06:21:41.899Z"
   },
   {
    "duration": 0,
    "start_time": "2022-08-23T06:21:41.900Z"
   },
   {
    "duration": 0,
    "start_time": "2022-08-23T06:21:41.901Z"
   },
   {
    "duration": 0,
    "start_time": "2022-08-23T06:21:41.902Z"
   },
   {
    "duration": 0,
    "start_time": "2022-08-23T06:21:41.903Z"
   },
   {
    "duration": 0,
    "start_time": "2022-08-23T06:21:41.904Z"
   },
   {
    "duration": 0,
    "start_time": "2022-08-23T06:21:41.905Z"
   },
   {
    "duration": 0,
    "start_time": "2022-08-23T06:21:41.906Z"
   },
   {
    "duration": 0,
    "start_time": "2022-08-23T06:21:41.907Z"
   },
   {
    "duration": 0,
    "start_time": "2022-08-23T06:21:41.907Z"
   },
   {
    "duration": 6,
    "start_time": "2022-08-23T06:26:42.170Z"
   },
   {
    "duration": 52,
    "start_time": "2022-08-23T06:26:42.177Z"
   },
   {
    "duration": 10,
    "start_time": "2022-08-23T06:26:42.231Z"
   },
   {
    "duration": 33,
    "start_time": "2022-08-23T06:26:42.242Z"
   },
   {
    "duration": 5,
    "start_time": "2022-08-23T06:26:42.277Z"
   },
   {
    "duration": 20,
    "start_time": "2022-08-23T06:26:42.283Z"
   },
   {
    "duration": 8,
    "start_time": "2022-08-23T06:26:42.305Z"
   },
   {
    "duration": 167,
    "start_time": "2022-08-23T06:26:42.314Z"
   },
   {
    "duration": 150,
    "start_time": "2022-08-23T06:26:42.482Z"
   },
   {
    "duration": 5,
    "start_time": "2022-08-23T06:26:42.634Z"
   },
   {
    "duration": 12,
    "start_time": "2022-08-23T06:26:42.641Z"
   },
   {
    "duration": 8,
    "start_time": "2022-08-23T06:26:42.654Z"
   },
   {
    "duration": 117,
    "start_time": "2022-08-23T06:26:42.663Z"
   },
   {
    "duration": 4,
    "start_time": "2022-08-23T06:26:42.781Z"
   },
   {
    "duration": 12,
    "start_time": "2022-08-23T06:26:42.786Z"
   },
   {
    "duration": 6,
    "start_time": "2022-08-23T06:26:42.799Z"
   },
   {
    "duration": 8,
    "start_time": "2022-08-23T06:26:42.807Z"
   },
   {
    "duration": 4,
    "start_time": "2022-08-23T06:26:42.816Z"
   },
   {
    "duration": 12,
    "start_time": "2022-08-23T06:26:42.821Z"
   },
   {
    "duration": 7,
    "start_time": "2022-08-23T06:26:42.834Z"
   },
   {
    "duration": 39,
    "start_time": "2022-08-23T06:26:42.842Z"
   },
   {
    "duration": 26,
    "start_time": "2022-08-23T06:26:42.882Z"
   },
   {
    "duration": 9,
    "start_time": "2022-08-23T06:26:42.909Z"
   },
   {
    "duration": 10,
    "start_time": "2022-08-23T06:26:42.920Z"
   },
   {
    "duration": 5,
    "start_time": "2022-08-23T06:26:42.931Z"
   },
   {
    "duration": 27269,
    "start_time": "2022-08-23T06:26:42.937Z"
   },
   {
    "duration": 15,
    "start_time": "2022-08-23T06:27:10.207Z"
   },
   {
    "duration": 137,
    "start_time": "2022-08-23T06:27:10.223Z"
   },
   {
    "duration": 6,
    "start_time": "2022-08-23T06:27:10.363Z"
   },
   {
    "duration": 3,
    "start_time": "2022-08-23T06:27:10.371Z"
   },
   {
    "duration": 7,
    "start_time": "2022-08-23T06:27:10.376Z"
   },
   {
    "duration": 15,
    "start_time": "2022-08-23T06:27:10.399Z"
   },
   {
    "duration": 6,
    "start_time": "2022-08-23T06:27:10.416Z"
   },
   {
    "duration": 26,
    "start_time": "2022-08-23T06:27:10.424Z"
   },
   {
    "duration": 5,
    "start_time": "2022-08-23T06:27:10.451Z"
   },
   {
    "duration": 9,
    "start_time": "2022-08-23T06:27:10.458Z"
   },
   {
    "duration": 39481,
    "start_time": "2022-08-23T06:27:10.468Z"
   },
   {
    "duration": 13,
    "start_time": "2022-08-23T06:27:49.951Z"
   },
   {
    "duration": 126,
    "start_time": "2022-08-23T06:27:49.966Z"
   },
   {
    "duration": 7,
    "start_time": "2022-08-23T06:27:50.094Z"
   },
   {
    "duration": 4,
    "start_time": "2022-08-23T06:27:50.102Z"
   },
   {
    "duration": 9,
    "start_time": "2022-08-23T06:27:50.107Z"
   },
   {
    "duration": 4,
    "start_time": "2022-08-23T06:27:50.117Z"
   },
   {
    "duration": 9,
    "start_time": "2022-08-23T06:27:50.123Z"
   },
   {
    "duration": 0,
    "start_time": "2022-08-23T06:27:50.134Z"
   },
   {
    "duration": 0,
    "start_time": "2022-08-23T06:27:50.135Z"
   },
   {
    "duration": 0,
    "start_time": "2022-08-23T06:27:50.135Z"
   },
   {
    "duration": 0,
    "start_time": "2022-08-23T06:27:50.136Z"
   },
   {
    "duration": 0,
    "start_time": "2022-08-23T06:27:50.137Z"
   },
   {
    "duration": 0,
    "start_time": "2022-08-23T06:27:50.138Z"
   },
   {
    "duration": 0,
    "start_time": "2022-08-23T06:27:50.139Z"
   },
   {
    "duration": 0,
    "start_time": "2022-08-23T06:27:50.140Z"
   },
   {
    "duration": 7,
    "start_time": "2022-08-23T06:30:35.766Z"
   },
   {
    "duration": 77,
    "start_time": "2022-08-23T06:30:35.775Z"
   },
   {
    "duration": 11,
    "start_time": "2022-08-23T06:30:35.854Z"
   },
   {
    "duration": 36,
    "start_time": "2022-08-23T06:30:35.866Z"
   },
   {
    "duration": 6,
    "start_time": "2022-08-23T06:30:35.904Z"
   },
   {
    "duration": 14,
    "start_time": "2022-08-23T06:30:35.911Z"
   },
   {
    "duration": 7,
    "start_time": "2022-08-23T06:30:35.927Z"
   },
   {
    "duration": 218,
    "start_time": "2022-08-23T06:30:35.936Z"
   },
   {
    "duration": 173,
    "start_time": "2022-08-23T06:30:36.155Z"
   },
   {
    "duration": 5,
    "start_time": "2022-08-23T06:30:36.329Z"
   },
   {
    "duration": 8,
    "start_time": "2022-08-23T06:30:36.336Z"
   },
   {
    "duration": 15,
    "start_time": "2022-08-23T06:30:36.346Z"
   },
   {
    "duration": 150,
    "start_time": "2022-08-23T06:30:36.363Z"
   },
   {
    "duration": 5,
    "start_time": "2022-08-23T06:30:36.515Z"
   },
   {
    "duration": 5,
    "start_time": "2022-08-23T06:30:36.521Z"
   },
   {
    "duration": 5,
    "start_time": "2022-08-23T06:30:36.527Z"
   },
   {
    "duration": 9,
    "start_time": "2022-08-23T06:30:36.534Z"
   },
   {
    "duration": 6,
    "start_time": "2022-08-23T06:30:36.545Z"
   },
   {
    "duration": 17,
    "start_time": "2022-08-23T06:30:36.553Z"
   },
   {
    "duration": 27,
    "start_time": "2022-08-23T06:30:36.572Z"
   },
   {
    "duration": 42,
    "start_time": "2022-08-23T06:30:36.602Z"
   },
   {
    "duration": 12,
    "start_time": "2022-08-23T06:30:36.646Z"
   },
   {
    "duration": 10,
    "start_time": "2022-08-23T06:30:36.660Z"
   },
   {
    "duration": 27,
    "start_time": "2022-08-23T06:30:36.672Z"
   },
   {
    "duration": 5,
    "start_time": "2022-08-23T06:30:36.701Z"
   },
   {
    "duration": 28357,
    "start_time": "2022-08-23T06:30:36.707Z"
   },
   {
    "duration": 10,
    "start_time": "2022-08-23T06:31:05.066Z"
   },
   {
    "duration": 132,
    "start_time": "2022-08-23T06:31:05.078Z"
   },
   {
    "duration": 5,
    "start_time": "2022-08-23T06:31:05.213Z"
   },
   {
    "duration": 9,
    "start_time": "2022-08-23T06:31:05.220Z"
   },
   {
    "duration": 8,
    "start_time": "2022-08-23T06:31:05.230Z"
   },
   {
    "duration": 19,
    "start_time": "2022-08-23T06:31:05.240Z"
   },
   {
    "duration": 9,
    "start_time": "2022-08-23T06:31:05.261Z"
   },
   {
    "duration": 9,
    "start_time": "2022-08-23T06:31:05.271Z"
   },
   {
    "duration": 5,
    "start_time": "2022-08-23T06:31:05.298Z"
   },
   {
    "duration": 9,
    "start_time": "2022-08-23T06:31:05.304Z"
   },
   {
    "duration": 39367,
    "start_time": "2022-08-23T06:31:05.314Z"
   },
   {
    "duration": 19,
    "start_time": "2022-08-23T06:31:44.682Z"
   },
   {
    "duration": 118,
    "start_time": "2022-08-23T06:31:44.702Z"
   },
   {
    "duration": 5,
    "start_time": "2022-08-23T06:31:44.821Z"
   },
   {
    "duration": 4,
    "start_time": "2022-08-23T06:31:44.828Z"
   },
   {
    "duration": 16,
    "start_time": "2022-08-23T06:31:44.833Z"
   },
   {
    "duration": 7,
    "start_time": "2022-08-23T06:31:44.850Z"
   },
   {
    "duration": 13,
    "start_time": "2022-08-23T06:31:44.858Z"
   },
   {
    "duration": 8,
    "start_time": "2022-08-23T06:31:44.872Z"
   },
   {
    "duration": 16,
    "start_time": "2022-08-23T06:31:44.882Z"
   },
   {
    "duration": 532,
    "start_time": "2022-08-23T06:31:44.900Z"
   },
   {
    "duration": 8,
    "start_time": "2022-08-23T06:31:45.434Z"
   },
   {
    "duration": 0,
    "start_time": "2022-08-23T06:31:45.444Z"
   },
   {
    "duration": 0,
    "start_time": "2022-08-23T06:31:45.445Z"
   },
   {
    "duration": 0,
    "start_time": "2022-08-23T06:31:45.446Z"
   },
   {
    "duration": 0,
    "start_time": "2022-08-23T06:31:45.448Z"
   },
   {
    "duration": 6,
    "start_time": "2022-08-23T06:32:17.858Z"
   },
   {
    "duration": 62,
    "start_time": "2022-08-23T06:32:17.866Z"
   },
   {
    "duration": 10,
    "start_time": "2022-08-23T06:32:17.930Z"
   },
   {
    "duration": 33,
    "start_time": "2022-08-23T06:32:17.942Z"
   },
   {
    "duration": 5,
    "start_time": "2022-08-23T06:32:17.977Z"
   },
   {
    "duration": 21,
    "start_time": "2022-08-23T06:32:17.983Z"
   },
   {
    "duration": 6,
    "start_time": "2022-08-23T06:32:18.005Z"
   },
   {
    "duration": 172,
    "start_time": "2022-08-23T06:32:18.012Z"
   },
   {
    "duration": 160,
    "start_time": "2022-08-23T06:32:18.186Z"
   },
   {
    "duration": 4,
    "start_time": "2022-08-23T06:32:18.347Z"
   },
   {
    "duration": 10,
    "start_time": "2022-08-23T06:32:18.353Z"
   },
   {
    "duration": 11,
    "start_time": "2022-08-23T06:32:18.365Z"
   },
   {
    "duration": 188,
    "start_time": "2022-08-23T06:32:18.377Z"
   },
   {
    "duration": 4,
    "start_time": "2022-08-23T06:32:18.566Z"
   },
   {
    "duration": 6,
    "start_time": "2022-08-23T06:32:18.571Z"
   },
   {
    "duration": 5,
    "start_time": "2022-08-23T06:32:18.578Z"
   },
   {
    "duration": 17,
    "start_time": "2022-08-23T06:32:18.584Z"
   },
   {
    "duration": 10,
    "start_time": "2022-08-23T06:32:18.602Z"
   },
   {
    "duration": 13,
    "start_time": "2022-08-23T06:32:18.613Z"
   },
   {
    "duration": 8,
    "start_time": "2022-08-23T06:32:18.627Z"
   },
   {
    "duration": 42,
    "start_time": "2022-08-23T06:32:18.637Z"
   },
   {
    "duration": 19,
    "start_time": "2022-08-23T06:32:18.680Z"
   },
   {
    "duration": 7,
    "start_time": "2022-08-23T06:32:18.701Z"
   },
   {
    "duration": 9,
    "start_time": "2022-08-23T06:32:18.709Z"
   },
   {
    "duration": 5,
    "start_time": "2022-08-23T06:32:18.719Z"
   },
   {
    "duration": 27362,
    "start_time": "2022-08-23T06:32:18.725Z"
   },
   {
    "duration": 11,
    "start_time": "2022-08-23T06:32:46.098Z"
   },
   {
    "duration": 123,
    "start_time": "2022-08-23T06:32:46.111Z"
   },
   {
    "duration": 6,
    "start_time": "2022-08-23T06:32:46.237Z"
   },
   {
    "duration": 3,
    "start_time": "2022-08-23T06:32:46.244Z"
   },
   {
    "duration": 6,
    "start_time": "2022-08-23T06:32:46.249Z"
   },
   {
    "duration": 13,
    "start_time": "2022-08-23T06:32:46.256Z"
   },
   {
    "duration": 28,
    "start_time": "2022-08-23T06:32:46.271Z"
   },
   {
    "duration": 8,
    "start_time": "2022-08-23T06:32:46.300Z"
   },
   {
    "duration": 4,
    "start_time": "2022-08-23T06:32:46.309Z"
   },
   {
    "duration": 7,
    "start_time": "2022-08-23T06:32:46.314Z"
   },
   {
    "duration": 39812,
    "start_time": "2022-08-23T06:32:46.322Z"
   },
   {
    "duration": 13,
    "start_time": "2022-08-23T06:33:26.135Z"
   },
   {
    "duration": 124,
    "start_time": "2022-08-23T06:33:26.149Z"
   },
   {
    "duration": 5,
    "start_time": "2022-08-23T06:33:26.275Z"
   },
   {
    "duration": 4,
    "start_time": "2022-08-23T06:33:26.281Z"
   },
   {
    "duration": 7,
    "start_time": "2022-08-23T06:33:26.298Z"
   },
   {
    "duration": 5,
    "start_time": "2022-08-23T06:33:26.306Z"
   },
   {
    "duration": 11,
    "start_time": "2022-08-23T06:33:26.312Z"
   },
   {
    "duration": 4,
    "start_time": "2022-08-23T06:33:26.325Z"
   },
   {
    "duration": 5,
    "start_time": "2022-08-23T06:33:26.330Z"
   },
   {
    "duration": 522,
    "start_time": "2022-08-23T06:33:26.336Z"
   },
   {
    "duration": 4,
    "start_time": "2022-08-23T06:33:26.860Z"
   },
   {
    "duration": 9,
    "start_time": "2022-08-23T06:33:26.865Z"
   },
   {
    "duration": 0,
    "start_time": "2022-08-23T06:33:26.875Z"
   },
   {
    "duration": 0,
    "start_time": "2022-08-23T06:33:26.876Z"
   },
   {
    "duration": 0,
    "start_time": "2022-08-23T06:33:26.878Z"
   },
   {
    "duration": 8,
    "start_time": "2022-08-23T06:34:20.710Z"
   },
   {
    "duration": 5,
    "start_time": "2022-08-23T06:34:22.834Z"
   },
   {
    "duration": 7,
    "start_time": "2022-08-23T06:34:29.266Z"
   },
   {
    "duration": 5,
    "start_time": "2022-08-23T06:34:31.463Z"
   },
   {
    "duration": 8,
    "start_time": "2022-08-23T06:34:37.122Z"
   },
   {
    "duration": 4,
    "start_time": "2022-08-23T06:34:39.375Z"
   },
   {
    "duration": 8,
    "start_time": "2022-08-23T06:34:44.754Z"
   },
   {
    "duration": 5,
    "start_time": "2022-08-23T06:34:48.334Z"
   },
   {
    "duration": 8,
    "start_time": "2022-08-23T06:34:58.310Z"
   },
   {
    "duration": 5,
    "start_time": "2022-08-23T06:35:00.159Z"
   },
   {
    "duration": 6,
    "start_time": "2022-08-23T06:40:06.527Z"
   },
   {
    "duration": 57,
    "start_time": "2022-08-23T06:40:06.535Z"
   },
   {
    "duration": 9,
    "start_time": "2022-08-23T06:40:06.594Z"
   },
   {
    "duration": 30,
    "start_time": "2022-08-23T06:40:06.605Z"
   },
   {
    "duration": 5,
    "start_time": "2022-08-23T06:40:06.636Z"
   },
   {
    "duration": 11,
    "start_time": "2022-08-23T06:40:06.643Z"
   },
   {
    "duration": 9,
    "start_time": "2022-08-23T06:40:06.656Z"
   },
   {
    "duration": 165,
    "start_time": "2022-08-23T06:40:06.666Z"
   },
   {
    "duration": 149,
    "start_time": "2022-08-23T06:40:06.833Z"
   },
   {
    "duration": 5,
    "start_time": "2022-08-23T06:40:06.984Z"
   },
   {
    "duration": 5,
    "start_time": "2022-08-23T06:40:06.998Z"
   },
   {
    "duration": 6,
    "start_time": "2022-08-23T06:40:07.004Z"
   },
   {
    "duration": 122,
    "start_time": "2022-08-23T06:40:07.012Z"
   },
   {
    "duration": 4,
    "start_time": "2022-08-23T06:40:07.136Z"
   },
   {
    "duration": 7,
    "start_time": "2022-08-23T06:40:07.141Z"
   },
   {
    "duration": 5,
    "start_time": "2022-08-23T06:40:07.149Z"
   },
   {
    "duration": 18,
    "start_time": "2022-08-23T06:40:07.155Z"
   },
   {
    "duration": 5,
    "start_time": "2022-08-23T06:40:07.174Z"
   },
   {
    "duration": 21,
    "start_time": "2022-08-23T06:40:07.180Z"
   },
   {
    "duration": 4,
    "start_time": "2022-08-23T06:40:07.203Z"
   },
   {
    "duration": 34,
    "start_time": "2022-08-23T06:40:07.208Z"
   },
   {
    "duration": 12,
    "start_time": "2022-08-23T06:40:07.244Z"
   },
   {
    "duration": 8,
    "start_time": "2022-08-23T06:40:07.258Z"
   },
   {
    "duration": 37,
    "start_time": "2022-08-23T06:40:07.270Z"
   },
   {
    "duration": 6,
    "start_time": "2022-08-23T06:40:07.309Z"
   },
   {
    "duration": 27113,
    "start_time": "2022-08-23T06:40:07.316Z"
   },
   {
    "duration": 13,
    "start_time": "2022-08-23T06:40:34.431Z"
   },
   {
    "duration": 147,
    "start_time": "2022-08-23T06:40:34.446Z"
   },
   {
    "duration": 6,
    "start_time": "2022-08-23T06:40:34.597Z"
   },
   {
    "duration": 4,
    "start_time": "2022-08-23T06:40:34.604Z"
   },
   {
    "duration": 7,
    "start_time": "2022-08-23T06:40:34.610Z"
   },
   {
    "duration": 17,
    "start_time": "2022-08-23T06:40:34.619Z"
   },
   {
    "duration": 5,
    "start_time": "2022-08-23T06:40:34.638Z"
   },
   {
    "duration": 9,
    "start_time": "2022-08-23T06:40:34.644Z"
   },
   {
    "duration": 4,
    "start_time": "2022-08-23T06:40:34.655Z"
   },
   {
    "duration": 7,
    "start_time": "2022-08-23T06:40:34.660Z"
   },
   {
    "duration": 39019,
    "start_time": "2022-08-23T06:40:34.668Z"
   },
   {
    "duration": 12,
    "start_time": "2022-08-23T06:41:13.698Z"
   },
   {
    "duration": 112,
    "start_time": "2022-08-23T06:41:13.711Z"
   },
   {
    "duration": 5,
    "start_time": "2022-08-23T06:41:13.824Z"
   },
   {
    "duration": 6,
    "start_time": "2022-08-23T06:41:13.830Z"
   },
   {
    "duration": 11,
    "start_time": "2022-08-23T06:41:13.837Z"
   },
   {
    "duration": 4,
    "start_time": "2022-08-23T06:41:13.849Z"
   },
   {
    "duration": 6,
    "start_time": "2022-08-23T06:41:13.855Z"
   },
   {
    "duration": 4,
    "start_time": "2022-08-23T06:41:13.862Z"
   },
   {
    "duration": 32,
    "start_time": "2022-08-23T06:41:13.867Z"
   },
   {
    "duration": 4,
    "start_time": "2022-08-23T06:41:13.900Z"
   },
   {
    "duration": 5,
    "start_time": "2022-08-23T06:41:13.906Z"
   },
   {
    "duration": 542,
    "start_time": "2022-08-23T06:41:13.912Z"
   },
   {
    "duration": 5,
    "start_time": "2022-08-23T06:41:14.456Z"
   },
   {
    "duration": 21,
    "start_time": "2022-08-23T06:41:14.463Z"
   },
   {
    "duration": 16,
    "start_time": "2022-08-23T06:41:14.486Z"
   },
   {
    "duration": 142,
    "start_time": "2022-08-23T06:41:14.503Z"
   },
   {
    "duration": 5,
    "start_time": "2022-08-23T06:41:14.646Z"
   },
   {
    "duration": 4,
    "start_time": "2022-08-23T06:43:45.571Z"
   },
   {
    "duration": 13245,
    "start_time": "2022-08-23T06:48:08.971Z"
   },
   {
    "duration": 13,
    "start_time": "2022-08-23T06:49:08.420Z"
   },
   {
    "duration": 108,
    "start_time": "2022-08-23T06:49:13.772Z"
   },
   {
    "duration": 6,
    "start_time": "2022-08-23T06:49:18.672Z"
   },
   {
    "duration": 13,
    "start_time": "2022-08-23T06:49:49.683Z"
   },
   {
    "duration": 113,
    "start_time": "2022-08-23T06:50:34.556Z"
   },
   {
    "duration": 5,
    "start_time": "2022-08-23T06:50:56.364Z"
   },
   {
    "duration": 6,
    "start_time": "2022-08-23T06:51:07.192Z"
   },
   {
    "duration": 53,
    "start_time": "2022-08-23T06:51:07.200Z"
   },
   {
    "duration": 11,
    "start_time": "2022-08-23T06:51:07.255Z"
   },
   {
    "duration": 36,
    "start_time": "2022-08-23T06:51:07.268Z"
   },
   {
    "duration": 5,
    "start_time": "2022-08-23T06:51:07.306Z"
   },
   {
    "duration": 8,
    "start_time": "2022-08-23T06:51:07.313Z"
   },
   {
    "duration": 9,
    "start_time": "2022-08-23T06:51:07.322Z"
   },
   {
    "duration": 168,
    "start_time": "2022-08-23T06:51:07.332Z"
   },
   {
    "duration": 226,
    "start_time": "2022-08-23T06:51:07.501Z"
   },
   {
    "duration": 5,
    "start_time": "2022-08-23T06:51:07.728Z"
   },
   {
    "duration": 7,
    "start_time": "2022-08-23T06:51:07.735Z"
   },
   {
    "duration": 10,
    "start_time": "2022-08-23T06:51:07.743Z"
   },
   {
    "duration": 123,
    "start_time": "2022-08-23T06:51:07.754Z"
   },
   {
    "duration": 4,
    "start_time": "2022-08-23T06:51:07.878Z"
   },
   {
    "duration": 5,
    "start_time": "2022-08-23T06:51:07.883Z"
   },
   {
    "duration": 3,
    "start_time": "2022-08-23T06:51:07.899Z"
   },
   {
    "duration": 8,
    "start_time": "2022-08-23T06:51:07.903Z"
   },
   {
    "duration": 7,
    "start_time": "2022-08-23T06:51:07.913Z"
   },
   {
    "duration": 12,
    "start_time": "2022-08-23T06:51:07.921Z"
   },
   {
    "duration": 5,
    "start_time": "2022-08-23T06:51:07.935Z"
   },
   {
    "duration": 35,
    "start_time": "2022-08-23T06:51:07.941Z"
   },
   {
    "duration": 32,
    "start_time": "2022-08-23T06:51:07.977Z"
   },
   {
    "duration": 9,
    "start_time": "2022-08-23T06:51:08.010Z"
   },
   {
    "duration": 9,
    "start_time": "2022-08-23T06:51:08.021Z"
   },
   {
    "duration": 10,
    "start_time": "2022-08-23T06:51:08.031Z"
   },
   {
    "duration": 27423,
    "start_time": "2022-08-23T06:51:08.042Z"
   },
   {
    "duration": 11,
    "start_time": "2022-08-23T06:51:35.466Z"
   },
   {
    "duration": 121,
    "start_time": "2022-08-23T06:51:35.479Z"
   },
   {
    "duration": 5,
    "start_time": "2022-08-23T06:51:35.603Z"
   },
   {
    "duration": 3,
    "start_time": "2022-08-23T06:51:35.610Z"
   },
   {
    "duration": 8,
    "start_time": "2022-08-23T06:51:35.614Z"
   },
   {
    "duration": 15,
    "start_time": "2022-08-23T06:51:35.623Z"
   },
   {
    "duration": 7,
    "start_time": "2022-08-23T06:51:35.639Z"
   },
   {
    "duration": 8,
    "start_time": "2022-08-23T06:51:35.648Z"
   },
   {
    "duration": 6,
    "start_time": "2022-08-23T06:51:35.657Z"
   },
   {
    "duration": 10,
    "start_time": "2022-08-23T06:51:35.664Z"
   },
   {
    "duration": 39893,
    "start_time": "2022-08-23T06:51:35.698Z"
   },
   {
    "duration": 13,
    "start_time": "2022-08-23T06:52:15.598Z"
   },
   {
    "duration": 116,
    "start_time": "2022-08-23T06:52:15.612Z"
   },
   {
    "duration": 6,
    "start_time": "2022-08-23T06:52:15.729Z"
   },
   {
    "duration": 4,
    "start_time": "2022-08-23T06:52:15.736Z"
   },
   {
    "duration": 9,
    "start_time": "2022-08-23T06:52:15.742Z"
   },
   {
    "duration": 4,
    "start_time": "2022-08-23T06:52:15.752Z"
   },
   {
    "duration": 5,
    "start_time": "2022-08-23T06:52:15.757Z"
   },
   {
    "duration": 13515,
    "start_time": "2022-08-23T06:52:15.763Z"
   },
   {
    "duration": 26,
    "start_time": "2022-08-23T06:52:29.280Z"
   },
   {
    "duration": 118,
    "start_time": "2022-08-23T06:52:29.307Z"
   },
   {
    "duration": 6,
    "start_time": "2022-08-23T06:52:29.427Z"
   },
   {
    "duration": 6,
    "start_time": "2022-08-23T06:52:29.434Z"
   },
   {
    "duration": 9,
    "start_time": "2022-08-23T06:52:29.441Z"
   },
   {
    "duration": 5,
    "start_time": "2022-08-23T06:52:29.452Z"
   },
   {
    "duration": 5,
    "start_time": "2022-08-23T06:52:29.458Z"
   },
   {
    "duration": 542,
    "start_time": "2022-08-23T06:52:29.464Z"
   },
   {
    "duration": 4,
    "start_time": "2022-08-23T06:52:30.008Z"
   },
   {
    "duration": 28,
    "start_time": "2022-08-23T06:52:30.013Z"
   },
   {
    "duration": 5,
    "start_time": "2022-08-23T06:52:30.043Z"
   },
   {
    "duration": 116,
    "start_time": "2022-08-23T06:52:30.049Z"
   },
   {
    "duration": 5,
    "start_time": "2022-08-23T06:52:30.166Z"
   },
   {
    "duration": 2031,
    "start_time": "2022-08-24T09:21:58.721Z"
   },
   {
    "duration": 199,
    "start_time": "2022-08-24T09:22:00.755Z"
   },
   {
    "duration": 26,
    "start_time": "2022-08-24T09:22:00.957Z"
   },
   {
    "duration": 84,
    "start_time": "2022-08-24T09:22:00.985Z"
   },
   {
    "duration": 8,
    "start_time": "2022-08-24T09:22:01.072Z"
   },
   {
    "duration": 15,
    "start_time": "2022-08-24T09:22:01.083Z"
   },
   {
    "duration": 16,
    "start_time": "2022-08-24T09:22:01.100Z"
   },
   {
    "duration": 257,
    "start_time": "2022-08-24T09:22:01.118Z"
   },
   {
    "duration": 272,
    "start_time": "2022-08-24T09:22:01.377Z"
   },
   {
    "duration": 6,
    "start_time": "2022-08-24T09:22:01.652Z"
   },
   {
    "duration": 53,
    "start_time": "2022-08-24T09:22:01.669Z"
   },
   {
    "duration": 21,
    "start_time": "2022-08-24T09:22:01.724Z"
   },
   {
    "duration": 221,
    "start_time": "2022-08-24T09:22:01.747Z"
   },
   {
    "duration": 7,
    "start_time": "2022-08-24T09:22:01.971Z"
   },
   {
    "duration": 45,
    "start_time": "2022-08-24T09:22:01.980Z"
   },
   {
    "duration": 46,
    "start_time": "2022-08-24T09:22:02.028Z"
   },
   {
    "duration": 52,
    "start_time": "2022-08-24T09:22:02.076Z"
   },
   {
    "duration": 53,
    "start_time": "2022-08-24T09:22:02.131Z"
   },
   {
    "duration": 46,
    "start_time": "2022-08-24T09:22:02.187Z"
   },
   {
    "duration": 53,
    "start_time": "2022-08-24T09:22:02.236Z"
   },
   {
    "duration": 165,
    "start_time": "2022-08-24T09:22:02.292Z"
   },
   {
    "duration": 19,
    "start_time": "2022-08-24T09:22:02.469Z"
   },
   {
    "duration": 26,
    "start_time": "2022-08-24T09:22:02.490Z"
   },
   {
    "duration": 27,
    "start_time": "2022-08-24T09:22:02.519Z"
   },
   {
    "duration": 20,
    "start_time": "2022-08-24T09:22:02.549Z"
   },
   {
    "duration": 30769,
    "start_time": "2022-08-24T09:22:02.572Z"
   },
   {
    "duration": 27,
    "start_time": "2022-08-24T09:22:33.342Z"
   },
   {
    "duration": 175,
    "start_time": "2022-08-24T09:22:33.371Z"
   },
   {
    "duration": 23,
    "start_time": "2022-08-24T09:22:33.549Z"
   },
   {
    "duration": 7,
    "start_time": "2022-08-24T09:22:33.574Z"
   },
   {
    "duration": 13,
    "start_time": "2022-08-24T09:22:33.584Z"
   },
   {
    "duration": 23,
    "start_time": "2022-08-24T09:22:33.599Z"
   },
   {
    "duration": 20,
    "start_time": "2022-08-24T09:22:33.625Z"
   },
   {
    "duration": 21,
    "start_time": "2022-08-24T09:22:33.647Z"
   },
   {
    "duration": 8,
    "start_time": "2022-08-24T09:22:33.670Z"
   },
   {
    "duration": 19,
    "start_time": "2022-08-24T09:22:33.680Z"
   },
   {
    "duration": 42443,
    "start_time": "2022-08-24T09:22:33.702Z"
   },
   {
    "duration": 32,
    "start_time": "2022-08-24T09:23:16.147Z"
   },
   {
    "duration": 171,
    "start_time": "2022-08-24T09:23:16.181Z"
   },
   {
    "duration": 16,
    "start_time": "2022-08-24T09:23:16.354Z"
   },
   {
    "duration": 7,
    "start_time": "2022-08-24T09:23:16.377Z"
   },
   {
    "duration": 18,
    "start_time": "2022-08-24T09:23:16.387Z"
   },
   {
    "duration": 7,
    "start_time": "2022-08-24T09:23:16.408Z"
   },
   {
    "duration": 9,
    "start_time": "2022-08-24T09:23:16.418Z"
   },
   {
    "duration": 15012,
    "start_time": "2022-08-24T09:23:16.429Z"
   },
   {
    "duration": 33,
    "start_time": "2022-08-24T09:23:31.444Z"
   },
   {
    "duration": 177,
    "start_time": "2022-08-24T09:23:31.479Z"
   },
   {
    "duration": 16,
    "start_time": "2022-08-24T09:23:31.659Z"
   },
   {
    "duration": 9,
    "start_time": "2022-08-24T09:23:31.677Z"
   },
   {
    "duration": 23,
    "start_time": "2022-08-24T09:23:31.688Z"
   },
   {
    "duration": 7,
    "start_time": "2022-08-24T09:23:31.713Z"
   },
   {
    "duration": 11,
    "start_time": "2022-08-24T09:23:31.722Z"
   },
   {
    "duration": 556,
    "start_time": "2022-08-24T09:23:31.736Z"
   },
   {
    "duration": 5,
    "start_time": "2022-08-24T09:23:32.294Z"
   },
   {
    "duration": 28,
    "start_time": "2022-08-24T09:23:32.302Z"
   },
   {
    "duration": 7,
    "start_time": "2022-08-24T09:23:32.332Z"
   },
   {
    "duration": 158,
    "start_time": "2022-08-24T09:23:32.341Z"
   },
   {
    "duration": 9,
    "start_time": "2022-08-24T09:23:32.502Z"
   },
   {
    "duration": 12,
    "start_time": "2022-08-24T09:38:49.890Z"
   },
   {
    "duration": 153,
    "start_time": "2022-08-24T09:38:49.905Z"
   },
   {
    "duration": 18,
    "start_time": "2022-08-24T09:38:50.060Z"
   },
   {
    "duration": 83,
    "start_time": "2022-08-24T09:38:50.083Z"
   },
   {
    "duration": 16,
    "start_time": "2022-08-24T09:38:50.174Z"
   },
   {
    "duration": 62,
    "start_time": "2022-08-24T09:38:50.192Z"
   },
   {
    "duration": 15,
    "start_time": "2022-08-24T09:38:50.256Z"
   },
   {
    "duration": 260,
    "start_time": "2022-08-24T09:38:50.274Z"
   },
   {
    "duration": 277,
    "start_time": "2022-08-24T09:38:50.536Z"
   },
   {
    "duration": 7,
    "start_time": "2022-08-24T09:38:50.816Z"
   },
   {
    "duration": 11,
    "start_time": "2022-08-24T09:38:50.825Z"
   },
   {
    "duration": 44,
    "start_time": "2022-08-24T09:38:50.839Z"
   },
   {
    "duration": 217,
    "start_time": "2022-08-24T09:38:50.887Z"
   },
   {
    "duration": 9,
    "start_time": "2022-08-24T09:38:51.106Z"
   },
   {
    "duration": 12,
    "start_time": "2022-08-24T09:38:51.117Z"
   },
   {
    "duration": 8,
    "start_time": "2022-08-24T09:38:51.131Z"
   },
   {
    "duration": 36,
    "start_time": "2022-08-24T09:38:51.141Z"
   },
   {
    "duration": 23,
    "start_time": "2022-08-24T09:38:51.183Z"
   },
   {
    "duration": 24,
    "start_time": "2022-08-24T09:38:51.209Z"
   },
   {
    "duration": 8,
    "start_time": "2022-08-24T09:38:51.235Z"
   },
   {
    "duration": 91,
    "start_time": "2022-08-24T09:38:51.245Z"
   },
   {
    "duration": 36,
    "start_time": "2022-08-24T09:38:51.339Z"
   },
   {
    "duration": 34,
    "start_time": "2022-08-24T09:38:51.377Z"
   },
   {
    "duration": 22,
    "start_time": "2022-08-24T09:38:51.414Z"
   },
   {
    "duration": 11,
    "start_time": "2022-08-24T09:38:51.438Z"
   },
   {
    "duration": 32641,
    "start_time": "2022-08-24T09:38:51.451Z"
   },
   {
    "duration": 19,
    "start_time": "2022-08-24T09:39:24.093Z"
   },
   {
    "duration": 232,
    "start_time": "2022-08-24T09:39:24.117Z"
   },
   {
    "duration": 18,
    "start_time": "2022-08-24T09:39:24.351Z"
   },
   {
    "duration": 31231,
    "start_time": "2022-08-24T09:39:24.371Z"
   },
   {
    "duration": 5,
    "start_time": "2022-08-24T09:39:55.603Z"
   },
   {
    "duration": 15,
    "start_time": "2022-08-24T09:39:55.611Z"
   },
   {
    "duration": 49,
    "start_time": "2022-08-24T09:39:55.629Z"
   },
   {
    "duration": 11,
    "start_time": "2022-08-24T09:39:55.680Z"
   },
   {
    "duration": 28,
    "start_time": "2022-08-24T09:39:55.694Z"
   },
   {
    "duration": 39,
    "start_time": "2022-08-24T09:39:55.725Z"
   },
   {
    "duration": 77,
    "start_time": "2022-08-24T09:39:55.767Z"
   },
   {
    "duration": 45722,
    "start_time": "2022-08-24T09:39:55.846Z"
   },
   {
    "duration": 22,
    "start_time": "2022-08-24T09:40:41.570Z"
   },
   {
    "duration": 203,
    "start_time": "2022-08-24T09:40:41.594Z"
   },
   {
    "duration": 9,
    "start_time": "2022-08-24T09:40:41.800Z"
   },
   {
    "duration": 7,
    "start_time": "2022-08-24T09:40:41.812Z"
   },
   {
    "duration": 13,
    "start_time": "2022-08-24T09:40:41.821Z"
   },
   {
    "duration": 32,
    "start_time": "2022-08-24T09:40:41.837Z"
   },
   {
    "duration": 8,
    "start_time": "2022-08-24T09:40:41.872Z"
   },
   {
    "duration": 16372,
    "start_time": "2022-08-24T09:40:41.882Z"
   },
   {
    "duration": 26,
    "start_time": "2022-08-24T09:40:58.256Z"
   },
   {
    "duration": 161,
    "start_time": "2022-08-24T09:40:58.284Z"
   },
   {
    "duration": 8,
    "start_time": "2022-08-24T09:40:58.448Z"
   },
   {
    "duration": 9,
    "start_time": "2022-08-24T09:40:58.468Z"
   },
   {
    "duration": 37,
    "start_time": "2022-08-24T09:40:58.479Z"
   },
   {
    "duration": 28,
    "start_time": "2022-08-24T09:40:58.518Z"
   },
   {
    "duration": 21,
    "start_time": "2022-08-24T09:40:58.549Z"
   },
   {
    "duration": 528,
    "start_time": "2022-08-24T09:40:58.572Z"
   },
   {
    "duration": 8,
    "start_time": "2022-08-24T09:40:59.103Z"
   },
   {
    "duration": 23,
    "start_time": "2022-08-24T09:40:59.112Z"
   },
   {
    "duration": 8,
    "start_time": "2022-08-24T09:40:59.137Z"
   },
   {
    "duration": 184,
    "start_time": "2022-08-24T09:40:59.169Z"
   },
   {
    "duration": 15,
    "start_time": "2022-08-24T09:40:59.356Z"
   },
   {
    "duration": 31864,
    "start_time": "2022-08-24T09:41:41.227Z"
   },
   {
    "duration": 18,
    "start_time": "2022-08-24T09:44:48.572Z"
   },
   {
    "duration": 18,
    "start_time": "2022-08-24T09:45:08.448Z"
   },
   {
    "duration": 155,
    "start_time": "2022-08-24T09:46:45.041Z"
   },
   {
    "duration": 146,
    "start_time": "2022-08-24T09:47:14.168Z"
   },
   {
    "duration": 7,
    "start_time": "2022-08-24T09:50:17.467Z"
   },
   {
    "duration": 64,
    "start_time": "2022-08-24T09:50:17.478Z"
   },
   {
    "duration": 14,
    "start_time": "2022-08-24T09:50:17.544Z"
   },
   {
    "duration": 47,
    "start_time": "2022-08-24T09:50:17.560Z"
   },
   {
    "duration": 7,
    "start_time": "2022-08-24T09:50:17.610Z"
   },
   {
    "duration": 13,
    "start_time": "2022-08-24T09:50:17.620Z"
   },
   {
    "duration": 39,
    "start_time": "2022-08-24T09:50:17.635Z"
   },
   {
    "duration": 245,
    "start_time": "2022-08-24T09:50:17.676Z"
   },
   {
    "duration": 232,
    "start_time": "2022-08-24T09:50:17.923Z"
   },
   {
    "duration": 14,
    "start_time": "2022-08-24T09:50:18.157Z"
   },
   {
    "duration": 6,
    "start_time": "2022-08-24T09:50:18.176Z"
   },
   {
    "duration": 11,
    "start_time": "2022-08-24T09:50:18.184Z"
   },
   {
    "duration": 192,
    "start_time": "2022-08-24T09:50:18.196Z"
   },
   {
    "duration": 9,
    "start_time": "2022-08-24T09:50:18.390Z"
   },
   {
    "duration": 10,
    "start_time": "2022-08-24T09:50:18.402Z"
   },
   {
    "duration": 7,
    "start_time": "2022-08-24T09:50:18.414Z"
   },
   {
    "duration": 23,
    "start_time": "2022-08-24T09:50:18.423Z"
   },
   {
    "duration": 9,
    "start_time": "2022-08-24T09:50:18.448Z"
   },
   {
    "duration": 19,
    "start_time": "2022-08-24T09:50:18.469Z"
   },
   {
    "duration": 41,
    "start_time": "2022-08-24T09:50:18.490Z"
   },
   {
    "duration": 147,
    "start_time": "2022-08-24T09:50:18.534Z"
   },
   {
    "duration": 20,
    "start_time": "2022-08-24T09:50:18.684Z"
   },
   {
    "duration": 60,
    "start_time": "2022-08-24T09:50:18.706Z"
   },
   {
    "duration": 42,
    "start_time": "2022-08-24T09:50:18.768Z"
   },
   {
    "duration": 17,
    "start_time": "2022-08-24T09:50:18.813Z"
   },
   {
    "duration": 30827,
    "start_time": "2022-08-24T09:50:18.833Z"
   },
   {
    "duration": 15,
    "start_time": "2022-08-24T09:50:49.669Z"
   },
   {
    "duration": 161,
    "start_time": "2022-08-24T09:50:49.685Z"
   },
   {
    "duration": 19,
    "start_time": "2022-08-24T09:50:49.851Z"
   },
   {
    "duration": 30911,
    "start_time": "2022-08-24T09:50:49.873Z"
   },
   {
    "duration": 19,
    "start_time": "2022-08-24T09:51:20.787Z"
   },
   {
    "duration": 177,
    "start_time": "2022-08-24T09:51:20.808Z"
   },
   {
    "duration": 5,
    "start_time": "2022-08-24T09:51:20.987Z"
   },
   {
    "duration": 9,
    "start_time": "2022-08-24T09:51:20.994Z"
   },
   {
    "duration": 28,
    "start_time": "2022-08-24T09:51:21.005Z"
   },
   {
    "duration": 22,
    "start_time": "2022-08-24T09:51:21.035Z"
   },
   {
    "duration": 32,
    "start_time": "2022-08-24T09:51:21.067Z"
   },
   {
    "duration": 11,
    "start_time": "2022-08-24T09:51:21.101Z"
   },
   {
    "duration": 14,
    "start_time": "2022-08-24T09:51:21.115Z"
   },
   {
    "duration": 43080,
    "start_time": "2022-08-24T09:51:21.131Z"
   },
   {
    "duration": 19,
    "start_time": "2022-08-24T09:52:04.213Z"
   },
   {
    "duration": 166,
    "start_time": "2022-08-24T09:52:04.235Z"
   },
   {
    "duration": 8,
    "start_time": "2022-08-24T09:52:04.403Z"
   },
   {
    "duration": 4,
    "start_time": "2022-08-24T09:52:04.414Z"
   },
   {
    "duration": 13,
    "start_time": "2022-08-24T09:52:04.420Z"
   },
   {
    "duration": 5,
    "start_time": "2022-08-24T09:52:04.436Z"
   },
   {
    "duration": 9,
    "start_time": "2022-08-24T09:52:04.468Z"
   },
   {
    "duration": 15679,
    "start_time": "2022-08-24T09:52:04.479Z"
   },
   {
    "duration": 27,
    "start_time": "2022-08-24T09:52:20.160Z"
   },
   {
    "duration": 192,
    "start_time": "2022-08-24T09:52:20.189Z"
   },
   {
    "duration": 9,
    "start_time": "2022-08-24T09:52:20.384Z"
   },
   {
    "duration": 32,
    "start_time": "2022-08-24T09:52:20.395Z"
   },
   {
    "duration": 58,
    "start_time": "2022-08-24T09:52:20.429Z"
   },
   {
    "duration": 38,
    "start_time": "2022-08-24T09:52:20.489Z"
   },
   {
    "duration": 154,
    "start_time": "2022-08-24T09:52:20.529Z"
   },
   {
    "duration": 584,
    "start_time": "2022-08-24T09:52:20.686Z"
   },
   {
    "duration": 5,
    "start_time": "2022-08-24T09:52:21.272Z"
   },
   {
    "duration": 24,
    "start_time": "2022-08-24T09:52:21.279Z"
   },
   {
    "duration": 8,
    "start_time": "2022-08-24T09:52:21.306Z"
   },
   {
    "duration": 254,
    "start_time": "2022-08-24T09:52:21.317Z"
   },
   {
    "duration": 9,
    "start_time": "2022-08-24T09:52:21.574Z"
   },
   {
    "duration": 7,
    "start_time": "2022-08-24T09:53:29.747Z"
   },
   {
    "duration": 8,
    "start_time": "2022-08-24T09:56:03.130Z"
   },
   {
    "duration": 69,
    "start_time": "2022-08-24T09:56:03.140Z"
   },
   {
    "duration": 14,
    "start_time": "2022-08-24T09:56:03.210Z"
   },
   {
    "duration": 59,
    "start_time": "2022-08-24T09:56:03.227Z"
   },
   {
    "duration": 7,
    "start_time": "2022-08-24T09:56:03.288Z"
   },
   {
    "duration": 15,
    "start_time": "2022-08-24T09:56:03.296Z"
   },
   {
    "duration": 14,
    "start_time": "2022-08-24T09:56:03.313Z"
   },
   {
    "duration": 274,
    "start_time": "2022-08-24T09:56:03.330Z"
   },
   {
    "duration": 235,
    "start_time": "2022-08-24T09:56:03.607Z"
   },
   {
    "duration": 7,
    "start_time": "2022-08-24T09:56:03.844Z"
   },
   {
    "duration": 13,
    "start_time": "2022-08-24T09:56:03.867Z"
   },
   {
    "duration": 32,
    "start_time": "2022-08-24T09:56:03.882Z"
   },
   {
    "duration": 184,
    "start_time": "2022-08-24T09:56:03.917Z"
   },
   {
    "duration": 6,
    "start_time": "2022-08-24T09:56:04.103Z"
   },
   {
    "duration": 15,
    "start_time": "2022-08-24T09:56:04.111Z"
   },
   {
    "duration": 12,
    "start_time": "2022-08-24T09:56:04.128Z"
   },
   {
    "duration": 18,
    "start_time": "2022-08-24T09:56:04.142Z"
   },
   {
    "duration": 21,
    "start_time": "2022-08-24T09:56:04.162Z"
   },
   {
    "duration": 24,
    "start_time": "2022-08-24T09:56:04.185Z"
   },
   {
    "duration": 18,
    "start_time": "2022-08-24T09:56:04.211Z"
   },
   {
    "duration": 50,
    "start_time": "2022-08-24T09:56:04.231Z"
   },
   {
    "duration": 17,
    "start_time": "2022-08-24T09:56:04.283Z"
   },
   {
    "duration": 14,
    "start_time": "2022-08-24T09:56:04.303Z"
   },
   {
    "duration": 14,
    "start_time": "2022-08-24T09:56:04.322Z"
   },
   {
    "duration": 34,
    "start_time": "2022-08-24T09:56:04.338Z"
   },
   {
    "duration": 31247,
    "start_time": "2022-08-24T09:56:04.375Z"
   },
   {
    "duration": 20,
    "start_time": "2022-08-24T09:56:35.624Z"
   },
   {
    "duration": 183,
    "start_time": "2022-08-24T09:56:35.646Z"
   },
   {
    "duration": 8,
    "start_time": "2022-08-24T09:56:35.832Z"
   },
   {
    "duration": 31579,
    "start_time": "2022-08-24T09:56:35.842Z"
   },
   {
    "duration": 20,
    "start_time": "2022-08-24T09:57:07.423Z"
   },
   {
    "duration": 203,
    "start_time": "2022-08-24T09:57:07.445Z"
   },
   {
    "duration": 8,
    "start_time": "2022-08-24T09:57:07.649Z"
   },
   {
    "duration": 8,
    "start_time": "2022-08-24T09:57:07.676Z"
   },
   {
    "duration": 11,
    "start_time": "2022-08-24T09:57:07.686Z"
   },
   {
    "duration": 21,
    "start_time": "2022-08-24T09:57:07.698Z"
   },
   {
    "duration": 7,
    "start_time": "2022-08-24T09:57:07.721Z"
   },
   {
    "duration": 12,
    "start_time": "2022-08-24T09:57:07.729Z"
   },
   {
    "duration": 26,
    "start_time": "2022-08-24T09:57:07.743Z"
   },
   {
    "duration": 10,
    "start_time": "2022-08-24T09:57:07.780Z"
   },
   {
    "duration": 44204,
    "start_time": "2022-08-24T09:57:07.792Z"
   },
   {
    "duration": 23,
    "start_time": "2022-08-24T09:57:51.998Z"
   },
   {
    "duration": 181,
    "start_time": "2022-08-24T09:57:52.024Z"
   },
   {
    "duration": 9,
    "start_time": "2022-08-24T09:57:52.208Z"
   },
   {
    "duration": 5,
    "start_time": "2022-08-24T09:57:52.219Z"
   },
   {
    "duration": 15,
    "start_time": "2022-08-24T09:57:52.226Z"
   },
   {
    "duration": 38,
    "start_time": "2022-08-24T09:57:52.243Z"
   },
   {
    "duration": 7,
    "start_time": "2022-08-24T09:57:52.285Z"
   },
   {
    "duration": 16032,
    "start_time": "2022-08-24T09:57:52.294Z"
   },
   {
    "duration": 16,
    "start_time": "2022-08-24T09:58:08.328Z"
   },
   {
    "duration": 171,
    "start_time": "2022-08-24T09:58:08.347Z"
   },
   {
    "duration": 8,
    "start_time": "2022-08-24T09:58:08.520Z"
   },
   {
    "duration": 13,
    "start_time": "2022-08-24T09:58:08.529Z"
   },
   {
    "duration": 45,
    "start_time": "2022-08-24T09:58:08.544Z"
   },
   {
    "duration": 6,
    "start_time": "2022-08-24T09:58:08.592Z"
   },
   {
    "duration": 8,
    "start_time": "2022-08-24T09:58:08.600Z"
   },
   {
    "duration": 539,
    "start_time": "2022-08-24T09:58:08.610Z"
   },
   {
    "duration": 5,
    "start_time": "2022-08-24T09:58:09.151Z"
   },
   {
    "duration": 19,
    "start_time": "2022-08-24T09:58:09.170Z"
   },
   {
    "duration": 14,
    "start_time": "2022-08-24T09:58:09.191Z"
   },
   {
    "duration": 172,
    "start_time": "2022-08-24T09:58:09.207Z"
   },
   {
    "duration": 9,
    "start_time": "2022-08-24T09:58:09.381Z"
   },
   {
    "duration": 8,
    "start_time": "2022-08-24T09:59:40.811Z"
   },
   {
    "duration": 75,
    "start_time": "2022-08-24T09:59:40.821Z"
   },
   {
    "duration": 15,
    "start_time": "2022-08-24T09:59:40.898Z"
   },
   {
    "duration": 199,
    "start_time": "2022-08-24T09:59:40.916Z"
   },
   {
    "duration": 7,
    "start_time": "2022-08-24T09:59:41.117Z"
   },
   {
    "duration": 13,
    "start_time": "2022-08-24T09:59:41.126Z"
   },
   {
    "duration": 41,
    "start_time": "2022-08-24T09:59:41.140Z"
   },
   {
    "duration": 228,
    "start_time": "2022-08-24T09:59:41.184Z"
   },
   {
    "duration": 248,
    "start_time": "2022-08-24T09:59:41.414Z"
   },
   {
    "duration": 10,
    "start_time": "2022-08-24T09:59:41.675Z"
   },
   {
    "duration": 12,
    "start_time": "2022-08-24T09:59:41.687Z"
   },
   {
    "duration": 9,
    "start_time": "2022-08-24T09:59:41.700Z"
   },
   {
    "duration": 177,
    "start_time": "2022-08-24T09:59:41.711Z"
   },
   {
    "duration": 6,
    "start_time": "2022-08-24T09:59:41.890Z"
   },
   {
    "duration": 10,
    "start_time": "2022-08-24T09:59:41.898Z"
   },
   {
    "duration": 6,
    "start_time": "2022-08-24T09:59:41.910Z"
   },
   {
    "duration": 11,
    "start_time": "2022-08-24T09:59:41.918Z"
   },
   {
    "duration": 7,
    "start_time": "2022-08-24T09:59:41.931Z"
   },
   {
    "duration": 38,
    "start_time": "2022-08-24T09:59:41.976Z"
   },
   {
    "duration": 40,
    "start_time": "2022-08-24T09:59:42.016Z"
   },
   {
    "duration": 88,
    "start_time": "2022-08-24T09:59:42.058Z"
   },
   {
    "duration": 17,
    "start_time": "2022-08-24T09:59:42.149Z"
   },
   {
    "duration": 56,
    "start_time": "2022-08-24T09:59:42.168Z"
   },
   {
    "duration": 29,
    "start_time": "2022-08-24T09:59:42.226Z"
   },
   {
    "duration": 19,
    "start_time": "2022-08-24T09:59:42.257Z"
   },
   {
    "duration": 31219,
    "start_time": "2022-08-24T09:59:42.285Z"
   },
   {
    "duration": 19,
    "start_time": "2022-08-24T10:00:13.507Z"
   },
   {
    "duration": 166,
    "start_time": "2022-08-24T10:00:13.537Z"
   },
   {
    "duration": 7,
    "start_time": "2022-08-24T10:00:13.705Z"
   },
   {
    "duration": 31768,
    "start_time": "2022-08-24T10:00:13.714Z"
   },
   {
    "duration": 19,
    "start_time": "2022-08-24T10:00:45.488Z"
   },
   {
    "duration": 179,
    "start_time": "2022-08-24T10:00:45.509Z"
   },
   {
    "duration": 9,
    "start_time": "2022-08-24T10:00:45.690Z"
   },
   {
    "duration": 6,
    "start_time": "2022-08-24T10:00:45.702Z"
   },
   {
    "duration": 9,
    "start_time": "2022-08-24T10:00:45.709Z"
   },
   {
    "duration": 49,
    "start_time": "2022-08-24T10:00:45.720Z"
   },
   {
    "duration": 20,
    "start_time": "2022-08-24T10:00:45.771Z"
   },
   {
    "duration": 13,
    "start_time": "2022-08-24T10:00:45.793Z"
   },
   {
    "duration": 7,
    "start_time": "2022-08-24T10:00:45.808Z"
   },
   {
    "duration": 9,
    "start_time": "2022-08-24T10:00:45.817Z"
   },
   {
    "duration": 44527,
    "start_time": "2022-08-24T10:00:45.828Z"
   },
   {
    "duration": 26,
    "start_time": "2022-08-24T10:01:30.370Z"
   },
   {
    "duration": 273,
    "start_time": "2022-08-24T10:01:30.398Z"
   },
   {
    "duration": 10,
    "start_time": "2022-08-24T10:01:30.686Z"
   },
   {
    "duration": 24,
    "start_time": "2022-08-24T10:01:30.698Z"
   },
   {
    "duration": 24,
    "start_time": "2022-08-24T10:01:30.724Z"
   },
   {
    "duration": 14,
    "start_time": "2022-08-24T10:01:30.750Z"
   },
   {
    "duration": 45,
    "start_time": "2022-08-24T10:01:30.766Z"
   },
   {
    "duration": 15739,
    "start_time": "2022-08-24T10:01:30.814Z"
   },
   {
    "duration": 30,
    "start_time": "2022-08-24T10:01:46.556Z"
   },
   {
    "duration": 197,
    "start_time": "2022-08-24T10:01:46.589Z"
   },
   {
    "duration": 11,
    "start_time": "2022-08-24T10:01:46.789Z"
   },
   {
    "duration": 31,
    "start_time": "2022-08-24T10:01:46.802Z"
   },
   {
    "duration": 38,
    "start_time": "2022-08-24T10:01:46.835Z"
   },
   {
    "duration": 27,
    "start_time": "2022-08-24T10:01:46.875Z"
   },
   {
    "duration": 16,
    "start_time": "2022-08-24T10:01:46.904Z"
   },
   {
    "duration": 558,
    "start_time": "2022-08-24T10:01:46.924Z"
   },
   {
    "duration": 7,
    "start_time": "2022-08-24T10:01:47.485Z"
   },
   {
    "duration": 88,
    "start_time": "2022-08-24T10:01:47.495Z"
   },
   {
    "duration": 28,
    "start_time": "2022-08-24T10:01:47.585Z"
   },
   {
    "duration": 173,
    "start_time": "2022-08-24T10:01:47.615Z"
   },
   {
    "duration": 8,
    "start_time": "2022-08-24T10:01:47.790Z"
   },
   {
    "duration": 9,
    "start_time": "2022-08-24T10:03:25.079Z"
   },
   {
    "duration": 79,
    "start_time": "2022-08-24T10:03:25.091Z"
   },
   {
    "duration": 24,
    "start_time": "2022-08-24T10:03:25.175Z"
   },
   {
    "duration": 90,
    "start_time": "2022-08-24T10:03:25.202Z"
   },
   {
    "duration": 8,
    "start_time": "2022-08-24T10:03:25.295Z"
   },
   {
    "duration": 12,
    "start_time": "2022-08-24T10:03:25.305Z"
   },
   {
    "duration": 9,
    "start_time": "2022-08-24T10:03:25.319Z"
   },
   {
    "duration": 306,
    "start_time": "2022-08-24T10:03:25.331Z"
   },
   {
    "duration": 218,
    "start_time": "2022-08-24T10:03:25.640Z"
   },
   {
    "duration": 25,
    "start_time": "2022-08-24T10:03:25.860Z"
   },
   {
    "duration": 10,
    "start_time": "2022-08-24T10:03:25.890Z"
   },
   {
    "duration": 11,
    "start_time": "2022-08-24T10:03:25.902Z"
   },
   {
    "duration": 200,
    "start_time": "2022-08-24T10:03:25.916Z"
   },
   {
    "duration": 7,
    "start_time": "2022-08-24T10:03:26.118Z"
   },
   {
    "duration": 8,
    "start_time": "2022-08-24T10:03:26.128Z"
   },
   {
    "duration": 6,
    "start_time": "2022-08-24T10:03:26.138Z"
   },
   {
    "duration": 34,
    "start_time": "2022-08-24T10:03:26.146Z"
   },
   {
    "duration": 10,
    "start_time": "2022-08-24T10:03:26.183Z"
   },
   {
    "duration": 17,
    "start_time": "2022-08-24T10:03:26.195Z"
   },
   {
    "duration": 12,
    "start_time": "2022-08-24T10:03:26.214Z"
   },
   {
    "duration": 73,
    "start_time": "2022-08-24T10:03:26.228Z"
   },
   {
    "duration": 26,
    "start_time": "2022-08-24T10:03:26.303Z"
   },
   {
    "duration": 15,
    "start_time": "2022-08-24T10:03:26.331Z"
   },
   {
    "duration": 25,
    "start_time": "2022-08-24T10:03:26.367Z"
   },
   {
    "duration": 12,
    "start_time": "2022-08-24T10:03:26.395Z"
   },
   {
    "duration": 31879,
    "start_time": "2022-08-24T10:03:26.409Z"
   },
   {
    "duration": 15,
    "start_time": "2022-08-24T10:03:58.290Z"
   },
   {
    "duration": 178,
    "start_time": "2022-08-24T10:03:58.307Z"
   },
   {
    "duration": 8,
    "start_time": "2022-08-24T10:03:58.490Z"
   },
   {
    "duration": 31889,
    "start_time": "2022-08-24T10:03:58.500Z"
   },
   {
    "duration": 24,
    "start_time": "2022-08-24T10:04:30.392Z"
   },
   {
    "duration": 211,
    "start_time": "2022-08-24T10:04:30.418Z"
   },
   {
    "duration": 9,
    "start_time": "2022-08-24T10:04:30.632Z"
   },
   {
    "duration": 35,
    "start_time": "2022-08-24T10:04:30.643Z"
   },
   {
    "duration": 23,
    "start_time": "2022-08-24T10:04:30.680Z"
   },
   {
    "duration": 29,
    "start_time": "2022-08-24T10:04:30.705Z"
   },
   {
    "duration": 12,
    "start_time": "2022-08-24T10:04:30.737Z"
   },
   {
    "duration": 32,
    "start_time": "2022-08-24T10:04:30.751Z"
   },
   {
    "duration": 16,
    "start_time": "2022-08-24T10:04:30.785Z"
   },
   {
    "duration": 19,
    "start_time": "2022-08-24T10:04:30.803Z"
   },
   {
    "duration": 44860,
    "start_time": "2022-08-24T10:04:30.825Z"
   },
   {
    "duration": 24,
    "start_time": "2022-08-24T10:05:15.690Z"
   },
   {
    "duration": 180,
    "start_time": "2022-08-24T10:05:15.717Z"
   },
   {
    "duration": 9,
    "start_time": "2022-08-24T10:05:15.905Z"
   },
   {
    "duration": 14,
    "start_time": "2022-08-24T10:05:15.916Z"
   },
   {
    "duration": 15,
    "start_time": "2022-08-24T10:05:15.932Z"
   },
   {
    "duration": 27,
    "start_time": "2022-08-24T10:05:15.950Z"
   },
   {
    "duration": 24,
    "start_time": "2022-08-24T10:05:15.980Z"
   },
   {
    "duration": 16696,
    "start_time": "2022-08-24T10:05:16.007Z"
   },
   {
    "duration": 17,
    "start_time": "2022-08-24T10:05:32.705Z"
   },
   {
    "duration": 177,
    "start_time": "2022-08-24T10:05:32.725Z"
   },
   {
    "duration": 7,
    "start_time": "2022-08-24T10:05:32.904Z"
   },
   {
    "duration": 9,
    "start_time": "2022-08-24T10:05:32.913Z"
   },
   {
    "duration": 12,
    "start_time": "2022-08-24T10:05:32.924Z"
   },
   {
    "duration": 39,
    "start_time": "2022-08-24T10:05:32.938Z"
   },
   {
    "duration": 20,
    "start_time": "2022-08-24T10:05:32.979Z"
   },
   {
    "duration": 554,
    "start_time": "2022-08-24T10:05:33.002Z"
   },
   {
    "duration": 18,
    "start_time": "2022-08-24T10:05:33.559Z"
   },
   {
    "duration": 37,
    "start_time": "2022-08-24T10:05:33.584Z"
   },
   {
    "duration": 24,
    "start_time": "2022-08-24T10:05:33.623Z"
   },
   {
    "duration": 203,
    "start_time": "2022-08-24T10:05:33.650Z"
   },
   {
    "duration": 24,
    "start_time": "2022-08-24T10:05:33.855Z"
   },
   {
    "duration": 8,
    "start_time": "2022-08-24T10:09:06.002Z"
   },
   {
    "duration": 74,
    "start_time": "2022-08-24T10:09:06.012Z"
   },
   {
    "duration": 14,
    "start_time": "2022-08-24T10:09:06.088Z"
   },
   {
    "duration": 47,
    "start_time": "2022-08-24T10:09:06.104Z"
   },
   {
    "duration": 10,
    "start_time": "2022-08-24T10:09:06.174Z"
   },
   {
    "duration": 12,
    "start_time": "2022-08-24T10:09:06.186Z"
   },
   {
    "duration": 8,
    "start_time": "2022-08-24T10:09:06.200Z"
   },
   {
    "duration": 274,
    "start_time": "2022-08-24T10:09:06.210Z"
   },
   {
    "duration": 257,
    "start_time": "2022-08-24T10:09:06.491Z"
   },
   {
    "duration": 7,
    "start_time": "2022-08-24T10:09:06.753Z"
   },
   {
    "duration": 56,
    "start_time": "2022-08-24T10:09:06.768Z"
   },
   {
    "duration": 14,
    "start_time": "2022-08-24T10:09:06.826Z"
   },
   {
    "duration": 192,
    "start_time": "2022-08-24T10:09:06.842Z"
   },
   {
    "duration": 6,
    "start_time": "2022-08-24T10:09:07.038Z"
   },
   {
    "duration": 5,
    "start_time": "2022-08-24T10:09:07.046Z"
   },
   {
    "duration": 31,
    "start_time": "2022-08-24T10:09:07.071Z"
   },
   {
    "duration": 13,
    "start_time": "2022-08-24T10:09:07.104Z"
   },
   {
    "duration": 15,
    "start_time": "2022-08-24T10:09:07.118Z"
   },
   {
    "duration": 19,
    "start_time": "2022-08-24T10:09:07.135Z"
   },
   {
    "duration": 8,
    "start_time": "2022-08-24T10:09:07.156Z"
   },
   {
    "duration": 56,
    "start_time": "2022-08-24T10:09:07.165Z"
   },
   {
    "duration": 17,
    "start_time": "2022-08-24T10:09:07.223Z"
   },
   {
    "duration": 12,
    "start_time": "2022-08-24T10:09:07.242Z"
   },
   {
    "duration": 18,
    "start_time": "2022-08-24T10:09:07.256Z"
   },
   {
    "duration": 13,
    "start_time": "2022-08-24T10:09:07.276Z"
   },
   {
    "duration": 30224,
    "start_time": "2022-08-24T10:09:07.290Z"
   },
   {
    "duration": 18,
    "start_time": "2022-08-24T10:09:37.516Z"
   },
   {
    "duration": 45,
    "start_time": "2022-08-24T10:09:37.537Z"
   },
   {
    "duration": 173,
    "start_time": "2022-08-24T10:09:37.584Z"
   },
   {
    "duration": 0,
    "start_time": "2022-08-24T10:09:37.761Z"
   },
   {
    "duration": 0,
    "start_time": "2022-08-24T10:09:37.768Z"
   },
   {
    "duration": 0,
    "start_time": "2022-08-24T10:09:37.769Z"
   },
   {
    "duration": 0,
    "start_time": "2022-08-24T10:09:37.770Z"
   },
   {
    "duration": 0,
    "start_time": "2022-08-24T10:09:37.772Z"
   },
   {
    "duration": 0,
    "start_time": "2022-08-24T10:09:37.774Z"
   },
   {
    "duration": 0,
    "start_time": "2022-08-24T10:09:37.776Z"
   },
   {
    "duration": 0,
    "start_time": "2022-08-24T10:09:37.779Z"
   },
   {
    "duration": 0,
    "start_time": "2022-08-24T10:09:37.781Z"
   },
   {
    "duration": 0,
    "start_time": "2022-08-24T10:09:37.783Z"
   },
   {
    "duration": 0,
    "start_time": "2022-08-24T10:09:37.785Z"
   },
   {
    "duration": 0,
    "start_time": "2022-08-24T10:09:37.787Z"
   },
   {
    "duration": 0,
    "start_time": "2022-08-24T10:09:37.788Z"
   },
   {
    "duration": 0,
    "start_time": "2022-08-24T10:09:37.790Z"
   },
   {
    "duration": 0,
    "start_time": "2022-08-24T10:09:37.792Z"
   },
   {
    "duration": 0,
    "start_time": "2022-08-24T10:09:37.793Z"
   },
   {
    "duration": 0,
    "start_time": "2022-08-24T10:09:37.794Z"
   },
   {
    "duration": 0,
    "start_time": "2022-08-24T10:09:37.795Z"
   },
   {
    "duration": 0,
    "start_time": "2022-08-24T10:09:37.797Z"
   },
   {
    "duration": 0,
    "start_time": "2022-08-24T10:09:37.798Z"
   },
   {
    "duration": 0,
    "start_time": "2022-08-24T10:09:37.799Z"
   },
   {
    "duration": 0,
    "start_time": "2022-08-24T10:09:37.801Z"
   },
   {
    "duration": 0,
    "start_time": "2022-08-24T10:09:37.802Z"
   },
   {
    "duration": 0,
    "start_time": "2022-08-24T10:09:37.803Z"
   },
   {
    "duration": 0,
    "start_time": "2022-08-24T10:09:37.805Z"
   },
   {
    "duration": 0,
    "start_time": "2022-08-24T10:09:37.806Z"
   },
   {
    "duration": 0,
    "start_time": "2022-08-24T10:09:37.808Z"
   },
   {
    "duration": 0,
    "start_time": "2022-08-24T10:09:37.809Z"
   },
   {
    "duration": 0,
    "start_time": "2022-08-24T10:09:37.810Z"
   },
   {
    "duration": 0,
    "start_time": "2022-08-24T10:09:37.868Z"
   },
   {
    "duration": 0,
    "start_time": "2022-08-24T10:09:37.869Z"
   },
   {
    "duration": 0,
    "start_time": "2022-08-24T10:09:37.871Z"
   },
   {
    "duration": 0,
    "start_time": "2022-08-24T10:09:37.871Z"
   },
   {
    "duration": 0,
    "start_time": "2022-08-24T10:09:37.872Z"
   },
   {
    "duration": 0,
    "start_time": "2022-08-24T10:09:37.873Z"
   },
   {
    "duration": 10,
    "start_time": "2022-08-24T10:10:06.787Z"
   },
   {
    "duration": 74,
    "start_time": "2022-08-24T10:10:06.801Z"
   },
   {
    "duration": 20,
    "start_time": "2022-08-24T10:10:06.878Z"
   },
   {
    "duration": 81,
    "start_time": "2022-08-24T10:10:06.901Z"
   },
   {
    "duration": 8,
    "start_time": "2022-08-24T10:10:06.984Z"
   },
   {
    "duration": 13,
    "start_time": "2022-08-24T10:10:06.994Z"
   },
   {
    "duration": 10,
    "start_time": "2022-08-24T10:10:07.009Z"
   },
   {
    "duration": 286,
    "start_time": "2022-08-24T10:10:07.021Z"
   },
   {
    "duration": 232,
    "start_time": "2022-08-24T10:10:07.310Z"
   },
   {
    "duration": 6,
    "start_time": "2022-08-24T10:10:07.544Z"
   },
   {
    "duration": 43,
    "start_time": "2022-08-24T10:10:07.552Z"
   },
   {
    "duration": 11,
    "start_time": "2022-08-24T10:10:07.597Z"
   },
   {
    "duration": 148,
    "start_time": "2022-08-24T10:10:07.611Z"
   },
   {
    "duration": 10,
    "start_time": "2022-08-24T10:10:07.768Z"
   },
   {
    "duration": 7,
    "start_time": "2022-08-24T10:10:07.784Z"
   },
   {
    "duration": 9,
    "start_time": "2022-08-24T10:10:07.793Z"
   },
   {
    "duration": 14,
    "start_time": "2022-08-24T10:10:07.804Z"
   },
   {
    "duration": 14,
    "start_time": "2022-08-24T10:10:07.820Z"
   },
   {
    "duration": 34,
    "start_time": "2022-08-24T10:10:07.837Z"
   },
   {
    "duration": 13,
    "start_time": "2022-08-24T10:10:07.873Z"
   },
   {
    "duration": 40,
    "start_time": "2022-08-24T10:10:07.889Z"
   },
   {
    "duration": 51,
    "start_time": "2022-08-24T10:10:07.931Z"
   },
   {
    "duration": 11,
    "start_time": "2022-08-24T10:10:07.985Z"
   },
   {
    "duration": 20,
    "start_time": "2022-08-24T10:10:07.998Z"
   },
   {
    "duration": 11,
    "start_time": "2022-08-24T10:10:08.020Z"
   },
   {
    "duration": 31493,
    "start_time": "2022-08-24T10:10:08.034Z"
   },
   {
    "duration": 16,
    "start_time": "2022-08-24T10:10:39.529Z"
   },
   {
    "duration": 22,
    "start_time": "2022-08-24T10:10:39.569Z"
   },
   {
    "duration": 172,
    "start_time": "2022-08-24T10:10:39.593Z"
   },
   {
    "duration": 330,
    "start_time": "2022-08-24T10:10:39.770Z"
   },
   {
    "duration": 8,
    "start_time": "2022-08-24T10:10:40.102Z"
   },
   {
    "duration": 31533,
    "start_time": "2022-08-24T10:10:40.113Z"
   },
   {
    "duration": 31,
    "start_time": "2022-08-24T10:11:11.649Z"
   },
   {
    "duration": 171,
    "start_time": "2022-08-24T10:11:11.683Z"
   },
   {
    "duration": 26,
    "start_time": "2022-08-24T10:11:11.857Z"
   },
   {
    "duration": 7,
    "start_time": "2022-08-24T10:11:11.886Z"
   },
   {
    "duration": 9,
    "start_time": "2022-08-24T10:11:11.901Z"
   },
   {
    "duration": 26,
    "start_time": "2022-08-24T10:11:11.913Z"
   },
   {
    "duration": 42,
    "start_time": "2022-08-24T10:11:11.940Z"
   },
   {
    "duration": 9,
    "start_time": "2022-08-24T10:11:11.985Z"
   },
   {
    "duration": 6,
    "start_time": "2022-08-24T10:11:11.996Z"
   },
   {
    "duration": 9,
    "start_time": "2022-08-24T10:11:12.004Z"
   },
   {
    "duration": 44239,
    "start_time": "2022-08-24T10:11:12.015Z"
   },
   {
    "duration": 23,
    "start_time": "2022-08-24T10:11:56.267Z"
   },
   {
    "duration": 163,
    "start_time": "2022-08-24T10:11:56.293Z"
   },
   {
    "duration": 26,
    "start_time": "2022-08-24T10:11:56.458Z"
   },
   {
    "duration": 14,
    "start_time": "2022-08-24T10:11:56.487Z"
   },
   {
    "duration": 27,
    "start_time": "2022-08-24T10:11:56.504Z"
   },
   {
    "duration": 9,
    "start_time": "2022-08-24T10:11:56.533Z"
   },
   {
    "duration": 11,
    "start_time": "2022-08-24T10:11:56.544Z"
   },
   {
    "duration": 16918,
    "start_time": "2022-08-24T10:11:56.557Z"
   },
   {
    "duration": 24,
    "start_time": "2022-08-24T10:12:13.484Z"
   },
   {
    "duration": 198,
    "start_time": "2022-08-24T10:12:13.510Z"
   },
   {
    "duration": 10,
    "start_time": "2022-08-24T10:12:13.710Z"
   },
   {
    "duration": 8,
    "start_time": "2022-08-24T10:12:13.722Z"
   },
   {
    "duration": 50,
    "start_time": "2022-08-24T10:12:13.732Z"
   },
   {
    "duration": 8,
    "start_time": "2022-08-24T10:12:13.789Z"
   },
   {
    "duration": 13,
    "start_time": "2022-08-24T10:12:13.799Z"
   },
   {
    "duration": 558,
    "start_time": "2022-08-24T10:12:13.814Z"
   },
   {
    "duration": 9,
    "start_time": "2022-08-24T10:12:14.380Z"
   },
   {
    "duration": 24,
    "start_time": "2022-08-24T10:12:14.392Z"
   },
   {
    "duration": 10,
    "start_time": "2022-08-24T10:12:14.419Z"
   },
   {
    "duration": 173,
    "start_time": "2022-08-24T10:12:14.431Z"
   },
   {
    "duration": 7,
    "start_time": "2022-08-24T10:12:14.606Z"
   },
   {
    "duration": 6,
    "start_time": "2022-08-24T10:25:07.210Z"
   },
   {
    "duration": 18,
    "start_time": "2022-08-24T10:26:00.108Z"
   },
   {
    "duration": 14,
    "start_time": "2022-08-24T10:26:19.794Z"
   },
   {
    "duration": 8,
    "start_time": "2022-08-24T10:26:55.841Z"
   },
   {
    "duration": 12,
    "start_time": "2022-08-24T10:26:57.885Z"
   },
   {
    "duration": 11,
    "start_time": "2022-08-24T10:29:51.644Z"
   },
   {
    "duration": 14,
    "start_time": "2022-08-24T10:31:31.005Z"
   },
   {
    "duration": 33,
    "start_time": "2022-08-24T10:48:20.399Z"
   },
   {
    "duration": 9,
    "start_time": "2022-08-24T10:48:55.207Z"
   },
   {
    "duration": 71,
    "start_time": "2022-08-24T10:48:55.218Z"
   },
   {
    "duration": 17,
    "start_time": "2022-08-24T10:48:55.292Z"
   },
   {
    "duration": 71,
    "start_time": "2022-08-24T10:48:55.312Z"
   },
   {
    "duration": 7,
    "start_time": "2022-08-24T10:48:55.385Z"
   },
   {
    "duration": 12,
    "start_time": "2022-08-24T10:48:55.394Z"
   },
   {
    "duration": 13,
    "start_time": "2022-08-24T10:48:55.409Z"
   },
   {
    "duration": 259,
    "start_time": "2022-08-24T10:48:55.424Z"
   },
   {
    "duration": 198,
    "start_time": "2022-08-24T10:48:55.686Z"
   },
   {
    "duration": 6,
    "start_time": "2022-08-24T10:48:55.887Z"
   },
   {
    "duration": 11,
    "start_time": "2022-08-24T10:48:55.894Z"
   },
   {
    "duration": 11,
    "start_time": "2022-08-24T10:48:55.906Z"
   },
   {
    "duration": 142,
    "start_time": "2022-08-24T10:48:56.411Z"
   },
   {
    "duration": 20,
    "start_time": "2022-08-24T10:48:56.555Z"
   },
   {
    "duration": 8,
    "start_time": "2022-08-24T10:48:56.584Z"
   },
   {
    "duration": 19,
    "start_time": "2022-08-24T10:48:56.595Z"
   },
   {
    "duration": 14,
    "start_time": "2022-08-24T10:48:56.618Z"
   },
   {
    "duration": 9,
    "start_time": "2022-08-24T10:48:56.634Z"
   },
   {
    "duration": 22,
    "start_time": "2022-08-24T10:48:56.646Z"
   },
   {
    "duration": 30,
    "start_time": "2022-08-24T10:48:56.670Z"
   },
   {
    "duration": 71,
    "start_time": "2022-08-24T10:48:56.702Z"
   },
   {
    "duration": 22,
    "start_time": "2022-08-24T10:48:56.776Z"
   },
   {
    "duration": 11,
    "start_time": "2022-08-24T10:48:56.801Z"
   },
   {
    "duration": 25,
    "start_time": "2022-08-24T10:48:56.815Z"
   },
   {
    "duration": 47,
    "start_time": "2022-08-24T10:48:56.842Z"
   },
   {
    "duration": 0,
    "start_time": "2022-08-24T10:48:56.893Z"
   },
   {
    "duration": 0,
    "start_time": "2022-08-24T10:48:56.895Z"
   },
   {
    "duration": 0,
    "start_time": "2022-08-24T10:48:56.897Z"
   },
   {
    "duration": 0,
    "start_time": "2022-08-24T10:48:56.899Z"
   },
   {
    "duration": 0,
    "start_time": "2022-08-24T10:48:56.900Z"
   },
   {
    "duration": 0,
    "start_time": "2022-08-24T10:48:56.901Z"
   },
   {
    "duration": 0,
    "start_time": "2022-08-24T10:48:56.902Z"
   },
   {
    "duration": 0,
    "start_time": "2022-08-24T10:48:56.904Z"
   },
   {
    "duration": 0,
    "start_time": "2022-08-24T10:48:56.905Z"
   },
   {
    "duration": 0,
    "start_time": "2022-08-24T10:48:56.906Z"
   },
   {
    "duration": 0,
    "start_time": "2022-08-24T10:48:56.908Z"
   },
   {
    "duration": 0,
    "start_time": "2022-08-24T10:48:56.910Z"
   },
   {
    "duration": 0,
    "start_time": "2022-08-24T10:48:56.912Z"
   },
   {
    "duration": 0,
    "start_time": "2022-08-24T10:48:56.913Z"
   },
   {
    "duration": 0,
    "start_time": "2022-08-24T10:48:56.915Z"
   },
   {
    "duration": 0,
    "start_time": "2022-08-24T10:48:56.916Z"
   },
   {
    "duration": 0,
    "start_time": "2022-08-24T10:48:56.918Z"
   },
   {
    "duration": 0,
    "start_time": "2022-08-24T10:48:56.920Z"
   },
   {
    "duration": 0,
    "start_time": "2022-08-24T10:48:56.921Z"
   },
   {
    "duration": 0,
    "start_time": "2022-08-24T10:48:56.967Z"
   },
   {
    "duration": 0,
    "start_time": "2022-08-24T10:48:56.969Z"
   },
   {
    "duration": 0,
    "start_time": "2022-08-24T10:48:56.970Z"
   },
   {
    "duration": 0,
    "start_time": "2022-08-24T10:48:56.974Z"
   },
   {
    "duration": 0,
    "start_time": "2022-08-24T10:48:56.975Z"
   },
   {
    "duration": 0,
    "start_time": "2022-08-24T10:48:56.976Z"
   },
   {
    "duration": 0,
    "start_time": "2022-08-24T10:48:56.977Z"
   },
   {
    "duration": 0,
    "start_time": "2022-08-24T10:48:56.978Z"
   },
   {
    "duration": 0,
    "start_time": "2022-08-24T10:48:56.979Z"
   },
   {
    "duration": 0,
    "start_time": "2022-08-24T10:48:56.980Z"
   },
   {
    "duration": 0,
    "start_time": "2022-08-24T10:48:56.981Z"
   },
   {
    "duration": 10,
    "start_time": "2022-08-24T10:48:56.984Z"
   },
   {
    "duration": 11,
    "start_time": "2022-08-24T10:48:56.995Z"
   },
   {
    "duration": 5,
    "start_time": "2022-08-24T10:48:57.008Z"
   },
   {
    "duration": 20,
    "start_time": "2022-08-24T10:48:57.079Z"
   },
   {
    "duration": 0,
    "start_time": "2022-08-24T10:48:57.100Z"
   },
   {
    "duration": 0,
    "start_time": "2022-08-24T10:48:57.109Z"
   },
   {
    "duration": 0,
    "start_time": "2022-08-24T10:48:57.110Z"
   },
   {
    "duration": 0,
    "start_time": "2022-08-24T10:48:57.112Z"
   },
   {
    "duration": 0,
    "start_time": "2022-08-24T10:48:57.113Z"
   },
   {
    "duration": 0,
    "start_time": "2022-08-24T10:48:57.115Z"
   },
   {
    "duration": 7,
    "start_time": "2022-08-24T10:50:27.636Z"
   },
   {
    "duration": 58,
    "start_time": "2022-08-24T10:50:27.645Z"
   },
   {
    "duration": 14,
    "start_time": "2022-08-24T10:50:27.705Z"
   },
   {
    "duration": 63,
    "start_time": "2022-08-24T10:50:27.722Z"
   },
   {
    "duration": 7,
    "start_time": "2022-08-24T10:50:27.788Z"
   },
   {
    "duration": 11,
    "start_time": "2022-08-24T10:50:27.797Z"
   },
   {
    "duration": 13,
    "start_time": "2022-08-24T10:50:27.810Z"
   },
   {
    "duration": 261,
    "start_time": "2022-08-24T10:50:27.825Z"
   },
   {
    "duration": 236,
    "start_time": "2022-08-24T10:50:28.088Z"
   },
   {
    "duration": 7,
    "start_time": "2022-08-24T10:50:28.327Z"
   },
   {
    "duration": 8,
    "start_time": "2022-08-24T10:50:28.336Z"
   },
   {
    "duration": 29,
    "start_time": "2022-08-24T10:50:28.346Z"
   },
   {
    "duration": 176,
    "start_time": "2022-08-24T10:50:28.377Z"
   },
   {
    "duration": 13,
    "start_time": "2022-08-24T10:50:28.556Z"
   },
   {
    "duration": 6,
    "start_time": "2022-08-24T10:50:28.571Z"
   },
   {
    "duration": 7,
    "start_time": "2022-08-24T10:50:28.579Z"
   },
   {
    "duration": 12,
    "start_time": "2022-08-24T10:50:28.589Z"
   },
   {
    "duration": 10,
    "start_time": "2022-08-24T10:50:28.603Z"
   },
   {
    "duration": 22,
    "start_time": "2022-08-24T10:50:28.615Z"
   },
   {
    "duration": 30,
    "start_time": "2022-08-24T10:50:28.639Z"
   },
   {
    "duration": 40,
    "start_time": "2022-08-24T10:50:28.671Z"
   },
   {
    "duration": 17,
    "start_time": "2022-08-24T10:50:28.713Z"
   },
   {
    "duration": 6,
    "start_time": "2022-08-24T10:50:28.733Z"
   },
   {
    "duration": 39,
    "start_time": "2022-08-24T10:50:28.741Z"
   },
   {
    "duration": 14,
    "start_time": "2022-08-24T10:50:28.782Z"
   },
   {
    "duration": 15,
    "start_time": "2022-08-24T10:50:28.798Z"
   },
   {
    "duration": 30353,
    "start_time": "2022-08-24T10:50:28.815Z"
   },
   {
    "duration": 18,
    "start_time": "2022-08-24T10:50:59.175Z"
   },
   {
    "duration": 18,
    "start_time": "2022-08-24T10:50:59.196Z"
   },
   {
    "duration": 168,
    "start_time": "2022-08-24T10:50:59.222Z"
   },
   {
    "duration": 177,
    "start_time": "2022-08-24T10:50:59.392Z"
   },
   {
    "duration": 11,
    "start_time": "2022-08-24T10:50:59.571Z"
   },
   {
    "duration": 31696,
    "start_time": "2022-08-24T10:50:59.584Z"
   },
   {
    "duration": 20,
    "start_time": "2022-08-24T10:51:31.282Z"
   },
   {
    "duration": 182,
    "start_time": "2022-08-24T10:51:31.304Z"
   },
   {
    "duration": 9,
    "start_time": "2022-08-24T10:51:31.489Z"
   },
   {
    "duration": 25,
    "start_time": "2022-08-24T10:51:31.501Z"
   },
   {
    "duration": 71,
    "start_time": "2022-08-24T10:51:31.529Z"
   },
   {
    "duration": 47,
    "start_time": "2022-08-24T10:51:31.602Z"
   },
   {
    "duration": 20,
    "start_time": "2022-08-24T10:51:31.652Z"
   },
   {
    "duration": 27,
    "start_time": "2022-08-24T10:51:31.674Z"
   },
   {
    "duration": 25,
    "start_time": "2022-08-24T10:51:31.703Z"
   },
   {
    "duration": 38,
    "start_time": "2022-08-24T10:51:31.730Z"
   },
   {
    "duration": 0,
    "start_time": "2022-08-24T10:51:31.770Z"
   },
   {
    "duration": 0,
    "start_time": "2022-08-24T10:51:31.772Z"
   },
   {
    "duration": 0,
    "start_time": "2022-08-24T10:51:31.773Z"
   },
   {
    "duration": 0,
    "start_time": "2022-08-24T10:51:31.774Z"
   },
   {
    "duration": 0,
    "start_time": "2022-08-24T10:51:31.775Z"
   },
   {
    "duration": 0,
    "start_time": "2022-08-24T10:51:31.776Z"
   },
   {
    "duration": 0,
    "start_time": "2022-08-24T10:51:31.777Z"
   },
   {
    "duration": 0,
    "start_time": "2022-08-24T10:51:31.778Z"
   },
   {
    "duration": 0,
    "start_time": "2022-08-24T10:51:31.779Z"
   },
   {
    "duration": 0,
    "start_time": "2022-08-24T10:51:31.780Z"
   },
   {
    "duration": 0,
    "start_time": "2022-08-24T10:51:31.781Z"
   },
   {
    "duration": 0,
    "start_time": "2022-08-24T10:51:31.782Z"
   },
   {
    "duration": 0,
    "start_time": "2022-08-24T10:51:31.783Z"
   },
   {
    "duration": 0,
    "start_time": "2022-08-24T10:51:31.785Z"
   },
   {
    "duration": 0,
    "start_time": "2022-08-24T10:51:31.786Z"
   },
   {
    "duration": 0,
    "start_time": "2022-08-24T10:51:31.787Z"
   },
   {
    "duration": 0,
    "start_time": "2022-08-24T10:51:31.788Z"
   },
   {
    "duration": 0,
    "start_time": "2022-08-24T10:51:31.789Z"
   },
   {
    "duration": 0,
    "start_time": "2022-08-24T10:51:31.790Z"
   },
   {
    "duration": 0,
    "start_time": "2022-08-24T10:51:31.792Z"
   },
   {
    "duration": 0,
    "start_time": "2022-08-24T10:51:31.793Z"
   },
   {
    "duration": 0,
    "start_time": "2022-08-24T10:51:31.794Z"
   },
   {
    "duration": 43,
    "start_time": "2022-08-24T10:53:10.793Z"
   },
   {
    "duration": 7,
    "start_time": "2022-08-24T11:01:39.656Z"
   },
   {
    "duration": 80,
    "start_time": "2022-08-24T11:01:39.665Z"
   },
   {
    "duration": 17,
    "start_time": "2022-08-24T11:01:39.747Z"
   },
   {
    "duration": 45,
    "start_time": "2022-08-24T11:01:39.767Z"
   },
   {
    "duration": 8,
    "start_time": "2022-08-24T11:01:39.814Z"
   },
   {
    "duration": 44,
    "start_time": "2022-08-24T11:01:39.824Z"
   },
   {
    "duration": 8,
    "start_time": "2022-08-24T11:01:39.870Z"
   },
   {
    "duration": 258,
    "start_time": "2022-08-24T11:01:39.880Z"
   },
   {
    "duration": 410,
    "start_time": "2022-08-24T11:01:40.140Z"
   },
   {
    "duration": 16,
    "start_time": "2022-08-24T11:01:40.553Z"
   },
   {
    "duration": 8,
    "start_time": "2022-08-24T11:01:40.571Z"
   },
   {
    "duration": 12,
    "start_time": "2022-08-24T11:01:40.581Z"
   },
   {
    "duration": 189,
    "start_time": "2022-08-24T11:01:40.596Z"
   },
   {
    "duration": 5,
    "start_time": "2022-08-24T11:01:40.788Z"
   },
   {
    "duration": 9,
    "start_time": "2022-08-24T11:01:40.796Z"
   },
   {
    "duration": 7,
    "start_time": "2022-08-24T11:01:40.807Z"
   },
   {
    "duration": 10,
    "start_time": "2022-08-24T11:01:40.816Z"
   },
   {
    "duration": 9,
    "start_time": "2022-08-24T11:01:40.828Z"
   },
   {
    "duration": 40,
    "start_time": "2022-08-24T11:01:40.839Z"
   },
   {
    "duration": 6,
    "start_time": "2022-08-24T11:01:40.881Z"
   },
   {
    "duration": 45,
    "start_time": "2022-08-24T11:01:40.889Z"
   },
   {
    "duration": 33,
    "start_time": "2022-08-24T11:01:40.935Z"
   },
   {
    "duration": 5,
    "start_time": "2022-08-24T11:01:40.970Z"
   },
   {
    "duration": 16,
    "start_time": "2022-08-24T11:01:40.977Z"
   },
   {
    "duration": 15,
    "start_time": "2022-08-24T11:01:40.995Z"
   },
   {
    "duration": 57,
    "start_time": "2022-08-24T11:01:41.012Z"
   },
   {
    "duration": 30258,
    "start_time": "2022-08-24T11:01:41.071Z"
   },
   {
    "duration": 17,
    "start_time": "2022-08-24T11:02:11.333Z"
   },
   {
    "duration": 16,
    "start_time": "2022-08-24T11:02:11.367Z"
   },
   {
    "duration": 160,
    "start_time": "2022-08-24T11:02:11.385Z"
   },
   {
    "duration": 151,
    "start_time": "2022-08-24T11:02:11.546Z"
   },
   {
    "duration": 8,
    "start_time": "2022-08-24T11:02:11.700Z"
   },
   {
    "duration": 30399,
    "start_time": "2022-08-24T11:02:11.710Z"
   },
   {
    "duration": 19,
    "start_time": "2022-08-24T11:02:42.111Z"
   },
   {
    "duration": 166,
    "start_time": "2022-08-24T11:02:42.132Z"
   },
   {
    "duration": 7,
    "start_time": "2022-08-24T11:02:42.300Z"
   },
   {
    "duration": 4,
    "start_time": "2022-08-24T11:02:42.309Z"
   },
   {
    "duration": 8,
    "start_time": "2022-08-24T11:02:42.315Z"
   },
   {
    "duration": 18,
    "start_time": "2022-08-24T11:02:42.325Z"
   },
   {
    "duration": 6,
    "start_time": "2022-08-24T11:02:42.368Z"
   },
   {
    "duration": 11,
    "start_time": "2022-08-24T11:02:42.376Z"
   },
   {
    "duration": 6,
    "start_time": "2022-08-24T11:02:42.389Z"
   },
   {
    "duration": 17,
    "start_time": "2022-08-24T11:02:42.397Z"
   },
   {
    "duration": 42671,
    "start_time": "2022-08-24T11:02:42.416Z"
   },
   {
    "duration": 19,
    "start_time": "2022-08-24T11:03:25.089Z"
   },
   {
    "duration": 156,
    "start_time": "2022-08-24T11:03:25.109Z"
   },
   {
    "duration": 7,
    "start_time": "2022-08-24T11:03:25.266Z"
   },
   {
    "duration": 5,
    "start_time": "2022-08-24T11:03:25.275Z"
   },
   {
    "duration": 15,
    "start_time": "2022-08-24T11:03:25.282Z"
   },
   {
    "duration": 6,
    "start_time": "2022-08-24T11:03:25.300Z"
   },
   {
    "duration": 12,
    "start_time": "2022-08-24T11:03:25.308Z"
   },
   {
    "duration": 15400,
    "start_time": "2022-08-24T11:03:25.322Z"
   },
   {
    "duration": 17,
    "start_time": "2022-08-24T11:03:40.724Z"
   },
   {
    "duration": 163,
    "start_time": "2022-08-24T11:03:40.743Z"
   },
   {
    "duration": 8,
    "start_time": "2022-08-24T11:03:40.909Z"
   },
   {
    "duration": 6,
    "start_time": "2022-08-24T11:03:40.920Z"
   },
   {
    "duration": 12,
    "start_time": "2022-08-24T11:03:40.928Z"
   },
   {
    "duration": 30,
    "start_time": "2022-08-24T11:03:40.942Z"
   },
   {
    "duration": 11,
    "start_time": "2022-08-24T11:03:40.973Z"
   },
   {
    "duration": 523,
    "start_time": "2022-08-24T11:03:40.986Z"
   },
   {
    "duration": 9,
    "start_time": "2022-08-24T11:03:41.511Z"
   },
   {
    "duration": 63,
    "start_time": "2022-08-24T11:03:41.522Z"
   },
   {
    "duration": 35,
    "start_time": "2022-08-24T11:03:41.587Z"
   },
   {
    "duration": 141,
    "start_time": "2022-08-24T11:03:41.624Z"
   },
   {
    "duration": 7,
    "start_time": "2022-08-24T11:03:41.767Z"
   },
   {
    "duration": 6,
    "start_time": "2022-08-24T11:06:58.612Z"
   },
   {
    "duration": 56,
    "start_time": "2022-08-24T11:06:58.624Z"
   },
   {
    "duration": 14,
    "start_time": "2022-08-24T11:06:58.682Z"
   },
   {
    "duration": 70,
    "start_time": "2022-08-24T11:06:58.698Z"
   },
   {
    "duration": 8,
    "start_time": "2022-08-24T11:06:58.771Z"
   },
   {
    "duration": 11,
    "start_time": "2022-08-24T11:06:58.781Z"
   },
   {
    "duration": 8,
    "start_time": "2022-08-24T11:06:58.794Z"
   },
   {
    "duration": 274,
    "start_time": "2022-08-24T11:06:58.804Z"
   },
   {
    "duration": 234,
    "start_time": "2022-08-24T11:06:59.080Z"
   },
   {
    "duration": 7,
    "start_time": "2022-08-24T11:06:59.316Z"
   },
   {
    "duration": 8,
    "start_time": "2022-08-24T11:06:59.327Z"
   },
   {
    "duration": 35,
    "start_time": "2022-08-24T11:06:59.336Z"
   },
   {
    "duration": 161,
    "start_time": "2022-08-24T11:06:59.373Z"
   },
   {
    "duration": 7,
    "start_time": "2022-08-24T11:06:59.537Z"
   },
   {
    "duration": 7,
    "start_time": "2022-08-24T11:06:59.546Z"
   },
   {
    "duration": 5,
    "start_time": "2022-08-24T11:06:59.567Z"
   },
   {
    "duration": 11,
    "start_time": "2022-08-24T11:06:59.574Z"
   },
   {
    "duration": 7,
    "start_time": "2022-08-24T11:06:59.587Z"
   },
   {
    "duration": 19,
    "start_time": "2022-08-24T11:06:59.595Z"
   },
   {
    "duration": 9,
    "start_time": "2022-08-24T11:06:59.615Z"
   },
   {
    "duration": 75,
    "start_time": "2022-08-24T11:06:59.626Z"
   },
   {
    "duration": 17,
    "start_time": "2022-08-24T11:06:59.703Z"
   },
   {
    "duration": 12,
    "start_time": "2022-08-24T11:06:59.721Z"
   },
   {
    "duration": 35,
    "start_time": "2022-08-24T11:06:59.736Z"
   },
   {
    "duration": 9,
    "start_time": "2022-08-24T11:06:59.773Z"
   },
   {
    "duration": 13,
    "start_time": "2022-08-24T11:06:59.785Z"
   },
   {
    "duration": 0,
    "start_time": "2022-08-24T11:06:59.801Z"
   },
   {
    "duration": 0,
    "start_time": "2022-08-24T11:06:59.803Z"
   },
   {
    "duration": 0,
    "start_time": "2022-08-24T11:06:59.804Z"
   },
   {
    "duration": 0,
    "start_time": "2022-08-24T11:06:59.805Z"
   },
   {
    "duration": 0,
    "start_time": "2022-08-24T11:06:59.806Z"
   },
   {
    "duration": 0,
    "start_time": "2022-08-24T11:06:59.807Z"
   },
   {
    "duration": 0,
    "start_time": "2022-08-24T11:06:59.808Z"
   },
   {
    "duration": 0,
    "start_time": "2022-08-24T11:06:59.809Z"
   },
   {
    "duration": 0,
    "start_time": "2022-08-24T11:06:59.810Z"
   },
   {
    "duration": 0,
    "start_time": "2022-08-24T11:06:59.811Z"
   },
   {
    "duration": 0,
    "start_time": "2022-08-24T11:06:59.812Z"
   },
   {
    "duration": 0,
    "start_time": "2022-08-24T11:06:59.813Z"
   },
   {
    "duration": 0,
    "start_time": "2022-08-24T11:06:59.814Z"
   },
   {
    "duration": 0,
    "start_time": "2022-08-24T11:06:59.815Z"
   },
   {
    "duration": 0,
    "start_time": "2022-08-24T11:06:59.817Z"
   },
   {
    "duration": 0,
    "start_time": "2022-08-24T11:06:59.818Z"
   },
   {
    "duration": 0,
    "start_time": "2022-08-24T11:06:59.819Z"
   },
   {
    "duration": 0,
    "start_time": "2022-08-24T11:06:59.820Z"
   },
   {
    "duration": 0,
    "start_time": "2022-08-24T11:06:59.821Z"
   },
   {
    "duration": 0,
    "start_time": "2022-08-24T11:06:59.822Z"
   },
   {
    "duration": 0,
    "start_time": "2022-08-24T11:06:59.823Z"
   },
   {
    "duration": 0,
    "start_time": "2022-08-24T11:06:59.868Z"
   },
   {
    "duration": 0,
    "start_time": "2022-08-24T11:06:59.870Z"
   },
   {
    "duration": 0,
    "start_time": "2022-08-24T11:06:59.871Z"
   },
   {
    "duration": 0,
    "start_time": "2022-08-24T11:06:59.872Z"
   },
   {
    "duration": 0,
    "start_time": "2022-08-24T11:06:59.873Z"
   },
   {
    "duration": 0,
    "start_time": "2022-08-24T11:06:59.874Z"
   },
   {
    "duration": 0,
    "start_time": "2022-08-24T11:06:59.876Z"
   },
   {
    "duration": 0,
    "start_time": "2022-08-24T11:06:59.876Z"
   },
   {
    "duration": 0,
    "start_time": "2022-08-24T11:06:59.878Z"
   },
   {
    "duration": 0,
    "start_time": "2022-08-24T11:06:59.879Z"
   },
   {
    "duration": 0,
    "start_time": "2022-08-24T11:06:59.881Z"
   },
   {
    "duration": 0,
    "start_time": "2022-08-24T11:06:59.882Z"
   },
   {
    "duration": 0,
    "start_time": "2022-08-24T11:06:59.883Z"
   },
   {
    "duration": 0,
    "start_time": "2022-08-24T11:06:59.884Z"
   },
   {
    "duration": 0,
    "start_time": "2022-08-24T11:06:59.885Z"
   },
   {
    "duration": 0,
    "start_time": "2022-08-24T11:06:59.886Z"
   },
   {
    "duration": 0,
    "start_time": "2022-08-24T11:06:59.887Z"
   },
   {
    "duration": 0,
    "start_time": "2022-08-24T11:06:59.888Z"
   },
   {
    "duration": 7,
    "start_time": "2022-08-24T11:07:31.066Z"
   },
   {
    "duration": 61,
    "start_time": "2022-08-24T11:07:31.076Z"
   },
   {
    "duration": 14,
    "start_time": "2022-08-24T11:07:31.139Z"
   },
   {
    "duration": 48,
    "start_time": "2022-08-24T11:07:31.155Z"
   },
   {
    "duration": 8,
    "start_time": "2022-08-24T11:07:31.204Z"
   },
   {
    "duration": 25,
    "start_time": "2022-08-24T11:07:31.213Z"
   },
   {
    "duration": 9,
    "start_time": "2022-08-24T11:07:31.239Z"
   },
   {
    "duration": 245,
    "start_time": "2022-08-24T11:07:31.268Z"
   },
   {
    "duration": 227,
    "start_time": "2022-08-24T11:07:31.516Z"
   },
   {
    "duration": 6,
    "start_time": "2022-08-24T11:07:31.746Z"
   },
   {
    "duration": 18,
    "start_time": "2022-08-24T11:07:31.753Z"
   },
   {
    "duration": 12,
    "start_time": "2022-08-24T11:07:31.773Z"
   },
   {
    "duration": 155,
    "start_time": "2022-08-24T11:07:31.787Z"
   },
   {
    "duration": 6,
    "start_time": "2022-08-24T11:07:31.944Z"
   },
   {
    "duration": 17,
    "start_time": "2022-08-24T11:07:31.952Z"
   },
   {
    "duration": 19,
    "start_time": "2022-08-24T11:07:31.972Z"
   },
   {
    "duration": 16,
    "start_time": "2022-08-24T11:07:31.993Z"
   },
   {
    "duration": 6,
    "start_time": "2022-08-24T11:07:32.012Z"
   },
   {
    "duration": 22,
    "start_time": "2022-08-24T11:07:32.020Z"
   },
   {
    "duration": 8,
    "start_time": "2022-08-24T11:07:32.044Z"
   },
   {
    "duration": 39,
    "start_time": "2022-08-24T11:07:32.069Z"
   },
   {
    "duration": 17,
    "start_time": "2022-08-24T11:07:32.110Z"
   },
   {
    "duration": 51,
    "start_time": "2022-08-24T11:07:32.129Z"
   },
   {
    "duration": 54,
    "start_time": "2022-08-24T11:07:32.183Z"
   },
   {
    "duration": 23,
    "start_time": "2022-08-24T11:07:32.239Z"
   },
   {
    "duration": 29550,
    "start_time": "2022-08-24T11:07:32.263Z"
   },
   {
    "duration": 15,
    "start_time": "2022-08-24T11:08:01.816Z"
   },
   {
    "duration": 37,
    "start_time": "2022-08-24T11:08:01.837Z"
   },
   {
    "duration": 144,
    "start_time": "2022-08-24T11:08:01.875Z"
   },
   {
    "duration": 146,
    "start_time": "2022-08-24T11:08:02.021Z"
   },
   {
    "duration": 10,
    "start_time": "2022-08-24T11:08:02.169Z"
   },
   {
    "duration": 30362,
    "start_time": "2022-08-24T11:08:02.181Z"
   },
   {
    "duration": 32,
    "start_time": "2022-08-24T11:08:32.545Z"
   },
   {
    "duration": 148,
    "start_time": "2022-08-24T11:08:32.579Z"
   },
   {
    "duration": 8,
    "start_time": "2022-08-24T11:08:32.729Z"
   },
   {
    "duration": 5,
    "start_time": "2022-08-24T11:08:32.739Z"
   },
   {
    "duration": 38,
    "start_time": "2022-08-24T11:08:32.745Z"
   },
   {
    "duration": 24,
    "start_time": "2022-08-24T11:08:32.785Z"
   },
   {
    "duration": 11,
    "start_time": "2022-08-24T11:08:32.811Z"
   },
   {
    "duration": 13,
    "start_time": "2022-08-24T11:08:32.825Z"
   },
   {
    "duration": 7,
    "start_time": "2022-08-24T11:08:32.841Z"
   },
   {
    "duration": 24,
    "start_time": "2022-08-24T11:08:32.851Z"
   },
   {
    "duration": 42975,
    "start_time": "2022-08-24T11:08:32.877Z"
   },
   {
    "duration": 28,
    "start_time": "2022-08-24T11:09:15.854Z"
   },
   {
    "duration": 152,
    "start_time": "2022-08-24T11:09:15.884Z"
   },
   {
    "duration": 8,
    "start_time": "2022-08-24T11:09:16.038Z"
   },
   {
    "duration": 5,
    "start_time": "2022-08-24T11:09:16.047Z"
   },
   {
    "duration": 11,
    "start_time": "2022-08-24T11:09:16.067Z"
   },
   {
    "duration": 6,
    "start_time": "2022-08-24T11:09:16.080Z"
   },
   {
    "duration": 8,
    "start_time": "2022-08-24T11:09:16.088Z"
   },
   {
    "duration": 15395,
    "start_time": "2022-08-24T11:09:16.098Z"
   },
   {
    "duration": 19,
    "start_time": "2022-08-24T11:09:31.497Z"
   },
   {
    "duration": 195,
    "start_time": "2022-08-24T11:09:31.519Z"
   },
   {
    "duration": 7,
    "start_time": "2022-08-24T11:09:31.716Z"
   },
   {
    "duration": 9,
    "start_time": "2022-08-24T11:09:31.725Z"
   },
   {
    "duration": 10,
    "start_time": "2022-08-24T11:09:31.736Z"
   },
   {
    "duration": 6,
    "start_time": "2022-08-24T11:09:31.768Z"
   },
   {
    "duration": 8,
    "start_time": "2022-08-24T11:09:31.776Z"
   },
   {
    "duration": 519,
    "start_time": "2022-08-24T11:09:31.786Z"
   },
   {
    "duration": 5,
    "start_time": "2022-08-24T11:09:32.307Z"
   },
   {
    "duration": 17,
    "start_time": "2022-08-24T11:09:32.314Z"
   },
   {
    "duration": 7,
    "start_time": "2022-08-24T11:09:32.332Z"
   },
   {
    "duration": 159,
    "start_time": "2022-08-24T11:09:32.341Z"
   },
   {
    "duration": 7,
    "start_time": "2022-08-24T11:09:32.502Z"
   },
   {
    "duration": 9,
    "start_time": "2022-08-24T11:10:53.898Z"
   },
   {
    "duration": 65,
    "start_time": "2022-08-24T11:10:53.909Z"
   },
   {
    "duration": 15,
    "start_time": "2022-08-24T11:10:53.976Z"
   },
   {
    "duration": 43,
    "start_time": "2022-08-24T11:10:53.993Z"
   },
   {
    "duration": 31,
    "start_time": "2022-08-24T11:10:54.038Z"
   },
   {
    "duration": 9,
    "start_time": "2022-08-24T11:10:54.071Z"
   },
   {
    "duration": 16,
    "start_time": "2022-08-24T11:10:54.082Z"
   },
   {
    "duration": 246,
    "start_time": "2022-08-24T11:10:54.100Z"
   },
   {
    "duration": 221,
    "start_time": "2022-08-24T11:10:54.368Z"
   },
   {
    "duration": 6,
    "start_time": "2022-08-24T11:10:54.591Z"
   },
   {
    "duration": 24,
    "start_time": "2022-08-24T11:10:54.601Z"
   },
   {
    "duration": 29,
    "start_time": "2022-08-24T11:10:54.627Z"
   },
   {
    "duration": 181,
    "start_time": "2022-08-24T11:10:54.658Z"
   },
   {
    "duration": 5,
    "start_time": "2022-08-24T11:10:54.841Z"
   },
   {
    "duration": 20,
    "start_time": "2022-08-24T11:10:54.848Z"
   },
   {
    "duration": 12,
    "start_time": "2022-08-24T11:10:54.870Z"
   },
   {
    "duration": 23,
    "start_time": "2022-08-24T11:10:54.884Z"
   },
   {
    "duration": 9,
    "start_time": "2022-08-24T11:10:54.909Z"
   },
   {
    "duration": 21,
    "start_time": "2022-08-24T11:10:54.920Z"
   },
   {
    "duration": 11,
    "start_time": "2022-08-24T11:10:54.943Z"
   },
   {
    "duration": 44,
    "start_time": "2022-08-24T11:10:54.956Z"
   },
   {
    "duration": 16,
    "start_time": "2022-08-24T11:10:55.002Z"
   },
   {
    "duration": 11,
    "start_time": "2022-08-24T11:10:55.020Z"
   },
   {
    "duration": 34,
    "start_time": "2022-08-24T11:10:55.034Z"
   },
   {
    "duration": 7,
    "start_time": "2022-08-24T11:10:55.070Z"
   },
   {
    "duration": 30043,
    "start_time": "2022-08-24T11:10:55.079Z"
   },
   {
    "duration": 16,
    "start_time": "2022-08-24T11:11:25.123Z"
   },
   {
    "duration": 31,
    "start_time": "2022-08-24T11:11:25.141Z"
   },
   {
    "duration": 157,
    "start_time": "2022-08-24T11:11:25.178Z"
   },
   {
    "duration": 158,
    "start_time": "2022-08-24T11:11:25.337Z"
   },
   {
    "duration": 9,
    "start_time": "2022-08-24T11:11:25.497Z"
   },
   {
    "duration": 29803,
    "start_time": "2022-08-24T11:11:25.509Z"
   },
   {
    "duration": 17,
    "start_time": "2022-08-24T11:11:55.314Z"
   },
   {
    "duration": 154,
    "start_time": "2022-08-24T11:11:55.333Z"
   },
   {
    "duration": 8,
    "start_time": "2022-08-24T11:11:55.489Z"
   },
   {
    "duration": 6,
    "start_time": "2022-08-24T11:11:55.500Z"
   },
   {
    "duration": 8,
    "start_time": "2022-08-24T11:11:55.508Z"
   },
   {
    "duration": 49,
    "start_time": "2022-08-24T11:11:55.519Z"
   },
   {
    "duration": 6,
    "start_time": "2022-08-24T11:11:55.570Z"
   },
   {
    "duration": 13,
    "start_time": "2022-08-24T11:11:55.577Z"
   },
   {
    "duration": 7,
    "start_time": "2022-08-24T11:11:55.592Z"
   },
   {
    "duration": 9,
    "start_time": "2022-08-24T11:11:55.601Z"
   },
   {
    "duration": 42940,
    "start_time": "2022-08-24T11:11:55.612Z"
   },
   {
    "duration": 27,
    "start_time": "2022-08-24T11:12:38.555Z"
   },
   {
    "duration": 157,
    "start_time": "2022-08-24T11:12:38.584Z"
   },
   {
    "duration": 8,
    "start_time": "2022-08-24T11:12:38.744Z"
   },
   {
    "duration": 5,
    "start_time": "2022-08-24T11:12:38.768Z"
   },
   {
    "duration": 23,
    "start_time": "2022-08-24T11:12:38.775Z"
   },
   {
    "duration": 6,
    "start_time": "2022-08-24T11:12:38.801Z"
   },
   {
    "duration": 10,
    "start_time": "2022-08-24T11:12:38.809Z"
   },
   {
    "duration": 14754,
    "start_time": "2022-08-24T11:12:38.822Z"
   },
   {
    "duration": 17,
    "start_time": "2022-08-24T11:12:53.577Z"
   },
   {
    "duration": 161,
    "start_time": "2022-08-24T11:12:53.596Z"
   },
   {
    "duration": 11,
    "start_time": "2022-08-24T11:12:53.758Z"
   },
   {
    "duration": 8,
    "start_time": "2022-08-24T11:12:53.771Z"
   },
   {
    "duration": 29,
    "start_time": "2022-08-24T11:12:53.781Z"
   },
   {
    "duration": 9,
    "start_time": "2022-08-24T11:12:53.812Z"
   },
   {
    "duration": 26,
    "start_time": "2022-08-24T11:12:53.823Z"
   },
   {
    "duration": 526,
    "start_time": "2022-08-24T11:12:53.851Z"
   },
   {
    "duration": 5,
    "start_time": "2022-08-24T11:12:54.379Z"
   },
   {
    "duration": 17,
    "start_time": "2022-08-24T11:12:54.386Z"
   },
   {
    "duration": 7,
    "start_time": "2022-08-24T11:12:54.405Z"
   },
   {
    "duration": 170,
    "start_time": "2022-08-24T11:12:54.413Z"
   },
   {
    "duration": 8,
    "start_time": "2022-08-24T11:12:54.585Z"
   },
   {
    "duration": 150,
    "start_time": "2022-08-24T11:15:45.142Z"
   },
   {
    "duration": 146,
    "start_time": "2022-08-24T11:16:33.405Z"
   },
   {
    "duration": 144,
    "start_time": "2022-08-24T11:18:08.521Z"
   },
   {
    "duration": 156,
    "start_time": "2022-08-24T11:18:17.463Z"
   },
   {
    "duration": 6,
    "start_time": "2022-08-24T11:20:54.522Z"
   },
   {
    "duration": 55,
    "start_time": "2022-08-24T11:20:54.530Z"
   },
   {
    "duration": 14,
    "start_time": "2022-08-24T11:20:54.587Z"
   },
   {
    "duration": 67,
    "start_time": "2022-08-24T11:20:54.603Z"
   },
   {
    "duration": 7,
    "start_time": "2022-08-24T11:20:54.672Z"
   },
   {
    "duration": 11,
    "start_time": "2022-08-24T11:20:54.681Z"
   },
   {
    "duration": 9,
    "start_time": "2022-08-24T11:20:54.694Z"
   },
   {
    "duration": 265,
    "start_time": "2022-08-24T11:20:54.705Z"
   },
   {
    "duration": 235,
    "start_time": "2022-08-24T11:20:54.974Z"
   },
   {
    "duration": 7,
    "start_time": "2022-08-24T11:20:55.211Z"
   },
   {
    "duration": 11,
    "start_time": "2022-08-24T11:20:55.220Z"
   },
   {
    "duration": 10,
    "start_time": "2022-08-24T11:20:55.233Z"
   },
   {
    "duration": 170,
    "start_time": "2022-08-24T11:20:55.245Z"
   },
   {
    "duration": 5,
    "start_time": "2022-08-24T11:20:55.417Z"
   },
   {
    "duration": 8,
    "start_time": "2022-08-24T11:20:55.423Z"
   },
   {
    "duration": 9,
    "start_time": "2022-08-24T11:20:55.433Z"
   },
   {
    "duration": 28,
    "start_time": "2022-08-24T11:20:55.444Z"
   },
   {
    "duration": 6,
    "start_time": "2022-08-24T11:20:55.474Z"
   },
   {
    "duration": 24,
    "start_time": "2022-08-24T11:20:55.481Z"
   },
   {
    "duration": 10,
    "start_time": "2022-08-24T11:20:55.508Z"
   },
   {
    "duration": 59,
    "start_time": "2022-08-24T11:20:55.520Z"
   },
   {
    "duration": 19,
    "start_time": "2022-08-24T11:20:55.581Z"
   },
   {
    "duration": 12,
    "start_time": "2022-08-24T11:20:55.602Z"
   },
   {
    "duration": 15,
    "start_time": "2022-08-24T11:20:55.618Z"
   },
   {
    "duration": 35,
    "start_time": "2022-08-24T11:20:55.635Z"
   },
   {
    "duration": 29684,
    "start_time": "2022-08-24T11:20:55.672Z"
   },
   {
    "duration": 23,
    "start_time": "2022-08-24T11:21:25.358Z"
   },
   {
    "duration": 13,
    "start_time": "2022-08-24T11:21:25.383Z"
   },
   {
    "duration": 173,
    "start_time": "2022-08-24T11:21:25.398Z"
   },
   {
    "duration": 353,
    "start_time": "2022-08-24T11:21:25.573Z"
   },
   {
    "duration": 7,
    "start_time": "2022-08-24T11:21:25.928Z"
   },
   {
    "duration": 29577,
    "start_time": "2022-08-24T11:21:25.937Z"
   },
   {
    "duration": 18,
    "start_time": "2022-08-24T11:21:55.516Z"
   },
   {
    "duration": 166,
    "start_time": "2022-08-24T11:21:55.536Z"
   },
   {
    "duration": 9,
    "start_time": "2022-08-24T11:21:55.704Z"
   },
   {
    "duration": 24,
    "start_time": "2022-08-24T11:21:55.715Z"
   },
   {
    "duration": 15,
    "start_time": "2022-08-24T11:21:55.741Z"
   },
   {
    "duration": 20,
    "start_time": "2022-08-24T11:21:55.758Z"
   },
   {
    "duration": 7,
    "start_time": "2022-08-24T11:21:55.781Z"
   },
   {
    "duration": 19,
    "start_time": "2022-08-24T11:21:55.790Z"
   },
   {
    "duration": 7,
    "start_time": "2022-08-24T11:21:55.811Z"
   },
   {
    "duration": 14,
    "start_time": "2022-08-24T11:21:55.820Z"
   },
   {
    "duration": 42144,
    "start_time": "2022-08-24T11:21:55.836Z"
   },
   {
    "duration": 16,
    "start_time": "2022-08-24T11:22:37.982Z"
   },
   {
    "duration": 160,
    "start_time": "2022-08-24T11:22:38.000Z"
   },
   {
    "duration": 10,
    "start_time": "2022-08-24T11:22:38.161Z"
   },
   {
    "duration": 4,
    "start_time": "2022-08-24T11:22:38.173Z"
   },
   {
    "duration": 15,
    "start_time": "2022-08-24T11:22:38.179Z"
   },
   {
    "duration": 6,
    "start_time": "2022-08-24T11:22:38.197Z"
   },
   {
    "duration": 5,
    "start_time": "2022-08-24T11:22:38.205Z"
   },
   {
    "duration": 15030,
    "start_time": "2022-08-24T11:22:38.212Z"
   },
   {
    "duration": 32,
    "start_time": "2022-08-24T11:22:53.243Z"
   },
   {
    "duration": 152,
    "start_time": "2022-08-24T11:22:53.278Z"
   },
   {
    "duration": 7,
    "start_time": "2022-08-24T11:22:53.433Z"
   },
   {
    "duration": 6,
    "start_time": "2022-08-24T11:22:53.441Z"
   },
   {
    "duration": 32,
    "start_time": "2022-08-24T11:22:53.448Z"
   },
   {
    "duration": 6,
    "start_time": "2022-08-24T11:22:53.482Z"
   },
   {
    "duration": 11,
    "start_time": "2022-08-24T11:22:53.490Z"
   },
   {
    "duration": 538,
    "start_time": "2022-08-24T11:22:53.503Z"
   },
   {
    "duration": 6,
    "start_time": "2022-08-24T11:22:54.042Z"
   },
   {
    "duration": 29,
    "start_time": "2022-08-24T11:22:54.051Z"
   },
   {
    "duration": 8,
    "start_time": "2022-08-24T11:22:54.082Z"
   },
   {
    "duration": 172,
    "start_time": "2022-08-24T11:22:54.092Z"
   },
   {
    "duration": 6,
    "start_time": "2022-08-24T11:22:54.268Z"
   },
   {
    "duration": 123,
    "start_time": "2022-08-24T11:37:24.083Z"
   },
   {
    "duration": 140,
    "start_time": "2022-08-24T11:37:43.618Z"
   },
   {
    "duration": 132,
    "start_time": "2022-08-24T11:38:44.084Z"
   },
   {
    "duration": 6,
    "start_time": "2022-08-24T11:39:07.983Z"
   },
   {
    "duration": 51,
    "start_time": "2022-08-24T11:39:07.999Z"
   },
   {
    "duration": 13,
    "start_time": "2022-08-24T11:39:08.052Z"
   },
   {
    "duration": 40,
    "start_time": "2022-08-24T11:39:08.067Z"
   },
   {
    "duration": 8,
    "start_time": "2022-08-24T11:39:08.109Z"
   },
   {
    "duration": 10,
    "start_time": "2022-08-24T11:39:08.119Z"
   },
   {
    "duration": 42,
    "start_time": "2022-08-24T11:39:08.131Z"
   },
   {
    "duration": 232,
    "start_time": "2022-08-24T11:39:08.175Z"
   },
   {
    "duration": 231,
    "start_time": "2022-08-24T11:39:08.409Z"
   },
   {
    "duration": 5,
    "start_time": "2022-08-24T11:39:08.642Z"
   },
   {
    "duration": 19,
    "start_time": "2022-08-24T11:39:08.650Z"
   },
   {
    "duration": 11,
    "start_time": "2022-08-24T11:39:08.670Z"
   },
   {
    "duration": 148,
    "start_time": "2022-08-24T11:39:08.683Z"
   },
   {
    "duration": 5,
    "start_time": "2022-08-24T11:39:08.833Z"
   },
   {
    "duration": 5,
    "start_time": "2022-08-24T11:39:08.839Z"
   },
   {
    "duration": 23,
    "start_time": "2022-08-24T11:39:08.846Z"
   },
   {
    "duration": 12,
    "start_time": "2022-08-24T11:39:08.871Z"
   },
   {
    "duration": 7,
    "start_time": "2022-08-24T11:39:08.885Z"
   },
   {
    "duration": 30,
    "start_time": "2022-08-24T11:39:08.894Z"
   },
   {
    "duration": 8,
    "start_time": "2022-08-24T11:39:08.927Z"
   },
   {
    "duration": 48,
    "start_time": "2022-08-24T11:39:08.936Z"
   },
   {
    "duration": 18,
    "start_time": "2022-08-24T11:39:08.986Z"
   },
   {
    "duration": 17,
    "start_time": "2022-08-24T11:39:09.006Z"
   },
   {
    "duration": 21,
    "start_time": "2022-08-24T11:39:09.024Z"
   },
   {
    "duration": 21,
    "start_time": "2022-08-24T11:39:09.047Z"
   },
   {
    "duration": 28784,
    "start_time": "2022-08-24T11:39:09.070Z"
   },
   {
    "duration": 23,
    "start_time": "2022-08-24T11:39:37.856Z"
   },
   {
    "duration": 12,
    "start_time": "2022-08-24T11:39:37.881Z"
   },
   {
    "duration": 150,
    "start_time": "2022-08-24T11:39:37.897Z"
   },
   {
    "duration": 136,
    "start_time": "2022-08-24T11:39:38.052Z"
   },
   {
    "duration": 8,
    "start_time": "2022-08-24T11:39:38.190Z"
   },
   {
    "duration": 28440,
    "start_time": "2022-08-24T11:39:38.199Z"
   },
   {
    "duration": 36,
    "start_time": "2022-08-24T11:40:06.642Z"
   },
   {
    "duration": 17,
    "start_time": "2022-08-24T11:40:06.680Z"
   },
   {
    "duration": 197,
    "start_time": "2022-08-24T11:40:06.700Z"
   },
   {
    "duration": 125,
    "start_time": "2022-08-24T11:40:06.900Z"
   },
   {
    "duration": 8,
    "start_time": "2022-08-24T11:40:07.027Z"
   },
   {
    "duration": 8,
    "start_time": "2022-08-24T11:40:07.037Z"
   },
   {
    "duration": 22,
    "start_time": "2022-08-24T11:40:07.047Z"
   },
   {
    "duration": 19,
    "start_time": "2022-08-24T11:40:07.071Z"
   },
   {
    "duration": 8,
    "start_time": "2022-08-24T11:40:07.092Z"
   },
   {
    "duration": 14,
    "start_time": "2022-08-24T11:40:07.102Z"
   },
   {
    "duration": 5,
    "start_time": "2022-08-24T11:40:07.118Z"
   },
   {
    "duration": 10,
    "start_time": "2022-08-24T11:40:07.125Z"
   },
   {
    "duration": 40798,
    "start_time": "2022-08-24T11:40:07.137Z"
   },
   {
    "duration": 16,
    "start_time": "2022-08-24T11:40:47.937Z"
   },
   {
    "duration": 142,
    "start_time": "2022-08-24T11:40:47.967Z"
   },
   {
    "duration": 6,
    "start_time": "2022-08-24T11:40:48.111Z"
   },
   {
    "duration": 7,
    "start_time": "2022-08-24T11:40:48.119Z"
   },
   {
    "duration": 12,
    "start_time": "2022-08-24T11:40:48.128Z"
   },
   {
    "duration": 26,
    "start_time": "2022-08-24T11:40:48.142Z"
   },
   {
    "duration": 6,
    "start_time": "2022-08-24T11:40:48.170Z"
   },
   {
    "duration": 14344,
    "start_time": "2022-08-24T11:40:48.178Z"
   },
   {
    "duration": 15,
    "start_time": "2022-08-24T11:41:02.523Z"
   },
   {
    "duration": 146,
    "start_time": "2022-08-24T11:41:02.540Z"
   },
   {
    "duration": 6,
    "start_time": "2022-08-24T11:41:02.688Z"
   },
   {
    "duration": 8,
    "start_time": "2022-08-24T11:41:02.696Z"
   },
   {
    "duration": 12,
    "start_time": "2022-08-24T11:41:02.705Z"
   },
   {
    "duration": 6,
    "start_time": "2022-08-24T11:41:02.718Z"
   },
   {
    "duration": 10,
    "start_time": "2022-08-24T11:41:02.725Z"
   },
   {
    "duration": 534,
    "start_time": "2022-08-24T11:41:02.737Z"
   },
   {
    "duration": 5,
    "start_time": "2022-08-24T11:41:03.273Z"
   },
   {
    "duration": 17,
    "start_time": "2022-08-24T11:41:03.279Z"
   },
   {
    "duration": 6,
    "start_time": "2022-08-24T11:41:03.298Z"
   },
   {
    "duration": 162,
    "start_time": "2022-08-24T11:41:03.305Z"
   },
   {
    "duration": 7,
    "start_time": "2022-08-24T11:41:03.469Z"
   },
   {
    "duration": 7,
    "start_time": "2022-08-24T11:44:54.047Z"
   },
   {
    "duration": 79,
    "start_time": "2022-08-24T11:44:54.056Z"
   },
   {
    "duration": 13,
    "start_time": "2022-08-24T11:44:54.137Z"
   },
   {
    "duration": 44,
    "start_time": "2022-08-24T11:44:54.152Z"
   },
   {
    "duration": 7,
    "start_time": "2022-08-24T11:44:54.199Z"
   },
   {
    "duration": 10,
    "start_time": "2022-08-24T11:44:54.208Z"
   },
   {
    "duration": 8,
    "start_time": "2022-08-24T11:44:54.220Z"
   },
   {
    "duration": 258,
    "start_time": "2022-08-24T11:44:54.230Z"
   },
   {
    "duration": 212,
    "start_time": "2022-08-24T11:44:54.490Z"
   },
   {
    "duration": 6,
    "start_time": "2022-08-24T11:44:54.703Z"
   },
   {
    "duration": 9,
    "start_time": "2022-08-24T11:44:54.712Z"
   },
   {
    "duration": 9,
    "start_time": "2022-08-24T11:44:54.723Z"
   },
   {
    "duration": 164,
    "start_time": "2022-08-24T11:44:54.733Z"
   },
   {
    "duration": 5,
    "start_time": "2022-08-24T11:44:54.898Z"
   },
   {
    "duration": 4,
    "start_time": "2022-08-24T11:44:54.905Z"
   },
   {
    "duration": 6,
    "start_time": "2022-08-24T11:44:54.910Z"
   },
   {
    "duration": 10,
    "start_time": "2022-08-24T11:44:54.918Z"
   },
   {
    "duration": 6,
    "start_time": "2022-08-24T11:44:54.929Z"
   },
   {
    "duration": 49,
    "start_time": "2022-08-24T11:44:54.936Z"
   },
   {
    "duration": 5,
    "start_time": "2022-08-24T11:44:54.987Z"
   },
   {
    "duration": 46,
    "start_time": "2022-08-24T11:44:54.994Z"
   },
   {
    "duration": 31,
    "start_time": "2022-08-24T11:44:55.042Z"
   },
   {
    "duration": 23,
    "start_time": "2022-08-24T11:44:55.074Z"
   },
   {
    "duration": 12,
    "start_time": "2022-08-24T11:44:55.099Z"
   },
   {
    "duration": 6,
    "start_time": "2022-08-24T11:44:55.113Z"
   },
   {
    "duration": 29663,
    "start_time": "2022-08-24T11:44:55.121Z"
   },
   {
    "duration": 16,
    "start_time": "2022-08-24T11:45:24.786Z"
   },
   {
    "duration": 14,
    "start_time": "2022-08-24T11:45:24.804Z"
   },
   {
    "duration": 167,
    "start_time": "2022-08-24T11:45:24.822Z"
   },
   {
    "duration": 139,
    "start_time": "2022-08-24T11:45:24.990Z"
   },
   {
    "duration": 7,
    "start_time": "2022-08-24T11:45:25.131Z"
   },
   {
    "duration": 29580,
    "start_time": "2022-08-24T11:45:25.140Z"
   },
   {
    "duration": 19,
    "start_time": "2022-08-24T11:45:54.722Z"
   },
   {
    "duration": 38,
    "start_time": "2022-08-24T11:45:54.743Z"
   },
   {
    "duration": 148,
    "start_time": "2022-08-24T11:45:54.784Z"
   },
   {
    "duration": 377,
    "start_time": "2022-08-24T11:45:54.934Z"
   },
   {
    "duration": 7,
    "start_time": "2022-08-24T11:45:55.313Z"
   },
   {
    "duration": 5,
    "start_time": "2022-08-24T11:45:55.322Z"
   },
   {
    "duration": 10,
    "start_time": "2022-08-24T11:45:55.329Z"
   },
   {
    "duration": 46,
    "start_time": "2022-08-24T11:45:55.341Z"
   },
   {
    "duration": 6,
    "start_time": "2022-08-24T11:45:55.388Z"
   },
   {
    "duration": 12,
    "start_time": "2022-08-24T11:45:55.396Z"
   },
   {
    "duration": 8,
    "start_time": "2022-08-24T11:45:55.410Z"
   },
   {
    "duration": 9,
    "start_time": "2022-08-24T11:45:55.421Z"
   },
   {
    "duration": 43515,
    "start_time": "2022-08-24T11:45:55.433Z"
   },
   {
    "duration": 32,
    "start_time": "2022-08-24T11:46:38.949Z"
   },
   {
    "duration": 13,
    "start_time": "2022-08-24T11:46:38.983Z"
   },
   {
    "duration": 145,
    "start_time": "2022-08-24T11:46:38.997Z"
   },
   {
    "duration": 142,
    "start_time": "2022-08-24T11:46:39.144Z"
   },
   {
    "duration": 6,
    "start_time": "2022-08-24T11:46:39.288Z"
   },
   {
    "duration": 236,
    "start_time": "2022-08-24T11:46:39.295Z"
   },
   {
    "duration": 0,
    "start_time": "2022-08-24T11:46:39.533Z"
   },
   {
    "duration": 0,
    "start_time": "2022-08-24T11:46:39.534Z"
   },
   {
    "duration": 0,
    "start_time": "2022-08-24T11:46:39.536Z"
   },
   {
    "duration": 0,
    "start_time": "2022-08-24T11:46:39.537Z"
   },
   {
    "duration": 0,
    "start_time": "2022-08-24T11:46:39.539Z"
   },
   {
    "duration": 0,
    "start_time": "2022-08-24T11:46:39.540Z"
   },
   {
    "duration": 0,
    "start_time": "2022-08-24T11:46:39.542Z"
   },
   {
    "duration": 0,
    "start_time": "2022-08-24T11:46:39.543Z"
   },
   {
    "duration": 0,
    "start_time": "2022-08-24T11:46:39.544Z"
   },
   {
    "duration": 0,
    "start_time": "2022-08-24T11:46:39.546Z"
   },
   {
    "duration": 0,
    "start_time": "2022-08-24T11:46:39.547Z"
   },
   {
    "duration": 0,
    "start_time": "2022-08-24T11:46:39.549Z"
   },
   {
    "duration": 0,
    "start_time": "2022-08-24T11:46:39.550Z"
   },
   {
    "duration": 0,
    "start_time": "2022-08-24T11:46:39.552Z"
   },
   {
    "duration": 0,
    "start_time": "2022-08-24T11:46:39.553Z"
   },
   {
    "duration": 0,
    "start_time": "2022-08-24T11:46:39.554Z"
   },
   {
    "duration": 0,
    "start_time": "2022-08-24T11:46:39.555Z"
   },
   {
    "duration": 0,
    "start_time": "2022-08-24T11:46:39.556Z"
   },
   {
    "duration": 9,
    "start_time": "2022-08-24T11:49:07.431Z"
   },
   {
    "duration": 66,
    "start_time": "2022-08-24T11:49:07.442Z"
   },
   {
    "duration": 15,
    "start_time": "2022-08-24T11:49:07.509Z"
   },
   {
    "duration": 61,
    "start_time": "2022-08-24T11:49:07.527Z"
   },
   {
    "duration": 7,
    "start_time": "2022-08-24T11:49:07.590Z"
   },
   {
    "duration": 13,
    "start_time": "2022-08-24T11:49:07.600Z"
   },
   {
    "duration": 13,
    "start_time": "2022-08-24T11:49:07.614Z"
   },
   {
    "duration": 247,
    "start_time": "2022-08-24T11:49:07.629Z"
   },
   {
    "duration": 225,
    "start_time": "2022-08-24T11:49:07.879Z"
   },
   {
    "duration": 9,
    "start_time": "2022-08-24T11:49:08.106Z"
   },
   {
    "duration": 19,
    "start_time": "2022-08-24T11:49:08.117Z"
   },
   {
    "duration": 16,
    "start_time": "2022-08-24T11:49:08.138Z"
   },
   {
    "duration": 153,
    "start_time": "2022-08-24T11:49:08.157Z"
   },
   {
    "duration": 5,
    "start_time": "2022-08-24T11:49:08.313Z"
   },
   {
    "duration": 8,
    "start_time": "2022-08-24T11:49:08.319Z"
   },
   {
    "duration": 8,
    "start_time": "2022-08-24T11:49:08.329Z"
   },
   {
    "duration": 10,
    "start_time": "2022-08-24T11:49:08.338Z"
   },
   {
    "duration": 7,
    "start_time": "2022-08-24T11:49:08.367Z"
   },
   {
    "duration": 19,
    "start_time": "2022-08-24T11:49:08.376Z"
   },
   {
    "duration": 6,
    "start_time": "2022-08-24T11:49:08.397Z"
   },
   {
    "duration": 35,
    "start_time": "2022-08-24T11:49:08.404Z"
   },
   {
    "duration": 39,
    "start_time": "2022-08-24T11:49:08.441Z"
   },
   {
    "duration": 11,
    "start_time": "2022-08-24T11:49:08.483Z"
   },
   {
    "duration": 12,
    "start_time": "2022-08-24T11:49:08.498Z"
   },
   {
    "duration": 6,
    "start_time": "2022-08-24T11:49:08.512Z"
   },
   {
    "duration": 28767,
    "start_time": "2022-08-24T11:49:08.520Z"
   },
   {
    "duration": 19,
    "start_time": "2022-08-24T11:49:37.289Z"
   },
   {
    "duration": 16,
    "start_time": "2022-08-24T11:49:37.311Z"
   },
   {
    "duration": 196,
    "start_time": "2022-08-24T11:49:37.329Z"
   },
   {
    "duration": 140,
    "start_time": "2022-08-24T11:49:37.527Z"
   },
   {
    "duration": 8,
    "start_time": "2022-08-24T11:49:37.669Z"
   },
   {
    "duration": 31200,
    "start_time": "2022-08-24T11:49:37.678Z"
   },
   {
    "duration": 19,
    "start_time": "2022-08-24T11:50:08.880Z"
   },
   {
    "duration": 16,
    "start_time": "2022-08-24T11:50:08.901Z"
   },
   {
    "duration": 164,
    "start_time": "2022-08-24T11:50:08.918Z"
   },
   {
    "duration": 138,
    "start_time": "2022-08-24T11:50:09.084Z"
   },
   {
    "duration": 8,
    "start_time": "2022-08-24T11:50:09.224Z"
   },
   {
    "duration": 5,
    "start_time": "2022-08-24T11:50:09.234Z"
   },
   {
    "duration": 30,
    "start_time": "2022-08-24T11:50:09.241Z"
   },
   {
    "duration": 24,
    "start_time": "2022-08-24T11:50:09.273Z"
   },
   {
    "duration": 6,
    "start_time": "2022-08-24T11:50:09.299Z"
   },
   {
    "duration": 14,
    "start_time": "2022-08-24T11:50:09.307Z"
   },
   {
    "duration": 7,
    "start_time": "2022-08-24T11:50:09.323Z"
   },
   {
    "duration": 45,
    "start_time": "2022-08-24T11:50:09.332Z"
   },
   {
    "duration": 44875,
    "start_time": "2022-08-24T11:50:09.379Z"
   },
   {
    "duration": 22,
    "start_time": "2022-08-24T11:50:54.256Z"
   },
   {
    "duration": 13,
    "start_time": "2022-08-24T11:50:54.280Z"
   },
   {
    "duration": 151,
    "start_time": "2022-08-24T11:50:54.294Z"
   },
   {
    "duration": 137,
    "start_time": "2022-08-24T11:50:54.447Z"
   },
   {
    "duration": 6,
    "start_time": "2022-08-24T11:50:54.586Z"
   },
   {
    "duration": 23,
    "start_time": "2022-08-24T11:50:54.594Z"
   },
   {
    "duration": 45,
    "start_time": "2022-08-24T11:50:54.619Z"
   },
   {
    "duration": 41,
    "start_time": "2022-08-24T11:50:54.666Z"
   },
   {
    "duration": 32,
    "start_time": "2022-08-24T11:50:54.708Z"
   },
   {
    "duration": 14236,
    "start_time": "2022-08-24T11:50:54.742Z"
   },
   {
    "duration": 17,
    "start_time": "2022-08-24T11:51:08.980Z"
   },
   {
    "duration": 162,
    "start_time": "2022-08-24T11:51:08.999Z"
   },
   {
    "duration": 11,
    "start_time": "2022-08-24T11:51:09.162Z"
   },
   {
    "duration": 28,
    "start_time": "2022-08-24T11:51:09.175Z"
   },
   {
    "duration": 35,
    "start_time": "2022-08-24T11:51:09.205Z"
   },
   {
    "duration": 14,
    "start_time": "2022-08-24T11:51:09.242Z"
   },
   {
    "duration": 36,
    "start_time": "2022-08-24T11:51:09.257Z"
   },
   {
    "duration": 561,
    "start_time": "2022-08-24T11:51:09.295Z"
   },
   {
    "duration": 13,
    "start_time": "2022-08-24T11:51:09.858Z"
   },
   {
    "duration": 34,
    "start_time": "2022-08-24T11:51:09.873Z"
   },
   {
    "duration": 27,
    "start_time": "2022-08-24T11:51:09.909Z"
   },
   {
    "duration": 203,
    "start_time": "2022-08-24T11:51:09.938Z"
   },
   {
    "duration": 8,
    "start_time": "2022-08-24T11:51:10.143Z"
   },
   {
    "duration": 537,
    "start_time": "2022-08-24T11:52:06.592Z"
   },
   {
    "duration": 5,
    "start_time": "2022-08-24T11:52:10.672Z"
   },
   {
    "duration": 14,
    "start_time": "2022-08-24T11:52:14.434Z"
   },
   {
    "duration": 6,
    "start_time": "2022-08-24T11:52:17.188Z"
   },
   {
    "duration": 130,
    "start_time": "2022-08-24T11:52:32.525Z"
   },
   {
    "duration": 1582,
    "start_time": "2022-08-24T14:01:13.044Z"
   },
   {
    "duration": 194,
    "start_time": "2022-08-24T14:01:14.629Z"
   },
   {
    "duration": 17,
    "start_time": "2022-08-24T14:01:14.825Z"
   },
   {
    "duration": 49,
    "start_time": "2022-08-24T14:01:14.844Z"
   },
   {
    "duration": 7,
    "start_time": "2022-08-24T14:01:14.894Z"
   },
   {
    "duration": 32,
    "start_time": "2022-08-24T14:01:14.903Z"
   },
   {
    "duration": 24,
    "start_time": "2022-08-24T14:01:14.937Z"
   },
   {
    "duration": 221,
    "start_time": "2022-08-24T14:01:14.963Z"
   },
   {
    "duration": 206,
    "start_time": "2022-08-24T14:01:15.191Z"
   },
   {
    "duration": 6,
    "start_time": "2022-08-24T14:01:15.400Z"
   },
   {
    "duration": 7,
    "start_time": "2022-08-24T14:01:15.408Z"
   },
   {
    "duration": 32,
    "start_time": "2022-08-24T14:01:15.417Z"
   },
   {
    "duration": 142,
    "start_time": "2022-08-24T14:01:15.450Z"
   },
   {
    "duration": 5,
    "start_time": "2022-08-24T14:01:15.594Z"
   },
   {
    "duration": 9,
    "start_time": "2022-08-24T14:01:15.600Z"
   },
   {
    "duration": 13,
    "start_time": "2022-08-24T14:01:15.611Z"
   },
   {
    "duration": 13,
    "start_time": "2022-08-24T14:01:15.626Z"
   },
   {
    "duration": 30,
    "start_time": "2022-08-24T14:01:15.641Z"
   },
   {
    "duration": 31,
    "start_time": "2022-08-24T14:01:15.673Z"
   },
   {
    "duration": 16,
    "start_time": "2022-08-24T14:01:15.706Z"
   },
   {
    "duration": 49,
    "start_time": "2022-08-24T14:01:15.724Z"
   },
   {
    "duration": 19,
    "start_time": "2022-08-24T14:01:15.774Z"
   },
   {
    "duration": 98,
    "start_time": "2022-08-24T14:01:15.795Z"
   },
   {
    "duration": 12,
    "start_time": "2022-08-24T14:01:15.895Z"
   },
   {
    "duration": 11,
    "start_time": "2022-08-24T14:01:15.909Z"
   },
   {
    "duration": 30397,
    "start_time": "2022-08-24T14:01:15.922Z"
   },
   {
    "duration": 14,
    "start_time": "2022-08-24T14:01:46.321Z"
   },
   {
    "duration": 13,
    "start_time": "2022-08-24T14:01:46.340Z"
   },
   {
    "duration": 175,
    "start_time": "2022-08-24T14:01:46.354Z"
   },
   {
    "duration": 133,
    "start_time": "2022-08-24T14:01:46.531Z"
   },
   {
    "duration": 12,
    "start_time": "2022-08-24T14:01:46.666Z"
   },
   {
    "duration": 31298,
    "start_time": "2022-08-24T14:01:46.680Z"
   },
   {
    "duration": 30,
    "start_time": "2022-08-24T14:02:17.979Z"
   },
   {
    "duration": 24,
    "start_time": "2022-08-24T14:02:18.011Z"
   },
   {
    "duration": 142,
    "start_time": "2022-08-24T14:02:18.037Z"
   },
   {
    "duration": 132,
    "start_time": "2022-08-24T14:02:18.181Z"
   },
   {
    "duration": 8,
    "start_time": "2022-08-24T14:02:18.314Z"
   },
   {
    "duration": 5,
    "start_time": "2022-08-24T14:02:18.323Z"
   },
   {
    "duration": 8,
    "start_time": "2022-08-24T14:02:18.329Z"
   },
   {
    "duration": 17,
    "start_time": "2022-08-24T14:02:18.339Z"
   },
   {
    "duration": 35,
    "start_time": "2022-08-24T14:02:18.358Z"
   },
   {
    "duration": 14,
    "start_time": "2022-08-24T14:02:18.395Z"
   },
   {
    "duration": 5,
    "start_time": "2022-08-24T14:02:18.410Z"
   },
   {
    "duration": 16,
    "start_time": "2022-08-24T14:02:18.417Z"
   },
   {
    "duration": 42876,
    "start_time": "2022-08-24T14:02:18.434Z"
   },
   {
    "duration": 14,
    "start_time": "2022-08-24T14:03:01.312Z"
   },
   {
    "duration": 29,
    "start_time": "2022-08-24T14:03:01.328Z"
   },
   {
    "duration": 152,
    "start_time": "2022-08-24T14:03:01.359Z"
   },
   {
    "duration": 141,
    "start_time": "2022-08-24T14:03:01.513Z"
   },
   {
    "duration": 9,
    "start_time": "2022-08-24T14:03:01.656Z"
   },
   {
    "duration": 33,
    "start_time": "2022-08-24T14:03:01.668Z"
   },
   {
    "duration": 48,
    "start_time": "2022-08-24T14:03:01.703Z"
   },
   {
    "duration": 11,
    "start_time": "2022-08-24T14:03:01.753Z"
   },
   {
    "duration": 22,
    "start_time": "2022-08-24T14:03:01.766Z"
   },
   {
    "duration": 15078,
    "start_time": "2022-08-24T14:03:01.790Z"
   },
   {
    "duration": 31,
    "start_time": "2022-08-24T14:03:16.870Z"
   },
   {
    "duration": 160,
    "start_time": "2022-08-24T14:03:16.903Z"
   },
   {
    "duration": 7,
    "start_time": "2022-08-24T14:03:17.065Z"
   },
   {
    "duration": 19,
    "start_time": "2022-08-24T14:03:17.074Z"
   },
   {
    "duration": 14,
    "start_time": "2022-08-24T14:03:17.094Z"
   },
   {
    "duration": 6,
    "start_time": "2022-08-24T14:03:17.110Z"
   },
   {
    "duration": 10,
    "start_time": "2022-08-24T14:03:17.117Z"
   },
   {
    "duration": 553,
    "start_time": "2022-08-24T14:03:17.129Z"
   },
   {
    "duration": 10,
    "start_time": "2022-08-24T14:03:17.684Z"
   },
   {
    "duration": 25,
    "start_time": "2022-08-24T14:03:17.695Z"
   },
   {
    "duration": 7,
    "start_time": "2022-08-24T14:03:17.722Z"
   },
   {
    "duration": 168,
    "start_time": "2022-08-24T14:03:17.731Z"
   },
   {
    "duration": 7,
    "start_time": "2022-08-24T14:03:17.901Z"
   },
   {
    "duration": 6,
    "start_time": "2022-08-24T14:03:27.103Z"
   },
   {
    "duration": 82,
    "start_time": "2022-08-24T14:03:27.112Z"
   },
   {
    "duration": 14,
    "start_time": "2022-08-24T14:03:27.196Z"
   },
   {
    "duration": 41,
    "start_time": "2022-08-24T14:03:27.211Z"
   },
   {
    "duration": 7,
    "start_time": "2022-08-24T14:03:27.253Z"
   },
   {
    "duration": 36,
    "start_time": "2022-08-24T14:03:27.262Z"
   },
   {
    "duration": 9,
    "start_time": "2022-08-24T14:03:27.300Z"
   },
   {
    "duration": 208,
    "start_time": "2022-08-24T14:03:27.311Z"
   },
   {
    "duration": 202,
    "start_time": "2022-08-24T14:03:27.523Z"
   },
   {
    "duration": 6,
    "start_time": "2022-08-24T14:03:27.727Z"
   },
   {
    "duration": 7,
    "start_time": "2022-08-24T14:03:27.735Z"
   },
   {
    "duration": 9,
    "start_time": "2022-08-24T14:03:27.744Z"
   },
   {
    "duration": 260,
    "start_time": "2022-08-24T14:03:27.756Z"
   },
   {
    "duration": 5,
    "start_time": "2022-08-24T14:03:28.018Z"
   },
   {
    "duration": 12,
    "start_time": "2022-08-24T14:03:28.024Z"
   },
   {
    "duration": 5,
    "start_time": "2022-08-24T14:03:28.039Z"
   },
   {
    "duration": 15,
    "start_time": "2022-08-24T14:03:28.046Z"
   },
   {
    "duration": 13,
    "start_time": "2022-08-24T14:03:28.062Z"
   },
   {
    "duration": 31,
    "start_time": "2022-08-24T14:03:28.077Z"
   },
   {
    "duration": 16,
    "start_time": "2022-08-24T14:03:28.109Z"
   },
   {
    "duration": 46,
    "start_time": "2022-08-24T14:03:28.127Z"
   },
   {
    "duration": 16,
    "start_time": "2022-08-24T14:03:28.175Z"
   },
   {
    "duration": 26,
    "start_time": "2022-08-24T14:03:28.193Z"
   },
   {
    "duration": 32,
    "start_time": "2022-08-24T14:03:28.223Z"
   },
   {
    "duration": 27,
    "start_time": "2022-08-24T14:03:28.257Z"
   },
   {
    "duration": 29979,
    "start_time": "2022-08-24T14:03:28.286Z"
   },
   {
    "duration": 25,
    "start_time": "2022-08-24T14:03:58.267Z"
   },
   {
    "duration": 12,
    "start_time": "2022-08-24T14:03:58.294Z"
   },
   {
    "duration": 147,
    "start_time": "2022-08-24T14:03:58.307Z"
   },
   {
    "duration": 143,
    "start_time": "2022-08-24T14:03:58.455Z"
   },
   {
    "duration": 6,
    "start_time": "2022-08-24T14:03:58.600Z"
   },
   {
    "duration": 31594,
    "start_time": "2022-08-24T14:03:58.608Z"
   },
   {
    "duration": 13,
    "start_time": "2022-08-24T14:04:30.204Z"
   },
   {
    "duration": 77,
    "start_time": "2022-08-24T14:04:30.219Z"
   },
   {
    "duration": 168,
    "start_time": "2022-08-24T14:04:30.298Z"
   },
   {
    "duration": 137,
    "start_time": "2022-08-24T14:04:30.468Z"
   },
   {
    "duration": 7,
    "start_time": "2022-08-24T14:04:30.607Z"
   },
   {
    "duration": 17,
    "start_time": "2022-08-24T14:04:30.616Z"
   },
   {
    "duration": 30,
    "start_time": "2022-08-24T14:04:30.635Z"
   },
   {
    "duration": 35,
    "start_time": "2022-08-24T14:04:30.667Z"
   },
   {
    "duration": 43,
    "start_time": "2022-08-24T14:04:30.704Z"
   },
   {
    "duration": 75,
    "start_time": "2022-08-24T14:04:30.749Z"
   },
   {
    "duration": 19,
    "start_time": "2022-08-24T14:04:30.826Z"
   },
   {
    "duration": 61,
    "start_time": "2022-08-24T14:04:30.847Z"
   },
   {
    "duration": 43154,
    "start_time": "2022-08-24T14:04:30.910Z"
   },
   {
    "duration": 25,
    "start_time": "2022-08-24T14:05:14.066Z"
   },
   {
    "duration": 11,
    "start_time": "2022-08-24T14:05:14.093Z"
   },
   {
    "duration": 148,
    "start_time": "2022-08-24T14:05:14.105Z"
   },
   {
    "duration": 145,
    "start_time": "2022-08-24T14:05:14.255Z"
   },
   {
    "duration": 8,
    "start_time": "2022-08-24T14:05:14.402Z"
   },
   {
    "duration": 11,
    "start_time": "2022-08-24T14:05:14.412Z"
   },
   {
    "duration": 16,
    "start_time": "2022-08-24T14:05:14.425Z"
   },
   {
    "duration": 9,
    "start_time": "2022-08-24T14:05:14.444Z"
   },
   {
    "duration": 12,
    "start_time": "2022-08-24T14:05:14.455Z"
   },
   {
    "duration": 15280,
    "start_time": "2022-08-24T14:05:14.469Z"
   },
   {
    "duration": 15,
    "start_time": "2022-08-24T14:05:29.751Z"
   },
   {
    "duration": 162,
    "start_time": "2022-08-24T14:05:29.768Z"
   },
   {
    "duration": 7,
    "start_time": "2022-08-24T14:05:29.933Z"
   },
   {
    "duration": 17,
    "start_time": "2022-08-24T14:05:29.941Z"
   },
   {
    "duration": 23,
    "start_time": "2022-08-24T14:05:29.959Z"
   },
   {
    "duration": 17,
    "start_time": "2022-08-24T14:05:29.983Z"
   },
   {
    "duration": 26,
    "start_time": "2022-08-24T14:05:30.002Z"
   },
   {
    "duration": 220,
    "start_time": "2022-08-24T14:05:30.030Z"
   },
   {
    "duration": 5,
    "start_time": "2022-08-24T14:05:30.252Z"
   },
   {
    "duration": 40,
    "start_time": "2022-08-24T14:05:30.259Z"
   },
   {
    "duration": 21,
    "start_time": "2022-08-24T14:05:30.300Z"
   },
   {
    "duration": 176,
    "start_time": "2022-08-24T14:05:30.322Z"
   },
   {
    "duration": 8,
    "start_time": "2022-08-24T14:05:30.499Z"
   },
   {
    "duration": 7,
    "start_time": "2022-08-24T14:11:37.449Z"
   },
   {
    "duration": 99,
    "start_time": "2022-08-24T14:11:37.458Z"
   },
   {
    "duration": 16,
    "start_time": "2022-08-24T14:11:37.559Z"
   },
   {
    "duration": 40,
    "start_time": "2022-08-24T14:11:37.592Z"
   },
   {
    "duration": 8,
    "start_time": "2022-08-24T14:11:37.635Z"
   },
   {
    "duration": 27,
    "start_time": "2022-08-24T14:11:37.645Z"
   },
   {
    "duration": 19,
    "start_time": "2022-08-24T14:11:37.674Z"
   },
   {
    "duration": 217,
    "start_time": "2022-08-24T14:11:37.695Z"
   },
   {
    "duration": 212,
    "start_time": "2022-08-24T14:11:37.915Z"
   },
   {
    "duration": 7,
    "start_time": "2022-08-24T14:11:38.129Z"
   },
   {
    "duration": 18,
    "start_time": "2022-08-24T14:11:38.139Z"
   },
   {
    "duration": 28,
    "start_time": "2022-08-24T14:11:38.159Z"
   },
   {
    "duration": 235,
    "start_time": "2022-08-24T14:11:38.189Z"
   },
   {
    "duration": 6,
    "start_time": "2022-08-24T14:11:38.426Z"
   },
   {
    "duration": 12,
    "start_time": "2022-08-24T14:11:38.434Z"
   },
   {
    "duration": 5,
    "start_time": "2022-08-24T14:11:38.448Z"
   },
   {
    "duration": 27,
    "start_time": "2022-08-24T14:11:38.455Z"
   },
   {
    "duration": 7,
    "start_time": "2022-08-24T14:11:38.484Z"
   },
   {
    "duration": 17,
    "start_time": "2022-08-24T14:11:38.493Z"
   },
   {
    "duration": 14,
    "start_time": "2022-08-24T14:11:38.512Z"
   },
   {
    "duration": 39,
    "start_time": "2022-08-24T14:11:38.528Z"
   },
   {
    "duration": 30,
    "start_time": "2022-08-24T14:11:38.569Z"
   },
   {
    "duration": 10,
    "start_time": "2022-08-24T14:11:38.601Z"
   },
   {
    "duration": 17,
    "start_time": "2022-08-24T14:11:38.613Z"
   },
   {
    "duration": 7,
    "start_time": "2022-08-24T14:11:38.632Z"
   },
   {
    "duration": 30590,
    "start_time": "2022-08-24T14:11:38.640Z"
   },
   {
    "duration": 15,
    "start_time": "2022-08-24T14:12:09.232Z"
   },
   {
    "duration": 14,
    "start_time": "2022-08-24T14:12:09.249Z"
   },
   {
    "duration": 192,
    "start_time": "2022-08-24T14:12:09.267Z"
   },
   {
    "duration": 153,
    "start_time": "2022-08-24T14:12:09.462Z"
   },
   {
    "duration": 7,
    "start_time": "2022-08-24T14:12:09.617Z"
   },
   {
    "duration": 30841,
    "start_time": "2022-08-24T14:12:09.625Z"
   },
   {
    "duration": 30,
    "start_time": "2022-08-24T14:12:40.468Z"
   },
   {
    "duration": 16,
    "start_time": "2022-08-24T14:12:40.500Z"
   },
   {
    "duration": 191,
    "start_time": "2022-08-24T14:12:40.518Z"
   },
   {
    "duration": 144,
    "start_time": "2022-08-24T14:12:40.711Z"
   },
   {
    "duration": 7,
    "start_time": "2022-08-24T14:12:40.857Z"
   },
   {
    "duration": 7,
    "start_time": "2022-08-24T14:12:40.865Z"
   },
   {
    "duration": 32,
    "start_time": "2022-08-24T14:12:40.892Z"
   },
   {
    "duration": 26,
    "start_time": "2022-08-24T14:12:40.925Z"
   },
   {
    "duration": 10,
    "start_time": "2022-08-24T14:12:40.953Z"
   },
   {
    "duration": 22,
    "start_time": "2022-08-24T14:12:40.965Z"
   },
   {
    "duration": 8,
    "start_time": "2022-08-24T14:12:40.989Z"
   },
   {
    "duration": 22,
    "start_time": "2022-08-24T14:12:40.999Z"
   },
   {
    "duration": 47282,
    "start_time": "2022-08-24T14:12:41.023Z"
   },
   {
    "duration": 24,
    "start_time": "2022-08-24T14:13:28.308Z"
   },
   {
    "duration": 11,
    "start_time": "2022-08-24T14:13:28.334Z"
   },
   {
    "duration": 180,
    "start_time": "2022-08-24T14:13:28.348Z"
   },
   {
    "duration": 161,
    "start_time": "2022-08-24T14:13:28.530Z"
   },
   {
    "duration": 13,
    "start_time": "2022-08-24T14:13:28.694Z"
   },
   {
    "duration": 10,
    "start_time": "2022-08-24T14:13:28.709Z"
   },
   {
    "duration": 10,
    "start_time": "2022-08-24T14:13:28.721Z"
   },
   {
    "duration": 6,
    "start_time": "2022-08-24T14:13:28.733Z"
   },
   {
    "duration": 6,
    "start_time": "2022-08-24T14:13:28.740Z"
   },
   {
    "duration": 18482,
    "start_time": "2022-08-24T14:13:28.747Z"
   },
   {
    "duration": 17,
    "start_time": "2022-08-24T14:13:47.231Z"
   },
   {
    "duration": 188,
    "start_time": "2022-08-24T14:13:47.250Z"
   },
   {
    "duration": 9,
    "start_time": "2022-08-24T14:13:47.441Z"
   },
   {
    "duration": 9,
    "start_time": "2022-08-24T14:13:47.453Z"
   },
   {
    "duration": 29,
    "start_time": "2022-08-24T14:13:47.463Z"
   },
   {
    "duration": 8,
    "start_time": "2022-08-24T14:13:47.494Z"
   },
   {
    "duration": 23,
    "start_time": "2022-08-24T14:13:47.504Z"
   },
   {
    "duration": 238,
    "start_time": "2022-08-24T14:13:47.529Z"
   },
   {
    "duration": 5,
    "start_time": "2022-08-24T14:13:47.770Z"
   },
   {
    "duration": 22,
    "start_time": "2022-08-24T14:13:47.777Z"
   },
   {
    "duration": 10,
    "start_time": "2022-08-24T14:13:47.801Z"
   },
   {
    "duration": 193,
    "start_time": "2022-08-24T14:13:47.814Z"
   },
   {
    "duration": 9,
    "start_time": "2022-08-24T14:13:48.009Z"
   },
   {
    "duration": 9,
    "start_time": "2022-08-24T14:17:29.277Z"
   },
   {
    "duration": 152,
    "start_time": "2022-08-24T14:17:31.729Z"
   },
   {
    "duration": 96,
    "start_time": "2022-08-24T14:21:17.201Z"
   },
   {
    "duration": 3,
    "start_time": "2022-08-24T14:29:32.263Z"
   },
   {
    "duration": 6,
    "start_time": "2022-08-24T14:31:03.624Z"
   },
   {
    "duration": 60,
    "start_time": "2022-08-24T14:31:03.633Z"
   },
   {
    "duration": 19,
    "start_time": "2022-08-24T14:31:03.702Z"
   },
   {
    "duration": 42,
    "start_time": "2022-08-24T14:31:03.723Z"
   },
   {
    "duration": 7,
    "start_time": "2022-08-24T14:31:03.767Z"
   },
   {
    "duration": 28,
    "start_time": "2022-08-24T14:31:03.792Z"
   },
   {
    "duration": 8,
    "start_time": "2022-08-24T14:31:03.822Z"
   },
   {
    "duration": 253,
    "start_time": "2022-08-24T14:31:03.831Z"
   },
   {
    "duration": 239,
    "start_time": "2022-08-24T14:31:04.085Z"
   },
   {
    "duration": 7,
    "start_time": "2022-08-24T14:31:04.327Z"
   },
   {
    "duration": 24,
    "start_time": "2022-08-24T14:31:04.337Z"
   },
   {
    "duration": 17,
    "start_time": "2022-08-24T14:31:04.363Z"
   },
   {
    "duration": 277,
    "start_time": "2022-08-24T14:31:04.382Z"
   },
   {
    "duration": 5,
    "start_time": "2022-08-24T14:31:04.661Z"
   },
   {
    "duration": 7,
    "start_time": "2022-08-24T14:31:04.668Z"
   },
   {
    "duration": 27,
    "start_time": "2022-08-24T14:31:04.677Z"
   },
   {
    "duration": 24,
    "start_time": "2022-08-24T14:31:04.706Z"
   },
   {
    "duration": 15,
    "start_time": "2022-08-24T14:31:04.731Z"
   },
   {
    "duration": 21,
    "start_time": "2022-08-24T14:31:04.748Z"
   },
   {
    "duration": 9,
    "start_time": "2022-08-24T14:31:04.771Z"
   },
   {
    "duration": 49,
    "start_time": "2022-08-24T14:31:04.782Z"
   },
   {
    "duration": 16,
    "start_time": "2022-08-24T14:31:04.834Z"
   },
   {
    "duration": 14,
    "start_time": "2022-08-24T14:31:04.852Z"
   },
   {
    "duration": 48,
    "start_time": "2022-08-24T14:31:04.867Z"
   },
   {
    "duration": 9,
    "start_time": "2022-08-24T14:31:04.917Z"
   },
   {
    "duration": 31951,
    "start_time": "2022-08-24T14:31:04.929Z"
   },
   {
    "duration": 18,
    "start_time": "2022-08-24T14:31:36.891Z"
   },
   {
    "duration": 32,
    "start_time": "2022-08-24T14:31:36.911Z"
   },
   {
    "duration": 135,
    "start_time": "2022-08-24T14:31:36.947Z"
   },
   {
    "duration": 147,
    "start_time": "2022-08-24T14:31:37.084Z"
   },
   {
    "duration": 7,
    "start_time": "2022-08-24T14:31:37.233Z"
   },
   {
    "duration": 31721,
    "start_time": "2022-08-24T14:31:37.241Z"
   },
   {
    "duration": 13,
    "start_time": "2022-08-24T14:32:08.963Z"
   },
   {
    "duration": 29,
    "start_time": "2022-08-24T14:32:08.993Z"
   },
   {
    "duration": 141,
    "start_time": "2022-08-24T14:32:09.024Z"
   },
   {
    "duration": 142,
    "start_time": "2022-08-24T14:32:09.167Z"
   },
   {
    "duration": 7,
    "start_time": "2022-08-24T14:32:09.310Z"
   },
   {
    "duration": 12,
    "start_time": "2022-08-24T14:32:09.319Z"
   },
   {
    "duration": 20,
    "start_time": "2022-08-24T14:32:09.333Z"
   },
   {
    "duration": 28,
    "start_time": "2022-08-24T14:32:09.355Z"
   },
   {
    "duration": 39,
    "start_time": "2022-08-24T14:32:09.384Z"
   },
   {
    "duration": 22,
    "start_time": "2022-08-24T14:32:09.424Z"
   },
   {
    "duration": 26,
    "start_time": "2022-08-24T14:32:09.449Z"
   },
   {
    "duration": 43,
    "start_time": "2022-08-24T14:32:09.477Z"
   },
   {
    "duration": 44587,
    "start_time": "2022-08-24T14:32:09.522Z"
   },
   {
    "duration": 14,
    "start_time": "2022-08-24T14:32:54.111Z"
   },
   {
    "duration": 10,
    "start_time": "2022-08-24T14:32:54.127Z"
   },
   {
    "duration": 173,
    "start_time": "2022-08-24T14:32:54.139Z"
   },
   {
    "duration": 137,
    "start_time": "2022-08-24T14:32:54.314Z"
   },
   {
    "duration": 7,
    "start_time": "2022-08-24T14:32:54.453Z"
   },
   {
    "duration": 12,
    "start_time": "2022-08-24T14:32:54.462Z"
   },
   {
    "duration": 31,
    "start_time": "2022-08-24T14:32:54.476Z"
   },
   {
    "duration": 11,
    "start_time": "2022-08-24T14:32:54.509Z"
   },
   {
    "duration": 13,
    "start_time": "2022-08-24T14:32:54.522Z"
   },
   {
    "duration": 16267,
    "start_time": "2022-08-24T14:32:54.537Z"
   },
   {
    "duration": 16,
    "start_time": "2022-08-24T14:33:10.806Z"
   },
   {
    "duration": 12,
    "start_time": "2022-08-24T14:33:10.824Z"
   },
   {
    "duration": 164,
    "start_time": "2022-08-24T14:33:10.838Z"
   },
   {
    "duration": 137,
    "start_time": "2022-08-24T14:33:11.004Z"
   },
   {
    "duration": 8,
    "start_time": "2022-08-24T14:33:11.143Z"
   },
   {
    "duration": 6,
    "start_time": "2022-08-24T14:33:11.153Z"
   },
   {
    "duration": 33,
    "start_time": "2022-08-24T14:33:11.161Z"
   },
   {
    "duration": 11,
    "start_time": "2022-08-24T14:33:11.199Z"
   },
   {
    "duration": 13,
    "start_time": "2022-08-24T14:33:11.212Z"
   },
   {
    "duration": 223,
    "start_time": "2022-08-24T14:33:11.227Z"
   },
   {
    "duration": 6,
    "start_time": "2022-08-24T14:33:11.451Z"
   },
   {
    "duration": 13,
    "start_time": "2022-08-24T14:33:11.459Z"
   },
   {
    "duration": 34,
    "start_time": "2022-08-24T14:33:11.473Z"
   },
   {
    "duration": 140,
    "start_time": "2022-08-24T14:33:11.509Z"
   },
   {
    "duration": 7,
    "start_time": "2022-08-24T14:33:11.651Z"
   },
   {
    "duration": 4,
    "start_time": "2022-08-24T14:43:31.684Z"
   },
   {
    "duration": 3,
    "start_time": "2022-08-24T14:44:28.273Z"
   },
   {
    "duration": 4,
    "start_time": "2022-08-24T14:44:32.328Z"
   },
   {
    "duration": 304,
    "start_time": "2022-08-24T15:03:38.351Z"
   },
   {
    "duration": 7,
    "start_time": "2022-08-24T15:03:44.832Z"
   },
   {
    "duration": 165,
    "start_time": "2022-08-24T15:03:51.972Z"
   },
   {
    "duration": 1463,
    "start_time": "2022-08-24T15:03:58.648Z"
   },
   {
    "duration": 989,
    "start_time": "2022-08-24T15:06:04.419Z"
   },
   {
    "duration": 918,
    "start_time": "2022-08-24T15:11:04.036Z"
   },
   {
    "duration": 8,
    "start_time": "2022-08-24T15:15:07.026Z"
   },
   {
    "duration": 88,
    "start_time": "2022-08-24T15:15:07.037Z"
   },
   {
    "duration": 18,
    "start_time": "2022-08-24T15:15:07.127Z"
   },
   {
    "duration": 87,
    "start_time": "2022-08-24T15:15:07.147Z"
   },
   {
    "duration": 9,
    "start_time": "2022-08-24T15:15:07.236Z"
   },
   {
    "duration": 12,
    "start_time": "2022-08-24T15:15:07.247Z"
   },
   {
    "duration": 35,
    "start_time": "2022-08-24T15:15:07.261Z"
   },
   {
    "duration": 282,
    "start_time": "2022-08-24T15:15:07.298Z"
   },
   {
    "duration": 284,
    "start_time": "2022-08-24T15:15:07.582Z"
   },
   {
    "duration": 30,
    "start_time": "2022-08-24T15:15:07.870Z"
   },
   {
    "duration": 38,
    "start_time": "2022-08-24T15:15:07.902Z"
   },
   {
    "duration": 12,
    "start_time": "2022-08-24T15:15:07.942Z"
   },
   {
    "duration": 194,
    "start_time": "2022-08-24T15:15:07.956Z"
   },
   {
    "duration": 4,
    "start_time": "2022-08-24T15:15:08.152Z"
   },
   {
    "duration": 8,
    "start_time": "2022-08-24T15:15:08.159Z"
   },
   {
    "duration": 14,
    "start_time": "2022-08-24T15:15:08.170Z"
   },
   {
    "duration": 50,
    "start_time": "2022-08-24T15:15:08.186Z"
   },
   {
    "duration": 7,
    "start_time": "2022-08-24T15:15:08.237Z"
   },
   {
    "duration": 18,
    "start_time": "2022-08-24T15:15:08.246Z"
   },
   {
    "duration": 9,
    "start_time": "2022-08-24T15:15:08.267Z"
   },
   {
    "duration": 61,
    "start_time": "2022-08-24T15:15:08.278Z"
   },
   {
    "duration": 17,
    "start_time": "2022-08-24T15:15:08.341Z"
   },
   {
    "duration": 19,
    "start_time": "2022-08-24T15:15:08.360Z"
   },
   {
    "duration": 31,
    "start_time": "2022-08-24T15:15:08.381Z"
   },
   {
    "duration": 34,
    "start_time": "2022-08-24T15:15:08.414Z"
   },
   {
    "duration": 1437,
    "start_time": "2022-08-24T15:15:08.450Z"
   },
   {
    "duration": 34738,
    "start_time": "2022-08-24T15:15:09.894Z"
   },
   {
    "duration": 16,
    "start_time": "2022-08-24T15:15:44.637Z"
   },
   {
    "duration": 42,
    "start_time": "2022-08-24T15:15:44.655Z"
   },
   {
    "duration": 143,
    "start_time": "2022-08-24T15:15:44.699Z"
   },
   {
    "duration": 147,
    "start_time": "2022-08-24T15:15:44.844Z"
   },
   {
    "duration": 12,
    "start_time": "2022-08-24T15:15:44.993Z"
   },
   {
    "duration": 33344,
    "start_time": "2022-08-24T15:15:45.009Z"
   },
   {
    "duration": 14,
    "start_time": "2022-08-24T15:16:18.355Z"
   },
   {
    "duration": 37,
    "start_time": "2022-08-24T15:16:18.371Z"
   },
   {
    "duration": 208,
    "start_time": "2022-08-24T15:16:18.411Z"
   },
   {
    "duration": 155,
    "start_time": "2022-08-24T15:16:18.621Z"
   },
   {
    "duration": 24,
    "start_time": "2022-08-24T15:16:18.778Z"
   },
   {
    "duration": 9,
    "start_time": "2022-08-24T15:16:18.804Z"
   },
   {
    "duration": 28,
    "start_time": "2022-08-24T15:16:18.815Z"
   },
   {
    "duration": 39,
    "start_time": "2022-08-24T15:16:18.846Z"
   },
   {
    "duration": 25,
    "start_time": "2022-08-24T15:16:18.887Z"
   },
   {
    "duration": 22,
    "start_time": "2022-08-24T15:16:18.914Z"
   },
   {
    "duration": 10,
    "start_time": "2022-08-24T15:16:18.939Z"
   },
   {
    "duration": 14,
    "start_time": "2022-08-24T15:16:18.952Z"
   },
   {
    "duration": 46223,
    "start_time": "2022-08-24T15:16:18.968Z"
   },
   {
    "duration": 16,
    "start_time": "2022-08-24T15:17:05.193Z"
   },
   {
    "duration": 24,
    "start_time": "2022-08-24T15:17:05.211Z"
   },
   {
    "duration": 173,
    "start_time": "2022-08-24T15:17:05.238Z"
   },
   {
    "duration": 146,
    "start_time": "2022-08-24T15:17:05.413Z"
   },
   {
    "duration": 8,
    "start_time": "2022-08-24T15:17:05.561Z"
   },
   {
    "duration": 38,
    "start_time": "2022-08-24T15:17:05.571Z"
   },
   {
    "duration": 18,
    "start_time": "2022-08-24T15:17:05.611Z"
   },
   {
    "duration": 12,
    "start_time": "2022-08-24T15:17:05.631Z"
   },
   {
    "duration": 16,
    "start_time": "2022-08-24T15:17:05.645Z"
   },
   {
    "duration": 16986,
    "start_time": "2022-08-24T15:17:05.663Z"
   },
   {
    "duration": 14,
    "start_time": "2022-08-24T15:17:22.651Z"
   },
   {
    "duration": 30,
    "start_time": "2022-08-24T15:17:22.667Z"
   },
   {
    "duration": 151,
    "start_time": "2022-08-24T15:17:22.699Z"
   },
   {
    "duration": 159,
    "start_time": "2022-08-24T15:17:22.852Z"
   },
   {
    "duration": 10,
    "start_time": "2022-08-24T15:17:23.013Z"
   },
   {
    "duration": 7,
    "start_time": "2022-08-24T15:17:23.025Z"
   },
   {
    "duration": 14,
    "start_time": "2022-08-24T15:17:23.034Z"
   },
   {
    "duration": 7,
    "start_time": "2022-08-24T15:17:23.050Z"
   },
   {
    "duration": 41,
    "start_time": "2022-08-24T15:17:23.058Z"
   },
   {
    "duration": 247,
    "start_time": "2022-08-24T15:17:23.101Z"
   },
   {
    "duration": 5,
    "start_time": "2022-08-24T15:17:23.350Z"
   },
   {
    "duration": 20,
    "start_time": "2022-08-24T15:17:23.357Z"
   },
   {
    "duration": 23,
    "start_time": "2022-08-24T15:17:23.379Z"
   },
   {
    "duration": 163,
    "start_time": "2022-08-24T15:17:23.404Z"
   },
   {
    "duration": 9,
    "start_time": "2022-08-24T15:17:23.570Z"
   },
   {
    "duration": 756,
    "start_time": "2022-08-24T15:17:37.529Z"
   },
   {
    "duration": 743,
    "start_time": "2022-08-24T15:17:52.417Z"
   },
   {
    "duration": 14,
    "start_time": "2022-08-24T15:20:40.328Z"
   },
   {
    "duration": 18,
    "start_time": "2022-08-24T15:21:13.674Z"
   },
   {
    "duration": 18,
    "start_time": "2022-08-24T15:22:11.412Z"
   },
   {
    "duration": 14,
    "start_time": "2022-08-24T15:22:22.761Z"
   },
   {
    "duration": 7,
    "start_time": "2022-08-24T15:22:36.509Z"
   },
   {
    "duration": 16,
    "start_time": "2022-08-24T15:34:11.019Z"
   },
   {
    "duration": 107,
    "start_time": "2022-08-24T15:34:11.037Z"
   },
   {
    "duration": 19,
    "start_time": "2022-08-24T15:34:11.146Z"
   },
   {
    "duration": 80,
    "start_time": "2022-08-24T15:34:11.169Z"
   },
   {
    "duration": 9,
    "start_time": "2022-08-24T15:34:11.251Z"
   },
   {
    "duration": 28,
    "start_time": "2022-08-24T15:34:11.262Z"
   },
   {
    "duration": 45,
    "start_time": "2022-08-24T15:34:11.299Z"
   },
   {
    "duration": 332,
    "start_time": "2022-08-24T15:34:11.346Z"
   },
   {
    "duration": 337,
    "start_time": "2022-08-24T15:34:11.682Z"
   },
   {
    "duration": 14,
    "start_time": "2022-08-24T15:34:12.025Z"
   },
   {
    "duration": 125,
    "start_time": "2022-08-24T15:34:12.041Z"
   },
   {
    "duration": 88,
    "start_time": "2022-08-24T15:34:12.169Z"
   },
   {
    "duration": 286,
    "start_time": "2022-08-24T15:34:12.259Z"
   },
   {
    "duration": 7,
    "start_time": "2022-08-24T15:34:12.547Z"
   },
   {
    "duration": 43,
    "start_time": "2022-08-24T15:34:12.557Z"
   },
   {
    "duration": 71,
    "start_time": "2022-08-24T15:34:12.606Z"
   },
   {
    "duration": 73,
    "start_time": "2022-08-24T15:34:12.680Z"
   },
   {
    "duration": 46,
    "start_time": "2022-08-24T15:34:12.756Z"
   },
   {
    "duration": 112,
    "start_time": "2022-08-24T15:34:12.815Z"
   },
   {
    "duration": 41,
    "start_time": "2022-08-24T15:34:12.943Z"
   },
   {
    "duration": 139,
    "start_time": "2022-08-24T15:34:12.986Z"
   },
   {
    "duration": 35,
    "start_time": "2022-08-24T15:34:13.127Z"
   },
   {
    "duration": 97,
    "start_time": "2022-08-24T15:34:13.164Z"
   },
   {
    "duration": 34,
    "start_time": "2022-08-24T15:34:13.267Z"
   },
   {
    "duration": 43,
    "start_time": "2022-08-24T15:34:13.318Z"
   },
   {
    "duration": 987,
    "start_time": "2022-08-24T15:34:13.364Z"
   },
   {
    "duration": 9,
    "start_time": "2022-08-24T15:34:14.353Z"
   },
   {
    "duration": 37041,
    "start_time": "2022-08-24T15:34:14.364Z"
   },
   {
    "duration": 20,
    "start_time": "2022-08-24T15:34:51.407Z"
   },
   {
    "duration": 28,
    "start_time": "2022-08-24T15:34:51.432Z"
   },
   {
    "duration": 172,
    "start_time": "2022-08-24T15:34:51.463Z"
   },
   {
    "duration": 147,
    "start_time": "2022-08-24T15:34:51.637Z"
   },
   {
    "duration": 22,
    "start_time": "2022-08-24T15:34:51.786Z"
   },
   {
    "duration": 39662,
    "start_time": "2022-08-24T15:34:51.810Z"
   },
   {
    "duration": 40,
    "start_time": "2022-08-24T15:35:31.473Z"
   },
   {
    "duration": 18,
    "start_time": "2022-08-24T15:35:31.521Z"
   },
   {
    "duration": 175,
    "start_time": "2022-08-24T15:35:31.541Z"
   },
   {
    "duration": 160,
    "start_time": "2022-08-24T15:35:31.720Z"
   },
   {
    "duration": 29,
    "start_time": "2022-08-24T15:35:31.882Z"
   },
   {
    "duration": 26,
    "start_time": "2022-08-24T15:35:31.916Z"
   },
   {
    "duration": 29,
    "start_time": "2022-08-24T15:35:31.945Z"
   },
   {
    "duration": 43,
    "start_time": "2022-08-24T15:35:31.976Z"
   },
   {
    "duration": 48,
    "start_time": "2022-08-24T15:35:32.021Z"
   },
   {
    "duration": 43,
    "start_time": "2022-08-24T15:35:32.071Z"
   },
   {
    "duration": 35,
    "start_time": "2022-08-24T15:35:32.125Z"
   },
   {
    "duration": 22,
    "start_time": "2022-08-24T15:35:32.162Z"
   },
   {
    "duration": 48560,
    "start_time": "2022-08-24T15:35:32.187Z"
   },
   {
    "duration": 14,
    "start_time": "2022-08-24T15:36:20.749Z"
   },
   {
    "duration": 39,
    "start_time": "2022-08-24T15:36:20.765Z"
   },
   {
    "duration": 173,
    "start_time": "2022-08-24T15:36:20.810Z"
   },
   {
    "duration": 157,
    "start_time": "2022-08-24T15:36:20.985Z"
   },
   {
    "duration": 7,
    "start_time": "2022-08-24T15:36:21.144Z"
   },
   {
    "duration": 10,
    "start_time": "2022-08-24T15:36:21.153Z"
   },
   {
    "duration": 34,
    "start_time": "2022-08-24T15:36:21.164Z"
   },
   {
    "duration": 9,
    "start_time": "2022-08-24T15:36:21.200Z"
   },
   {
    "duration": 27,
    "start_time": "2022-08-24T15:36:21.211Z"
   },
   {
    "duration": 16954,
    "start_time": "2022-08-24T15:36:21.240Z"
   },
   {
    "duration": 14,
    "start_time": "2022-08-24T15:36:38.201Z"
   },
   {
    "duration": 17,
    "start_time": "2022-08-24T15:36:38.219Z"
   },
   {
    "duration": 177,
    "start_time": "2022-08-24T15:36:38.238Z"
   },
   {
    "duration": 130,
    "start_time": "2022-08-24T15:36:38.421Z"
   },
   {
    "duration": 8,
    "start_time": "2022-08-24T15:36:38.553Z"
   },
   {
    "duration": 5,
    "start_time": "2022-08-24T15:36:38.562Z"
   },
   {
    "duration": 32,
    "start_time": "2022-08-24T15:36:38.569Z"
   },
   {
    "duration": 8,
    "start_time": "2022-08-24T15:36:38.602Z"
   },
   {
    "duration": 33,
    "start_time": "2022-08-24T15:36:38.611Z"
   },
   {
    "duration": 223,
    "start_time": "2022-08-24T15:36:38.645Z"
   },
   {
    "duration": 4,
    "start_time": "2022-08-24T15:36:38.869Z"
   },
   {
    "duration": 31,
    "start_time": "2022-08-24T15:36:38.878Z"
   },
   {
    "duration": 14,
    "start_time": "2022-08-24T15:36:38.915Z"
   },
   {
    "duration": 139,
    "start_time": "2022-08-24T15:36:38.931Z"
   },
   {
    "duration": 7,
    "start_time": "2022-08-24T15:36:39.072Z"
   },
   {
    "duration": 8,
    "start_time": "2022-08-24T15:45:02.980Z"
   },
   {
    "duration": 90,
    "start_time": "2022-08-24T15:45:02.990Z"
   },
   {
    "duration": 21,
    "start_time": "2022-08-24T15:45:03.082Z"
   },
   {
    "duration": 59,
    "start_time": "2022-08-24T15:45:03.106Z"
   },
   {
    "duration": 6,
    "start_time": "2022-08-24T15:45:03.167Z"
   },
   {
    "duration": 13,
    "start_time": "2022-08-24T15:45:03.175Z"
   },
   {
    "duration": 40,
    "start_time": "2022-08-24T15:45:03.190Z"
   },
   {
    "duration": 211,
    "start_time": "2022-08-24T15:45:03.232Z"
   },
   {
    "duration": 213,
    "start_time": "2022-08-24T15:45:03.446Z"
   },
   {
    "duration": 7,
    "start_time": "2022-08-24T15:45:03.662Z"
   },
   {
    "duration": 11,
    "start_time": "2022-08-24T15:45:03.670Z"
   },
   {
    "duration": 13,
    "start_time": "2022-08-24T15:45:03.701Z"
   },
   {
    "duration": 157,
    "start_time": "2022-08-24T15:45:03.719Z"
   },
   {
    "duration": 5,
    "start_time": "2022-08-24T15:45:03.879Z"
   },
   {
    "duration": 5,
    "start_time": "2022-08-24T15:45:03.893Z"
   },
   {
    "duration": 28,
    "start_time": "2022-08-24T15:45:03.900Z"
   },
   {
    "duration": 11,
    "start_time": "2022-08-24T15:45:03.930Z"
   },
   {
    "duration": 12,
    "start_time": "2022-08-24T15:45:03.943Z"
   },
   {
    "duration": 18,
    "start_time": "2022-08-24T15:45:03.957Z"
   },
   {
    "duration": 12,
    "start_time": "2022-08-24T15:45:03.977Z"
   },
   {
    "duration": 75,
    "start_time": "2022-08-24T15:45:03.990Z"
   },
   {
    "duration": 16,
    "start_time": "2022-08-24T15:45:04.067Z"
   },
   {
    "duration": 22,
    "start_time": "2022-08-24T15:45:04.085Z"
   },
   {
    "duration": 18,
    "start_time": "2022-08-24T15:45:04.114Z"
   },
   {
    "duration": 16,
    "start_time": "2022-08-24T15:45:04.134Z"
   },
   {
    "duration": 765,
    "start_time": "2022-08-24T15:45:04.152Z"
   },
   {
    "duration": 10,
    "start_time": "2022-08-24T15:45:04.920Z"
   },
   {
    "duration": 376443,
    "start_time": "2022-08-24T15:45:04.934Z"
   },
   {
    "duration": 27,
    "start_time": "2022-08-24T15:51:21.378Z"
   },
   {
    "duration": 21,
    "start_time": "2022-08-24T15:51:21.411Z"
   },
   {
    "duration": 149,
    "start_time": "2022-08-24T15:51:21.434Z"
   },
   {
    "duration": 155,
    "start_time": "2022-08-24T15:51:21.586Z"
   },
   {
    "duration": 7,
    "start_time": "2022-08-24T15:51:21.744Z"
   },
   {
    "duration": 373285,
    "start_time": "2022-08-24T15:51:21.753Z"
   },
   {
    "duration": 17,
    "start_time": "2022-08-24T15:57:35.040Z"
   },
   {
    "duration": 12,
    "start_time": "2022-08-24T15:57:35.060Z"
   },
   {
    "duration": 165,
    "start_time": "2022-08-24T15:57:35.091Z"
   },
   {
    "duration": 163,
    "start_time": "2022-08-24T15:57:35.257Z"
   },
   {
    "duration": 8,
    "start_time": "2022-08-24T15:57:35.423Z"
   },
   {
    "duration": 4,
    "start_time": "2022-08-24T15:57:35.433Z"
   },
   {
    "duration": 9,
    "start_time": "2022-08-24T15:57:35.439Z"
   },
   {
    "duration": 18,
    "start_time": "2022-08-24T15:57:35.450Z"
   },
   {
    "duration": 9,
    "start_time": "2022-08-24T15:57:35.470Z"
   },
   {
    "duration": 20,
    "start_time": "2022-08-24T15:57:35.492Z"
   },
   {
    "duration": 19,
    "start_time": "2022-08-24T15:57:35.513Z"
   },
   {
    "duration": 13,
    "start_time": "2022-08-24T15:57:35.534Z"
   },
   {
    "duration": 533412,
    "start_time": "2022-08-24T15:57:35.549Z"
   },
   {
    "duration": 40,
    "start_time": "2022-08-24T16:06:28.964Z"
   },
   {
    "duration": 12,
    "start_time": "2022-08-24T16:06:29.012Z"
   },
   {
    "duration": 144,
    "start_time": "2022-08-24T16:06:29.026Z"
   },
   {
    "duration": 147,
    "start_time": "2022-08-24T16:06:29.171Z"
   },
   {
    "duration": 11,
    "start_time": "2022-08-24T16:06:29.320Z"
   },
   {
    "duration": 6,
    "start_time": "2022-08-24T16:06:29.333Z"
   },
   {
    "duration": 15,
    "start_time": "2022-08-24T16:06:29.341Z"
   },
   {
    "duration": 6,
    "start_time": "2022-08-24T16:06:29.359Z"
   },
   {
    "duration": 41,
    "start_time": "2022-08-24T16:06:29.392Z"
   },
   {
    "duration": 192658,
    "start_time": "2022-08-24T16:06:29.435Z"
   },
   {
    "duration": 33,
    "start_time": "2022-08-24T16:09:42.099Z"
   },
   {
    "duration": 15,
    "start_time": "2022-08-24T16:09:42.136Z"
   },
   {
    "duration": 182,
    "start_time": "2022-08-24T16:09:42.154Z"
   },
   {
    "duration": 164,
    "start_time": "2022-08-24T16:09:42.338Z"
   },
   {
    "duration": 10,
    "start_time": "2022-08-24T16:09:42.504Z"
   },
   {
    "duration": 30,
    "start_time": "2022-08-24T16:09:42.517Z"
   },
   {
    "duration": 10,
    "start_time": "2022-08-24T16:09:42.549Z"
   },
   {
    "duration": 6,
    "start_time": "2022-08-24T16:09:42.560Z"
   },
   {
    "duration": 9,
    "start_time": "2022-08-24T16:09:42.568Z"
   },
   {
    "duration": 304,
    "start_time": "2022-08-24T16:09:42.578Z"
   },
   {
    "duration": 10,
    "start_time": "2022-08-24T16:09:42.884Z"
   },
   {
    "duration": 38,
    "start_time": "2022-08-24T16:09:42.900Z"
   },
   {
    "duration": 6,
    "start_time": "2022-08-24T16:09:42.940Z"
   },
   {
    "duration": 182,
    "start_time": "2022-08-24T16:09:42.948Z"
   },
   {
    "duration": 10,
    "start_time": "2022-08-24T16:09:43.137Z"
   },
   {
    "duration": 175,
    "start_time": "2022-08-24T16:24:28.052Z"
   },
   {
    "duration": 10,
    "start_time": "2022-08-24T16:24:32.810Z"
   },
   {
    "duration": 112,
    "start_time": "2022-08-24T16:26:35.447Z"
   },
   {
    "duration": 133,
    "start_time": "2022-08-24T17:02:56.020Z"
   },
   {
    "duration": 1836,
    "start_time": "2022-08-25T08:14:33.757Z"
   },
   {
    "duration": 186,
    "start_time": "2022-08-25T08:14:35.595Z"
   },
   {
    "duration": 17,
    "start_time": "2022-08-25T08:14:35.784Z"
   },
   {
    "duration": 40,
    "start_time": "2022-08-25T08:14:35.803Z"
   },
   {
    "duration": 7,
    "start_time": "2022-08-25T08:14:35.846Z"
   },
   {
    "duration": 10,
    "start_time": "2022-08-25T08:14:35.855Z"
   },
   {
    "duration": 7,
    "start_time": "2022-08-25T08:14:35.892Z"
   },
   {
    "duration": 220,
    "start_time": "2022-08-25T08:14:35.900Z"
   },
   {
    "duration": 194,
    "start_time": "2022-08-25T08:14:36.122Z"
   },
   {
    "duration": 6,
    "start_time": "2022-08-25T08:14:36.318Z"
   },
   {
    "duration": 7,
    "start_time": "2022-08-25T08:14:36.325Z"
   },
   {
    "duration": 14,
    "start_time": "2022-08-25T08:14:36.334Z"
   },
   {
    "duration": 187,
    "start_time": "2022-08-25T08:14:36.350Z"
   },
   {
    "duration": 6,
    "start_time": "2022-08-25T08:14:36.540Z"
   },
   {
    "duration": 5,
    "start_time": "2022-08-25T08:14:36.548Z"
   },
   {
    "duration": 5,
    "start_time": "2022-08-25T08:14:36.556Z"
   },
   {
    "duration": 38,
    "start_time": "2022-08-25T08:14:36.563Z"
   },
   {
    "duration": 7,
    "start_time": "2022-08-25T08:14:36.604Z"
   },
   {
    "duration": 20,
    "start_time": "2022-08-25T08:14:36.613Z"
   },
   {
    "duration": 8,
    "start_time": "2022-08-25T08:14:36.636Z"
   },
   {
    "duration": 150,
    "start_time": "2022-08-25T08:14:36.646Z"
   },
   {
    "duration": 16,
    "start_time": "2022-08-25T08:14:36.798Z"
   },
   {
    "duration": 20,
    "start_time": "2022-08-25T08:14:36.817Z"
   },
   {
    "duration": 12,
    "start_time": "2022-08-25T08:14:36.839Z"
   },
   {
    "duration": 11,
    "start_time": "2022-08-25T08:14:36.853Z"
   },
   {
    "duration": 730,
    "start_time": "2022-08-25T08:14:36.866Z"
   },
   {
    "duration": 7,
    "start_time": "2022-08-25T08:14:37.597Z"
   },
   {
    "duration": 340902,
    "start_time": "2022-08-25T08:14:37.605Z"
   },
   {
    "duration": 15,
    "start_time": "2022-08-25T08:20:18.509Z"
   },
   {
    "duration": 19,
    "start_time": "2022-08-25T08:20:18.526Z"
   },
   {
    "duration": 161,
    "start_time": "2022-08-25T08:20:18.547Z"
   },
   {
    "duration": 155,
    "start_time": "2022-08-25T08:20:18.710Z"
   },
   {
    "duration": 6,
    "start_time": "2022-08-25T08:20:18.867Z"
   },
   {
    "duration": 339525,
    "start_time": "2022-08-25T08:20:18.875Z"
   },
   {
    "duration": 15,
    "start_time": "2022-08-25T08:25:58.403Z"
   },
   {
    "duration": 12,
    "start_time": "2022-08-25T08:25:58.421Z"
   },
   {
    "duration": 169,
    "start_time": "2022-08-25T08:25:58.434Z"
   },
   {
    "duration": 156,
    "start_time": "2022-08-25T08:25:58.605Z"
   },
   {
    "duration": 8,
    "start_time": "2022-08-25T08:25:58.763Z"
   },
   {
    "duration": 25,
    "start_time": "2022-08-25T08:25:58.772Z"
   },
   {
    "duration": 6,
    "start_time": "2022-08-25T08:25:58.801Z"
   },
   {
    "duration": 21,
    "start_time": "2022-08-25T08:25:58.809Z"
   },
   {
    "duration": 7,
    "start_time": "2022-08-25T08:25:58.832Z"
   },
   {
    "duration": 16,
    "start_time": "2022-08-25T08:25:58.841Z"
   },
   {
    "duration": 34,
    "start_time": "2022-08-25T08:25:58.859Z"
   },
   {
    "duration": 7,
    "start_time": "2022-08-25T08:25:58.895Z"
   },
   {
    "duration": 485657,
    "start_time": "2022-08-25T08:25:58.905Z"
   },
   {
    "duration": 12,
    "start_time": "2022-08-25T08:34:04.564Z"
   },
   {
    "duration": 7,
    "start_time": "2022-08-25T08:34:04.593Z"
   },
   {
    "duration": 142,
    "start_time": "2022-08-25T08:34:04.602Z"
   },
   {
    "duration": 141,
    "start_time": "2022-08-25T08:34:04.746Z"
   },
   {
    "duration": 9,
    "start_time": "2022-08-25T08:34:04.889Z"
   },
   {
    "duration": 8,
    "start_time": "2022-08-25T08:34:04.899Z"
   },
   {
    "duration": 13,
    "start_time": "2022-08-25T08:34:04.908Z"
   },
   {
    "duration": 5,
    "start_time": "2022-08-25T08:34:04.923Z"
   },
   {
    "duration": 9,
    "start_time": "2022-08-25T08:34:04.930Z"
   },
   {
    "duration": 173788,
    "start_time": "2022-08-25T08:34:04.941Z"
   },
   {
    "duration": 10,
    "start_time": "2022-08-25T08:36:58.731Z"
   },
   {
    "duration": 7,
    "start_time": "2022-08-25T08:36:58.742Z"
   },
   {
    "duration": 154,
    "start_time": "2022-08-25T08:36:58.751Z"
   },
   {
    "duration": 144,
    "start_time": "2022-08-25T08:36:58.906Z"
   },
   {
    "duration": 8,
    "start_time": "2022-08-25T08:36:59.052Z"
   },
   {
    "duration": 7,
    "start_time": "2022-08-25T08:36:59.062Z"
   },
   {
    "duration": 21,
    "start_time": "2022-08-25T08:36:59.071Z"
   },
   {
    "duration": 3,
    "start_time": "2022-08-25T08:36:59.094Z"
   },
   {
    "duration": 10,
    "start_time": "2022-08-25T08:36:59.099Z"
   },
   {
    "duration": 166,
    "start_time": "2022-08-25T08:36:59.110Z"
   },
   {
    "duration": 14,
    "start_time": "2022-08-25T08:36:59.278Z"
   },
   {
    "duration": 15,
    "start_time": "2022-08-25T08:36:59.295Z"
   },
   {
    "duration": 8,
    "start_time": "2022-08-25T08:36:59.311Z"
   },
   {
    "duration": 161,
    "start_time": "2022-08-25T08:36:59.321Z"
   },
   {
    "duration": 0,
    "start_time": "2022-08-25T08:36:59.484Z"
   },
   {
    "duration": 99,
    "start_time": "2022-08-25T08:42:06.887Z"
   },
   {
    "duration": 132,
    "start_time": "2022-08-25T08:44:52.275Z"
   },
   {
    "duration": 9,
    "start_time": "2022-08-25T08:44:56.515Z"
   },
   {
    "duration": 10,
    "start_time": "2022-08-25T08:46:20.285Z"
   },
   {
    "duration": 173,
    "start_time": "2022-08-25T08:46:27.655Z"
   },
   {
    "duration": 75,
    "start_time": "2022-08-25T08:49:32.995Z"
   },
   {
    "duration": 122,
    "start_time": "2022-08-25T09:05:22.152Z"
   },
   {
    "duration": 6,
    "start_time": "2022-08-25T09:22:58.936Z"
   },
   {
    "duration": 63,
    "start_time": "2022-08-25T09:22:58.944Z"
   },
   {
    "duration": 15,
    "start_time": "2022-08-25T09:22:59.010Z"
   },
   {
    "duration": 136,
    "start_time": "2022-08-25T09:22:59.027Z"
   },
   {
    "duration": 6,
    "start_time": "2022-08-25T09:22:59.165Z"
   },
   {
    "duration": 13,
    "start_time": "2022-08-25T09:22:59.200Z"
   },
   {
    "duration": 7,
    "start_time": "2022-08-25T09:22:59.215Z"
   },
   {
    "duration": 229,
    "start_time": "2022-08-25T09:22:59.223Z"
   },
   {
    "duration": 223,
    "start_time": "2022-08-25T09:22:59.454Z"
   },
   {
    "duration": 28,
    "start_time": "2022-08-25T09:22:59.679Z"
   },
   {
    "duration": 7,
    "start_time": "2022-08-25T09:22:59.711Z"
   },
   {
    "duration": 9,
    "start_time": "2022-08-25T09:22:59.720Z"
   },
   {
    "duration": 161,
    "start_time": "2022-08-25T09:22:59.731Z"
   },
   {
    "duration": 17,
    "start_time": "2022-08-25T09:22:59.898Z"
   },
   {
    "duration": 8,
    "start_time": "2022-08-25T09:22:59.917Z"
   },
   {
    "duration": 7,
    "start_time": "2022-08-25T09:22:59.927Z"
   },
   {
    "duration": 12,
    "start_time": "2022-08-25T09:22:59.936Z"
   },
   {
    "duration": 6,
    "start_time": "2022-08-25T09:22:59.950Z"
   },
   {
    "duration": 15,
    "start_time": "2022-08-25T09:22:59.958Z"
   },
   {
    "duration": 21,
    "start_time": "2022-08-25T09:22:59.975Z"
   },
   {
    "duration": 52,
    "start_time": "2022-08-25T09:22:59.999Z"
   },
   {
    "duration": 16,
    "start_time": "2022-08-25T09:23:00.054Z"
   },
   {
    "duration": 16,
    "start_time": "2022-08-25T09:23:00.072Z"
   },
   {
    "duration": 24,
    "start_time": "2022-08-25T09:23:00.096Z"
   },
   {
    "duration": 7,
    "start_time": "2022-08-25T09:23:00.122Z"
   },
   {
    "duration": 2271,
    "start_time": "2022-08-25T09:23:00.130Z"
   },
   {
    "duration": 7,
    "start_time": "2022-08-25T09:23:02.404Z"
   },
   {
    "duration": 57984,
    "start_time": "2022-08-25T09:23:02.413Z"
   },
   {
    "duration": 20,
    "start_time": "2022-08-25T09:24:00.406Z"
   },
   {
    "duration": 16,
    "start_time": "2022-08-25T09:24:00.427Z"
   },
   {
    "duration": 175,
    "start_time": "2022-08-25T09:24:00.445Z"
   },
   {
    "duration": 144,
    "start_time": "2022-08-25T09:24:00.622Z"
   },
   {
    "duration": 7,
    "start_time": "2022-08-25T09:24:00.769Z"
   },
   {
    "duration": 57948,
    "start_time": "2022-08-25T09:24:00.778Z"
   },
   {
    "duration": 14,
    "start_time": "2022-08-25T09:24:58.728Z"
   },
   {
    "duration": 11,
    "start_time": "2022-08-25T09:24:58.743Z"
   },
   {
    "duration": 155,
    "start_time": "2022-08-25T09:24:58.755Z"
   },
   {
    "duration": 131,
    "start_time": "2022-08-25T09:24:58.912Z"
   },
   {
    "duration": 8,
    "start_time": "2022-08-25T09:24:59.044Z"
   },
   {
    "duration": 4,
    "start_time": "2022-08-25T09:24:59.054Z"
   },
   {
    "duration": 10,
    "start_time": "2022-08-25T09:24:59.059Z"
   },
   {
    "duration": 52,
    "start_time": "2022-08-25T09:24:59.070Z"
   },
   {
    "duration": 9,
    "start_time": "2022-08-25T09:24:59.124Z"
   },
   {
    "duration": 12,
    "start_time": "2022-08-25T09:24:59.135Z"
   },
   {
    "duration": 5,
    "start_time": "2022-08-25T09:24:59.149Z"
   },
   {
    "duration": 11,
    "start_time": "2022-08-25T09:24:59.155Z"
   },
   {
    "duration": 76676,
    "start_time": "2022-08-25T09:24:59.168Z"
   },
   {
    "duration": 21,
    "start_time": "2022-08-25T09:26:15.846Z"
   },
   {
    "duration": 41,
    "start_time": "2022-08-25T09:26:15.869Z"
   },
   {
    "duration": 156,
    "start_time": "2022-08-25T09:26:15.912Z"
   },
   {
    "duration": 156,
    "start_time": "2022-08-25T09:26:16.070Z"
   },
   {
    "duration": 7,
    "start_time": "2022-08-25T09:26:16.227Z"
   },
   {
    "duration": 5,
    "start_time": "2022-08-25T09:26:16.235Z"
   },
   {
    "duration": 12,
    "start_time": "2022-08-25T09:26:16.241Z"
   },
   {
    "duration": 6,
    "start_time": "2022-08-25T09:26:16.255Z"
   },
   {
    "duration": 34,
    "start_time": "2022-08-25T09:26:16.263Z"
   },
   {
    "duration": 29584,
    "start_time": "2022-08-25T09:26:16.299Z"
   },
   {
    "duration": 31,
    "start_time": "2022-08-25T09:26:45.884Z"
   },
   {
    "duration": 12,
    "start_time": "2022-08-25T09:26:45.917Z"
   },
   {
    "duration": 133,
    "start_time": "2022-08-25T09:26:45.930Z"
   },
   {
    "duration": 242,
    "start_time": "2022-08-25T09:26:46.065Z"
   },
   {
    "duration": 9,
    "start_time": "2022-08-25T09:26:46.309Z"
   },
   {
    "duration": 6,
    "start_time": "2022-08-25T09:26:46.320Z"
   },
   {
    "duration": 7,
    "start_time": "2022-08-25T09:26:46.328Z"
   },
   {
    "duration": 6,
    "start_time": "2022-08-25T09:26:46.337Z"
   },
   {
    "duration": 7,
    "start_time": "2022-08-25T09:26:46.345Z"
   },
   {
    "duration": 159,
    "start_time": "2022-08-25T09:26:46.353Z"
   },
   {
    "duration": 6,
    "start_time": "2022-08-25T09:26:46.515Z"
   },
   {
    "duration": 20,
    "start_time": "2022-08-25T09:26:46.523Z"
   },
   {
    "duration": 7,
    "start_time": "2022-08-25T09:26:46.545Z"
   },
   {
    "duration": 14,
    "start_time": "2022-08-25T09:26:46.554Z"
   },
   {
    "duration": 18,
    "start_time": "2022-08-25T09:26:46.593Z"
   },
   {
    "duration": 0,
    "start_time": "2022-08-25T09:26:46.614Z"
   },
   {
    "duration": 0,
    "start_time": "2022-08-25T09:26:46.615Z"
   },
   {
    "duration": 0,
    "start_time": "2022-08-25T09:26:46.616Z"
   },
   {
    "duration": 18,
    "start_time": "2022-08-25T09:26:55.609Z"
   },
   {
    "duration": 7,
    "start_time": "2022-08-25T09:29:51.607Z"
   },
   {
    "duration": 58,
    "start_time": "2022-08-25T09:29:51.617Z"
   },
   {
    "duration": 27,
    "start_time": "2022-08-25T09:29:51.677Z"
   },
   {
    "duration": 38,
    "start_time": "2022-08-25T09:29:51.708Z"
   },
   {
    "duration": 5,
    "start_time": "2022-08-25T09:29:51.749Z"
   },
   {
    "duration": 10,
    "start_time": "2022-08-25T09:29:51.756Z"
   },
   {
    "duration": 36,
    "start_time": "2022-08-25T09:29:51.768Z"
   },
   {
    "duration": 240,
    "start_time": "2022-08-25T09:29:51.808Z"
   },
   {
    "duration": 227,
    "start_time": "2022-08-25T09:29:52.050Z"
   },
   {
    "duration": 21,
    "start_time": "2022-08-25T09:29:52.279Z"
   },
   {
    "duration": 18,
    "start_time": "2022-08-25T09:29:52.302Z"
   },
   {
    "duration": 12,
    "start_time": "2022-08-25T09:29:52.321Z"
   },
   {
    "duration": 171,
    "start_time": "2022-08-25T09:29:52.335Z"
   },
   {
    "duration": 7,
    "start_time": "2022-08-25T09:29:52.514Z"
   },
   {
    "duration": 6,
    "start_time": "2022-08-25T09:29:52.522Z"
   },
   {
    "duration": 16,
    "start_time": "2022-08-25T09:29:52.530Z"
   },
   {
    "duration": 14,
    "start_time": "2022-08-25T09:29:52.547Z"
   },
   {
    "duration": 11,
    "start_time": "2022-08-25T09:29:52.563Z"
   },
   {
    "duration": 24,
    "start_time": "2022-08-25T09:29:52.577Z"
   },
   {
    "duration": 17,
    "start_time": "2022-08-25T09:29:52.603Z"
   },
   {
    "duration": 48,
    "start_time": "2022-08-25T09:29:52.621Z"
   },
   {
    "duration": 19,
    "start_time": "2022-08-25T09:29:52.671Z"
   },
   {
    "duration": 33,
    "start_time": "2022-08-25T09:29:52.692Z"
   },
   {
    "duration": 25,
    "start_time": "2022-08-25T09:29:52.728Z"
   },
   {
    "duration": 8,
    "start_time": "2022-08-25T09:29:52.755Z"
   },
   {
    "duration": 1379,
    "start_time": "2022-08-25T09:29:52.765Z"
   },
   {
    "duration": 8,
    "start_time": "2022-08-25T09:29:54.146Z"
   },
   {
    "duration": 104160,
    "start_time": "2022-08-25T09:29:54.156Z"
   },
   {
    "duration": 25,
    "start_time": "2022-08-25T09:31:38.319Z"
   },
   {
    "duration": 18,
    "start_time": "2022-08-25T09:31:38.347Z"
   },
   {
    "duration": 177,
    "start_time": "2022-08-25T09:31:38.367Z"
   },
   {
    "duration": 132,
    "start_time": "2022-08-25T09:31:38.546Z"
   },
   {
    "duration": 28,
    "start_time": "2022-08-25T09:31:38.679Z"
   },
   {
    "duration": 105101,
    "start_time": "2022-08-25T09:31:38.709Z"
   },
   {
    "duration": 14,
    "start_time": "2022-08-25T09:33:23.813Z"
   },
   {
    "duration": 11,
    "start_time": "2022-08-25T09:33:23.828Z"
   },
   {
    "duration": 157,
    "start_time": "2022-08-25T09:33:23.841Z"
   },
   {
    "duration": 138,
    "start_time": "2022-08-25T09:33:24.000Z"
   },
   {
    "duration": 7,
    "start_time": "2022-08-25T09:33:24.140Z"
   },
   {
    "duration": 6,
    "start_time": "2022-08-25T09:33:24.148Z"
   },
   {
    "duration": 7,
    "start_time": "2022-08-25T09:33:24.158Z"
   },
   {
    "duration": 38,
    "start_time": "2022-08-25T09:33:24.167Z"
   },
   {
    "duration": 16,
    "start_time": "2022-08-25T09:33:24.207Z"
   },
   {
    "duration": 14,
    "start_time": "2022-08-25T09:33:24.225Z"
   },
   {
    "duration": 7,
    "start_time": "2022-08-25T09:33:24.241Z"
   },
   {
    "duration": 27,
    "start_time": "2022-08-25T09:33:24.249Z"
   },
   {
    "duration": 148462,
    "start_time": "2022-08-25T09:33:24.278Z"
   },
   {
    "duration": 18,
    "start_time": "2022-08-25T09:35:52.742Z"
   },
   {
    "duration": 32,
    "start_time": "2022-08-25T09:35:52.762Z"
   },
   {
    "duration": 134,
    "start_time": "2022-08-25T09:35:52.806Z"
   },
   {
    "duration": 131,
    "start_time": "2022-08-25T09:35:52.942Z"
   },
   {
    "duration": 20,
    "start_time": "2022-08-25T09:35:53.075Z"
   },
   {
    "duration": 5,
    "start_time": "2022-08-25T09:35:53.101Z"
   },
   {
    "duration": 20,
    "start_time": "2022-08-25T09:35:53.112Z"
   },
   {
    "duration": 6,
    "start_time": "2022-08-25T09:35:53.134Z"
   },
   {
    "duration": 6,
    "start_time": "2022-08-25T09:35:53.142Z"
   },
   {
    "duration": 55173,
    "start_time": "2022-08-25T09:35:53.149Z"
   },
   {
    "duration": 17,
    "start_time": "2022-08-25T09:36:48.324Z"
   },
   {
    "duration": 16,
    "start_time": "2022-08-25T09:36:48.344Z"
   },
   {
    "duration": 183,
    "start_time": "2022-08-25T09:36:48.362Z"
   },
   {
    "duration": 231,
    "start_time": "2022-08-25T09:36:48.547Z"
   },
   {
    "duration": 22,
    "start_time": "2022-08-25T09:36:48.780Z"
   },
   {
    "duration": 19,
    "start_time": "2022-08-25T09:36:48.806Z"
   },
   {
    "duration": 15,
    "start_time": "2022-08-25T09:36:48.827Z"
   },
   {
    "duration": 10,
    "start_time": "2022-08-25T09:36:48.843Z"
   },
   {
    "duration": 18,
    "start_time": "2022-08-25T09:36:48.855Z"
   },
   {
    "duration": 179,
    "start_time": "2022-08-25T09:36:48.875Z"
   },
   {
    "duration": 6,
    "start_time": "2022-08-25T09:36:49.055Z"
   },
   {
    "duration": 22,
    "start_time": "2022-08-25T09:36:49.062Z"
   },
   {
    "duration": 12,
    "start_time": "2022-08-25T09:36:49.095Z"
   },
   {
    "duration": 15,
    "start_time": "2022-08-25T09:36:49.109Z"
   },
   {
    "duration": 11,
    "start_time": "2022-08-25T09:36:49.126Z"
   },
   {
    "duration": 0,
    "start_time": "2022-08-25T09:36:49.139Z"
   },
   {
    "duration": 0,
    "start_time": "2022-08-25T09:36:49.140Z"
   },
   {
    "duration": 0,
    "start_time": "2022-08-25T09:36:49.141Z"
   },
   {
    "duration": 7,
    "start_time": "2022-08-25T09:37:18.437Z"
   },
   {
    "duration": 2530,
    "start_time": "2022-08-25T10:27:43.843Z"
   },
   {
    "duration": 381284,
    "start_time": "2022-08-25T10:28:39.679Z"
   },
   {
    "duration": 14,
    "start_time": "2022-08-25T10:35:05.734Z"
   },
   {
    "duration": 2684,
    "start_time": "2022-08-25T10:39:13.133Z"
   },
   {
    "duration": 6,
    "start_time": "2022-08-25T10:39:27.528Z"
   },
   {
    "duration": 8,
    "start_time": "2022-08-25T10:39:33.412Z"
   },
   {
    "duration": 1514,
    "start_time": "2022-08-25T10:39:44.454Z"
   },
   {
    "duration": 7,
    "start_time": "2022-08-25T10:39:50.103Z"
   },
   {
    "duration": 1520,
    "start_time": "2022-08-25T10:40:14.008Z"
   },
   {
    "duration": 7,
    "start_time": "2022-08-25T10:40:20.133Z"
   },
   {
    "duration": 2733,
    "start_time": "2022-08-25T10:40:58.398Z"
   },
   {
    "duration": 109915,
    "start_time": "2022-08-25T10:41:17.653Z"
   },
   {
    "duration": 13,
    "start_time": "2022-08-25T10:43:13.368Z"
   },
   {
    "duration": 76483,
    "start_time": "2022-08-25T10:43:54.098Z"
   },
   {
    "duration": 12,
    "start_time": "2022-08-25T10:45:23.802Z"
   },
   {
    "duration": 7,
    "start_time": "2022-08-25T10:50:02.097Z"
   },
   {
    "duration": 61,
    "start_time": "2022-08-25T10:50:02.106Z"
   },
   {
    "duration": 12,
    "start_time": "2022-08-25T10:50:02.169Z"
   },
   {
    "duration": 50,
    "start_time": "2022-08-25T10:50:02.183Z"
   },
   {
    "duration": 7,
    "start_time": "2022-08-25T10:50:02.235Z"
   },
   {
    "duration": 11,
    "start_time": "2022-08-25T10:50:02.244Z"
   },
   {
    "duration": 9,
    "start_time": "2022-08-25T10:50:02.256Z"
   },
   {
    "duration": 235,
    "start_time": "2022-08-25T10:50:02.266Z"
   },
   {
    "duration": 192,
    "start_time": "2022-08-25T10:50:02.503Z"
   },
   {
    "duration": 5,
    "start_time": "2022-08-25T10:50:02.698Z"
   },
   {
    "duration": 6,
    "start_time": "2022-08-25T10:50:02.705Z"
   },
   {
    "duration": 11,
    "start_time": "2022-08-25T10:50:02.712Z"
   },
   {
    "duration": 157,
    "start_time": "2022-08-25T10:50:02.724Z"
   },
   {
    "duration": 13,
    "start_time": "2022-08-25T10:50:02.882Z"
   },
   {
    "duration": 4,
    "start_time": "2022-08-25T10:50:02.896Z"
   },
   {
    "duration": 6,
    "start_time": "2022-08-25T10:50:02.901Z"
   },
   {
    "duration": 10,
    "start_time": "2022-08-25T10:50:02.908Z"
   },
   {
    "duration": 5,
    "start_time": "2022-08-25T10:50:02.920Z"
   },
   {
    "duration": 14,
    "start_time": "2022-08-25T10:50:02.927Z"
   },
   {
    "duration": 7,
    "start_time": "2022-08-25T10:50:02.943Z"
   },
   {
    "duration": 62,
    "start_time": "2022-08-25T10:50:02.951Z"
   },
   {
    "duration": 16,
    "start_time": "2022-08-25T10:50:03.015Z"
   },
   {
    "duration": 17,
    "start_time": "2022-08-25T10:50:03.033Z"
   },
   {
    "duration": 20,
    "start_time": "2022-08-25T10:50:03.052Z"
   },
   {
    "duration": 19,
    "start_time": "2022-08-25T10:50:03.073Z"
   },
   {
    "duration": 867,
    "start_time": "2022-08-25T10:50:03.094Z"
   },
   {
    "duration": 6,
    "start_time": "2022-08-25T10:50:03.963Z"
   },
   {
    "duration": 111113,
    "start_time": "2022-08-25T10:50:03.973Z"
   },
   {
    "duration": 14,
    "start_time": "2022-08-25T10:51:55.093Z"
   },
   {
    "duration": 16,
    "start_time": "2022-08-25T10:51:55.108Z"
   },
   {
    "duration": 143,
    "start_time": "2022-08-25T10:51:55.126Z"
   },
   {
    "duration": 146,
    "start_time": "2022-08-25T10:51:55.270Z"
   },
   {
    "duration": 6,
    "start_time": "2022-08-25T10:51:55.418Z"
   },
   {
    "duration": 111147,
    "start_time": "2022-08-25T10:51:55.426Z"
   },
   {
    "duration": 30,
    "start_time": "2022-08-25T10:53:46.575Z"
   },
   {
    "duration": 16,
    "start_time": "2022-08-25T10:53:46.607Z"
   },
   {
    "duration": 152,
    "start_time": "2022-08-25T10:53:46.625Z"
   },
   {
    "duration": 130,
    "start_time": "2022-08-25T10:53:46.779Z"
   },
   {
    "duration": 7,
    "start_time": "2022-08-25T10:53:46.911Z"
   },
   {
    "duration": 5,
    "start_time": "2022-08-25T10:53:46.920Z"
   },
   {
    "duration": 15,
    "start_time": "2022-08-25T10:53:46.927Z"
   },
   {
    "duration": 27,
    "start_time": "2022-08-25T10:53:46.944Z"
   },
   {
    "duration": 24,
    "start_time": "2022-08-25T10:53:46.972Z"
   },
   {
    "duration": 14,
    "start_time": "2022-08-25T10:53:46.998Z"
   },
   {
    "duration": 5,
    "start_time": "2022-08-25T10:53:47.014Z"
   },
   {
    "duration": 9,
    "start_time": "2022-08-25T10:53:47.020Z"
   },
   {
    "duration": 163002,
    "start_time": "2022-08-25T10:53:47.030Z"
   },
   {
    "duration": 14,
    "start_time": "2022-08-25T10:56:30.034Z"
   },
   {
    "duration": 10,
    "start_time": "2022-08-25T10:56:30.050Z"
   },
   {
    "duration": 167,
    "start_time": "2022-08-25T10:56:30.061Z"
   },
   {
    "duration": 134,
    "start_time": "2022-08-25T10:56:30.230Z"
   },
   {
    "duration": 7,
    "start_time": "2022-08-25T10:56:30.365Z"
   },
   {
    "duration": 24,
    "start_time": "2022-08-25T10:56:30.373Z"
   },
   {
    "duration": 23,
    "start_time": "2022-08-25T10:56:30.399Z"
   },
   {
    "duration": 17,
    "start_time": "2022-08-25T10:56:30.424Z"
   },
   {
    "duration": 23,
    "start_time": "2022-08-25T10:56:30.443Z"
   },
   {
    "duration": 70920,
    "start_time": "2022-08-25T10:56:30.468Z"
   },
   {
    "duration": 16,
    "start_time": "2022-08-25T10:57:41.400Z"
   },
   {
    "duration": 8,
    "start_time": "2022-08-25T10:57:41.418Z"
   },
   {
    "duration": 132,
    "start_time": "2022-08-25T10:57:41.428Z"
   },
   {
    "duration": 147,
    "start_time": "2022-08-25T10:57:41.561Z"
   },
   {
    "duration": 7,
    "start_time": "2022-08-25T10:57:41.710Z"
   },
   {
    "duration": 5,
    "start_time": "2022-08-25T10:57:41.719Z"
   },
   {
    "duration": 4,
    "start_time": "2022-08-25T10:57:41.726Z"
   },
   {
    "duration": 4,
    "start_time": "2022-08-25T10:57:41.732Z"
   },
   {
    "duration": 7,
    "start_time": "2022-08-25T10:57:41.738Z"
   },
   {
    "duration": 239,
    "start_time": "2022-08-25T10:57:41.747Z"
   },
   {
    "duration": 15,
    "start_time": "2022-08-25T10:57:41.988Z"
   },
   {
    "duration": 21,
    "start_time": "2022-08-25T10:57:42.006Z"
   },
   {
    "duration": 8,
    "start_time": "2022-08-25T10:57:42.029Z"
   },
   {
    "duration": 16,
    "start_time": "2022-08-25T10:57:42.039Z"
   },
   {
    "duration": 12,
    "start_time": "2022-08-25T10:57:42.057Z"
   },
   {
    "duration": 0,
    "start_time": "2022-08-25T10:57:42.070Z"
   },
   {
    "duration": 0,
    "start_time": "2022-08-25T10:57:42.099Z"
   },
   {
    "duration": 0,
    "start_time": "2022-08-25T10:57:42.100Z"
   },
   {
    "duration": 315793,
    "start_time": "2022-08-25T10:58:54.583Z"
   },
   {
    "duration": 29,
    "start_time": "2022-08-25T11:04:22.277Z"
   },
   {
    "duration": 22,
    "start_time": "2022-08-25T11:04:25.777Z"
   },
   {
    "duration": 13,
    "start_time": "2022-08-25T11:13:58.744Z"
   },
   {
    "duration": 134,
    "start_time": "2022-08-25T11:14:02.124Z"
   },
   {
    "duration": 12,
    "start_time": "2022-08-25T11:16:06.364Z"
   },
   {
    "duration": 12,
    "start_time": "2022-08-25T11:17:16.206Z"
   },
   {
    "duration": 9,
    "start_time": "2022-08-25T11:17:19.238Z"
   },
   {
    "duration": 5,
    "start_time": "2022-08-25T11:17:28.832Z"
   },
   {
    "duration": 137,
    "start_time": "2022-08-25T11:17:30.642Z"
   },
   {
    "duration": 131,
    "start_time": "2022-08-25T11:18:54.262Z"
   },
   {
    "duration": 6,
    "start_time": "2022-08-25T11:19:31.833Z"
   },
   {
    "duration": 10,
    "start_time": "2022-08-25T11:24:18.248Z"
   },
   {
    "duration": 97,
    "start_time": "2022-08-25T11:24:18.261Z"
   },
   {
    "duration": 15,
    "start_time": "2022-08-25T11:24:18.359Z"
   },
   {
    "duration": 39,
    "start_time": "2022-08-25T11:24:18.377Z"
   },
   {
    "duration": 7,
    "start_time": "2022-08-25T11:24:18.417Z"
   },
   {
    "duration": 9,
    "start_time": "2022-08-25T11:24:18.426Z"
   },
   {
    "duration": 11,
    "start_time": "2022-08-25T11:24:18.437Z"
   },
   {
    "duration": 217,
    "start_time": "2022-08-25T11:24:18.450Z"
   },
   {
    "duration": 225,
    "start_time": "2022-08-25T11:24:18.670Z"
   },
   {
    "duration": 6,
    "start_time": "2022-08-25T11:24:18.897Z"
   },
   {
    "duration": 9,
    "start_time": "2022-08-25T11:24:18.904Z"
   },
   {
    "duration": 9,
    "start_time": "2022-08-25T11:24:18.915Z"
   },
   {
    "duration": 181,
    "start_time": "2022-08-25T11:24:18.926Z"
   },
   {
    "duration": 5,
    "start_time": "2022-08-25T11:24:19.109Z"
   },
   {
    "duration": 5,
    "start_time": "2022-08-25T11:24:19.116Z"
   },
   {
    "duration": 9,
    "start_time": "2022-08-25T11:24:19.122Z"
   },
   {
    "duration": 10,
    "start_time": "2022-08-25T11:24:19.133Z"
   },
   {
    "duration": 6,
    "start_time": "2022-08-25T11:24:19.145Z"
   },
   {
    "duration": 42,
    "start_time": "2022-08-25T11:24:19.152Z"
   },
   {
    "duration": 12,
    "start_time": "2022-08-25T11:24:19.197Z"
   },
   {
    "duration": 46,
    "start_time": "2022-08-25T11:24:19.211Z"
   },
   {
    "duration": 17,
    "start_time": "2022-08-25T11:24:19.258Z"
   },
   {
    "duration": 26,
    "start_time": "2022-08-25T11:24:19.277Z"
   },
   {
    "duration": 18,
    "start_time": "2022-08-25T11:24:19.309Z"
   },
   {
    "duration": 7,
    "start_time": "2022-08-25T11:24:19.329Z"
   },
   {
    "duration": 860,
    "start_time": "2022-08-25T11:24:19.339Z"
   },
   {
    "duration": 6,
    "start_time": "2022-08-25T11:24:20.201Z"
   },
   {
    "duration": 8,
    "start_time": "2022-08-25T11:24:20.209Z"
   },
   {
    "duration": 147,
    "start_time": "2022-08-25T11:24:20.220Z"
   },
   {
    "duration": 139,
    "start_time": "2022-08-25T11:24:20.369Z"
   },
   {
    "duration": 6,
    "start_time": "2022-08-25T11:24:20.510Z"
   },
   {
    "duration": 28075,
    "start_time": "2022-08-25T11:24:20.518Z"
   },
   {
    "duration": 17,
    "start_time": "2022-08-25T11:24:48.595Z"
   },
   {
    "duration": 11,
    "start_time": "2022-08-25T11:24:48.614Z"
   },
   {
    "duration": 163,
    "start_time": "2022-08-25T11:24:48.627Z"
   },
   {
    "duration": 138,
    "start_time": "2022-08-25T11:24:48.792Z"
   },
   {
    "duration": 7,
    "start_time": "2022-08-25T11:24:48.932Z"
   },
   {
    "duration": 25716,
    "start_time": "2022-08-25T11:24:48.941Z"
   },
   {
    "duration": 18,
    "start_time": "2022-08-25T11:25:14.659Z"
   },
   {
    "duration": 14,
    "start_time": "2022-08-25T11:25:14.693Z"
   },
   {
    "duration": 148,
    "start_time": "2022-08-25T11:25:14.709Z"
   },
   {
    "duration": 140,
    "start_time": "2022-08-25T11:25:14.859Z"
   },
   {
    "duration": 8,
    "start_time": "2022-08-25T11:25:15.001Z"
   },
   {
    "duration": 13,
    "start_time": "2022-08-25T11:25:15.011Z"
   },
   {
    "duration": 14,
    "start_time": "2022-08-25T11:25:15.027Z"
   },
   {
    "duration": 24,
    "start_time": "2022-08-25T11:25:15.043Z"
   },
   {
    "duration": 9,
    "start_time": "2022-08-25T11:25:15.070Z"
   },
   {
    "duration": 11,
    "start_time": "2022-08-25T11:25:15.093Z"
   },
   {
    "duration": 5,
    "start_time": "2022-08-25T11:25:15.106Z"
   },
   {
    "duration": 11,
    "start_time": "2022-08-25T11:25:15.113Z"
   },
   {
    "duration": 35610,
    "start_time": "2022-08-25T11:25:15.126Z"
   },
   {
    "duration": 16,
    "start_time": "2022-08-25T11:25:50.738Z"
   },
   {
    "duration": 12,
    "start_time": "2022-08-25T11:25:50.756Z"
   },
   {
    "duration": 143,
    "start_time": "2022-08-25T11:25:50.794Z"
   },
   {
    "duration": 146,
    "start_time": "2022-08-25T11:25:50.939Z"
   },
   {
    "duration": 12,
    "start_time": "2022-08-25T11:25:51.086Z"
   },
   {
    "duration": 5,
    "start_time": "2022-08-25T11:25:51.100Z"
   },
   {
    "duration": 12,
    "start_time": "2022-08-25T11:25:51.106Z"
   },
   {
    "duration": 5,
    "start_time": "2022-08-25T11:25:51.120Z"
   },
   {
    "duration": 9,
    "start_time": "2022-08-25T11:25:51.127Z"
   },
   {
    "duration": 15324,
    "start_time": "2022-08-25T11:25:51.138Z"
   },
   {
    "duration": 15,
    "start_time": "2022-08-25T11:26:06.463Z"
   },
   {
    "duration": 16,
    "start_time": "2022-08-25T11:26:06.493Z"
   },
   {
    "duration": 155,
    "start_time": "2022-08-25T11:26:06.511Z"
   },
   {
    "duration": 138,
    "start_time": "2022-08-25T11:26:06.668Z"
   },
   {
    "duration": 7,
    "start_time": "2022-08-25T11:26:06.808Z"
   },
   {
    "duration": 8,
    "start_time": "2022-08-25T11:26:06.817Z"
   },
   {
    "duration": 7,
    "start_time": "2022-08-25T11:26:06.827Z"
   },
   {
    "duration": 3,
    "start_time": "2022-08-25T11:26:06.841Z"
   },
   {
    "duration": 10,
    "start_time": "2022-08-25T11:26:06.846Z"
   },
   {
    "duration": 212,
    "start_time": "2022-08-25T11:26:06.858Z"
   },
   {
    "duration": 5,
    "start_time": "2022-08-25T11:26:07.072Z"
   },
   {
    "duration": 27,
    "start_time": "2022-08-25T11:26:07.079Z"
   },
   {
    "duration": 7,
    "start_time": "2022-08-25T11:26:07.108Z"
   },
   {
    "duration": 17,
    "start_time": "2022-08-25T11:26:07.117Z"
   },
   {
    "duration": 151,
    "start_time": "2022-08-25T11:26:07.135Z"
   },
   {
    "duration": 136,
    "start_time": "2022-08-25T11:26:07.293Z"
   },
   {
    "duration": 8,
    "start_time": "2022-08-25T11:26:07.431Z"
   },
   {
    "duration": 174,
    "start_time": "2022-08-25T11:26:07.440Z"
   },
   {
    "duration": 1424,
    "start_time": "2022-08-25T14:01:22.582Z"
   },
   {
    "duration": 95,
    "start_time": "2022-08-25T14:01:24.008Z"
   },
   {
    "duration": 12,
    "start_time": "2022-08-25T14:01:24.104Z"
   },
   {
    "duration": 32,
    "start_time": "2022-08-25T14:01:24.118Z"
   },
   {
    "duration": 5,
    "start_time": "2022-08-25T14:01:24.152Z"
   },
   {
    "duration": 9,
    "start_time": "2022-08-25T14:01:24.158Z"
   },
   {
    "duration": 11,
    "start_time": "2022-08-25T14:01:24.169Z"
   },
   {
    "duration": 179,
    "start_time": "2022-08-25T14:01:24.182Z"
   },
   {
    "duration": 158,
    "start_time": "2022-08-25T14:01:24.362Z"
   },
   {
    "duration": 5,
    "start_time": "2022-08-25T14:01:24.522Z"
   },
   {
    "duration": 6,
    "start_time": "2022-08-25T14:01:24.528Z"
   },
   {
    "duration": 11,
    "start_time": "2022-08-25T14:01:24.536Z"
   },
   {
    "duration": 129,
    "start_time": "2022-08-25T14:01:24.548Z"
   },
   {
    "duration": 5,
    "start_time": "2022-08-25T14:01:24.679Z"
   },
   {
    "duration": 4,
    "start_time": "2022-08-25T14:01:24.686Z"
   },
   {
    "duration": 19,
    "start_time": "2022-08-25T14:01:24.692Z"
   },
   {
    "duration": 9,
    "start_time": "2022-08-25T14:01:24.712Z"
   },
   {
    "duration": 6,
    "start_time": "2022-08-25T14:01:24.723Z"
   },
   {
    "duration": 15,
    "start_time": "2022-08-25T14:01:24.730Z"
   },
   {
    "duration": 4,
    "start_time": "2022-08-25T14:01:24.747Z"
   },
   {
    "duration": 38,
    "start_time": "2022-08-25T14:01:24.752Z"
   },
   {
    "duration": 30,
    "start_time": "2022-08-25T14:01:24.791Z"
   },
   {
    "duration": 72,
    "start_time": "2022-08-25T14:01:24.823Z"
   },
   {
    "duration": 23,
    "start_time": "2022-08-25T14:01:24.896Z"
   },
   {
    "duration": 9,
    "start_time": "2022-08-25T14:01:24.920Z"
   },
   {
    "duration": 798,
    "start_time": "2022-08-25T14:01:24.930Z"
   },
   {
    "duration": 6,
    "start_time": "2022-08-25T14:01:25.729Z"
   },
   {
    "duration": 10,
    "start_time": "2022-08-25T14:01:25.739Z"
   },
   {
    "duration": 120,
    "start_time": "2022-08-25T14:01:25.751Z"
   },
   {
    "duration": 110,
    "start_time": "2022-08-25T14:01:25.873Z"
   },
   {
    "duration": 5,
    "start_time": "2022-08-25T14:01:25.985Z"
   },
   {
    "duration": 23378,
    "start_time": "2022-08-25T14:01:25.991Z"
   },
   {
    "duration": 9,
    "start_time": "2022-08-25T14:01:49.371Z"
   },
   {
    "duration": 7,
    "start_time": "2022-08-25T14:01:49.381Z"
   },
   {
    "duration": 137,
    "start_time": "2022-08-25T14:01:49.390Z"
   },
   {
    "duration": 111,
    "start_time": "2022-08-25T14:01:49.529Z"
   },
   {
    "duration": 5,
    "start_time": "2022-08-25T14:01:49.642Z"
   },
   {
    "duration": 23357,
    "start_time": "2022-08-25T14:01:49.648Z"
   },
   {
    "duration": 14,
    "start_time": "2022-08-25T14:02:13.007Z"
   },
   {
    "duration": 11,
    "start_time": "2022-08-25T14:02:13.022Z"
   },
   {
    "duration": 128,
    "start_time": "2022-08-25T14:02:13.034Z"
   },
   {
    "duration": 109,
    "start_time": "2022-08-25T14:02:13.163Z"
   },
   {
    "duration": 5,
    "start_time": "2022-08-25T14:02:13.274Z"
   },
   {
    "duration": 3,
    "start_time": "2022-08-25T14:02:13.281Z"
   },
   {
    "duration": 8,
    "start_time": "2022-08-25T14:02:13.286Z"
   },
   {
    "duration": 13,
    "start_time": "2022-08-25T14:02:13.310Z"
   },
   {
    "duration": 8,
    "start_time": "2022-08-25T14:02:13.325Z"
   },
   {
    "duration": 11,
    "start_time": "2022-08-25T14:02:13.335Z"
   },
   {
    "duration": 4,
    "start_time": "2022-08-25T14:02:13.347Z"
   },
   {
    "duration": 9,
    "start_time": "2022-08-25T14:02:13.353Z"
   },
   {
    "duration": 32313,
    "start_time": "2022-08-25T14:02:13.363Z"
   },
   {
    "duration": 10,
    "start_time": "2022-08-25T14:02:45.678Z"
   },
   {
    "duration": 22,
    "start_time": "2022-08-25T14:02:45.689Z"
   },
   {
    "duration": 116,
    "start_time": "2022-08-25T14:02:45.712Z"
   },
   {
    "duration": 106,
    "start_time": "2022-08-25T14:02:45.830Z"
   },
   {
    "duration": 6,
    "start_time": "2022-08-25T14:02:45.938Z"
   },
   {
    "duration": 8,
    "start_time": "2022-08-25T14:02:45.945Z"
   },
   {
    "duration": 12,
    "start_time": "2022-08-25T14:02:45.954Z"
   },
   {
    "duration": 5,
    "start_time": "2022-08-25T14:02:45.967Z"
   },
   {
    "duration": 7,
    "start_time": "2022-08-25T14:02:45.973Z"
   },
   {
    "duration": 14521,
    "start_time": "2022-08-25T14:02:45.981Z"
   },
   {
    "duration": 11,
    "start_time": "2022-08-25T14:03:00.511Z"
   },
   {
    "duration": 11,
    "start_time": "2022-08-25T14:03:00.524Z"
   },
   {
    "duration": 127,
    "start_time": "2022-08-25T14:03:00.536Z"
   },
   {
    "duration": 111,
    "start_time": "2022-08-25T14:03:00.665Z"
   },
   {
    "duration": 6,
    "start_time": "2022-08-25T14:03:00.778Z"
   },
   {
    "duration": 11,
    "start_time": "2022-08-25T14:03:00.786Z"
   },
   {
    "duration": 12,
    "start_time": "2022-08-25T14:03:00.799Z"
   },
   {
    "duration": 9,
    "start_time": "2022-08-25T14:03:00.812Z"
   },
   {
    "duration": 21,
    "start_time": "2022-08-25T14:03:00.822Z"
   },
   {
    "duration": 178,
    "start_time": "2022-08-25T14:03:00.844Z"
   },
   {
    "duration": 5,
    "start_time": "2022-08-25T14:03:01.023Z"
   },
   {
    "duration": 22,
    "start_time": "2022-08-25T14:03:01.029Z"
   },
   {
    "duration": 17,
    "start_time": "2022-08-25T14:03:01.053Z"
   },
   {
    "duration": 29,
    "start_time": "2022-08-25T14:03:01.072Z"
   },
   {
    "duration": 121,
    "start_time": "2022-08-25T14:03:01.102Z"
   },
   {
    "duration": 108,
    "start_time": "2022-08-25T14:03:01.225Z"
   },
   {
    "duration": 6,
    "start_time": "2022-08-25T14:03:01.334Z"
   },
   {
    "duration": 159,
    "start_time": "2022-08-25T14:03:01.341Z"
   },
   {
    "duration": 87,
    "start_time": "2022-08-25T14:05:54.535Z"
   },
   {
    "duration": 14,
    "start_time": "2022-08-25T14:07:02.247Z"
   },
   {
    "duration": 13,
    "start_time": "2022-08-25T14:07:45.475Z"
   },
   {
    "duration": 3,
    "start_time": "2022-08-25T14:08:03.955Z"
   },
   {
    "duration": 9,
    "start_time": "2022-08-25T14:11:44.404Z"
   },
   {
    "duration": 12,
    "start_time": "2022-08-25T14:12:24.648Z"
   },
   {
    "duration": 6,
    "start_time": "2022-08-25T14:12:27.476Z"
   },
   {
    "duration": 7,
    "start_time": "2022-08-25T14:13:15.540Z"
   },
   {
    "duration": 6,
    "start_time": "2022-08-25T14:20:50.845Z"
   },
   {
    "duration": 52,
    "start_time": "2022-08-25T14:20:50.852Z"
   },
   {
    "duration": 9,
    "start_time": "2022-08-25T14:20:50.906Z"
   },
   {
    "duration": 117,
    "start_time": "2022-08-25T14:20:50.917Z"
   },
   {
    "duration": 6,
    "start_time": "2022-08-25T14:20:51.036Z"
   },
   {
    "duration": 12,
    "start_time": "2022-08-25T14:20:51.043Z"
   },
   {
    "duration": 11,
    "start_time": "2022-08-25T14:20:51.056Z"
   },
   {
    "duration": 171,
    "start_time": "2022-08-25T14:20:51.068Z"
   },
   {
    "duration": 156,
    "start_time": "2022-08-25T14:20:51.240Z"
   },
   {
    "duration": 5,
    "start_time": "2022-08-25T14:20:51.397Z"
   },
   {
    "duration": 4,
    "start_time": "2022-08-25T14:20:51.410Z"
   },
   {
    "duration": 11,
    "start_time": "2022-08-25T14:20:51.416Z"
   },
   {
    "duration": 126,
    "start_time": "2022-08-25T14:20:51.429Z"
   },
   {
    "duration": 5,
    "start_time": "2022-08-25T14:20:51.556Z"
   },
   {
    "duration": 8,
    "start_time": "2022-08-25T14:20:51.563Z"
   },
   {
    "duration": 7,
    "start_time": "2022-08-25T14:20:51.572Z"
   },
   {
    "duration": 8,
    "start_time": "2022-08-25T14:20:51.581Z"
   },
   {
    "duration": 8,
    "start_time": "2022-08-25T14:20:51.590Z"
   },
   {
    "duration": 12,
    "start_time": "2022-08-25T14:20:51.610Z"
   },
   {
    "duration": 23,
    "start_time": "2022-08-25T14:20:51.623Z"
   },
   {
    "duration": 36,
    "start_time": "2022-08-25T14:20:51.647Z"
   },
   {
    "duration": 14,
    "start_time": "2022-08-25T14:20:51.685Z"
   },
   {
    "duration": 12,
    "start_time": "2022-08-25T14:20:51.700Z"
   },
   {
    "duration": 11,
    "start_time": "2022-08-25T14:20:51.714Z"
   },
   {
    "duration": 16,
    "start_time": "2022-08-25T14:20:51.727Z"
   },
   {
    "duration": 69,
    "start_time": "2022-08-25T14:20:51.744Z"
   },
   {
    "duration": 98,
    "start_time": "2022-08-25T14:20:51.814Z"
   },
   {
    "duration": 946,
    "start_time": "2022-08-25T14:20:51.914Z"
   },
   {
    "duration": 7,
    "start_time": "2022-08-25T14:20:52.866Z"
   },
   {
    "duration": 7,
    "start_time": "2022-08-25T14:20:52.875Z"
   },
   {
    "duration": 138,
    "start_time": "2022-08-25T14:20:52.884Z"
   },
   {
    "duration": 107,
    "start_time": "2022-08-25T14:20:53.024Z"
   },
   {
    "duration": 5,
    "start_time": "2022-08-25T14:20:53.133Z"
   },
   {
    "duration": 23314,
    "start_time": "2022-08-25T14:20:53.139Z"
   },
   {
    "duration": 12,
    "start_time": "2022-08-25T14:21:16.454Z"
   },
   {
    "duration": 8,
    "start_time": "2022-08-25T14:21:16.468Z"
   },
   {
    "duration": 133,
    "start_time": "2022-08-25T14:21:16.478Z"
   },
   {
    "duration": 110,
    "start_time": "2022-08-25T14:21:16.613Z"
   },
   {
    "duration": 6,
    "start_time": "2022-08-25T14:21:16.725Z"
   },
   {
    "duration": 23781,
    "start_time": "2022-08-25T14:21:16.733Z"
   },
   {
    "duration": 13,
    "start_time": "2022-08-25T14:21:40.516Z"
   },
   {
    "duration": 11,
    "start_time": "2022-08-25T14:21:40.530Z"
   },
   {
    "duration": 127,
    "start_time": "2022-08-25T14:21:40.542Z"
   },
   {
    "duration": 112,
    "start_time": "2022-08-25T14:21:40.671Z"
   },
   {
    "duration": 7,
    "start_time": "2022-08-25T14:21:40.784Z"
   },
   {
    "duration": 22,
    "start_time": "2022-08-25T14:21:40.792Z"
   },
   {
    "duration": 9,
    "start_time": "2022-08-25T14:21:40.815Z"
   },
   {
    "duration": 14,
    "start_time": "2022-08-25T14:21:40.826Z"
   },
   {
    "duration": 5,
    "start_time": "2022-08-25T14:21:40.841Z"
   },
   {
    "duration": 11,
    "start_time": "2022-08-25T14:21:40.848Z"
   },
   {
    "duration": 5,
    "start_time": "2022-08-25T14:21:40.860Z"
   },
   {
    "duration": 9,
    "start_time": "2022-08-25T14:21:40.866Z"
   },
   {
    "duration": 32590,
    "start_time": "2022-08-25T14:21:40.877Z"
   },
   {
    "duration": 10,
    "start_time": "2022-08-25T14:22:13.468Z"
   },
   {
    "duration": 8,
    "start_time": "2022-08-25T14:22:13.480Z"
   },
   {
    "duration": 132,
    "start_time": "2022-08-25T14:22:13.490Z"
   },
   {
    "duration": 179,
    "start_time": "2022-08-25T14:22:13.623Z"
   },
   {
    "duration": 10,
    "start_time": "2022-08-25T14:22:13.803Z"
   },
   {
    "duration": 16,
    "start_time": "2022-08-25T14:22:13.815Z"
   },
   {
    "duration": 36,
    "start_time": "2022-08-25T14:22:13.832Z"
   },
   {
    "duration": 30,
    "start_time": "2022-08-25T14:22:13.869Z"
   },
   {
    "duration": 19,
    "start_time": "2022-08-25T14:22:13.900Z"
   },
   {
    "duration": 15243,
    "start_time": "2022-08-25T14:22:13.921Z"
   },
   {
    "duration": 55,
    "start_time": "2022-08-25T14:22:29.165Z"
   },
   {
    "duration": 12,
    "start_time": "2022-08-25T14:22:29.222Z"
   },
   {
    "duration": 125,
    "start_time": "2022-08-25T14:22:29.235Z"
   },
   {
    "duration": 123,
    "start_time": "2022-08-25T14:22:29.361Z"
   },
   {
    "duration": 6,
    "start_time": "2022-08-25T14:22:29.486Z"
   },
   {
    "duration": 20,
    "start_time": "2022-08-25T14:22:29.493Z"
   },
   {
    "duration": 2,
    "start_time": "2022-08-25T14:22:29.515Z"
   },
   {
    "duration": 9,
    "start_time": "2022-08-25T14:22:29.519Z"
   },
   {
    "duration": 9,
    "start_time": "2022-08-25T14:22:29.529Z"
   },
   {
    "duration": 187,
    "start_time": "2022-08-25T14:22:29.539Z"
   },
   {
    "duration": 4,
    "start_time": "2022-08-25T14:22:29.727Z"
   },
   {
    "duration": 26,
    "start_time": "2022-08-25T14:22:29.733Z"
   },
   {
    "duration": 4,
    "start_time": "2022-08-25T14:22:29.761Z"
   },
   {
    "duration": 12,
    "start_time": "2022-08-25T14:22:29.766Z"
   },
   {
    "duration": 132,
    "start_time": "2022-08-25T14:22:29.779Z"
   },
   {
    "duration": 113,
    "start_time": "2022-08-25T14:22:29.912Z"
   },
   {
    "duration": 6,
    "start_time": "2022-08-25T14:22:30.026Z"
   },
   {
    "duration": 149,
    "start_time": "2022-08-25T14:22:30.034Z"
   },
   {
    "duration": 4,
    "start_time": "2022-08-25T14:49:47.393Z"
   },
   {
    "duration": 6,
    "start_time": "2022-08-25T14:50:46.440Z"
   },
   {
    "duration": 54,
    "start_time": "2022-08-25T14:50:46.448Z"
   },
   {
    "duration": 11,
    "start_time": "2022-08-25T14:50:46.503Z"
   },
   {
    "duration": 32,
    "start_time": "2022-08-25T14:50:46.515Z"
   },
   {
    "duration": 5,
    "start_time": "2022-08-25T14:50:46.549Z"
   },
   {
    "duration": 9,
    "start_time": "2022-08-25T14:50:46.555Z"
   },
   {
    "duration": 6,
    "start_time": "2022-08-25T14:50:46.565Z"
   },
   {
    "duration": 180,
    "start_time": "2022-08-25T14:50:46.572Z"
   },
   {
    "duration": 164,
    "start_time": "2022-08-25T14:50:46.754Z"
   },
   {
    "duration": 5,
    "start_time": "2022-08-25T14:50:46.919Z"
   },
   {
    "duration": 9,
    "start_time": "2022-08-25T14:50:46.925Z"
   },
   {
    "duration": 7,
    "start_time": "2022-08-25T14:50:46.935Z"
   },
   {
    "duration": 127,
    "start_time": "2022-08-25T14:50:46.945Z"
   },
   {
    "duration": 4,
    "start_time": "2022-08-25T14:50:47.073Z"
   },
   {
    "duration": 9,
    "start_time": "2022-08-25T14:50:47.078Z"
   },
   {
    "duration": 6,
    "start_time": "2022-08-25T14:50:47.088Z"
   },
   {
    "duration": 17,
    "start_time": "2022-08-25T14:50:47.095Z"
   },
   {
    "duration": 7,
    "start_time": "2022-08-25T14:50:47.113Z"
   },
   {
    "duration": 13,
    "start_time": "2022-08-25T14:50:47.121Z"
   },
   {
    "duration": 4,
    "start_time": "2022-08-25T14:50:47.135Z"
   },
   {
    "duration": 37,
    "start_time": "2022-08-25T14:50:47.140Z"
   },
   {
    "duration": 37,
    "start_time": "2022-08-25T14:50:47.179Z"
   },
   {
    "duration": 17,
    "start_time": "2022-08-25T14:50:47.217Z"
   },
   {
    "duration": 10,
    "start_time": "2022-08-25T14:50:47.235Z"
   },
   {
    "duration": 6,
    "start_time": "2022-08-25T14:50:47.246Z"
   },
   {
    "duration": 62,
    "start_time": "2022-08-25T14:50:47.253Z"
   },
   {
    "duration": 96,
    "start_time": "2022-08-25T14:50:47.316Z"
   },
   {
    "duration": 884,
    "start_time": "2022-08-25T14:50:47.413Z"
   },
   {
    "duration": 17,
    "start_time": "2022-08-25T14:50:48.298Z"
   },
   {
    "duration": 4,
    "start_time": "2022-08-25T14:50:48.316Z"
   },
   {
    "duration": 121,
    "start_time": "2022-08-25T14:50:48.321Z"
   },
   {
    "duration": 112,
    "start_time": "2022-08-25T14:50:48.443Z"
   },
   {
    "duration": 5,
    "start_time": "2022-08-25T14:50:48.557Z"
   },
   {
    "duration": 23496,
    "start_time": "2022-08-25T14:50:48.563Z"
   },
   {
    "duration": 9,
    "start_time": "2022-08-25T14:51:12.061Z"
   },
   {
    "duration": 7,
    "start_time": "2022-08-25T14:51:12.071Z"
   },
   {
    "duration": 132,
    "start_time": "2022-08-25T14:51:12.082Z"
   },
   {
    "duration": 181,
    "start_time": "2022-08-25T14:51:12.215Z"
   },
   {
    "duration": 14,
    "start_time": "2022-08-25T14:51:12.398Z"
   },
   {
    "duration": 23590,
    "start_time": "2022-08-25T14:51:12.414Z"
   },
   {
    "duration": 17,
    "start_time": "2022-08-25T14:51:36.005Z"
   },
   {
    "duration": 10,
    "start_time": "2022-08-25T14:51:36.024Z"
   },
   {
    "duration": 122,
    "start_time": "2022-08-25T14:51:36.035Z"
   },
   {
    "duration": 121,
    "start_time": "2022-08-25T14:51:36.159Z"
   },
   {
    "duration": 6,
    "start_time": "2022-08-25T14:51:36.282Z"
   },
   {
    "duration": 4,
    "start_time": "2022-08-25T14:51:36.290Z"
   },
   {
    "duration": 19,
    "start_time": "2022-08-25T14:51:36.295Z"
   },
   {
    "duration": 18,
    "start_time": "2022-08-25T14:51:36.316Z"
   },
   {
    "duration": 6,
    "start_time": "2022-08-25T14:51:36.335Z"
   },
   {
    "duration": 10,
    "start_time": "2022-08-25T14:51:36.343Z"
   },
   {
    "duration": 5,
    "start_time": "2022-08-25T14:51:36.354Z"
   },
   {
    "duration": 12,
    "start_time": "2022-08-25T14:51:36.360Z"
   },
   {
    "duration": 32414,
    "start_time": "2022-08-25T14:51:36.374Z"
   },
   {
    "duration": 21,
    "start_time": "2022-08-25T14:52:08.790Z"
   },
   {
    "duration": 8,
    "start_time": "2022-08-25T14:52:08.813Z"
   },
   {
    "duration": 119,
    "start_time": "2022-08-25T14:52:08.823Z"
   },
   {
    "duration": 104,
    "start_time": "2022-08-25T14:52:08.944Z"
   },
   {
    "duration": 6,
    "start_time": "2022-08-25T14:52:09.049Z"
   },
   {
    "duration": 4,
    "start_time": "2022-08-25T14:52:09.056Z"
   },
   {
    "duration": 9,
    "start_time": "2022-08-25T14:52:09.061Z"
   },
   {
    "duration": 8,
    "start_time": "2022-08-25T14:52:09.071Z"
   },
   {
    "duration": 7,
    "start_time": "2022-08-25T14:52:09.081Z"
   },
   {
    "duration": 14342,
    "start_time": "2022-08-25T14:52:09.090Z"
   },
   {
    "duration": 12,
    "start_time": "2022-08-25T14:52:23.434Z"
   },
   {
    "duration": 9,
    "start_time": "2022-08-25T14:52:23.448Z"
   },
   {
    "duration": 130,
    "start_time": "2022-08-25T14:52:23.458Z"
   },
   {
    "duration": 108,
    "start_time": "2022-08-25T14:52:23.589Z"
   },
   {
    "duration": 12,
    "start_time": "2022-08-25T14:52:23.699Z"
   },
   {
    "duration": 9,
    "start_time": "2022-08-25T14:52:23.713Z"
   },
   {
    "duration": 9,
    "start_time": "2022-08-25T14:52:23.724Z"
   },
   {
    "duration": 171,
    "start_time": "2022-08-25T14:52:23.734Z"
   },
   {
    "duration": 4,
    "start_time": "2022-08-25T14:52:23.911Z"
   },
   {
    "duration": 14,
    "start_time": "2022-08-25T14:52:23.917Z"
   },
   {
    "duration": 6,
    "start_time": "2022-08-25T14:52:23.932Z"
   },
   {
    "duration": 15,
    "start_time": "2022-08-25T14:52:23.940Z"
   },
   {
    "duration": 126,
    "start_time": "2022-08-25T14:52:23.958Z"
   },
   {
    "duration": 108,
    "start_time": "2022-08-25T14:52:24.085Z"
   },
   {
    "duration": 17,
    "start_time": "2022-08-25T14:52:24.194Z"
   },
   {
    "duration": 138,
    "start_time": "2022-08-25T14:52:24.212Z"
   },
   {
    "duration": 5,
    "start_time": "2022-08-25T15:05:52.004Z"
   },
   {
    "duration": 59,
    "start_time": "2022-08-25T15:05:52.011Z"
   },
   {
    "duration": 9,
    "start_time": "2022-08-25T15:05:52.072Z"
   },
   {
    "duration": 32,
    "start_time": "2022-08-25T15:05:52.083Z"
   },
   {
    "duration": 5,
    "start_time": "2022-08-25T15:05:52.117Z"
   },
   {
    "duration": 15,
    "start_time": "2022-08-25T15:05:52.123Z"
   },
   {
    "duration": 12,
    "start_time": "2022-08-25T15:05:52.140Z"
   },
   {
    "duration": 162,
    "start_time": "2022-08-25T15:05:52.154Z"
   },
   {
    "duration": 162,
    "start_time": "2022-08-25T15:05:52.318Z"
   },
   {
    "duration": 6,
    "start_time": "2022-08-25T15:05:52.482Z"
   },
   {
    "duration": 31,
    "start_time": "2022-08-25T15:05:52.490Z"
   },
   {
    "duration": 19,
    "start_time": "2022-08-25T15:05:52.523Z"
   },
   {
    "duration": 140,
    "start_time": "2022-08-25T15:05:52.544Z"
   },
   {
    "duration": 5,
    "start_time": "2022-08-25T15:05:52.686Z"
   },
   {
    "duration": 17,
    "start_time": "2022-08-25T15:05:52.694Z"
   },
   {
    "duration": 24,
    "start_time": "2022-08-25T15:05:52.713Z"
   },
   {
    "duration": 10,
    "start_time": "2022-08-25T15:05:52.738Z"
   },
   {
    "duration": 5,
    "start_time": "2022-08-25T15:05:52.750Z"
   },
   {
    "duration": 22,
    "start_time": "2022-08-25T15:05:52.756Z"
   },
   {
    "duration": 17,
    "start_time": "2022-08-25T15:05:52.780Z"
   },
   {
    "duration": 47,
    "start_time": "2022-08-25T15:05:52.799Z"
   },
   {
    "duration": 12,
    "start_time": "2022-08-25T15:05:52.848Z"
   },
   {
    "duration": 14,
    "start_time": "2022-08-25T15:05:52.861Z"
   },
   {
    "duration": 12,
    "start_time": "2022-08-25T15:05:52.877Z"
   },
   {
    "duration": 6,
    "start_time": "2022-08-25T15:05:52.890Z"
   },
   {
    "duration": 26,
    "start_time": "2022-08-25T15:05:52.897Z"
   },
   {
    "duration": 88,
    "start_time": "2022-08-25T15:05:52.924Z"
   },
   {
    "duration": 817,
    "start_time": "2022-08-25T15:05:53.194Z"
   },
   {
    "duration": 5,
    "start_time": "2022-08-25T15:05:54.013Z"
   },
   {
    "duration": 2,
    "start_time": "2022-08-25T15:05:54.020Z"
   },
   {
    "duration": 117,
    "start_time": "2022-08-25T15:05:54.024Z"
   },
   {
    "duration": 113,
    "start_time": "2022-08-25T15:05:54.143Z"
   },
   {
    "duration": 5,
    "start_time": "2022-08-25T15:05:54.258Z"
   },
   {
    "duration": 24001,
    "start_time": "2022-08-25T15:05:54.264Z"
   },
   {
    "duration": 11,
    "start_time": "2022-08-25T15:06:18.267Z"
   },
   {
    "duration": 8,
    "start_time": "2022-08-25T15:06:18.280Z"
   },
   {
    "duration": 130,
    "start_time": "2022-08-25T15:06:18.289Z"
   },
   {
    "duration": 121,
    "start_time": "2022-08-25T15:06:18.420Z"
   },
   {
    "duration": 5,
    "start_time": "2022-08-25T15:06:18.543Z"
   },
   {
    "duration": 23340,
    "start_time": "2022-08-25T15:06:18.550Z"
   },
   {
    "duration": 21,
    "start_time": "2022-08-25T15:06:41.892Z"
   },
   {
    "duration": 10,
    "start_time": "2022-08-25T15:06:41.915Z"
   },
   {
    "duration": 117,
    "start_time": "2022-08-25T15:06:41.927Z"
   },
   {
    "duration": 112,
    "start_time": "2022-08-25T15:06:42.045Z"
   },
   {
    "duration": 5,
    "start_time": "2022-08-25T15:06:42.159Z"
   },
   {
    "duration": 4,
    "start_time": "2022-08-25T15:06:42.165Z"
   },
   {
    "duration": 7,
    "start_time": "2022-08-25T15:06:42.170Z"
   },
   {
    "duration": 15,
    "start_time": "2022-08-25T15:06:42.178Z"
   },
   {
    "duration": 7,
    "start_time": "2022-08-25T15:06:42.211Z"
   },
   {
    "duration": 12,
    "start_time": "2022-08-25T15:06:42.219Z"
   },
   {
    "duration": 5,
    "start_time": "2022-08-25T15:06:42.232Z"
   },
   {
    "duration": 7,
    "start_time": "2022-08-25T15:06:42.238Z"
   },
   {
    "duration": 33115,
    "start_time": "2022-08-25T15:06:42.246Z"
   },
   {
    "duration": 14,
    "start_time": "2022-08-25T15:07:15.363Z"
   },
   {
    "duration": 32,
    "start_time": "2022-08-25T15:07:15.379Z"
   },
   {
    "duration": 144,
    "start_time": "2022-08-25T15:07:15.413Z"
   },
   {
    "duration": 119,
    "start_time": "2022-08-25T15:07:15.559Z"
   },
   {
    "duration": 6,
    "start_time": "2022-08-25T15:07:15.679Z"
   },
   {
    "duration": 19,
    "start_time": "2022-08-25T15:07:15.686Z"
   },
   {
    "duration": 18,
    "start_time": "2022-08-25T15:07:15.706Z"
   },
   {
    "duration": 9,
    "start_time": "2022-08-25T15:07:15.726Z"
   },
   {
    "duration": 19,
    "start_time": "2022-08-25T15:07:15.737Z"
   },
   {
    "duration": 13663,
    "start_time": "2022-08-25T15:07:15.757Z"
   },
   {
    "duration": 11,
    "start_time": "2022-08-25T15:07:29.422Z"
   },
   {
    "duration": 19,
    "start_time": "2022-08-25T15:07:29.435Z"
   },
   {
    "duration": 173,
    "start_time": "2022-08-25T15:07:29.456Z"
   },
   {
    "duration": 109,
    "start_time": "2022-08-25T15:07:29.630Z"
   },
   {
    "duration": 6,
    "start_time": "2022-08-25T15:07:29.740Z"
   },
   {
    "duration": 14,
    "start_time": "2022-08-25T15:07:29.748Z"
   },
   {
    "duration": 12,
    "start_time": "2022-08-25T15:07:29.763Z"
   },
   {
    "duration": 202,
    "start_time": "2022-08-25T15:07:29.777Z"
   },
   {
    "duration": 4,
    "start_time": "2022-08-25T15:07:29.981Z"
   },
   {
    "duration": 17,
    "start_time": "2022-08-25T15:07:29.986Z"
   },
   {
    "duration": 6,
    "start_time": "2022-08-25T15:07:30.010Z"
   },
   {
    "duration": 12,
    "start_time": "2022-08-25T15:07:30.017Z"
   },
   {
    "duration": 124,
    "start_time": "2022-08-25T15:07:30.031Z"
   },
   {
    "duration": 109,
    "start_time": "2022-08-25T15:07:30.157Z"
   },
   {
    "duration": 7,
    "start_time": "2022-08-25T15:07:30.268Z"
   },
   {
    "duration": 145,
    "start_time": "2022-08-25T15:07:30.276Z"
   },
   {
    "duration": 1550,
    "start_time": "2022-08-26T10:49:27.033Z"
   },
   {
    "duration": 94,
    "start_time": "2022-08-26T10:49:28.585Z"
   },
   {
    "duration": 14,
    "start_time": "2022-08-26T10:49:28.681Z"
   },
   {
    "duration": 40,
    "start_time": "2022-08-26T10:49:28.697Z"
   },
   {
    "duration": 6,
    "start_time": "2022-08-26T10:49:28.739Z"
   },
   {
    "duration": 18,
    "start_time": "2022-08-26T10:49:28.747Z"
   },
   {
    "duration": 12,
    "start_time": "2022-08-26T10:49:28.767Z"
   },
   {
    "duration": 299,
    "start_time": "2022-08-26T10:49:28.781Z"
   },
   {
    "duration": 274,
    "start_time": "2022-08-26T10:49:29.081Z"
   },
   {
    "duration": 6,
    "start_time": "2022-08-26T10:49:29.358Z"
   },
   {
    "duration": 9,
    "start_time": "2022-08-26T10:49:29.365Z"
   },
   {
    "duration": 27,
    "start_time": "2022-08-26T10:49:29.376Z"
   },
   {
    "duration": 155,
    "start_time": "2022-08-26T10:49:29.405Z"
   },
   {
    "duration": 2,
    "start_time": "2022-08-26T10:49:29.562Z"
   },
   {
    "duration": 6,
    "start_time": "2022-08-26T10:49:29.566Z"
   },
   {
    "duration": 5,
    "start_time": "2022-08-26T10:49:29.574Z"
   },
   {
    "duration": 8,
    "start_time": "2022-08-26T10:49:29.580Z"
   },
   {
    "duration": 0,
    "start_time": "2022-08-26T10:49:29.680Z"
   },
   {
    "duration": 0,
    "start_time": "2022-08-26T10:49:29.681Z"
   },
   {
    "duration": 0,
    "start_time": "2022-08-26T10:49:29.682Z"
   },
   {
    "duration": 0,
    "start_time": "2022-08-26T10:49:29.683Z"
   },
   {
    "duration": 0,
    "start_time": "2022-08-26T10:49:29.684Z"
   },
   {
    "duration": 0,
    "start_time": "2022-08-26T10:49:29.685Z"
   },
   {
    "duration": 0,
    "start_time": "2022-08-26T10:49:29.687Z"
   },
   {
    "duration": 0,
    "start_time": "2022-08-26T10:49:29.703Z"
   },
   {
    "duration": 0,
    "start_time": "2022-08-26T10:49:29.705Z"
   },
   {
    "duration": 0,
    "start_time": "2022-08-26T10:49:29.706Z"
   },
   {
    "duration": 0,
    "start_time": "2022-08-26T10:49:29.708Z"
   },
   {
    "duration": 0,
    "start_time": "2022-08-26T10:49:29.709Z"
   },
   {
    "duration": 0,
    "start_time": "2022-08-26T10:49:29.710Z"
   },
   {
    "duration": 0,
    "start_time": "2022-08-26T10:49:29.712Z"
   },
   {
    "duration": 0,
    "start_time": "2022-08-26T10:49:29.713Z"
   },
   {
    "duration": 0,
    "start_time": "2022-08-26T10:49:29.714Z"
   },
   {
    "duration": 0,
    "start_time": "2022-08-26T10:49:29.715Z"
   },
   {
    "duration": 0,
    "start_time": "2022-08-26T10:49:29.717Z"
   },
   {
    "duration": 0,
    "start_time": "2022-08-26T10:49:29.718Z"
   },
   {
    "duration": 0,
    "start_time": "2022-08-26T10:49:29.720Z"
   },
   {
    "duration": 0,
    "start_time": "2022-08-26T10:49:29.721Z"
   },
   {
    "duration": 0,
    "start_time": "2022-08-26T10:49:29.722Z"
   },
   {
    "duration": 0,
    "start_time": "2022-08-26T10:49:29.724Z"
   },
   {
    "duration": 0,
    "start_time": "2022-08-26T10:49:29.725Z"
   },
   {
    "duration": 0,
    "start_time": "2022-08-26T10:49:29.726Z"
   },
   {
    "duration": 0,
    "start_time": "2022-08-26T10:49:29.728Z"
   },
   {
    "duration": 0,
    "start_time": "2022-08-26T10:49:29.729Z"
   },
   {
    "duration": 0,
    "start_time": "2022-08-26T10:49:29.730Z"
   },
   {
    "duration": 0,
    "start_time": "2022-08-26T10:49:29.731Z"
   },
   {
    "duration": 0,
    "start_time": "2022-08-26T10:49:29.732Z"
   },
   {
    "duration": 0,
    "start_time": "2022-08-26T10:49:29.733Z"
   },
   {
    "duration": 0,
    "start_time": "2022-08-26T10:49:29.734Z"
   },
   {
    "duration": 0,
    "start_time": "2022-08-26T10:49:29.735Z"
   },
   {
    "duration": 0,
    "start_time": "2022-08-26T10:49:29.737Z"
   },
   {
    "duration": 0,
    "start_time": "2022-08-26T10:49:29.738Z"
   },
   {
    "duration": 0,
    "start_time": "2022-08-26T10:49:29.739Z"
   },
   {
    "duration": 0,
    "start_time": "2022-08-26T10:49:29.740Z"
   },
   {
    "duration": 0,
    "start_time": "2022-08-26T10:49:29.804Z"
   },
   {
    "duration": 0,
    "start_time": "2022-08-26T10:49:29.805Z"
   },
   {
    "duration": 0,
    "start_time": "2022-08-26T10:49:29.807Z"
   },
   {
    "duration": 0,
    "start_time": "2022-08-26T10:49:29.808Z"
   },
   {
    "duration": 0,
    "start_time": "2022-08-26T10:49:29.810Z"
   },
   {
    "duration": 0,
    "start_time": "2022-08-26T10:49:29.811Z"
   },
   {
    "duration": 0,
    "start_time": "2022-08-26T10:49:29.812Z"
   },
   {
    "duration": 0,
    "start_time": "2022-08-26T10:49:29.813Z"
   },
   {
    "duration": 0,
    "start_time": "2022-08-26T10:49:29.815Z"
   },
   {
    "duration": 0,
    "start_time": "2022-08-26T10:49:29.816Z"
   },
   {
    "duration": 0,
    "start_time": "2022-08-26T10:49:29.817Z"
   },
   {
    "duration": 0,
    "start_time": "2022-08-26T10:49:29.818Z"
   },
   {
    "duration": 0,
    "start_time": "2022-08-26T10:49:29.820Z"
   },
   {
    "duration": 0,
    "start_time": "2022-08-26T10:49:29.821Z"
   },
   {
    "duration": 0,
    "start_time": "2022-08-26T10:49:29.822Z"
   },
   {
    "duration": 0,
    "start_time": "2022-08-26T10:49:29.824Z"
   },
   {
    "duration": 0,
    "start_time": "2022-08-26T10:49:29.825Z"
   },
   {
    "duration": 0,
    "start_time": "2022-08-26T10:49:29.826Z"
   },
   {
    "duration": 0,
    "start_time": "2022-08-26T10:49:29.827Z"
   },
   {
    "duration": 0,
    "start_time": "2022-08-26T10:49:29.828Z"
   },
   {
    "duration": 0,
    "start_time": "2022-08-26T10:49:29.829Z"
   },
   {
    "duration": 0,
    "start_time": "2022-08-26T10:49:29.830Z"
   },
   {
    "duration": 0,
    "start_time": "2022-08-26T10:49:29.832Z"
   },
   {
    "duration": 0,
    "start_time": "2022-08-26T10:49:29.834Z"
   },
   {
    "duration": 0,
    "start_time": "2022-08-26T10:49:29.835Z"
   },
   {
    "duration": 0,
    "start_time": "2022-08-26T10:49:29.836Z"
   },
   {
    "duration": 7,
    "start_time": "2022-08-26T10:51:09.949Z"
   },
   {
    "duration": 60,
    "start_time": "2022-08-26T10:51:09.959Z"
   },
   {
    "duration": 13,
    "start_time": "2022-08-26T10:51:10.022Z"
   },
   {
    "duration": 72,
    "start_time": "2022-08-26T10:51:10.038Z"
   },
   {
    "duration": 7,
    "start_time": "2022-08-26T10:51:10.112Z"
   },
   {
    "duration": 11,
    "start_time": "2022-08-26T10:51:10.121Z"
   },
   {
    "duration": 11,
    "start_time": "2022-08-26T10:51:10.135Z"
   },
   {
    "duration": 249,
    "start_time": "2022-08-26T10:51:10.148Z"
   },
   {
    "duration": 211,
    "start_time": "2022-08-26T10:51:10.398Z"
   },
   {
    "duration": 5,
    "start_time": "2022-08-26T10:51:10.612Z"
   },
   {
    "duration": 10,
    "start_time": "2022-08-26T10:51:10.619Z"
   },
   {
    "duration": 10,
    "start_time": "2022-08-26T10:51:10.631Z"
   },
   {
    "duration": 160,
    "start_time": "2022-08-26T10:51:10.643Z"
   },
   {
    "duration": 3,
    "start_time": "2022-08-26T10:51:10.805Z"
   },
   {
    "duration": 6,
    "start_time": "2022-08-26T10:51:10.809Z"
   },
   {
    "duration": 11,
    "start_time": "2022-08-26T10:51:10.816Z"
   },
   {
    "duration": 7,
    "start_time": "2022-08-26T10:51:10.828Z"
   },
   {
    "duration": 0,
    "start_time": "2022-08-26T10:51:10.838Z"
   },
   {
    "duration": 0,
    "start_time": "2022-08-26T10:51:10.839Z"
   },
   {
    "duration": 0,
    "start_time": "2022-08-26T10:51:10.840Z"
   },
   {
    "duration": 0,
    "start_time": "2022-08-26T10:51:10.842Z"
   },
   {
    "duration": 0,
    "start_time": "2022-08-26T10:51:10.843Z"
   },
   {
    "duration": 0,
    "start_time": "2022-08-26T10:51:10.844Z"
   },
   {
    "duration": 0,
    "start_time": "2022-08-26T10:51:10.845Z"
   },
   {
    "duration": 0,
    "start_time": "2022-08-26T10:51:10.846Z"
   },
   {
    "duration": 0,
    "start_time": "2022-08-26T10:51:10.847Z"
   },
   {
    "duration": 0,
    "start_time": "2022-08-26T10:51:10.847Z"
   },
   {
    "duration": 0,
    "start_time": "2022-08-26T10:51:10.848Z"
   },
   {
    "duration": 0,
    "start_time": "2022-08-26T10:51:10.849Z"
   },
   {
    "duration": 0,
    "start_time": "2022-08-26T10:51:10.850Z"
   },
   {
    "duration": 0,
    "start_time": "2022-08-26T10:51:10.852Z"
   },
   {
    "duration": 0,
    "start_time": "2022-08-26T10:51:10.852Z"
   },
   {
    "duration": 0,
    "start_time": "2022-08-26T10:51:10.853Z"
   },
   {
    "duration": 0,
    "start_time": "2022-08-26T10:51:10.854Z"
   },
   {
    "duration": 0,
    "start_time": "2022-08-26T10:51:10.855Z"
   },
   {
    "duration": 0,
    "start_time": "2022-08-26T10:51:10.856Z"
   },
   {
    "duration": 0,
    "start_time": "2022-08-26T10:51:10.857Z"
   },
   {
    "duration": 0,
    "start_time": "2022-08-26T10:51:10.858Z"
   },
   {
    "duration": 0,
    "start_time": "2022-08-26T10:51:10.859Z"
   },
   {
    "duration": 0,
    "start_time": "2022-08-26T10:51:10.903Z"
   },
   {
    "duration": 0,
    "start_time": "2022-08-26T10:51:10.904Z"
   },
   {
    "duration": 0,
    "start_time": "2022-08-26T10:51:10.905Z"
   },
   {
    "duration": 0,
    "start_time": "2022-08-26T10:51:10.906Z"
   },
   {
    "duration": 0,
    "start_time": "2022-08-26T10:51:10.908Z"
   },
   {
    "duration": 0,
    "start_time": "2022-08-26T10:51:10.909Z"
   },
   {
    "duration": 0,
    "start_time": "2022-08-26T10:51:10.910Z"
   },
   {
    "duration": 0,
    "start_time": "2022-08-26T10:51:10.911Z"
   },
   {
    "duration": 0,
    "start_time": "2022-08-26T10:51:10.912Z"
   },
   {
    "duration": 0,
    "start_time": "2022-08-26T10:51:10.913Z"
   },
   {
    "duration": 0,
    "start_time": "2022-08-26T10:51:10.914Z"
   },
   {
    "duration": 0,
    "start_time": "2022-08-26T10:51:10.915Z"
   },
   {
    "duration": 0,
    "start_time": "2022-08-26T10:51:10.916Z"
   },
   {
    "duration": 0,
    "start_time": "2022-08-26T10:51:10.917Z"
   },
   {
    "duration": 0,
    "start_time": "2022-08-26T10:51:10.919Z"
   },
   {
    "duration": 0,
    "start_time": "2022-08-26T10:51:10.920Z"
   },
   {
    "duration": 0,
    "start_time": "2022-08-26T10:51:10.921Z"
   },
   {
    "duration": 0,
    "start_time": "2022-08-26T10:51:10.923Z"
   },
   {
    "duration": 0,
    "start_time": "2022-08-26T10:51:10.923Z"
   },
   {
    "duration": 0,
    "start_time": "2022-08-26T10:51:10.924Z"
   },
   {
    "duration": 0,
    "start_time": "2022-08-26T10:51:10.925Z"
   },
   {
    "duration": 0,
    "start_time": "2022-08-26T10:51:10.926Z"
   },
   {
    "duration": 0,
    "start_time": "2022-08-26T10:51:10.927Z"
   },
   {
    "duration": 0,
    "start_time": "2022-08-26T10:51:10.928Z"
   },
   {
    "duration": 0,
    "start_time": "2022-08-26T10:51:10.929Z"
   },
   {
    "duration": 0,
    "start_time": "2022-08-26T10:51:10.930Z"
   },
   {
    "duration": 0,
    "start_time": "2022-08-26T10:51:10.931Z"
   },
   {
    "duration": 0,
    "start_time": "2022-08-26T10:51:10.933Z"
   },
   {
    "duration": 0,
    "start_time": "2022-08-26T10:51:10.934Z"
   },
   {
    "duration": 0,
    "start_time": "2022-08-26T10:51:10.935Z"
   },
   {
    "duration": 0,
    "start_time": "2022-08-26T10:51:10.936Z"
   },
   {
    "duration": 0,
    "start_time": "2022-08-26T10:51:10.937Z"
   },
   {
    "duration": 0,
    "start_time": "2022-08-26T10:51:10.938Z"
   },
   {
    "duration": 0,
    "start_time": "2022-08-26T10:51:10.940Z"
   },
   {
    "duration": 0,
    "start_time": "2022-08-26T10:51:10.940Z"
   },
   {
    "duration": 0,
    "start_time": "2022-08-26T10:51:10.941Z"
   },
   {
    "duration": 0,
    "start_time": "2022-08-26T10:51:10.942Z"
   },
   {
    "duration": 0,
    "start_time": "2022-08-26T10:51:10.944Z"
   },
   {
    "duration": 0,
    "start_time": "2022-08-26T10:51:11.004Z"
   },
   {
    "duration": 0,
    "start_time": "2022-08-26T10:51:11.005Z"
   },
   {
    "duration": 0,
    "start_time": "2022-08-26T10:51:11.007Z"
   },
   {
    "duration": 53,
    "start_time": "2022-08-26T10:53:56.989Z"
   },
   {
    "duration": 45,
    "start_time": "2022-08-26T10:54:27.606Z"
   },
   {
    "duration": 312,
    "start_time": "2022-08-26T10:54:39.702Z"
   },
   {
    "duration": 9,
    "start_time": "2022-08-26T10:56:31.038Z"
   },
   {
    "duration": 195,
    "start_time": "2022-08-26T10:56:39.570Z"
   },
   {
    "duration": 44,
    "start_time": "2022-08-26T10:57:54.166Z"
   },
   {
    "duration": 8,
    "start_time": "2022-08-26T10:58:15.375Z"
   },
   {
    "duration": 6,
    "start_time": "2022-08-26T10:59:44.570Z"
   },
   {
    "duration": 8,
    "start_time": "2022-08-26T11:00:01.535Z"
   },
   {
    "duration": 5,
    "start_time": "2022-08-26T11:00:27.282Z"
   },
   {
    "duration": 40,
    "start_time": "2022-08-26T11:01:27.090Z"
   },
   {
    "duration": 16,
    "start_time": "2022-08-26T11:04:29.283Z"
   },
   {
    "duration": 24,
    "start_time": "2022-08-26T11:04:38.584Z"
   },
   {
    "duration": 93,
    "start_time": "2022-08-26T11:05:31.411Z"
   },
   {
    "duration": 88,
    "start_time": "2022-08-26T11:05:48.092Z"
   },
   {
    "duration": 214,
    "start_time": "2022-08-26T11:06:14.648Z"
   },
   {
    "duration": 77,
    "start_time": "2022-08-26T11:06:45.412Z"
   },
   {
    "duration": 197,
    "start_time": "2022-08-26T11:06:50.580Z"
   },
   {
    "duration": 444,
    "start_time": "2022-08-26T11:08:04.117Z"
   },
   {
    "duration": 265,
    "start_time": "2022-08-26T11:09:12.618Z"
   },
   {
    "duration": 213,
    "start_time": "2022-08-26T11:10:46.828Z"
   },
   {
    "duration": 8,
    "start_time": "2022-08-26T11:11:25.032Z"
   },
   {
    "duration": 62,
    "start_time": "2022-08-26T11:11:25.042Z"
   },
   {
    "duration": 13,
    "start_time": "2022-08-26T11:11:25.105Z"
   },
   {
    "duration": 40,
    "start_time": "2022-08-26T11:11:25.121Z"
   },
   {
    "duration": 41,
    "start_time": "2022-08-26T11:11:25.162Z"
   },
   {
    "duration": 7,
    "start_time": "2022-08-26T11:11:25.205Z"
   },
   {
    "duration": 11,
    "start_time": "2022-08-26T11:11:25.214Z"
   },
   {
    "duration": 237,
    "start_time": "2022-08-26T11:11:25.227Z"
   },
   {
    "duration": 227,
    "start_time": "2022-08-26T11:11:25.466Z"
   },
   {
    "duration": 8,
    "start_time": "2022-08-26T11:11:25.696Z"
   },
   {
    "duration": 9,
    "start_time": "2022-08-26T11:11:25.706Z"
   },
   {
    "duration": 11,
    "start_time": "2022-08-26T11:11:25.717Z"
   },
   {
    "duration": 167,
    "start_time": "2022-08-26T11:11:25.730Z"
   },
   {
    "duration": 2,
    "start_time": "2022-08-26T11:11:25.903Z"
   },
   {
    "duration": 6,
    "start_time": "2022-08-26T11:11:25.906Z"
   },
   {
    "duration": 14,
    "start_time": "2022-08-26T11:11:25.913Z"
   },
   {
    "duration": 181,
    "start_time": "2022-08-26T11:11:25.929Z"
   },
   {
    "duration": 0,
    "start_time": "2022-08-26T11:11:26.114Z"
   },
   {
    "duration": 0,
    "start_time": "2022-08-26T11:11:26.116Z"
   },
   {
    "duration": 0,
    "start_time": "2022-08-26T11:11:26.118Z"
   },
   {
    "duration": 0,
    "start_time": "2022-08-26T11:11:26.119Z"
   },
   {
    "duration": 0,
    "start_time": "2022-08-26T11:11:26.120Z"
   },
   {
    "duration": 0,
    "start_time": "2022-08-26T11:11:26.121Z"
   },
   {
    "duration": 0,
    "start_time": "2022-08-26T11:11:26.122Z"
   },
   {
    "duration": 0,
    "start_time": "2022-08-26T11:11:26.124Z"
   },
   {
    "duration": 0,
    "start_time": "2022-08-26T11:11:26.125Z"
   },
   {
    "duration": 0,
    "start_time": "2022-08-26T11:11:26.127Z"
   },
   {
    "duration": 0,
    "start_time": "2022-08-26T11:11:26.128Z"
   },
   {
    "duration": 0,
    "start_time": "2022-08-26T11:11:26.130Z"
   },
   {
    "duration": 0,
    "start_time": "2022-08-26T11:11:26.131Z"
   },
   {
    "duration": 0,
    "start_time": "2022-08-26T11:11:26.132Z"
   },
   {
    "duration": 0,
    "start_time": "2022-08-26T11:11:26.133Z"
   },
   {
    "duration": 0,
    "start_time": "2022-08-26T11:11:26.135Z"
   },
   {
    "duration": 0,
    "start_time": "2022-08-26T11:11:26.136Z"
   },
   {
    "duration": 0,
    "start_time": "2022-08-26T11:11:26.137Z"
   },
   {
    "duration": 0,
    "start_time": "2022-08-26T11:11:26.138Z"
   },
   {
    "duration": 0,
    "start_time": "2022-08-26T11:11:26.139Z"
   },
   {
    "duration": 0,
    "start_time": "2022-08-26T11:11:26.140Z"
   },
   {
    "duration": 0,
    "start_time": "2022-08-26T11:11:26.141Z"
   },
   {
    "duration": 0,
    "start_time": "2022-08-26T11:11:26.142Z"
   },
   {
    "duration": 0,
    "start_time": "2022-08-26T11:11:26.143Z"
   },
   {
    "duration": 0,
    "start_time": "2022-08-26T11:11:26.144Z"
   },
   {
    "duration": 0,
    "start_time": "2022-08-26T11:11:26.146Z"
   },
   {
    "duration": 0,
    "start_time": "2022-08-26T11:11:26.147Z"
   },
   {
    "duration": 0,
    "start_time": "2022-08-26T11:11:26.148Z"
   },
   {
    "duration": 1,
    "start_time": "2022-08-26T11:11:26.149Z"
   },
   {
    "duration": 0,
    "start_time": "2022-08-26T11:11:26.150Z"
   },
   {
    "duration": 0,
    "start_time": "2022-08-26T11:11:26.152Z"
   },
   {
    "duration": 0,
    "start_time": "2022-08-26T11:11:26.203Z"
   },
   {
    "duration": 0,
    "start_time": "2022-08-26T11:11:26.204Z"
   },
   {
    "duration": 0,
    "start_time": "2022-08-26T11:11:26.206Z"
   },
   {
    "duration": 0,
    "start_time": "2022-08-26T11:11:26.207Z"
   },
   {
    "duration": 0,
    "start_time": "2022-08-26T11:11:26.208Z"
   },
   {
    "duration": 0,
    "start_time": "2022-08-26T11:11:26.209Z"
   },
   {
    "duration": 0,
    "start_time": "2022-08-26T11:11:26.210Z"
   },
   {
    "duration": 0,
    "start_time": "2022-08-26T11:11:26.211Z"
   },
   {
    "duration": 0,
    "start_time": "2022-08-26T11:11:26.214Z"
   },
   {
    "duration": 0,
    "start_time": "2022-08-26T11:11:26.215Z"
   },
   {
    "duration": 0,
    "start_time": "2022-08-26T11:11:26.216Z"
   },
   {
    "duration": 0,
    "start_time": "2022-08-26T11:11:26.218Z"
   },
   {
    "duration": 0,
    "start_time": "2022-08-26T11:11:26.219Z"
   },
   {
    "duration": 0,
    "start_time": "2022-08-26T11:11:26.220Z"
   },
   {
    "duration": 0,
    "start_time": "2022-08-26T11:11:26.221Z"
   },
   {
    "duration": 0,
    "start_time": "2022-08-26T11:11:26.222Z"
   },
   {
    "duration": 0,
    "start_time": "2022-08-26T11:11:26.223Z"
   },
   {
    "duration": 0,
    "start_time": "2022-08-26T11:11:26.225Z"
   },
   {
    "duration": 0,
    "start_time": "2022-08-26T11:11:26.226Z"
   },
   {
    "duration": 0,
    "start_time": "2022-08-26T11:11:26.228Z"
   },
   {
    "duration": 0,
    "start_time": "2022-08-26T11:11:26.229Z"
   },
   {
    "duration": 0,
    "start_time": "2022-08-26T11:11:26.231Z"
   },
   {
    "duration": 0,
    "start_time": "2022-08-26T11:11:26.232Z"
   },
   {
    "duration": 0,
    "start_time": "2022-08-26T11:11:26.233Z"
   },
   {
    "duration": 0,
    "start_time": "2022-08-26T11:11:26.234Z"
   },
   {
    "duration": 0,
    "start_time": "2022-08-26T11:11:26.235Z"
   },
   {
    "duration": 0,
    "start_time": "2022-08-26T11:11:26.236Z"
   },
   {
    "duration": 0,
    "start_time": "2022-08-26T11:11:26.237Z"
   },
   {
    "duration": 0,
    "start_time": "2022-08-26T11:11:26.238Z"
   },
   {
    "duration": 0,
    "start_time": "2022-08-26T11:11:26.239Z"
   },
   {
    "duration": 0,
    "start_time": "2022-08-26T11:11:26.240Z"
   },
   {
    "duration": 0,
    "start_time": "2022-08-26T11:11:26.241Z"
   },
   {
    "duration": 61,
    "start_time": "2022-08-26T11:12:20.640Z"
   },
   {
    "duration": 220,
    "start_time": "2022-08-26T11:12:39.128Z"
   },
   {
    "duration": 202,
    "start_time": "2022-08-26T11:12:46.321Z"
   },
   {
    "duration": 255,
    "start_time": "2022-08-26T11:16:40.994Z"
   },
   {
    "duration": 3293,
    "start_time": "2022-08-26T11:17:04.415Z"
   },
   {
    "duration": 9,
    "start_time": "2022-08-26T11:17:41.466Z"
   },
   {
    "duration": 52,
    "start_time": "2022-08-26T11:17:41.478Z"
   },
   {
    "duration": 13,
    "start_time": "2022-08-26T11:17:41.532Z"
   },
   {
    "duration": 61,
    "start_time": "2022-08-26T11:17:41.547Z"
   },
   {
    "duration": 6,
    "start_time": "2022-08-26T11:17:41.610Z"
   },
   {
    "duration": 16,
    "start_time": "2022-08-26T11:17:41.617Z"
   },
   {
    "duration": 12,
    "start_time": "2022-08-26T11:17:41.635Z"
   },
   {
    "duration": 233,
    "start_time": "2022-08-26T11:17:41.649Z"
   },
   {
    "duration": 208,
    "start_time": "2022-08-26T11:17:41.883Z"
   },
   {
    "duration": 14,
    "start_time": "2022-08-26T11:17:42.094Z"
   },
   {
    "duration": 11,
    "start_time": "2022-08-26T11:17:42.109Z"
   },
   {
    "duration": 10,
    "start_time": "2022-08-26T11:17:42.122Z"
   },
   {
    "duration": 143,
    "start_time": "2022-08-26T11:17:42.134Z"
   },
   {
    "duration": 2,
    "start_time": "2022-08-26T11:17:42.278Z"
   },
   {
    "duration": 8,
    "start_time": "2022-08-26T11:17:42.282Z"
   },
   {
    "duration": 13,
    "start_time": "2022-08-26T11:17:42.291Z"
   },
   {
    "duration": 5106,
    "start_time": "2022-08-26T11:17:42.306Z"
   },
   {
    "duration": 9,
    "start_time": "2022-08-26T11:17:47.414Z"
   },
   {
    "duration": 7,
    "start_time": "2022-08-26T11:17:47.425Z"
   },
   {
    "duration": 70,
    "start_time": "2022-08-26T11:17:47.434Z"
   },
   {
    "duration": 5,
    "start_time": "2022-08-26T11:17:47.506Z"
   },
   {
    "duration": 38,
    "start_time": "2022-08-26T11:17:47.513Z"
   },
   {
    "duration": 0,
    "start_time": "2022-08-26T11:17:47.603Z"
   },
   {
    "duration": 0,
    "start_time": "2022-08-26T11:17:47.604Z"
   },
   {
    "duration": 0,
    "start_time": "2022-08-26T11:17:47.605Z"
   },
   {
    "duration": 0,
    "start_time": "2022-08-26T11:17:47.606Z"
   },
   {
    "duration": 0,
    "start_time": "2022-08-26T11:17:47.608Z"
   },
   {
    "duration": 0,
    "start_time": "2022-08-26T11:17:47.608Z"
   },
   {
    "duration": 0,
    "start_time": "2022-08-26T11:17:47.609Z"
   },
   {
    "duration": 0,
    "start_time": "2022-08-26T11:17:47.610Z"
   },
   {
    "duration": 0,
    "start_time": "2022-08-26T11:17:47.611Z"
   },
   {
    "duration": 0,
    "start_time": "2022-08-26T11:17:47.612Z"
   },
   {
    "duration": 0,
    "start_time": "2022-08-26T11:17:47.613Z"
   },
   {
    "duration": 0,
    "start_time": "2022-08-26T11:17:47.615Z"
   },
   {
    "duration": 0,
    "start_time": "2022-08-26T11:17:47.616Z"
   },
   {
    "duration": 0,
    "start_time": "2022-08-26T11:17:47.617Z"
   },
   {
    "duration": 0,
    "start_time": "2022-08-26T11:17:47.618Z"
   },
   {
    "duration": 0,
    "start_time": "2022-08-26T11:17:47.619Z"
   },
   {
    "duration": 0,
    "start_time": "2022-08-26T11:17:47.620Z"
   },
   {
    "duration": 0,
    "start_time": "2022-08-26T11:17:47.621Z"
   },
   {
    "duration": 0,
    "start_time": "2022-08-26T11:17:47.622Z"
   },
   {
    "duration": 0,
    "start_time": "2022-08-26T11:17:47.624Z"
   },
   {
    "duration": 0,
    "start_time": "2022-08-26T11:17:47.625Z"
   },
   {
    "duration": 0,
    "start_time": "2022-08-26T11:17:47.626Z"
   },
   {
    "duration": 0,
    "start_time": "2022-08-26T11:17:47.627Z"
   },
   {
    "duration": 0,
    "start_time": "2022-08-26T11:17:47.628Z"
   },
   {
    "duration": 0,
    "start_time": "2022-08-26T11:17:47.629Z"
   },
   {
    "duration": 0,
    "start_time": "2022-08-26T11:17:47.630Z"
   },
   {
    "duration": 0,
    "start_time": "2022-08-26T11:17:47.631Z"
   },
   {
    "duration": 0,
    "start_time": "2022-08-26T11:17:47.632Z"
   },
   {
    "duration": 0,
    "start_time": "2022-08-26T11:17:47.633Z"
   },
   {
    "duration": 0,
    "start_time": "2022-08-26T11:17:47.634Z"
   },
   {
    "duration": 0,
    "start_time": "2022-08-26T11:17:47.635Z"
   },
   {
    "duration": 0,
    "start_time": "2022-08-26T11:17:47.636Z"
   },
   {
    "duration": 0,
    "start_time": "2022-08-26T11:17:47.638Z"
   },
   {
    "duration": 0,
    "start_time": "2022-08-26T11:17:47.639Z"
   },
   {
    "duration": 0,
    "start_time": "2022-08-26T11:17:47.703Z"
   },
   {
    "duration": 0,
    "start_time": "2022-08-26T11:17:47.705Z"
   },
   {
    "duration": 0,
    "start_time": "2022-08-26T11:17:47.706Z"
   },
   {
    "duration": 0,
    "start_time": "2022-08-26T11:17:47.707Z"
   },
   {
    "duration": 0,
    "start_time": "2022-08-26T11:17:47.708Z"
   },
   {
    "duration": 0,
    "start_time": "2022-08-26T11:17:47.709Z"
   },
   {
    "duration": 0,
    "start_time": "2022-08-26T11:17:47.710Z"
   },
   {
    "duration": 0,
    "start_time": "2022-08-26T11:17:47.711Z"
   },
   {
    "duration": 0,
    "start_time": "2022-08-26T11:17:47.712Z"
   },
   {
    "duration": 0,
    "start_time": "2022-08-26T11:17:47.713Z"
   },
   {
    "duration": 0,
    "start_time": "2022-08-26T11:17:47.714Z"
   },
   {
    "duration": 0,
    "start_time": "2022-08-26T11:17:47.715Z"
   },
   {
    "duration": 0,
    "start_time": "2022-08-26T11:17:47.716Z"
   },
   {
    "duration": 0,
    "start_time": "2022-08-26T11:17:47.717Z"
   },
   {
    "duration": 0,
    "start_time": "2022-08-26T11:17:47.718Z"
   },
   {
    "duration": 0,
    "start_time": "2022-08-26T11:17:47.719Z"
   },
   {
    "duration": 0,
    "start_time": "2022-08-26T11:17:47.720Z"
   },
   {
    "duration": 0,
    "start_time": "2022-08-26T11:17:47.721Z"
   },
   {
    "duration": 0,
    "start_time": "2022-08-26T11:17:47.722Z"
   },
   {
    "duration": 0,
    "start_time": "2022-08-26T11:17:47.723Z"
   },
   {
    "duration": 0,
    "start_time": "2022-08-26T11:17:47.725Z"
   },
   {
    "duration": 0,
    "start_time": "2022-08-26T11:17:47.725Z"
   },
   {
    "duration": 0,
    "start_time": "2022-08-26T11:17:47.727Z"
   },
   {
    "duration": 0,
    "start_time": "2022-08-26T11:17:47.728Z"
   },
   {
    "duration": 3301,
    "start_time": "2022-08-26T11:18:10.690Z"
   },
   {
    "duration": 241,
    "start_time": "2022-08-26T11:19:15.006Z"
   },
   {
    "duration": 8,
    "start_time": "2022-08-26T11:19:40.138Z"
   },
   {
    "duration": 62,
    "start_time": "2022-08-26T11:19:40.148Z"
   },
   {
    "duration": 16,
    "start_time": "2022-08-26T11:19:40.213Z"
   },
   {
    "duration": 86,
    "start_time": "2022-08-26T11:19:40.232Z"
   },
   {
    "duration": 8,
    "start_time": "2022-08-26T11:19:40.321Z"
   },
   {
    "duration": 16,
    "start_time": "2022-08-26T11:19:40.331Z"
   },
   {
    "duration": 15,
    "start_time": "2022-08-26T11:19:40.350Z"
   },
   {
    "duration": 255,
    "start_time": "2022-08-26T11:19:40.368Z"
   },
   {
    "duration": 208,
    "start_time": "2022-08-26T11:19:40.624Z"
   },
   {
    "duration": 6,
    "start_time": "2022-08-26T11:19:40.835Z"
   },
   {
    "duration": 10,
    "start_time": "2022-08-26T11:19:40.843Z"
   },
   {
    "duration": 24,
    "start_time": "2022-08-26T11:19:40.855Z"
   },
   {
    "duration": 154,
    "start_time": "2022-08-26T11:19:40.881Z"
   },
   {
    "duration": 3,
    "start_time": "2022-08-26T11:19:41.037Z"
   },
   {
    "duration": 19,
    "start_time": "2022-08-26T11:19:41.042Z"
   },
   {
    "duration": 8,
    "start_time": "2022-08-26T11:19:41.063Z"
   },
   {
    "duration": 3408,
    "start_time": "2022-08-26T11:19:41.073Z"
   },
   {
    "duration": 259,
    "start_time": "2022-08-26T11:19:44.483Z"
   },
   {
    "duration": 0,
    "start_time": "2022-08-26T11:19:44.745Z"
   },
   {
    "duration": 0,
    "start_time": "2022-08-26T11:19:44.746Z"
   },
   {
    "duration": 0,
    "start_time": "2022-08-26T11:19:44.747Z"
   },
   {
    "duration": 0,
    "start_time": "2022-08-26T11:19:44.748Z"
   },
   {
    "duration": 0,
    "start_time": "2022-08-26T11:19:44.750Z"
   },
   {
    "duration": 0,
    "start_time": "2022-08-26T11:19:44.751Z"
   },
   {
    "duration": 0,
    "start_time": "2022-08-26T11:19:44.752Z"
   },
   {
    "duration": 0,
    "start_time": "2022-08-26T11:19:44.754Z"
   },
   {
    "duration": 0,
    "start_time": "2022-08-26T11:19:44.755Z"
   },
   {
    "duration": 0,
    "start_time": "2022-08-26T11:19:44.757Z"
   },
   {
    "duration": 0,
    "start_time": "2022-08-26T11:19:44.758Z"
   },
   {
    "duration": 0,
    "start_time": "2022-08-26T11:19:44.759Z"
   },
   {
    "duration": 0,
    "start_time": "2022-08-26T11:19:44.760Z"
   },
   {
    "duration": 0,
    "start_time": "2022-08-26T11:19:44.761Z"
   },
   {
    "duration": 0,
    "start_time": "2022-08-26T11:19:44.762Z"
   },
   {
    "duration": 0,
    "start_time": "2022-08-26T11:19:44.763Z"
   },
   {
    "duration": 0,
    "start_time": "2022-08-26T11:19:44.764Z"
   },
   {
    "duration": 0,
    "start_time": "2022-08-26T11:19:44.765Z"
   },
   {
    "duration": 0,
    "start_time": "2022-08-26T11:19:44.766Z"
   },
   {
    "duration": 0,
    "start_time": "2022-08-26T11:19:44.803Z"
   },
   {
    "duration": 0,
    "start_time": "2022-08-26T11:19:44.804Z"
   },
   {
    "duration": 0,
    "start_time": "2022-08-26T11:19:44.806Z"
   },
   {
    "duration": 0,
    "start_time": "2022-08-26T11:19:44.806Z"
   },
   {
    "duration": 0,
    "start_time": "2022-08-26T11:19:44.808Z"
   },
   {
    "duration": 0,
    "start_time": "2022-08-26T11:19:44.809Z"
   },
   {
    "duration": 0,
    "start_time": "2022-08-26T11:19:44.810Z"
   },
   {
    "duration": 0,
    "start_time": "2022-08-26T11:19:44.811Z"
   },
   {
    "duration": 0,
    "start_time": "2022-08-26T11:19:44.812Z"
   },
   {
    "duration": 0,
    "start_time": "2022-08-26T11:19:44.813Z"
   },
   {
    "duration": 0,
    "start_time": "2022-08-26T11:19:44.814Z"
   },
   {
    "duration": 0,
    "start_time": "2022-08-26T11:19:44.815Z"
   },
   {
    "duration": 0,
    "start_time": "2022-08-26T11:19:44.816Z"
   },
   {
    "duration": 0,
    "start_time": "2022-08-26T11:19:44.817Z"
   },
   {
    "duration": 0,
    "start_time": "2022-08-26T11:19:44.818Z"
   },
   {
    "duration": 0,
    "start_time": "2022-08-26T11:19:44.820Z"
   },
   {
    "duration": 0,
    "start_time": "2022-08-26T11:19:44.821Z"
   },
   {
    "duration": 0,
    "start_time": "2022-08-26T11:19:44.822Z"
   },
   {
    "duration": 0,
    "start_time": "2022-08-26T11:19:44.823Z"
   },
   {
    "duration": 0,
    "start_time": "2022-08-26T11:19:44.824Z"
   },
   {
    "duration": 0,
    "start_time": "2022-08-26T11:19:44.825Z"
   },
   {
    "duration": 0,
    "start_time": "2022-08-26T11:19:44.826Z"
   },
   {
    "duration": 0,
    "start_time": "2022-08-26T11:19:44.827Z"
   },
   {
    "duration": 0,
    "start_time": "2022-08-26T11:19:44.828Z"
   },
   {
    "duration": 0,
    "start_time": "2022-08-26T11:19:44.830Z"
   },
   {
    "duration": 0,
    "start_time": "2022-08-26T11:19:44.831Z"
   },
   {
    "duration": 0,
    "start_time": "2022-08-26T11:19:44.832Z"
   },
   {
    "duration": 0,
    "start_time": "2022-08-26T11:19:44.833Z"
   },
   {
    "duration": 0,
    "start_time": "2022-08-26T11:19:44.834Z"
   },
   {
    "duration": 0,
    "start_time": "2022-08-26T11:19:44.835Z"
   },
   {
    "duration": 0,
    "start_time": "2022-08-26T11:19:44.836Z"
   },
   {
    "duration": 0,
    "start_time": "2022-08-26T11:19:44.837Z"
   },
   {
    "duration": 0,
    "start_time": "2022-08-26T11:19:44.838Z"
   },
   {
    "duration": 0,
    "start_time": "2022-08-26T11:19:44.839Z"
   },
   {
    "duration": 0,
    "start_time": "2022-08-26T11:19:44.840Z"
   },
   {
    "duration": 0,
    "start_time": "2022-08-26T11:19:44.841Z"
   },
   {
    "duration": 0,
    "start_time": "2022-08-26T11:19:44.902Z"
   },
   {
    "duration": 0,
    "start_time": "2022-08-26T11:19:44.904Z"
   },
   {
    "duration": 0,
    "start_time": "2022-08-26T11:19:44.905Z"
   },
   {
    "duration": 0,
    "start_time": "2022-08-26T11:19:44.906Z"
   },
   {
    "duration": 0,
    "start_time": "2022-08-26T11:19:44.907Z"
   },
   {
    "duration": 0,
    "start_time": "2022-08-26T11:19:44.909Z"
   },
   {
    "duration": 0,
    "start_time": "2022-08-26T11:19:44.910Z"
   },
   {
    "duration": 0,
    "start_time": "2022-08-26T11:19:44.910Z"
   },
   {
    "duration": 74,
    "start_time": "2022-08-26T11:21:11.482Z"
   },
   {
    "duration": 57,
    "start_time": "2022-08-26T11:21:27.223Z"
   },
   {
    "duration": 82,
    "start_time": "2022-08-26T11:22:03.970Z"
   },
   {
    "duration": 45,
    "start_time": "2022-08-26T11:22:25.539Z"
   },
   {
    "duration": 6,
    "start_time": "2022-08-26T11:22:43.487Z"
   },
   {
    "duration": 49,
    "start_time": "2022-08-26T11:23:31.826Z"
   },
   {
    "duration": 238,
    "start_time": "2022-08-26T11:23:36.542Z"
   },
   {
    "duration": 213,
    "start_time": "2022-08-26T11:24:02.154Z"
   },
   {
    "duration": 279,
    "start_time": "2022-08-26T11:46:11.574Z"
   },
   {
    "duration": 5,
    "start_time": "2022-08-26T12:11:08.036Z"
   },
   {
    "duration": 7,
    "start_time": "2022-08-26T12:11:14.183Z"
   },
   {
    "duration": 61,
    "start_time": "2022-08-26T12:11:14.193Z"
   },
   {
    "duration": 16,
    "start_time": "2022-08-26T12:11:14.256Z"
   },
   {
    "duration": 71,
    "start_time": "2022-08-26T12:11:14.275Z"
   },
   {
    "duration": 7,
    "start_time": "2022-08-26T12:11:14.348Z"
   },
   {
    "duration": 13,
    "start_time": "2022-08-26T12:11:14.358Z"
   },
   {
    "duration": 37,
    "start_time": "2022-08-26T12:11:14.373Z"
   },
   {
    "duration": 243,
    "start_time": "2022-08-26T12:11:14.412Z"
   },
   {
    "duration": 212,
    "start_time": "2022-08-26T12:11:14.657Z"
   },
   {
    "duration": 6,
    "start_time": "2022-08-26T12:11:14.873Z"
   },
   {
    "duration": 15,
    "start_time": "2022-08-26T12:11:14.880Z"
   },
   {
    "duration": 30,
    "start_time": "2022-08-26T12:11:14.903Z"
   },
   {
    "duration": 174,
    "start_time": "2022-08-26T12:11:14.935Z"
   },
   {
    "duration": 2,
    "start_time": "2022-08-26T12:11:15.111Z"
   },
   {
    "duration": 13,
    "start_time": "2022-08-26T12:11:15.114Z"
   },
   {
    "duration": 17,
    "start_time": "2022-08-26T12:11:15.129Z"
   },
   {
    "duration": 24,
    "start_time": "2022-08-26T12:11:15.148Z"
   },
   {
    "duration": 248,
    "start_time": "2022-08-26T12:11:15.173Z"
   },
   {
    "duration": 0,
    "start_time": "2022-08-26T12:11:15.424Z"
   },
   {
    "duration": 0,
    "start_time": "2022-08-26T12:11:15.426Z"
   },
   {
    "duration": 0,
    "start_time": "2022-08-26T12:11:15.428Z"
   },
   {
    "duration": 0,
    "start_time": "2022-08-26T12:11:15.429Z"
   },
   {
    "duration": 0,
    "start_time": "2022-08-26T12:11:15.431Z"
   },
   {
    "duration": 0,
    "start_time": "2022-08-26T12:11:15.432Z"
   },
   {
    "duration": 0,
    "start_time": "2022-08-26T12:11:15.434Z"
   },
   {
    "duration": 0,
    "start_time": "2022-08-26T12:11:15.435Z"
   },
   {
    "duration": 0,
    "start_time": "2022-08-26T12:11:15.436Z"
   },
   {
    "duration": 0,
    "start_time": "2022-08-26T12:11:15.437Z"
   },
   {
    "duration": 0,
    "start_time": "2022-08-26T12:11:15.439Z"
   },
   {
    "duration": 0,
    "start_time": "2022-08-26T12:11:15.440Z"
   },
   {
    "duration": 0,
    "start_time": "2022-08-26T12:11:15.442Z"
   },
   {
    "duration": 0,
    "start_time": "2022-08-26T12:11:15.443Z"
   },
   {
    "duration": 0,
    "start_time": "2022-08-26T12:11:15.444Z"
   },
   {
    "duration": 0,
    "start_time": "2022-08-26T12:11:15.446Z"
   },
   {
    "duration": 0,
    "start_time": "2022-08-26T12:11:15.447Z"
   },
   {
    "duration": 0,
    "start_time": "2022-08-26T12:11:15.448Z"
   },
   {
    "duration": 0,
    "start_time": "2022-08-26T12:11:15.449Z"
   },
   {
    "duration": 0,
    "start_time": "2022-08-26T12:11:15.451Z"
   },
   {
    "duration": 0,
    "start_time": "2022-08-26T12:11:15.452Z"
   },
   {
    "duration": 0,
    "start_time": "2022-08-26T12:11:15.453Z"
   },
   {
    "duration": 0,
    "start_time": "2022-08-26T12:11:15.454Z"
   },
   {
    "duration": 0,
    "start_time": "2022-08-26T12:11:15.456Z"
   },
   {
    "duration": 0,
    "start_time": "2022-08-26T12:11:15.457Z"
   },
   {
    "duration": 0,
    "start_time": "2022-08-26T12:11:15.458Z"
   },
   {
    "duration": 0,
    "start_time": "2022-08-26T12:11:15.459Z"
   },
   {
    "duration": 0,
    "start_time": "2022-08-26T12:11:15.504Z"
   },
   {
    "duration": 0,
    "start_time": "2022-08-26T12:11:15.505Z"
   },
   {
    "duration": 0,
    "start_time": "2022-08-26T12:11:15.506Z"
   },
   {
    "duration": 0,
    "start_time": "2022-08-26T12:11:15.508Z"
   },
   {
    "duration": 0,
    "start_time": "2022-08-26T12:11:15.509Z"
   },
   {
    "duration": 0,
    "start_time": "2022-08-26T12:11:15.511Z"
   },
   {
    "duration": 0,
    "start_time": "2022-08-26T12:11:15.512Z"
   },
   {
    "duration": 0,
    "start_time": "2022-08-26T12:11:15.514Z"
   },
   {
    "duration": 0,
    "start_time": "2022-08-26T12:11:15.516Z"
   },
   {
    "duration": 0,
    "start_time": "2022-08-26T12:11:15.517Z"
   },
   {
    "duration": 0,
    "start_time": "2022-08-26T12:11:15.518Z"
   },
   {
    "duration": 0,
    "start_time": "2022-08-26T12:11:15.520Z"
   },
   {
    "duration": 0,
    "start_time": "2022-08-26T12:11:15.521Z"
   },
   {
    "duration": 0,
    "start_time": "2022-08-26T12:11:15.522Z"
   },
   {
    "duration": 0,
    "start_time": "2022-08-26T12:11:15.524Z"
   },
   {
    "duration": 0,
    "start_time": "2022-08-26T12:11:15.525Z"
   },
   {
    "duration": 0,
    "start_time": "2022-08-26T12:11:15.527Z"
   },
   {
    "duration": 0,
    "start_time": "2022-08-26T12:11:15.528Z"
   },
   {
    "duration": 0,
    "start_time": "2022-08-26T12:11:15.530Z"
   },
   {
    "duration": 0,
    "start_time": "2022-08-26T12:11:15.531Z"
   },
   {
    "duration": 0,
    "start_time": "2022-08-26T12:11:15.532Z"
   },
   {
    "duration": 0,
    "start_time": "2022-08-26T12:11:15.533Z"
   },
   {
    "duration": 0,
    "start_time": "2022-08-26T12:11:15.534Z"
   },
   {
    "duration": 0,
    "start_time": "2022-08-26T12:11:15.535Z"
   },
   {
    "duration": 0,
    "start_time": "2022-08-26T12:11:15.536Z"
   },
   {
    "duration": 0,
    "start_time": "2022-08-26T12:11:15.539Z"
   },
   {
    "duration": 0,
    "start_time": "2022-08-26T12:11:15.540Z"
   },
   {
    "duration": 0,
    "start_time": "2022-08-26T12:11:15.604Z"
   },
   {
    "duration": 0,
    "start_time": "2022-08-26T12:11:15.605Z"
   },
   {
    "duration": 0,
    "start_time": "2022-08-26T12:11:15.606Z"
   },
   {
    "duration": 0,
    "start_time": "2022-08-26T12:11:15.608Z"
   },
   {
    "duration": 0,
    "start_time": "2022-08-26T12:11:15.609Z"
   },
   {
    "duration": 0,
    "start_time": "2022-08-26T12:11:15.611Z"
   },
   {
    "duration": 0,
    "start_time": "2022-08-26T12:11:15.612Z"
   },
   {
    "duration": 0,
    "start_time": "2022-08-26T12:11:15.613Z"
   },
   {
    "duration": 0,
    "start_time": "2022-08-26T12:11:15.614Z"
   },
   {
    "duration": 0,
    "start_time": "2022-08-26T12:11:15.615Z"
   },
   {
    "duration": 0,
    "start_time": "2022-08-26T12:11:15.616Z"
   },
   {
    "duration": 397,
    "start_time": "2022-08-26T12:14:00.623Z"
   },
   {
    "duration": 259,
    "start_time": "2022-08-26T12:14:12.811Z"
   },
   {
    "duration": 24,
    "start_time": "2022-08-26T12:14:18.195Z"
   },
   {
    "duration": 5,
    "start_time": "2022-08-26T12:14:31.331Z"
   },
   {
    "duration": 7,
    "start_time": "2022-08-26T12:16:01.892Z"
   },
   {
    "duration": 288,
    "start_time": "2022-08-26T12:16:08.884Z"
   },
   {
    "duration": 243,
    "start_time": "2022-08-26T12:17:11.640Z"
   },
   {
    "duration": 43,
    "start_time": "2022-08-26T12:18:32.208Z"
   },
   {
    "duration": 55,
    "start_time": "2022-08-26T12:18:40.660Z"
   },
   {
    "duration": 9,
    "start_time": "2022-08-26T12:19:04.004Z"
   },
   {
    "duration": 16,
    "start_time": "2022-08-26T12:19:07.296Z"
   },
   {
    "duration": 4,
    "start_time": "2022-08-26T12:19:13.673Z"
   },
   {
    "duration": 130,
    "start_time": "2022-08-26T12:19:22.361Z"
   },
   {
    "duration": 125,
    "start_time": "2022-08-26T12:19:36.900Z"
   },
   {
    "duration": 132,
    "start_time": "2022-08-26T12:19:40.716Z"
   },
   {
    "duration": 5,
    "start_time": "2022-08-26T12:20:22.717Z"
   },
   {
    "duration": 6,
    "start_time": "2022-08-26T12:20:32.193Z"
   },
   {
    "duration": 87,
    "start_time": "2022-08-26T12:20:32.204Z"
   },
   {
    "duration": 14,
    "start_time": "2022-08-26T12:20:32.294Z"
   },
   {
    "duration": 42,
    "start_time": "2022-08-26T12:20:32.310Z"
   },
   {
    "duration": 7,
    "start_time": "2022-08-26T12:20:32.354Z"
   },
   {
    "duration": 44,
    "start_time": "2022-08-26T12:20:32.364Z"
   },
   {
    "duration": 13,
    "start_time": "2022-08-26T12:20:32.410Z"
   },
   {
    "duration": 216,
    "start_time": "2022-08-26T12:20:32.425Z"
   },
   {
    "duration": 205,
    "start_time": "2022-08-26T12:20:32.643Z"
   },
   {
    "duration": 6,
    "start_time": "2022-08-26T12:20:32.849Z"
   },
   {
    "duration": 7,
    "start_time": "2022-08-26T12:20:32.858Z"
   },
   {
    "duration": 8,
    "start_time": "2022-08-26T12:20:32.867Z"
   },
   {
    "duration": 175,
    "start_time": "2022-08-26T12:20:32.876Z"
   },
   {
    "duration": 3,
    "start_time": "2022-08-26T12:20:33.052Z"
   },
   {
    "duration": 8,
    "start_time": "2022-08-26T12:20:33.057Z"
   },
   {
    "duration": 5,
    "start_time": "2022-08-26T12:20:33.067Z"
   },
   {
    "duration": 7,
    "start_time": "2022-08-26T12:20:33.074Z"
   },
   {
    "duration": 37,
    "start_time": "2022-08-26T12:20:33.083Z"
   },
   {
    "duration": 17,
    "start_time": "2022-08-26T12:20:33.122Z"
   },
   {
    "duration": 29,
    "start_time": "2022-08-26T12:20:33.141Z"
   },
   {
    "duration": 9,
    "start_time": "2022-08-26T12:20:33.172Z"
   },
   {
    "duration": 11,
    "start_time": "2022-08-26T12:20:33.183Z"
   },
   {
    "duration": 9,
    "start_time": "2022-08-26T12:20:33.196Z"
   },
   {
    "duration": 159,
    "start_time": "2022-08-26T12:20:33.206Z"
   },
   {
    "duration": 10,
    "start_time": "2022-08-26T12:20:33.366Z"
   },
   {
    "duration": 10,
    "start_time": "2022-08-26T12:20:33.378Z"
   },
   {
    "duration": 27,
    "start_time": "2022-08-26T12:20:33.390Z"
   },
   {
    "duration": 5,
    "start_time": "2022-08-26T12:20:33.419Z"
   },
   {
    "duration": 41,
    "start_time": "2022-08-26T12:20:33.428Z"
   },
   {
    "duration": 35,
    "start_time": "2022-08-26T12:20:33.471Z"
   },
   {
    "duration": 11,
    "start_time": "2022-08-26T12:20:33.508Z"
   },
   {
    "duration": 14,
    "start_time": "2022-08-26T12:20:33.521Z"
   },
   {
    "duration": 7,
    "start_time": "2022-08-26T12:20:33.537Z"
   },
   {
    "duration": 59,
    "start_time": "2022-08-26T12:20:33.546Z"
   },
   {
    "duration": 97,
    "start_time": "2022-08-26T12:20:33.607Z"
   },
   {
    "duration": 900,
    "start_time": "2022-08-26T12:20:33.706Z"
   },
   {
    "duration": 6,
    "start_time": "2022-08-26T12:20:34.608Z"
   },
   {
    "duration": 19,
    "start_time": "2022-08-26T12:20:34.616Z"
   },
   {
    "duration": 147,
    "start_time": "2022-08-26T12:20:34.636Z"
   },
   {
    "duration": 137,
    "start_time": "2022-08-26T12:20:34.784Z"
   },
   {
    "duration": 7,
    "start_time": "2022-08-26T12:20:34.923Z"
   },
   {
    "duration": 25148,
    "start_time": "2022-08-26T12:20:34.932Z"
   },
   {
    "duration": 26,
    "start_time": "2022-08-26T12:21:00.082Z"
   },
   {
    "duration": 26,
    "start_time": "2022-08-26T12:21:00.109Z"
   },
   {
    "duration": 189,
    "start_time": "2022-08-26T12:21:00.138Z"
   },
   {
    "duration": 145,
    "start_time": "2022-08-26T12:21:00.329Z"
   },
   {
    "duration": 8,
    "start_time": "2022-08-26T12:21:00.476Z"
   },
   {
    "duration": 7,
    "start_time": "2022-08-26T12:22:15.305Z"
   },
   {
    "duration": 61,
    "start_time": "2022-08-26T12:22:15.314Z"
   },
   {
    "duration": 13,
    "start_time": "2022-08-26T12:22:15.376Z"
   },
   {
    "duration": 40,
    "start_time": "2022-08-26T12:22:15.391Z"
   },
   {
    "duration": 6,
    "start_time": "2022-08-26T12:22:15.433Z"
   },
   {
    "duration": 14,
    "start_time": "2022-08-26T12:22:15.441Z"
   },
   {
    "duration": 8,
    "start_time": "2022-08-26T12:22:15.457Z"
   },
   {
    "duration": 215,
    "start_time": "2022-08-26T12:22:15.467Z"
   },
   {
    "duration": 207,
    "start_time": "2022-08-26T12:22:15.684Z"
   },
   {
    "duration": 13,
    "start_time": "2022-08-26T12:22:15.892Z"
   },
   {
    "duration": 16,
    "start_time": "2022-08-26T12:22:15.907Z"
   },
   {
    "duration": 12,
    "start_time": "2022-08-26T12:22:15.925Z"
   },
   {
    "duration": 159,
    "start_time": "2022-08-26T12:22:15.939Z"
   },
   {
    "duration": 3,
    "start_time": "2022-08-26T12:22:16.103Z"
   },
   {
    "duration": 7,
    "start_time": "2022-08-26T12:22:16.108Z"
   },
   {
    "duration": 11,
    "start_time": "2022-08-26T12:22:16.117Z"
   },
   {
    "duration": 12,
    "start_time": "2022-08-26T12:22:16.130Z"
   },
   {
    "duration": 26,
    "start_time": "2022-08-26T12:22:16.144Z"
   },
   {
    "duration": 17,
    "start_time": "2022-08-26T12:22:16.172Z"
   },
   {
    "duration": 15,
    "start_time": "2022-08-26T12:22:16.191Z"
   },
   {
    "duration": 5,
    "start_time": "2022-08-26T12:22:16.208Z"
   },
   {
    "duration": 10,
    "start_time": "2022-08-26T12:22:16.214Z"
   },
   {
    "duration": 20,
    "start_time": "2022-08-26T12:22:16.226Z"
   },
   {
    "duration": 137,
    "start_time": "2022-08-26T12:22:16.248Z"
   },
   {
    "duration": 19,
    "start_time": "2022-08-26T12:22:16.387Z"
   },
   {
    "duration": 6,
    "start_time": "2022-08-26T12:22:16.408Z"
   },
   {
    "duration": 38,
    "start_time": "2022-08-26T12:22:16.416Z"
   },
   {
    "duration": 13,
    "start_time": "2022-08-26T12:22:16.456Z"
   },
   {
    "duration": 22,
    "start_time": "2022-08-26T12:22:16.471Z"
   },
   {
    "duration": 0,
    "start_time": "2022-08-26T12:22:16.494Z"
   },
   {
    "duration": 0,
    "start_time": "2022-08-26T12:22:16.496Z"
   },
   {
    "duration": 0,
    "start_time": "2022-08-26T12:22:16.497Z"
   },
   {
    "duration": 0,
    "start_time": "2022-08-26T12:22:16.503Z"
   },
   {
    "duration": 0,
    "start_time": "2022-08-26T12:22:16.505Z"
   },
   {
    "duration": 0,
    "start_time": "2022-08-26T12:22:16.507Z"
   },
   {
    "duration": 1,
    "start_time": "2022-08-26T12:22:16.508Z"
   },
   {
    "duration": 0,
    "start_time": "2022-08-26T12:22:16.510Z"
   },
   {
    "duration": 0,
    "start_time": "2022-08-26T12:22:16.511Z"
   },
   {
    "duration": 0,
    "start_time": "2022-08-26T12:22:16.513Z"
   },
   {
    "duration": 0,
    "start_time": "2022-08-26T12:22:16.514Z"
   },
   {
    "duration": 0,
    "start_time": "2022-08-26T12:22:16.516Z"
   },
   {
    "duration": 0,
    "start_time": "2022-08-26T12:22:16.517Z"
   },
   {
    "duration": 0,
    "start_time": "2022-08-26T12:22:16.519Z"
   },
   {
    "duration": 0,
    "start_time": "2022-08-26T12:22:16.520Z"
   },
   {
    "duration": 0,
    "start_time": "2022-08-26T12:22:16.522Z"
   },
   {
    "duration": 0,
    "start_time": "2022-08-26T12:22:16.524Z"
   },
   {
    "duration": 0,
    "start_time": "2022-08-26T12:22:16.525Z"
   },
   {
    "duration": 0,
    "start_time": "2022-08-26T12:22:16.527Z"
   },
   {
    "duration": 0,
    "start_time": "2022-08-26T12:22:16.529Z"
   },
   {
    "duration": 0,
    "start_time": "2022-08-26T12:22:16.530Z"
   },
   {
    "duration": 0,
    "start_time": "2022-08-26T12:22:16.532Z"
   },
   {
    "duration": 0,
    "start_time": "2022-08-26T12:22:16.533Z"
   },
   {
    "duration": 0,
    "start_time": "2022-08-26T12:22:16.535Z"
   },
   {
    "duration": 0,
    "start_time": "2022-08-26T12:22:16.536Z"
   },
   {
    "duration": 0,
    "start_time": "2022-08-26T12:22:16.537Z"
   },
   {
    "duration": 0,
    "start_time": "2022-08-26T12:22:16.538Z"
   },
   {
    "duration": 0,
    "start_time": "2022-08-26T12:22:16.540Z"
   },
   {
    "duration": 0,
    "start_time": "2022-08-26T12:22:16.541Z"
   },
   {
    "duration": 0,
    "start_time": "2022-08-26T12:22:16.542Z"
   },
   {
    "duration": 0,
    "start_time": "2022-08-26T12:22:16.542Z"
   },
   {
    "duration": 0,
    "start_time": "2022-08-26T12:22:16.544Z"
   },
   {
    "duration": 0,
    "start_time": "2022-08-26T12:22:16.604Z"
   },
   {
    "duration": 0,
    "start_time": "2022-08-26T12:22:16.605Z"
   },
   {
    "duration": 0,
    "start_time": "2022-08-26T12:22:16.606Z"
   },
   {
    "duration": 0,
    "start_time": "2022-08-26T12:22:16.608Z"
   },
   {
    "duration": 0,
    "start_time": "2022-08-26T12:22:16.609Z"
   },
   {
    "duration": 0,
    "start_time": "2022-08-26T12:22:16.610Z"
   },
   {
    "duration": 0,
    "start_time": "2022-08-26T12:22:16.611Z"
   },
   {
    "duration": 0,
    "start_time": "2022-08-26T12:22:16.612Z"
   },
   {
    "duration": 0,
    "start_time": "2022-08-26T12:22:16.614Z"
   },
   {
    "duration": 0,
    "start_time": "2022-08-26T12:22:16.614Z"
   },
   {
    "duration": 0,
    "start_time": "2022-08-26T12:22:16.616Z"
   },
   {
    "duration": 0,
    "start_time": "2022-08-26T12:22:16.617Z"
   },
   {
    "duration": 0,
    "start_time": "2022-08-26T12:22:16.618Z"
   },
   {
    "duration": 0,
    "start_time": "2022-08-26T12:22:16.619Z"
   },
   {
    "duration": 0,
    "start_time": "2022-08-26T12:22:16.620Z"
   },
   {
    "duration": 0,
    "start_time": "2022-08-26T12:22:16.621Z"
   },
   {
    "duration": 0,
    "start_time": "2022-08-26T12:22:16.622Z"
   },
   {
    "duration": 0,
    "start_time": "2022-08-26T12:22:16.623Z"
   },
   {
    "duration": 0,
    "start_time": "2022-08-26T12:22:16.625Z"
   },
   {
    "duration": 0,
    "start_time": "2022-08-26T12:22:16.626Z"
   },
   {
    "duration": 0,
    "start_time": "2022-08-26T12:22:16.627Z"
   },
   {
    "duration": 0,
    "start_time": "2022-08-26T12:22:16.628Z"
   },
   {
    "duration": 0,
    "start_time": "2022-08-26T12:22:16.629Z"
   },
   {
    "duration": 0,
    "start_time": "2022-08-26T12:22:16.630Z"
   },
   {
    "duration": 0,
    "start_time": "2022-08-26T12:22:16.631Z"
   },
   {
    "duration": 0,
    "start_time": "2022-08-26T12:22:16.632Z"
   },
   {
    "duration": 8,
    "start_time": "2022-08-26T12:23:07.225Z"
   },
   {
    "duration": 68,
    "start_time": "2022-08-26T12:23:07.235Z"
   },
   {
    "duration": 13,
    "start_time": "2022-08-26T12:23:07.306Z"
   },
   {
    "duration": 50,
    "start_time": "2022-08-26T12:23:07.321Z"
   },
   {
    "duration": 6,
    "start_time": "2022-08-26T12:23:07.373Z"
   },
   {
    "duration": 8,
    "start_time": "2022-08-26T12:23:07.403Z"
   },
   {
    "duration": 23,
    "start_time": "2022-08-26T12:23:07.413Z"
   },
   {
    "duration": 223,
    "start_time": "2022-08-26T12:23:07.438Z"
   },
   {
    "duration": 201,
    "start_time": "2022-08-26T12:23:07.663Z"
   },
   {
    "duration": 5,
    "start_time": "2022-08-26T12:23:07.866Z"
   },
   {
    "duration": 8,
    "start_time": "2022-08-26T12:23:07.874Z"
   },
   {
    "duration": 23,
    "start_time": "2022-08-26T12:23:07.884Z"
   },
   {
    "duration": 150,
    "start_time": "2022-08-26T12:23:07.909Z"
   },
   {
    "duration": 2,
    "start_time": "2022-08-26T12:23:08.061Z"
   },
   {
    "duration": 6,
    "start_time": "2022-08-26T12:23:08.065Z"
   },
   {
    "duration": 5,
    "start_time": "2022-08-26T12:23:08.073Z"
   },
   {
    "duration": 7,
    "start_time": "2022-08-26T12:23:08.080Z"
   },
   {
    "duration": 35,
    "start_time": "2022-08-26T12:23:08.089Z"
   },
   {
    "duration": 5,
    "start_time": "2022-08-26T12:23:08.126Z"
   },
   {
    "duration": 60,
    "start_time": "2022-08-26T12:23:08.133Z"
   },
   {
    "duration": 0,
    "start_time": "2022-08-26T12:23:08.196Z"
   },
   {
    "duration": 0,
    "start_time": "2022-08-26T12:23:08.199Z"
   },
   {
    "duration": 0,
    "start_time": "2022-08-26T12:23:08.200Z"
   },
   {
    "duration": 0,
    "start_time": "2022-08-26T12:23:08.201Z"
   },
   {
    "duration": 0,
    "start_time": "2022-08-26T12:23:08.203Z"
   },
   {
    "duration": 0,
    "start_time": "2022-08-26T12:23:08.203Z"
   },
   {
    "duration": 0,
    "start_time": "2022-08-26T12:23:08.204Z"
   },
   {
    "duration": 0,
    "start_time": "2022-08-26T12:23:08.205Z"
   },
   {
    "duration": 0,
    "start_time": "2022-08-26T12:23:08.206Z"
   },
   {
    "duration": 0,
    "start_time": "2022-08-26T12:23:08.207Z"
   },
   {
    "duration": 0,
    "start_time": "2022-08-26T12:23:08.208Z"
   },
   {
    "duration": 0,
    "start_time": "2022-08-26T12:23:08.209Z"
   },
   {
    "duration": 0,
    "start_time": "2022-08-26T12:23:08.210Z"
   },
   {
    "duration": 0,
    "start_time": "2022-08-26T12:23:08.211Z"
   },
   {
    "duration": 0,
    "start_time": "2022-08-26T12:23:08.212Z"
   },
   {
    "duration": 0,
    "start_time": "2022-08-26T12:23:08.213Z"
   },
   {
    "duration": 0,
    "start_time": "2022-08-26T12:23:08.214Z"
   },
   {
    "duration": 0,
    "start_time": "2022-08-26T12:23:08.215Z"
   },
   {
    "duration": 0,
    "start_time": "2022-08-26T12:23:08.216Z"
   },
   {
    "duration": 0,
    "start_time": "2022-08-26T12:23:08.217Z"
   },
   {
    "duration": 0,
    "start_time": "2022-08-26T12:23:08.218Z"
   },
   {
    "duration": 0,
    "start_time": "2022-08-26T12:23:08.220Z"
   },
   {
    "duration": 0,
    "start_time": "2022-08-26T12:23:08.221Z"
   },
   {
    "duration": 0,
    "start_time": "2022-08-26T12:23:08.223Z"
   },
   {
    "duration": 0,
    "start_time": "2022-08-26T12:23:08.223Z"
   },
   {
    "duration": 0,
    "start_time": "2022-08-26T12:23:08.225Z"
   },
   {
    "duration": 0,
    "start_time": "2022-08-26T12:23:08.226Z"
   },
   {
    "duration": 0,
    "start_time": "2022-08-26T12:23:08.227Z"
   },
   {
    "duration": 0,
    "start_time": "2022-08-26T12:23:08.228Z"
   },
   {
    "duration": 0,
    "start_time": "2022-08-26T12:23:08.229Z"
   },
   {
    "duration": 0,
    "start_time": "2022-08-26T12:23:08.230Z"
   },
   {
    "duration": 0,
    "start_time": "2022-08-26T12:23:08.231Z"
   },
   {
    "duration": 0,
    "start_time": "2022-08-26T12:23:08.232Z"
   },
   {
    "duration": 0,
    "start_time": "2022-08-26T12:23:08.233Z"
   },
   {
    "duration": 0,
    "start_time": "2022-08-26T12:23:08.234Z"
   },
   {
    "duration": 0,
    "start_time": "2022-08-26T12:23:08.235Z"
   },
   {
    "duration": 0,
    "start_time": "2022-08-26T12:23:08.236Z"
   },
   {
    "duration": 0,
    "start_time": "2022-08-26T12:23:08.238Z"
   },
   {
    "duration": 0,
    "start_time": "2022-08-26T12:23:08.239Z"
   },
   {
    "duration": 0,
    "start_time": "2022-08-26T12:23:08.240Z"
   },
   {
    "duration": 0,
    "start_time": "2022-08-26T12:23:08.241Z"
   },
   {
    "duration": 0,
    "start_time": "2022-08-26T12:23:08.242Z"
   },
   {
    "duration": 0,
    "start_time": "2022-08-26T12:23:08.243Z"
   },
   {
    "duration": 0,
    "start_time": "2022-08-26T12:23:08.302Z"
   },
   {
    "duration": 0,
    "start_time": "2022-08-26T12:23:08.304Z"
   },
   {
    "duration": 0,
    "start_time": "2022-08-26T12:23:08.305Z"
   },
   {
    "duration": 0,
    "start_time": "2022-08-26T12:23:08.306Z"
   },
   {
    "duration": 0,
    "start_time": "2022-08-26T12:23:08.307Z"
   },
   {
    "duration": 0,
    "start_time": "2022-08-26T12:23:08.308Z"
   },
   {
    "duration": 0,
    "start_time": "2022-08-26T12:23:08.309Z"
   },
   {
    "duration": 0,
    "start_time": "2022-08-26T12:23:08.310Z"
   },
   {
    "duration": 0,
    "start_time": "2022-08-26T12:23:08.311Z"
   },
   {
    "duration": 0,
    "start_time": "2022-08-26T12:23:08.312Z"
   },
   {
    "duration": 0,
    "start_time": "2022-08-26T12:23:08.313Z"
   },
   {
    "duration": 0,
    "start_time": "2022-08-26T12:23:08.314Z"
   },
   {
    "duration": 0,
    "start_time": "2022-08-26T12:23:08.315Z"
   },
   {
    "duration": 0,
    "start_time": "2022-08-26T12:23:08.316Z"
   },
   {
    "duration": 0,
    "start_time": "2022-08-26T12:23:08.317Z"
   },
   {
    "duration": 1,
    "start_time": "2022-08-26T12:23:08.318Z"
   },
   {
    "duration": 0,
    "start_time": "2022-08-26T12:23:08.320Z"
   },
   {
    "duration": 0,
    "start_time": "2022-08-26T12:23:08.321Z"
   },
   {
    "duration": 0,
    "start_time": "2022-08-26T12:23:08.322Z"
   },
   {
    "duration": 0,
    "start_time": "2022-08-26T12:23:08.322Z"
   },
   {
    "duration": 0,
    "start_time": "2022-08-26T12:23:08.324Z"
   },
   {
    "duration": 1,
    "start_time": "2022-08-26T12:23:08.324Z"
   },
   {
    "duration": 0,
    "start_time": "2022-08-26T12:23:08.325Z"
   },
   {
    "duration": 0,
    "start_time": "2022-08-26T12:23:08.326Z"
   },
   {
    "duration": 231,
    "start_time": "2022-08-26T12:23:33.921Z"
   },
   {
    "duration": 10,
    "start_time": "2022-08-26T12:23:43.077Z"
   },
   {
    "duration": 7,
    "start_time": "2022-08-26T12:24:43.273Z"
   },
   {
    "duration": 54,
    "start_time": "2022-08-26T12:24:43.282Z"
   },
   {
    "duration": 12,
    "start_time": "2022-08-26T12:24:43.338Z"
   },
   {
    "duration": 66,
    "start_time": "2022-08-26T12:24:43.353Z"
   },
   {
    "duration": 7,
    "start_time": "2022-08-26T12:24:43.420Z"
   },
   {
    "duration": 10,
    "start_time": "2022-08-26T12:24:43.428Z"
   },
   {
    "duration": 7,
    "start_time": "2022-08-26T12:24:43.439Z"
   },
   {
    "duration": 220,
    "start_time": "2022-08-26T12:24:43.447Z"
   },
   {
    "duration": 379,
    "start_time": "2022-08-26T12:24:43.669Z"
   },
   {
    "duration": 6,
    "start_time": "2022-08-26T12:24:44.051Z"
   },
   {
    "duration": 16,
    "start_time": "2022-08-26T12:24:44.059Z"
   },
   {
    "duration": 19,
    "start_time": "2022-08-26T12:24:44.077Z"
   },
   {
    "duration": 145,
    "start_time": "2022-08-26T12:24:44.098Z"
   },
   {
    "duration": 3,
    "start_time": "2022-08-26T12:24:44.245Z"
   },
   {
    "duration": 12,
    "start_time": "2022-08-26T12:24:44.250Z"
   },
   {
    "duration": 12,
    "start_time": "2022-08-26T12:24:44.263Z"
   },
   {
    "duration": 8,
    "start_time": "2022-08-26T12:24:44.276Z"
   },
   {
    "duration": 27,
    "start_time": "2022-08-26T12:24:44.286Z"
   },
   {
    "duration": 8,
    "start_time": "2022-08-26T12:24:44.315Z"
   },
   {
    "duration": 11,
    "start_time": "2022-08-26T12:24:44.325Z"
   },
   {
    "duration": 4,
    "start_time": "2022-08-26T12:24:44.338Z"
   },
   {
    "duration": 21,
    "start_time": "2022-08-26T12:24:44.343Z"
   },
   {
    "duration": 8,
    "start_time": "2022-08-26T12:24:44.366Z"
   },
   {
    "duration": 151,
    "start_time": "2022-08-26T12:24:44.375Z"
   },
   {
    "duration": 8,
    "start_time": "2022-08-26T12:24:44.528Z"
   },
   {
    "duration": 8,
    "start_time": "2022-08-26T12:24:44.537Z"
   },
   {
    "duration": 13,
    "start_time": "2022-08-26T12:24:44.547Z"
   },
   {
    "duration": 4,
    "start_time": "2022-08-26T12:24:44.565Z"
   },
   {
    "duration": 46,
    "start_time": "2022-08-26T12:24:44.570Z"
   },
   {
    "duration": 0,
    "start_time": "2022-08-26T12:24:44.618Z"
   },
   {
    "duration": 0,
    "start_time": "2022-08-26T12:24:44.619Z"
   },
   {
    "duration": 0,
    "start_time": "2022-08-26T12:24:44.620Z"
   },
   {
    "duration": 0,
    "start_time": "2022-08-26T12:24:44.621Z"
   },
   {
    "duration": 0,
    "start_time": "2022-08-26T12:24:44.622Z"
   },
   {
    "duration": 0,
    "start_time": "2022-08-26T12:24:44.623Z"
   },
   {
    "duration": 0,
    "start_time": "2022-08-26T12:24:44.624Z"
   },
   {
    "duration": 0,
    "start_time": "2022-08-26T12:24:44.625Z"
   },
   {
    "duration": 0,
    "start_time": "2022-08-26T12:24:44.626Z"
   },
   {
    "duration": 0,
    "start_time": "2022-08-26T12:24:44.627Z"
   },
   {
    "duration": 0,
    "start_time": "2022-08-26T12:24:44.627Z"
   },
   {
    "duration": 0,
    "start_time": "2022-08-26T12:24:44.628Z"
   },
   {
    "duration": 0,
    "start_time": "2022-08-26T12:24:44.629Z"
   },
   {
    "duration": 0,
    "start_time": "2022-08-26T12:24:44.630Z"
   },
   {
    "duration": 0,
    "start_time": "2022-08-26T12:24:44.632Z"
   },
   {
    "duration": 0,
    "start_time": "2022-08-26T12:24:44.632Z"
   },
   {
    "duration": 0,
    "start_time": "2022-08-26T12:24:44.634Z"
   },
   {
    "duration": 0,
    "start_time": "2022-08-26T12:24:44.635Z"
   },
   {
    "duration": 0,
    "start_time": "2022-08-26T12:24:44.636Z"
   },
   {
    "duration": 0,
    "start_time": "2022-08-26T12:24:44.637Z"
   },
   {
    "duration": 0,
    "start_time": "2022-08-26T12:24:44.638Z"
   },
   {
    "duration": 0,
    "start_time": "2022-08-26T12:24:44.639Z"
   },
   {
    "duration": 0,
    "start_time": "2022-08-26T12:24:44.640Z"
   },
   {
    "duration": 0,
    "start_time": "2022-08-26T12:24:44.641Z"
   },
   {
    "duration": 0,
    "start_time": "2022-08-26T12:24:44.642Z"
   },
   {
    "duration": 0,
    "start_time": "2022-08-26T12:24:44.643Z"
   },
   {
    "duration": 0,
    "start_time": "2022-08-26T12:24:44.643Z"
   },
   {
    "duration": 0,
    "start_time": "2022-08-26T12:24:44.645Z"
   },
   {
    "duration": 0,
    "start_time": "2022-08-26T12:24:44.646Z"
   },
   {
    "duration": 0,
    "start_time": "2022-08-26T12:24:44.647Z"
   },
   {
    "duration": 0,
    "start_time": "2022-08-26T12:24:44.648Z"
   },
   {
    "duration": 0,
    "start_time": "2022-08-26T12:24:44.649Z"
   },
   {
    "duration": 0,
    "start_time": "2022-08-26T12:24:44.650Z"
   },
   {
    "duration": 0,
    "start_time": "2022-08-26T12:24:44.651Z"
   },
   {
    "duration": 0,
    "start_time": "2022-08-26T12:24:44.703Z"
   },
   {
    "duration": 0,
    "start_time": "2022-08-26T12:24:44.704Z"
   },
   {
    "duration": 0,
    "start_time": "2022-08-26T12:24:44.705Z"
   },
   {
    "duration": 0,
    "start_time": "2022-08-26T12:24:44.706Z"
   },
   {
    "duration": 0,
    "start_time": "2022-08-26T12:24:44.707Z"
   },
   {
    "duration": 0,
    "start_time": "2022-08-26T12:24:44.708Z"
   },
   {
    "duration": 0,
    "start_time": "2022-08-26T12:24:44.709Z"
   },
   {
    "duration": 0,
    "start_time": "2022-08-26T12:24:44.710Z"
   },
   {
    "duration": 0,
    "start_time": "2022-08-26T12:24:44.711Z"
   },
   {
    "duration": 0,
    "start_time": "2022-08-26T12:24:44.712Z"
   },
   {
    "duration": 0,
    "start_time": "2022-08-26T12:24:44.713Z"
   },
   {
    "duration": 0,
    "start_time": "2022-08-26T12:24:44.715Z"
   },
   {
    "duration": 0,
    "start_time": "2022-08-26T12:24:44.716Z"
   },
   {
    "duration": 0,
    "start_time": "2022-08-26T12:24:44.717Z"
   },
   {
    "duration": 0,
    "start_time": "2022-08-26T12:24:44.718Z"
   },
   {
    "duration": 0,
    "start_time": "2022-08-26T12:24:44.718Z"
   },
   {
    "duration": 0,
    "start_time": "2022-08-26T12:24:44.720Z"
   },
   {
    "duration": 0,
    "start_time": "2022-08-26T12:24:44.721Z"
   },
   {
    "duration": 0,
    "start_time": "2022-08-26T12:24:44.722Z"
   },
   {
    "duration": 0,
    "start_time": "2022-08-26T12:24:44.723Z"
   },
   {
    "duration": 0,
    "start_time": "2022-08-26T12:24:44.724Z"
   },
   {
    "duration": 0,
    "start_time": "2022-08-26T12:24:44.726Z"
   },
   {
    "duration": 0,
    "start_time": "2022-08-26T12:24:44.727Z"
   },
   {
    "duration": 0,
    "start_time": "2022-08-26T12:24:44.728Z"
   },
   {
    "duration": 9,
    "start_time": "2022-08-26T12:26:04.682Z"
   },
   {
    "duration": 55,
    "start_time": "2022-08-26T12:26:04.694Z"
   },
   {
    "duration": 13,
    "start_time": "2022-08-26T12:26:04.751Z"
   },
   {
    "duration": 55,
    "start_time": "2022-08-26T12:26:04.767Z"
   },
   {
    "duration": 7,
    "start_time": "2022-08-26T12:26:04.824Z"
   },
   {
    "duration": 12,
    "start_time": "2022-08-26T12:26:04.833Z"
   },
   {
    "duration": 23,
    "start_time": "2022-08-26T12:26:04.847Z"
   },
   {
    "duration": 239,
    "start_time": "2022-08-26T12:26:04.872Z"
   },
   {
    "duration": 230,
    "start_time": "2022-08-26T12:26:05.114Z"
   },
   {
    "duration": 6,
    "start_time": "2022-08-26T12:26:05.348Z"
   },
   {
    "duration": 22,
    "start_time": "2022-08-26T12:26:05.355Z"
   },
   {
    "duration": 13,
    "start_time": "2022-08-26T12:26:05.379Z"
   },
   {
    "duration": 153,
    "start_time": "2022-08-26T12:26:05.403Z"
   },
   {
    "duration": 2,
    "start_time": "2022-08-26T12:26:05.558Z"
   },
   {
    "duration": 6,
    "start_time": "2022-08-26T12:26:05.562Z"
   },
   {
    "duration": 7,
    "start_time": "2022-08-26T12:26:05.570Z"
   },
   {
    "duration": 8,
    "start_time": "2022-08-26T12:26:05.579Z"
   },
   {
    "duration": 35,
    "start_time": "2022-08-26T12:26:05.589Z"
   },
   {
    "duration": 11,
    "start_time": "2022-08-26T12:26:05.626Z"
   },
   {
    "duration": 13,
    "start_time": "2022-08-26T12:26:05.639Z"
   },
   {
    "duration": 9,
    "start_time": "2022-08-26T12:26:05.654Z"
   },
   {
    "duration": 23,
    "start_time": "2022-08-26T12:26:05.666Z"
   },
   {
    "duration": 6,
    "start_time": "2022-08-26T12:26:05.703Z"
   },
   {
    "duration": 156,
    "start_time": "2022-08-26T12:26:05.711Z"
   },
   {
    "duration": 10,
    "start_time": "2022-08-26T12:26:05.870Z"
   },
   {
    "duration": 21,
    "start_time": "2022-08-26T12:26:05.883Z"
   },
   {
    "duration": 14,
    "start_time": "2022-08-26T12:26:05.906Z"
   },
   {
    "duration": 5,
    "start_time": "2022-08-26T12:26:05.925Z"
   },
   {
    "duration": 74,
    "start_time": "2022-08-26T12:26:05.932Z"
   },
   {
    "duration": 16,
    "start_time": "2022-08-26T12:26:06.008Z"
   },
   {
    "duration": 13,
    "start_time": "2022-08-26T12:26:06.027Z"
   },
   {
    "duration": 13,
    "start_time": "2022-08-26T12:26:06.042Z"
   },
   {
    "duration": 11,
    "start_time": "2022-08-26T12:26:06.057Z"
   },
   {
    "duration": 48,
    "start_time": "2022-08-26T12:26:06.070Z"
   },
   {
    "duration": 87,
    "start_time": "2022-08-26T12:26:06.121Z"
   },
   {
    "duration": 998,
    "start_time": "2022-08-26T12:26:06.209Z"
   },
   {
    "duration": 7,
    "start_time": "2022-08-26T12:26:07.209Z"
   },
   {
    "duration": 51,
    "start_time": "2022-08-26T12:26:07.218Z"
   },
   {
    "duration": 157,
    "start_time": "2022-08-26T12:26:07.271Z"
   },
   {
    "duration": 148,
    "start_time": "2022-08-26T12:26:07.429Z"
   },
   {
    "duration": 8,
    "start_time": "2022-08-26T12:26:07.578Z"
   },
   {
    "duration": 23826,
    "start_time": "2022-08-26T12:26:07.588Z"
   },
   {
    "duration": 18,
    "start_time": "2022-08-26T12:26:31.416Z"
   },
   {
    "duration": 13,
    "start_time": "2022-08-26T12:26:31.436Z"
   },
   {
    "duration": 173,
    "start_time": "2022-08-26T12:26:31.451Z"
   },
   {
    "duration": 138,
    "start_time": "2022-08-26T12:26:31.626Z"
   },
   {
    "duration": 8,
    "start_time": "2022-08-26T12:26:31.765Z"
   },
   {
    "duration": 25290,
    "start_time": "2022-08-26T12:26:31.774Z"
   },
   {
    "duration": 17,
    "start_time": "2022-08-26T12:26:57.066Z"
   },
   {
    "duration": 30,
    "start_time": "2022-08-26T12:26:57.085Z"
   },
   {
    "duration": 142,
    "start_time": "2022-08-26T12:26:57.116Z"
   },
   {
    "duration": 146,
    "start_time": "2022-08-26T12:26:57.260Z"
   },
   {
    "duration": 7,
    "start_time": "2022-08-26T12:26:57.408Z"
   },
   {
    "duration": 6,
    "start_time": "2022-08-26T12:26:57.417Z"
   },
   {
    "duration": 15,
    "start_time": "2022-08-26T12:26:57.425Z"
   },
   {
    "duration": 28,
    "start_time": "2022-08-26T12:26:57.441Z"
   },
   {
    "duration": 9,
    "start_time": "2022-08-26T12:26:57.471Z"
   },
   {
    "duration": 28,
    "start_time": "2022-08-26T12:26:57.481Z"
   },
   {
    "duration": 6,
    "start_time": "2022-08-26T12:26:57.511Z"
   },
   {
    "duration": 16,
    "start_time": "2022-08-26T12:26:57.519Z"
   },
   {
    "duration": 33160,
    "start_time": "2022-08-26T12:26:57.537Z"
   },
   {
    "duration": 13,
    "start_time": "2022-08-26T12:27:30.703Z"
   },
   {
    "duration": 73,
    "start_time": "2022-08-26T12:27:30.718Z"
   },
   {
    "duration": 162,
    "start_time": "2022-08-26T12:27:30.793Z"
   },
   {
    "duration": 132,
    "start_time": "2022-08-26T12:27:30.957Z"
   },
   {
    "duration": 13,
    "start_time": "2022-08-26T12:27:31.091Z"
   },
   {
    "duration": 5,
    "start_time": "2022-08-26T12:27:31.105Z"
   },
   {
    "duration": 13,
    "start_time": "2022-08-26T12:27:31.112Z"
   },
   {
    "duration": 11,
    "start_time": "2022-08-26T12:27:31.126Z"
   },
   {
    "duration": 14,
    "start_time": "2022-08-26T12:27:31.139Z"
   },
   {
    "duration": 14430,
    "start_time": "2022-08-26T12:27:31.155Z"
   },
   {
    "duration": 24,
    "start_time": "2022-08-26T12:27:45.586Z"
   },
   {
    "duration": 10,
    "start_time": "2022-08-26T12:27:45.612Z"
   },
   {
    "duration": 140,
    "start_time": "2022-08-26T12:27:45.624Z"
   },
   {
    "duration": 127,
    "start_time": "2022-08-26T12:27:45.766Z"
   },
   {
    "duration": 11,
    "start_time": "2022-08-26T12:27:45.896Z"
   },
   {
    "duration": 8,
    "start_time": "2022-08-26T12:27:45.909Z"
   },
   {
    "duration": 8,
    "start_time": "2022-08-26T12:27:45.920Z"
   },
   {
    "duration": 192,
    "start_time": "2022-08-26T12:27:45.930Z"
   },
   {
    "duration": 5,
    "start_time": "2022-08-26T12:27:46.124Z"
   },
   {
    "duration": 20,
    "start_time": "2022-08-26T12:27:46.131Z"
   },
   {
    "duration": 6,
    "start_time": "2022-08-26T12:27:46.157Z"
   },
   {
    "duration": 15,
    "start_time": "2022-08-26T12:27:46.164Z"
   },
   {
    "duration": 143,
    "start_time": "2022-08-26T12:27:46.202Z"
   },
   {
    "duration": 142,
    "start_time": "2022-08-26T12:27:46.346Z"
   },
   {
    "duration": 14,
    "start_time": "2022-08-26T12:27:46.490Z"
   },
   {
    "duration": 182,
    "start_time": "2022-08-26T12:27:46.506Z"
   },
   {
    "duration": 52,
    "start_time": "2022-08-26T14:58:00.775Z"
   },
   {
    "duration": 1576,
    "start_time": "2022-08-26T14:58:12.831Z"
   },
   {
    "duration": 100,
    "start_time": "2022-08-26T14:58:14.409Z"
   },
   {
    "duration": 16,
    "start_time": "2022-08-26T14:58:14.511Z"
   },
   {
    "duration": 41,
    "start_time": "2022-08-26T14:58:14.529Z"
   },
   {
    "duration": 7,
    "start_time": "2022-08-26T14:58:14.572Z"
   },
   {
    "duration": 29,
    "start_time": "2022-08-26T14:58:14.580Z"
   },
   {
    "duration": 10,
    "start_time": "2022-08-26T14:58:14.611Z"
   },
   {
    "duration": 253,
    "start_time": "2022-08-26T14:58:14.623Z"
   },
   {
    "duration": 192,
    "start_time": "2022-08-26T14:58:14.878Z"
   },
   {
    "duration": 6,
    "start_time": "2022-08-26T14:58:15.073Z"
   },
   {
    "duration": 34,
    "start_time": "2022-08-26T14:58:15.080Z"
   },
   {
    "duration": 22,
    "start_time": "2022-08-26T14:58:15.116Z"
   },
   {
    "duration": 148,
    "start_time": "2022-08-26T14:58:15.141Z"
   },
   {
    "duration": 3,
    "start_time": "2022-08-26T14:58:15.291Z"
   },
   {
    "duration": 8,
    "start_time": "2022-08-26T14:58:15.296Z"
   },
   {
    "duration": 6,
    "start_time": "2022-08-26T14:58:15.305Z"
   },
   {
    "duration": 9,
    "start_time": "2022-08-26T14:58:15.313Z"
   },
   {
    "duration": 43,
    "start_time": "2022-08-26T14:58:15.323Z"
   },
   {
    "duration": 15,
    "start_time": "2022-08-26T14:58:15.369Z"
   },
   {
    "duration": 10,
    "start_time": "2022-08-26T14:58:15.402Z"
   },
   {
    "duration": 7,
    "start_time": "2022-08-26T14:58:15.414Z"
   },
   {
    "duration": 23,
    "start_time": "2022-08-26T14:58:15.423Z"
   },
   {
    "duration": 7,
    "start_time": "2022-08-26T14:58:15.448Z"
   },
   {
    "duration": 16,
    "start_time": "2022-08-26T14:58:15.457Z"
   },
   {
    "duration": 263,
    "start_time": "2022-08-26T14:58:15.475Z"
   },
   {
    "duration": 9,
    "start_time": "2022-08-26T14:58:15.739Z"
   },
   {
    "duration": 12,
    "start_time": "2022-08-26T14:58:15.749Z"
   },
   {
    "duration": 37,
    "start_time": "2022-08-26T14:58:15.768Z"
   },
   {
    "duration": 12,
    "start_time": "2022-08-26T14:58:15.806Z"
   },
   {
    "duration": 51,
    "start_time": "2022-08-26T14:58:15.820Z"
   },
   {
    "duration": 16,
    "start_time": "2022-08-26T14:58:15.873Z"
   },
   {
    "duration": 14,
    "start_time": "2022-08-26T14:58:15.890Z"
   },
   {
    "duration": 13,
    "start_time": "2022-08-26T14:58:15.906Z"
   },
   {
    "duration": 8,
    "start_time": "2022-08-26T14:58:15.920Z"
   },
   {
    "duration": 76,
    "start_time": "2022-08-26T14:58:15.930Z"
   },
   {
    "duration": 95,
    "start_time": "2022-08-26T14:58:16.008Z"
   },
   {
    "duration": 901,
    "start_time": "2022-08-26T14:58:16.106Z"
   },
   {
    "duration": 7,
    "start_time": "2022-08-26T14:58:17.009Z"
   },
   {
    "duration": 4,
    "start_time": "2022-08-26T14:58:17.017Z"
   },
   {
    "duration": 156,
    "start_time": "2022-08-26T14:58:17.023Z"
   },
   {
    "duration": 131,
    "start_time": "2022-08-26T14:58:17.181Z"
   },
   {
    "duration": 6,
    "start_time": "2022-08-26T14:58:17.314Z"
   },
   {
    "duration": 25898,
    "start_time": "2022-08-26T14:58:17.322Z"
   },
   {
    "duration": 14,
    "start_time": "2022-08-26T14:58:43.222Z"
   },
   {
    "duration": 10,
    "start_time": "2022-08-26T14:58:43.238Z"
   },
   {
    "duration": 157,
    "start_time": "2022-08-26T14:58:43.250Z"
   },
   {
    "duration": 135,
    "start_time": "2022-08-26T14:58:43.409Z"
   },
   {
    "duration": 7,
    "start_time": "2022-08-26T14:58:43.546Z"
   },
   {
    "duration": 24646,
    "start_time": "2022-08-26T14:58:43.554Z"
   },
   {
    "duration": 25,
    "start_time": "2022-08-26T14:59:08.203Z"
   },
   {
    "duration": 18,
    "start_time": "2022-08-26T14:59:08.231Z"
   },
   {
    "duration": 191,
    "start_time": "2022-08-26T14:59:08.251Z"
   },
   {
    "duration": 150,
    "start_time": "2022-08-26T14:59:08.445Z"
   },
   {
    "duration": 9,
    "start_time": "2022-08-26T14:59:08.602Z"
   },
   {
    "duration": 4,
    "start_time": "2022-08-26T14:59:08.614Z"
   },
   {
    "duration": 9,
    "start_time": "2022-08-26T14:59:08.620Z"
   },
   {
    "duration": 35,
    "start_time": "2022-08-26T14:59:08.630Z"
   },
   {
    "duration": 15,
    "start_time": "2022-08-26T14:59:08.666Z"
   },
   {
    "duration": 27,
    "start_time": "2022-08-26T14:59:08.683Z"
   },
   {
    "duration": 17,
    "start_time": "2022-08-26T14:59:08.713Z"
   },
   {
    "duration": 11,
    "start_time": "2022-08-26T14:59:08.733Z"
   },
   {
    "duration": 34632,
    "start_time": "2022-08-26T14:59:08.746Z"
   },
   {
    "duration": 24,
    "start_time": "2022-08-26T14:59:43.380Z"
   },
   {
    "duration": 9,
    "start_time": "2022-08-26T14:59:43.406Z"
   },
   {
    "duration": 146,
    "start_time": "2022-08-26T14:59:43.417Z"
   },
   {
    "duration": 143,
    "start_time": "2022-08-26T14:59:43.565Z"
   },
   {
    "duration": 6,
    "start_time": "2022-08-26T14:59:43.710Z"
   },
   {
    "duration": 4,
    "start_time": "2022-08-26T14:59:43.718Z"
   },
   {
    "duration": 14,
    "start_time": "2022-08-26T14:59:43.724Z"
   },
   {
    "duration": 6,
    "start_time": "2022-08-26T14:59:43.740Z"
   },
   {
    "duration": 8,
    "start_time": "2022-08-26T14:59:43.748Z"
   },
   {
    "duration": 14613,
    "start_time": "2022-08-26T14:59:43.757Z"
   },
   {
    "duration": 15,
    "start_time": "2022-08-26T14:59:58.372Z"
   },
   {
    "duration": 26,
    "start_time": "2022-08-26T14:59:58.388Z"
   },
   {
    "duration": 149,
    "start_time": "2022-08-26T14:59:58.416Z"
   },
   {
    "duration": 138,
    "start_time": "2022-08-26T14:59:58.567Z"
   },
   {
    "duration": 7,
    "start_time": "2022-08-26T14:59:58.707Z"
   },
   {
    "duration": 6,
    "start_time": "2022-08-26T14:59:58.716Z"
   },
   {
    "duration": 7,
    "start_time": "2022-08-26T14:59:58.724Z"
   },
   {
    "duration": 208,
    "start_time": "2022-08-26T14:59:58.733Z"
   },
   {
    "duration": 6,
    "start_time": "2022-08-26T14:59:58.944Z"
   },
   {
    "duration": 32,
    "start_time": "2022-08-26T14:59:58.957Z"
   },
   {
    "duration": 15,
    "start_time": "2022-08-26T14:59:58.991Z"
   },
   {
    "duration": 22,
    "start_time": "2022-08-26T14:59:59.008Z"
   },
   {
    "duration": 163,
    "start_time": "2022-08-26T14:59:59.033Z"
   },
   {
    "duration": 231,
    "start_time": "2022-08-26T14:59:59.199Z"
   },
   {
    "duration": 6,
    "start_time": "2022-08-26T14:59:59.432Z"
   },
   {
    "duration": 170,
    "start_time": "2022-08-26T14:59:59.440Z"
   },
   {
    "duration": 84,
    "start_time": "2022-08-26T15:14:15.977Z"
   },
   {
    "duration": 0,
    "start_time": "2022-08-26T15:14:16.065Z"
   },
   {
    "duration": 0,
    "start_time": "2022-08-26T15:14:16.066Z"
   },
   {
    "duration": 0,
    "start_time": "2022-08-26T15:14:16.067Z"
   },
   {
    "duration": 0,
    "start_time": "2022-08-26T15:14:16.069Z"
   },
   {
    "duration": 0,
    "start_time": "2022-08-26T15:14:16.070Z"
   },
   {
    "duration": 0,
    "start_time": "2022-08-26T15:14:16.071Z"
   },
   {
    "duration": 0,
    "start_time": "2022-08-26T15:14:16.072Z"
   },
   {
    "duration": 0,
    "start_time": "2022-08-26T15:14:16.073Z"
   },
   {
    "duration": 0,
    "start_time": "2022-08-26T15:14:16.074Z"
   },
   {
    "duration": 0,
    "start_time": "2022-08-26T15:14:16.102Z"
   },
   {
    "duration": 0,
    "start_time": "2022-08-26T15:14:16.104Z"
   },
   {
    "duration": 0,
    "start_time": "2022-08-26T15:14:16.105Z"
   },
   {
    "duration": 0,
    "start_time": "2022-08-26T15:14:16.106Z"
   },
   {
    "duration": 0,
    "start_time": "2022-08-26T15:14:16.107Z"
   },
   {
    "duration": 0,
    "start_time": "2022-08-26T15:14:16.108Z"
   },
   {
    "duration": 0,
    "start_time": "2022-08-26T15:14:16.110Z"
   },
   {
    "duration": 0,
    "start_time": "2022-08-26T15:14:16.110Z"
   },
   {
    "duration": 0,
    "start_time": "2022-08-26T15:14:16.111Z"
   },
   {
    "duration": 0,
    "start_time": "2022-08-26T15:14:16.113Z"
   },
   {
    "duration": 0,
    "start_time": "2022-08-26T15:14:16.114Z"
   },
   {
    "duration": 0,
    "start_time": "2022-08-26T15:14:16.115Z"
   },
   {
    "duration": 0,
    "start_time": "2022-08-26T15:14:16.116Z"
   },
   {
    "duration": 0,
    "start_time": "2022-08-26T15:14:16.118Z"
   },
   {
    "duration": 0,
    "start_time": "2022-08-26T15:14:16.119Z"
   },
   {
    "duration": 0,
    "start_time": "2022-08-26T15:14:16.120Z"
   },
   {
    "duration": 0,
    "start_time": "2022-08-26T15:14:16.121Z"
   },
   {
    "duration": 0,
    "start_time": "2022-08-26T15:14:16.122Z"
   },
   {
    "duration": 0,
    "start_time": "2022-08-26T15:14:16.123Z"
   },
   {
    "duration": 0,
    "start_time": "2022-08-26T15:14:16.124Z"
   },
   {
    "duration": 0,
    "start_time": "2022-08-26T15:14:16.126Z"
   },
   {
    "duration": 8,
    "start_time": "2022-08-26T15:14:16.132Z"
   },
   {
    "duration": 16,
    "start_time": "2022-08-26T15:14:16.204Z"
   },
   {
    "duration": 87,
    "start_time": "2022-08-26T15:14:16.222Z"
   },
   {
    "duration": 986,
    "start_time": "2022-08-26T15:14:16.312Z"
   },
   {
    "duration": 8,
    "start_time": "2022-08-26T15:14:17.303Z"
   },
   {
    "duration": 5,
    "start_time": "2022-08-26T15:14:17.313Z"
   },
   {
    "duration": 153,
    "start_time": "2022-08-26T15:14:17.320Z"
   },
   {
    "duration": 147,
    "start_time": "2022-08-26T15:14:17.475Z"
   },
   {
    "duration": 8,
    "start_time": "2022-08-26T15:14:17.624Z"
   },
   {
    "duration": 24503,
    "start_time": "2022-08-26T15:14:17.633Z"
   },
   {
    "duration": 13,
    "start_time": "2022-08-26T15:14:42.138Z"
   },
   {
    "duration": 10,
    "start_time": "2022-08-26T15:14:42.153Z"
   },
   {
    "duration": 155,
    "start_time": "2022-08-26T15:14:42.165Z"
   },
   {
    "duration": 141,
    "start_time": "2022-08-26T15:14:42.322Z"
   },
   {
    "duration": 6,
    "start_time": "2022-08-26T15:14:42.465Z"
   },
   {
    "duration": 24463,
    "start_time": "2022-08-26T15:14:42.473Z"
   },
   {
    "duration": 17,
    "start_time": "2022-08-26T15:15:06.938Z"
   },
   {
    "duration": 15,
    "start_time": "2022-08-26T15:15:06.957Z"
   },
   {
    "duration": 161,
    "start_time": "2022-08-26T15:15:06.973Z"
   },
   {
    "duration": 141,
    "start_time": "2022-08-26T15:15:07.136Z"
   },
   {
    "duration": 7,
    "start_time": "2022-08-26T15:15:07.279Z"
   },
   {
    "duration": 15,
    "start_time": "2022-08-26T15:15:07.290Z"
   },
   {
    "duration": 9,
    "start_time": "2022-08-26T15:15:07.307Z"
   },
   {
    "duration": 23,
    "start_time": "2022-08-26T15:15:07.318Z"
   },
   {
    "duration": 14,
    "start_time": "2022-08-26T15:15:07.343Z"
   },
   {
    "duration": 12,
    "start_time": "2022-08-26T15:15:07.359Z"
   },
   {
    "duration": 5,
    "start_time": "2022-08-26T15:15:07.373Z"
   },
   {
    "duration": 27,
    "start_time": "2022-08-26T15:15:07.380Z"
   },
   {
    "duration": 33934,
    "start_time": "2022-08-26T15:15:07.409Z"
   },
   {
    "duration": 16,
    "start_time": "2022-08-26T15:15:41.345Z"
   },
   {
    "duration": 11,
    "start_time": "2022-08-26T15:15:41.364Z"
   },
   {
    "duration": 166,
    "start_time": "2022-08-26T15:15:41.378Z"
   },
   {
    "duration": 140,
    "start_time": "2022-08-26T15:15:41.546Z"
   },
   {
    "duration": 15,
    "start_time": "2022-08-26T15:15:41.689Z"
   },
   {
    "duration": 5,
    "start_time": "2022-08-26T15:15:41.706Z"
   },
   {
    "duration": 13,
    "start_time": "2022-08-26T15:15:41.713Z"
   },
   {
    "duration": 6,
    "start_time": "2022-08-26T15:15:41.728Z"
   },
   {
    "duration": 10,
    "start_time": "2022-08-26T15:15:41.736Z"
   },
   {
    "duration": 14746,
    "start_time": "2022-08-26T15:15:41.748Z"
   },
   {
    "duration": 20,
    "start_time": "2022-08-26T15:15:56.498Z"
   },
   {
    "duration": 13,
    "start_time": "2022-08-26T15:15:56.521Z"
   },
   {
    "duration": 154,
    "start_time": "2022-08-26T15:15:56.535Z"
   },
   {
    "duration": 138,
    "start_time": "2022-08-26T15:15:56.691Z"
   },
   {
    "duration": 6,
    "start_time": "2022-08-26T15:15:56.831Z"
   },
   {
    "duration": 6,
    "start_time": "2022-08-26T15:15:56.839Z"
   },
   {
    "duration": 6,
    "start_time": "2022-08-26T15:15:56.846Z"
   },
   {
    "duration": 208,
    "start_time": "2022-08-26T15:15:56.854Z"
   },
   {
    "duration": 5,
    "start_time": "2022-08-26T15:15:57.064Z"
   },
   {
    "duration": 21,
    "start_time": "2022-08-26T15:15:57.070Z"
   },
   {
    "duration": 18,
    "start_time": "2022-08-26T15:15:57.093Z"
   },
   {
    "duration": 15,
    "start_time": "2022-08-26T15:15:57.113Z"
   },
   {
    "duration": 157,
    "start_time": "2022-08-26T15:15:57.130Z"
   },
   {
    "duration": 247,
    "start_time": "2022-08-26T15:15:57.289Z"
   },
   {
    "duration": 9,
    "start_time": "2022-08-26T15:15:57.538Z"
   },
   {
    "duration": 179,
    "start_time": "2022-08-26T15:15:57.549Z"
   },
   {
    "duration": 7,
    "start_time": "2022-08-26T15:25:44.407Z"
   },
   {
    "duration": 60,
    "start_time": "2022-08-26T15:25:44.416Z"
   },
   {
    "duration": 13,
    "start_time": "2022-08-26T15:25:44.478Z"
   },
   {
    "duration": 52,
    "start_time": "2022-08-26T15:25:44.493Z"
   },
   {
    "duration": 2,
    "start_time": "2022-08-26T15:25:44.547Z"
   },
   {
    "duration": 12,
    "start_time": "2022-08-26T15:25:44.550Z"
   },
   {
    "duration": 40,
    "start_time": "2022-08-26T15:25:44.564Z"
   },
   {
    "duration": 7,
    "start_time": "2022-08-26T15:25:44.605Z"
   },
   {
    "duration": 226,
    "start_time": "2022-08-26T15:25:44.614Z"
   },
   {
    "duration": 195,
    "start_time": "2022-08-26T15:25:44.842Z"
   },
   {
    "duration": 6,
    "start_time": "2022-08-26T15:25:45.039Z"
   },
   {
    "duration": 19,
    "start_time": "2022-08-26T15:25:45.046Z"
   },
   {
    "duration": 24,
    "start_time": "2022-08-26T15:25:45.067Z"
   },
   {
    "duration": 170,
    "start_time": "2022-08-26T15:25:45.093Z"
   },
   {
    "duration": 5,
    "start_time": "2022-08-26T15:25:45.265Z"
   },
   {
    "duration": 35,
    "start_time": "2022-08-26T15:25:45.271Z"
   },
   {
    "duration": 30,
    "start_time": "2022-08-26T15:25:45.308Z"
   },
   {
    "duration": 45,
    "start_time": "2022-08-26T15:25:45.340Z"
   },
   {
    "duration": 29,
    "start_time": "2022-08-26T15:25:45.387Z"
   },
   {
    "duration": 35,
    "start_time": "2022-08-26T15:25:45.418Z"
   },
   {
    "duration": 31,
    "start_time": "2022-08-26T15:25:45.455Z"
   },
   {
    "duration": 159,
    "start_time": "2022-08-26T15:25:45.487Z"
   },
   {
    "duration": 8,
    "start_time": "2022-08-26T15:25:45.648Z"
   },
   {
    "duration": 13,
    "start_time": "2022-08-26T15:25:45.660Z"
   },
   {
    "duration": 37,
    "start_time": "2022-08-26T15:25:45.675Z"
   },
   {
    "duration": 19,
    "start_time": "2022-08-26T15:25:45.714Z"
   },
   {
    "duration": 51,
    "start_time": "2022-08-26T15:25:45.735Z"
   },
   {
    "duration": 26,
    "start_time": "2022-08-26T15:25:45.787Z"
   },
   {
    "duration": 20,
    "start_time": "2022-08-26T15:25:45.816Z"
   },
   {
    "duration": 24,
    "start_time": "2022-08-26T15:25:45.838Z"
   },
   {
    "duration": 27,
    "start_time": "2022-08-26T15:25:45.864Z"
   },
   {
    "duration": 27,
    "start_time": "2022-08-26T15:25:45.893Z"
   },
   {
    "duration": 186,
    "start_time": "2022-08-26T15:25:45.922Z"
   },
   {
    "duration": 925,
    "start_time": "2022-08-26T15:25:46.109Z"
   },
   {
    "duration": 7,
    "start_time": "2022-08-26T15:25:47.036Z"
   },
   {
    "duration": 18,
    "start_time": "2022-08-26T15:25:47.045Z"
   },
   {
    "duration": 141,
    "start_time": "2022-08-26T15:25:47.065Z"
   },
   {
    "duration": 130,
    "start_time": "2022-08-26T15:25:47.208Z"
   },
   {
    "duration": 6,
    "start_time": "2022-08-26T15:25:47.340Z"
   },
   {
    "duration": 24605,
    "start_time": "2022-08-26T15:25:47.347Z"
   },
   {
    "duration": 13,
    "start_time": "2022-08-26T15:26:11.954Z"
   },
   {
    "duration": 8,
    "start_time": "2022-08-26T15:26:11.969Z"
   },
   {
    "duration": 152,
    "start_time": "2022-08-26T15:26:11.979Z"
   },
   {
    "duration": 129,
    "start_time": "2022-08-26T15:26:12.133Z"
   },
   {
    "duration": 7,
    "start_time": "2022-08-26T15:26:12.264Z"
   },
   {
    "duration": 24939,
    "start_time": "2022-08-26T15:26:12.273Z"
   },
   {
    "duration": 18,
    "start_time": "2022-08-26T15:26:37.214Z"
   },
   {
    "duration": 32,
    "start_time": "2022-08-26T15:26:37.233Z"
   },
   {
    "duration": 140,
    "start_time": "2022-08-26T15:26:37.267Z"
   },
   {
    "duration": 140,
    "start_time": "2022-08-26T15:26:37.409Z"
   },
   {
    "duration": 8,
    "start_time": "2022-08-26T15:26:37.551Z"
   },
   {
    "duration": 19,
    "start_time": "2022-08-26T15:26:37.560Z"
   },
   {
    "duration": 12,
    "start_time": "2022-08-26T15:26:37.581Z"
   },
   {
    "duration": 20,
    "start_time": "2022-08-26T15:26:37.594Z"
   },
   {
    "duration": 8,
    "start_time": "2022-08-26T15:26:37.616Z"
   },
   {
    "duration": 10,
    "start_time": "2022-08-26T15:26:37.626Z"
   },
   {
    "duration": 5,
    "start_time": "2022-08-26T15:26:37.638Z"
   },
   {
    "duration": 8,
    "start_time": "2022-08-26T15:26:37.645Z"
   },
   {
    "duration": 34108,
    "start_time": "2022-08-26T15:26:37.655Z"
   },
   {
    "duration": 13,
    "start_time": "2022-08-26T15:27:11.765Z"
   },
   {
    "duration": 26,
    "start_time": "2022-08-26T15:27:11.780Z"
   },
   {
    "duration": 141,
    "start_time": "2022-08-26T15:27:11.808Z"
   },
   {
    "duration": 135,
    "start_time": "2022-08-26T15:27:11.951Z"
   },
   {
    "duration": 7,
    "start_time": "2022-08-26T15:27:12.088Z"
   },
   {
    "duration": 4,
    "start_time": "2022-08-26T15:27:12.103Z"
   },
   {
    "duration": 12,
    "start_time": "2022-08-26T15:27:12.109Z"
   },
   {
    "duration": 7,
    "start_time": "2022-08-26T15:27:12.123Z"
   },
   {
    "duration": 5,
    "start_time": "2022-08-26T15:27:12.132Z"
   },
   {
    "duration": 14771,
    "start_time": "2022-08-26T15:27:12.143Z"
   },
   {
    "duration": 13,
    "start_time": "2022-08-26T15:27:26.916Z"
   },
   {
    "duration": 10,
    "start_time": "2022-08-26T15:27:26.931Z"
   },
   {
    "duration": 154,
    "start_time": "2022-08-26T15:27:26.942Z"
   },
   {
    "duration": 125,
    "start_time": "2022-08-26T15:27:27.103Z"
   },
   {
    "duration": 6,
    "start_time": "2022-08-26T15:27:27.230Z"
   },
   {
    "duration": 6,
    "start_time": "2022-08-26T15:27:27.237Z"
   },
   {
    "duration": 8,
    "start_time": "2022-08-26T15:27:27.245Z"
   },
   {
    "duration": 206,
    "start_time": "2022-08-26T15:27:27.255Z"
   },
   {
    "duration": 5,
    "start_time": "2022-08-26T15:27:27.463Z"
   },
   {
    "duration": 20,
    "start_time": "2022-08-26T15:27:27.470Z"
   },
   {
    "duration": 8,
    "start_time": "2022-08-26T15:27:27.504Z"
   },
   {
    "duration": 20,
    "start_time": "2022-08-26T15:27:27.514Z"
   },
   {
    "duration": 156,
    "start_time": "2022-08-26T15:27:27.536Z"
   },
   {
    "duration": 139,
    "start_time": "2022-08-26T15:27:27.694Z"
   },
   {
    "duration": 8,
    "start_time": "2022-08-26T15:27:27.835Z"
   },
   {
    "duration": 186,
    "start_time": "2022-08-26T15:27:27.845Z"
   },
   {
    "duration": 1625,
    "start_time": "2022-08-27T08:07:09.824Z"
   },
   {
    "duration": 198,
    "start_time": "2022-08-27T08:07:11.452Z"
   },
   {
    "duration": 15,
    "start_time": "2022-08-27T08:07:11.651Z"
   },
   {
    "duration": 48,
    "start_time": "2022-08-27T08:07:11.670Z"
   },
   {
    "duration": 2,
    "start_time": "2022-08-27T08:07:11.720Z"
   },
   {
    "duration": 10,
    "start_time": "2022-08-27T08:07:11.724Z"
   },
   {
    "duration": 9,
    "start_time": "2022-08-27T08:07:11.736Z"
   },
   {
    "duration": 36,
    "start_time": "2022-08-27T08:07:11.747Z"
   },
   {
    "duration": 217,
    "start_time": "2022-08-27T08:07:11.784Z"
   },
   {
    "duration": 204,
    "start_time": "2022-08-27T08:07:12.004Z"
   },
   {
    "duration": 5,
    "start_time": "2022-08-27T08:07:12.210Z"
   },
   {
    "duration": 7,
    "start_time": "2022-08-27T08:07:12.217Z"
   },
   {
    "duration": 8,
    "start_time": "2022-08-27T08:07:12.226Z"
   },
   {
    "duration": 167,
    "start_time": "2022-08-27T08:07:12.236Z"
   },
   {
    "duration": 4,
    "start_time": "2022-08-27T08:07:12.405Z"
   },
   {
    "duration": 29,
    "start_time": "2022-08-27T08:07:12.411Z"
   },
   {
    "duration": 7,
    "start_time": "2022-08-27T08:07:12.442Z"
   },
   {
    "duration": 29,
    "start_time": "2022-08-27T08:07:12.451Z"
   },
   {
    "duration": 12,
    "start_time": "2022-08-27T08:07:12.483Z"
   },
   {
    "duration": 29,
    "start_time": "2022-08-27T08:07:12.497Z"
   },
   {
    "duration": 5,
    "start_time": "2022-08-27T08:07:12.528Z"
   },
   {
    "duration": 251,
    "start_time": "2022-08-27T08:07:12.534Z"
   },
   {
    "duration": 9,
    "start_time": "2022-08-27T08:07:12.787Z"
   },
   {
    "duration": 7,
    "start_time": "2022-08-27T08:07:12.798Z"
   },
   {
    "duration": 20,
    "start_time": "2022-08-27T08:07:12.807Z"
   },
   {
    "duration": 5,
    "start_time": "2022-08-27T08:07:12.829Z"
   },
   {
    "duration": 49,
    "start_time": "2022-08-27T08:07:12.835Z"
   },
   {
    "duration": 3,
    "start_time": "2022-08-27T08:07:12.889Z"
   },
   {
    "duration": 15,
    "start_time": "2022-08-27T08:07:12.893Z"
   },
   {
    "duration": 16,
    "start_time": "2022-08-27T08:07:12.910Z"
   },
   {
    "duration": 9,
    "start_time": "2022-08-27T08:07:12.927Z"
   },
   {
    "duration": 7,
    "start_time": "2022-08-27T08:07:12.938Z"
   },
   {
    "duration": 106,
    "start_time": "2022-08-27T08:07:12.968Z"
   },
   {
    "duration": 18,
    "start_time": "2022-08-27T08:07:13.077Z"
   },
   {
    "duration": 847,
    "start_time": "2022-08-27T08:07:13.171Z"
   },
   {
    "duration": 9,
    "start_time": "2022-08-27T08:07:14.020Z"
   },
   {
    "duration": 5,
    "start_time": "2022-08-27T08:07:14.030Z"
   },
   {
    "duration": 164,
    "start_time": "2022-08-27T08:07:14.037Z"
   },
   {
    "duration": 136,
    "start_time": "2022-08-27T08:07:14.203Z"
   },
   {
    "duration": 6,
    "start_time": "2022-08-27T08:07:14.341Z"
   },
   {
    "duration": 24048,
    "start_time": "2022-08-27T08:07:14.349Z"
   },
   {
    "duration": 21,
    "start_time": "2022-08-27T08:07:38.398Z"
   },
   {
    "duration": 12,
    "start_time": "2022-08-27T08:07:38.421Z"
   },
   {
    "duration": 166,
    "start_time": "2022-08-27T08:07:38.435Z"
   },
   {
    "duration": 147,
    "start_time": "2022-08-27T08:07:38.603Z"
   },
   {
    "duration": 26,
    "start_time": "2022-08-27T08:07:38.751Z"
   },
   {
    "duration": 24265,
    "start_time": "2022-08-27T08:07:38.780Z"
   },
   {
    "duration": 30,
    "start_time": "2022-08-27T08:08:03.046Z"
   },
   {
    "duration": 24,
    "start_time": "2022-08-27T08:08:03.078Z"
   },
   {
    "duration": 143,
    "start_time": "2022-08-27T08:08:03.104Z"
   },
   {
    "duration": 138,
    "start_time": "2022-08-27T08:08:03.249Z"
   },
   {
    "duration": 7,
    "start_time": "2022-08-27T08:08:03.388Z"
   },
   {
    "duration": 17,
    "start_time": "2022-08-27T08:08:03.396Z"
   },
   {
    "duration": 23,
    "start_time": "2022-08-27T08:08:03.415Z"
   },
   {
    "duration": 24,
    "start_time": "2022-08-27T08:08:03.440Z"
   },
   {
    "duration": 36,
    "start_time": "2022-08-27T08:08:03.465Z"
   },
   {
    "duration": 26,
    "start_time": "2022-08-27T08:08:03.503Z"
   },
   {
    "duration": 11,
    "start_time": "2022-08-27T08:08:03.530Z"
   },
   {
    "duration": 20,
    "start_time": "2022-08-27T08:08:03.543Z"
   },
   {
    "duration": 31927,
    "start_time": "2022-08-27T08:08:03.565Z"
   },
   {
    "duration": 16,
    "start_time": "2022-08-27T08:08:35.494Z"
   },
   {
    "duration": 10,
    "start_time": "2022-08-27T08:08:35.512Z"
   },
   {
    "duration": 161,
    "start_time": "2022-08-27T08:08:35.524Z"
   },
   {
    "duration": 137,
    "start_time": "2022-08-27T08:08:35.688Z"
   },
   {
    "duration": 7,
    "start_time": "2022-08-27T08:08:35.828Z"
   },
   {
    "duration": 49,
    "start_time": "2022-08-27T08:08:35.837Z"
   },
   {
    "duration": 13,
    "start_time": "2022-08-27T08:08:35.888Z"
   },
   {
    "duration": 5,
    "start_time": "2022-08-27T08:08:35.903Z"
   },
   {
    "duration": 12,
    "start_time": "2022-08-27T08:08:35.910Z"
   },
   {
    "duration": 14227,
    "start_time": "2022-08-27T08:08:35.925Z"
   },
   {
    "duration": 32,
    "start_time": "2022-08-27T08:08:50.153Z"
   },
   {
    "duration": 9,
    "start_time": "2022-08-27T08:08:50.187Z"
   },
   {
    "duration": 144,
    "start_time": "2022-08-27T08:08:50.198Z"
   },
   {
    "duration": 155,
    "start_time": "2022-08-27T08:08:50.344Z"
   },
   {
    "duration": 9,
    "start_time": "2022-08-27T08:08:50.501Z"
   },
   {
    "duration": 6,
    "start_time": "2022-08-27T08:08:50.513Z"
   },
   {
    "duration": 8,
    "start_time": "2022-08-27T08:08:50.522Z"
   },
   {
    "duration": 160,
    "start_time": "2022-08-27T08:08:50.532Z"
   },
   {
    "duration": 6,
    "start_time": "2022-08-27T08:08:50.694Z"
   },
   {
    "duration": 14,
    "start_time": "2022-08-27T08:08:50.701Z"
   },
   {
    "duration": 7,
    "start_time": "2022-08-27T08:08:50.717Z"
   },
   {
    "duration": 39,
    "start_time": "2022-08-27T08:08:50.730Z"
   },
   {
    "duration": 157,
    "start_time": "2022-08-27T08:08:50.773Z"
   },
   {
    "duration": 260,
    "start_time": "2022-08-27T08:08:50.932Z"
   },
   {
    "duration": 7,
    "start_time": "2022-08-27T08:08:51.194Z"
   },
   {
    "duration": 195,
    "start_time": "2022-08-27T08:08:51.203Z"
   },
   {
    "duration": 76,
    "start_time": "2022-08-27T08:15:59.914Z"
   },
   {
    "duration": 6,
    "start_time": "2022-08-27T08:21:29.618Z"
   },
   {
    "duration": 65,
    "start_time": "2022-08-27T08:21:29.626Z"
   },
   {
    "duration": 13,
    "start_time": "2022-08-27T08:21:29.693Z"
   },
   {
    "duration": 67,
    "start_time": "2022-08-27T08:21:29.708Z"
   },
   {
    "duration": 6,
    "start_time": "2022-08-27T08:21:29.777Z"
   },
   {
    "duration": 18,
    "start_time": "2022-08-27T08:21:29.785Z"
   },
   {
    "duration": 12,
    "start_time": "2022-08-27T08:21:29.804Z"
   },
   {
    "duration": 227,
    "start_time": "2022-08-27T08:21:29.817Z"
   },
   {
    "duration": 200,
    "start_time": "2022-08-27T08:21:30.047Z"
   },
   {
    "duration": 6,
    "start_time": "2022-08-27T08:21:30.249Z"
   },
   {
    "duration": 21,
    "start_time": "2022-08-27T08:21:30.256Z"
   },
   {
    "duration": 21,
    "start_time": "2022-08-27T08:21:30.279Z"
   },
   {
    "duration": 133,
    "start_time": "2022-08-27T08:21:30.302Z"
   },
   {
    "duration": 5,
    "start_time": "2022-08-27T08:21:30.436Z"
   },
   {
    "duration": 40,
    "start_time": "2022-08-27T08:21:30.442Z"
   },
   {
    "duration": 21,
    "start_time": "2022-08-27T08:21:30.484Z"
   },
   {
    "duration": 27,
    "start_time": "2022-08-27T08:21:30.507Z"
   },
   {
    "duration": 22,
    "start_time": "2022-08-27T08:21:30.536Z"
   },
   {
    "duration": 43,
    "start_time": "2022-08-27T08:21:30.559Z"
   },
   {
    "duration": 17,
    "start_time": "2022-08-27T08:21:30.604Z"
   },
   {
    "duration": 168,
    "start_time": "2022-08-27T08:21:30.622Z"
   },
   {
    "duration": 7,
    "start_time": "2022-08-27T08:21:30.792Z"
   },
   {
    "duration": 19,
    "start_time": "2022-08-27T08:21:30.801Z"
   },
   {
    "duration": 35,
    "start_time": "2022-08-27T08:21:30.824Z"
   },
   {
    "duration": 5,
    "start_time": "2022-08-27T08:21:30.861Z"
   },
   {
    "duration": 18,
    "start_time": "2022-08-27T08:21:30.867Z"
   },
   {
    "duration": 26,
    "start_time": "2022-08-27T08:21:30.887Z"
   },
   {
    "duration": 36,
    "start_time": "2022-08-27T08:21:30.915Z"
   },
   {
    "duration": 9,
    "start_time": "2022-08-27T08:21:30.953Z"
   },
   {
    "duration": 20,
    "start_time": "2022-08-27T08:21:30.963Z"
   },
   {
    "duration": 37,
    "start_time": "2022-08-27T08:21:30.984Z"
   },
   {
    "duration": 169,
    "start_time": "2022-08-27T08:21:31.022Z"
   },
   {
    "duration": 871,
    "start_time": "2022-08-27T08:21:31.193Z"
   },
   {
    "duration": 7,
    "start_time": "2022-08-27T08:21:32.069Z"
   },
   {
    "duration": 5,
    "start_time": "2022-08-27T08:21:32.078Z"
   },
   {
    "duration": 145,
    "start_time": "2022-08-27T08:21:32.085Z"
   },
   {
    "duration": 135,
    "start_time": "2022-08-27T08:21:32.232Z"
   },
   {
    "duration": 6,
    "start_time": "2022-08-27T08:21:32.369Z"
   },
   {
    "duration": 23129,
    "start_time": "2022-08-27T08:21:32.376Z"
   },
   {
    "duration": 15,
    "start_time": "2022-08-27T08:21:55.507Z"
   },
   {
    "duration": 12,
    "start_time": "2022-08-27T08:21:55.524Z"
   },
   {
    "duration": 149,
    "start_time": "2022-08-27T08:21:55.538Z"
   },
   {
    "duration": 123,
    "start_time": "2022-08-27T08:21:55.689Z"
   },
   {
    "duration": 6,
    "start_time": "2022-08-27T08:21:55.814Z"
   },
   {
    "duration": 23516,
    "start_time": "2022-08-27T08:21:55.821Z"
   },
   {
    "duration": 13,
    "start_time": "2022-08-27T08:22:19.338Z"
   },
   {
    "duration": 23,
    "start_time": "2022-08-27T08:22:19.353Z"
   },
   {
    "duration": 141,
    "start_time": "2022-08-27T08:22:19.378Z"
   },
   {
    "duration": 135,
    "start_time": "2022-08-27T08:22:19.521Z"
   },
   {
    "duration": 10,
    "start_time": "2022-08-27T08:22:19.658Z"
   },
   {
    "duration": 4,
    "start_time": "2022-08-27T08:22:19.670Z"
   },
   {
    "duration": 10,
    "start_time": "2022-08-27T08:22:19.675Z"
   },
   {
    "duration": 12,
    "start_time": "2022-08-27T08:22:19.687Z"
   },
   {
    "duration": 8,
    "start_time": "2022-08-27T08:22:19.701Z"
   },
   {
    "duration": 15,
    "start_time": "2022-08-27T08:22:19.710Z"
   },
   {
    "duration": 6,
    "start_time": "2022-08-27T08:22:19.727Z"
   },
   {
    "duration": 41,
    "start_time": "2022-08-27T08:22:19.735Z"
   },
   {
    "duration": 31248,
    "start_time": "2022-08-27T08:22:19.778Z"
   },
   {
    "duration": 14,
    "start_time": "2022-08-27T08:22:51.028Z"
   },
   {
    "duration": 25,
    "start_time": "2022-08-27T08:22:51.044Z"
   },
   {
    "duration": 147,
    "start_time": "2022-08-27T08:22:51.071Z"
   },
   {
    "duration": 137,
    "start_time": "2022-08-27T08:22:51.219Z"
   },
   {
    "duration": 14,
    "start_time": "2022-08-27T08:22:51.358Z"
   },
   {
    "duration": 6,
    "start_time": "2022-08-27T08:22:51.374Z"
   },
   {
    "duration": 12,
    "start_time": "2022-08-27T08:22:51.381Z"
   },
   {
    "duration": 6,
    "start_time": "2022-08-27T08:22:51.395Z"
   },
   {
    "duration": 6,
    "start_time": "2022-08-27T08:22:51.403Z"
   },
   {
    "duration": 13941,
    "start_time": "2022-08-27T08:22:51.411Z"
   },
   {
    "duration": 14,
    "start_time": "2022-08-27T08:23:05.367Z"
   },
   {
    "duration": 10,
    "start_time": "2022-08-27T08:23:05.383Z"
   },
   {
    "duration": 148,
    "start_time": "2022-08-27T08:23:05.395Z"
   },
   {
    "duration": 133,
    "start_time": "2022-08-27T08:23:05.545Z"
   },
   {
    "duration": 7,
    "start_time": "2022-08-27T08:23:05.680Z"
   },
   {
    "duration": 19,
    "start_time": "2022-08-27T08:23:05.689Z"
   },
   {
    "duration": 13,
    "start_time": "2022-08-27T08:23:05.709Z"
   },
   {
    "duration": 116,
    "start_time": "2022-08-27T08:23:05.724Z"
   },
   {
    "duration": 5,
    "start_time": "2022-08-27T08:23:05.842Z"
   },
   {
    "duration": 19,
    "start_time": "2022-08-27T08:23:05.848Z"
   },
   {
    "duration": 6,
    "start_time": "2022-08-27T08:23:05.869Z"
   },
   {
    "duration": 42,
    "start_time": "2022-08-27T08:23:05.876Z"
   },
   {
    "duration": 126,
    "start_time": "2022-08-27T08:23:05.920Z"
   },
   {
    "duration": 124,
    "start_time": "2022-08-27T08:23:06.048Z"
   },
   {
    "duration": 6,
    "start_time": "2022-08-27T08:23:06.173Z"
   },
   {
    "duration": 172,
    "start_time": "2022-08-27T08:23:06.180Z"
   },
   {
    "duration": 74,
    "start_time": "2022-08-27T08:25:10.716Z"
   },
   {
    "duration": 8,
    "start_time": "2022-08-27T08:25:53.495Z"
   },
   {
    "duration": 64,
    "start_time": "2022-08-27T08:25:53.506Z"
   },
   {
    "duration": 17,
    "start_time": "2022-08-27T08:25:53.572Z"
   },
   {
    "duration": 78,
    "start_time": "2022-08-27T08:25:53.592Z"
   },
   {
    "duration": 7,
    "start_time": "2022-08-27T08:25:53.673Z"
   },
   {
    "duration": 12,
    "start_time": "2022-08-27T08:25:53.682Z"
   },
   {
    "duration": 11,
    "start_time": "2022-08-27T08:25:53.696Z"
   },
   {
    "duration": 238,
    "start_time": "2022-08-27T08:25:53.709Z"
   },
   {
    "duration": 201,
    "start_time": "2022-08-27T08:25:53.949Z"
   },
   {
    "duration": 15,
    "start_time": "2022-08-27T08:25:54.153Z"
   },
   {
    "duration": 6,
    "start_time": "2022-08-27T08:25:54.170Z"
   },
   {
    "duration": 12,
    "start_time": "2022-08-27T08:25:54.178Z"
   },
   {
    "duration": 167,
    "start_time": "2022-08-27T08:25:54.192Z"
   },
   {
    "duration": 6,
    "start_time": "2022-08-27T08:25:54.367Z"
   },
   {
    "duration": 50,
    "start_time": "2022-08-27T08:25:54.375Z"
   },
   {
    "duration": 17,
    "start_time": "2022-08-27T08:25:54.427Z"
   },
   {
    "duration": 26,
    "start_time": "2022-08-27T08:25:54.446Z"
   },
   {
    "duration": 16,
    "start_time": "2022-08-27T08:25:54.474Z"
   },
   {
    "duration": 25,
    "start_time": "2022-08-27T08:25:54.492Z"
   },
   {
    "duration": 7,
    "start_time": "2022-08-27T08:25:54.519Z"
   },
   {
    "duration": 269,
    "start_time": "2022-08-27T08:25:54.528Z"
   },
   {
    "duration": 8,
    "start_time": "2022-08-27T08:25:54.799Z"
   },
   {
    "duration": 7,
    "start_time": "2022-08-27T08:25:54.808Z"
   },
   {
    "duration": 15,
    "start_time": "2022-08-27T08:25:54.817Z"
   },
   {
    "duration": 4,
    "start_time": "2022-08-27T08:25:54.834Z"
   },
   {
    "duration": 36,
    "start_time": "2022-08-27T08:25:54.840Z"
   },
   {
    "duration": 11,
    "start_time": "2022-08-27T08:25:54.878Z"
   },
   {
    "duration": 13,
    "start_time": "2022-08-27T08:25:54.894Z"
   },
   {
    "duration": 11,
    "start_time": "2022-08-27T08:25:54.909Z"
   },
   {
    "duration": 51,
    "start_time": "2022-08-27T08:25:54.922Z"
   },
   {
    "duration": 194,
    "start_time": "2022-08-27T08:25:54.974Z"
   },
   {
    "duration": 798,
    "start_time": "2022-08-27T08:25:55.170Z"
   },
   {
    "duration": 8,
    "start_time": "2022-08-27T08:25:55.971Z"
   },
   {
    "duration": 11,
    "start_time": "2022-08-27T08:25:55.981Z"
   },
   {
    "duration": 153,
    "start_time": "2022-08-27T08:25:55.994Z"
   },
   {
    "duration": 129,
    "start_time": "2022-08-27T08:25:56.149Z"
   },
   {
    "duration": 7,
    "start_time": "2022-08-27T08:25:56.280Z"
   },
   {
    "duration": 23937,
    "start_time": "2022-08-27T08:25:56.288Z"
   },
   {
    "duration": 17,
    "start_time": "2022-08-27T08:26:20.228Z"
   },
   {
    "duration": 31,
    "start_time": "2022-08-27T08:26:20.247Z"
   },
   {
    "duration": 205,
    "start_time": "2022-08-27T08:26:20.280Z"
   },
   {
    "duration": 159,
    "start_time": "2022-08-27T08:26:20.488Z"
   },
   {
    "duration": 21,
    "start_time": "2022-08-27T08:26:20.649Z"
   },
   {
    "duration": 24654,
    "start_time": "2022-08-27T08:26:20.672Z"
   },
   {
    "duration": 13,
    "start_time": "2022-08-27T08:26:45.328Z"
   },
   {
    "duration": 32,
    "start_time": "2022-08-27T08:26:45.343Z"
   },
   {
    "duration": 141,
    "start_time": "2022-08-27T08:26:45.376Z"
   },
   {
    "duration": 137,
    "start_time": "2022-08-27T08:26:45.520Z"
   },
   {
    "duration": 10,
    "start_time": "2022-08-27T08:26:45.659Z"
   },
   {
    "duration": 4,
    "start_time": "2022-08-27T08:26:45.670Z"
   },
   {
    "duration": 7,
    "start_time": "2022-08-27T08:26:45.676Z"
   },
   {
    "duration": 11,
    "start_time": "2022-08-27T08:26:45.685Z"
   },
   {
    "duration": 6,
    "start_time": "2022-08-27T08:26:45.698Z"
   },
   {
    "duration": 12,
    "start_time": "2022-08-27T08:26:45.706Z"
   },
   {
    "duration": 5,
    "start_time": "2022-08-27T08:26:45.719Z"
   },
   {
    "duration": 42,
    "start_time": "2022-08-27T08:26:45.726Z"
   },
   {
    "duration": 31510,
    "start_time": "2022-08-27T08:26:45.769Z"
   },
   {
    "duration": 11,
    "start_time": "2022-08-27T08:27:17.281Z"
   },
   {
    "duration": 8,
    "start_time": "2022-08-27T08:27:17.294Z"
   },
   {
    "duration": 142,
    "start_time": "2022-08-27T08:27:17.304Z"
   },
   {
    "duration": 132,
    "start_time": "2022-08-27T08:27:17.448Z"
   },
   {
    "duration": 7,
    "start_time": "2022-08-27T08:27:17.581Z"
   },
   {
    "duration": 5,
    "start_time": "2022-08-27T08:27:17.589Z"
   },
   {
    "duration": 15,
    "start_time": "2022-08-27T08:27:17.595Z"
   },
   {
    "duration": 6,
    "start_time": "2022-08-27T08:27:17.611Z"
   },
   {
    "duration": 10,
    "start_time": "2022-08-27T08:27:17.618Z"
   },
   {
    "duration": 14022,
    "start_time": "2022-08-27T08:27:17.630Z"
   },
   {
    "duration": 24,
    "start_time": "2022-08-27T08:27:31.654Z"
   },
   {
    "duration": 11,
    "start_time": "2022-08-27T08:27:31.679Z"
   },
   {
    "duration": 150,
    "start_time": "2022-08-27T08:27:31.692Z"
   },
   {
    "duration": 144,
    "start_time": "2022-08-27T08:27:31.844Z"
   },
   {
    "duration": 6,
    "start_time": "2022-08-27T08:27:31.990Z"
   },
   {
    "duration": 7,
    "start_time": "2022-08-27T08:27:31.998Z"
   },
   {
    "duration": 11,
    "start_time": "2022-08-27T08:27:32.007Z"
   },
   {
    "duration": 133,
    "start_time": "2022-08-27T08:27:32.019Z"
   },
   {
    "duration": 14,
    "start_time": "2022-08-27T08:27:32.154Z"
   },
   {
    "duration": 12,
    "start_time": "2022-08-27T08:27:32.170Z"
   },
   {
    "duration": 8,
    "start_time": "2022-08-27T08:27:32.184Z"
   },
   {
    "duration": 10,
    "start_time": "2022-08-27T08:27:32.194Z"
   },
   {
    "duration": 161,
    "start_time": "2022-08-27T08:27:32.206Z"
   },
   {
    "duration": 142,
    "start_time": "2022-08-27T08:27:32.369Z"
   },
   {
    "duration": 8,
    "start_time": "2022-08-27T08:27:32.517Z"
   },
   {
    "duration": 184,
    "start_time": "2022-08-27T08:27:32.526Z"
   },
   {
    "duration": 1807,
    "start_time": "2022-08-27T14:28:16.287Z"
   },
   {
    "duration": 170,
    "start_time": "2022-08-27T14:28:18.098Z"
   },
   {
    "duration": 20,
    "start_time": "2022-08-27T14:28:18.269Z"
   },
   {
    "duration": 50,
    "start_time": "2022-08-27T14:28:18.292Z"
   },
   {
    "duration": 32,
    "start_time": "2022-08-27T14:28:18.344Z"
   },
   {
    "duration": 10,
    "start_time": "2022-08-27T14:28:18.385Z"
   },
   {
    "duration": 8,
    "start_time": "2022-08-27T14:28:18.397Z"
   },
   {
    "duration": 240,
    "start_time": "2022-08-27T14:28:18.407Z"
   },
   {
    "duration": 209,
    "start_time": "2022-08-27T14:28:18.648Z"
   },
   {
    "duration": 15,
    "start_time": "2022-08-27T14:28:18.860Z"
   },
   {
    "duration": 19,
    "start_time": "2022-08-27T14:28:18.876Z"
   },
   {
    "duration": 13,
    "start_time": "2022-08-27T14:28:18.897Z"
   },
   {
    "duration": 171,
    "start_time": "2022-08-27T14:28:18.913Z"
   },
   {
    "duration": 6,
    "start_time": "2022-08-27T14:28:19.086Z"
   },
   {
    "duration": 29,
    "start_time": "2022-08-27T14:28:19.094Z"
   },
   {
    "duration": 6,
    "start_time": "2022-08-27T14:28:19.126Z"
   },
   {
    "duration": 16,
    "start_time": "2022-08-27T14:28:19.134Z"
   },
   {
    "duration": 27,
    "start_time": "2022-08-27T14:28:19.152Z"
   },
   {
    "duration": 33,
    "start_time": "2022-08-27T14:28:19.185Z"
   },
   {
    "duration": 7,
    "start_time": "2022-08-27T14:28:19.220Z"
   },
   {
    "duration": 247,
    "start_time": "2022-08-27T14:28:19.229Z"
   },
   {
    "duration": 12,
    "start_time": "2022-08-27T14:28:19.489Z"
   },
   {
    "duration": 36,
    "start_time": "2022-08-27T14:28:19.504Z"
   },
   {
    "duration": 80,
    "start_time": "2022-08-27T14:28:19.542Z"
   },
   {
    "duration": 82,
    "start_time": "2022-08-27T14:28:19.624Z"
   },
   {
    "duration": 32,
    "start_time": "2022-08-27T14:28:19.709Z"
   },
   {
    "duration": 22,
    "start_time": "2022-08-27T14:28:19.743Z"
   },
   {
    "duration": 52,
    "start_time": "2022-08-27T14:28:19.771Z"
   },
   {
    "duration": 12,
    "start_time": "2022-08-27T14:28:19.825Z"
   },
   {
    "duration": 49,
    "start_time": "2022-08-27T14:28:19.839Z"
   },
   {
    "duration": 88,
    "start_time": "2022-08-27T14:28:19.890Z"
   },
   {
    "duration": 909,
    "start_time": "2022-08-27T14:28:19.980Z"
   },
   {
    "duration": 7,
    "start_time": "2022-08-27T14:28:20.892Z"
   },
   {
    "duration": 4,
    "start_time": "2022-08-27T14:28:20.901Z"
   },
   {
    "duration": 172,
    "start_time": "2022-08-27T14:28:20.907Z"
   },
   {
    "duration": 153,
    "start_time": "2022-08-27T14:28:21.081Z"
   },
   {
    "duration": 7,
    "start_time": "2022-08-27T14:28:21.236Z"
   },
   {
    "duration": 24752,
    "start_time": "2022-08-27T14:28:21.245Z"
   },
   {
    "duration": 16,
    "start_time": "2022-08-27T14:28:46.000Z"
   },
   {
    "duration": 13,
    "start_time": "2022-08-27T14:28:46.018Z"
   },
   {
    "duration": 192,
    "start_time": "2022-08-27T14:28:46.032Z"
   },
   {
    "duration": 158,
    "start_time": "2022-08-27T14:28:46.226Z"
   },
   {
    "duration": 8,
    "start_time": "2022-08-27T14:28:46.386Z"
   },
   {
    "duration": 24742,
    "start_time": "2022-08-27T14:28:46.395Z"
   },
   {
    "duration": 37,
    "start_time": "2022-08-27T14:29:11.140Z"
   },
   {
    "duration": 12,
    "start_time": "2022-08-27T14:29:11.182Z"
   },
   {
    "duration": 150,
    "start_time": "2022-08-27T14:29:11.196Z"
   },
   {
    "duration": 157,
    "start_time": "2022-08-27T14:29:11.348Z"
   },
   {
    "duration": 10,
    "start_time": "2022-08-27T14:29:11.507Z"
   },
   {
    "duration": 7,
    "start_time": "2022-08-27T14:29:11.520Z"
   },
   {
    "duration": 27,
    "start_time": "2022-08-27T14:29:11.530Z"
   },
   {
    "duration": 45,
    "start_time": "2022-08-27T14:29:11.559Z"
   },
   {
    "duration": 6,
    "start_time": "2022-08-27T14:29:11.607Z"
   },
   {
    "duration": 12,
    "start_time": "2022-08-27T14:29:11.616Z"
   },
   {
    "duration": 5,
    "start_time": "2022-08-27T14:29:11.630Z"
   },
   {
    "duration": 11,
    "start_time": "2022-08-27T14:29:11.636Z"
   },
   {
    "duration": 33973,
    "start_time": "2022-08-27T14:29:11.649Z"
   },
   {
    "duration": 15,
    "start_time": "2022-08-27T14:29:45.625Z"
   },
   {
    "duration": 33,
    "start_time": "2022-08-27T14:29:45.642Z"
   },
   {
    "duration": 147,
    "start_time": "2022-08-27T14:29:45.681Z"
   },
   {
    "duration": 145,
    "start_time": "2022-08-27T14:29:45.830Z"
   },
   {
    "duration": 12,
    "start_time": "2022-08-27T14:29:45.980Z"
   },
   {
    "duration": 9,
    "start_time": "2022-08-27T14:29:45.993Z"
   },
   {
    "duration": 17,
    "start_time": "2022-08-27T14:29:46.004Z"
   },
   {
    "duration": 5,
    "start_time": "2022-08-27T14:29:46.023Z"
   },
   {
    "duration": 12,
    "start_time": "2022-08-27T14:29:46.030Z"
   },
   {
    "duration": 15080,
    "start_time": "2022-08-27T14:29:46.043Z"
   },
   {
    "duration": 18,
    "start_time": "2022-08-27T14:30:01.126Z"
   },
   {
    "duration": 50,
    "start_time": "2022-08-27T14:30:01.146Z"
   },
   {
    "duration": 143,
    "start_time": "2022-08-27T14:30:01.197Z"
   },
   {
    "duration": 145,
    "start_time": "2022-08-27T14:30:01.342Z"
   },
   {
    "duration": 13,
    "start_time": "2022-08-27T14:30:01.490Z"
   },
   {
    "duration": 16,
    "start_time": "2022-08-27T14:30:01.505Z"
   },
   {
    "duration": 21,
    "start_time": "2022-08-27T14:30:01.524Z"
   },
   {
    "duration": 140,
    "start_time": "2022-08-27T14:30:01.547Z"
   },
   {
    "duration": 6,
    "start_time": "2022-08-27T14:30:01.689Z"
   },
   {
    "duration": 35,
    "start_time": "2022-08-27T14:30:01.696Z"
   },
   {
    "duration": 7,
    "start_time": "2022-08-27T14:30:01.733Z"
   },
   {
    "duration": 13,
    "start_time": "2022-08-27T14:30:01.742Z"
   },
   {
    "duration": 165,
    "start_time": "2022-08-27T14:30:01.757Z"
   },
   {
    "duration": 236,
    "start_time": "2022-08-27T14:30:01.924Z"
   },
   {
    "duration": 11,
    "start_time": "2022-08-27T14:30:02.169Z"
   },
   {
    "duration": 198,
    "start_time": "2022-08-27T14:30:02.185Z"
   },
   {
    "duration": 72,
    "start_time": "2022-08-27T14:45:33.065Z"
   },
   {
    "duration": 10,
    "start_time": "2022-08-27T15:16:05.236Z"
   },
   {
    "duration": 69,
    "start_time": "2022-08-27T15:16:05.248Z"
   },
   {
    "duration": 15,
    "start_time": "2022-08-27T15:16:05.320Z"
   },
   {
    "duration": 83,
    "start_time": "2022-08-27T15:16:05.338Z"
   },
   {
    "duration": 52,
    "start_time": "2022-08-27T15:16:05.423Z"
   },
   {
    "duration": 12,
    "start_time": "2022-08-27T15:16:05.478Z"
   },
   {
    "duration": 55,
    "start_time": "2022-08-27T15:16:05.492Z"
   },
   {
    "duration": 242,
    "start_time": "2022-08-27T15:16:05.549Z"
   },
   {
    "duration": 294,
    "start_time": "2022-08-27T15:16:05.794Z"
   },
   {
    "duration": 9,
    "start_time": "2022-08-27T15:16:06.098Z"
   },
   {
    "duration": 12,
    "start_time": "2022-08-27T15:16:06.110Z"
   },
   {
    "duration": 11,
    "start_time": "2022-08-27T15:16:06.124Z"
   },
   {
    "duration": 209,
    "start_time": "2022-08-27T15:16:06.137Z"
   },
   {
    "duration": 8,
    "start_time": "2022-08-27T15:16:06.348Z"
   },
   {
    "duration": 71,
    "start_time": "2022-08-27T15:16:06.373Z"
   },
   {
    "duration": 7,
    "start_time": "2022-08-27T15:16:06.447Z"
   },
   {
    "duration": 66,
    "start_time": "2022-08-27T15:16:06.457Z"
   },
   {
    "duration": 75,
    "start_time": "2022-08-27T15:16:06.526Z"
   },
   {
    "duration": 74,
    "start_time": "2022-08-27T15:16:06.604Z"
   },
   {
    "duration": 40,
    "start_time": "2022-08-27T15:16:06.680Z"
   },
   {
    "duration": 264,
    "start_time": "2022-08-27T15:16:06.723Z"
   },
   {
    "duration": 17,
    "start_time": "2022-08-27T15:16:06.989Z"
   },
   {
    "duration": 26,
    "start_time": "2022-08-27T15:16:07.009Z"
   },
   {
    "duration": 71,
    "start_time": "2022-08-27T15:16:07.037Z"
   },
   {
    "duration": 21,
    "start_time": "2022-08-27T15:16:07.110Z"
   },
   {
    "duration": 22,
    "start_time": "2022-08-27T15:16:07.133Z"
   },
   {
    "duration": 26,
    "start_time": "2022-08-27T15:16:07.157Z"
   },
   {
    "duration": 26,
    "start_time": "2022-08-27T15:16:07.194Z"
   },
   {
    "duration": 12,
    "start_time": "2022-08-27T15:16:07.223Z"
   },
   {
    "duration": 151,
    "start_time": "2022-08-27T15:16:07.237Z"
   },
   {
    "duration": 81,
    "start_time": "2022-08-27T15:16:07.393Z"
   },
   {
    "duration": 921,
    "start_time": "2022-08-27T15:16:07.476Z"
   },
   {
    "duration": 9,
    "start_time": "2022-08-27T15:16:08.401Z"
   },
   {
    "duration": 6,
    "start_time": "2022-08-27T15:16:08.414Z"
   },
   {
    "duration": 178,
    "start_time": "2022-08-27T15:16:08.422Z"
   },
   {
    "duration": 141,
    "start_time": "2022-08-27T15:16:08.602Z"
   },
   {
    "duration": 9,
    "start_time": "2022-08-27T15:16:08.745Z"
   },
   {
    "duration": 26686,
    "start_time": "2022-08-27T15:16:08.756Z"
   },
   {
    "duration": 36,
    "start_time": "2022-08-27T15:16:35.443Z"
   },
   {
    "duration": 43,
    "start_time": "2022-08-27T15:16:35.481Z"
   },
   {
    "duration": 206,
    "start_time": "2022-08-27T15:16:35.527Z"
   },
   {
    "duration": 183,
    "start_time": "2022-08-27T15:16:35.735Z"
   },
   {
    "duration": 8,
    "start_time": "2022-08-27T15:16:35.921Z"
   },
   {
    "duration": 29505,
    "start_time": "2022-08-27T15:16:35.931Z"
   },
   {
    "duration": 13,
    "start_time": "2022-08-27T15:17:05.438Z"
   },
   {
    "duration": 28,
    "start_time": "2022-08-27T15:17:05.453Z"
   },
   {
    "duration": 213,
    "start_time": "2022-08-27T15:17:05.483Z"
   },
   {
    "duration": 166,
    "start_time": "2022-08-27T15:17:05.698Z"
   },
   {
    "duration": 18,
    "start_time": "2022-08-27T15:17:05.875Z"
   },
   {
    "duration": 7,
    "start_time": "2022-08-27T15:17:05.894Z"
   },
   {
    "duration": 11,
    "start_time": "2022-08-27T15:17:05.903Z"
   },
   {
    "duration": 19,
    "start_time": "2022-08-27T15:17:05.917Z"
   },
   {
    "duration": 7,
    "start_time": "2022-08-27T15:17:05.939Z"
   },
   {
    "duration": 32,
    "start_time": "2022-08-27T15:17:05.948Z"
   },
   {
    "duration": 12,
    "start_time": "2022-08-27T15:17:05.982Z"
   },
   {
    "duration": 11,
    "start_time": "2022-08-27T15:17:05.996Z"
   },
   {
    "duration": 37439,
    "start_time": "2022-08-27T15:17:06.010Z"
   },
   {
    "duration": 32,
    "start_time": "2022-08-27T15:17:43.451Z"
   },
   {
    "duration": 12,
    "start_time": "2022-08-27T15:17:43.485Z"
   },
   {
    "duration": 235,
    "start_time": "2022-08-27T15:17:43.501Z"
   },
   {
    "duration": 173,
    "start_time": "2022-08-27T15:17:43.738Z"
   },
   {
    "duration": 8,
    "start_time": "2022-08-27T15:17:43.913Z"
   },
   {
    "duration": 6,
    "start_time": "2022-08-27T15:17:43.923Z"
   },
   {
    "duration": 44,
    "start_time": "2022-08-27T15:17:43.932Z"
   },
   {
    "duration": 12,
    "start_time": "2022-08-27T15:17:43.979Z"
   },
   {
    "duration": 14,
    "start_time": "2022-08-27T15:17:43.993Z"
   },
   {
    "duration": 17245,
    "start_time": "2022-08-27T15:17:44.009Z"
   },
   {
    "duration": 36,
    "start_time": "2022-08-27T15:18:01.256Z"
   },
   {
    "duration": 29,
    "start_time": "2022-08-27T15:18:01.294Z"
   },
   {
    "duration": 247,
    "start_time": "2022-08-27T15:18:01.325Z"
   },
   {
    "duration": 188,
    "start_time": "2022-08-27T15:18:01.575Z"
   },
   {
    "duration": 18,
    "start_time": "2022-08-27T15:18:01.768Z"
   },
   {
    "duration": 19,
    "start_time": "2022-08-27T15:18:01.791Z"
   },
   {
    "duration": 40,
    "start_time": "2022-08-27T15:18:01.812Z"
   },
   {
    "duration": 168,
    "start_time": "2022-08-27T15:18:01.854Z"
   },
   {
    "duration": 7,
    "start_time": "2022-08-27T15:18:02.024Z"
   },
   {
    "duration": 40,
    "start_time": "2022-08-27T15:18:02.033Z"
   },
   {
    "duration": 7,
    "start_time": "2022-08-27T15:18:02.080Z"
   },
   {
    "duration": 17,
    "start_time": "2022-08-27T15:18:02.089Z"
   },
   {
    "duration": 171,
    "start_time": "2022-08-27T15:18:02.109Z"
   },
   {
    "duration": 163,
    "start_time": "2022-08-27T15:18:02.283Z"
   },
   {
    "duration": 17,
    "start_time": "2022-08-27T15:18:02.455Z"
   },
   {
    "duration": 173,
    "start_time": "2022-08-27T15:18:02.482Z"
   },
   {
    "duration": 9,
    "start_time": "2022-08-27T15:20:43.781Z"
   },
   {
    "duration": 80,
    "start_time": "2022-08-27T15:20:43.799Z"
   },
   {
    "duration": 14,
    "start_time": "2022-08-27T15:20:43.886Z"
   },
   {
    "duration": 74,
    "start_time": "2022-08-27T15:20:43.903Z"
   },
   {
    "duration": 7,
    "start_time": "2022-08-27T15:20:43.979Z"
   },
   {
    "duration": 24,
    "start_time": "2022-08-27T15:20:43.988Z"
   },
   {
    "duration": 13,
    "start_time": "2022-08-27T15:20:44.014Z"
   },
   {
    "duration": 228,
    "start_time": "2022-08-27T15:20:44.029Z"
   },
   {
    "duration": 222,
    "start_time": "2022-08-27T15:20:44.259Z"
   },
   {
    "duration": 8,
    "start_time": "2022-08-27T15:20:44.491Z"
   },
   {
    "duration": 16,
    "start_time": "2022-08-27T15:20:44.501Z"
   },
   {
    "duration": 12,
    "start_time": "2022-08-27T15:20:44.519Z"
   },
   {
    "duration": 166,
    "start_time": "2022-08-27T15:20:44.533Z"
   },
   {
    "duration": 6,
    "start_time": "2022-08-27T15:20:44.701Z"
   },
   {
    "duration": 32,
    "start_time": "2022-08-27T15:20:44.714Z"
   },
   {
    "duration": 25,
    "start_time": "2022-08-27T15:20:44.748Z"
   },
   {
    "duration": 31,
    "start_time": "2022-08-27T15:20:44.775Z"
   },
   {
    "duration": 6,
    "start_time": "2022-08-27T15:20:44.809Z"
   },
   {
    "duration": 30,
    "start_time": "2022-08-27T15:20:44.817Z"
   },
   {
    "duration": 7,
    "start_time": "2022-08-27T15:20:44.850Z"
   },
   {
    "duration": 291,
    "start_time": "2022-08-27T15:20:44.869Z"
   },
   {
    "duration": 22,
    "start_time": "2022-08-27T15:20:45.162Z"
   },
   {
    "duration": 15,
    "start_time": "2022-08-27T15:20:45.186Z"
   },
   {
    "duration": 17,
    "start_time": "2022-08-27T15:20:45.203Z"
   },
   {
    "duration": 11,
    "start_time": "2022-08-27T15:20:45.222Z"
   },
   {
    "duration": 13,
    "start_time": "2022-08-27T15:20:45.235Z"
   },
   {
    "duration": 41,
    "start_time": "2022-08-27T15:20:45.250Z"
   },
   {
    "duration": 23,
    "start_time": "2022-08-27T15:20:45.294Z"
   },
   {
    "duration": 13,
    "start_time": "2022-08-27T15:20:45.319Z"
   },
   {
    "duration": 46,
    "start_time": "2022-08-27T15:20:45.334Z"
   },
   {
    "duration": 12,
    "start_time": "2022-08-27T15:20:45.382Z"
   },
   {
    "duration": 997,
    "start_time": "2022-08-27T15:20:45.396Z"
   },
   {
    "duration": 8,
    "start_time": "2022-08-27T15:20:46.396Z"
   },
   {
    "duration": 4,
    "start_time": "2022-08-27T15:20:46.407Z"
   },
   {
    "duration": 221,
    "start_time": "2022-08-27T15:20:46.413Z"
   },
   {
    "duration": 163,
    "start_time": "2022-08-27T15:20:46.637Z"
   },
   {
    "duration": 8,
    "start_time": "2022-08-27T15:20:46.804Z"
   },
   {
    "duration": 26511,
    "start_time": "2022-08-27T15:20:46.815Z"
   },
   {
    "duration": 45,
    "start_time": "2022-08-27T15:21:13.328Z"
   },
   {
    "duration": 17,
    "start_time": "2022-08-27T15:21:13.377Z"
   },
   {
    "duration": 142,
    "start_time": "2022-08-27T15:21:13.397Z"
   },
   {
    "duration": 159,
    "start_time": "2022-08-27T15:21:13.544Z"
   },
   {
    "duration": 10,
    "start_time": "2022-08-27T15:21:13.705Z"
   },
   {
    "duration": 28134,
    "start_time": "2022-08-27T15:21:13.717Z"
   },
   {
    "duration": 34,
    "start_time": "2022-08-27T15:21:41.853Z"
   },
   {
    "duration": 27,
    "start_time": "2022-08-27T15:21:41.890Z"
   },
   {
    "duration": 219,
    "start_time": "2022-08-27T15:21:41.920Z"
   },
   {
    "duration": 187,
    "start_time": "2022-08-27T15:21:42.142Z"
   },
   {
    "duration": 8,
    "start_time": "2022-08-27T15:21:42.331Z"
   },
   {
    "duration": 7,
    "start_time": "2022-08-27T15:21:42.342Z"
   },
   {
    "duration": 44,
    "start_time": "2022-08-27T15:21:42.352Z"
   },
   {
    "duration": 23,
    "start_time": "2022-08-27T15:21:42.398Z"
   },
   {
    "duration": 8,
    "start_time": "2022-08-27T15:21:42.423Z"
   },
   {
    "duration": 15,
    "start_time": "2022-08-27T15:21:42.433Z"
   },
   {
    "duration": 27,
    "start_time": "2022-08-27T15:21:42.450Z"
   },
   {
    "duration": 32,
    "start_time": "2022-08-27T15:21:42.480Z"
   },
   {
    "duration": 37747,
    "start_time": "2022-08-27T15:21:42.514Z"
   },
   {
    "duration": 22,
    "start_time": "2022-08-27T15:22:20.273Z"
   },
   {
    "duration": 11,
    "start_time": "2022-08-27T15:22:20.297Z"
   },
   {
    "duration": 201,
    "start_time": "2022-08-27T15:22:20.311Z"
   },
   {
    "duration": 151,
    "start_time": "2022-08-27T15:22:20.514Z"
   },
   {
    "duration": 11,
    "start_time": "2022-08-27T15:22:20.666Z"
   },
   {
    "duration": 21,
    "start_time": "2022-08-27T15:22:20.679Z"
   },
   {
    "duration": 17,
    "start_time": "2022-08-27T15:22:20.703Z"
   },
   {
    "duration": 7,
    "start_time": "2022-08-27T15:22:20.722Z"
   },
   {
    "duration": 13,
    "start_time": "2022-08-27T15:22:20.731Z"
   },
   {
    "duration": 17690,
    "start_time": "2022-08-27T15:22:20.747Z"
   },
   {
    "duration": 42,
    "start_time": "2022-08-27T15:22:38.439Z"
   },
   {
    "duration": 15,
    "start_time": "2022-08-27T15:22:38.489Z"
   },
   {
    "duration": 178,
    "start_time": "2022-08-27T15:22:38.507Z"
   },
   {
    "duration": 164,
    "start_time": "2022-08-27T15:22:38.687Z"
   },
   {
    "duration": 19,
    "start_time": "2022-08-27T15:22:38.852Z"
   },
   {
    "duration": 11,
    "start_time": "2022-08-27T15:22:38.873Z"
   },
   {
    "duration": 18,
    "start_time": "2022-08-27T15:22:38.886Z"
   },
   {
    "duration": 155,
    "start_time": "2022-08-27T15:22:38.906Z"
   },
   {
    "duration": 20,
    "start_time": "2022-08-27T15:22:39.071Z"
   },
   {
    "duration": 30,
    "start_time": "2022-08-27T15:22:39.094Z"
   },
   {
    "duration": 12,
    "start_time": "2022-08-27T15:22:39.127Z"
   },
   {
    "duration": 12,
    "start_time": "2022-08-27T15:22:39.142Z"
   },
   {
    "duration": 168,
    "start_time": "2022-08-27T15:22:39.156Z"
   },
   {
    "duration": 172,
    "start_time": "2022-08-27T15:22:39.327Z"
   },
   {
    "duration": 9,
    "start_time": "2022-08-27T15:22:39.501Z"
   },
   {
    "duration": 249,
    "start_time": "2022-08-27T15:22:39.513Z"
   },
   {
    "duration": 141,
    "start_time": "2022-08-27T15:28:30.948Z"
   },
   {
    "duration": 17,
    "start_time": "2022-08-27T15:28:38.407Z"
   },
   {
    "duration": 8,
    "start_time": "2022-08-27T15:36:04.032Z"
   },
   {
    "duration": 77,
    "start_time": "2022-08-27T15:36:04.042Z"
   },
   {
    "duration": 12,
    "start_time": "2022-08-27T15:36:04.121Z"
   },
   {
    "duration": 56,
    "start_time": "2022-08-27T15:36:04.135Z"
   },
   {
    "duration": 6,
    "start_time": "2022-08-27T15:36:04.193Z"
   },
   {
    "duration": 11,
    "start_time": "2022-08-27T15:36:04.200Z"
   },
   {
    "duration": 7,
    "start_time": "2022-08-27T15:36:04.213Z"
   },
   {
    "duration": 264,
    "start_time": "2022-08-27T15:36:04.222Z"
   },
   {
    "duration": 335,
    "start_time": "2022-08-27T15:36:04.489Z"
   },
   {
    "duration": 6,
    "start_time": "2022-08-27T15:36:04.826Z"
   },
   {
    "duration": 12,
    "start_time": "2022-08-27T15:36:04.834Z"
   },
   {
    "duration": 25,
    "start_time": "2022-08-27T15:36:04.848Z"
   },
   {
    "duration": 163,
    "start_time": "2022-08-27T15:36:04.875Z"
   },
   {
    "duration": 5,
    "start_time": "2022-08-27T15:36:05.040Z"
   },
   {
    "duration": 49,
    "start_time": "2022-08-27T15:36:05.046Z"
   },
   {
    "duration": 5,
    "start_time": "2022-08-27T15:36:05.097Z"
   },
   {
    "duration": 12,
    "start_time": "2022-08-27T15:36:05.103Z"
   },
   {
    "duration": 9,
    "start_time": "2022-08-27T15:36:05.117Z"
   },
   {
    "duration": 4,
    "start_time": "2022-08-27T15:36:05.128Z"
   },
   {
    "duration": 54,
    "start_time": "2022-08-27T15:36:05.134Z"
   },
   {
    "duration": 4,
    "start_time": "2022-08-27T15:36:05.190Z"
   },
   {
    "duration": 181,
    "start_time": "2022-08-27T15:36:05.196Z"
   },
   {
    "duration": 9,
    "start_time": "2022-08-27T15:36:05.379Z"
   },
   {
    "duration": 6,
    "start_time": "2022-08-27T15:36:05.392Z"
   },
   {
    "duration": 18,
    "start_time": "2022-08-27T15:36:05.399Z"
   },
   {
    "duration": 8,
    "start_time": "2022-08-27T15:36:05.419Z"
   },
   {
    "duration": 19,
    "start_time": "2022-08-27T15:36:05.428Z"
   },
   {
    "duration": 33,
    "start_time": "2022-08-27T15:36:05.449Z"
   },
   {
    "duration": 18,
    "start_time": "2022-08-27T15:36:05.485Z"
   },
   {
    "duration": 19,
    "start_time": "2022-08-27T15:36:05.505Z"
   },
   {
    "duration": 50,
    "start_time": "2022-08-27T15:36:05.526Z"
   },
   {
    "duration": 114,
    "start_time": "2022-08-27T15:36:05.578Z"
   },
   {
    "duration": 962,
    "start_time": "2022-08-27T15:36:05.694Z"
   },
   {
    "duration": 13,
    "start_time": "2022-08-27T15:36:06.670Z"
   },
   {
    "duration": 40,
    "start_time": "2022-08-27T15:36:06.686Z"
   },
   {
    "duration": 231,
    "start_time": "2022-08-27T15:36:06.729Z"
   },
   {
    "duration": 158,
    "start_time": "2022-08-27T15:36:06.963Z"
   },
   {
    "duration": 7,
    "start_time": "2022-08-27T15:36:07.122Z"
   },
   {
    "duration": 25077,
    "start_time": "2022-08-27T15:36:07.131Z"
   },
   {
    "duration": 15,
    "start_time": "2022-08-27T15:36:32.210Z"
   },
   {
    "duration": 11,
    "start_time": "2022-08-27T15:36:32.226Z"
   },
   {
    "duration": 175,
    "start_time": "2022-08-27T15:36:32.239Z"
   },
   {
    "duration": 171,
    "start_time": "2022-08-27T15:36:32.416Z"
   },
   {
    "duration": 7,
    "start_time": "2022-08-27T15:36:32.589Z"
   },
   {
    "duration": 27599,
    "start_time": "2022-08-27T15:36:32.598Z"
   },
   {
    "duration": 14,
    "start_time": "2022-08-27T15:37:00.200Z"
   },
   {
    "duration": 62,
    "start_time": "2022-08-27T15:37:00.216Z"
   },
   {
    "duration": 391,
    "start_time": "2022-08-27T15:37:00.280Z"
   },
   {
    "duration": 332,
    "start_time": "2022-08-27T15:37:00.673Z"
   },
   {
    "duration": 7,
    "start_time": "2022-08-27T15:37:01.008Z"
   },
   {
    "duration": 7,
    "start_time": "2022-08-27T15:37:01.071Z"
   },
   {
    "duration": 37,
    "start_time": "2022-08-27T15:37:01.080Z"
   },
   {
    "duration": 50,
    "start_time": "2022-08-27T15:37:01.119Z"
   },
   {
    "duration": 52,
    "start_time": "2022-08-27T15:37:01.171Z"
   },
   {
    "duration": 53,
    "start_time": "2022-08-27T15:37:01.225Z"
   },
   {
    "duration": 10,
    "start_time": "2022-08-27T15:37:01.281Z"
   },
   {
    "duration": 37,
    "start_time": "2022-08-27T15:37:01.293Z"
   },
   {
    "duration": 43503,
    "start_time": "2022-08-27T15:37:01.332Z"
   },
   {
    "duration": 14,
    "start_time": "2022-08-27T15:37:44.837Z"
   },
   {
    "duration": 25,
    "start_time": "2022-08-27T15:37:44.853Z"
   },
   {
    "duration": 174,
    "start_time": "2022-08-27T15:37:44.880Z"
   },
   {
    "duration": 154,
    "start_time": "2022-08-27T15:37:45.056Z"
   },
   {
    "duration": 7,
    "start_time": "2022-08-27T15:37:45.212Z"
   },
   {
    "duration": 5,
    "start_time": "2022-08-27T15:37:45.221Z"
   },
   {
    "duration": 14,
    "start_time": "2022-08-27T15:37:45.227Z"
   },
   {
    "duration": 5,
    "start_time": "2022-08-27T15:37:45.242Z"
   },
   {
    "duration": 8,
    "start_time": "2022-08-27T15:37:45.271Z"
   },
   {
    "duration": 16038,
    "start_time": "2022-08-27T15:37:45.280Z"
   },
   {
    "duration": 15,
    "start_time": "2022-08-27T15:38:01.325Z"
   },
   {
    "duration": 29,
    "start_time": "2022-08-27T15:38:01.341Z"
   },
   {
    "duration": 239,
    "start_time": "2022-08-27T15:38:01.375Z"
   },
   {
    "duration": 168,
    "start_time": "2022-08-27T15:38:01.617Z"
   },
   {
    "duration": 8,
    "start_time": "2022-08-27T15:38:01.787Z"
   },
   {
    "duration": 27,
    "start_time": "2022-08-27T15:38:01.797Z"
   },
   {
    "duration": 10,
    "start_time": "2022-08-27T15:38:01.826Z"
   },
   {
    "duration": 147,
    "start_time": "2022-08-27T15:38:01.838Z"
   },
   {
    "duration": 17,
    "start_time": "2022-08-27T15:38:01.987Z"
   },
   {
    "duration": 26,
    "start_time": "2022-08-27T15:38:02.008Z"
   },
   {
    "duration": 7,
    "start_time": "2022-08-27T15:38:02.036Z"
   },
   {
    "duration": 12,
    "start_time": "2022-08-27T15:38:02.045Z"
   },
   {
    "duration": 187,
    "start_time": "2022-08-27T15:38:02.060Z"
   },
   {
    "duration": 175,
    "start_time": "2022-08-27T15:38:02.249Z"
   },
   {
    "duration": 7,
    "start_time": "2022-08-27T15:38:02.426Z"
   },
   {
    "duration": 238,
    "start_time": "2022-08-27T15:38:02.435Z"
   },
   {
    "duration": 12,
    "start_time": "2022-08-27T15:39:19.695Z"
   },
   {
    "duration": 62,
    "start_time": "2022-08-27T15:39:19.711Z"
   },
   {
    "duration": 19,
    "start_time": "2022-08-27T15:39:19.776Z"
   },
   {
    "duration": 227,
    "start_time": "2022-08-27T15:39:19.798Z"
   },
   {
    "duration": 7,
    "start_time": "2022-08-27T15:39:20.028Z"
   },
   {
    "duration": 18,
    "start_time": "2022-08-27T15:39:20.036Z"
   },
   {
    "duration": 13,
    "start_time": "2022-08-27T15:39:20.056Z"
   },
   {
    "duration": 264,
    "start_time": "2022-08-27T15:39:20.070Z"
   },
   {
    "duration": 236,
    "start_time": "2022-08-27T15:39:20.336Z"
   },
   {
    "duration": 9,
    "start_time": "2022-08-27T15:39:20.574Z"
   },
   {
    "duration": 47,
    "start_time": "2022-08-27T15:39:20.585Z"
   },
   {
    "duration": 15,
    "start_time": "2022-08-27T15:39:20.634Z"
   },
   {
    "duration": 176,
    "start_time": "2022-08-27T15:39:20.651Z"
   },
   {
    "duration": 5,
    "start_time": "2022-08-27T15:39:20.830Z"
   },
   {
    "duration": 35,
    "start_time": "2022-08-27T15:39:20.837Z"
   },
   {
    "duration": 43,
    "start_time": "2022-08-27T15:39:20.875Z"
   },
   {
    "duration": 13,
    "start_time": "2022-08-27T15:39:20.920Z"
   },
   {
    "duration": 8,
    "start_time": "2022-08-27T15:39:20.935Z"
   },
   {
    "duration": 5,
    "start_time": "2022-08-27T15:39:20.945Z"
   },
   {
    "duration": 37,
    "start_time": "2022-08-27T15:39:20.952Z"
   },
   {
    "duration": 30,
    "start_time": "2022-08-27T15:39:20.991Z"
   },
   {
    "duration": 217,
    "start_time": "2022-08-27T15:39:21.024Z"
   },
   {
    "duration": 11,
    "start_time": "2022-08-27T15:39:21.243Z"
   },
   {
    "duration": 8,
    "start_time": "2022-08-27T15:39:21.256Z"
   },
   {
    "duration": 66,
    "start_time": "2022-08-27T15:39:21.266Z"
   },
   {
    "duration": 12,
    "start_time": "2022-08-27T15:39:21.335Z"
   },
   {
    "duration": 16,
    "start_time": "2022-08-27T15:39:21.349Z"
   },
   {
    "duration": 60,
    "start_time": "2022-08-27T15:39:21.369Z"
   },
   {
    "duration": 18,
    "start_time": "2022-08-27T15:39:21.431Z"
   },
   {
    "duration": 11,
    "start_time": "2022-08-27T15:39:21.451Z"
   },
   {
    "duration": 106,
    "start_time": "2022-08-27T15:39:21.464Z"
   },
   {
    "duration": 145,
    "start_time": "2022-08-27T15:39:21.573Z"
   },
   {
    "duration": 1051,
    "start_time": "2022-08-27T15:39:21.723Z"
   },
   {
    "duration": 11,
    "start_time": "2022-08-27T15:39:22.777Z"
   },
   {
    "duration": 32,
    "start_time": "2022-08-27T15:39:22.790Z"
   },
   {
    "duration": 165,
    "start_time": "2022-08-27T15:39:22.824Z"
   },
   {
    "duration": 167,
    "start_time": "2022-08-27T15:39:22.991Z"
   },
   {
    "duration": 20,
    "start_time": "2022-08-27T15:39:23.160Z"
   },
   {
    "duration": 27566,
    "start_time": "2022-08-27T15:39:23.186Z"
   },
   {
    "duration": 35,
    "start_time": "2022-08-27T15:39:50.754Z"
   },
   {
    "duration": 90,
    "start_time": "2022-08-27T15:39:50.797Z"
   },
   {
    "duration": 181,
    "start_time": "2022-08-27T15:39:50.889Z"
   },
   {
    "duration": 157,
    "start_time": "2022-08-27T15:39:51.077Z"
   },
   {
    "duration": 7,
    "start_time": "2022-08-27T15:39:51.236Z"
   },
   {
    "duration": 29982,
    "start_time": "2022-08-27T15:39:51.244Z"
   },
   {
    "duration": 18,
    "start_time": "2022-08-27T15:40:21.228Z"
   },
   {
    "duration": 39,
    "start_time": "2022-08-27T15:40:21.248Z"
   },
   {
    "duration": 207,
    "start_time": "2022-08-27T15:40:21.289Z"
   },
   {
    "duration": 185,
    "start_time": "2022-08-27T15:40:21.499Z"
   },
   {
    "duration": 12,
    "start_time": "2022-08-27T15:40:21.687Z"
   },
   {
    "duration": 17,
    "start_time": "2022-08-27T15:40:21.706Z"
   },
   {
    "duration": 8,
    "start_time": "2022-08-27T15:40:21.726Z"
   },
   {
    "duration": 14,
    "start_time": "2022-08-27T15:40:21.736Z"
   },
   {
    "duration": 24,
    "start_time": "2022-08-27T15:40:21.753Z"
   },
   {
    "duration": 46,
    "start_time": "2022-08-27T15:40:21.780Z"
   },
   {
    "duration": 7,
    "start_time": "2022-08-27T15:40:21.829Z"
   },
   {
    "duration": 11,
    "start_time": "2022-08-27T15:40:21.838Z"
   },
   {
    "duration": 38869,
    "start_time": "2022-08-27T15:40:21.851Z"
   },
   {
    "duration": 14,
    "start_time": "2022-08-27T15:41:00.721Z"
   },
   {
    "duration": 89,
    "start_time": "2022-08-27T15:41:00.737Z"
   },
   {
    "duration": 249,
    "start_time": "2022-08-27T15:41:00.829Z"
   },
   {
    "duration": 159,
    "start_time": "2022-08-27T15:41:01.080Z"
   },
   {
    "duration": 6,
    "start_time": "2022-08-27T15:41:01.241Z"
   },
   {
    "duration": 25,
    "start_time": "2022-08-27T15:41:01.249Z"
   },
   {
    "duration": 50,
    "start_time": "2022-08-27T15:41:01.276Z"
   },
   {
    "duration": 30,
    "start_time": "2022-08-27T15:41:01.328Z"
   },
   {
    "duration": 64,
    "start_time": "2022-08-27T15:41:01.359Z"
   },
   {
    "duration": 16374,
    "start_time": "2022-08-27T15:41:01.425Z"
   },
   {
    "duration": 21,
    "start_time": "2022-08-27T15:41:17.805Z"
   },
   {
    "duration": 32,
    "start_time": "2022-08-27T15:41:17.832Z"
   },
   {
    "duration": 178,
    "start_time": "2022-08-27T15:41:17.866Z"
   },
   {
    "duration": 183,
    "start_time": "2022-08-27T15:41:18.047Z"
   },
   {
    "duration": 8,
    "start_time": "2022-08-27T15:41:18.231Z"
   },
   {
    "duration": 7,
    "start_time": "2022-08-27T15:41:18.241Z"
   },
   {
    "duration": 21,
    "start_time": "2022-08-27T15:41:18.249Z"
   },
   {
    "duration": 186,
    "start_time": "2022-08-27T15:41:18.272Z"
   },
   {
    "duration": 6,
    "start_time": "2022-08-27T15:41:18.459Z"
   },
   {
    "duration": 60,
    "start_time": "2022-08-27T15:41:18.471Z"
   },
   {
    "duration": 8,
    "start_time": "2022-08-27T15:41:18.533Z"
   },
   {
    "duration": 12,
    "start_time": "2022-08-27T15:41:18.543Z"
   },
   {
    "duration": 193,
    "start_time": "2022-08-27T15:41:18.557Z"
   },
   {
    "duration": 156,
    "start_time": "2022-08-27T15:41:18.751Z"
   },
   {
    "duration": 8,
    "start_time": "2022-08-27T15:41:18.909Z"
   },
   {
    "duration": 362,
    "start_time": "2022-08-27T15:41:18.919Z"
   },
   {
    "duration": 8,
    "start_time": "2022-08-27T15:47:01.387Z"
   },
   {
    "duration": 60,
    "start_time": "2022-08-27T15:47:01.397Z"
   },
   {
    "duration": 20,
    "start_time": "2022-08-27T15:47:01.459Z"
   },
   {
    "duration": 62,
    "start_time": "2022-08-27T15:47:01.485Z"
   },
   {
    "duration": 7,
    "start_time": "2022-08-27T15:47:01.548Z"
   },
   {
    "duration": 18,
    "start_time": "2022-08-27T15:47:01.568Z"
   },
   {
    "duration": 48,
    "start_time": "2022-08-27T15:47:01.590Z"
   },
   {
    "duration": 268,
    "start_time": "2022-08-27T15:47:01.640Z"
   },
   {
    "duration": 222,
    "start_time": "2022-08-27T15:47:01.910Z"
   },
   {
    "duration": 6,
    "start_time": "2022-08-27T15:47:02.134Z"
   },
   {
    "duration": 9,
    "start_time": "2022-08-27T15:47:02.142Z"
   },
   {
    "duration": 27,
    "start_time": "2022-08-27T15:47:02.152Z"
   },
   {
    "duration": 155,
    "start_time": "2022-08-27T15:47:02.181Z"
   },
   {
    "duration": 5,
    "start_time": "2022-08-27T15:47:02.338Z"
   },
   {
    "duration": 46,
    "start_time": "2022-08-27T15:47:02.344Z"
   },
   {
    "duration": 5,
    "start_time": "2022-08-27T15:47:02.392Z"
   },
   {
    "duration": 15,
    "start_time": "2022-08-27T15:47:02.398Z"
   },
   {
    "duration": 17,
    "start_time": "2022-08-27T15:47:02.414Z"
   },
   {
    "duration": 13,
    "start_time": "2022-08-27T15:47:02.433Z"
   },
   {
    "duration": 35,
    "start_time": "2022-08-27T15:47:02.448Z"
   },
   {
    "duration": 5,
    "start_time": "2022-08-27T15:47:02.485Z"
   },
   {
    "duration": 146,
    "start_time": "2022-08-27T15:47:02.492Z"
   },
   {
    "duration": 11,
    "start_time": "2022-08-27T15:47:02.640Z"
   },
   {
    "duration": 41,
    "start_time": "2022-08-27T15:47:02.653Z"
   },
   {
    "duration": 17,
    "start_time": "2022-08-27T15:47:02.696Z"
   },
   {
    "duration": 6,
    "start_time": "2022-08-27T15:47:02.714Z"
   },
   {
    "duration": 18,
    "start_time": "2022-08-27T15:47:02.721Z"
   },
   {
    "duration": 10,
    "start_time": "2022-08-27T15:47:02.743Z"
   },
   {
    "duration": 38,
    "start_time": "2022-08-27T15:47:02.755Z"
   },
   {
    "duration": 9,
    "start_time": "2022-08-27T15:47:02.795Z"
   },
   {
    "duration": 77,
    "start_time": "2022-08-27T15:47:02.806Z"
   },
   {
    "duration": 97,
    "start_time": "2022-08-27T15:47:02.885Z"
   },
   {
    "duration": 815,
    "start_time": "2022-08-27T15:47:02.988Z"
   },
   {
    "duration": 6,
    "start_time": "2022-08-27T15:47:03.805Z"
   },
   {
    "duration": 4,
    "start_time": "2022-08-27T15:47:03.812Z"
   },
   {
    "duration": 138,
    "start_time": "2022-08-27T15:47:03.818Z"
   },
   {
    "duration": 133,
    "start_time": "2022-08-27T15:47:03.958Z"
   },
   {
    "duration": 6,
    "start_time": "2022-08-27T15:47:04.093Z"
   },
   {
    "duration": 24316,
    "start_time": "2022-08-27T15:47:04.101Z"
   },
   {
    "duration": 14,
    "start_time": "2022-08-27T15:47:28.419Z"
   },
   {
    "duration": 12,
    "start_time": "2022-08-27T15:47:28.435Z"
   },
   {
    "duration": 133,
    "start_time": "2022-08-27T15:47:28.480Z"
   },
   {
    "duration": 133,
    "start_time": "2022-08-27T15:47:28.615Z"
   },
   {
    "duration": 6,
    "start_time": "2022-08-27T15:47:28.750Z"
   },
   {
    "duration": 24877,
    "start_time": "2022-08-27T15:47:28.768Z"
   },
   {
    "duration": 34,
    "start_time": "2022-08-27T15:47:53.646Z"
   },
   {
    "duration": 16,
    "start_time": "2022-08-27T15:47:53.684Z"
   },
   {
    "duration": 139,
    "start_time": "2022-08-27T15:47:53.702Z"
   },
   {
    "duration": 144,
    "start_time": "2022-08-27T15:47:53.843Z"
   },
   {
    "duration": 7,
    "start_time": "2022-08-27T15:47:53.988Z"
   },
   {
    "duration": 4,
    "start_time": "2022-08-27T15:47:53.997Z"
   },
   {
    "duration": 18,
    "start_time": "2022-08-27T15:47:54.003Z"
   },
   {
    "duration": 22,
    "start_time": "2022-08-27T15:47:54.023Z"
   },
   {
    "duration": 33,
    "start_time": "2022-08-27T15:47:54.047Z"
   },
   {
    "duration": 33,
    "start_time": "2022-08-27T15:47:54.082Z"
   },
   {
    "duration": 6,
    "start_time": "2022-08-27T15:47:54.117Z"
   },
   {
    "duration": 31,
    "start_time": "2022-08-27T15:47:54.125Z"
   },
   {
    "duration": 33834,
    "start_time": "2022-08-27T15:47:54.158Z"
   },
   {
    "duration": 18,
    "start_time": "2022-08-27T15:48:27.994Z"
   },
   {
    "duration": 12,
    "start_time": "2022-08-27T15:48:28.014Z"
   },
   {
    "duration": 186,
    "start_time": "2022-08-27T15:48:28.028Z"
   },
   {
    "duration": 145,
    "start_time": "2022-08-27T15:48:28.216Z"
   },
   {
    "duration": 19,
    "start_time": "2022-08-27T15:48:28.369Z"
   },
   {
    "duration": 9,
    "start_time": "2022-08-27T15:48:28.393Z"
   },
   {
    "duration": 13,
    "start_time": "2022-08-27T15:48:28.403Z"
   },
   {
    "duration": 7,
    "start_time": "2022-08-27T15:48:28.418Z"
   },
   {
    "duration": 7,
    "start_time": "2022-08-27T15:48:28.427Z"
   },
   {
    "duration": 15902,
    "start_time": "2022-08-27T15:48:28.436Z"
   },
   {
    "duration": 12,
    "start_time": "2022-08-27T15:48:44.340Z"
   },
   {
    "duration": 26,
    "start_time": "2022-08-27T15:48:44.371Z"
   },
   {
    "duration": 161,
    "start_time": "2022-08-27T15:48:44.400Z"
   },
   {
    "duration": 161,
    "start_time": "2022-08-27T15:48:44.563Z"
   },
   {
    "duration": 7,
    "start_time": "2022-08-27T15:48:44.726Z"
   },
   {
    "duration": 6,
    "start_time": "2022-08-27T15:48:44.735Z"
   },
   {
    "duration": 15,
    "start_time": "2022-08-27T15:48:44.743Z"
   },
   {
    "duration": 164,
    "start_time": "2022-08-27T15:48:44.760Z"
   },
   {
    "duration": 5,
    "start_time": "2022-08-27T15:48:44.926Z"
   },
   {
    "duration": 25,
    "start_time": "2022-08-27T15:48:44.933Z"
   },
   {
    "duration": 6,
    "start_time": "2022-08-27T15:48:44.960Z"
   },
   {
    "duration": 71,
    "start_time": "2022-08-27T15:48:44.970Z"
   },
   {
    "duration": 150,
    "start_time": "2022-08-27T15:48:45.043Z"
   },
   {
    "duration": 158,
    "start_time": "2022-08-27T15:48:45.201Z"
   },
   {
    "duration": 28,
    "start_time": "2022-08-27T15:48:45.360Z"
   },
   {
    "duration": 397,
    "start_time": "2022-08-27T15:48:45.390Z"
   },
   {
    "duration": 7,
    "start_time": "2022-08-27T16:16:10.033Z"
   },
   {
    "duration": 82,
    "start_time": "2022-08-27T16:16:10.042Z"
   },
   {
    "duration": 14,
    "start_time": "2022-08-27T16:16:10.125Z"
   },
   {
    "duration": 57,
    "start_time": "2022-08-27T16:16:10.141Z"
   },
   {
    "duration": 6,
    "start_time": "2022-08-27T16:16:10.201Z"
   },
   {
    "duration": 14,
    "start_time": "2022-08-27T16:16:10.209Z"
   },
   {
    "duration": 24,
    "start_time": "2022-08-27T16:16:10.225Z"
   },
   {
    "duration": 264,
    "start_time": "2022-08-27T16:16:10.251Z"
   },
   {
    "duration": 216,
    "start_time": "2022-08-27T16:16:10.517Z"
   },
   {
    "duration": 6,
    "start_time": "2022-08-27T16:16:10.736Z"
   },
   {
    "duration": 8,
    "start_time": "2022-08-27T16:16:10.743Z"
   },
   {
    "duration": 22,
    "start_time": "2022-08-27T16:16:10.753Z"
   },
   {
    "duration": 165,
    "start_time": "2022-08-27T16:16:10.777Z"
   },
   {
    "duration": 5,
    "start_time": "2022-08-27T16:16:10.945Z"
   },
   {
    "duration": 45,
    "start_time": "2022-08-27T16:16:10.952Z"
   },
   {
    "duration": 7,
    "start_time": "2022-08-27T16:16:10.999Z"
   },
   {
    "duration": 16,
    "start_time": "2022-08-27T16:16:11.008Z"
   },
   {
    "duration": 6,
    "start_time": "2022-08-27T16:16:11.027Z"
   },
   {
    "duration": 3,
    "start_time": "2022-08-27T16:16:11.035Z"
   },
   {
    "duration": 60,
    "start_time": "2022-08-27T16:16:11.040Z"
   },
   {
    "duration": 9,
    "start_time": "2022-08-27T16:16:11.102Z"
   },
   {
    "duration": 170,
    "start_time": "2022-08-27T16:16:11.113Z"
   },
   {
    "duration": 13,
    "start_time": "2022-08-27T16:16:11.285Z"
   },
   {
    "duration": 8,
    "start_time": "2022-08-27T16:16:11.301Z"
   },
   {
    "duration": 15,
    "start_time": "2022-08-27T16:16:11.310Z"
   },
   {
    "duration": 7,
    "start_time": "2022-08-27T16:16:11.326Z"
   },
   {
    "duration": 12,
    "start_time": "2022-08-27T16:16:11.335Z"
   },
   {
    "duration": 16,
    "start_time": "2022-08-27T16:16:11.369Z"
   },
   {
    "duration": 30,
    "start_time": "2022-08-27T16:16:11.387Z"
   },
   {
    "duration": 10,
    "start_time": "2022-08-27T16:16:11.419Z"
   },
   {
    "duration": 55,
    "start_time": "2022-08-27T16:16:11.431Z"
   },
   {
    "duration": 91,
    "start_time": "2022-08-27T16:16:11.497Z"
   },
   {
    "duration": 884,
    "start_time": "2022-08-27T16:16:11.592Z"
   },
   {
    "duration": 9,
    "start_time": "2022-08-27T16:16:12.478Z"
   },
   {
    "duration": 19,
    "start_time": "2022-08-27T16:16:12.488Z"
   },
   {
    "duration": 136,
    "start_time": "2022-08-27T16:16:12.509Z"
   },
   {
    "duration": 157,
    "start_time": "2022-08-27T16:16:12.647Z"
   },
   {
    "duration": 9,
    "start_time": "2022-08-27T16:16:12.806Z"
   },
   {
    "duration": 26997,
    "start_time": "2022-08-27T16:16:12.817Z"
   },
   {
    "duration": 15,
    "start_time": "2022-08-27T16:16:39.815Z"
   },
   {
    "duration": 17,
    "start_time": "2022-08-27T16:16:39.831Z"
   },
   {
    "duration": 162,
    "start_time": "2022-08-27T16:16:39.868Z"
   },
   {
    "duration": 144,
    "start_time": "2022-08-27T16:16:40.032Z"
   },
   {
    "duration": 11,
    "start_time": "2022-08-27T16:16:40.178Z"
   },
   {
    "duration": 8866,
    "start_time": "2022-08-27T16:16:40.191Z"
   },
   {
    "duration": 28,
    "start_time": "2022-08-27T16:16:49.059Z"
   },
   {
    "duration": 26,
    "start_time": "2022-08-27T16:16:49.090Z"
   },
   {
    "duration": 156,
    "start_time": "2022-08-27T16:16:49.118Z"
   },
   {
    "duration": 141,
    "start_time": "2022-08-27T16:16:49.281Z"
   },
   {
    "duration": 7,
    "start_time": "2022-08-27T16:16:49.425Z"
   },
   {
    "duration": 4,
    "start_time": "2022-08-27T16:16:49.434Z"
   },
   {
    "duration": 9,
    "start_time": "2022-08-27T16:16:49.439Z"
   },
   {
    "duration": 49,
    "start_time": "2022-08-27T16:16:49.450Z"
   },
   {
    "duration": 8,
    "start_time": "2022-08-27T16:16:49.501Z"
   },
   {
    "duration": 17,
    "start_time": "2022-08-27T16:16:49.511Z"
   },
   {
    "duration": 16,
    "start_time": "2022-08-27T16:16:49.530Z"
   },
   {
    "duration": 13,
    "start_time": "2022-08-27T16:16:49.548Z"
   },
   {
    "duration": 12092,
    "start_time": "2022-08-27T16:16:49.563Z"
   },
   {
    "duration": 23,
    "start_time": "2022-08-27T16:17:01.656Z"
   },
   {
    "duration": 61,
    "start_time": "2022-08-27T16:17:01.681Z"
   },
   {
    "duration": 223,
    "start_time": "2022-08-27T16:17:01.744Z"
   },
   {
    "duration": 159,
    "start_time": "2022-08-27T16:17:01.971Z"
   },
   {
    "duration": 7,
    "start_time": "2022-08-27T16:17:02.132Z"
   },
   {
    "duration": 130,
    "start_time": "2022-08-27T16:17:02.141Z"
   },
   {
    "duration": 63,
    "start_time": "2022-08-27T16:17:02.278Z"
   },
   {
    "duration": 9,
    "start_time": "2022-08-27T16:17:02.343Z"
   },
   {
    "duration": 63,
    "start_time": "2022-08-27T16:17:02.354Z"
   },
   {
    "duration": 5116,
    "start_time": "2022-08-27T16:17:02.419Z"
   },
   {
    "duration": 14,
    "start_time": "2022-08-27T16:17:07.538Z"
   },
   {
    "duration": 39,
    "start_time": "2022-08-27T16:17:07.568Z"
   },
   {
    "duration": 178,
    "start_time": "2022-08-27T16:17:07.609Z"
   },
   {
    "duration": 157,
    "start_time": "2022-08-27T16:17:07.789Z"
   },
   {
    "duration": 7,
    "start_time": "2022-08-27T16:17:07.947Z"
   },
   {
    "duration": 12,
    "start_time": "2022-08-27T16:17:07.956Z"
   },
   {
    "duration": 35,
    "start_time": "2022-08-27T16:17:07.970Z"
   },
   {
    "duration": 159,
    "start_time": "2022-08-27T16:17:08.007Z"
   },
   {
    "duration": 7,
    "start_time": "2022-08-27T16:17:08.168Z"
   },
   {
    "duration": 39,
    "start_time": "2022-08-27T16:17:08.177Z"
   },
   {
    "duration": 8,
    "start_time": "2022-08-27T16:17:08.218Z"
   },
   {
    "duration": 11,
    "start_time": "2022-08-27T16:17:08.228Z"
   },
   {
    "duration": 163,
    "start_time": "2022-08-27T16:17:08.241Z"
   },
   {
    "duration": 145,
    "start_time": "2022-08-27T16:17:08.409Z"
   },
   {
    "duration": 18,
    "start_time": "2022-08-27T16:17:08.556Z"
   },
   {
    "duration": 204,
    "start_time": "2022-08-27T16:17:08.576Z"
   },
   {
    "duration": 7,
    "start_time": "2022-08-27T16:19:50.160Z"
   },
   {
    "duration": 87,
    "start_time": "2022-08-27T16:19:50.170Z"
   },
   {
    "duration": 18,
    "start_time": "2022-08-27T16:19:50.258Z"
   },
   {
    "duration": 69,
    "start_time": "2022-08-27T16:19:50.280Z"
   },
   {
    "duration": 6,
    "start_time": "2022-08-27T16:19:50.351Z"
   },
   {
    "duration": 19,
    "start_time": "2022-08-27T16:19:50.359Z"
   },
   {
    "duration": 23,
    "start_time": "2022-08-27T16:19:50.384Z"
   },
   {
    "duration": 215,
    "start_time": "2022-08-27T16:19:50.409Z"
   },
   {
    "duration": 400,
    "start_time": "2022-08-27T16:19:50.626Z"
   },
   {
    "duration": 6,
    "start_time": "2022-08-27T16:19:51.030Z"
   },
   {
    "duration": 12,
    "start_time": "2022-08-27T16:19:51.038Z"
   },
   {
    "duration": 28,
    "start_time": "2022-08-27T16:19:51.051Z"
   },
   {
    "duration": 166,
    "start_time": "2022-08-27T16:19:51.081Z"
   },
   {
    "duration": 6,
    "start_time": "2022-08-27T16:19:51.249Z"
   },
   {
    "duration": 65,
    "start_time": "2022-08-27T16:19:51.268Z"
   },
   {
    "duration": 5,
    "start_time": "2022-08-27T16:19:51.335Z"
   },
   {
    "duration": 16,
    "start_time": "2022-08-27T16:19:51.341Z"
   },
   {
    "duration": 7,
    "start_time": "2022-08-27T16:19:51.358Z"
   },
   {
    "duration": 35,
    "start_time": "2022-08-27T16:19:51.367Z"
   },
   {
    "duration": 24,
    "start_time": "2022-08-27T16:19:51.404Z"
   },
   {
    "duration": 6,
    "start_time": "2022-08-27T16:19:51.430Z"
   },
   {
    "duration": 185,
    "start_time": "2022-08-27T16:19:51.438Z"
   },
   {
    "duration": 9,
    "start_time": "2022-08-27T16:19:51.625Z"
   },
   {
    "duration": 9,
    "start_time": "2022-08-27T16:19:51.637Z"
   },
   {
    "duration": 41,
    "start_time": "2022-08-27T16:19:51.648Z"
   },
   {
    "duration": 6,
    "start_time": "2022-08-27T16:19:51.692Z"
   },
   {
    "duration": 18,
    "start_time": "2022-08-27T16:19:51.700Z"
   },
   {
    "duration": 12,
    "start_time": "2022-08-27T16:19:51.723Z"
   },
   {
    "duration": 15,
    "start_time": "2022-08-27T16:19:51.736Z"
   },
   {
    "duration": 25,
    "start_time": "2022-08-27T16:19:51.753Z"
   },
   {
    "duration": 98,
    "start_time": "2022-08-27T16:19:51.780Z"
   },
   {
    "duration": 112,
    "start_time": "2022-08-27T16:19:51.879Z"
   },
   {
    "duration": 976,
    "start_time": "2022-08-27T16:19:51.996Z"
   },
   {
    "duration": 15,
    "start_time": "2022-08-27T16:19:52.978Z"
   },
   {
    "duration": 13,
    "start_time": "2022-08-27T16:19:52.995Z"
   },
   {
    "duration": 139,
    "start_time": "2022-08-27T16:19:53.010Z"
   },
   {
    "duration": 156,
    "start_time": "2022-08-27T16:19:53.150Z"
   },
   {
    "duration": 7,
    "start_time": "2022-08-27T16:19:53.308Z"
   },
   {
    "duration": 26938,
    "start_time": "2022-08-27T16:19:53.317Z"
   },
   {
    "duration": 32,
    "start_time": "2022-08-27T16:20:20.257Z"
   },
   {
    "duration": 17,
    "start_time": "2022-08-27T16:20:20.297Z"
   },
   {
    "duration": 141,
    "start_time": "2022-08-27T16:20:20.316Z"
   },
   {
    "duration": 143,
    "start_time": "2022-08-27T16:20:20.460Z"
   },
   {
    "duration": 7,
    "start_time": "2022-08-27T16:20:20.604Z"
   },
   {
    "duration": 27079,
    "start_time": "2022-08-27T16:20:20.613Z"
   },
   {
    "duration": 18,
    "start_time": "2022-08-27T16:20:47.696Z"
   },
   {
    "duration": 18,
    "start_time": "2022-08-27T16:20:47.716Z"
   },
   {
    "duration": 177,
    "start_time": "2022-08-27T16:20:47.736Z"
   },
   {
    "duration": 152,
    "start_time": "2022-08-27T16:20:47.915Z"
   },
   {
    "duration": 9,
    "start_time": "2022-08-27T16:20:48.070Z"
   },
   {
    "duration": 32,
    "start_time": "2022-08-27T16:20:48.081Z"
   },
   {
    "duration": 9,
    "start_time": "2022-08-27T16:20:48.115Z"
   },
   {
    "duration": 20,
    "start_time": "2022-08-27T16:20:48.127Z"
   },
   {
    "duration": 18,
    "start_time": "2022-08-27T16:20:48.148Z"
   },
   {
    "duration": 56,
    "start_time": "2022-08-27T16:20:48.168Z"
   },
   {
    "duration": 7,
    "start_time": "2022-08-27T16:20:48.227Z"
   },
   {
    "duration": 20,
    "start_time": "2022-08-27T16:20:48.237Z"
   },
   {
    "duration": 37281,
    "start_time": "2022-08-27T16:20:48.259Z"
   },
   {
    "duration": 32,
    "start_time": "2022-08-27T16:21:25.542Z"
   },
   {
    "duration": 58,
    "start_time": "2022-08-27T16:21:25.576Z"
   },
   {
    "duration": 182,
    "start_time": "2022-08-27T16:21:25.636Z"
   },
   {
    "duration": 148,
    "start_time": "2022-08-27T16:21:25.819Z"
   },
   {
    "duration": 11,
    "start_time": "2022-08-27T16:21:25.969Z"
   },
   {
    "duration": 41,
    "start_time": "2022-08-27T16:21:25.982Z"
   },
   {
    "duration": 19,
    "start_time": "2022-08-27T16:21:26.026Z"
   },
   {
    "duration": 59,
    "start_time": "2022-08-27T16:21:26.046Z"
   },
   {
    "duration": 17,
    "start_time": "2022-08-27T16:21:26.107Z"
   },
   {
    "duration": 16722,
    "start_time": "2022-08-27T16:21:26.126Z"
   },
   {
    "duration": 32,
    "start_time": "2022-08-27T16:21:42.849Z"
   },
   {
    "duration": 39,
    "start_time": "2022-08-27T16:21:42.884Z"
   },
   {
    "duration": 171,
    "start_time": "2022-08-27T16:21:42.924Z"
   },
   {
    "duration": 153,
    "start_time": "2022-08-27T16:21:43.097Z"
   },
   {
    "duration": 24,
    "start_time": "2022-08-27T16:21:43.252Z"
   },
   {
    "duration": 37,
    "start_time": "2022-08-27T16:21:43.277Z"
   },
   {
    "duration": 24,
    "start_time": "2022-08-27T16:21:43.316Z"
   },
   {
    "duration": 148,
    "start_time": "2022-08-27T16:21:43.342Z"
   },
   {
    "duration": 12,
    "start_time": "2022-08-27T16:21:43.492Z"
   },
   {
    "duration": 34,
    "start_time": "2022-08-27T16:21:43.509Z"
   },
   {
    "duration": 11,
    "start_time": "2022-08-27T16:21:43.545Z"
   },
   {
    "duration": 62,
    "start_time": "2022-08-27T16:21:43.558Z"
   },
   {
    "duration": 198,
    "start_time": "2022-08-27T16:21:43.623Z"
   },
   {
    "duration": 163,
    "start_time": "2022-08-27T16:21:43.827Z"
   },
   {
    "duration": 12,
    "start_time": "2022-08-27T16:21:43.991Z"
   },
   {
    "duration": 210,
    "start_time": "2022-08-27T16:21:44.005Z"
   },
   {
    "duration": 97,
    "start_time": "2022-08-27T16:29:18.550Z"
   },
   {
    "duration": 4,
    "start_time": "2022-08-27T16:57:58.296Z"
   },
   {
    "duration": 23,
    "start_time": "2022-08-27T16:58:16.162Z"
   },
   {
    "duration": 14,
    "start_time": "2022-08-27T17:05:33.133Z"
   },
   {
    "duration": 20,
    "start_time": "2022-08-27T17:06:10.170Z"
   },
   {
    "duration": 14,
    "start_time": "2022-08-27T17:08:32.820Z"
   },
   {
    "duration": 475,
    "start_time": "2022-08-27T17:09:58.882Z"
   },
   {
    "duration": 20,
    "start_time": "2022-08-27T17:14:32.770Z"
   },
   {
    "duration": 12,
    "start_time": "2022-08-27T17:20:59.375Z"
   },
   {
    "duration": 55,
    "start_time": "2022-08-27T17:20:59.393Z"
   },
   {
    "duration": 15,
    "start_time": "2022-08-27T17:20:59.449Z"
   },
   {
    "duration": 50,
    "start_time": "2022-08-27T17:20:59.466Z"
   },
   {
    "duration": 8,
    "start_time": "2022-08-27T17:20:59.518Z"
   },
   {
    "duration": 48,
    "start_time": "2022-08-27T17:20:59.529Z"
   },
   {
    "duration": 23,
    "start_time": "2022-08-27T17:20:59.579Z"
   },
   {
    "duration": 214,
    "start_time": "2022-08-27T17:20:59.604Z"
   },
   {
    "duration": 210,
    "start_time": "2022-08-27T17:20:59.820Z"
   },
   {
    "duration": 6,
    "start_time": "2022-08-27T17:21:00.032Z"
   },
   {
    "duration": 17,
    "start_time": "2022-08-27T17:21:00.040Z"
   },
   {
    "duration": 21,
    "start_time": "2022-08-27T17:21:00.059Z"
   },
   {
    "duration": 166,
    "start_time": "2022-08-27T17:21:00.082Z"
   },
   {
    "duration": 5,
    "start_time": "2022-08-27T17:21:00.250Z"
   },
   {
    "duration": 39,
    "start_time": "2022-08-27T17:21:00.267Z"
   },
   {
    "duration": 14,
    "start_time": "2022-08-27T17:21:00.308Z"
   },
   {
    "duration": 33,
    "start_time": "2022-08-27T17:21:00.324Z"
   },
   {
    "duration": 33,
    "start_time": "2022-08-27T17:21:00.358Z"
   },
   {
    "duration": 23,
    "start_time": "2022-08-27T17:21:00.393Z"
   },
   {
    "duration": 27,
    "start_time": "2022-08-27T17:21:00.418Z"
   },
   {
    "duration": 14,
    "start_time": "2022-08-27T17:21:00.447Z"
   },
   {
    "duration": 365,
    "start_time": "2022-08-27T17:21:00.463Z"
   },
   {
    "duration": 9,
    "start_time": "2022-08-27T17:21:00.830Z"
   },
   {
    "duration": 12,
    "start_time": "2022-08-27T17:21:00.841Z"
   },
   {
    "duration": 28,
    "start_time": "2022-08-27T17:21:00.854Z"
   },
   {
    "duration": 8,
    "start_time": "2022-08-27T17:21:00.884Z"
   },
   {
    "duration": 19,
    "start_time": "2022-08-27T17:21:00.893Z"
   },
   {
    "duration": 17,
    "start_time": "2022-08-27T17:21:00.914Z"
   },
   {
    "duration": 37,
    "start_time": "2022-08-27T17:21:00.933Z"
   },
   {
    "duration": 28,
    "start_time": "2022-08-27T17:21:00.973Z"
   },
   {
    "duration": 66,
    "start_time": "2022-08-27T17:21:01.003Z"
   },
   {
    "duration": 110,
    "start_time": "2022-08-27T17:21:01.070Z"
   },
   {
    "duration": 954,
    "start_time": "2022-08-27T17:21:01.182Z"
   },
   {
    "duration": 7,
    "start_time": "2022-08-27T17:21:02.138Z"
   },
   {
    "duration": 22,
    "start_time": "2022-08-27T17:21:02.146Z"
   },
   {
    "duration": 154,
    "start_time": "2022-08-27T17:21:02.169Z"
   },
   {
    "duration": 149,
    "start_time": "2022-08-27T17:21:02.325Z"
   },
   {
    "duration": 7,
    "start_time": "2022-08-27T17:21:02.476Z"
   },
   {
    "duration": 23510,
    "start_time": "2022-08-27T17:21:02.485Z"
   },
   {
    "duration": 15,
    "start_time": "2022-08-27T17:21:25.997Z"
   },
   {
    "duration": 12,
    "start_time": "2022-08-27T17:21:26.013Z"
   },
   {
    "duration": 164,
    "start_time": "2022-08-27T17:21:26.030Z"
   },
   {
    "duration": 146,
    "start_time": "2022-08-27T17:21:26.195Z"
   },
   {
    "duration": 9,
    "start_time": "2022-08-27T17:21:26.342Z"
   },
   {
    "duration": 23803,
    "start_time": "2022-08-27T17:21:26.353Z"
   },
   {
    "duration": 22,
    "start_time": "2022-08-27T17:21:50.158Z"
   },
   {
    "duration": 11,
    "start_time": "2022-08-27T17:21:50.182Z"
   },
   {
    "duration": 148,
    "start_time": "2022-08-27T17:21:50.195Z"
   },
   {
    "duration": 133,
    "start_time": "2022-08-27T17:21:50.345Z"
   },
   {
    "duration": 8,
    "start_time": "2022-08-27T17:21:50.480Z"
   },
   {
    "duration": 6,
    "start_time": "2022-08-27T17:21:50.490Z"
   },
   {
    "duration": 9,
    "start_time": "2022-08-27T17:21:50.498Z"
   },
   {
    "duration": 17,
    "start_time": "2022-08-27T17:21:50.509Z"
   },
   {
    "duration": 9,
    "start_time": "2022-08-27T17:21:50.527Z"
   },
   {
    "duration": 32,
    "start_time": "2022-08-27T17:21:50.538Z"
   },
   {
    "duration": 5,
    "start_time": "2022-08-27T17:21:50.573Z"
   },
   {
    "duration": 21,
    "start_time": "2022-08-27T17:21:50.579Z"
   },
   {
    "duration": 33453,
    "start_time": "2022-08-27T17:21:50.602Z"
   },
   {
    "duration": 18,
    "start_time": "2022-08-27T17:22:24.069Z"
   },
   {
    "duration": 22,
    "start_time": "2022-08-27T17:22:24.089Z"
   },
   {
    "duration": 176,
    "start_time": "2022-08-27T17:22:24.114Z"
   },
   {
    "duration": 174,
    "start_time": "2022-08-27T17:22:24.293Z"
   },
   {
    "duration": 9,
    "start_time": "2022-08-27T17:22:24.470Z"
   },
   {
    "duration": 14,
    "start_time": "2022-08-27T17:22:24.482Z"
   },
   {
    "duration": 26,
    "start_time": "2022-08-27T17:22:24.498Z"
   },
   {
    "duration": 27,
    "start_time": "2022-08-27T17:22:24.527Z"
   },
   {
    "duration": 59,
    "start_time": "2022-08-27T17:22:24.557Z"
   },
   {
    "duration": 14346,
    "start_time": "2022-08-27T17:22:24.618Z"
   },
   {
    "duration": 13,
    "start_time": "2022-08-27T17:22:38.969Z"
   },
   {
    "duration": 9,
    "start_time": "2022-08-27T17:22:38.984Z"
   },
   {
    "duration": 158,
    "start_time": "2022-08-27T17:22:38.995Z"
   },
   {
    "duration": 143,
    "start_time": "2022-08-27T17:22:39.155Z"
   },
   {
    "duration": 8,
    "start_time": "2022-08-27T17:22:39.300Z"
   },
   {
    "duration": 6,
    "start_time": "2022-08-27T17:22:39.310Z"
   },
   {
    "duration": 9,
    "start_time": "2022-08-27T17:22:39.318Z"
   },
   {
    "duration": 146,
    "start_time": "2022-08-27T17:22:39.329Z"
   },
   {
    "duration": 5,
    "start_time": "2022-08-27T17:22:39.477Z"
   },
   {
    "duration": 22,
    "start_time": "2022-08-27T17:22:39.484Z"
   },
   {
    "duration": 8,
    "start_time": "2022-08-27T17:22:39.509Z"
   },
   {
    "duration": 15,
    "start_time": "2022-08-27T17:22:39.519Z"
   },
   {
    "duration": 173,
    "start_time": "2022-08-27T17:22:39.537Z"
   },
   {
    "duration": 147,
    "start_time": "2022-08-27T17:22:39.713Z"
   },
   {
    "duration": 11,
    "start_time": "2022-08-27T17:22:39.862Z"
   },
   {
    "duration": 189,
    "start_time": "2022-08-27T17:22:39.875Z"
   },
   {
    "duration": 18,
    "start_time": "2022-08-27T17:22:40.066Z"
   },
   {
    "duration": 475,
    "start_time": "2022-08-27T17:22:40.086Z"
   },
   {
    "duration": 3,
    "start_time": "2022-08-27T17:35:55.207Z"
   },
   {
    "duration": 8,
    "start_time": "2022-08-27T17:36:19.459Z"
   },
   {
    "duration": 79,
    "start_time": "2022-08-27T17:36:19.470Z"
   },
   {
    "duration": 13,
    "start_time": "2022-08-27T17:36:19.551Z"
   },
   {
    "duration": 42,
    "start_time": "2022-08-27T17:36:19.566Z"
   },
   {
    "duration": 7,
    "start_time": "2022-08-27T17:36:19.610Z"
   },
   {
    "duration": 12,
    "start_time": "2022-08-27T17:36:19.619Z"
   },
   {
    "duration": 38,
    "start_time": "2022-08-27T17:36:19.633Z"
   },
   {
    "duration": 229,
    "start_time": "2022-08-27T17:36:19.673Z"
   },
   {
    "duration": 213,
    "start_time": "2022-08-27T17:36:19.905Z"
   },
   {
    "duration": 6,
    "start_time": "2022-08-27T17:36:20.121Z"
   },
   {
    "duration": 8,
    "start_time": "2022-08-27T17:36:20.129Z"
   },
   {
    "duration": 32,
    "start_time": "2022-08-27T17:36:20.139Z"
   },
   {
    "duration": 157,
    "start_time": "2022-08-27T17:36:20.173Z"
   },
   {
    "duration": 5,
    "start_time": "2022-08-27T17:36:20.332Z"
   },
   {
    "duration": 57,
    "start_time": "2022-08-27T17:36:20.339Z"
   },
   {
    "duration": 6,
    "start_time": "2022-08-27T17:36:20.398Z"
   },
   {
    "duration": 51,
    "start_time": "2022-08-27T17:36:20.406Z"
   },
   {
    "duration": 12,
    "start_time": "2022-08-27T17:36:20.458Z"
   },
   {
    "duration": 24,
    "start_time": "2022-08-27T17:36:20.472Z"
   },
   {
    "duration": 28,
    "start_time": "2022-08-27T17:36:20.498Z"
   },
   {
    "duration": 5,
    "start_time": "2022-08-27T17:36:20.528Z"
   },
   {
    "duration": 163,
    "start_time": "2022-08-27T17:36:20.535Z"
   },
   {
    "duration": 9,
    "start_time": "2022-08-27T17:36:20.700Z"
   },
   {
    "duration": 7,
    "start_time": "2022-08-27T17:36:20.714Z"
   },
   {
    "duration": 48,
    "start_time": "2022-08-27T17:36:20.724Z"
   },
   {
    "duration": 8,
    "start_time": "2022-08-27T17:36:20.774Z"
   },
   {
    "duration": 25,
    "start_time": "2022-08-27T17:36:20.784Z"
   },
   {
    "duration": 19,
    "start_time": "2022-08-27T17:36:20.812Z"
   },
   {
    "duration": 52,
    "start_time": "2022-08-27T17:36:20.834Z"
   },
   {
    "duration": 12,
    "start_time": "2022-08-27T17:36:20.889Z"
   },
   {
    "duration": 73,
    "start_time": "2022-08-27T17:36:20.904Z"
   },
   {
    "duration": 102,
    "start_time": "2022-08-27T17:36:20.980Z"
   },
   {
    "duration": 942,
    "start_time": "2022-08-27T17:36:21.087Z"
   },
   {
    "duration": 8,
    "start_time": "2022-08-27T17:36:22.031Z"
   },
   {
    "duration": 5,
    "start_time": "2022-08-27T17:36:22.041Z"
   },
   {
    "duration": 183,
    "start_time": "2022-08-27T17:36:22.048Z"
   },
   {
    "duration": 175,
    "start_time": "2022-08-27T17:36:22.233Z"
   },
   {
    "duration": 7,
    "start_time": "2022-08-27T17:36:22.410Z"
   },
   {
    "duration": 25852,
    "start_time": "2022-08-27T17:36:22.419Z"
   },
   {
    "duration": 15,
    "start_time": "2022-08-27T17:36:48.273Z"
   },
   {
    "duration": 19,
    "start_time": "2022-08-27T17:36:48.290Z"
   },
   {
    "duration": 153,
    "start_time": "2022-08-27T17:36:48.311Z"
   },
   {
    "duration": 137,
    "start_time": "2022-08-27T17:36:48.467Z"
   },
   {
    "duration": 7,
    "start_time": "2022-08-27T17:36:48.605Z"
   },
   {
    "duration": 25537,
    "start_time": "2022-08-27T17:36:48.614Z"
   },
   {
    "duration": 25,
    "start_time": "2022-08-27T17:37:14.153Z"
   },
   {
    "duration": 20,
    "start_time": "2022-08-27T17:37:14.180Z"
   },
   {
    "duration": 149,
    "start_time": "2022-08-27T17:37:14.201Z"
   },
   {
    "duration": 148,
    "start_time": "2022-08-27T17:37:14.352Z"
   },
   {
    "duration": 6,
    "start_time": "2022-08-27T17:37:14.502Z"
   },
   {
    "duration": 4,
    "start_time": "2022-08-27T17:37:14.510Z"
   },
   {
    "duration": 8,
    "start_time": "2022-08-27T17:37:14.516Z"
   },
   {
    "duration": 13,
    "start_time": "2022-08-27T17:37:14.526Z"
   },
   {
    "duration": 7,
    "start_time": "2022-08-27T17:37:14.569Z"
   },
   {
    "duration": 20,
    "start_time": "2022-08-27T17:37:14.578Z"
   },
   {
    "duration": 7,
    "start_time": "2022-08-27T17:37:14.600Z"
   },
   {
    "duration": 10,
    "start_time": "2022-08-27T17:37:14.609Z"
   },
   {
    "duration": 35320,
    "start_time": "2022-08-27T17:37:14.620Z"
   },
   {
    "duration": 28,
    "start_time": "2022-08-27T17:37:49.941Z"
   },
   {
    "duration": 11,
    "start_time": "2022-08-27T17:37:49.972Z"
   },
   {
    "duration": 151,
    "start_time": "2022-08-27T17:37:49.986Z"
   },
   {
    "duration": 142,
    "start_time": "2022-08-27T17:37:50.139Z"
   },
   {
    "duration": 7,
    "start_time": "2022-08-27T17:37:50.283Z"
   },
   {
    "duration": 5,
    "start_time": "2022-08-27T17:37:50.291Z"
   },
   {
    "duration": 15,
    "start_time": "2022-08-27T17:37:50.298Z"
   },
   {
    "duration": 7,
    "start_time": "2022-08-27T17:37:50.314Z"
   },
   {
    "duration": 10,
    "start_time": "2022-08-27T17:37:50.323Z"
   },
   {
    "duration": 14525,
    "start_time": "2022-08-27T17:37:50.335Z"
   },
   {
    "duration": 17,
    "start_time": "2022-08-27T17:38:04.875Z"
   },
   {
    "duration": 17,
    "start_time": "2022-08-27T17:38:04.894Z"
   },
   {
    "duration": 158,
    "start_time": "2022-08-27T17:38:04.913Z"
   },
   {
    "duration": 147,
    "start_time": "2022-08-27T17:38:05.074Z"
   },
   {
    "duration": 7,
    "start_time": "2022-08-27T17:38:05.223Z"
   },
   {
    "duration": 5,
    "start_time": "2022-08-27T17:38:05.232Z"
   },
   {
    "duration": 30,
    "start_time": "2022-08-27T17:38:05.238Z"
   },
   {
    "duration": 140,
    "start_time": "2022-08-27T17:38:05.270Z"
   },
   {
    "duration": 6,
    "start_time": "2022-08-27T17:38:05.413Z"
   },
   {
    "duration": 21,
    "start_time": "2022-08-27T17:38:05.420Z"
   },
   {
    "duration": 9,
    "start_time": "2022-08-27T17:38:05.442Z"
   },
   {
    "duration": 34,
    "start_time": "2022-08-27T17:38:05.453Z"
   },
   {
    "duration": 152,
    "start_time": "2022-08-27T17:38:05.489Z"
   },
   {
    "duration": 148,
    "start_time": "2022-08-27T17:38:05.643Z"
   },
   {
    "duration": 8,
    "start_time": "2022-08-27T17:38:05.793Z"
   },
   {
    "duration": 208,
    "start_time": "2022-08-27T17:38:05.802Z"
   },
   {
    "duration": 14,
    "start_time": "2022-08-27T17:38:06.012Z"
   },
   {
    "duration": 418,
    "start_time": "2022-08-27T17:38:06.028Z"
   },
   {
    "duration": 8,
    "start_time": "2022-08-27T17:41:26.295Z"
   },
   {
    "duration": 54,
    "start_time": "2022-08-27T17:41:26.305Z"
   },
   {
    "duration": 14,
    "start_time": "2022-08-27T17:41:26.361Z"
   },
   {
    "duration": 41,
    "start_time": "2022-08-27T17:41:26.377Z"
   },
   {
    "duration": 7,
    "start_time": "2022-08-27T17:41:26.419Z"
   },
   {
    "duration": 43,
    "start_time": "2022-08-27T17:41:26.427Z"
   },
   {
    "duration": 13,
    "start_time": "2022-08-27T17:41:26.472Z"
   },
   {
    "duration": 291,
    "start_time": "2022-08-27T17:41:26.488Z"
   },
   {
    "duration": 205,
    "start_time": "2022-08-27T17:41:26.781Z"
   },
   {
    "duration": 6,
    "start_time": "2022-08-27T17:41:26.990Z"
   },
   {
    "duration": 8,
    "start_time": "2022-08-27T17:41:26.998Z"
   },
   {
    "duration": 12,
    "start_time": "2022-08-27T17:41:27.007Z"
   },
   {
    "duration": 162,
    "start_time": "2022-08-27T17:41:27.021Z"
   },
   {
    "duration": 5,
    "start_time": "2022-08-27T17:41:27.185Z"
   },
   {
    "duration": 28,
    "start_time": "2022-08-27T17:41:27.191Z"
   },
   {
    "duration": 7,
    "start_time": "2022-08-27T17:41:27.221Z"
   },
   {
    "duration": 12,
    "start_time": "2022-08-27T17:41:27.229Z"
   },
   {
    "duration": 8,
    "start_time": "2022-08-27T17:41:27.243Z"
   },
   {
    "duration": 2,
    "start_time": "2022-08-27T17:41:27.269Z"
   },
   {
    "duration": 24,
    "start_time": "2022-08-27T17:41:27.273Z"
   },
   {
    "duration": 6,
    "start_time": "2022-08-27T17:41:27.299Z"
   },
   {
    "duration": 179,
    "start_time": "2022-08-27T17:41:27.307Z"
   },
   {
    "duration": 9,
    "start_time": "2022-08-27T17:41:27.489Z"
   },
   {
    "duration": 12,
    "start_time": "2022-08-27T17:41:27.500Z"
   },
   {
    "duration": 16,
    "start_time": "2022-08-27T17:41:27.514Z"
   },
   {
    "duration": 8,
    "start_time": "2022-08-27T17:41:27.533Z"
   },
   {
    "duration": 33,
    "start_time": "2022-08-27T17:41:27.543Z"
   },
   {
    "duration": 14,
    "start_time": "2022-08-27T17:41:27.580Z"
   },
   {
    "duration": 14,
    "start_time": "2022-08-27T17:41:27.596Z"
   },
   {
    "duration": 10,
    "start_time": "2022-08-27T17:41:27.612Z"
   },
   {
    "duration": 47,
    "start_time": "2022-08-27T17:41:27.624Z"
   },
   {
    "duration": 96,
    "start_time": "2022-08-27T17:41:27.672Z"
   },
   {
    "duration": 806,
    "start_time": "2022-08-27T17:41:27.770Z"
   },
   {
    "duration": 7,
    "start_time": "2022-08-27T17:41:28.577Z"
   },
   {
    "duration": 6,
    "start_time": "2022-08-27T17:41:28.586Z"
   },
   {
    "duration": 142,
    "start_time": "2022-08-27T17:41:28.594Z"
   },
   {
    "duration": 145,
    "start_time": "2022-08-27T17:41:28.738Z"
   },
   {
    "duration": 6,
    "start_time": "2022-08-27T17:41:28.885Z"
   },
   {
    "duration": 22547,
    "start_time": "2022-08-27T17:41:28.893Z"
   },
   {
    "duration": 30,
    "start_time": "2022-08-27T17:41:51.442Z"
   },
   {
    "duration": 13,
    "start_time": "2022-08-27T17:41:51.473Z"
   },
   {
    "duration": 167,
    "start_time": "2022-08-27T17:41:51.487Z"
   },
   {
    "duration": 135,
    "start_time": "2022-08-27T17:41:51.655Z"
   },
   {
    "duration": 7,
    "start_time": "2022-08-27T17:41:51.792Z"
   },
   {
    "duration": 22967,
    "start_time": "2022-08-27T17:41:51.801Z"
   },
   {
    "duration": 16,
    "start_time": "2022-08-27T17:42:14.770Z"
   },
   {
    "duration": 10,
    "start_time": "2022-08-27T17:42:14.788Z"
   },
   {
    "duration": 148,
    "start_time": "2022-08-27T17:42:14.800Z"
   },
   {
    "duration": 137,
    "start_time": "2022-08-27T17:42:14.950Z"
   },
   {
    "duration": 8,
    "start_time": "2022-08-27T17:42:15.088Z"
   },
   {
    "duration": 5,
    "start_time": "2022-08-27T17:42:15.098Z"
   },
   {
    "duration": 12,
    "start_time": "2022-08-27T17:42:15.105Z"
   },
   {
    "duration": 17,
    "start_time": "2022-08-27T17:42:15.118Z"
   },
   {
    "duration": 10,
    "start_time": "2022-08-27T17:42:15.136Z"
   },
   {
    "duration": 12,
    "start_time": "2022-08-27T17:42:15.167Z"
   },
   {
    "duration": 5,
    "start_time": "2022-08-27T17:42:15.181Z"
   },
   {
    "duration": 17,
    "start_time": "2022-08-27T17:42:15.188Z"
   },
   {
    "duration": 32251,
    "start_time": "2022-08-27T17:42:15.207Z"
   },
   {
    "duration": 14,
    "start_time": "2022-08-27T17:42:47.467Z"
   },
   {
    "duration": 10,
    "start_time": "2022-08-27T17:42:47.483Z"
   },
   {
    "duration": 163,
    "start_time": "2022-08-27T17:42:47.496Z"
   },
   {
    "duration": 146,
    "start_time": "2022-08-27T17:42:47.661Z"
   },
   {
    "duration": 7,
    "start_time": "2022-08-27T17:42:47.809Z"
   },
   {
    "duration": 38,
    "start_time": "2022-08-27T17:42:47.818Z"
   },
   {
    "duration": 55,
    "start_time": "2022-08-27T17:42:47.858Z"
   },
   {
    "duration": 32,
    "start_time": "2022-08-27T17:42:47.916Z"
   },
   {
    "duration": 45,
    "start_time": "2022-08-27T17:42:47.951Z"
   },
   {
    "duration": 14639,
    "start_time": "2022-08-27T17:42:47.998Z"
   },
   {
    "duration": 29,
    "start_time": "2022-08-27T17:43:02.640Z"
   },
   {
    "duration": 12,
    "start_time": "2022-08-27T17:43:02.671Z"
   },
   {
    "duration": 152,
    "start_time": "2022-08-27T17:43:02.685Z"
   },
   {
    "duration": 142,
    "start_time": "2022-08-27T17:43:02.839Z"
   },
   {
    "duration": 8,
    "start_time": "2022-08-27T17:43:02.983Z"
   },
   {
    "duration": 10,
    "start_time": "2022-08-27T17:43:02.992Z"
   },
   {
    "duration": 14,
    "start_time": "2022-08-27T17:43:03.005Z"
   },
   {
    "duration": 149,
    "start_time": "2022-08-27T17:43:03.021Z"
   },
   {
    "duration": 5,
    "start_time": "2022-08-27T17:43:03.172Z"
   },
   {
    "duration": 15,
    "start_time": "2022-08-27T17:43:03.179Z"
   },
   {
    "duration": 9,
    "start_time": "2022-08-27T17:43:03.196Z"
   },
   {
    "duration": 12,
    "start_time": "2022-08-27T17:43:03.207Z"
   },
   {
    "duration": 188,
    "start_time": "2022-08-27T17:43:03.221Z"
   },
   {
    "duration": 141,
    "start_time": "2022-08-27T17:43:03.416Z"
   },
   {
    "duration": 12,
    "start_time": "2022-08-27T17:43:03.560Z"
   },
   {
    "duration": 397,
    "start_time": "2022-08-27T17:43:03.574Z"
   },
   {
    "duration": 15,
    "start_time": "2022-08-27T17:43:03.973Z"
   },
   {
    "duration": 453,
    "start_time": "2022-08-27T17:43:03.990Z"
   },
   {
    "duration": 9,
    "start_time": "2022-08-27T17:47:19.479Z"
   },
   {
    "duration": 55,
    "start_time": "2022-08-27T17:47:19.490Z"
   },
   {
    "duration": 14,
    "start_time": "2022-08-27T17:47:19.547Z"
   },
   {
    "duration": 44,
    "start_time": "2022-08-27T17:47:19.563Z"
   },
   {
    "duration": 6,
    "start_time": "2022-08-27T17:47:19.609Z"
   },
   {
    "duration": 12,
    "start_time": "2022-08-27T17:47:19.617Z"
   },
   {
    "duration": 9,
    "start_time": "2022-08-27T17:47:19.667Z"
   },
   {
    "duration": 230,
    "start_time": "2022-08-27T17:47:19.678Z"
   },
   {
    "duration": 191,
    "start_time": "2022-08-27T17:47:19.910Z"
   },
   {
    "duration": 6,
    "start_time": "2022-08-27T17:47:20.103Z"
   },
   {
    "duration": 8,
    "start_time": "2022-08-27T17:47:20.110Z"
   },
   {
    "duration": 8,
    "start_time": "2022-08-27T17:47:20.119Z"
   },
   {
    "duration": 158,
    "start_time": "2022-08-27T17:47:20.129Z"
   },
   {
    "duration": 5,
    "start_time": "2022-08-27T17:47:20.289Z"
   },
   {
    "duration": 26,
    "start_time": "2022-08-27T17:47:20.295Z"
   },
   {
    "duration": 5,
    "start_time": "2022-08-27T17:47:20.323Z"
   },
   {
    "duration": 11,
    "start_time": "2022-08-27T17:47:20.329Z"
   },
   {
    "duration": 27,
    "start_time": "2022-08-27T17:47:20.342Z"
   },
   {
    "duration": 3,
    "start_time": "2022-08-27T17:47:20.371Z"
   },
   {
    "duration": 22,
    "start_time": "2022-08-27T17:47:20.375Z"
   },
   {
    "duration": 4,
    "start_time": "2022-08-27T17:47:20.399Z"
   },
   {
    "duration": 155,
    "start_time": "2022-08-27T17:47:20.405Z"
   },
   {
    "duration": 7,
    "start_time": "2022-08-27T17:47:20.567Z"
   },
   {
    "duration": 4,
    "start_time": "2022-08-27T17:47:20.576Z"
   },
   {
    "duration": 16,
    "start_time": "2022-08-27T17:47:20.582Z"
   },
   {
    "duration": 5,
    "start_time": "2022-08-27T17:47:20.600Z"
   },
   {
    "duration": 10,
    "start_time": "2022-08-27T17:47:20.607Z"
   },
   {
    "duration": 11,
    "start_time": "2022-08-27T17:47:20.621Z"
   },
   {
    "duration": 46,
    "start_time": "2022-08-27T17:47:20.633Z"
   },
   {
    "duration": 9,
    "start_time": "2022-08-27T17:47:20.681Z"
   },
   {
    "duration": 15,
    "start_time": "2022-08-27T17:47:20.692Z"
   },
   {
    "duration": 64,
    "start_time": "2022-08-27T17:47:20.709Z"
   },
   {
    "duration": 897,
    "start_time": "2022-08-27T17:47:20.774Z"
   },
   {
    "duration": 7,
    "start_time": "2022-08-27T17:47:21.673Z"
   },
   {
    "duration": 7,
    "start_time": "2022-08-27T17:47:21.681Z"
   },
   {
    "duration": 145,
    "start_time": "2022-08-27T17:47:21.689Z"
   },
   {
    "duration": 123,
    "start_time": "2022-08-27T17:47:21.836Z"
   },
   {
    "duration": 6,
    "start_time": "2022-08-27T17:47:21.967Z"
   },
   {
    "duration": 23180,
    "start_time": "2022-08-27T17:47:21.975Z"
   },
   {
    "duration": 22,
    "start_time": "2022-08-27T17:47:45.156Z"
   },
   {
    "duration": 10,
    "start_time": "2022-08-27T17:47:45.180Z"
   },
   {
    "duration": 142,
    "start_time": "2022-08-27T17:47:45.191Z"
   },
   {
    "duration": 135,
    "start_time": "2022-08-27T17:47:45.335Z"
   },
   {
    "duration": 7,
    "start_time": "2022-08-27T17:47:45.471Z"
   },
   {
    "duration": 22942,
    "start_time": "2022-08-27T17:47:45.480Z"
   },
   {
    "duration": 13,
    "start_time": "2022-08-27T17:48:08.424Z"
   },
   {
    "duration": 29,
    "start_time": "2022-08-27T17:48:08.439Z"
   },
   {
    "duration": 144,
    "start_time": "2022-08-27T17:48:08.470Z"
   },
   {
    "duration": 142,
    "start_time": "2022-08-27T17:48:08.617Z"
   },
   {
    "duration": 12,
    "start_time": "2022-08-27T17:48:08.761Z"
   },
   {
    "duration": 11,
    "start_time": "2022-08-27T17:48:08.774Z"
   },
   {
    "duration": 9,
    "start_time": "2022-08-27T17:48:08.786Z"
   },
   {
    "duration": 14,
    "start_time": "2022-08-27T17:48:08.797Z"
   },
   {
    "duration": 8,
    "start_time": "2022-08-27T17:48:08.813Z"
   },
   {
    "duration": 20,
    "start_time": "2022-08-27T17:48:08.823Z"
   },
   {
    "duration": 28,
    "start_time": "2022-08-27T17:48:08.845Z"
   },
   {
    "duration": 9,
    "start_time": "2022-08-27T17:48:08.876Z"
   },
   {
    "duration": 31671,
    "start_time": "2022-08-27T17:48:08.887Z"
   },
   {
    "duration": 12,
    "start_time": "2022-08-27T17:48:40.567Z"
   },
   {
    "duration": 9,
    "start_time": "2022-08-27T17:48:40.581Z"
   },
   {
    "duration": 146,
    "start_time": "2022-08-27T17:48:40.592Z"
   },
   {
    "duration": 137,
    "start_time": "2022-08-27T17:48:40.739Z"
   },
   {
    "duration": 6,
    "start_time": "2022-08-27T17:48:40.878Z"
   },
   {
    "duration": 4,
    "start_time": "2022-08-27T17:48:40.886Z"
   },
   {
    "duration": 14,
    "start_time": "2022-08-27T17:48:40.891Z"
   },
   {
    "duration": 5,
    "start_time": "2022-08-27T17:48:40.907Z"
   },
   {
    "duration": 7,
    "start_time": "2022-08-27T17:48:40.913Z"
   },
   {
    "duration": 13963,
    "start_time": "2022-08-27T17:48:40.922Z"
   },
   {
    "duration": 13,
    "start_time": "2022-08-27T17:48:54.887Z"
   },
   {
    "duration": 9,
    "start_time": "2022-08-27T17:48:54.902Z"
   },
   {
    "duration": 163,
    "start_time": "2022-08-27T17:48:54.913Z"
   },
   {
    "duration": 136,
    "start_time": "2022-08-27T17:48:55.078Z"
   },
   {
    "duration": 6,
    "start_time": "2022-08-27T17:48:55.216Z"
   },
   {
    "duration": 38,
    "start_time": "2022-08-27T17:48:55.224Z"
   },
   {
    "duration": 27,
    "start_time": "2022-08-27T17:48:55.264Z"
   },
   {
    "duration": 116,
    "start_time": "2022-08-27T17:48:55.293Z"
   },
   {
    "duration": 5,
    "start_time": "2022-08-27T17:48:55.411Z"
   },
   {
    "duration": 20,
    "start_time": "2022-08-27T17:48:55.418Z"
   },
   {
    "duration": 6,
    "start_time": "2022-08-27T17:48:55.440Z"
   },
   {
    "duration": 22,
    "start_time": "2022-08-27T17:48:55.448Z"
   },
   {
    "duration": 146,
    "start_time": "2022-08-27T17:48:55.472Z"
   },
   {
    "duration": 134,
    "start_time": "2022-08-27T17:48:55.624Z"
   },
   {
    "duration": 6,
    "start_time": "2022-08-27T17:48:55.767Z"
   },
   {
    "duration": 165,
    "start_time": "2022-08-27T17:48:55.775Z"
   },
   {
    "duration": 12,
    "start_time": "2022-08-27T17:48:55.942Z"
   },
   {
    "duration": 415,
    "start_time": "2022-08-27T17:48:55.967Z"
   },
   {
    "duration": 64,
    "start_time": "2022-08-28T14:39:53.071Z"
   },
   {
    "duration": 1694,
    "start_time": "2022-08-28T14:39:56.291Z"
   },
   {
    "duration": 593,
    "start_time": "2022-08-28T14:39:58.443Z"
   },
   {
    "duration": 137,
    "start_time": "2022-08-28T14:43:44.242Z"
   },
   {
    "duration": 90,
    "start_time": "2022-08-28T14:44:13.146Z"
   },
   {
    "duration": 14,
    "start_time": "2022-08-28T14:44:15.837Z"
   },
   {
    "duration": 1566,
    "start_time": "2022-10-25T14:17:51.962Z"
   },
   {
    "duration": 8,
    "start_time": "2022-10-25T14:23:31.951Z"
   }
  ],
  "kernelspec": {
   "display_name": "Python 3",
   "language": "python",
   "name": "python3"
  },
  "language_info": {
   "codemirror_mode": {
    "name": "ipython",
    "version": 3
   },
   "file_extension": ".py",
   "mimetype": "text/x-python",
   "name": "python",
   "nbconvert_exporter": "python",
   "pygments_lexer": "ipython3",
   "version": "3.8.8"
  },
  "toc": {
   "base_numbering": 1,
   "nav_menu": {},
   "number_sections": true,
   "sideBar": true,
   "skip_h1_title": true,
   "title_cell": "Содержание",
   "title_sidebar": "Contents",
   "toc_cell": true,
   "toc_position": {
    "height": "calc(100% - 180px)",
    "left": "10px",
    "top": "150px",
    "width": "285.426px"
   },
   "toc_section_display": true,
   "toc_window_display": true
  }
 },
 "nbformat": 4,
 "nbformat_minor": 2
}
